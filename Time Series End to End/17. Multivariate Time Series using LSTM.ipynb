{
 "cells": [
  {
   "cell_type": "markdown",
   "metadata": {},
   "source": [
    "# Multivariate Time Series using LSTM"
   ]
  },
  {
   "cell_type": "code",
   "execution_count": 69,
   "metadata": {},
   "outputs": [],
   "source": [
    "import numpy as np\n",
    "import pandas as pd\n",
    "import seaborn as sns\n",
    "import matplotlib.pyplot as plt\n",
    "import matplotlib as mp\n",
    "%matplotlib inline\n",
    "\n",
    "import tensorflow as tf\n",
    "from tensorflow.keras.preprocessing.sequence import TimeseriesGenerator\n",
    "from sklearn.preprocessing import StandardScaler, MinMaxScaler\n",
    "from sklearn.model_selection import train_test_split\n",
    "\n",
    "mp.rcParams['figure.figsize'] = (12,6)\n",
    "mp.rcParams['axes.grid'] = False"
   ]
  },
  {
   "cell_type": "code",
   "execution_count": 70,
   "metadata": {},
   "outputs": [
    {
     "data": {
      "text/html": [
       "<div>\n",
       "<style scoped>\n",
       "    .dataframe tbody tr th:only-of-type {\n",
       "        vertical-align: middle;\n",
       "    }\n",
       "\n",
       "    .dataframe tbody tr th {\n",
       "        vertical-align: top;\n",
       "    }\n",
       "\n",
       "    .dataframe thead th {\n",
       "        text-align: right;\n",
       "    }\n",
       "</style>\n",
       "<table border=\"1\" class=\"dataframe\">\n",
       "  <thead>\n",
       "    <tr style=\"text-align: right;\">\n",
       "      <th></th>\n",
       "      <th>date</th>\n",
       "      <th>Appliances</th>\n",
       "      <th>lights</th>\n",
       "      <th>T1</th>\n",
       "      <th>RH_1</th>\n",
       "      <th>T2</th>\n",
       "      <th>RH_2</th>\n",
       "      <th>T3</th>\n",
       "      <th>RH_3</th>\n",
       "      <th>T4</th>\n",
       "      <th>...</th>\n",
       "      <th>T9</th>\n",
       "      <th>RH_9</th>\n",
       "      <th>T_out</th>\n",
       "      <th>Press_mm_hg</th>\n",
       "      <th>RH_out</th>\n",
       "      <th>Windspeed</th>\n",
       "      <th>Visibility</th>\n",
       "      <th>Tdewpoint</th>\n",
       "      <th>rv1</th>\n",
       "      <th>rv2</th>\n",
       "    </tr>\n",
       "  </thead>\n",
       "  <tbody>\n",
       "    <tr>\n",
       "      <th>0</th>\n",
       "      <td>2016-01-11 17:00:00</td>\n",
       "      <td>60</td>\n",
       "      <td>30</td>\n",
       "      <td>19.890000</td>\n",
       "      <td>47.596667</td>\n",
       "      <td>19.200000</td>\n",
       "      <td>44.790000</td>\n",
       "      <td>19.790000</td>\n",
       "      <td>44.730000</td>\n",
       "      <td>19.000000</td>\n",
       "      <td>...</td>\n",
       "      <td>17.033333</td>\n",
       "      <td>45.5300</td>\n",
       "      <td>6.600000</td>\n",
       "      <td>733.5</td>\n",
       "      <td>92.000000</td>\n",
       "      <td>7.000000</td>\n",
       "      <td>63.000000</td>\n",
       "      <td>5.300000</td>\n",
       "      <td>13.275433</td>\n",
       "      <td>13.275433</td>\n",
       "    </tr>\n",
       "    <tr>\n",
       "      <th>1</th>\n",
       "      <td>2016-01-11 17:10:00</td>\n",
       "      <td>60</td>\n",
       "      <td>30</td>\n",
       "      <td>19.890000</td>\n",
       "      <td>46.693333</td>\n",
       "      <td>19.200000</td>\n",
       "      <td>44.722500</td>\n",
       "      <td>19.790000</td>\n",
       "      <td>44.790000</td>\n",
       "      <td>19.000000</td>\n",
       "      <td>...</td>\n",
       "      <td>17.066667</td>\n",
       "      <td>45.5600</td>\n",
       "      <td>6.483333</td>\n",
       "      <td>733.6</td>\n",
       "      <td>92.000000</td>\n",
       "      <td>6.666667</td>\n",
       "      <td>59.166667</td>\n",
       "      <td>5.200000</td>\n",
       "      <td>18.606195</td>\n",
       "      <td>18.606195</td>\n",
       "    </tr>\n",
       "    <tr>\n",
       "      <th>2</th>\n",
       "      <td>2016-01-11 17:20:00</td>\n",
       "      <td>50</td>\n",
       "      <td>30</td>\n",
       "      <td>19.890000</td>\n",
       "      <td>46.300000</td>\n",
       "      <td>19.200000</td>\n",
       "      <td>44.626667</td>\n",
       "      <td>19.790000</td>\n",
       "      <td>44.933333</td>\n",
       "      <td>18.926667</td>\n",
       "      <td>...</td>\n",
       "      <td>17.000000</td>\n",
       "      <td>45.5000</td>\n",
       "      <td>6.366667</td>\n",
       "      <td>733.7</td>\n",
       "      <td>92.000000</td>\n",
       "      <td>6.333333</td>\n",
       "      <td>55.333333</td>\n",
       "      <td>5.100000</td>\n",
       "      <td>28.642668</td>\n",
       "      <td>28.642668</td>\n",
       "    </tr>\n",
       "    <tr>\n",
       "      <th>3</th>\n",
       "      <td>2016-01-11 17:30:00</td>\n",
       "      <td>50</td>\n",
       "      <td>40</td>\n",
       "      <td>19.890000</td>\n",
       "      <td>46.066667</td>\n",
       "      <td>19.200000</td>\n",
       "      <td>44.590000</td>\n",
       "      <td>19.790000</td>\n",
       "      <td>45.000000</td>\n",
       "      <td>18.890000</td>\n",
       "      <td>...</td>\n",
       "      <td>17.000000</td>\n",
       "      <td>45.4000</td>\n",
       "      <td>6.250000</td>\n",
       "      <td>733.8</td>\n",
       "      <td>92.000000</td>\n",
       "      <td>6.000000</td>\n",
       "      <td>51.500000</td>\n",
       "      <td>5.000000</td>\n",
       "      <td>45.410389</td>\n",
       "      <td>45.410389</td>\n",
       "    </tr>\n",
       "    <tr>\n",
       "      <th>4</th>\n",
       "      <td>2016-01-11 17:40:00</td>\n",
       "      <td>60</td>\n",
       "      <td>40</td>\n",
       "      <td>19.890000</td>\n",
       "      <td>46.333333</td>\n",
       "      <td>19.200000</td>\n",
       "      <td>44.530000</td>\n",
       "      <td>19.790000</td>\n",
       "      <td>45.000000</td>\n",
       "      <td>18.890000</td>\n",
       "      <td>...</td>\n",
       "      <td>17.000000</td>\n",
       "      <td>45.4000</td>\n",
       "      <td>6.133333</td>\n",
       "      <td>733.9</td>\n",
       "      <td>92.000000</td>\n",
       "      <td>5.666667</td>\n",
       "      <td>47.666667</td>\n",
       "      <td>4.900000</td>\n",
       "      <td>10.084097</td>\n",
       "      <td>10.084097</td>\n",
       "    </tr>\n",
       "    <tr>\n",
       "      <th>...</th>\n",
       "      <td>...</td>\n",
       "      <td>...</td>\n",
       "      <td>...</td>\n",
       "      <td>...</td>\n",
       "      <td>...</td>\n",
       "      <td>...</td>\n",
       "      <td>...</td>\n",
       "      <td>...</td>\n",
       "      <td>...</td>\n",
       "      <td>...</td>\n",
       "      <td>...</td>\n",
       "      <td>...</td>\n",
       "      <td>...</td>\n",
       "      <td>...</td>\n",
       "      <td>...</td>\n",
       "      <td>...</td>\n",
       "      <td>...</td>\n",
       "      <td>...</td>\n",
       "      <td>...</td>\n",
       "      <td>...</td>\n",
       "      <td>...</td>\n",
       "    </tr>\n",
       "    <tr>\n",
       "      <th>19730</th>\n",
       "      <td>2016-05-27 17:20:00</td>\n",
       "      <td>100</td>\n",
       "      <td>0</td>\n",
       "      <td>25.566667</td>\n",
       "      <td>46.560000</td>\n",
       "      <td>25.890000</td>\n",
       "      <td>42.025714</td>\n",
       "      <td>27.200000</td>\n",
       "      <td>41.163333</td>\n",
       "      <td>24.700000</td>\n",
       "      <td>...</td>\n",
       "      <td>23.200000</td>\n",
       "      <td>46.7900</td>\n",
       "      <td>22.733333</td>\n",
       "      <td>755.2</td>\n",
       "      <td>55.666667</td>\n",
       "      <td>3.333333</td>\n",
       "      <td>23.666667</td>\n",
       "      <td>13.333333</td>\n",
       "      <td>43.096812</td>\n",
       "      <td>43.096812</td>\n",
       "    </tr>\n",
       "    <tr>\n",
       "      <th>19731</th>\n",
       "      <td>2016-05-27 17:30:00</td>\n",
       "      <td>90</td>\n",
       "      <td>0</td>\n",
       "      <td>25.500000</td>\n",
       "      <td>46.500000</td>\n",
       "      <td>25.754000</td>\n",
       "      <td>42.080000</td>\n",
       "      <td>27.133333</td>\n",
       "      <td>41.223333</td>\n",
       "      <td>24.700000</td>\n",
       "      <td>...</td>\n",
       "      <td>23.200000</td>\n",
       "      <td>46.7900</td>\n",
       "      <td>22.600000</td>\n",
       "      <td>755.2</td>\n",
       "      <td>56.000000</td>\n",
       "      <td>3.500000</td>\n",
       "      <td>24.500000</td>\n",
       "      <td>13.300000</td>\n",
       "      <td>49.282940</td>\n",
       "      <td>49.282940</td>\n",
       "    </tr>\n",
       "    <tr>\n",
       "      <th>19732</th>\n",
       "      <td>2016-05-27 17:40:00</td>\n",
       "      <td>270</td>\n",
       "      <td>10</td>\n",
       "      <td>25.500000</td>\n",
       "      <td>46.596667</td>\n",
       "      <td>25.628571</td>\n",
       "      <td>42.768571</td>\n",
       "      <td>27.050000</td>\n",
       "      <td>41.690000</td>\n",
       "      <td>24.700000</td>\n",
       "      <td>...</td>\n",
       "      <td>23.200000</td>\n",
       "      <td>46.7900</td>\n",
       "      <td>22.466667</td>\n",
       "      <td>755.2</td>\n",
       "      <td>56.333333</td>\n",
       "      <td>3.666667</td>\n",
       "      <td>25.333333</td>\n",
       "      <td>13.266667</td>\n",
       "      <td>29.199117</td>\n",
       "      <td>29.199117</td>\n",
       "    </tr>\n",
       "    <tr>\n",
       "      <th>19733</th>\n",
       "      <td>2016-05-27 17:50:00</td>\n",
       "      <td>420</td>\n",
       "      <td>10</td>\n",
       "      <td>25.500000</td>\n",
       "      <td>46.990000</td>\n",
       "      <td>25.414000</td>\n",
       "      <td>43.036000</td>\n",
       "      <td>26.890000</td>\n",
       "      <td>41.290000</td>\n",
       "      <td>24.700000</td>\n",
       "      <td>...</td>\n",
       "      <td>23.200000</td>\n",
       "      <td>46.8175</td>\n",
       "      <td>22.333333</td>\n",
       "      <td>755.2</td>\n",
       "      <td>56.666667</td>\n",
       "      <td>3.833333</td>\n",
       "      <td>26.166667</td>\n",
       "      <td>13.233333</td>\n",
       "      <td>6.322784</td>\n",
       "      <td>6.322784</td>\n",
       "    </tr>\n",
       "    <tr>\n",
       "      <th>19734</th>\n",
       "      <td>2016-05-27 18:00:00</td>\n",
       "      <td>430</td>\n",
       "      <td>10</td>\n",
       "      <td>25.500000</td>\n",
       "      <td>46.600000</td>\n",
       "      <td>25.264286</td>\n",
       "      <td>42.971429</td>\n",
       "      <td>26.823333</td>\n",
       "      <td>41.156667</td>\n",
       "      <td>24.700000</td>\n",
       "      <td>...</td>\n",
       "      <td>23.200000</td>\n",
       "      <td>46.8450</td>\n",
       "      <td>22.200000</td>\n",
       "      <td>755.2</td>\n",
       "      <td>57.000000</td>\n",
       "      <td>4.000000</td>\n",
       "      <td>27.000000</td>\n",
       "      <td>13.200000</td>\n",
       "      <td>34.118851</td>\n",
       "      <td>34.118851</td>\n",
       "    </tr>\n",
       "  </tbody>\n",
       "</table>\n",
       "<p>19735 rows × 29 columns</p>\n",
       "</div>"
      ],
      "text/plain": [
       "                      date  Appliances  lights         T1       RH_1  \\\n",
       "0      2016-01-11 17:00:00          60      30  19.890000  47.596667   \n",
       "1      2016-01-11 17:10:00          60      30  19.890000  46.693333   \n",
       "2      2016-01-11 17:20:00          50      30  19.890000  46.300000   \n",
       "3      2016-01-11 17:30:00          50      40  19.890000  46.066667   \n",
       "4      2016-01-11 17:40:00          60      40  19.890000  46.333333   \n",
       "...                    ...         ...     ...        ...        ...   \n",
       "19730  2016-05-27 17:20:00         100       0  25.566667  46.560000   \n",
       "19731  2016-05-27 17:30:00          90       0  25.500000  46.500000   \n",
       "19732  2016-05-27 17:40:00         270      10  25.500000  46.596667   \n",
       "19733  2016-05-27 17:50:00         420      10  25.500000  46.990000   \n",
       "19734  2016-05-27 18:00:00         430      10  25.500000  46.600000   \n",
       "\n",
       "              T2       RH_2         T3       RH_3         T4  ...         T9  \\\n",
       "0      19.200000  44.790000  19.790000  44.730000  19.000000  ...  17.033333   \n",
       "1      19.200000  44.722500  19.790000  44.790000  19.000000  ...  17.066667   \n",
       "2      19.200000  44.626667  19.790000  44.933333  18.926667  ...  17.000000   \n",
       "3      19.200000  44.590000  19.790000  45.000000  18.890000  ...  17.000000   \n",
       "4      19.200000  44.530000  19.790000  45.000000  18.890000  ...  17.000000   \n",
       "...          ...        ...        ...        ...        ...  ...        ...   \n",
       "19730  25.890000  42.025714  27.200000  41.163333  24.700000  ...  23.200000   \n",
       "19731  25.754000  42.080000  27.133333  41.223333  24.700000  ...  23.200000   \n",
       "19732  25.628571  42.768571  27.050000  41.690000  24.700000  ...  23.200000   \n",
       "19733  25.414000  43.036000  26.890000  41.290000  24.700000  ...  23.200000   \n",
       "19734  25.264286  42.971429  26.823333  41.156667  24.700000  ...  23.200000   \n",
       "\n",
       "          RH_9      T_out  Press_mm_hg     RH_out  Windspeed  Visibility  \\\n",
       "0      45.5300   6.600000        733.5  92.000000   7.000000   63.000000   \n",
       "1      45.5600   6.483333        733.6  92.000000   6.666667   59.166667   \n",
       "2      45.5000   6.366667        733.7  92.000000   6.333333   55.333333   \n",
       "3      45.4000   6.250000        733.8  92.000000   6.000000   51.500000   \n",
       "4      45.4000   6.133333        733.9  92.000000   5.666667   47.666667   \n",
       "...        ...        ...          ...        ...        ...         ...   \n",
       "19730  46.7900  22.733333        755.2  55.666667   3.333333   23.666667   \n",
       "19731  46.7900  22.600000        755.2  56.000000   3.500000   24.500000   \n",
       "19732  46.7900  22.466667        755.2  56.333333   3.666667   25.333333   \n",
       "19733  46.8175  22.333333        755.2  56.666667   3.833333   26.166667   \n",
       "19734  46.8450  22.200000        755.2  57.000000   4.000000   27.000000   \n",
       "\n",
       "       Tdewpoint        rv1        rv2  \n",
       "0       5.300000  13.275433  13.275433  \n",
       "1       5.200000  18.606195  18.606195  \n",
       "2       5.100000  28.642668  28.642668  \n",
       "3       5.000000  45.410389  45.410389  \n",
       "4       4.900000  10.084097  10.084097  \n",
       "...          ...        ...        ...  \n",
       "19730  13.333333  43.096812  43.096812  \n",
       "19731  13.300000  49.282940  49.282940  \n",
       "19732  13.266667  29.199117  29.199117  \n",
       "19733  13.233333   6.322784   6.322784  \n",
       "19734  13.200000  34.118851  34.118851  \n",
       "\n",
       "[19735 rows x 29 columns]"
      ]
     },
     "execution_count": 70,
     "metadata": {},
     "output_type": "execute_result"
    }
   ],
   "source": [
    "df = pd.read_csv('energydata_complete.csv')\n",
    "df"
   ]
  },
  {
   "cell_type": "markdown",
   "metadata": {},
   "source": [
    "### Data is collected every 10 minutes"
   ]
  },
  {
   "cell_type": "code",
   "execution_count": 71,
   "metadata": {
    "scrolled": true
   },
   "outputs": [
    {
     "name": "stdout",
     "output_type": "stream",
     "text": [
      "<class 'pandas.core.frame.DataFrame'>\n",
      "RangeIndex: 19735 entries, 0 to 19734\n",
      "Data columns (total 29 columns):\n",
      " #   Column       Non-Null Count  Dtype  \n",
      "---  ------       --------------  -----  \n",
      " 0   date         19735 non-null  object \n",
      " 1   Appliances   19735 non-null  int64  \n",
      " 2   lights       19735 non-null  int64  \n",
      " 3   T1           19735 non-null  float64\n",
      " 4   RH_1         19735 non-null  float64\n",
      " 5   T2           19735 non-null  float64\n",
      " 6   RH_2         19735 non-null  float64\n",
      " 7   T3           19735 non-null  float64\n",
      " 8   RH_3         19735 non-null  float64\n",
      " 9   T4           19735 non-null  float64\n",
      " 10  RH_4         19735 non-null  float64\n",
      " 11  T5           19735 non-null  float64\n",
      " 12  RH_5         19735 non-null  float64\n",
      " 13  T6           19735 non-null  float64\n",
      " 14  RH_6         19735 non-null  float64\n",
      " 15  T7           19735 non-null  float64\n",
      " 16  RH_7         19735 non-null  float64\n",
      " 17  T8           19735 non-null  float64\n",
      " 18  RH_8         19735 non-null  float64\n",
      " 19  T9           19735 non-null  float64\n",
      " 20  RH_9         19735 non-null  float64\n",
      " 21  T_out        19735 non-null  float64\n",
      " 22  Press_mm_hg  19735 non-null  float64\n",
      " 23  RH_out       19735 non-null  float64\n",
      " 24  Windspeed    19735 non-null  float64\n",
      " 25  Visibility   19735 non-null  float64\n",
      " 26  Tdewpoint    19735 non-null  float64\n",
      " 27  rv1          19735 non-null  float64\n",
      " 28  rv2          19735 non-null  float64\n",
      "dtypes: float64(26), int64(2), object(1)\n",
      "memory usage: 4.4+ MB\n"
     ]
    }
   ],
   "source": [
    "df.info()"
   ]
  },
  {
   "cell_type": "markdown",
   "metadata": {},
   "source": [
    "### Converting date column into datetime column"
   ]
  },
  {
   "cell_type": "code",
   "execution_count": 72,
   "metadata": {},
   "outputs": [],
   "source": [
    "df['date'] = pd.to_datetime(df['date'])"
   ]
  },
  {
   "cell_type": "markdown",
   "metadata": {},
   "source": [
    "### Plotting "
   ]
  },
  {
   "cell_type": "code",
   "execution_count": 11,
   "metadata": {},
   "outputs": [
    {
     "data": {
      "text/plain": [
       "array([<AxesSubplot:xlabel='date'>, <AxesSubplot:xlabel='date'>,\n",
       "       <AxesSubplot:xlabel='date'>, <AxesSubplot:xlabel='date'>,\n",
       "       <AxesSubplot:xlabel='date'>], dtype=object)"
      ]
     },
     "execution_count": 11,
     "metadata": {},
     "output_type": "execute_result"
    },
    {
     "data": {
      "image/png": "[encoded data removed]",
      "text/plain": [
       "<Figure size 864x432 with 5 Axes>"
      ]
     },
     "metadata": {
      "needs_background": "light"
     },
     "output_type": "display_data"
    }
   ],
   "source": [
    "df.set_index('date')[['Appliances', 'lights', 'T_out', 'RH_1', 'Visibility']].plot(subplots=True)"
   ]
  },
  {
   "cell_type": "markdown",
   "metadata": {},
   "source": [
    "# Taking few columns for the multivariate analysis"
   ]
  },
  {
   "cell_type": "code",
   "execution_count": 73,
   "metadata": {},
   "outputs": [
    {
     "data": {
      "text/html": [
       "<div>\n",
       "<style scoped>\n",
       "    .dataframe tbody tr th:only-of-type {\n",
       "        vertical-align: middle;\n",
       "    }\n",
       "\n",
       "    .dataframe tbody tr th {\n",
       "        vertical-align: top;\n",
       "    }\n",
       "\n",
       "    .dataframe thead th {\n",
       "        text-align: right;\n",
       "    }\n",
       "</style>\n",
       "<table border=\"1\" class=\"dataframe\">\n",
       "  <thead>\n",
       "    <tr style=\"text-align: right;\">\n",
       "      <th></th>\n",
       "      <th>Appliances</th>\n",
       "      <th>T_out</th>\n",
       "      <th>RH_1</th>\n",
       "      <th>Visibility</th>\n",
       "    </tr>\n",
       "  </thead>\n",
       "  <tbody>\n",
       "    <tr>\n",
       "      <th>0</th>\n",
       "      <td>60</td>\n",
       "      <td>6.600000</td>\n",
       "      <td>47.596667</td>\n",
       "      <td>63.000000</td>\n",
       "    </tr>\n",
       "    <tr>\n",
       "      <th>1</th>\n",
       "      <td>60</td>\n",
       "      <td>6.483333</td>\n",
       "      <td>46.693333</td>\n",
       "      <td>59.166667</td>\n",
       "    </tr>\n",
       "    <tr>\n",
       "      <th>2</th>\n",
       "      <td>50</td>\n",
       "      <td>6.366667</td>\n",
       "      <td>46.300000</td>\n",
       "      <td>55.333333</td>\n",
       "    </tr>\n",
       "    <tr>\n",
       "      <th>3</th>\n",
       "      <td>50</td>\n",
       "      <td>6.250000</td>\n",
       "      <td>46.066667</td>\n",
       "      <td>51.500000</td>\n",
       "    </tr>\n",
       "    <tr>\n",
       "      <th>4</th>\n",
       "      <td>60</td>\n",
       "      <td>6.133333</td>\n",
       "      <td>46.333333</td>\n",
       "      <td>47.666667</td>\n",
       "    </tr>\n",
       "    <tr>\n",
       "      <th>...</th>\n",
       "      <td>...</td>\n",
       "      <td>...</td>\n",
       "      <td>...</td>\n",
       "      <td>...</td>\n",
       "    </tr>\n",
       "    <tr>\n",
       "      <th>19730</th>\n",
       "      <td>100</td>\n",
       "      <td>22.733333</td>\n",
       "      <td>46.560000</td>\n",
       "      <td>23.666667</td>\n",
       "    </tr>\n",
       "    <tr>\n",
       "      <th>19731</th>\n",
       "      <td>90</td>\n",
       "      <td>22.600000</td>\n",
       "      <td>46.500000</td>\n",
       "      <td>24.500000</td>\n",
       "    </tr>\n",
       "    <tr>\n",
       "      <th>19732</th>\n",
       "      <td>270</td>\n",
       "      <td>22.466667</td>\n",
       "      <td>46.596667</td>\n",
       "      <td>25.333333</td>\n",
       "    </tr>\n",
       "    <tr>\n",
       "      <th>19733</th>\n",
       "      <td>420</td>\n",
       "      <td>22.333333</td>\n",
       "      <td>46.990000</td>\n",
       "      <td>26.166667</td>\n",
       "    </tr>\n",
       "    <tr>\n",
       "      <th>19734</th>\n",
       "      <td>430</td>\n",
       "      <td>22.200000</td>\n",
       "      <td>46.600000</td>\n",
       "      <td>27.000000</td>\n",
       "    </tr>\n",
       "  </tbody>\n",
       "</table>\n",
       "<p>19735 rows × 4 columns</p>\n",
       "</div>"
      ],
      "text/plain": [
       "       Appliances      T_out       RH_1  Visibility\n",
       "0              60   6.600000  47.596667   63.000000\n",
       "1              60   6.483333  46.693333   59.166667\n",
       "2              50   6.366667  46.300000   55.333333\n",
       "3              50   6.250000  46.066667   51.500000\n",
       "4              60   6.133333  46.333333   47.666667\n",
       "...           ...        ...        ...         ...\n",
       "19730         100  22.733333  46.560000   23.666667\n",
       "19731          90  22.600000  46.500000   24.500000\n",
       "19732         270  22.466667  46.596667   25.333333\n",
       "19733         420  22.333333  46.990000   26.166667\n",
       "19734         430  22.200000  46.600000   27.000000\n",
       "\n",
       "[19735 rows x 4 columns]"
      ]
     },
     "execution_count": 73,
     "metadata": {},
     "output_type": "execute_result"
    }
   ],
   "source": [
    "df_input = df[['Appliances', 'T_out', 'RH_1', 'Visibility']]\n",
    "df_input"
   ]
  },
  {
   "cell_type": "code",
   "execution_count": 74,
   "metadata": {},
   "outputs": [
    {
     "data": {
      "text/html": [
       "<div>\n",
       "<style scoped>\n",
       "    .dataframe tbody tr th:only-of-type {\n",
       "        vertical-align: middle;\n",
       "    }\n",
       "\n",
       "    .dataframe tbody tr th {\n",
       "        vertical-align: top;\n",
       "    }\n",
       "\n",
       "    .dataframe thead th {\n",
       "        text-align: right;\n",
       "    }\n",
       "</style>\n",
       "<table border=\"1\" class=\"dataframe\">\n",
       "  <thead>\n",
       "    <tr style=\"text-align: right;\">\n",
       "      <th></th>\n",
       "      <th>Appliances</th>\n",
       "      <th>T_out</th>\n",
       "      <th>RH_1</th>\n",
       "      <th>Visibility</th>\n",
       "    </tr>\n",
       "  </thead>\n",
       "  <tbody>\n",
       "    <tr>\n",
       "      <th>count</th>\n",
       "      <td>19735.000000</td>\n",
       "      <td>19735.000000</td>\n",
       "      <td>19735.000000</td>\n",
       "      <td>19735.000000</td>\n",
       "    </tr>\n",
       "    <tr>\n",
       "      <th>mean</th>\n",
       "      <td>97.694958</td>\n",
       "      <td>7.411665</td>\n",
       "      <td>40.259739</td>\n",
       "      <td>38.330834</td>\n",
       "    </tr>\n",
       "    <tr>\n",
       "      <th>std</th>\n",
       "      <td>102.524891</td>\n",
       "      <td>5.317409</td>\n",
       "      <td>3.979299</td>\n",
       "      <td>11.794719</td>\n",
       "    </tr>\n",
       "    <tr>\n",
       "      <th>min</th>\n",
       "      <td>10.000000</td>\n",
       "      <td>-5.000000</td>\n",
       "      <td>27.023333</td>\n",
       "      <td>1.000000</td>\n",
       "    </tr>\n",
       "    <tr>\n",
       "      <th>25%</th>\n",
       "      <td>50.000000</td>\n",
       "      <td>3.666667</td>\n",
       "      <td>37.333333</td>\n",
       "      <td>29.000000</td>\n",
       "    </tr>\n",
       "    <tr>\n",
       "      <th>50%</th>\n",
       "      <td>60.000000</td>\n",
       "      <td>6.916667</td>\n",
       "      <td>39.656667</td>\n",
       "      <td>40.000000</td>\n",
       "    </tr>\n",
       "    <tr>\n",
       "      <th>75%</th>\n",
       "      <td>100.000000</td>\n",
       "      <td>10.408333</td>\n",
       "      <td>43.066667</td>\n",
       "      <td>40.000000</td>\n",
       "    </tr>\n",
       "    <tr>\n",
       "      <th>max</th>\n",
       "      <td>1080.000000</td>\n",
       "      <td>26.100000</td>\n",
       "      <td>63.360000</td>\n",
       "      <td>66.000000</td>\n",
       "    </tr>\n",
       "  </tbody>\n",
       "</table>\n",
       "</div>"
      ],
      "text/plain": [
       "         Appliances         T_out          RH_1    Visibility\n",
       "count  19735.000000  19735.000000  19735.000000  19735.000000\n",
       "mean      97.694958      7.411665     40.259739     38.330834\n",
       "std      102.524891      5.317409      3.979299     11.794719\n",
       "min       10.000000     -5.000000     27.023333      1.000000\n",
       "25%       50.000000      3.666667     37.333333     29.000000\n",
       "50%       60.000000      6.916667     39.656667     40.000000\n",
       "75%      100.000000     10.408333     43.066667     40.000000\n",
       "max     1080.000000     26.100000     63.360000     66.000000"
      ]
     },
     "execution_count": 74,
     "metadata": {},
     "output_type": "execute_result"
    }
   ],
   "source": [
    "df_input.describe()"
   ]
  },
  {
   "cell_type": "markdown",
   "metadata": {},
   "source": [
    "### Filtering the data where Appliances > 500"
   ]
  },
  {
   "cell_type": "code",
   "execution_count": 75,
   "metadata": {},
   "outputs": [
    {
     "data": {
      "text/html": [
       "<div>\n",
       "<style scoped>\n",
       "    .dataframe tbody tr th:only-of-type {\n",
       "        vertical-align: middle;\n",
       "    }\n",
       "\n",
       "    .dataframe tbody tr th {\n",
       "        vertical-align: top;\n",
       "    }\n",
       "\n",
       "    .dataframe thead th {\n",
       "        text-align: right;\n",
       "    }\n",
       "</style>\n",
       "<table border=\"1\" class=\"dataframe\">\n",
       "  <thead>\n",
       "    <tr style=\"text-align: right;\">\n",
       "      <th></th>\n",
       "      <th>Appliances</th>\n",
       "      <th>T_out</th>\n",
       "      <th>RH_1</th>\n",
       "      <th>Visibility</th>\n",
       "    </tr>\n",
       "  </thead>\n",
       "  <tbody>\n",
       "    <tr>\n",
       "      <th>11</th>\n",
       "      <td>580</td>\n",
       "      <td>5.983333</td>\n",
       "      <td>46.396667</td>\n",
       "      <td>40.000000</td>\n",
       "    </tr>\n",
       "    <tr>\n",
       "      <th>314</th>\n",
       "      <td>520</td>\n",
       "      <td>2.900000</td>\n",
       "      <td>41.530000</td>\n",
       "      <td>36.333333</td>\n",
       "    </tr>\n",
       "    <tr>\n",
       "      <th>392</th>\n",
       "      <td>550</td>\n",
       "      <td>2.033333</td>\n",
       "      <td>43.433333</td>\n",
       "      <td>40.000000</td>\n",
       "    </tr>\n",
       "    <tr>\n",
       "      <th>393</th>\n",
       "      <td>690</td>\n",
       "      <td>2.100000</td>\n",
       "      <td>43.766667</td>\n",
       "      <td>40.000000</td>\n",
       "    </tr>\n",
       "    <tr>\n",
       "      <th>394</th>\n",
       "      <td>620</td>\n",
       "      <td>2.166667</td>\n",
       "      <td>43.693333</td>\n",
       "      <td>40.000000</td>\n",
       "    </tr>\n",
       "    <tr>\n",
       "      <th>...</th>\n",
       "      <td>...</td>\n",
       "      <td>...</td>\n",
       "      <td>...</td>\n",
       "      <td>...</td>\n",
       "    </tr>\n",
       "    <tr>\n",
       "      <th>19586</th>\n",
       "      <td>600</td>\n",
       "      <td>20.833333</td>\n",
       "      <td>44.066667</td>\n",
       "      <td>40.000000</td>\n",
       "    </tr>\n",
       "    <tr>\n",
       "      <th>19587</th>\n",
       "      <td>520</td>\n",
       "      <td>20.900000</td>\n",
       "      <td>43.366667</td>\n",
       "      <td>40.000000</td>\n",
       "    </tr>\n",
       "    <tr>\n",
       "      <th>19684</th>\n",
       "      <td>580</td>\n",
       "      <td>15.900000</td>\n",
       "      <td>47.226667</td>\n",
       "      <td>61.000000</td>\n",
       "    </tr>\n",
       "    <tr>\n",
       "      <th>19685</th>\n",
       "      <td>660</td>\n",
       "      <td>16.100000</td>\n",
       "      <td>47.693333</td>\n",
       "      <td>61.000000</td>\n",
       "    </tr>\n",
       "    <tr>\n",
       "      <th>19695</th>\n",
       "      <td>620</td>\n",
       "      <td>19.100000</td>\n",
       "      <td>48.326667</td>\n",
       "      <td>64.000000</td>\n",
       "    </tr>\n",
       "  </tbody>\n",
       "</table>\n",
       "<p>288 rows × 4 columns</p>\n",
       "</div>"
      ],
      "text/plain": [
       "       Appliances      T_out       RH_1  Visibility\n",
       "11            580   5.983333  46.396667   40.000000\n",
       "314           520   2.900000  41.530000   36.333333\n",
       "392           550   2.033333  43.433333   40.000000\n",
       "393           690   2.100000  43.766667   40.000000\n",
       "394           620   2.166667  43.693333   40.000000\n",
       "...           ...        ...        ...         ...\n",
       "19586         600  20.833333  44.066667   40.000000\n",
       "19587         520  20.900000  43.366667   40.000000\n",
       "19684         580  15.900000  47.226667   61.000000\n",
       "19685         660  16.100000  47.693333   61.000000\n",
       "19695         620  19.100000  48.326667   64.000000\n",
       "\n",
       "[288 rows x 4 columns]"
      ]
     },
     "execution_count": 75,
     "metadata": {},
     "output_type": "execute_result"
    }
   ],
   "source": [
    "df_input[df_input['Appliances']>500]"
   ]
  },
  {
   "cell_type": "markdown",
   "metadata": {},
   "source": [
    "### Since our data is having the outliers so ... standard scaler wont account to outlier. Better to shift the mean and std dev. so use Min Max Scaler"
   ]
  },
  {
   "cell_type": "code",
   "execution_count": 76,
   "metadata": {},
   "outputs": [
    {
     "data": {
      "text/plain": [
       "array([[0.04672897, 0.37299035, 0.56618659, 0.95384615],\n",
       "       [0.04672897, 0.36923901, 0.54132648, 0.89487179],\n",
       "       [0.03738318, 0.36548767, 0.53050179, 0.83589744],\n",
       "       ...,\n",
       "       [0.24299065, 0.88317256, 0.53866618, 0.37435897],\n",
       "       [0.38317757, 0.87888532, 0.54949087, 0.38717949],\n",
       "       [0.39252336, 0.87459807, 0.53875791, 0.4       ]])"
      ]
     },
     "execution_count": 76,
     "metadata": {},
     "output_type": "execute_result"
    }
   ],
   "source": [
    "scaler = MinMaxScaler()\n",
    "data_scaled = scaler.fit_transform(df_input)\n",
    "data_scaled"
   ]
  },
  {
   "cell_type": "markdown",
   "metadata": {},
   "source": [
    "### So here the appliance column is also my Feature (1st column ) ... and also in my Target column"
   ]
  },
  {
   "cell_type": "code",
   "execution_count": 77,
   "metadata": {},
   "outputs": [],
   "source": [
    "features = data_scaled\n",
    "target = data_scaled[:,0]"
   ]
  },
  {
   "cell_type": "code",
   "execution_count": 79,
   "metadata": {},
   "outputs": [
    {
     "data": {
      "text/plain": [
       "(array([[[0.04672897, 0.37299035, 0.56618659, 0.95384615],\n",
       "         [0.04672897, 0.36923901, 0.54132648, 0.89487179]]]),\n",
       " array([0.03738318]))"
      ]
     },
     "execution_count": 79,
     "metadata": {},
     "output_type": "execute_result"
    }
   ],
   "source": [
    "# HERE THE WINDOW LENGTH IS 2 ... MEANS WE ARE TAKING 20 mins OF DATA HERE\n",
    "# Just a Demo of Time Series Generator in Tensorflow\n",
    "\n",
    "TimeseriesGenerator(features, target, length=2, sampling_rate=1, batch_size=1)[0] # SO HERE 2 INPUT AND 1 OUTPUT IS SHOWING"
   ]
  },
  {
   "cell_type": "markdown",
   "metadata": {},
   "source": [
    "# Train-Test Split ... just make sure shuffle is False bcoz Order is imp in Time Series"
   ]
  },
  {
   "cell_type": "code",
   "execution_count": 80,
   "metadata": {},
   "outputs": [],
   "source": [
    "x_train, x_test, y_train, y_Test = train_test_split(features, target, test_size=0.20, random_state=123, shuffle=False)"
   ]
  },
  {
   "cell_type": "code",
   "execution_count": 82,
   "metadata": {},
   "outputs": [
    {
     "name": "stdout",
     "output_type": "stream",
     "text": [
      "(15788, 4) (3947, 4)\n"
     ]
    }
   ],
   "source": [
    "print(x_train.shape, x_test.shape) # Checking the shape"
   ]
  },
  {
   "cell_type": "code",
   "execution_count": 83,
   "metadata": {},
   "outputs": [],
   "source": [
    "win_length =720 # 6 DATA POINTS IN 1 hr ... SO TAKING 5 DAYS OF DATA... 6*24*5\n",
    "batch_size = 32\n",
    "num_features = 4 # SO YOU ARE CONSIDERING 4 FEATURES IN TOTAL"
   ]
  },
  {
   "cell_type": "code",
   "execution_count": 85,
   "metadata": {},
   "outputs": [],
   "source": [
    "train_generator = TimeseriesGenerator(x_train, y_train, length=win_length, sampling_rate=1, batch_size=batch_size)\n",
    "test_generator = TimeseriesGenerator(x_test, y_Test, length=win_length, sampling_rate=1, batch_size=batch_size)"
   ]
  },
  {
   "cell_type": "code",
   "execution_count": 86,
   "metadata": {},
   "outputs": [
    {
     "data": {
      "text/plain": [
       "<tensorflow.python.keras.preprocessing.sequence.TimeseriesGenerator at 0x222628d3148>"
      ]
     },
     "execution_count": 86,
     "metadata": {},
     "output_type": "execute_result"
    }
   ],
   "source": [
    "train_generator"
   ]
  },
  {
   "cell_type": "code",
   "execution_count": 88,
   "metadata": {},
   "outputs": [
    {
     "data": {
      "text/plain": [
       "(array([[[0.04672897, 0.37299035, 0.56618659, 0.95384615],\n",
       "         [0.04672897, 0.36923901, 0.54132648, 0.89487179],\n",
       "         [0.03738318, 0.36548767, 0.53050179, 0.83589744],\n",
       "         ...,\n",
       "         [0.06542056, 0.25241158, 0.31584258, 0.79230769],\n",
       "         [0.05607477, 0.23901393, 0.31309054, 0.72820513],\n",
       "         [0.06542056, 0.22561629, 0.31107238, 0.66410256]],\n",
       " \n",
       "        [[0.04672897, 0.36923901, 0.54132648, 0.89487179],\n",
       "         [0.03738318, 0.36548767, 0.53050179, 0.83589744],\n",
       "         [0.03738318, 0.36173633, 0.52408036, 0.77692308],\n",
       "         ...,\n",
       "         [0.05607477, 0.23901393, 0.31309054, 0.72820513],\n",
       "         [0.06542056, 0.22561629, 0.31107238, 0.66410256],\n",
       "         [0.06542056, 0.21221865, 0.30923768, 0.6       ]],\n",
       " \n",
       "        [[0.03738318, 0.36548767, 0.53050179, 0.83589744],\n",
       "         [0.03738318, 0.36173633, 0.52408036, 0.77692308],\n",
       "         [0.04672897, 0.35798499, 0.53141914, 0.71794872],\n",
       "         ...,\n",
       "         [0.06542056, 0.22561629, 0.31107238, 0.66410256],\n",
       "         [0.06542056, 0.21221865, 0.30923768, 0.6       ],\n",
       "         [0.13084112, 0.2170418 , 0.3055683 , 0.6       ]],\n",
       " \n",
       "        ...,\n",
       " \n",
       "        [[0.08411215, 0.34297964, 0.50389872, 0.6       ],\n",
       "         [0.09345794, 0.34083601, 0.49821117, 0.6       ],\n",
       "         [0.36448598, 0.34244373, 0.49380791, 0.6       ],\n",
       "         ...,\n",
       "         [0.08411215, 0.17470525, 0.32134667, 0.24615385],\n",
       "         [0.09345794, 0.17524116, 0.31749381, 0.26923077],\n",
       "         [0.09345794, 0.17577706, 0.31400789, 0.29230769]],\n",
       " \n",
       "        [[0.09345794, 0.34083601, 0.49821117, 0.6       ],\n",
       "         [0.36448598, 0.34244373, 0.49380791, 0.6       ],\n",
       "         [0.36448598, 0.34405145, 0.48830383, 0.6       ],\n",
       "         ...,\n",
       "         [0.09345794, 0.17524116, 0.31749381, 0.26923077],\n",
       "         [0.09345794, 0.17577706, 0.31400789, 0.29230769],\n",
       "         [0.1682243 , 0.17631297, 0.31208146, 0.31538462]],\n",
       " \n",
       "        [[0.36448598, 0.34244373, 0.49380791, 0.6       ],\n",
       "         [0.36448598, 0.34405145, 0.48830383, 0.6       ],\n",
       "         [0.35514019, 0.34565916, 0.48261627, 0.6       ],\n",
       "         ...,\n",
       "         [0.09345794, 0.17577706, 0.31400789, 0.29230769],\n",
       "         [0.1682243 , 0.17631297, 0.31208146, 0.31538462],\n",
       "         [0.41121495, 0.17684887, 0.3100633 , 0.33846154]]]),\n",
       " array([0.06542056, 0.13084112, 0.34579439, 0.26168224, 0.24299065,\n",
       "        0.38317757, 0.25233645, 0.27102804, 0.31775701, 0.24299065,\n",
       "        0.51401869, 1.        , 0.69158879, 0.35514019, 0.31775701,\n",
       "        0.30841121, 0.26168224, 0.20560748, 0.10280374, 0.09345794,\n",
       "        0.08411215, 0.09345794, 0.11214953, 0.12149533, 0.09345794,\n",
       "        0.08411215, 0.08411215, 0.09345794, 0.09345794, 0.1682243 ,\n",
       "        0.41121495, 0.18691589]))"
      ]
     },
     "execution_count": 88,
     "metadata": {},
     "output_type": "execute_result"
    }
   ],
   "source": [
    "train_generator[0] # It will contain 32 per batch... 720 TOTAL OBSERVATIONS ... and each obervation contain 4 features"
   ]
  },
  {
   "cell_type": "markdown",
   "metadata": {},
   "source": [
    "# Model Architecture"
   ]
  },
  {
   "cell_type": "code",
   "execution_count": 89,
   "metadata": {},
   "outputs": [],
   "source": [
    "model = tf.keras.Sequential()\n",
    "model.add(tf.keras.layers.LSTM(128, input_shape=(win_length, num_features), return_sequences=True))\n",
    "model.add(tf.keras.layers.LeakyReLU(alpha=0.5))\n",
    "\n",
    "model.add(tf.keras.layers.LSTM(128, return_sequences=True))\n",
    "model.add(tf.keras.layers.LeakyReLU(alpha=0.5))\n",
    "model.add(tf.keras.layers.Dropout(0.3))\n",
    "\n",
    "model.add(tf.keras.layers.LSTM(64, return_sequences=False))\n",
    "model.add(tf.keras.layers.Dropout(0.3))\n",
    "\n",
    "model.add(tf.keras.layers.Dense(1))\n"
   ]
  },
  {
   "cell_type": "code",
   "execution_count": 91,
   "metadata": {},
   "outputs": [
    {
     "name": "stdout",
     "output_type": "stream",
     "text": [
      "Model: \"sequential_2\"\n",
      "_________________________________________________________________\n",
      "Layer (type)                 Output Shape              Param #   \n",
      "=================================================================\n",
      "lstm_4 (LSTM)                (None, 720, 128)          68096     \n",
      "_________________________________________________________________\n",
      "leaky_re_lu_3 (LeakyReLU)    (None, 720, 128)          0         \n",
      "_________________________________________________________________\n",
      "lstm_5 (LSTM)                (None, 720, 128)          131584    \n",
      "_________________________________________________________________\n",
      "leaky_re_lu_4 (LeakyReLU)    (None, 720, 128)          0         \n",
      "_________________________________________________________________\n",
      "dropout_2 (Dropout)          (None, 720, 128)          0         \n",
      "_________________________________________________________________\n",
      "lstm_6 (LSTM)                (None, 64)                49408     \n",
      "_________________________________________________________________\n",
      "dropout_3 (Dropout)          (None, 64)                0         \n",
      "_________________________________________________________________\n",
      "dense_1 (Dense)              (None, 1)                 65        \n",
      "=================================================================\n",
      "Total params: 249,153\n",
      "Trainable params: 249,153\n",
      "Non-trainable params: 0\n",
      "_________________________________________________________________\n"
     ]
    }
   ],
   "source": [
    "model.summary()"
   ]
  },
  {
   "cell_type": "code",
   "execution_count": 44,
   "metadata": {
    "scrolled": true
   },
   "outputs": [
    {
     "name": "stdout",
     "output_type": "stream",
     "text": [
      "WARNING:tensorflow:sample_weight modes were coerced from\n",
      "  ...\n",
      "    to  \n",
      "  ['...']\n",
      "WARNING:tensorflow:sample_weight modes were coerced from\n",
      "  ...\n",
      "    to  \n",
      "  ['...']\n",
      "Train for 471 steps, validate for 101 steps\n",
      "Epoch 1/50\n",
      "471/471 [==============================] - 56s 119ms/step - loss: 0.0042 - mean_absolute_error: 0.0327 - val_loss: 0.0032 - val_mean_absolute_error: 0.0282 - loss: 0.0046 - mean_absolute_error: 0. - ETA: 35s - loss - ETA: 2s - loss: 0.0043 - mean\n",
      "Epoch 2/50\n",
      "471/471 [==============================] - 51s 108ms/step - loss: 0.0041 - mean_absolute_error: 0.0317 - val_loss: 0.0032 - val_mean_absolute_error: 0.0277A: 16s - - ETA: 0s - loss: 0.0041 - mean_absolute_error: 0.031 - ETA: 0s - loss: 0.0041 - mean_absolute_error\n",
      "Epoch 3/50\n",
      "471/471 [==============================] - 51s 107ms/step - loss: 0.0041 - mean_absolute_error: 0.0312 - val_loss: 0.0032 - val_mean_absolute_error: 0.0273\n",
      "Epoch 4/50\n",
      "471/471 [==============================] - 51s 109ms/step - loss: 0.0040 - mean_absolute_error: 0.0308 - val_loss: 0.0032 - val_mean_absolute_error: 0.02601 - mean_absol - ETA: 9s - loss: 0.0041 - mean_absolute_erro - ETA: 8s - loss: 0.0041 - mean_absolute_error - ETA: 1s - loss: 0.0040 - mean_absolu\n",
      "Epoch 5/50\n",
      "471/471 [==============================] - 50s 107ms/step - loss: 0.0040 - mean_absolute_error: 0.0307 - val_loss: 0.0032 - val_mean_absolute_error: 0.02950 - - ETA: 41s - loss: 0.0042 - mean_absolute_error - ETA: 35s - loss: 0.0045 - mean_absolute - ETA: 34s - loss: 0.0045 - mean_absolu - ETA: 33s - loss: 0.0045 - m - ETA: 29s - loss: 0.0042 - mean_absolute_error:  - ETA: 29s - loss: 0.0042 - mean_absolu - ETA: 28s - loss: 0.0043 - mean_absolute_err - ETA: 27s - loss: 0.0042 - mean_absolute_err - ETA: 27s - loss: 0.0041 - mean_absolute_error - ETA: 26s - loss: 0.0042 - mean_absolute_error: 0. - ETA: 26s - loss: 0.0043 - mean_absolute_err - ETA: 26s - loss: 0.0042 - mean_ - ETA: 25s - loss: 0.0042 - mean_absolute_err - ETA: 24s  - ETA: 22s - loss: 0. - ETA: 9s - loss: 0.0042 - mean_abso - ETA: 2s - loss: 0.0041 - mean_a\n",
      "Epoch 6/50\n",
      "471/471 [==============================] - 51s 108ms/step - loss: 0.0039 - mean_absolute_error: 0.0305 - val_loss: 0.0031 - val_mean_absolute_error: 0.0269e - ETA: 27s - loss: 0.0042 - mean_absolute_error - ETA:  - ETA: 24s - loss: 0.0041 - mea - - ET - ETA: 7s - loss: 0.0040 - mean_absolu - ETA: 5 - ETA: 1s - loss: 0.0040 - mean_absolute_error:  - ETA: 0s - loss: 0.0039 - mean_absolute_error: \n",
      "Epoch 7/50\n",
      "471/471 [==============================] - 51s 109ms/step - loss: 0.0039 - mean_absolute_error: 0.0305 - val_loss: 0.0032 - val_mean_absolute_error: 0.0284041 - mean_absolute_error:  - ETA: 14s - loss: 0.0041 - mean_absolute_error - ETA: 14 - ETA: 8s - loss: 0.0040 - me - ETA: 5s - loss: 0.0040 - mean_absolute_e - ETA: 4s - loss: 0.0040 - mean_absolute_error: - ETA: 3s - loss: 0.0040 - mean_absolut - ETA: 2s - loss: 0.0040 - mean_absolute_error: 0.030 - ETA: 1s - loss: 0.0040 - mean_abs\n",
      "Epoch 8/50\n",
      "471/471 [==============================] - 52s 110ms/step - loss: 0.0039 - mean_absolute_error: 0.0304 - val_loss: 0.0032 - val_mean_absolute_error: 0.0288 - loss: 0.0041 - mean_abso - ETA: 14s - loss: 0. - ETA: 13 - ETA: 10s - loss: 0.0040  - ETA: 8s - - ETA: 4s - loss: 0.0040  - ETA: 1s - loss: 0.0039 - mean_absolute_err\n"
     ]
    }
   ],
   "source": [
    "early_stopping = tf.keras.callbacks.EarlyStopping(monitor='val_loss', patience=2, mode='min')\n",
    "\n",
    "model.compile(loss = tf.losses.MeanSquaredError(), \n",
    "            optimizer=tf.optimizers.Adam(),\n",
    "             metrics=[tf.metrics.MeanAbsoluteError()])\n",
    "history = model.fit(train_generator, epochs=50,\n",
    "                             validation_data=test_generator,\n",
    "                             shuffle=False,\n",
    "                             callbacks=[early_stopping])\n",
    "\n"
   ]
  },
  {
   "cell_type": "code",
   "execution_count": 48,
   "metadata": {},
   "outputs": [
    {
     "name": "stdout",
     "output_type": "stream",
     "text": [
      "WARNING:tensorflow:sample_weight modes were coerced from\n",
      "  ...\n",
      "    to  \n",
      "  ['...']\n"
     ]
    },
    {
     "data": {
      "text/plain": [
       "[0.003176392250985949, 0.028809763]"
      ]
     },
     "execution_count": 48,
     "metadata": {},
     "output_type": "execute_result"
    }
   ],
   "source": [
    "model.evaluate(test_generator, verbose=0)"
   ]
  },
  {
   "cell_type": "markdown",
   "metadata": {},
   "source": [
    "### Predictions"
   ]
  },
  {
   "cell_type": "code",
   "execution_count": 49,
   "metadata": {},
   "outputs": [],
   "source": [
    "predictions=model.predict(test_generator)"
   ]
  },
  {
   "cell_type": "code",
   "execution_count": 92,
   "metadata": {},
   "outputs": [
    {
     "data": {
      "text/plain": [
       "3227"
      ]
     },
     "execution_count": 92,
     "metadata": {},
     "output_type": "execute_result"
    }
   ],
   "source": [
    "predictions.shape[0] # SO A TOTAL OF 3227 ROWS ARE THERE"
   ]
  },
  {
   "cell_type": "code",
   "execution_count": 94,
   "metadata": {},
   "outputs": [
    {
     "data": {
      "text/plain": [
       "1"
      ]
     },
     "execution_count": 94,
     "metadata": {},
     "output_type": "execute_result"
    }
   ],
   "source": [
    "predictions.shape[1] # SINGLE COLUMN"
   ]
  },
  {
   "cell_type": "code",
   "execution_count": 51,
   "metadata": {},
   "outputs": [
    {
     "data": {
      "text/plain": [
       "array([[0.07080835],\n",
       "       [0.09925135],\n",
       "       [0.12484066],\n",
       "       ...,\n",
       "       [0.08639787],\n",
       "       [0.25017202],\n",
       "       [0.26065186]], dtype=float32)"
      ]
     },
     "execution_count": 51,
     "metadata": {},
     "output_type": "execute_result"
    }
   ],
   "source": [
    "predictions"
   ]
  },
  {
   "cell_type": "code",
   "execution_count": 54,
   "metadata": {},
   "outputs": [
    {
     "data": {
      "text/plain": [
       "array([[0.3364486 , 0.34297964, 0.30923768, 0.6       ],\n",
       "       [0.54205607, 0.34726688, 0.3055683 , 0.6       ],\n",
       "       [0.28971963, 0.35155413, 0.30455921, 0.6       ],\n",
       "       ...,\n",
       "       [0.24299065, 0.88317256, 0.53866618, 0.37435897],\n",
       "       [0.38317757, 0.87888532, 0.54949087, 0.38717949],\n",
       "       [0.39252336, 0.87459807, 0.53875791, 0.4       ]])"
      ]
     },
     "execution_count": 54,
     "metadata": {},
     "output_type": "execute_result"
    }
   ],
   "source": [
    "x_test"
   ]
  },
  {
   "cell_type": "code",
   "execution_count": 53,
   "metadata": {},
   "outputs": [
    {
     "data": {
      "text/plain": [
       "array([0.3364486 , 0.54205607, 0.28971963, ..., 0.24299065, 0.38317757,\n",
       "       0.39252336])"
      ]
     },
     "execution_count": 53,
     "metadata": {},
     "output_type": "execute_result"
    }
   ],
   "source": [
    "y_Test"
   ]
  },
  {
   "cell_type": "code",
   "execution_count": 103,
   "metadata": {},
   "outputs": [
    {
     "data": {
      "text/plain": [
       "array([[0.3364486 , 0.34297964, 0.30923768, 0.6       ],\n",
       "       [0.54205607, 0.34726688, 0.3055683 , 0.6       ],\n",
       "       [0.28971963, 0.35155413, 0.30455921, 0.6       ],\n",
       "       [0.28037383, 0.35584137, 0.30290799, 0.6       ],\n",
       "       [0.23364486, 0.36012862, 0.29933034, 0.6       ],\n",
       "       [0.1682243 , 0.36495177, 0.29933034, 0.6       ],\n",
       "       [0.13084112, 0.36977492, 0.29630309, 0.6       ],\n",
       "       [0.11214953, 0.37459807, 0.29465187, 0.6       ],\n",
       "       [0.26168224, 0.37942122, 0.29079901, 0.6       ],\n",
       "       [0.44859813, 0.38424437, 0.29079901, 0.6       ],\n",
       "       [0.77570093, 0.38906752, 0.29382625, 0.6       ],\n",
       "       [0.64485981, 0.39389068, 0.29749564, 0.6       ]])"
      ]
     },
     "execution_count": 103,
     "metadata": {},
     "output_type": "execute_result"
    }
   ],
   "source": [
    "x_test[:12]"
   ]
  },
  {
   "cell_type": "code",
   "execution_count": 97,
   "metadata": {},
   "outputs": [
    {
     "data": {
      "text/plain": [
       "3227"
      ]
     },
     "execution_count": 97,
     "metadata": {},
     "output_type": "execute_result"
    }
   ],
   "source": [
    "3947-720 # BECAUSE OUR WINDOW SIZE WAS 720 SO ITS 720 LESS"
   ]
  },
  {
   "cell_type": "code",
   "execution_count": 107,
   "metadata": {},
   "outputs": [
    {
     "data": {
      "text/plain": [
       "array([[0.34297964, 0.30923768, 0.6       ],\n",
       "       [0.34726688, 0.3055683 , 0.6       ],\n",
       "       [0.35155413, 0.30455921, 0.6       ],\n",
       "       [0.35584137, 0.30290799, 0.6       ],\n",
       "       [0.36012862, 0.29933034, 0.6       ],\n",
       "       [0.36495177, 0.29933034, 0.6       ],\n",
       "       [0.36977492, 0.29630309, 0.6       ],\n",
       "       [0.37459807, 0.29465187, 0.6       ],\n",
       "       [0.37942122, 0.29079901, 0.6       ],\n",
       "       [0.38424437, 0.29079901, 0.6       ],\n",
       "       [0.38906752, 0.29382625, 0.6       ],\n",
       "       [0.39389068, 0.29749564, 0.6       ]])"
      ]
     },
     "execution_count": 107,
     "metadata": {},
     "output_type": "execute_result"
    }
   ],
   "source": [
    "x_test[:12,1:] # IGNORED THE 1st COLUMN"
   ]
  },
  {
   "cell_type": "code",
   "execution_count": 57,
   "metadata": {
    "scrolled": true
   },
   "outputs": [
    {
     "data": {
      "text/plain": [
       "array([[0.45337621, 0.20851298, 0.6       ],\n",
       "       [0.47106109, 0.18282726, 0.6       ],\n",
       "       [0.48874598, 0.18466196, 0.6       ],\n",
       "       ...,\n",
       "       [0.88317256, 0.53866618, 0.37435897],\n",
       "       [0.87888532, 0.54949087, 0.38717949],\n",
       "       [0.87459807, 0.53875791, 0.4       ]])"
      ]
     },
     "execution_count": 57,
     "metadata": {},
     "output_type": "execute_result"
    }
   ],
   "source": [
    "x_test[:,1:][win_length:] # ignoring the first 720 then taking all bcoz our prediction value doesnot have the first 720 "
   ]
  },
  {
   "cell_type": "markdown",
   "metadata": {},
   "source": [
    "## Concatenating the predictions and the x_test values"
   ]
  },
  {
   "cell_type": "code",
   "execution_count": 108,
   "metadata": {},
   "outputs": [
    {
     "data": {
      "text/html": [
       "<div>\n",
       "<style scoped>\n",
       "    .dataframe tbody tr th:only-of-type {\n",
       "        vertical-align: middle;\n",
       "    }\n",
       "\n",
       "    .dataframe tbody tr th {\n",
       "        vertical-align: top;\n",
       "    }\n",
       "\n",
       "    .dataframe thead th {\n",
       "        text-align: right;\n",
       "    }\n",
       "</style>\n",
       "<table border=\"1\" class=\"dataframe\">\n",
       "  <thead>\n",
       "    <tr style=\"text-align: right;\">\n",
       "      <th></th>\n",
       "      <th>0</th>\n",
       "      <th>0</th>\n",
       "      <th>1</th>\n",
       "      <th>2</th>\n",
       "    </tr>\n",
       "  </thead>\n",
       "  <tbody>\n",
       "    <tr>\n",
       "      <th>0</th>\n",
       "      <td>0.070808</td>\n",
       "      <td>0.453376</td>\n",
       "      <td>0.208513</td>\n",
       "      <td>0.600000</td>\n",
       "    </tr>\n",
       "    <tr>\n",
       "      <th>1</th>\n",
       "      <td>0.099251</td>\n",
       "      <td>0.471061</td>\n",
       "      <td>0.182827</td>\n",
       "      <td>0.600000</td>\n",
       "    </tr>\n",
       "    <tr>\n",
       "      <th>2</th>\n",
       "      <td>0.124841</td>\n",
       "      <td>0.488746</td>\n",
       "      <td>0.184662</td>\n",
       "      <td>0.600000</td>\n",
       "    </tr>\n",
       "    <tr>\n",
       "      <th>3</th>\n",
       "      <td>0.337873</td>\n",
       "      <td>0.506431</td>\n",
       "      <td>0.193996</td>\n",
       "      <td>0.600000</td>\n",
       "    </tr>\n",
       "    <tr>\n",
       "      <th>4</th>\n",
       "      <td>0.147914</td>\n",
       "      <td>0.524116</td>\n",
       "      <td>0.181818</td>\n",
       "      <td>0.600000</td>\n",
       "    </tr>\n",
       "    <tr>\n",
       "      <th>...</th>\n",
       "      <td>...</td>\n",
       "      <td>...</td>\n",
       "      <td>...</td>\n",
       "      <td>...</td>\n",
       "    </tr>\n",
       "    <tr>\n",
       "      <th>3222</th>\n",
       "      <td>0.088916</td>\n",
       "      <td>0.891747</td>\n",
       "      <td>0.537657</td>\n",
       "      <td>0.348718</td>\n",
       "    </tr>\n",
       "    <tr>\n",
       "      <th>3223</th>\n",
       "      <td>0.100495</td>\n",
       "      <td>0.887460</td>\n",
       "      <td>0.536006</td>\n",
       "      <td>0.361538</td>\n",
       "    </tr>\n",
       "    <tr>\n",
       "      <th>3224</th>\n",
       "      <td>0.086398</td>\n",
       "      <td>0.883173</td>\n",
       "      <td>0.538666</td>\n",
       "      <td>0.374359</td>\n",
       "    </tr>\n",
       "    <tr>\n",
       "      <th>3225</th>\n",
       "      <td>0.250172</td>\n",
       "      <td>0.878885</td>\n",
       "      <td>0.549491</td>\n",
       "      <td>0.387179</td>\n",
       "    </tr>\n",
       "    <tr>\n",
       "      <th>3226</th>\n",
       "      <td>0.260652</td>\n",
       "      <td>0.874598</td>\n",
       "      <td>0.538758</td>\n",
       "      <td>0.400000</td>\n",
       "    </tr>\n",
       "  </tbody>\n",
       "</table>\n",
       "<p>3227 rows × 4 columns</p>\n",
       "</div>"
      ],
      "text/plain": [
       "             0         0         1         2\n",
       "0     0.070808  0.453376  0.208513  0.600000\n",
       "1     0.099251  0.471061  0.182827  0.600000\n",
       "2     0.124841  0.488746  0.184662  0.600000\n",
       "3     0.337873  0.506431  0.193996  0.600000\n",
       "4     0.147914  0.524116  0.181818  0.600000\n",
       "...        ...       ...       ...       ...\n",
       "3222  0.088916  0.891747  0.537657  0.348718\n",
       "3223  0.100495  0.887460  0.536006  0.361538\n",
       "3224  0.086398  0.883173  0.538666  0.374359\n",
       "3225  0.250172  0.878885  0.549491  0.387179\n",
       "3226  0.260652  0.874598  0.538758  0.400000\n",
       "\n",
       "[3227 rows x 4 columns]"
      ]
     },
     "execution_count": 108,
     "metadata": {},
     "output_type": "execute_result"
    }
   ],
   "source": [
    "df_pred = pd.concat([pd.DataFrame(predictions), pd.DataFrame(x_test[:,1:][win_length:])], axis=1)\n",
    "df_pred"
   ]
  },
  {
   "cell_type": "markdown",
   "metadata": {},
   "source": [
    "### Doing the inverse transform of df_pred"
   ]
  },
  {
   "cell_type": "code",
   "execution_count": 109,
   "metadata": {},
   "outputs": [
    {
     "data": {
      "text/plain": [
       "array([[ 85.76493561,   9.1       ,  34.6       ,  40.        ],\n",
       "       [116.19894691,   9.65      ,  33.66666667,  40.        ],\n",
       "       [143.57950822,  10.2       ,  33.73333333,  40.        ],\n",
       "       ...,\n",
       "       [102.44572237,  22.46666667,  46.59666667,  25.33333333],\n",
       "       [277.68406034,  22.33333333,  46.99      ,  26.16666667],\n",
       "       [288.89748663,  22.2       ,  46.6       ,  27.        ]])"
      ]
     },
     "execution_count": 109,
     "metadata": {},
     "output_type": "execute_result"
    }
   ],
   "source": [
    "rev_trans = scaler.inverse_transform(df_pred)\n",
    "rev_trans # THIS IS MY PREDICTIONS + THE ORIGINAL FEATURES"
   ]
  },
  {
   "cell_type": "code",
   "execution_count": 112,
   "metadata": {},
   "outputs": [
    {
     "data": {
      "text/html": [
       "<div>\n",
       "<style scoped>\n",
       "    .dataframe tbody tr th:only-of-type {\n",
       "        vertical-align: middle;\n",
       "    }\n",
       "\n",
       "    .dataframe tbody tr th {\n",
       "        vertical-align: top;\n",
       "    }\n",
       "\n",
       "    .dataframe thead th {\n",
       "        text-align: right;\n",
       "    }\n",
       "</style>\n",
       "<table border=\"1\" class=\"dataframe\">\n",
       "  <thead>\n",
       "    <tr style=\"text-align: right;\">\n",
       "      <th></th>\n",
       "      <th>Appliances</th>\n",
       "      <th>T_out</th>\n",
       "      <th>RH_1</th>\n",
       "      <th>Visibility</th>\n",
       "    </tr>\n",
       "  </thead>\n",
       "  <tbody>\n",
       "    <tr>\n",
       "      <th>16508</th>\n",
       "      <td>90</td>\n",
       "      <td>9.100000</td>\n",
       "      <td>34.600000</td>\n",
       "      <td>40.000000</td>\n",
       "    </tr>\n",
       "    <tr>\n",
       "      <th>16509</th>\n",
       "      <td>120</td>\n",
       "      <td>9.650000</td>\n",
       "      <td>33.666667</td>\n",
       "      <td>40.000000</td>\n",
       "    </tr>\n",
       "    <tr>\n",
       "      <th>16510</th>\n",
       "      <td>390</td>\n",
       "      <td>10.200000</td>\n",
       "      <td>33.733333</td>\n",
       "      <td>40.000000</td>\n",
       "    </tr>\n",
       "    <tr>\n",
       "      <th>16511</th>\n",
       "      <td>240</td>\n",
       "      <td>10.750000</td>\n",
       "      <td>34.072500</td>\n",
       "      <td>40.000000</td>\n",
       "    </tr>\n",
       "    <tr>\n",
       "      <th>16512</th>\n",
       "      <td>120</td>\n",
       "      <td>11.300000</td>\n",
       "      <td>33.630000</td>\n",
       "      <td>40.000000</td>\n",
       "    </tr>\n",
       "    <tr>\n",
       "      <th>...</th>\n",
       "      <td>...</td>\n",
       "      <td>...</td>\n",
       "      <td>...</td>\n",
       "      <td>...</td>\n",
       "    </tr>\n",
       "    <tr>\n",
       "      <th>19730</th>\n",
       "      <td>100</td>\n",
       "      <td>22.733333</td>\n",
       "      <td>46.560000</td>\n",
       "      <td>23.666667</td>\n",
       "    </tr>\n",
       "    <tr>\n",
       "      <th>19731</th>\n",
       "      <td>90</td>\n",
       "      <td>22.600000</td>\n",
       "      <td>46.500000</td>\n",
       "      <td>24.500000</td>\n",
       "    </tr>\n",
       "    <tr>\n",
       "      <th>19732</th>\n",
       "      <td>270</td>\n",
       "      <td>22.466667</td>\n",
       "      <td>46.596667</td>\n",
       "      <td>25.333333</td>\n",
       "    </tr>\n",
       "    <tr>\n",
       "      <th>19733</th>\n",
       "      <td>420</td>\n",
       "      <td>22.333333</td>\n",
       "      <td>46.990000</td>\n",
       "      <td>26.166667</td>\n",
       "    </tr>\n",
       "    <tr>\n",
       "      <th>19734</th>\n",
       "      <td>430</td>\n",
       "      <td>22.200000</td>\n",
       "      <td>46.600000</td>\n",
       "      <td>27.000000</td>\n",
       "    </tr>\n",
       "  </tbody>\n",
       "</table>\n",
       "<p>3227 rows × 4 columns</p>\n",
       "</div>"
      ],
      "text/plain": [
       "       Appliances      T_out       RH_1  Visibility\n",
       "16508          90   9.100000  34.600000   40.000000\n",
       "16509         120   9.650000  33.666667   40.000000\n",
       "16510         390  10.200000  33.733333   40.000000\n",
       "16511         240  10.750000  34.072500   40.000000\n",
       "16512         120  11.300000  33.630000   40.000000\n",
       "...           ...        ...        ...         ...\n",
       "19730         100  22.733333  46.560000   23.666667\n",
       "19731          90  22.600000  46.500000   24.500000\n",
       "19732         270  22.466667  46.596667   25.333333\n",
       "19733         420  22.333333  46.990000   26.166667\n",
       "19734         430  22.200000  46.600000   27.000000\n",
       "\n",
       "[3227 rows x 4 columns]"
      ]
     },
     "execution_count": 112,
     "metadata": {},
     "output_type": "execute_result"
    }
   ],
   "source": [
    "df_final = df_input[predictions.shape[0]*-1:] # MULTIPLYING WITH -1 SO WE ARE GETTING FROM BOTTON TO TOP VALUES\n",
    "df_final"
   ]
  },
  {
   "cell_type": "code",
   "execution_count": 63,
   "metadata": {},
   "outputs": [
    {
     "data": {
      "text/plain": [
       "Appliances    3227\n",
       "T_out         3227\n",
       "RH_1          3227\n",
       "Visibility    3227\n",
       "dtype: int64"
      ]
     },
     "execution_count": 63,
     "metadata": {},
     "output_type": "execute_result"
    }
   ],
   "source": [
    "df_final.count()"
   ]
  },
  {
   "cell_type": "code",
   "execution_count": 64,
   "metadata": {},
   "outputs": [
    {
     "name": "stderr",
     "output_type": "stream",
     "text": [
      "d:\\anacondafiles\\envs\\deeplearning\\lib\\site-packages\\ipykernel_launcher.py:1: SettingWithCopyWarning: \n",
      "A value is trying to be set on a copy of a slice from a DataFrame.\n",
      "Try using .loc[row_indexer,col_indexer] = value instead\n",
      "\n",
      "See the caveats in the documentation: https://pandas.pydata.org/pandas-docs/stable/user_guide/indexing.html#returning-a-view-versus-a-copy\n",
      "  \"\"\"Entry point for launching an IPython kernel.\n"
     ]
    },
    {
     "data": {
      "text/html": [
       "<div>\n",
       "<style scoped>\n",
       "    .dataframe tbody tr th:only-of-type {\n",
       "        vertical-align: middle;\n",
       "    }\n",
       "\n",
       "    .dataframe tbody tr th {\n",
       "        vertical-align: top;\n",
       "    }\n",
       "\n",
       "    .dataframe thead th {\n",
       "        text-align: right;\n",
       "    }\n",
       "</style>\n",
       "<table border=\"1\" class=\"dataframe\">\n",
       "  <thead>\n",
       "    <tr style=\"text-align: right;\">\n",
       "      <th></th>\n",
       "      <th>Appliances</th>\n",
       "      <th>T_out</th>\n",
       "      <th>RH_1</th>\n",
       "      <th>Visibility</th>\n",
       "      <th>App_Pred</th>\n",
       "    </tr>\n",
       "  </thead>\n",
       "  <tbody>\n",
       "    <tr>\n",
       "      <th>16508</th>\n",
       "      <td>90</td>\n",
       "      <td>9.100000</td>\n",
       "      <td>34.600000</td>\n",
       "      <td>40.000000</td>\n",
       "      <td>85.764936</td>\n",
       "    </tr>\n",
       "    <tr>\n",
       "      <th>16509</th>\n",
       "      <td>120</td>\n",
       "      <td>9.650000</td>\n",
       "      <td>33.666667</td>\n",
       "      <td>40.000000</td>\n",
       "      <td>116.198947</td>\n",
       "    </tr>\n",
       "    <tr>\n",
       "      <th>16510</th>\n",
       "      <td>390</td>\n",
       "      <td>10.200000</td>\n",
       "      <td>33.733333</td>\n",
       "      <td>40.000000</td>\n",
       "      <td>143.579508</td>\n",
       "    </tr>\n",
       "    <tr>\n",
       "      <th>16511</th>\n",
       "      <td>240</td>\n",
       "      <td>10.750000</td>\n",
       "      <td>34.072500</td>\n",
       "      <td>40.000000</td>\n",
       "      <td>371.524569</td>\n",
       "    </tr>\n",
       "    <tr>\n",
       "      <th>16512</th>\n",
       "      <td>120</td>\n",
       "      <td>11.300000</td>\n",
       "      <td>33.630000</td>\n",
       "      <td>40.000000</td>\n",
       "      <td>168.267589</td>\n",
       "    </tr>\n",
       "    <tr>\n",
       "      <th>...</th>\n",
       "      <td>...</td>\n",
       "      <td>...</td>\n",
       "      <td>...</td>\n",
       "      <td>...</td>\n",
       "      <td>...</td>\n",
       "    </tr>\n",
       "    <tr>\n",
       "      <th>19730</th>\n",
       "      <td>100</td>\n",
       "      <td>22.733333</td>\n",
       "      <td>46.560000</td>\n",
       "      <td>23.666667</td>\n",
       "      <td>105.140028</td>\n",
       "    </tr>\n",
       "    <tr>\n",
       "      <th>19731</th>\n",
       "      <td>90</td>\n",
       "      <td>22.600000</td>\n",
       "      <td>46.500000</td>\n",
       "      <td>24.500000</td>\n",
       "      <td>117.529637</td>\n",
       "    </tr>\n",
       "    <tr>\n",
       "      <th>19732</th>\n",
       "      <td>270</td>\n",
       "      <td>22.466667</td>\n",
       "      <td>46.596667</td>\n",
       "      <td>25.333333</td>\n",
       "      <td>102.445722</td>\n",
       "    </tr>\n",
       "    <tr>\n",
       "      <th>19733</th>\n",
       "      <td>420</td>\n",
       "      <td>22.333333</td>\n",
       "      <td>46.990000</td>\n",
       "      <td>26.166667</td>\n",
       "      <td>277.684060</td>\n",
       "    </tr>\n",
       "    <tr>\n",
       "      <th>19734</th>\n",
       "      <td>430</td>\n",
       "      <td>22.200000</td>\n",
       "      <td>46.600000</td>\n",
       "      <td>27.000000</td>\n",
       "      <td>288.897487</td>\n",
       "    </tr>\n",
       "  </tbody>\n",
       "</table>\n",
       "<p>3227 rows × 5 columns</p>\n",
       "</div>"
      ],
      "text/plain": [
       "       Appliances      T_out       RH_1  Visibility    App_Pred\n",
       "16508          90   9.100000  34.600000   40.000000   85.764936\n",
       "16509         120   9.650000  33.666667   40.000000  116.198947\n",
       "16510         390  10.200000  33.733333   40.000000  143.579508\n",
       "16511         240  10.750000  34.072500   40.000000  371.524569\n",
       "16512         120  11.300000  33.630000   40.000000  168.267589\n",
       "...           ...        ...        ...         ...         ...\n",
       "19730         100  22.733333  46.560000   23.666667  105.140028\n",
       "19731          90  22.600000  46.500000   24.500000  117.529637\n",
       "19732         270  22.466667  46.596667   25.333333  102.445722\n",
       "19733         420  22.333333  46.990000   26.166667  277.684060\n",
       "19734         430  22.200000  46.600000   27.000000  288.897487\n",
       "\n",
       "[3227 rows x 5 columns]"
      ]
     },
     "execution_count": 64,
     "metadata": {},
     "output_type": "execute_result"
    }
   ],
   "source": [
    "df_final['App_Pred'] = rev_trans[:,0] # SO THE rev_trans FIRST COLUMN IS ONLY OUR PREDICTIONS!!!\n",
    "df_final"
   ]
  },
  {
   "cell_type": "code",
   "execution_count": 65,
   "metadata": {},
   "outputs": [
    {
     "data": {
      "text/plain": [
       "<AxesSubplot:>"
      ]
     },
     "execution_count": 65,
     "metadata": {},
     "output_type": "execute_result"
    },
    {
     "data": {
      "image/png": "[encoded data removed]",
      "text/plain": [
       "<Figure size 864x432 with 1 Axes>"
      ]
     },
     "metadata": {
      "needs_background": "light"
     },
     "output_type": "display_data"
    }
   ],
   "source": [
    "df_final[['Appliances', 'App_Pred']].plot()"
   ]
  },
  {
   "cell_type": "code",
   "execution_count": null,
   "metadata": {},
   "outputs": [],
   "source": []
  }
 ],
 "metadata": {
  "kernelspec": {
   "display_name": "Python 3",
   "language": "python",
   "name": "python3"
  },
  "language_info": {
   "codemirror_mode": {
    "name": "ipython",
    "version": 3
   },
   "file_extension": ".py",
   "mimetype": "text/x-python",
   "name": "python",
   "nbconvert_exporter": "python",
   "pygments_lexer": "ipython3",
   "version": "3.7.9"
  }
 },
 "nbformat": 4,
 "nbformat_minor": 4
}
