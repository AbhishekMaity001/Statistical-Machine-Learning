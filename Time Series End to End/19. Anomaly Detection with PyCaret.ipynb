{
 "cells": [
  {
   "cell_type": "markdown",
   "metadata": {},
   "source": [
    "<img src='anomalytechniques.png' />"
   ]
  },
  {
   "cell_type": "code",
   "execution_count": 2,
   "metadata": {},
   "outputs": [
    {
     "data": {
      "text/plain": [
       "'2.3.2'"
      ]
     },
     "execution_count": 2,
     "metadata": {},
     "output_type": "execute_result"
    }
   ],
   "source": [
    "from pycaret.utils import version\n",
    "version()"
   ]
  },
  {
   "cell_type": "code",
   "execution_count": 4,
   "metadata": {},
   "outputs": [],
   "source": [
    "from pycaret.datasets import get_data\n",
    "data = get_data??"
   ]
  },
  {
   "cell_type": "code",
   "execution_count": 10,
   "metadata": {
    "scrolled": true
   },
   "outputs": [
    {
     "data": {
      "text/html": [
       "<div>\n",
       "<style scoped>\n",
       "    .dataframe tbody tr th:only-of-type {\n",
       "        vertical-align: middle;\n",
       "    }\n",
       "\n",
       "    .dataframe tbody tr th {\n",
       "        vertical-align: top;\n",
       "    }\n",
       "\n",
       "    .dataframe thead th {\n",
       "        text-align: right;\n",
       "    }\n",
       "</style>\n",
       "<table border=\"1\" class=\"dataframe\">\n",
       "  <thead>\n",
       "    <tr style=\"text-align: right;\">\n",
       "      <th></th>\n",
       "      <th>Dataset</th>\n",
       "      <th>Data Types</th>\n",
       "      <th>Default Task</th>\n",
       "      <th>Target Variable 1</th>\n",
       "      <th>Target Variable 2</th>\n",
       "      <th># Instances</th>\n",
       "      <th># Attributes</th>\n",
       "      <th>Missing Values</th>\n",
       "    </tr>\n",
       "  </thead>\n",
       "  <tbody>\n",
       "    <tr>\n",
       "      <th>0</th>\n",
       "      <td>anomaly</td>\n",
       "      <td>Multivariate</td>\n",
       "      <td>Anomaly Detection</td>\n",
       "      <td>None</td>\n",
       "      <td>None</td>\n",
       "      <td>1000</td>\n",
       "      <td>10</td>\n",
       "      <td>N</td>\n",
       "    </tr>\n",
       "    <tr>\n",
       "      <th>1</th>\n",
       "      <td>france</td>\n",
       "      <td>Multivariate</td>\n",
       "      <td>Association Rule Mining</td>\n",
       "      <td>InvoiceNo</td>\n",
       "      <td>Description</td>\n",
       "      <td>8557</td>\n",
       "      <td>8</td>\n",
       "      <td>N</td>\n",
       "    </tr>\n",
       "    <tr>\n",
       "      <th>2</th>\n",
       "      <td>germany</td>\n",
       "      <td>Multivariate</td>\n",
       "      <td>Association Rule Mining</td>\n",
       "      <td>InvoiceNo</td>\n",
       "      <td>Description</td>\n",
       "      <td>9495</td>\n",
       "      <td>8</td>\n",
       "      <td>N</td>\n",
       "    </tr>\n",
       "    <tr>\n",
       "      <th>3</th>\n",
       "      <td>bank</td>\n",
       "      <td>Multivariate</td>\n",
       "      <td>Classification (Binary)</td>\n",
       "      <td>deposit</td>\n",
       "      <td>None</td>\n",
       "      <td>45211</td>\n",
       "      <td>17</td>\n",
       "      <td>N</td>\n",
       "    </tr>\n",
       "    <tr>\n",
       "      <th>4</th>\n",
       "      <td>blood</td>\n",
       "      <td>Multivariate</td>\n",
       "      <td>Classification (Binary)</td>\n",
       "      <td>Class</td>\n",
       "      <td>None</td>\n",
       "      <td>748</td>\n",
       "      <td>5</td>\n",
       "      <td>N</td>\n",
       "    </tr>\n",
       "    <tr>\n",
       "      <th>5</th>\n",
       "      <td>cancer</td>\n",
       "      <td>Multivariate</td>\n",
       "      <td>Classification (Binary)</td>\n",
       "      <td>Class</td>\n",
       "      <td>None</td>\n",
       "      <td>683</td>\n",
       "      <td>10</td>\n",
       "      <td>N</td>\n",
       "    </tr>\n",
       "    <tr>\n",
       "      <th>6</th>\n",
       "      <td>credit</td>\n",
       "      <td>Multivariate</td>\n",
       "      <td>Classification (Binary)</td>\n",
       "      <td>default</td>\n",
       "      <td>None</td>\n",
       "      <td>24000</td>\n",
       "      <td>24</td>\n",
       "      <td>N</td>\n",
       "    </tr>\n",
       "    <tr>\n",
       "      <th>7</th>\n",
       "      <td>diabetes</td>\n",
       "      <td>Multivariate</td>\n",
       "      <td>Classification (Binary)</td>\n",
       "      <td>Class variable</td>\n",
       "      <td>None</td>\n",
       "      <td>768</td>\n",
       "      <td>9</td>\n",
       "      <td>N</td>\n",
       "    </tr>\n",
       "    <tr>\n",
       "      <th>8</th>\n",
       "      <td>electrical_grid</td>\n",
       "      <td>Multivariate</td>\n",
       "      <td>Classification (Binary)</td>\n",
       "      <td>stabf</td>\n",
       "      <td>None</td>\n",
       "      <td>10000</td>\n",
       "      <td>14</td>\n",
       "      <td>N</td>\n",
       "    </tr>\n",
       "    <tr>\n",
       "      <th>9</th>\n",
       "      <td>employee</td>\n",
       "      <td>Multivariate</td>\n",
       "      <td>Classification (Binary)</td>\n",
       "      <td>left</td>\n",
       "      <td>None</td>\n",
       "      <td>14999</td>\n",
       "      <td>10</td>\n",
       "      <td>N</td>\n",
       "    </tr>\n",
       "    <tr>\n",
       "      <th>10</th>\n",
       "      <td>heart</td>\n",
       "      <td>Multivariate</td>\n",
       "      <td>Classification (Binary)</td>\n",
       "      <td>DEATH</td>\n",
       "      <td>None</td>\n",
       "      <td>200</td>\n",
       "      <td>16</td>\n",
       "      <td>N</td>\n",
       "    </tr>\n",
       "    <tr>\n",
       "      <th>11</th>\n",
       "      <td>heart_disease</td>\n",
       "      <td>Multivariate</td>\n",
       "      <td>Classification (Binary)</td>\n",
       "      <td>Disease</td>\n",
       "      <td>None</td>\n",
       "      <td>270</td>\n",
       "      <td>14</td>\n",
       "      <td>N</td>\n",
       "    </tr>\n",
       "    <tr>\n",
       "      <th>12</th>\n",
       "      <td>hepatitis</td>\n",
       "      <td>Multivariate</td>\n",
       "      <td>Classification (Binary)</td>\n",
       "      <td>Class</td>\n",
       "      <td>None</td>\n",
       "      <td>154</td>\n",
       "      <td>32</td>\n",
       "      <td>Y</td>\n",
       "    </tr>\n",
       "    <tr>\n",
       "      <th>13</th>\n",
       "      <td>income</td>\n",
       "      <td>Multivariate</td>\n",
       "      <td>Classification (Binary)</td>\n",
       "      <td>income &gt;50K</td>\n",
       "      <td>None</td>\n",
       "      <td>32561</td>\n",
       "      <td>14</td>\n",
       "      <td>Y</td>\n",
       "    </tr>\n",
       "    <tr>\n",
       "      <th>14</th>\n",
       "      <td>juice</td>\n",
       "      <td>Multivariate</td>\n",
       "      <td>Classification (Binary)</td>\n",
       "      <td>Purchase</td>\n",
       "      <td>None</td>\n",
       "      <td>1070</td>\n",
       "      <td>15</td>\n",
       "      <td>N</td>\n",
       "    </tr>\n",
       "    <tr>\n",
       "      <th>15</th>\n",
       "      <td>nba</td>\n",
       "      <td>Multivariate</td>\n",
       "      <td>Classification (Binary)</td>\n",
       "      <td>TARGET_5Yrs</td>\n",
       "      <td>None</td>\n",
       "      <td>1340</td>\n",
       "      <td>21</td>\n",
       "      <td>N</td>\n",
       "    </tr>\n",
       "    <tr>\n",
       "      <th>16</th>\n",
       "      <td>wine</td>\n",
       "      <td>Multivariate</td>\n",
       "      <td>Classification (Binary)</td>\n",
       "      <td>type</td>\n",
       "      <td>None</td>\n",
       "      <td>6498</td>\n",
       "      <td>13</td>\n",
       "      <td>N</td>\n",
       "    </tr>\n",
       "    <tr>\n",
       "      <th>17</th>\n",
       "      <td>telescope</td>\n",
       "      <td>Multivariate</td>\n",
       "      <td>Classification (Binary)</td>\n",
       "      <td>Class</td>\n",
       "      <td>None</td>\n",
       "      <td>19020</td>\n",
       "      <td>11</td>\n",
       "      <td>N</td>\n",
       "    </tr>\n",
       "    <tr>\n",
       "      <th>18</th>\n",
       "      <td>titanic</td>\n",
       "      <td>Multivariate</td>\n",
       "      <td>Classification (Binary)</td>\n",
       "      <td>Survived</td>\n",
       "      <td>None</td>\n",
       "      <td>891</td>\n",
       "      <td>11</td>\n",
       "      <td>Y</td>\n",
       "    </tr>\n",
       "    <tr>\n",
       "      <th>19</th>\n",
       "      <td>us_presidential_election_results</td>\n",
       "      <td>Multivariate</td>\n",
       "      <td>Classification (Binary)</td>\n",
       "      <td>party_winner</td>\n",
       "      <td>None</td>\n",
       "      <td>497</td>\n",
       "      <td>7</td>\n",
       "      <td>N</td>\n",
       "    </tr>\n",
       "    <tr>\n",
       "      <th>20</th>\n",
       "      <td>glass</td>\n",
       "      <td>Multivariate</td>\n",
       "      <td>Classification (Multiclass)</td>\n",
       "      <td>Type</td>\n",
       "      <td>None</td>\n",
       "      <td>214</td>\n",
       "      <td>10</td>\n",
       "      <td>N</td>\n",
       "    </tr>\n",
       "    <tr>\n",
       "      <th>21</th>\n",
       "      <td>iris</td>\n",
       "      <td>Multivariate</td>\n",
       "      <td>Classification (Multiclass)</td>\n",
       "      <td>species</td>\n",
       "      <td>None</td>\n",
       "      <td>150</td>\n",
       "      <td>5</td>\n",
       "      <td>N</td>\n",
       "    </tr>\n",
       "    <tr>\n",
       "      <th>22</th>\n",
       "      <td>poker</td>\n",
       "      <td>Multivariate</td>\n",
       "      <td>Classification (Multiclass)</td>\n",
       "      <td>CLASS</td>\n",
       "      <td>None</td>\n",
       "      <td>100000</td>\n",
       "      <td>11</td>\n",
       "      <td>N</td>\n",
       "    </tr>\n",
       "    <tr>\n",
       "      <th>23</th>\n",
       "      <td>questions</td>\n",
       "      <td>Multivariate</td>\n",
       "      <td>Classification (Multiclass)</td>\n",
       "      <td>Next_Question</td>\n",
       "      <td>None</td>\n",
       "      <td>499</td>\n",
       "      <td>4</td>\n",
       "      <td>N</td>\n",
       "    </tr>\n",
       "    <tr>\n",
       "      <th>24</th>\n",
       "      <td>satellite</td>\n",
       "      <td>Multivariate</td>\n",
       "      <td>Classification (Multiclass)</td>\n",
       "      <td>Class</td>\n",
       "      <td>None</td>\n",
       "      <td>6435</td>\n",
       "      <td>37</td>\n",
       "      <td>N</td>\n",
       "    </tr>\n",
       "    <tr>\n",
       "      <th>25</th>\n",
       "      <td>CTG</td>\n",
       "      <td>Multivariate</td>\n",
       "      <td>Classification (Multiclass)</td>\n",
       "      <td>NSP</td>\n",
       "      <td>None</td>\n",
       "      <td>2129</td>\n",
       "      <td>40</td>\n",
       "      <td>Y</td>\n",
       "    </tr>\n",
       "    <tr>\n",
       "      <th>26</th>\n",
       "      <td>asia_gdp</td>\n",
       "      <td>Multivariate</td>\n",
       "      <td>Clustering</td>\n",
       "      <td>None</td>\n",
       "      <td>None</td>\n",
       "      <td>40</td>\n",
       "      <td>11</td>\n",
       "      <td>N</td>\n",
       "    </tr>\n",
       "    <tr>\n",
       "      <th>27</th>\n",
       "      <td>elections</td>\n",
       "      <td>Multivariate</td>\n",
       "      <td>Clustering</td>\n",
       "      <td>None</td>\n",
       "      <td>None</td>\n",
       "      <td>3195</td>\n",
       "      <td>54</td>\n",
       "      <td>Y</td>\n",
       "    </tr>\n",
       "    <tr>\n",
       "      <th>28</th>\n",
       "      <td>facebook</td>\n",
       "      <td>Multivariate</td>\n",
       "      <td>Clustering</td>\n",
       "      <td>None</td>\n",
       "      <td>None</td>\n",
       "      <td>7050</td>\n",
       "      <td>12</td>\n",
       "      <td>N</td>\n",
       "    </tr>\n",
       "    <tr>\n",
       "      <th>29</th>\n",
       "      <td>ipl</td>\n",
       "      <td>Multivariate</td>\n",
       "      <td>Clustering</td>\n",
       "      <td>None</td>\n",
       "      <td>None</td>\n",
       "      <td>153</td>\n",
       "      <td>25</td>\n",
       "      <td>N</td>\n",
       "    </tr>\n",
       "    <tr>\n",
       "      <th>30</th>\n",
       "      <td>jewellery</td>\n",
       "      <td>Multivariate</td>\n",
       "      <td>Clustering</td>\n",
       "      <td>None</td>\n",
       "      <td>None</td>\n",
       "      <td>505</td>\n",
       "      <td>4</td>\n",
       "      <td>N</td>\n",
       "    </tr>\n",
       "    <tr>\n",
       "      <th>31</th>\n",
       "      <td>mice</td>\n",
       "      <td>Multivariate</td>\n",
       "      <td>Clustering</td>\n",
       "      <td>None</td>\n",
       "      <td>None</td>\n",
       "      <td>1080</td>\n",
       "      <td>82</td>\n",
       "      <td>Y</td>\n",
       "    </tr>\n",
       "    <tr>\n",
       "      <th>32</th>\n",
       "      <td>migration</td>\n",
       "      <td>Multivariate</td>\n",
       "      <td>Clustering</td>\n",
       "      <td>None</td>\n",
       "      <td>None</td>\n",
       "      <td>233</td>\n",
       "      <td>12</td>\n",
       "      <td>N</td>\n",
       "    </tr>\n",
       "    <tr>\n",
       "      <th>33</th>\n",
       "      <td>perfume</td>\n",
       "      <td>Multivariate</td>\n",
       "      <td>Clustering</td>\n",
       "      <td>None</td>\n",
       "      <td>None</td>\n",
       "      <td>20</td>\n",
       "      <td>29</td>\n",
       "      <td>N</td>\n",
       "    </tr>\n",
       "    <tr>\n",
       "      <th>34</th>\n",
       "      <td>pokemon</td>\n",
       "      <td>Multivariate</td>\n",
       "      <td>Clustering</td>\n",
       "      <td>None</td>\n",
       "      <td>None</td>\n",
       "      <td>800</td>\n",
       "      <td>13</td>\n",
       "      <td>Y</td>\n",
       "    </tr>\n",
       "    <tr>\n",
       "      <th>35</th>\n",
       "      <td>population</td>\n",
       "      <td>Multivariate</td>\n",
       "      <td>Clustering</td>\n",
       "      <td>None</td>\n",
       "      <td>None</td>\n",
       "      <td>255</td>\n",
       "      <td>56</td>\n",
       "      <td>Y</td>\n",
       "    </tr>\n",
       "    <tr>\n",
       "      <th>36</th>\n",
       "      <td>public_health</td>\n",
       "      <td>Multivariate</td>\n",
       "      <td>Clustering</td>\n",
       "      <td>None</td>\n",
       "      <td>None</td>\n",
       "      <td>224</td>\n",
       "      <td>21</td>\n",
       "      <td>N</td>\n",
       "    </tr>\n",
       "    <tr>\n",
       "      <th>37</th>\n",
       "      <td>seeds</td>\n",
       "      <td>Multivariate</td>\n",
       "      <td>Clustering</td>\n",
       "      <td>None</td>\n",
       "      <td>None</td>\n",
       "      <td>210</td>\n",
       "      <td>7</td>\n",
       "      <td>N</td>\n",
       "    </tr>\n",
       "    <tr>\n",
       "      <th>38</th>\n",
       "      <td>wholesale</td>\n",
       "      <td>Multivariate</td>\n",
       "      <td>Clustering</td>\n",
       "      <td>None</td>\n",
       "      <td>None</td>\n",
       "      <td>440</td>\n",
       "      <td>8</td>\n",
       "      <td>N</td>\n",
       "    </tr>\n",
       "    <tr>\n",
       "      <th>39</th>\n",
       "      <td>tweets</td>\n",
       "      <td>Text</td>\n",
       "      <td>NLP</td>\n",
       "      <td>tweet</td>\n",
       "      <td>None</td>\n",
       "      <td>8594</td>\n",
       "      <td>2</td>\n",
       "      <td>N</td>\n",
       "    </tr>\n",
       "    <tr>\n",
       "      <th>40</th>\n",
       "      <td>amazon</td>\n",
       "      <td>Text</td>\n",
       "      <td>NLP / Classification</td>\n",
       "      <td>reviewText</td>\n",
       "      <td>None</td>\n",
       "      <td>20000</td>\n",
       "      <td>2</td>\n",
       "      <td>N</td>\n",
       "    </tr>\n",
       "    <tr>\n",
       "      <th>41</th>\n",
       "      <td>kiva</td>\n",
       "      <td>Text</td>\n",
       "      <td>NLP / Classification</td>\n",
       "      <td>en</td>\n",
       "      <td>None</td>\n",
       "      <td>6818</td>\n",
       "      <td>7</td>\n",
       "      <td>N</td>\n",
       "    </tr>\n",
       "    <tr>\n",
       "      <th>42</th>\n",
       "      <td>spx</td>\n",
       "      <td>Text</td>\n",
       "      <td>NLP / Regression</td>\n",
       "      <td>text</td>\n",
       "      <td>None</td>\n",
       "      <td>874</td>\n",
       "      <td>4</td>\n",
       "      <td>N</td>\n",
       "    </tr>\n",
       "    <tr>\n",
       "      <th>43</th>\n",
       "      <td>wikipedia</td>\n",
       "      <td>Text</td>\n",
       "      <td>NLP / Classification</td>\n",
       "      <td>Text</td>\n",
       "      <td>None</td>\n",
       "      <td>500</td>\n",
       "      <td>3</td>\n",
       "      <td>N</td>\n",
       "    </tr>\n",
       "    <tr>\n",
       "      <th>44</th>\n",
       "      <td>automobile</td>\n",
       "      <td>Multivariate</td>\n",
       "      <td>Regression</td>\n",
       "      <td>price</td>\n",
       "      <td>None</td>\n",
       "      <td>202</td>\n",
       "      <td>26</td>\n",
       "      <td>Y</td>\n",
       "    </tr>\n",
       "    <tr>\n",
       "      <th>45</th>\n",
       "      <td>bike</td>\n",
       "      <td>Multivariate</td>\n",
       "      <td>Regression</td>\n",
       "      <td>cnt</td>\n",
       "      <td>None</td>\n",
       "      <td>17379</td>\n",
       "      <td>15</td>\n",
       "      <td>N</td>\n",
       "    </tr>\n",
       "    <tr>\n",
       "      <th>46</th>\n",
       "      <td>boston</td>\n",
       "      <td>Multivariate</td>\n",
       "      <td>Regression</td>\n",
       "      <td>medv</td>\n",
       "      <td>None</td>\n",
       "      <td>506</td>\n",
       "      <td>14</td>\n",
       "      <td>N</td>\n",
       "    </tr>\n",
       "    <tr>\n",
       "      <th>47</th>\n",
       "      <td>concrete</td>\n",
       "      <td>Multivariate</td>\n",
       "      <td>Regression</td>\n",
       "      <td>strength</td>\n",
       "      <td>None</td>\n",
       "      <td>1030</td>\n",
       "      <td>9</td>\n",
       "      <td>N</td>\n",
       "    </tr>\n",
       "    <tr>\n",
       "      <th>48</th>\n",
       "      <td>diamond</td>\n",
       "      <td>Multivariate</td>\n",
       "      <td>Regression</td>\n",
       "      <td>Price</td>\n",
       "      <td>None</td>\n",
       "      <td>6000</td>\n",
       "      <td>8</td>\n",
       "      <td>N</td>\n",
       "    </tr>\n",
       "    <tr>\n",
       "      <th>49</th>\n",
       "      <td>energy</td>\n",
       "      <td>Multivariate</td>\n",
       "      <td>Regression</td>\n",
       "      <td>Heating Load</td>\n",
       "      <td>Cooling Load</td>\n",
       "      <td>768</td>\n",
       "      <td>10</td>\n",
       "      <td>N</td>\n",
       "    </tr>\n",
       "    <tr>\n",
       "      <th>50</th>\n",
       "      <td>forest</td>\n",
       "      <td>Multivariate</td>\n",
       "      <td>Regression</td>\n",
       "      <td>area</td>\n",
       "      <td>None</td>\n",
       "      <td>517</td>\n",
       "      <td>13</td>\n",
       "      <td>N</td>\n",
       "    </tr>\n",
       "    <tr>\n",
       "      <th>51</th>\n",
       "      <td>gold</td>\n",
       "      <td>Multivariate</td>\n",
       "      <td>Regression</td>\n",
       "      <td>Gold_T+22</td>\n",
       "      <td>None</td>\n",
       "      <td>2558</td>\n",
       "      <td>121</td>\n",
       "      <td>N</td>\n",
       "    </tr>\n",
       "    <tr>\n",
       "      <th>52</th>\n",
       "      <td>house</td>\n",
       "      <td>Multivariate</td>\n",
       "      <td>Regression</td>\n",
       "      <td>SalePrice</td>\n",
       "      <td>None</td>\n",
       "      <td>1461</td>\n",
       "      <td>81</td>\n",
       "      <td>Y</td>\n",
       "    </tr>\n",
       "    <tr>\n",
       "      <th>53</th>\n",
       "      <td>insurance</td>\n",
       "      <td>Multivariate</td>\n",
       "      <td>Regression</td>\n",
       "      <td>charges</td>\n",
       "      <td>None</td>\n",
       "      <td>1338</td>\n",
       "      <td>7</td>\n",
       "      <td>N</td>\n",
       "    </tr>\n",
       "    <tr>\n",
       "      <th>54</th>\n",
       "      <td>parkinsons</td>\n",
       "      <td>Multivariate</td>\n",
       "      <td>Regression</td>\n",
       "      <td>PPE</td>\n",
       "      <td>None</td>\n",
       "      <td>5875</td>\n",
       "      <td>22</td>\n",
       "      <td>N</td>\n",
       "    </tr>\n",
       "    <tr>\n",
       "      <th>55</th>\n",
       "      <td>traffic</td>\n",
       "      <td>Multivariate</td>\n",
       "      <td>Regression</td>\n",
       "      <td>traffic_volume</td>\n",
       "      <td>None</td>\n",
       "      <td>48204</td>\n",
       "      <td>8</td>\n",
       "      <td>N</td>\n",
       "    </tr>\n",
       "  </tbody>\n",
       "</table>\n",
       "</div>"
      ],
      "text/plain": [
       "                             Dataset    Data Types  ... # Attributes Missing Values\n",
       "0                            anomaly  Multivariate  ...           10              N\n",
       "1                             france  Multivariate  ...            8              N\n",
       "2                            germany  Multivariate  ...            8              N\n",
       "3                               bank  Multivariate  ...           17              N\n",
       "4                              blood  Multivariate  ...            5              N\n",
       "5                             cancer  Multivariate  ...           10              N\n",
       "6                             credit  Multivariate  ...           24              N\n",
       "7                           diabetes  Multivariate  ...            9              N\n",
       "8                    electrical_grid  Multivariate  ...           14              N\n",
       "9                           employee  Multivariate  ...           10              N\n",
       "10                             heart  Multivariate  ...           16              N\n",
       "11                     heart_disease  Multivariate  ...           14              N\n",
       "12                         hepatitis  Multivariate  ...           32              Y\n",
       "13                            income  Multivariate  ...           14              Y\n",
       "14                             juice  Multivariate  ...           15              N\n",
       "15                               nba  Multivariate  ...           21              N\n",
       "16                              wine  Multivariate  ...           13              N\n",
       "17                         telescope  Multivariate  ...           11              N\n",
       "18                           titanic  Multivariate  ...           11              Y\n",
       "19  us_presidential_election_results  Multivariate  ...            7              N\n",
       "20                             glass  Multivariate  ...           10              N\n",
       "21                              iris  Multivariate  ...            5              N\n",
       "22                             poker  Multivariate  ...           11              N\n",
       "23                         questions  Multivariate  ...            4              N\n",
       "24                         satellite  Multivariate  ...           37              N\n",
       "25                               CTG  Multivariate  ...           40              Y\n",
       "26                          asia_gdp  Multivariate  ...           11              N\n",
       "27                         elections  Multivariate  ...           54              Y\n",
       "28                          facebook  Multivariate  ...           12              N\n",
       "29                               ipl  Multivariate  ...           25              N\n",
       "30                         jewellery  Multivariate  ...            4              N\n",
       "31                              mice  Multivariate  ...           82              Y\n",
       "32                         migration  Multivariate  ...           12              N\n",
       "33                           perfume  Multivariate  ...           29              N\n",
       "34                           pokemon  Multivariate  ...           13              Y\n",
       "35                        population  Multivariate  ...           56              Y\n",
       "36                     public_health  Multivariate  ...           21              N\n",
       "37                             seeds  Multivariate  ...            7              N\n",
       "38                         wholesale  Multivariate  ...            8              N\n",
       "39                            tweets          Text  ...            2              N\n",
       "40                            amazon          Text  ...            2              N\n",
       "41                              kiva          Text  ...            7              N\n",
       "42                               spx          Text  ...            4              N\n",
       "43                         wikipedia          Text  ...            3              N\n",
       "44                        automobile  Multivariate  ...           26              Y\n",
       "45                              bike  Multivariate  ...           15              N\n",
       "46                            boston  Multivariate  ...           14              N\n",
       "47                          concrete  Multivariate  ...            9              N\n",
       "48                           diamond  Multivariate  ...            8              N\n",
       "49                            energy  Multivariate  ...           10              N\n",
       "50                            forest  Multivariate  ...           13              N\n",
       "51                              gold  Multivariate  ...          121              N\n",
       "52                             house  Multivariate  ...           81              Y\n",
       "53                         insurance  Multivariate  ...            7              N\n",
       "54                        parkinsons  Multivariate  ...           22              N\n",
       "55                           traffic  Multivariate  ...            8              N\n",
       "\n",
       "[56 rows x 8 columns]"
      ]
     },
     "metadata": {},
     "output_type": "display_data"
    }
   ],
   "source": [
    "all_datasets = get_data('index')\n"
   ]
  },
  {
   "cell_type": "code",
   "execution_count": 9,
   "metadata": {
    "scrolled": true
   },
   "outputs": [
    {
     "data": {
      "text/html": [
       "<div>\n",
       "<style scoped>\n",
       "    .dataframe tbody tr th:only-of-type {\n",
       "        vertical-align: middle;\n",
       "    }\n",
       "\n",
       "    .dataframe tbody tr th {\n",
       "        vertical-align: top;\n",
       "    }\n",
       "\n",
       "    .dataframe thead th {\n",
       "        text-align: right;\n",
       "    }\n",
       "</style>\n",
       "<table border=\"1\" class=\"dataframe\">\n",
       "  <thead>\n",
       "    <tr style=\"text-align: right;\">\n",
       "      <th></th>\n",
       "      <th>Col1</th>\n",
       "      <th>Col2</th>\n",
       "      <th>Col3</th>\n",
       "      <th>Col4</th>\n",
       "      <th>Col5</th>\n",
       "      <th>Col6</th>\n",
       "      <th>Col7</th>\n",
       "      <th>Col8</th>\n",
       "      <th>Col9</th>\n",
       "      <th>Col10</th>\n",
       "    </tr>\n",
       "  </thead>\n",
       "  <tbody>\n",
       "    <tr>\n",
       "      <th>0</th>\n",
       "      <td>0.263995</td>\n",
       "      <td>0.764929</td>\n",
       "      <td>0.138424</td>\n",
       "      <td>0.935242</td>\n",
       "      <td>0.605867</td>\n",
       "      <td>0.518790</td>\n",
       "      <td>0.912225</td>\n",
       "      <td>0.608234</td>\n",
       "      <td>0.723782</td>\n",
       "      <td>0.733591</td>\n",
       "    </tr>\n",
       "    <tr>\n",
       "      <th>1</th>\n",
       "      <td>0.546092</td>\n",
       "      <td>0.653975</td>\n",
       "      <td>0.065575</td>\n",
       "      <td>0.227772</td>\n",
       "      <td>0.845269</td>\n",
       "      <td>0.837066</td>\n",
       "      <td>0.272379</td>\n",
       "      <td>0.331679</td>\n",
       "      <td>0.429297</td>\n",
       "      <td>0.367422</td>\n",
       "    </tr>\n",
       "    <tr>\n",
       "      <th>2</th>\n",
       "      <td>0.336714</td>\n",
       "      <td>0.538842</td>\n",
       "      <td>0.192801</td>\n",
       "      <td>0.553563</td>\n",
       "      <td>0.074515</td>\n",
       "      <td>0.332993</td>\n",
       "      <td>0.365792</td>\n",
       "      <td>0.861309</td>\n",
       "      <td>0.899017</td>\n",
       "      <td>0.088600</td>\n",
       "    </tr>\n",
       "    <tr>\n",
       "      <th>3</th>\n",
       "      <td>0.092108</td>\n",
       "      <td>0.995017</td>\n",
       "      <td>0.014465</td>\n",
       "      <td>0.176371</td>\n",
       "      <td>0.241530</td>\n",
       "      <td>0.514724</td>\n",
       "      <td>0.562208</td>\n",
       "      <td>0.158963</td>\n",
       "      <td>0.073715</td>\n",
       "      <td>0.208463</td>\n",
       "    </tr>\n",
       "    <tr>\n",
       "      <th>4</th>\n",
       "      <td>0.325261</td>\n",
       "      <td>0.805968</td>\n",
       "      <td>0.957033</td>\n",
       "      <td>0.331665</td>\n",
       "      <td>0.307923</td>\n",
       "      <td>0.355315</td>\n",
       "      <td>0.501899</td>\n",
       "      <td>0.558449</td>\n",
       "      <td>0.885169</td>\n",
       "      <td>0.182754</td>\n",
       "    </tr>\n",
       "  </tbody>\n",
       "</table>\n",
       "</div>"
      ],
      "text/plain": [
       "       Col1      Col2      Col3      Col4      Col5      Col6      Col7      Col8      Col9     Col10\n",
       "0  0.263995  0.764929  0.138424  0.935242  0.605867  0.518790  0.912225  0.608234  0.723782  0.733591\n",
       "1  0.546092  0.653975  0.065575  0.227772  0.845269  0.837066  0.272379  0.331679  0.429297  0.367422\n",
       "2  0.336714  0.538842  0.192801  0.553563  0.074515  0.332993  0.365792  0.861309  0.899017  0.088600\n",
       "3  0.092108  0.995017  0.014465  0.176371  0.241530  0.514724  0.562208  0.158963  0.073715  0.208463\n",
       "4  0.325261  0.805968  0.957033  0.331665  0.307923  0.355315  0.501899  0.558449  0.885169  0.182754"
      ]
     },
     "metadata": {},
     "output_type": "display_data"
    }
   ],
   "source": [
    "data = get_data('anomaly')"
   ]
  },
  {
   "cell_type": "code",
   "execution_count": 12,
   "metadata": {},
   "outputs": [
    {
     "data": {
      "text/plain": [
       "(1000, 10)"
      ]
     },
     "execution_count": 12,
     "metadata": {},
     "output_type": "execute_result"
    }
   ],
   "source": [
    "data.shape"
   ]
  },
  {
   "cell_type": "code",
   "execution_count": 13,
   "metadata": {},
   "outputs": [
    {
     "data": {
      "text/plain": [
       "Col1     0\n",
       "Col2     0\n",
       "Col3     0\n",
       "Col4     0\n",
       "Col5     0\n",
       "Col6     0\n",
       "Col7     0\n",
       "Col8     0\n",
       "Col9     0\n",
       "Col10    0\n",
       "dtype: int64"
      ]
     },
     "execution_count": 13,
     "metadata": {},
     "output_type": "execute_result"
    }
   ],
   "source": [
    "data.isnull().sum()"
   ]
  },
  {
   "cell_type": "code",
   "execution_count": 18,
   "metadata": {
    "scrolled": true
   },
   "outputs": [
    {
     "data": {
      "text/html": [
       "<div>\n",
       "<style scoped>\n",
       "    .dataframe tbody tr th:only-of-type {\n",
       "        vertical-align: middle;\n",
       "    }\n",
       "\n",
       "    .dataframe tbody tr th {\n",
       "        vertical-align: top;\n",
       "    }\n",
       "\n",
       "    .dataframe thead th {\n",
       "        text-align: right;\n",
       "    }\n",
       "</style>\n",
       "<table border=\"1\" class=\"dataframe\">\n",
       "  <thead>\n",
       "    <tr style=\"text-align: right;\">\n",
       "      <th></th>\n",
       "      <th>count</th>\n",
       "      <th>mean</th>\n",
       "      <th>std</th>\n",
       "      <th>min</th>\n",
       "      <th>25%</th>\n",
       "      <th>50%</th>\n",
       "      <th>75%</th>\n",
       "      <th>max</th>\n",
       "    </tr>\n",
       "  </thead>\n",
       "  <tbody>\n",
       "    <tr>\n",
       "      <th>Col1</th>\n",
       "      <td>1000.0</td>\n",
       "      <td>0.491362</td>\n",
       "      <td>0.259138</td>\n",
       "      <td>0.000000</td>\n",
       "      <td>0.287458</td>\n",
       "      <td>0.492070</td>\n",
       "      <td>0.694192</td>\n",
       "      <td>0.994431</td>\n",
       "    </tr>\n",
       "    <tr>\n",
       "      <th>Col2</th>\n",
       "      <td>1000.0</td>\n",
       "      <td>0.490200</td>\n",
       "      <td>0.251931</td>\n",
       "      <td>0.000000</td>\n",
       "      <td>0.291449</td>\n",
       "      <td>0.488656</td>\n",
       "      <td>0.686531</td>\n",
       "      <td>1.000000</td>\n",
       "    </tr>\n",
       "    <tr>\n",
       "      <th>Col3</th>\n",
       "      <td>1000.0</td>\n",
       "      <td>0.509077</td>\n",
       "      <td>0.256606</td>\n",
       "      <td>0.000000</td>\n",
       "      <td>0.337802</td>\n",
       "      <td>0.510077</td>\n",
       "      <td>0.686914</td>\n",
       "      <td>1.000000</td>\n",
       "    </tr>\n",
       "    <tr>\n",
       "      <th>Col4</th>\n",
       "      <td>1000.0</td>\n",
       "      <td>0.497362</td>\n",
       "      <td>0.263562</td>\n",
       "      <td>0.000000</td>\n",
       "      <td>0.256147</td>\n",
       "      <td>0.497537</td>\n",
       "      <td>0.731949</td>\n",
       "      <td>1.000000</td>\n",
       "    </tr>\n",
       "    <tr>\n",
       "      <th>Col5</th>\n",
       "      <td>1000.0</td>\n",
       "      <td>0.586120</td>\n",
       "      <td>0.334658</td>\n",
       "      <td>0.000000</td>\n",
       "      <td>0.169680</td>\n",
       "      <td>0.782019</td>\n",
       "      <td>0.847956</td>\n",
       "      <td>1.000000</td>\n",
       "    </tr>\n",
       "    <tr>\n",
       "      <th>Col6</th>\n",
       "      <td>1000.0</td>\n",
       "      <td>0.514636</td>\n",
       "      <td>0.317470</td>\n",
       "      <td>0.000000</td>\n",
       "      <td>0.142587</td>\n",
       "      <td>0.537953</td>\n",
       "      <td>0.856512</td>\n",
       "      <td>1.000000</td>\n",
       "    </tr>\n",
       "    <tr>\n",
       "      <th>Col7</th>\n",
       "      <td>1000.0</td>\n",
       "      <td>0.508270</td>\n",
       "      <td>0.278483</td>\n",
       "      <td>0.000000</td>\n",
       "      <td>0.246021</td>\n",
       "      <td>0.465679</td>\n",
       "      <td>0.804935</td>\n",
       "      <td>1.000000</td>\n",
       "    </tr>\n",
       "    <tr>\n",
       "      <th>Col8</th>\n",
       "      <td>1000.0</td>\n",
       "      <td>0.457541</td>\n",
       "      <td>0.220129</td>\n",
       "      <td>0.000000</td>\n",
       "      <td>0.245539</td>\n",
       "      <td>0.515619</td>\n",
       "      <td>0.626757</td>\n",
       "      <td>1.000000</td>\n",
       "    </tr>\n",
       "    <tr>\n",
       "      <th>Col9</th>\n",
       "      <td>1000.0</td>\n",
       "      <td>0.477685</td>\n",
       "      <td>0.241432</td>\n",
       "      <td>0.000000</td>\n",
       "      <td>0.291452</td>\n",
       "      <td>0.387753</td>\n",
       "      <td>0.723674</td>\n",
       "      <td>0.988732</td>\n",
       "    </tr>\n",
       "    <tr>\n",
       "      <th>Col10</th>\n",
       "      <td>1000.0</td>\n",
       "      <td>0.495760</td>\n",
       "      <td>0.211677</td>\n",
       "      <td>0.014495</td>\n",
       "      <td>0.329904</td>\n",
       "      <td>0.488891</td>\n",
       "      <td>0.659528</td>\n",
       "      <td>1.000000</td>\n",
       "    </tr>\n",
       "  </tbody>\n",
       "</table>\n",
       "</div>"
      ],
      "text/plain": [
       "        count      mean       std       min       25%       50%       75%       max\n",
       "Col1   1000.0  0.491362  0.259138  0.000000  0.287458  0.492070  0.694192  0.994431\n",
       "Col2   1000.0  0.490200  0.251931  0.000000  0.291449  0.488656  0.686531  1.000000\n",
       "Col3   1000.0  0.509077  0.256606  0.000000  0.337802  0.510077  0.686914  1.000000\n",
       "Col4   1000.0  0.497362  0.263562  0.000000  0.256147  0.497537  0.731949  1.000000\n",
       "Col5   1000.0  0.586120  0.334658  0.000000  0.169680  0.782019  0.847956  1.000000\n",
       "Col6   1000.0  0.514636  0.317470  0.000000  0.142587  0.537953  0.856512  1.000000\n",
       "Col7   1000.0  0.508270  0.278483  0.000000  0.246021  0.465679  0.804935  1.000000\n",
       "Col8   1000.0  0.457541  0.220129  0.000000  0.245539  0.515619  0.626757  1.000000\n",
       "Col9   1000.0  0.477685  0.241432  0.000000  0.291452  0.387753  0.723674  0.988732\n",
       "Col10  1000.0  0.495760  0.211677  0.014495  0.329904  0.488891  0.659528  1.000000"
      ]
     },
     "execution_count": 18,
     "metadata": {},
     "output_type": "execute_result"
    }
   ],
   "source": [
    "data.describe().T # DATA IS ALREADY NORMALIZED "
   ]
  },
  {
   "cell_type": "code",
   "execution_count": 58,
   "metadata": {
    "scrolled": true
   },
   "outputs": [
    {
     "data": {
      "text/html": [
       "<style  type=\"text/css\" >\n",
       "#T_46b0a_row10_col1,#T_46b0a_row11_col1{\n",
       "            background-color:  lightgreen;\n",
       "        }</style><table id=\"T_46b0a_\" ><thead>    <tr>        <th class=\"blank level0\" ></th>        <th class=\"col_heading level0 col0\" >Description</th>        <th class=\"col_heading level0 col1\" >Value</th>    </tr></thead><tbody>\n",
       "                <tr>\n",
       "                        <th id=\"T_46b0a_level0_row0\" class=\"row_heading level0 row0\" >0</th>\n",
       "                        <td id=\"T_46b0a_row0_col0\" class=\"data row0 col0\" >session_id</td>\n",
       "                        <td id=\"T_46b0a_row0_col1\" class=\"data row0 col1\" >123</td>\n",
       "            </tr>\n",
       "            <tr>\n",
       "                        <th id=\"T_46b0a_level0_row1\" class=\"row_heading level0 row1\" >1</th>\n",
       "                        <td id=\"T_46b0a_row1_col0\" class=\"data row1 col0\" >Original Data</td>\n",
       "                        <td id=\"T_46b0a_row1_col1\" class=\"data row1 col1\" >(1000, 10)</td>\n",
       "            </tr>\n",
       "            <tr>\n",
       "                        <th id=\"T_46b0a_level0_row2\" class=\"row_heading level0 row2\" >2</th>\n",
       "                        <td id=\"T_46b0a_row2_col0\" class=\"data row2 col0\" >Missing Values</td>\n",
       "                        <td id=\"T_46b0a_row2_col1\" class=\"data row2 col1\" >False</td>\n",
       "            </tr>\n",
       "            <tr>\n",
       "                        <th id=\"T_46b0a_level0_row3\" class=\"row_heading level0 row3\" >3</th>\n",
       "                        <td id=\"T_46b0a_row3_col0\" class=\"data row3 col0\" >Numeric Features</td>\n",
       "                        <td id=\"T_46b0a_row3_col1\" class=\"data row3 col1\" >10</td>\n",
       "            </tr>\n",
       "            <tr>\n",
       "                        <th id=\"T_46b0a_level0_row4\" class=\"row_heading level0 row4\" >4</th>\n",
       "                        <td id=\"T_46b0a_row4_col0\" class=\"data row4 col0\" >Categorical Features</td>\n",
       "                        <td id=\"T_46b0a_row4_col1\" class=\"data row4 col1\" >0</td>\n",
       "            </tr>\n",
       "            <tr>\n",
       "                        <th id=\"T_46b0a_level0_row5\" class=\"row_heading level0 row5\" >5</th>\n",
       "                        <td id=\"T_46b0a_row5_col0\" class=\"data row5 col0\" >Ordinal Features</td>\n",
       "                        <td id=\"T_46b0a_row5_col1\" class=\"data row5 col1\" >False</td>\n",
       "            </tr>\n",
       "            <tr>\n",
       "                        <th id=\"T_46b0a_level0_row6\" class=\"row_heading level0 row6\" >6</th>\n",
       "                        <td id=\"T_46b0a_row6_col0\" class=\"data row6 col0\" >High Cardinality Features</td>\n",
       "                        <td id=\"T_46b0a_row6_col1\" class=\"data row6 col1\" >False</td>\n",
       "            </tr>\n",
       "            <tr>\n",
       "                        <th id=\"T_46b0a_level0_row7\" class=\"row_heading level0 row7\" >7</th>\n",
       "                        <td id=\"T_46b0a_row7_col0\" class=\"data row7 col0\" >High Cardinality Method</td>\n",
       "                        <td id=\"T_46b0a_row7_col1\" class=\"data row7 col1\" >None</td>\n",
       "            </tr>\n",
       "            <tr>\n",
       "                        <th id=\"T_46b0a_level0_row8\" class=\"row_heading level0 row8\" >8</th>\n",
       "                        <td id=\"T_46b0a_row8_col0\" class=\"data row8 col0\" >Transformed Data</td>\n",
       "                        <td id=\"T_46b0a_row8_col1\" class=\"data row8 col1\" >(1000, 10)</td>\n",
       "            </tr>\n",
       "            <tr>\n",
       "                        <th id=\"T_46b0a_level0_row9\" class=\"row_heading level0 row9\" >9</th>\n",
       "                        <td id=\"T_46b0a_row9_col0\" class=\"data row9 col0\" >CPU Jobs</td>\n",
       "                        <td id=\"T_46b0a_row9_col1\" class=\"data row9 col1\" >-1</td>\n",
       "            </tr>\n",
       "            <tr>\n",
       "                        <th id=\"T_46b0a_level0_row10\" class=\"row_heading level0 row10\" >10</th>\n",
       "                        <td id=\"T_46b0a_row10_col0\" class=\"data row10 col0\" >Use GPU</td>\n",
       "                        <td id=\"T_46b0a_row10_col1\" class=\"data row10 col1\" >True</td>\n",
       "            </tr>\n",
       "            <tr>\n",
       "                        <th id=\"T_46b0a_level0_row11\" class=\"row_heading level0 row11\" >11</th>\n",
       "                        <td id=\"T_46b0a_row11_col0\" class=\"data row11 col0\" >Log Experiment</td>\n",
       "                        <td id=\"T_46b0a_row11_col1\" class=\"data row11 col1\" >True</td>\n",
       "            </tr>\n",
       "            <tr>\n",
       "                        <th id=\"T_46b0a_level0_row12\" class=\"row_heading level0 row12\" >12</th>\n",
       "                        <td id=\"T_46b0a_row12_col0\" class=\"data row12 col0\" >Experiment Name</td>\n",
       "                        <td id=\"T_46b0a_row12_col1\" class=\"data row12 col1\" >demo-anom</td>\n",
       "            </tr>\n",
       "            <tr>\n",
       "                        <th id=\"T_46b0a_level0_row13\" class=\"row_heading level0 row13\" >13</th>\n",
       "                        <td id=\"T_46b0a_row13_col0\" class=\"data row13 col0\" >USI</td>\n",
       "                        <td id=\"T_46b0a_row13_col1\" class=\"data row13 col1\" >91e8</td>\n",
       "            </tr>\n",
       "            <tr>\n",
       "                        <th id=\"T_46b0a_level0_row14\" class=\"row_heading level0 row14\" >14</th>\n",
       "                        <td id=\"T_46b0a_row14_col0\" class=\"data row14 col0\" >Imputation Type</td>\n",
       "                        <td id=\"T_46b0a_row14_col1\" class=\"data row14 col1\" >simple</td>\n",
       "            </tr>\n",
       "            <tr>\n",
       "                        <th id=\"T_46b0a_level0_row15\" class=\"row_heading level0 row15\" >15</th>\n",
       "                        <td id=\"T_46b0a_row15_col0\" class=\"data row15 col0\" >Iterative Imputation Iteration</td>\n",
       "                        <td id=\"T_46b0a_row15_col1\" class=\"data row15 col1\" >None</td>\n",
       "            </tr>\n",
       "            <tr>\n",
       "                        <th id=\"T_46b0a_level0_row16\" class=\"row_heading level0 row16\" >16</th>\n",
       "                        <td id=\"T_46b0a_row16_col0\" class=\"data row16 col0\" >Numeric Imputer</td>\n",
       "                        <td id=\"T_46b0a_row16_col1\" class=\"data row16 col1\" >mean</td>\n",
       "            </tr>\n",
       "            <tr>\n",
       "                        <th id=\"T_46b0a_level0_row17\" class=\"row_heading level0 row17\" >17</th>\n",
       "                        <td id=\"T_46b0a_row17_col0\" class=\"data row17 col0\" >Iterative Imputation Numeric Model</td>\n",
       "                        <td id=\"T_46b0a_row17_col1\" class=\"data row17 col1\" >None</td>\n",
       "            </tr>\n",
       "            <tr>\n",
       "                        <th id=\"T_46b0a_level0_row18\" class=\"row_heading level0 row18\" >18</th>\n",
       "                        <td id=\"T_46b0a_row18_col0\" class=\"data row18 col0\" >Categorical Imputer</td>\n",
       "                        <td id=\"T_46b0a_row18_col1\" class=\"data row18 col1\" >mode</td>\n",
       "            </tr>\n",
       "            <tr>\n",
       "                        <th id=\"T_46b0a_level0_row19\" class=\"row_heading level0 row19\" >19</th>\n",
       "                        <td id=\"T_46b0a_row19_col0\" class=\"data row19 col0\" >Iterative Imputation Categorical Model</td>\n",
       "                        <td id=\"T_46b0a_row19_col1\" class=\"data row19 col1\" >None</td>\n",
       "            </tr>\n",
       "            <tr>\n",
       "                        <th id=\"T_46b0a_level0_row20\" class=\"row_heading level0 row20\" >20</th>\n",
       "                        <td id=\"T_46b0a_row20_col0\" class=\"data row20 col0\" >Unknown Categoricals Handling</td>\n",
       "                        <td id=\"T_46b0a_row20_col1\" class=\"data row20 col1\" >least_frequent</td>\n",
       "            </tr>\n",
       "            <tr>\n",
       "                        <th id=\"T_46b0a_level0_row21\" class=\"row_heading level0 row21\" >21</th>\n",
       "                        <td id=\"T_46b0a_row21_col0\" class=\"data row21 col0\" >Normalize</td>\n",
       "                        <td id=\"T_46b0a_row21_col1\" class=\"data row21 col1\" >False</td>\n",
       "            </tr>\n",
       "            <tr>\n",
       "                        <th id=\"T_46b0a_level0_row22\" class=\"row_heading level0 row22\" >22</th>\n",
       "                        <td id=\"T_46b0a_row22_col0\" class=\"data row22 col0\" >Normalize Method</td>\n",
       "                        <td id=\"T_46b0a_row22_col1\" class=\"data row22 col1\" >None</td>\n",
       "            </tr>\n",
       "            <tr>\n",
       "                        <th id=\"T_46b0a_level0_row23\" class=\"row_heading level0 row23\" >23</th>\n",
       "                        <td id=\"T_46b0a_row23_col0\" class=\"data row23 col0\" >Transformation</td>\n",
       "                        <td id=\"T_46b0a_row23_col1\" class=\"data row23 col1\" >False</td>\n",
       "            </tr>\n",
       "            <tr>\n",
       "                        <th id=\"T_46b0a_level0_row24\" class=\"row_heading level0 row24\" >24</th>\n",
       "                        <td id=\"T_46b0a_row24_col0\" class=\"data row24 col0\" >Transformation Method</td>\n",
       "                        <td id=\"T_46b0a_row24_col1\" class=\"data row24 col1\" >None</td>\n",
       "            </tr>\n",
       "            <tr>\n",
       "                        <th id=\"T_46b0a_level0_row25\" class=\"row_heading level0 row25\" >25</th>\n",
       "                        <td id=\"T_46b0a_row25_col0\" class=\"data row25 col0\" >PCA</td>\n",
       "                        <td id=\"T_46b0a_row25_col1\" class=\"data row25 col1\" >False</td>\n",
       "            </tr>\n",
       "            <tr>\n",
       "                        <th id=\"T_46b0a_level0_row26\" class=\"row_heading level0 row26\" >26</th>\n",
       "                        <td id=\"T_46b0a_row26_col0\" class=\"data row26 col0\" >PCA Method</td>\n",
       "                        <td id=\"T_46b0a_row26_col1\" class=\"data row26 col1\" >None</td>\n",
       "            </tr>\n",
       "            <tr>\n",
       "                        <th id=\"T_46b0a_level0_row27\" class=\"row_heading level0 row27\" >27</th>\n",
       "                        <td id=\"T_46b0a_row27_col0\" class=\"data row27 col0\" >PCA Components</td>\n",
       "                        <td id=\"T_46b0a_row27_col1\" class=\"data row27 col1\" >None</td>\n",
       "            </tr>\n",
       "            <tr>\n",
       "                        <th id=\"T_46b0a_level0_row28\" class=\"row_heading level0 row28\" >28</th>\n",
       "                        <td id=\"T_46b0a_row28_col0\" class=\"data row28 col0\" >Ignore Low Variance</td>\n",
       "                        <td id=\"T_46b0a_row28_col1\" class=\"data row28 col1\" >False</td>\n",
       "            </tr>\n",
       "            <tr>\n",
       "                        <th id=\"T_46b0a_level0_row29\" class=\"row_heading level0 row29\" >29</th>\n",
       "                        <td id=\"T_46b0a_row29_col0\" class=\"data row29 col0\" >Combine Rare Levels</td>\n",
       "                        <td id=\"T_46b0a_row29_col1\" class=\"data row29 col1\" >False</td>\n",
       "            </tr>\n",
       "            <tr>\n",
       "                        <th id=\"T_46b0a_level0_row30\" class=\"row_heading level0 row30\" >30</th>\n",
       "                        <td id=\"T_46b0a_row30_col0\" class=\"data row30 col0\" >Rare Level Threshold</td>\n",
       "                        <td id=\"T_46b0a_row30_col1\" class=\"data row30 col1\" >None</td>\n",
       "            </tr>\n",
       "            <tr>\n",
       "                        <th id=\"T_46b0a_level0_row31\" class=\"row_heading level0 row31\" >31</th>\n",
       "                        <td id=\"T_46b0a_row31_col0\" class=\"data row31 col0\" >Numeric Binning</td>\n",
       "                        <td id=\"T_46b0a_row31_col1\" class=\"data row31 col1\" >False</td>\n",
       "            </tr>\n",
       "            <tr>\n",
       "                        <th id=\"T_46b0a_level0_row32\" class=\"row_heading level0 row32\" >32</th>\n",
       "                        <td id=\"T_46b0a_row32_col0\" class=\"data row32 col0\" >Remove Outliers</td>\n",
       "                        <td id=\"T_46b0a_row32_col1\" class=\"data row32 col1\" >False</td>\n",
       "            </tr>\n",
       "            <tr>\n",
       "                        <th id=\"T_46b0a_level0_row33\" class=\"row_heading level0 row33\" >33</th>\n",
       "                        <td id=\"T_46b0a_row33_col0\" class=\"data row33 col0\" >Outliers Threshold</td>\n",
       "                        <td id=\"T_46b0a_row33_col1\" class=\"data row33 col1\" >None</td>\n",
       "            </tr>\n",
       "            <tr>\n",
       "                        <th id=\"T_46b0a_level0_row34\" class=\"row_heading level0 row34\" >34</th>\n",
       "                        <td id=\"T_46b0a_row34_col0\" class=\"data row34 col0\" >Remove Multicollinearity</td>\n",
       "                        <td id=\"T_46b0a_row34_col1\" class=\"data row34 col1\" >False</td>\n",
       "            </tr>\n",
       "            <tr>\n",
       "                        <th id=\"T_46b0a_level0_row35\" class=\"row_heading level0 row35\" >35</th>\n",
       "                        <td id=\"T_46b0a_row35_col0\" class=\"data row35 col0\" >Multicollinearity Threshold</td>\n",
       "                        <td id=\"T_46b0a_row35_col1\" class=\"data row35 col1\" >None</td>\n",
       "            </tr>\n",
       "            <tr>\n",
       "                        <th id=\"T_46b0a_level0_row36\" class=\"row_heading level0 row36\" >36</th>\n",
       "                        <td id=\"T_46b0a_row36_col0\" class=\"data row36 col0\" >Remove Perfect Collinearity</td>\n",
       "                        <td id=\"T_46b0a_row36_col1\" class=\"data row36 col1\" >False</td>\n",
       "            </tr>\n",
       "            <tr>\n",
       "                        <th id=\"T_46b0a_level0_row37\" class=\"row_heading level0 row37\" >37</th>\n",
       "                        <td id=\"T_46b0a_row37_col0\" class=\"data row37 col0\" >Clustering</td>\n",
       "                        <td id=\"T_46b0a_row37_col1\" class=\"data row37 col1\" >False</td>\n",
       "            </tr>\n",
       "            <tr>\n",
       "                        <th id=\"T_46b0a_level0_row38\" class=\"row_heading level0 row38\" >38</th>\n",
       "                        <td id=\"T_46b0a_row38_col0\" class=\"data row38 col0\" >Clustering Iteration</td>\n",
       "                        <td id=\"T_46b0a_row38_col1\" class=\"data row38 col1\" >None</td>\n",
       "            </tr>\n",
       "            <tr>\n",
       "                        <th id=\"T_46b0a_level0_row39\" class=\"row_heading level0 row39\" >39</th>\n",
       "                        <td id=\"T_46b0a_row39_col0\" class=\"data row39 col0\" >Polynomial Features</td>\n",
       "                        <td id=\"T_46b0a_row39_col1\" class=\"data row39 col1\" >False</td>\n",
       "            </tr>\n",
       "            <tr>\n",
       "                        <th id=\"T_46b0a_level0_row40\" class=\"row_heading level0 row40\" >40</th>\n",
       "                        <td id=\"T_46b0a_row40_col0\" class=\"data row40 col0\" >Polynomial Degree</td>\n",
       "                        <td id=\"T_46b0a_row40_col1\" class=\"data row40 col1\" >None</td>\n",
       "            </tr>\n",
       "            <tr>\n",
       "                        <th id=\"T_46b0a_level0_row41\" class=\"row_heading level0 row41\" >41</th>\n",
       "                        <td id=\"T_46b0a_row41_col0\" class=\"data row41 col0\" >Trignometry Features</td>\n",
       "                        <td id=\"T_46b0a_row41_col1\" class=\"data row41 col1\" >False</td>\n",
       "            </tr>\n",
       "            <tr>\n",
       "                        <th id=\"T_46b0a_level0_row42\" class=\"row_heading level0 row42\" >42</th>\n",
       "                        <td id=\"T_46b0a_row42_col0\" class=\"data row42 col0\" >Polynomial Threshold</td>\n",
       "                        <td id=\"T_46b0a_row42_col1\" class=\"data row42 col1\" >None</td>\n",
       "            </tr>\n",
       "            <tr>\n",
       "                        <th id=\"T_46b0a_level0_row43\" class=\"row_heading level0 row43\" >43</th>\n",
       "                        <td id=\"T_46b0a_row43_col0\" class=\"data row43 col0\" >Group Features</td>\n",
       "                        <td id=\"T_46b0a_row43_col1\" class=\"data row43 col1\" >False</td>\n",
       "            </tr>\n",
       "            <tr>\n",
       "                        <th id=\"T_46b0a_level0_row44\" class=\"row_heading level0 row44\" >44</th>\n",
       "                        <td id=\"T_46b0a_row44_col0\" class=\"data row44 col0\" >Feature Selection</td>\n",
       "                        <td id=\"T_46b0a_row44_col1\" class=\"data row44 col1\" >False</td>\n",
       "            </tr>\n",
       "            <tr>\n",
       "                        <th id=\"T_46b0a_level0_row45\" class=\"row_heading level0 row45\" >45</th>\n",
       "                        <td id=\"T_46b0a_row45_col0\" class=\"data row45 col0\" >Feature Selection Method</td>\n",
       "                        <td id=\"T_46b0a_row45_col1\" class=\"data row45 col1\" >classic</td>\n",
       "            </tr>\n",
       "            <tr>\n",
       "                        <th id=\"T_46b0a_level0_row46\" class=\"row_heading level0 row46\" >46</th>\n",
       "                        <td id=\"T_46b0a_row46_col0\" class=\"data row46 col0\" >Features Selection Threshold</td>\n",
       "                        <td id=\"T_46b0a_row46_col1\" class=\"data row46 col1\" >None</td>\n",
       "            </tr>\n",
       "            <tr>\n",
       "                        <th id=\"T_46b0a_level0_row47\" class=\"row_heading level0 row47\" >47</th>\n",
       "                        <td id=\"T_46b0a_row47_col0\" class=\"data row47 col0\" >Feature Interaction</td>\n",
       "                        <td id=\"T_46b0a_row47_col1\" class=\"data row47 col1\" >False</td>\n",
       "            </tr>\n",
       "            <tr>\n",
       "                        <th id=\"T_46b0a_level0_row48\" class=\"row_heading level0 row48\" >48</th>\n",
       "                        <td id=\"T_46b0a_row48_col0\" class=\"data row48 col0\" >Feature Ratio</td>\n",
       "                        <td id=\"T_46b0a_row48_col1\" class=\"data row48 col1\" >False</td>\n",
       "            </tr>\n",
       "            <tr>\n",
       "                        <th id=\"T_46b0a_level0_row49\" class=\"row_heading level0 row49\" >49</th>\n",
       "                        <td id=\"T_46b0a_row49_col0\" class=\"data row49 col0\" >Interaction Threshold</td>\n",
       "                        <td id=\"T_46b0a_row49_col1\" class=\"data row49 col1\" >None</td>\n",
       "            </tr>\n",
       "    </tbody></table>"
      ],
      "text/plain": [
       "<pandas.io.formats.style.Styler at 0x1b740d40708>"
      ]
     },
     "metadata": {},
     "output_type": "display_data"
    }
   ],
   "source": [
    "from pycaret.anomaly import *\n",
    "s = setup(data, session_id=123, use_gpu=True, log_experiment=True, experiment_name='demo-anom')"
   ]
  },
  {
   "cell_type": "code",
   "execution_count": 59,
   "metadata": {
    "scrolled": true
   },
   "outputs": [
    {
     "data": {
      "text/html": [
       "<div>\n",
       "<style scoped>\n",
       "    .dataframe tbody tr th:only-of-type {\n",
       "        vertical-align: middle;\n",
       "    }\n",
       "\n",
       "    .dataframe tbody tr th {\n",
       "        vertical-align: top;\n",
       "    }\n",
       "\n",
       "    .dataframe thead th {\n",
       "        text-align: right;\n",
       "    }\n",
       "</style>\n",
       "<table border=\"1\" class=\"dataframe\">\n",
       "  <thead>\n",
       "    <tr style=\"text-align: right;\">\n",
       "      <th></th>\n",
       "      <th>Name</th>\n",
       "      <th>Reference</th>\n",
       "    </tr>\n",
       "    <tr>\n",
       "      <th>ID</th>\n",
       "      <th></th>\n",
       "      <th></th>\n",
       "    </tr>\n",
       "  </thead>\n",
       "  <tbody>\n",
       "    <tr>\n",
       "      <th>abod</th>\n",
       "      <td>Angle-base Outlier Detection</td>\n",
       "      <td>pyod.models.abod.ABOD</td>\n",
       "    </tr>\n",
       "    <tr>\n",
       "      <th>cluster</th>\n",
       "      <td>Clustering-Based Local Outlier</td>\n",
       "      <td>pyod.models.cblof.CBLOF</td>\n",
       "    </tr>\n",
       "    <tr>\n",
       "      <th>cof</th>\n",
       "      <td>Connectivity-Based Local Outlier</td>\n",
       "      <td>pyod.models.cof.COF</td>\n",
       "    </tr>\n",
       "    <tr>\n",
       "      <th>iforest</th>\n",
       "      <td>Isolation Forest</td>\n",
       "      <td>pyod.models.iforest.IForest</td>\n",
       "    </tr>\n",
       "    <tr>\n",
       "      <th>histogram</th>\n",
       "      <td>Histogram-based Outlier Detection</td>\n",
       "      <td>pyod.models.hbos.HBOS</td>\n",
       "    </tr>\n",
       "    <tr>\n",
       "      <th>knn</th>\n",
       "      <td>K-Nearest Neighbors Detector</td>\n",
       "      <td>pyod.models.knn.KNN</td>\n",
       "    </tr>\n",
       "    <tr>\n",
       "      <th>lof</th>\n",
       "      <td>Local Outlier Factor</td>\n",
       "      <td>pyod.models.lof.LOF</td>\n",
       "    </tr>\n",
       "    <tr>\n",
       "      <th>svm</th>\n",
       "      <td>One-class SVM detector</td>\n",
       "      <td>pyod.models.ocsvm.OCSVM</td>\n",
       "    </tr>\n",
       "    <tr>\n",
       "      <th>pca</th>\n",
       "      <td>Principal Component Analysis</td>\n",
       "      <td>pyod.models.pca.PCA</td>\n",
       "    </tr>\n",
       "    <tr>\n",
       "      <th>mcd</th>\n",
       "      <td>Minimum Covariance Determinant</td>\n",
       "      <td>pyod.models.mcd.MCD</td>\n",
       "    </tr>\n",
       "    <tr>\n",
       "      <th>sod</th>\n",
       "      <td>Subspace Outlier Detection</td>\n",
       "      <td>pyod.models.sod.SOD</td>\n",
       "    </tr>\n",
       "    <tr>\n",
       "      <th>sos</th>\n",
       "      <td>Stochastic Outlier Selection</td>\n",
       "      <td>pyod.models.sos.SOS</td>\n",
       "    </tr>\n",
       "  </tbody>\n",
       "</table>\n",
       "</div>"
      ],
      "text/plain": [
       "                                        Name                    Reference\n",
       "ID                                                                       \n",
       "abod            Angle-base Outlier Detection        pyod.models.abod.ABOD\n",
       "cluster       Clustering-Based Local Outlier      pyod.models.cblof.CBLOF\n",
       "cof         Connectivity-Based Local Outlier          pyod.models.cof.COF\n",
       "iforest                     Isolation Forest  pyod.models.iforest.IForest\n",
       "histogram  Histogram-based Outlier Detection        pyod.models.hbos.HBOS\n",
       "knn             K-Nearest Neighbors Detector          pyod.models.knn.KNN\n",
       "lof                     Local Outlier Factor          pyod.models.lof.LOF\n",
       "svm                   One-class SVM detector      pyod.models.ocsvm.OCSVM\n",
       "pca             Principal Component Analysis          pyod.models.pca.PCA\n",
       "mcd           Minimum Covariance Determinant          pyod.models.mcd.MCD\n",
       "sod               Subspace Outlier Detection          pyod.models.sod.SOD\n",
       "sos             Stochastic Outlier Selection          pyod.models.sos.SOS"
      ]
     },
     "execution_count": 59,
     "metadata": {},
     "output_type": "execute_result"
    }
   ],
   "source": [
    "models()"
   ]
  },
  {
   "cell_type": "code",
   "execution_count": 60,
   "metadata": {},
   "outputs": [],
   "source": [
    "iforest = create_model('iforest')"
   ]
  },
  {
   "cell_type": "code",
   "execution_count": 61,
   "metadata": {},
   "outputs": [
    {
     "data": {
      "text/plain": [
       "IForest(behaviour='new', bootstrap=False, contamination=0.05,\n",
       "    max_features=1.0, max_samples='auto', n_estimators=100, n_jobs=-1,\n",
       "    random_state=123, verbose=0)"
      ]
     },
     "execution_count": 61,
     "metadata": {},
     "output_type": "execute_result"
    }
   ],
   "source": [
    "iforest"
   ]
  },
  {
   "cell_type": "code",
   "execution_count": 62,
   "metadata": {},
   "outputs": [
    {
     "data": {
      "text/plain": [
       "pyod.models.iforest.IForest"
      ]
     },
     "execution_count": 62,
     "metadata": {},
     "output_type": "execute_result"
    }
   ],
   "source": [
    "type(iforest)"
   ]
  },
  {
   "cell_type": "code",
   "execution_count": 63,
   "metadata": {},
   "outputs": [
    {
     "data": {
      "text/html": [
       "<div>\n",
       "<style scoped>\n",
       "    .dataframe tbody tr th:only-of-type {\n",
       "        vertical-align: middle;\n",
       "    }\n",
       "\n",
       "    .dataframe tbody tr th {\n",
       "        vertical-align: top;\n",
       "    }\n",
       "\n",
       "    .dataframe thead th {\n",
       "        text-align: right;\n",
       "    }\n",
       "</style>\n",
       "<table border=\"1\" class=\"dataframe\">\n",
       "  <thead>\n",
       "    <tr style=\"text-align: right;\">\n",
       "      <th></th>\n",
       "      <th>Col1</th>\n",
       "      <th>Col2</th>\n",
       "      <th>Col3</th>\n",
       "      <th>Col4</th>\n",
       "      <th>Col5</th>\n",
       "      <th>Col6</th>\n",
       "      <th>Col7</th>\n",
       "      <th>Col8</th>\n",
       "      <th>Col9</th>\n",
       "      <th>Col10</th>\n",
       "      <th>Anomaly</th>\n",
       "      <th>Anomaly_Score</th>\n",
       "    </tr>\n",
       "  </thead>\n",
       "  <tbody>\n",
       "    <tr>\n",
       "      <th>0</th>\n",
       "      <td>0.263995</td>\n",
       "      <td>0.764929</td>\n",
       "      <td>0.138424</td>\n",
       "      <td>0.935242</td>\n",
       "      <td>0.605867</td>\n",
       "      <td>0.518790</td>\n",
       "      <td>0.912225</td>\n",
       "      <td>0.608234</td>\n",
       "      <td>0.723782</td>\n",
       "      <td>0.733591</td>\n",
       "      <td>0</td>\n",
       "      <td>-0.035865</td>\n",
       "    </tr>\n",
       "    <tr>\n",
       "      <th>1</th>\n",
       "      <td>0.546092</td>\n",
       "      <td>0.653975</td>\n",
       "      <td>0.065575</td>\n",
       "      <td>0.227772</td>\n",
       "      <td>0.845269</td>\n",
       "      <td>0.837066</td>\n",
       "      <td>0.272379</td>\n",
       "      <td>0.331679</td>\n",
       "      <td>0.429297</td>\n",
       "      <td>0.367422</td>\n",
       "      <td>0</td>\n",
       "      <td>-0.084927</td>\n",
       "    </tr>\n",
       "    <tr>\n",
       "      <th>2</th>\n",
       "      <td>0.336714</td>\n",
       "      <td>0.538842</td>\n",
       "      <td>0.192801</td>\n",
       "      <td>0.553563</td>\n",
       "      <td>0.074515</td>\n",
       "      <td>0.332993</td>\n",
       "      <td>0.365792</td>\n",
       "      <td>0.861309</td>\n",
       "      <td>0.899017</td>\n",
       "      <td>0.088600</td>\n",
       "      <td>1</td>\n",
       "      <td>0.025356</td>\n",
       "    </tr>\n",
       "    <tr>\n",
       "      <th>3</th>\n",
       "      <td>0.092108</td>\n",
       "      <td>0.995017</td>\n",
       "      <td>0.014465</td>\n",
       "      <td>0.176371</td>\n",
       "      <td>0.241530</td>\n",
       "      <td>0.514724</td>\n",
       "      <td>0.562208</td>\n",
       "      <td>0.158963</td>\n",
       "      <td>0.073715</td>\n",
       "      <td>0.208463</td>\n",
       "      <td>1</td>\n",
       "      <td>0.042415</td>\n",
       "    </tr>\n",
       "    <tr>\n",
       "      <th>4</th>\n",
       "      <td>0.325261</td>\n",
       "      <td>0.805968</td>\n",
       "      <td>0.957033</td>\n",
       "      <td>0.331665</td>\n",
       "      <td>0.307923</td>\n",
       "      <td>0.355315</td>\n",
       "      <td>0.501899</td>\n",
       "      <td>0.558449</td>\n",
       "      <td>0.885169</td>\n",
       "      <td>0.182754</td>\n",
       "      <td>0</td>\n",
       "      <td>-0.023408</td>\n",
       "    </tr>\n",
       "  </tbody>\n",
       "</table>\n",
       "</div>"
      ],
      "text/plain": [
       "       Col1      Col2      Col3      Col4      Col5  ...      Col8      Col9     Col10  Anomaly  Anomaly_Score\n",
       "0  0.263995  0.764929  0.138424  0.935242  0.605867  ...  0.608234  0.723782  0.733591        0      -0.035865\n",
       "1  0.546092  0.653975  0.065575  0.227772  0.845269  ...  0.331679  0.429297  0.367422        0      -0.084927\n",
       "2  0.336714  0.538842  0.192801  0.553563  0.074515  ...  0.861309  0.899017  0.088600        1       0.025356\n",
       "3  0.092108  0.995017  0.014465  0.176371  0.241530  ...  0.158963  0.073715  0.208463        1       0.042415\n",
       "4  0.325261  0.805968  0.957033  0.331665  0.307923  ...  0.558449  0.885169  0.182754        0      -0.023408\n",
       "\n",
       "[5 rows x 12 columns]"
      ]
     },
     "execution_count": 63,
     "metadata": {},
     "output_type": "execute_result"
    }
   ],
   "source": [
    "results = assign_model(iforest) # WILL ONLY WORK ON DATA THAT YOU HAVE USED TO TRAIN IT\n",
    "results.head()"
   ]
  },
  {
   "cell_type": "code",
   "execution_count": 64,
   "metadata": {},
   "outputs": [
    {
     "data": {
      "text/html": [
       "<div>\n",
       "<style scoped>\n",
       "    .dataframe tbody tr th:only-of-type {\n",
       "        vertical-align: middle;\n",
       "    }\n",
       "\n",
       "    .dataframe tbody tr th {\n",
       "        vertical-align: top;\n",
       "    }\n",
       "\n",
       "    .dataframe thead th {\n",
       "        text-align: right;\n",
       "    }\n",
       "</style>\n",
       "<table border=\"1\" class=\"dataframe\">\n",
       "  <thead>\n",
       "    <tr style=\"text-align: right;\">\n",
       "      <th></th>\n",
       "      <th>Col1</th>\n",
       "      <th>Col2</th>\n",
       "      <th>Col3</th>\n",
       "      <th>Col4</th>\n",
       "      <th>Col5</th>\n",
       "      <th>Col6</th>\n",
       "      <th>Col7</th>\n",
       "      <th>Col8</th>\n",
       "      <th>Col9</th>\n",
       "      <th>Col10</th>\n",
       "      <th>Anomaly</th>\n",
       "      <th>Anomaly_Score</th>\n",
       "    </tr>\n",
       "  </thead>\n",
       "  <tbody>\n",
       "    <tr>\n",
       "      <th>0</th>\n",
       "      <td>0.263995</td>\n",
       "      <td>0.764929</td>\n",
       "      <td>0.138424</td>\n",
       "      <td>0.935242</td>\n",
       "      <td>0.605867</td>\n",
       "      <td>0.518790</td>\n",
       "      <td>0.912225</td>\n",
       "      <td>0.608234</td>\n",
       "      <td>0.723782</td>\n",
       "      <td>0.733591</td>\n",
       "      <td>0</td>\n",
       "      <td>-0.035865</td>\n",
       "    </tr>\n",
       "    <tr>\n",
       "      <th>1</th>\n",
       "      <td>0.546092</td>\n",
       "      <td>0.653975</td>\n",
       "      <td>0.065575</td>\n",
       "      <td>0.227772</td>\n",
       "      <td>0.845269</td>\n",
       "      <td>0.837066</td>\n",
       "      <td>0.272379</td>\n",
       "      <td>0.331679</td>\n",
       "      <td>0.429297</td>\n",
       "      <td>0.367422</td>\n",
       "      <td>0</td>\n",
       "      <td>-0.084927</td>\n",
       "    </tr>\n",
       "    <tr>\n",
       "      <th>2</th>\n",
       "      <td>0.336714</td>\n",
       "      <td>0.538842</td>\n",
       "      <td>0.192801</td>\n",
       "      <td>0.553563</td>\n",
       "      <td>0.074515</td>\n",
       "      <td>0.332993</td>\n",
       "      <td>0.365792</td>\n",
       "      <td>0.861309</td>\n",
       "      <td>0.899017</td>\n",
       "      <td>0.088600</td>\n",
       "      <td>1</td>\n",
       "      <td>0.025356</td>\n",
       "    </tr>\n",
       "    <tr>\n",
       "      <th>3</th>\n",
       "      <td>0.092108</td>\n",
       "      <td>0.995017</td>\n",
       "      <td>0.014465</td>\n",
       "      <td>0.176371</td>\n",
       "      <td>0.241530</td>\n",
       "      <td>0.514724</td>\n",
       "      <td>0.562208</td>\n",
       "      <td>0.158963</td>\n",
       "      <td>0.073715</td>\n",
       "      <td>0.208463</td>\n",
       "      <td>1</td>\n",
       "      <td>0.042415</td>\n",
       "    </tr>\n",
       "    <tr>\n",
       "      <th>4</th>\n",
       "      <td>0.325261</td>\n",
       "      <td>0.805968</td>\n",
       "      <td>0.957033</td>\n",
       "      <td>0.331665</td>\n",
       "      <td>0.307923</td>\n",
       "      <td>0.355315</td>\n",
       "      <td>0.501899</td>\n",
       "      <td>0.558449</td>\n",
       "      <td>0.885169</td>\n",
       "      <td>0.182754</td>\n",
       "      <td>0</td>\n",
       "      <td>-0.023408</td>\n",
       "    </tr>\n",
       "    <tr>\n",
       "      <th>...</th>\n",
       "      <td>...</td>\n",
       "      <td>...</td>\n",
       "      <td>...</td>\n",
       "      <td>...</td>\n",
       "      <td>...</td>\n",
       "      <td>...</td>\n",
       "      <td>...</td>\n",
       "      <td>...</td>\n",
       "      <td>...</td>\n",
       "      <td>...</td>\n",
       "      <td>...</td>\n",
       "      <td>...</td>\n",
       "    </tr>\n",
       "    <tr>\n",
       "      <th>995</th>\n",
       "      <td>0.305055</td>\n",
       "      <td>0.656837</td>\n",
       "      <td>0.331665</td>\n",
       "      <td>0.822525</td>\n",
       "      <td>0.907127</td>\n",
       "      <td>0.882276</td>\n",
       "      <td>0.855732</td>\n",
       "      <td>0.584786</td>\n",
       "      <td>0.808640</td>\n",
       "      <td>0.242762</td>\n",
       "      <td>0</td>\n",
       "      <td>-0.083981</td>\n",
       "    </tr>\n",
       "    <tr>\n",
       "      <th>996</th>\n",
       "      <td>0.812627</td>\n",
       "      <td>0.864258</td>\n",
       "      <td>0.616604</td>\n",
       "      <td>0.167966</td>\n",
       "      <td>0.811223</td>\n",
       "      <td>0.938071</td>\n",
       "      <td>0.418462</td>\n",
       "      <td>0.472306</td>\n",
       "      <td>0.348347</td>\n",
       "      <td>0.671129</td>\n",
       "      <td>0</td>\n",
       "      <td>-0.075839</td>\n",
       "    </tr>\n",
       "    <tr>\n",
       "      <th>997</th>\n",
       "      <td>0.250967</td>\n",
       "      <td>0.138627</td>\n",
       "      <td>0.919703</td>\n",
       "      <td>0.461234</td>\n",
       "      <td>0.886555</td>\n",
       "      <td>0.869888</td>\n",
       "      <td>0.800908</td>\n",
       "      <td>0.530324</td>\n",
       "      <td>0.779433</td>\n",
       "      <td>0.234952</td>\n",
       "      <td>0</td>\n",
       "      <td>-0.052903</td>\n",
       "    </tr>\n",
       "    <tr>\n",
       "      <th>998</th>\n",
       "      <td>0.502436</td>\n",
       "      <td>0.936820</td>\n",
       "      <td>0.580062</td>\n",
       "      <td>0.540773</td>\n",
       "      <td>0.151995</td>\n",
       "      <td>0.059452</td>\n",
       "      <td>0.225220</td>\n",
       "      <td>0.242755</td>\n",
       "      <td>0.279385</td>\n",
       "      <td>0.538755</td>\n",
       "      <td>0</td>\n",
       "      <td>-0.075104</td>\n",
       "    </tr>\n",
       "    <tr>\n",
       "      <th>999</th>\n",
       "      <td>0.457991</td>\n",
       "      <td>0.017755</td>\n",
       "      <td>0.714113</td>\n",
       "      <td>0.125992</td>\n",
       "      <td>0.063316</td>\n",
       "      <td>0.154739</td>\n",
       "      <td>0.922974</td>\n",
       "      <td>0.692299</td>\n",
       "      <td>0.816777</td>\n",
       "      <td>0.307592</td>\n",
       "      <td>0</td>\n",
       "      <td>-0.008665</td>\n",
       "    </tr>\n",
       "  </tbody>\n",
       "</table>\n",
       "<p>1000 rows × 12 columns</p>\n",
       "</div>"
      ],
      "text/plain": [
       "         Col1      Col2      Col3      Col4  ...      Col9     Col10  Anomaly  Anomaly_Score\n",
       "0    0.263995  0.764929  0.138424  0.935242  ...  0.723782  0.733591        0      -0.035865\n",
       "1    0.546092  0.653975  0.065575  0.227772  ...  0.429297  0.367422        0      -0.084927\n",
       "2    0.336714  0.538842  0.192801  0.553563  ...  0.899017  0.088600        1       0.025356\n",
       "3    0.092108  0.995017  0.014465  0.176371  ...  0.073715  0.208463        1       0.042415\n",
       "4    0.325261  0.805968  0.957033  0.331665  ...  0.885169  0.182754        0      -0.023408\n",
       "..        ...       ...       ...       ...  ...       ...       ...      ...            ...\n",
       "995  0.305055  0.656837  0.331665  0.822525  ...  0.808640  0.242762        0      -0.083981\n",
       "996  0.812627  0.864258  0.616604  0.167966  ...  0.348347  0.671129        0      -0.075839\n",
       "997  0.250967  0.138627  0.919703  0.461234  ...  0.779433  0.234952        0      -0.052903\n",
       "998  0.502436  0.936820  0.580062  0.540773  ...  0.279385  0.538755        0      -0.075104\n",
       "999  0.457991  0.017755  0.714113  0.125992  ...  0.816777  0.307592        0      -0.008665\n",
       "\n",
       "[1000 rows x 12 columns]"
      ]
     },
     "execution_count": 64,
     "metadata": {},
     "output_type": "execute_result"
    }
   ],
   "source": [
    "predict_model(iforest, data = data) # USE WHEN NEW DATA COMES IN THE TEST ENV ..."
   ]
  },
  {
   "cell_type": "code",
   "execution_count": 31,
   "metadata": {},
   "outputs": [
    {
     "data": {
      "text/plain": [
       "KNN(algorithm='auto', contamination=0.05, leaf_size=30, method='largest',\n",
       "  metric='minkowski', metric_params=None, n_jobs=-1, n_neighbors=5, p=2,\n",
       "  radius=1.0)"
      ]
     },
     "execution_count": 31,
     "metadata": {},
     "output_type": "execute_result"
    }
   ],
   "source": [
    "knn = create_model('knn')\n",
    "knn"
   ]
  },
  {
   "cell_type": "code",
   "execution_count": 32,
   "metadata": {},
   "outputs": [
    {
     "data": {
      "text/html": [
       "<div>\n",
       "<style scoped>\n",
       "    .dataframe tbody tr th:only-of-type {\n",
       "        vertical-align: middle;\n",
       "    }\n",
       "\n",
       "    .dataframe tbody tr th {\n",
       "        vertical-align: top;\n",
       "    }\n",
       "\n",
       "    .dataframe thead th {\n",
       "        text-align: right;\n",
       "    }\n",
       "</style>\n",
       "<table border=\"1\" class=\"dataframe\">\n",
       "  <thead>\n",
       "    <tr style=\"text-align: right;\">\n",
       "      <th></th>\n",
       "      <th>Col1</th>\n",
       "      <th>Col2</th>\n",
       "      <th>Col3</th>\n",
       "      <th>Col4</th>\n",
       "      <th>Col5</th>\n",
       "      <th>Col6</th>\n",
       "      <th>Col7</th>\n",
       "      <th>Col8</th>\n",
       "      <th>Col9</th>\n",
       "      <th>Col10</th>\n",
       "      <th>Anomaly</th>\n",
       "      <th>Anomaly_Score</th>\n",
       "    </tr>\n",
       "  </thead>\n",
       "  <tbody>\n",
       "    <tr>\n",
       "      <th>0</th>\n",
       "      <td>0.263995</td>\n",
       "      <td>0.764929</td>\n",
       "      <td>0.138424</td>\n",
       "      <td>0.935242</td>\n",
       "      <td>0.605867</td>\n",
       "      <td>0.518790</td>\n",
       "      <td>0.912225</td>\n",
       "      <td>0.608234</td>\n",
       "      <td>0.723782</td>\n",
       "      <td>0.733591</td>\n",
       "      <td>0</td>\n",
       "      <td>0.569672</td>\n",
       "    </tr>\n",
       "    <tr>\n",
       "      <th>1</th>\n",
       "      <td>0.546092</td>\n",
       "      <td>0.653975</td>\n",
       "      <td>0.065575</td>\n",
       "      <td>0.227772</td>\n",
       "      <td>0.845269</td>\n",
       "      <td>0.837066</td>\n",
       "      <td>0.272379</td>\n",
       "      <td>0.331679</td>\n",
       "      <td>0.429297</td>\n",
       "      <td>0.367422</td>\n",
       "      <td>0</td>\n",
       "      <td>0.484217</td>\n",
       "    </tr>\n",
       "    <tr>\n",
       "      <th>2</th>\n",
       "      <td>0.336714</td>\n",
       "      <td>0.538842</td>\n",
       "      <td>0.192801</td>\n",
       "      <td>0.553563</td>\n",
       "      <td>0.074515</td>\n",
       "      <td>0.332993</td>\n",
       "      <td>0.365792</td>\n",
       "      <td>0.861309</td>\n",
       "      <td>0.899017</td>\n",
       "      <td>0.088600</td>\n",
       "      <td>1</td>\n",
       "      <td>0.691915</td>\n",
       "    </tr>\n",
       "    <tr>\n",
       "      <th>3</th>\n",
       "      <td>0.092108</td>\n",
       "      <td>0.995017</td>\n",
       "      <td>0.014465</td>\n",
       "      <td>0.176371</td>\n",
       "      <td>0.241530</td>\n",
       "      <td>0.514724</td>\n",
       "      <td>0.562208</td>\n",
       "      <td>0.158963</td>\n",
       "      <td>0.073715</td>\n",
       "      <td>0.208463</td>\n",
       "      <td>1</td>\n",
       "      <td>0.811600</td>\n",
       "    </tr>\n",
       "    <tr>\n",
       "      <th>4</th>\n",
       "      <td>0.325261</td>\n",
       "      <td>0.805968</td>\n",
       "      <td>0.957033</td>\n",
       "      <td>0.331665</td>\n",
       "      <td>0.307923</td>\n",
       "      <td>0.355315</td>\n",
       "      <td>0.501899</td>\n",
       "      <td>0.558449</td>\n",
       "      <td>0.885169</td>\n",
       "      <td>0.182754</td>\n",
       "      <td>0</td>\n",
       "      <td>0.634337</td>\n",
       "    </tr>\n",
       "    <tr>\n",
       "      <th>...</th>\n",
       "      <td>...</td>\n",
       "      <td>...</td>\n",
       "      <td>...</td>\n",
       "      <td>...</td>\n",
       "      <td>...</td>\n",
       "      <td>...</td>\n",
       "      <td>...</td>\n",
       "      <td>...</td>\n",
       "      <td>...</td>\n",
       "      <td>...</td>\n",
       "      <td>...</td>\n",
       "      <td>...</td>\n",
       "    </tr>\n",
       "    <tr>\n",
       "      <th>995</th>\n",
       "      <td>0.305055</td>\n",
       "      <td>0.656837</td>\n",
       "      <td>0.331665</td>\n",
       "      <td>0.822525</td>\n",
       "      <td>0.907127</td>\n",
       "      <td>0.882276</td>\n",
       "      <td>0.855732</td>\n",
       "      <td>0.584786</td>\n",
       "      <td>0.808640</td>\n",
       "      <td>0.242762</td>\n",
       "      <td>0</td>\n",
       "      <td>0.294537</td>\n",
       "    </tr>\n",
       "    <tr>\n",
       "      <th>996</th>\n",
       "      <td>0.812627</td>\n",
       "      <td>0.864258</td>\n",
       "      <td>0.616604</td>\n",
       "      <td>0.167966</td>\n",
       "      <td>0.811223</td>\n",
       "      <td>0.938071</td>\n",
       "      <td>0.418462</td>\n",
       "      <td>0.472306</td>\n",
       "      <td>0.348347</td>\n",
       "      <td>0.671129</td>\n",
       "      <td>0</td>\n",
       "      <td>0.414982</td>\n",
       "    </tr>\n",
       "    <tr>\n",
       "      <th>997</th>\n",
       "      <td>0.250967</td>\n",
       "      <td>0.138627</td>\n",
       "      <td>0.919703</td>\n",
       "      <td>0.461234</td>\n",
       "      <td>0.886555</td>\n",
       "      <td>0.869888</td>\n",
       "      <td>0.800908</td>\n",
       "      <td>0.530324</td>\n",
       "      <td>0.779433</td>\n",
       "      <td>0.234952</td>\n",
       "      <td>0</td>\n",
       "      <td>0.361396</td>\n",
       "    </tr>\n",
       "    <tr>\n",
       "      <th>998</th>\n",
       "      <td>0.502436</td>\n",
       "      <td>0.936820</td>\n",
       "      <td>0.580062</td>\n",
       "      <td>0.540773</td>\n",
       "      <td>0.151995</td>\n",
       "      <td>0.059452</td>\n",
       "      <td>0.225220</td>\n",
       "      <td>0.242755</td>\n",
       "      <td>0.279385</td>\n",
       "      <td>0.538755</td>\n",
       "      <td>0</td>\n",
       "      <td>0.337370</td>\n",
       "    </tr>\n",
       "    <tr>\n",
       "      <th>999</th>\n",
       "      <td>0.457991</td>\n",
       "      <td>0.017755</td>\n",
       "      <td>0.714113</td>\n",
       "      <td>0.125992</td>\n",
       "      <td>0.063316</td>\n",
       "      <td>0.154739</td>\n",
       "      <td>0.922974</td>\n",
       "      <td>0.692299</td>\n",
       "      <td>0.816777</td>\n",
       "      <td>0.307592</td>\n",
       "      <td>0</td>\n",
       "      <td>0.377357</td>\n",
       "    </tr>\n",
       "  </tbody>\n",
       "</table>\n",
       "<p>1000 rows × 12 columns</p>\n",
       "</div>"
      ],
      "text/plain": [
       "         Col1      Col2      Col3      Col4  ...      Col9     Col10  Anomaly  Anomaly_Score\n",
       "0    0.263995  0.764929  0.138424  0.935242  ...  0.723782  0.733591        0       0.569672\n",
       "1    0.546092  0.653975  0.065575  0.227772  ...  0.429297  0.367422        0       0.484217\n",
       "2    0.336714  0.538842  0.192801  0.553563  ...  0.899017  0.088600        1       0.691915\n",
       "3    0.092108  0.995017  0.014465  0.176371  ...  0.073715  0.208463        1       0.811600\n",
       "4    0.325261  0.805968  0.957033  0.331665  ...  0.885169  0.182754        0       0.634337\n",
       "..        ...       ...       ...       ...  ...       ...       ...      ...            ...\n",
       "995  0.305055  0.656837  0.331665  0.822525  ...  0.808640  0.242762        0       0.294537\n",
       "996  0.812627  0.864258  0.616604  0.167966  ...  0.348347  0.671129        0       0.414982\n",
       "997  0.250967  0.138627  0.919703  0.461234  ...  0.779433  0.234952        0       0.361396\n",
       "998  0.502436  0.936820  0.580062  0.540773  ...  0.279385  0.538755        0       0.337370\n",
       "999  0.457991  0.017755  0.714113  0.125992  ...  0.816777  0.307592        0       0.377357\n",
       "\n",
       "[1000 rows x 12 columns]"
      ]
     },
     "execution_count": 32,
     "metadata": {},
     "output_type": "execute_result"
    }
   ],
   "source": [
    "assign_model(knn)"
   ]
  },
  {
   "cell_type": "code",
   "execution_count": 34,
   "metadata": {},
   "outputs": [
    {
     "data": {
      "text/html": [
       "<div>\n",
       "<style scoped>\n",
       "    .dataframe tbody tr th:only-of-type {\n",
       "        vertical-align: middle;\n",
       "    }\n",
       "\n",
       "    .dataframe tbody tr th {\n",
       "        vertical-align: top;\n",
       "    }\n",
       "\n",
       "    .dataframe thead th {\n",
       "        text-align: right;\n",
       "    }\n",
       "</style>\n",
       "<table border=\"1\" class=\"dataframe\">\n",
       "  <thead>\n",
       "    <tr style=\"text-align: right;\">\n",
       "      <th></th>\n",
       "      <th>Col1</th>\n",
       "      <th>Col2</th>\n",
       "      <th>Col3</th>\n",
       "      <th>Col4</th>\n",
       "      <th>Col5</th>\n",
       "      <th>Col6</th>\n",
       "      <th>Col7</th>\n",
       "      <th>Col8</th>\n",
       "      <th>Col9</th>\n",
       "      <th>Col10</th>\n",
       "      <th>Anomaly</th>\n",
       "      <th>Anomaly_Score</th>\n",
       "    </tr>\n",
       "  </thead>\n",
       "  <tbody>\n",
       "    <tr>\n",
       "      <th>0</th>\n",
       "      <td>0.263995</td>\n",
       "      <td>0.764929</td>\n",
       "      <td>0.138424</td>\n",
       "      <td>0.935242</td>\n",
       "      <td>0.605867</td>\n",
       "      <td>0.518790</td>\n",
       "      <td>0.912225</td>\n",
       "      <td>0.608234</td>\n",
       "      <td>0.723782</td>\n",
       "      <td>0.733591</td>\n",
       "      <td>0</td>\n",
       "      <td>0.558927</td>\n",
       "    </tr>\n",
       "    <tr>\n",
       "      <th>1</th>\n",
       "      <td>0.546092</td>\n",
       "      <td>0.653975</td>\n",
       "      <td>0.065575</td>\n",
       "      <td>0.227772</td>\n",
       "      <td>0.845269</td>\n",
       "      <td>0.837066</td>\n",
       "      <td>0.272379</td>\n",
       "      <td>0.331679</td>\n",
       "      <td>0.429297</td>\n",
       "      <td>0.367422</td>\n",
       "      <td>0</td>\n",
       "      <td>0.477482</td>\n",
       "    </tr>\n",
       "    <tr>\n",
       "      <th>2</th>\n",
       "      <td>0.336714</td>\n",
       "      <td>0.538842</td>\n",
       "      <td>0.192801</td>\n",
       "      <td>0.553563</td>\n",
       "      <td>0.074515</td>\n",
       "      <td>0.332993</td>\n",
       "      <td>0.365792</td>\n",
       "      <td>0.861309</td>\n",
       "      <td>0.899017</td>\n",
       "      <td>0.088600</td>\n",
       "      <td>0</td>\n",
       "      <td>0.676207</td>\n",
       "    </tr>\n",
       "    <tr>\n",
       "      <th>3</th>\n",
       "      <td>0.092108</td>\n",
       "      <td>0.995017</td>\n",
       "      <td>0.014465</td>\n",
       "      <td>0.176371</td>\n",
       "      <td>0.241530</td>\n",
       "      <td>0.514724</td>\n",
       "      <td>0.562208</td>\n",
       "      <td>0.158963</td>\n",
       "      <td>0.073715</td>\n",
       "      <td>0.208463</td>\n",
       "      <td>1</td>\n",
       "      <td>0.804769</td>\n",
       "    </tr>\n",
       "    <tr>\n",
       "      <th>4</th>\n",
       "      <td>0.325261</td>\n",
       "      <td>0.805968</td>\n",
       "      <td>0.957033</td>\n",
       "      <td>0.331665</td>\n",
       "      <td>0.307923</td>\n",
       "      <td>0.355315</td>\n",
       "      <td>0.501899</td>\n",
       "      <td>0.558449</td>\n",
       "      <td>0.885169</td>\n",
       "      <td>0.182754</td>\n",
       "      <td>0</td>\n",
       "      <td>0.630836</td>\n",
       "    </tr>\n",
       "    <tr>\n",
       "      <th>...</th>\n",
       "      <td>...</td>\n",
       "      <td>...</td>\n",
       "      <td>...</td>\n",
       "      <td>...</td>\n",
       "      <td>...</td>\n",
       "      <td>...</td>\n",
       "      <td>...</td>\n",
       "      <td>...</td>\n",
       "      <td>...</td>\n",
       "      <td>...</td>\n",
       "      <td>...</td>\n",
       "      <td>...</td>\n",
       "    </tr>\n",
       "    <tr>\n",
       "      <th>995</th>\n",
       "      <td>0.305055</td>\n",
       "      <td>0.656837</td>\n",
       "      <td>0.331665</td>\n",
       "      <td>0.822525</td>\n",
       "      <td>0.907127</td>\n",
       "      <td>0.882276</td>\n",
       "      <td>0.855732</td>\n",
       "      <td>0.584786</td>\n",
       "      <td>0.808640</td>\n",
       "      <td>0.242762</td>\n",
       "      <td>0</td>\n",
       "      <td>0.266822</td>\n",
       "    </tr>\n",
       "    <tr>\n",
       "      <th>996</th>\n",
       "      <td>0.812627</td>\n",
       "      <td>0.864258</td>\n",
       "      <td>0.616604</td>\n",
       "      <td>0.167966</td>\n",
       "      <td>0.811223</td>\n",
       "      <td>0.938071</td>\n",
       "      <td>0.418462</td>\n",
       "      <td>0.472306</td>\n",
       "      <td>0.348347</td>\n",
       "      <td>0.671129</td>\n",
       "      <td>0</td>\n",
       "      <td>0.403480</td>\n",
       "    </tr>\n",
       "    <tr>\n",
       "      <th>997</th>\n",
       "      <td>0.250967</td>\n",
       "      <td>0.138627</td>\n",
       "      <td>0.919703</td>\n",
       "      <td>0.461234</td>\n",
       "      <td>0.886555</td>\n",
       "      <td>0.869888</td>\n",
       "      <td>0.800908</td>\n",
       "      <td>0.530324</td>\n",
       "      <td>0.779433</td>\n",
       "      <td>0.234952</td>\n",
       "      <td>0</td>\n",
       "      <td>0.337727</td>\n",
       "    </tr>\n",
       "    <tr>\n",
       "      <th>998</th>\n",
       "      <td>0.502436</td>\n",
       "      <td>0.936820</td>\n",
       "      <td>0.580062</td>\n",
       "      <td>0.540773</td>\n",
       "      <td>0.151995</td>\n",
       "      <td>0.059452</td>\n",
       "      <td>0.225220</td>\n",
       "      <td>0.242755</td>\n",
       "      <td>0.279385</td>\n",
       "      <td>0.538755</td>\n",
       "      <td>0</td>\n",
       "      <td>0.300265</td>\n",
       "    </tr>\n",
       "    <tr>\n",
       "      <th>999</th>\n",
       "      <td>0.457991</td>\n",
       "      <td>0.017755</td>\n",
       "      <td>0.714113</td>\n",
       "      <td>0.125992</td>\n",
       "      <td>0.063316</td>\n",
       "      <td>0.154739</td>\n",
       "      <td>0.922974</td>\n",
       "      <td>0.692299</td>\n",
       "      <td>0.816777</td>\n",
       "      <td>0.307592</td>\n",
       "      <td>0</td>\n",
       "      <td>0.367867</td>\n",
       "    </tr>\n",
       "  </tbody>\n",
       "</table>\n",
       "<p>1000 rows × 12 columns</p>\n",
       "</div>"
      ],
      "text/plain": [
       "         Col1      Col2      Col3      Col4  ...      Col9     Col10  Anomaly  Anomaly_Score\n",
       "0    0.263995  0.764929  0.138424  0.935242  ...  0.723782  0.733591        0       0.558927\n",
       "1    0.546092  0.653975  0.065575  0.227772  ...  0.429297  0.367422        0       0.477482\n",
       "2    0.336714  0.538842  0.192801  0.553563  ...  0.899017  0.088600        0       0.676207\n",
       "3    0.092108  0.995017  0.014465  0.176371  ...  0.073715  0.208463        1       0.804769\n",
       "4    0.325261  0.805968  0.957033  0.331665  ...  0.885169  0.182754        0       0.630836\n",
       "..        ...       ...       ...       ...  ...       ...       ...      ...            ...\n",
       "995  0.305055  0.656837  0.331665  0.822525  ...  0.808640  0.242762        0       0.266822\n",
       "996  0.812627  0.864258  0.616604  0.167966  ...  0.348347  0.671129        0       0.403480\n",
       "997  0.250967  0.138627  0.919703  0.461234  ...  0.779433  0.234952        0       0.337727\n",
       "998  0.502436  0.936820  0.580062  0.540773  ...  0.279385  0.538755        0       0.300265\n",
       "999  0.457991  0.017755  0.714113  0.125992  ...  0.816777  0.307592        0       0.367867\n",
       "\n",
       "[1000 rows x 12 columns]"
      ]
     },
     "execution_count": 34,
     "metadata": {},
     "output_type": "execute_result"
    }
   ],
   "source": [
    "predict_model(knn, data=data)"
   ]
  },
  {
   "cell_type": "code",
   "execution_count": 35,
   "metadata": {},
   "outputs": [
    {
     "data": {
      "text/plain": [
       "IForest(behaviour='new', bootstrap=False, contamination=0.05,\n",
       "    max_features=1.0, max_samples='auto', n_estimators=200, n_jobs=-1,\n",
       "    random_state=123, verbose=0)"
      ]
     },
     "execution_count": 35,
     "metadata": {},
     "output_type": "execute_result"
    }
   ],
   "source": [
    "iforest = create_model('iforest', n_estimators =200)\n",
    "iforest"
   ]
  },
  {
   "cell_type": "code",
   "execution_count": null,
   "metadata": {},
   "outputs": [],
   "source": []
  },
  {
   "cell_type": "code",
   "execution_count": 37,
   "metadata": {},
   "outputs": [
    {
     "data": {
      "application/vnd.plotly.v1+json": {
       "config": {
        "plotlyServerURL": "https://plot.ly"
       },
       "data": [
        {
         "customdata": [
          [
           0.263995357
          ],
          [
           0.546092303
          ],
          [
           0.336714104
          ],
          [
           0.092107835
          ],
          [
           0.325261175
          ],
          [
           0.212464853
          ],
          [
           0.258565714
          ],
          [
           0.869236755
          ],
          [
           0.197077957
          ],
          [
           0.292984504
          ],
          [
           0.82178316
          ],
          [
           0.796622959
          ],
          [
           0.045577011
          ],
          [
           0.613660351
          ],
          [
           0.950744566
          ],
          [
           0.336346337
          ],
          [
           0.034440667
          ],
          [
           0.741544275
          ],
          [
           0.18443265
          ],
          [
           0.664514943
          ],
          [
           0.162824858
          ],
          [
           0.729838445
          ],
          [
           0.62837389
          ],
          [
           0.057883661
          ],
          [
           0.445534827
          ],
          [
           0.80183695
          ],
          [
           0.27709612
          ],
          [
           0.228634015
          ],
          [
           0.834860657
          ],
          [
           0.669766511
          ],
          [
           0.532527349
          ],
          [
           0.170459071
          ],
          [
           0.510288468
          ],
          [
           0.977561989
          ],
          [
           0.249775993
          ],
          [
           0.975500682
          ],
          [
           0.613701727
          ],
          [
           0.167420363
          ],
          [
           0.537472516
          ],
          [
           0.379899131
          ],
          [
           0.633897303
          ],
          [
           0.633960424
          ],
          [
           0.549974653
          ],
          [
           0.178172988
          ],
          [
           0.85563814
          ],
          [
           0.321796672
          ],
          [
           0.817490537
          ],
          [
           0.254879417
          ],
          [
           0.344140513
          ],
          [
           0.806145726
          ],
          [
           0.277081671
          ],
          [
           0.544328519
          ],
          [
           0.07708393
          ],
          [
           0.273081458
          ],
          [
           0.390877336
          ],
          [
           0.349621385
          ],
          [
           0.214549744
          ],
          [
           0.206075222
          ],
          [
           0.86461997
          ],
          [
           0.981708854
          ],
          [
           0.334829646
          ],
          [
           0.648387061
          ],
          [
           0.093643561
          ],
          [
           0.837802698
          ],
          [
           0.760343967
          ],
          [
           0.291404174
          ],
          [
           0.3413454
          ],
          [
           0.761112484
          ],
          [
           0.541899775
          ],
          [
           0.684176639
          ],
          [
           0.983535597
          ],
          [
           0.52081245
          ],
          [
           0.328227724
          ],
          [
           0.097157938
          ],
          [
           0.876088593
          ],
          [
           0.870214512
          ],
          [
           0.656086992
          ],
          [
           0.306791514
          ],
          [
           0.48126734
          ],
          [
           0.259559174
          ],
          [
           0.326123655
          ],
          [
           0.930568042
          ],
          [
           0.6583894
          ],
          [
           0.689992335
          ],
          [
           0.315781109
          ],
          [
           0.566905093
          ],
          [
           0.637526619
          ],
          [
           0.687540723
          ],
          [
           0.324300602
          ],
          [
           0.592704906
          ],
          [
           0.740253126
          ],
          [
           0.594032877
          ],
          [
           0.596452977
          ],
          [
           0.277680817
          ],
          [
           0.258329663
          ],
          [
           0.142460864
          ],
          [
           0.435533461
          ],
          [
           0.702499044
          ],
          [
           0.58897535
          ],
          [
           0.653304374
          ],
          [
           0.336968524
          ],
          [
           0.631244736
          ],
          [
           0.73530076
          ],
          [
           0.050390366
          ],
          [
           0.064264924
          ],
          [
           0.665359476
          ],
          [
           0.917835245
          ],
          [
           0.44651012
          ],
          [
           0.661938199
          ],
          [
           0.439359853
          ],
          [
           0.687572404
          ],
          [
           0.363462248
          ],
          [
           0.654262182
          ],
          [
           0.578553536
          ],
          [
           0.065927945
          ],
          [
           0.550148559
          ],
          [
           0.139182814
          ],
          [
           0.080004635
          ],
          [
           0.278228358
          ],
          [
           0.560124266
          ],
          [
           0.53639864
          ],
          [
           0.426531904
          ],
          [
           0.789109796
          ],
          [
           0.742900474
          ],
          [
           0.901692589
          ],
          [
           0.650337401
          ],
          [
           0.114057311
          ],
          [
           0.260812592
          ],
          [
           0.43991232
          ],
          [
           0.964409284
          ],
          [
           0.184401415
          ],
          [
           0.345145446
          ],
          [
           0.175894581
          ],
          [
           0.312514453
          ],
          [
           0.674131879
          ],
          [
           0.32825045
          ],
          [
           0.598231057
          ],
          [
           0.092598817
          ],
          [
           0.497916521
          ],
          [
           0.419776521
          ],
          [
           0.3121767
          ],
          [
           0.937857107
          ],
          [
           0.049030963
          ],
          [
           0.476104526
          ],
          [
           0.447397526
          ],
          [
           0.295806058
          ],
          [
           0.737363977
          ],
          [
           0.625896253
          ],
          [
           0.408813429
          ],
          [
           0.437511156
          ],
          [
           0.691351375
          ],
          [
           0.935555275
          ],
          [
           0.437846654
          ],
          [
           0.072217715
          ],
          [
           0.67636067
          ],
          [
           0.468883999
          ],
          [
           0.543820644
          ],
          [
           0.655522647
          ],
          [
           0.693528924
          ],
          [
           0.108878312
          ],
          [
           0.285463743
          ],
          [
           0
          ],
          [
           0.706495497
          ],
          [
           0.273530633
          ],
          [
           0.292320271
          ],
          [
           0.673984307
          ],
          [
           0.126121828
          ],
          [
           0.946707459
          ],
          [
           0.936338898
          ],
          [
           0.853755364
          ],
          [
           0.706071361
          ],
          [
           0.693682186
          ],
          [
           0.508527882
          ],
          [
           0.347170389
          ],
          [
           0.704154263
          ],
          [
           0.658730088
          ],
          [
           0.155841557
          ],
          [
           0.311085435
          ],
          [
           0.281135347
          ],
          [
           0.094587802
          ],
          [
           0.683260954
          ],
          [
           0.907729251
          ],
          [
           0.291512674
          ],
          [
           0.752734459
          ],
          [
           0.93482964
          ],
          [
           0.071413953
          ],
          [
           0.594896327
          ],
          [
           0.404672015
          ],
          [
           0.13837621
          ],
          [
           0.747338468
          ],
          [
           0.530882486
          ],
          [
           0.282649594
          ],
          [
           0.699335734
          ],
          [
           0.056111251
          ],
          [
           0.855234998
          ],
          [
           0.077895127
          ],
          [
           0.891649583
          ],
          [
           0.386742279
          ],
          [
           0.27113158
          ],
          [
           0.958888961
          ],
          [
           0.085120869
          ],
          [
           0.526902249
          ],
          [
           0.066577785
          ],
          [
           0.841506738
          ],
          [
           0.255342095
          ],
          [
           0.060545771
          ],
          [
           0.073385869
          ],
          [
           0.187493723
          ],
          [
           0.858365688
          ],
          [
           0.090640352
          ],
          [
           0.709725227
          ],
          [
           0.631300647
          ],
          [
           0.247504474
          ],
          [
           0.822843584
          ],
          [
           0.373476759
          ],
          [
           0.625538582
          ],
          [
           0.292951715
          ],
          [
           0.299730324
          ],
          [
           0.25121407
          ],
          [
           0.344480551
          ],
          [
           0.293064767
          ],
          [
           0.762803224
          ],
          [
           0.738470804
          ],
          [
           0.674883265
          ],
          [
           0.719151612
          ],
          [
           0.130980216
          ],
          [
           0.511328036
          ],
          [
           0.04492903
          ],
          [
           0.560914449
          ],
          [
           0.744040641
          ],
          [
           0.266961634
          ],
          [
           0.644231853
          ],
          [
           0.038113352
          ],
          [
           0.057155299
          ],
          [
           0.341392461
          ],
          [
           0.720463632
          ],
          [
           0.402878236
          ],
          [
           0.635148967
          ],
          [
           0.320729467
          ],
          [
           0.091209694
          ],
          [
           0.23414609
          ],
          [
           0.890221131
          ],
          [
           0.602170884
          ],
          [
           0.633652055
          ],
          [
           0.806240837
          ],
          [
           0.739731184
          ],
          [
           0.465231269
          ],
          [
           0.7321109
          ],
          [
           0.373874305
          ],
          [
           0.501587947
          ],
          [
           0.115383158
          ],
          [
           0.731946604
          ],
          [
           0.418298728
          ],
          [
           0.062259591
          ],
          [
           0.391496379
          ],
          [
           0.35984929
          ],
          [
           0.245235627
          ],
          [
           0.610028339
          ],
          [
           0.435403602
          ],
          [
           0.434309675
          ],
          [
           0.523763344
          ],
          [
           0.171187866
          ],
          [
           0.187734303
          ],
          [
           0.945014638
          ],
          [
           0.027851097
          ],
          [
           0.68445706
          ],
          [
           0.178014532
          ],
          [
           0.643427879
          ],
          [
           0.59588355
          ],
          [
           0.372361682
          ],
          [
           0.586103584
          ],
          [
           0.271658852
          ],
          [
           0.59951107
          ],
          [
           0.468363088
          ],
          [
           0.314515565
          ],
          [
           0.21893726
          ],
          [
           0.254716562
          ],
          [
           0.25612815
          ],
          [
           0.602259755
          ],
          [
           0.134381075
          ],
          [
           0.513887424
          ],
          [
           0.624241636
          ],
          [
           0.160251854
          ],
          [
           0.580708108
          ],
          [
           0.270540486
          ],
          [
           0.832919932
          ],
          [
           0.93032134
          ],
          [
           0.719157884
          ],
          [
           0.886720033
          ],
          [
           0.098792281
          ],
          [
           0.787174286
          ],
          [
           0.365592376
          ],
          [
           0.719576193
          ],
          [
           0.8058956
          ],
          [
           0.755578334
          ],
          [
           0.526005909
          ],
          [
           0.68880424
          ],
          [
           0.221115312
          ],
          [
           0.739369477
          ],
          [
           0.408440236
          ],
          [
           0.348926542
          ],
          [
           0.433713763
          ],
          [
           0.596496607
          ],
          [
           0.6942953
          ],
          [
           0.709030966
          ],
          [
           0.867652984
          ],
          [
           0.89332545
          ],
          [
           0.746020922
          ],
          [
           0.538284443
          ],
          [
           0.892219314
          ],
          [
           0.935175765
          ],
          [
           0.260527707
          ],
          [
           0.956780449
          ],
          [
           0.204932484
          ],
          [
           0.687733351
          ],
          [
           0.329063619
          ],
          [
           0.632149831
          ],
          [
           0.463744506
          ],
          [
           0.698859621
          ],
          [
           0.385446564
          ],
          [
           0.479975377
          ],
          [
           0.732279108
          ],
          [
           0.3813543
          ],
          [
           0.459326013
          ],
          [
           0.257401434
          ],
          [
           0.665014804
          ],
          [
           0.103399542
          ],
          [
           0.425284413
          ],
          [
           0.943529051
          ],
          [
           0.594750236
          ],
          [
           0.543776817
          ],
          [
           0.18203988
          ],
          [
           0.235842084
          ],
          [
           0.585984497
          ],
          [
           0.762013168
          ],
          [
           0.684982907
          ],
          [
           0.676936933
          ],
          [
           0.290184964
          ],
          [
           0.481068222
          ],
          [
           0.492766033
          ],
          [
           0.221856234
          ],
          [
           0.053875998
          ],
          [
           0.082751144
          ],
          [
           0.385366225
          ],
          [
           0.702513961
          ],
          [
           0.91553156
          ],
          [
           0.082087436
          ],
          [
           0.251280378
          ],
          [
           0.416721817
          ],
          [
           0.277032672
          ],
          [
           0.579539754
          ],
          [
           0.569363476
          ],
          [
           0.133399703
          ],
          [
           0.265045463
          ],
          [
           0.936571901
          ],
          [
           0.252618554
          ],
          [
           0.054033081
          ],
          [
           0.802481439
          ],
          [
           0.528197693
          ],
          [
           0.9515026
          ],
          [
           0.572121173
          ],
          [
           0.752938227
          ],
          [
           0.143857535
          ],
          [
           0.513484576
          ],
          [
           0.313322389
          ],
          [
           0.687797396
          ],
          [
           0.37705984
          ],
          [
           0.348226142
          ],
          [
           0.67763282
          ],
          [
           0.241387521
          ],
          [
           0.850650179
          ],
          [
           0.220348103
          ],
          [
           0.476445464
          ],
          [
           0.690324025
          ],
          [
           0.364695946
          ],
          [
           0.649249197
          ],
          [
           0.943701921
          ],
          [
           0.529645971
          ],
          [
           0.299097002
          ],
          [
           0.96696247
          ],
          [
           0.272005242
          ],
          [
           0.314161447
          ],
          [
           0.752020991
          ],
          [
           0.221882453
          ],
          [
           0.720332673
          ],
          [
           0.379204782
          ],
          [
           0.60168653
          ],
          [
           0.582932673
          ],
          [
           0.950809853
          ],
          [
           0.58830141
          ],
          [
           0.880887227
          ],
          [
           0.467857701
          ],
          [
           0.879902171
          ],
          [
           0.619844009
          ],
          [
           0.359002573
          ],
          [
           0.291511278
          ],
          [
           0.694157143
          ],
          [
           0.727960353
          ],
          [
           0.617703921
          ],
          [
           0.39581257
          ],
          [
           0.58317282
          ],
          [
           0.710332374
          ],
          [
           0.253753693
          ],
          [
           0.049412228
          ],
          [
           0.728378695
          ],
          [
           0.432432881
          ],
          [
           0.58612345
          ],
          [
           0.052342373
          ],
          [
           0.053483902
          ],
          [
           0.518729378
          ],
          [
           0.933040208
          ],
          [
           0.703554284
          ],
          [
           0.268989899
          ],
          [
           0.733006927
          ],
          [
           0.444352467
          ],
          [
           0.583394621
          ],
          [
           0.871172692
          ],
          [
           0.428767078
          ],
          [
           0.300460841
          ],
          [
           0.953329459
          ],
          [
           0.606443965
          ],
          [
           0.90986815
          ],
          [
           0.714896449
          ],
          [
           0.497349509
          ],
          [
           0.853097486
          ],
          [
           0.721804145
          ],
          [
           0.303467328
          ],
          [
           0.664485096
          ],
          [
           0.27978062
          ],
          [
           0.569481665
          ],
          [
           0.628628926
          ],
          [
           0.088368123
          ],
          [
           0.733567326
          ],
          [
           0.537436778
          ],
          [
           0.638593691
          ],
          [
           0.954726948
          ],
          [
           0.632202332
          ],
          [
           0.642134651
          ],
          [
           0.744653087
          ],
          [
           0.115714007
          ],
          [
           0.486250073
          ],
          [
           0.440356144
          ],
          [
           0.08272289
          ],
          [
           0.511591027
          ],
          [
           0.394627555
          ],
          [
           0.224394
          ],
          [
           0.626927584
          ],
          [
           0.290254057
          ],
          [
           0.779008053
          ],
          [
           0.86610579
          ],
          [
           0.873326081
          ],
          [
           0.49548916
          ],
          [
           0.594297695
          ],
          [
           0.918201584
          ],
          [
           0.577042754
          ],
          [
           0.019467671
          ],
          [
           0.670298282
          ],
          [
           0.546595316
          ],
          [
           0.591665146
          ],
          [
           0.42155819
          ],
          [
           0.685608559
          ],
          [
           0.340303024
          ],
          [
           0.675626741
          ],
          [
           0.319067345
          ],
          [
           0.388499664
          ],
          [
           0.706949589
          ],
          [
           0.559409515
          ],
          [
           0.687663508
          ],
          [
           0.708804554
          ],
          [
           0.681888094
          ],
          [
           0.422535109
          ],
          [
           0.320004605
          ],
          [
           0.658281368
          ],
          [
           0.634154867
          ],
          [
           0.777332009
          ],
          [
           0.812677205
          ],
          [
           0.074280797
          ],
          [
           0.39600217
          ],
          [
           0.054933913
          ],
          [
           0.825058925
          ],
          [
           0.382642009
          ],
          [
           0.868729818
          ],
          [
           0.588043346
          ],
          [
           0.891551577
          ],
          [
           0.10920046
          ],
          [
           0.647682781
          ],
          [
           0.724342512
          ],
          [
           0.070163044
          ],
          [
           0.280882054
          ],
          [
           0.039113261
          ],
          [
           0.579641592
          ],
          [
           0.639000922
          ],
          [
           0.281745925
          ],
          [
           0.647857744
          ],
          [
           0.647905797
          ],
          [
           0.875226264
          ],
          [
           0.567603305
          ],
          [
           0.262940591
          ],
          [
           0.268026042
          ],
          [
           0.40519133
          ],
          [
           0.479965451
          ],
          [
           0.33552403
          ],
          [
           0.777165379
          ],
          [
           0.425487963
          ],
          [
           0.237986115
          ],
          [
           0.142522971
          ],
          [
           0.724176488
          ],
          [
           0.234698933
          ],
          [
           0.078182281
          ],
          [
           0.855990155
          ],
          [
           0.270251765
          ],
          [
           0.435517841
          ],
          [
           0.762697513
          ],
          [
           0.464487258
          ],
          [
           0.396112685
          ],
          [
           0.376380921
          ],
          [
           0.294594677
          ],
          [
           0.694492121
          ],
          [
           0.622767949
          ],
          [
           0.847559722
          ],
          [
           0.301463054
          ],
          [
           0.912937812
          ],
          [
           0.500017182
          ],
          [
           0.902587935
          ],
          [
           0.304517943
          ],
          [
           0.299165673
          ],
          [
           0.092014087
          ],
          [
           0.488548917
          ],
          [
           0.664664437
          ],
          [
           0.265349549
          ],
          [
           0.723657021
          ],
          [
           0.149262385
          ],
          [
           0.04577339
          ],
          [
           0.69661064
          ],
          [
           0.42181486
          ],
          [
           0.733845785
          ],
          [
           0.418795386
          ],
          [
           0.677443529
          ],
          [
           0.261283603
          ],
          [
           0.268527767
          ],
          [
           0.544322236
          ],
          [
           0.431632036
          ],
          [
           0.981018141
          ],
          [
           0.214980724
          ],
          [
           0.394729993
          ],
          [
           0.122224944
          ],
          [
           0.297496875
          ],
          [
           0.374904431
          ],
          [
           0.68698771
          ],
          [
           0.388549207
          ],
          [
           0.039296071
          ],
          [
           0.73553424
          ],
          [
           0.379294893
          ],
          [
           0.732123386
          ],
          [
           0.339221439
          ],
          [
           0.659450594
          ],
          [
           0.054838642
          ],
          [
           0.640112102
          ],
          [
           0.307141704
          ],
          [
           0.396611907
          ],
          [
           0.420439161
          ],
          [
           0.241714974
          ],
          [
           0.065893153
          ],
          [
           0.910521937
          ],
          [
           0.697163103
          ],
          [
           0.072559853
          ],
          [
           0.81825094
          ],
          [
           0.311888815
          ],
          [
           0.961644609
          ],
          [
           0.816325524
          ],
          [
           0.14647302
          ],
          [
           0.548753945
          ],
          [
           0.946158087
          ],
          [
           0.293992717
          ],
          [
           0.331479643
          ],
          [
           0.906220031
          ],
          [
           0.525540416
          ],
          [
           0.83301411
          ],
          [
           0.514849806
          ],
          [
           0.574609024
          ],
          [
           0.468711853
          ],
          [
           0.71002775
          ],
          [
           0.645973276
          ],
          [
           0.229794416
          ],
          [
           0.551783393
          ],
          [
           0.055822991
          ],
          [
           0.331750941
          ],
          [
           0.715520198
          ],
          [
           0.583924357
          ],
          [
           0.306957691
          ],
          [
           0.791478237
          ],
          [
           0.164236639
          ],
          [
           0.065711219
          ],
          [
           0.948993132
          ],
          [
           0.080423835
          ],
          [
           0.052495426
          ],
          [
           0.566346135
          ],
          [
           0.3630266
          ],
          [
           0.605442195
          ],
          [
           0.630850584
          ],
          [
           0.065791238
          ],
          [
           0.286817071
          ],
          [
           0.685462839
          ],
          [
           0.260853706
          ],
          [
           0.659122429
          ],
          [
           0.443173922
          ],
          [
           0.602063986
          ],
          [
           0.060366911
          ],
          [
           0.781903153
          ],
          [
           0.514579807
          ],
          [
           0.483886213
          ],
          [
           0.600213807
          ],
          [
           0.497364052
          ],
          [
           0.411145245
          ],
          [
           0.116999171
          ],
          [
           0.341890141
          ],
          [
           0.746950848
          ],
          [
           0.396292746
          ],
          [
           0.622143843
          ],
          [
           0.335271141
          ],
          [
           0.140257137
          ],
          [
           0.081620681
          ],
          [
           0.069837569
          ],
          [
           0.468940008
          ],
          [
           0.990857417
          ],
          [
           0.896616832
          ],
          [
           0.255310561
          ],
          [
           0.224645267
          ],
          [
           0.01991825
          ],
          [
           0.296480415
          ],
          [
           0.155458996
          ],
          [
           0.577916714
          ],
          [
           0.956303031
          ],
          [
           0.813464394
          ],
          [
           0.529675785
          ],
          [
           0.287671353
          ],
          [
           0.48039136
          ],
          [
           0.281044822
          ],
          [
           0.633196521
          ],
          [
           0.093325377
          ],
          [
           0.284473981
          ],
          [
           0.052223775
          ],
          [
           0.051129385
          ],
          [
           0.967405608
          ],
          [
           0.040045728
          ],
          [
           0.908582921
          ],
          [
           0.662117416
          ],
          [
           0.424703209
          ],
          [
           0.72207806
          ],
          [
           0.666193327
          ],
          [
           0.509681253
          ],
          [
           0.751353621
          ],
          [
           0.279073124
          ],
          [
           0.074927
          ],
          [
           0.916359535
          ],
          [
           0.31040327
          ],
          [
           0.716604052
          ],
          [
           0.485587085
          ],
          [
           0.306075181
          ],
          [
           0.477558204
          ],
          [
           0.711923941
          ],
          [
           0.066348638
          ],
          [
           0.274539351
          ],
          [
           0.31082252
          ],
          [
           0.476073127
          ],
          [
           0.186795565
          ],
          [
           0.26654207
          ],
          [
           0.070231142
          ],
          [
           0.26951927
          ],
          [
           0.800004713
          ],
          [
           0.273633667
          ],
          [
           0.146479192
          ],
          [
           0.378318951
          ],
          [
           0.373849065
          ],
          [
           0.242170835
          ],
          [
           0.249796488
          ],
          [
           0.066591188
          ],
          [
           0.372956798
          ],
          [
           0.501812291
          ],
          [
           0.313097752
          ],
          [
           0.880202196
          ],
          [
           0.51981893
          ],
          [
           0.364138746
          ],
          [
           0.492682896
          ],
          [
           0.285732652
          ],
          [
           0.890114985
          ],
          [
           0.316419561
          ],
          [
           0.26866354
          ],
          [
           0.771975959
          ],
          [
           0.968888992
          ],
          [
           0.080334377
          ],
          [
           0.736828221
          ],
          [
           0.300558071
          ],
          [
           0.917950393
          ],
          [
           0.465815039
          ],
          [
           0.054036682
          ],
          [
           0.963150123
          ],
          [
           0.089653503
          ],
          [
           0.707693234
          ],
          [
           0.636416037
          ],
          [
           0.539521117
          ],
          [
           0.114757161
          ],
          [
           0.357312419
          ],
          [
           0.67639834
          ],
          [
           0.43482839
          ],
          [
           0.032326387
          ],
          [
           0.711365605
          ],
          [
           0.187486519
          ],
          [
           0.052789653
          ],
          [
           0.505863613
          ],
          [
           0.927431873
          ],
          [
           0.680984256
          ],
          [
           0.882822186
          ],
          [
           0.495705441
          ],
          [
           0.596240398
          ],
          [
           0.320610701
          ],
          [
           0.3413685
          ],
          [
           0.159681797
          ],
          [
           0.318133669
          ],
          [
           0.839301048
          ],
          [
           0.064359251
          ],
          [
           0.470216633
          ],
          [
           0.776252291
          ],
          [
           0.635843383
          ],
          [
           0.62510543
          ],
          [
           0.52959065
          ],
          [
           0.986900166
          ],
          [
           0.078585688
          ],
          [
           0.233284267
          ],
          [
           0.363330957
          ],
          [
           0.716716981
          ],
          [
           0.375889792
          ],
          [
           0.223316889
          ],
          [
           0.299343986
          ],
          [
           0.538595767
          ],
          [
           0.730297124
          ],
          [
           0.66033077
          ],
          [
           0.435296009
          ],
          [
           0.326494313
          ],
          [
           0.854402708
          ],
          [
           0.573493847
          ],
          [
           0.757786135
          ],
          [
           0.704743233
          ],
          [
           0.281575597
          ],
          [
           0.671968208
          ],
          [
           0.313726015
          ],
          [
           0.364338275
          ],
          [
           0.368216396
          ],
          [
           0.386295207
          ],
          [
           0.655971865
          ],
          [
           0.566025273
          ],
          [
           0.424999093
          ],
          [
           0.090110371
          ],
          [
           0.772350538
          ],
          [
           0.331047258
          ],
          [
           0.273716188
          ],
          [
           0.23877568
          ],
          [
           0.373079772
          ],
          [
           0.331185868
          ],
          [
           0.256134531
          ],
          [
           0.678373225
          ],
          [
           0.434638338
          ],
          [
           0.654668307
          ],
          [
           0.986681065
          ],
          [
           0.371520495
          ],
          [
           0.408359618
          ],
          [
           0.40932365
          ],
          [
           0.283412082
          ],
          [
           0.395246531
          ],
          [
           0.010984428
          ],
          [
           0.306013869
          ],
          [
           0.266194806
          ],
          [
           0.299318521
          ],
          [
           0.318293946
          ],
          [
           0.74282591
          ],
          [
           0.097664329
          ],
          [
           0.079666942
          ],
          [
           0.613258767
          ],
          [
           0.99443072
          ],
          [
           0.568835082
          ],
          [
           0.708034516
          ],
          [
           0.370592719
          ],
          [
           0.669867361
          ],
          [
           0.651295625
          ],
          [
           0.462531569
          ],
          [
           0.719625619
          ],
          [
           0.45377248
          ],
          [
           0.394863946
          ],
          [
           0.323974831
          ],
          [
           0.146454724
          ],
          [
           0.779067041
          ],
          [
           0.401828915
          ],
          [
           0.601479585
          ],
          [
           0.856423023
          ],
          [
           0.565242962
          ],
          [
           0.301225108
          ],
          [
           0.282108144
          ],
          [
           0.594378011
          ],
          [
           0.705312368
          ],
          [
           0.540869628
          ],
          [
           0.319249574
          ],
          [
           0.361766138
          ],
          [
           0.625000704
          ],
          [
           0.316287401
          ],
          [
           0.047239021
          ],
          [
           0.801182233
          ],
          [
           0.508474436
          ],
          [
           0.817893411
          ],
          [
           0.399235601
          ],
          [
           0.974051999
          ],
          [
           0.72241535
          ],
          [
           0.039564764
          ],
          [
           0.908684108
          ],
          [
           0.473010134
          ],
          [
           0.718049628
          ],
          [
           0.763479069
          ],
          [
           0.647596537
          ],
          [
           0.894997386
          ],
          [
           0.222825901
          ],
          [
           0.359012234
          ],
          [
           0.944910252
          ],
          [
           0.297877816
          ],
          [
           0.172517997
          ],
          [
           0.556586265
          ],
          [
           0.876481735
          ],
          [
           0.486677843
          ],
          [
           0.459496733
          ],
          [
           0.474126377
          ],
          [
           0.70101144
          ],
          [
           0.337597387
          ],
          [
           0.537578886
          ],
          [
           0.966992448
          ],
          [
           0.056849545
          ],
          [
           0.233249065
          ],
          [
           0.380054711
          ],
          [
           0.602929443
          ],
          [
           0.303847999
          ],
          [
           0.170194553
          ],
          [
           0.972168554
          ],
          [
           0.332168927
          ],
          [
           0.688728689
          ],
          [
           0.110773401
          ],
          [
           0.273352065
          ],
          [
           0.572939678
          ],
          [
           0.491457065
          ],
          [
           0.281389999
          ],
          [
           0.821697261
          ],
          [
           0.674977683
          ],
          [
           0.585134549
          ],
          [
           0.710596116
          ],
          [
           0.040488789
          ],
          [
           0.568054311
          ],
          [
           0.321752928
          ],
          [
           0.611850232
          ],
          [
           0.926096887
          ],
          [
           0.618347428
          ],
          [
           0.667629785
          ],
          [
           0.397733466
          ],
          [
           0.290875487
          ],
          [
           0.594375103
          ],
          [
           0.508255233
          ],
          [
           0.338571357
          ],
          [
           0.432302347
          ],
          [
           0.302221978
          ],
          [
           0.87619819
          ],
          [
           0.080204492
          ],
          [
           0.092333532
          ],
          [
           0.093656447
          ],
          [
           0.608452351
          ],
          [
           0.732654598
          ],
          [
           0.944158855
          ],
          [
           0.26742308
          ],
          [
           0.731124201
          ],
          [
           0.661308553
          ],
          [
           0.387766262
          ],
          [
           0.962585273
          ],
          [
           0.322067067
          ],
          [
           0.634081093
          ],
          [
           0.475345002
          ],
          [
           0.353558973
          ],
          [
           0.885936316
          ],
          [
           0.876798106
          ],
          [
           0.221581064
          ],
          [
           0.394362449
          ],
          [
           0.805035676
          ],
          [
           0.452898486
          ],
          [
           0.592520516
          ],
          [
           0.761026394
          ],
          [
           0.245049023
          ],
          [
           0.372139363
          ],
          [
           0.681054822
          ],
          [
           0.747143148
          ],
          [
           0.920739529
          ],
          [
           0.097207945
          ],
          [
           0.699302998
          ],
          [
           0.721647006
          ],
          [
           0.535356114
          ],
          [
           0.738293805
          ],
          [
           0.706467551
          ],
          [
           0.67395061
          ],
          [
           0.711212291
          ],
          [
           0.302558708
          ],
          [
           0.080097855
          ],
          [
           0.707010837
          ],
          [
           0.512248622
          ],
          [
           0.659627472
          ],
          [
           0.657559694
          ],
          [
           0.100645606
          ],
          [
           0.92665363
          ],
          [
           0.892879338
          ],
          [
           0.839157508
          ],
          [
           0.890959718
          ],
          [
           0.556754471
          ],
          [
           0.960361937
          ],
          [
           0.631037864
          ],
          [
           0.029838065
          ],
          [
           0.278843351
          ],
          [
           0.926157705
          ],
          [
           0.551504258
          ],
          [
           0.485942349
          ],
          [
           0.437234696
          ],
          [
           0.252318018
          ],
          [
           0.515466972
          ],
          [
           0.437252296
          ],
          [
           0.493724207
          ],
          [
           0.83324725
          ],
          [
           0.317521477
          ],
          [
           0.286234562
          ],
          [
           0.726833965
          ],
          [
           0.495667033
          ],
          [
           0.028645255
          ],
          [
           0.319671917
          ],
          [
           0.674344598
          ],
          [
           0.766037189
          ],
          [
           0.65456992
          ],
          [
           0.756514381
          ],
          [
           0.528253719
          ],
          [
           0.389719491
          ],
          [
           0.355087459
          ],
          [
           0.87015202
          ],
          [
           0.739083306
          ],
          [
           0.305761846
          ],
          [
           0.411587673
          ],
          [
           0.063633094
          ],
          [
           0.735409395
          ],
          [
           0.605916669
          ],
          [
           0.539395562
          ],
          [
           0.566183532
          ],
          [
           0.674795186
          ],
          [
           0.070993366
          ],
          [
           0.1252641
          ],
          [
           0.279601492
          ],
          [
           0.952174402
          ],
          [
           0.233806762
          ],
          [
           0.437247429
          ],
          [
           0.925423095
          ],
          [
           0.433498634
          ],
          [
           0.52517902
          ],
          [
           0.088435529
          ],
          [
           0.447677638
          ],
          [
           0.647000631
          ],
          [
           0.903603337
          ],
          [
           0.265790738
          ],
          [
           0.66419695
          ],
          [
           0.498120658
          ],
          [
           0.490188944
          ],
          [
           0.747084187
          ],
          [
           0.906783648
          ],
          [
           0.678770917
          ],
          [
           0.348599859
          ],
          [
           0.294839683
          ],
          [
           0.705691827
          ],
          [
           0.211917931
          ],
          [
           0.063201124
          ],
          [
           0.276699543
          ],
          [
           0.672459395
          ],
          [
           0.808205949
          ],
          [
           0.296538373
          ],
          [
           0.160126862
          ],
          [
           0.439385032
          ],
          [
           0.555951416
          ],
          [
           0.386240112
          ],
          [
           0.158689619
          ],
          [
           0.214499855
          ],
          [
           0.299579429
          ],
          [
           0.569161656
          ],
          [
           0.488614799
          ],
          [
           0.878295021
          ],
          [
           0.649380949
          ],
          [
           0.465713341
          ],
          [
           0.16813774
          ],
          [
           0.87529545
          ],
          [
           0.841132341
          ],
          [
           0.33292081
          ],
          [
           0.513047859
          ],
          [
           0.305055078
          ],
          [
           0.812626991
          ],
          [
           0.25096706
          ],
          [
           0.502435578
          ],
          [
           0.457990741
          ]
         ],
         "hovertemplate": "0=%{x}<br>1=%{y}<br>Feature=%{customdata[0]}<br>Anomaly=%{marker.color}<extra></extra>",
         "legendgroup": "",
         "marker": {
          "color": [
           0,
           0,
           1,
           1,
           0,
           0,
           0,
           1,
           1,
           0,
           0,
           1,
           0,
           0,
           1,
           0,
           0,
           1,
           1,
           0,
           1,
           0,
           0,
           1,
           1,
           1,
           0,
           0,
           1,
           1,
           0,
           0,
           0,
           1,
           1,
           1,
           0,
           0,
           0,
           0,
           0,
           0,
           0,
           1,
           0,
           1,
           0,
           0,
           0,
           0,
           0,
           1,
           0,
           1,
           0,
           1,
           0,
           0,
           0,
           1,
           0,
           0,
           1,
           1,
           0,
           0,
           1,
           0,
           0,
           1,
           0,
           0,
           0,
           0,
           0,
           0,
           0,
           0,
           0,
           0,
           0,
           0,
           0,
           0,
           0,
           0,
           0,
           0,
           0,
           0,
           0,
           0,
           0,
           0,
           0,
           0,
           0,
           0,
           0,
           0,
           0,
           0,
           0,
           0,
           0,
           0,
           0,
           0,
           0,
           0,
           0,
           0,
           0,
           0,
           0,
           0,
           0,
           0,
           0,
           0,
           0,
           0,
           0,
           0,
           0,
           0,
           0,
           0,
           0,
           0,
           1,
           0,
           0,
           0,
           0,
           0,
           0,
           0,
           0,
           0,
           0,
           0,
           0,
           0,
           0,
           0,
           0,
           0,
           0,
           0,
           0,
           0,
           0,
           0,
           0,
           0,
           0,
           0,
           0,
           0,
           0,
           0,
           0,
           0,
           0,
           0,
           0,
           0,
           0,
           0,
           0,
           0,
           0,
           0,
           0,
           0,
           0,
           0,
           0,
           0,
           0,
           0,
           0,
           0,
           0,
           0,
           0,
           0,
           0,
           0,
           0,
           0,
           0,
           0,
           0,
           0,
           0,
           0,
           1,
           0,
           0,
           0,
           0,
           0,
           0,
           0,
           0,
           0,
           0,
           0,
           0,
           0,
           0,
           0,
           0,
           0,
           0,
           0,
           0,
           0,
           0,
           0,
           0,
           0,
           0,
           0,
           0,
           0,
           0,
           0,
           0,
           0,
           0,
           0,
           0,
           0,
           0,
           0,
           0,
           0,
           0,
           0,
           0,
           0,
           0,
           0,
           0,
           0,
           0,
           0,
           0,
           0,
           0,
           0,
           0,
           0,
           0,
           0,
           0,
           0,
           0,
           0,
           0,
           0,
           0,
           0,
           0,
           0,
           0,
           0,
           0,
           0,
           0,
           0,
           0,
           0,
           0,
           0,
           0,
           0,
           0,
           0,
           0,
           0,
           0,
           0,
           0,
           0,
           0,
           0,
           0,
           0,
           0,
           0,
           0,
           0,
           0,
           0,
           0,
           0,
           0,
           0,
           0,
           0,
           0,
           0,
           0,
           0,
           0,
           0,
           0,
           0,
           0,
           0,
           0,
           0,
           0,
           0,
           0,
           0,
           0,
           0,
           0,
           0,
           0,
           0,
           0,
           0,
           0,
           0,
           0,
           0,
           0,
           0,
           0,
           0,
           0,
           0,
           0,
           0,
           0,
           0,
           0,
           0,
           0,
           0,
           0,
           0,
           0,
           0,
           0,
           0,
           0,
           0,
           0,
           0,
           0,
           0,
           0,
           0,
           0,
           0,
           0,
           0,
           0,
           0,
           0,
           0,
           0,
           0,
           0,
           0,
           0,
           0,
           0,
           0,
           0,
           0,
           0,
           0,
           0,
           0,
           0,
           0,
           0,
           0,
           0,
           0,
           0,
           0,
           0,
           0,
           0,
           0,
           0,
           0,
           0,
           0,
           0,
           0,
           0,
           0,
           0,
           0,
           0,
           0,
           0,
           0,
           0,
           0,
           0,
           0,
           0,
           0,
           0,
           0,
           0,
           0,
           0,
           0,
           0,
           0,
           0,
           0,
           0,
           0,
           0,
           0,
           0,
           0,
           0,
           0,
           0,
           0,
           0,
           0,
           0,
           0,
           0,
           0,
           0,
           0,
           0,
           0,
           0,
           0,
           0,
           0,
           0,
           0,
           0,
           0,
           0,
           0,
           0,
           0,
           0,
           0,
           0,
           0,
           0,
           0,
           0,
           0,
           0,
           0,
           0,
           0,
           0,
           0,
           0,
           0,
           0,
           0,
           0,
           0,
           0,
           0,
           0,
           0,
           0,
           0,
           0,
           0,
           0,
           0,
           0,
           0,
           0,
           0,
           0,
           0,
           0,
           0,
           0,
           0,
           0,
           0,
           0,
           0,
           0,
           0,
           0,
           0,
           0,
           0,
           0,
           0,
           0,
           0,
           0,
           0,
           0,
           0,
           0,
           0,
           0,
           0,
           0,
           0,
           0,
           0,
           0,
           1,
           0,
           0,
           0,
           0,
           0,
           0,
           0,
           0,
           0,
           0,
           0,
           0,
           0,
           0,
           0,
           0,
           0,
           0,
           0,
           0,
           0,
           1,
           0,
           0,
           0,
           0,
           0,
           0,
           0,
           0,
           0,
           0,
           0,
           0,
           0,
           0,
           0,
           0,
           0,
           0,
           0,
           0,
           0,
           0,
           0,
           0,
           0,
           0,
           0,
           0,
           0,
           0,
           0,
           0,
           0,
           0,
           0,
           0,
           0,
           0,
           0,
           0,
           0,
           0,
           0,
           0,
           0,
           0,
           0,
           0,
           0,
           0,
           0,
           0,
           0,
           0,
           0,
           0,
           1,
           0,
           0,
           0,
           0,
           0,
           0,
           0,
           0,
           0,
           0,
           0,
           0,
           0,
           0,
           0,
           0,
           0,
           0,
           0,
           0,
           0,
           0,
           0,
           0,
           0,
           0,
           0,
           0,
           0,
           0,
           0,
           0,
           0,
           0,
           0,
           0,
           0,
           0,
           0,
           0,
           0,
           0,
           0,
           0,
           0,
           0,
           0,
           0,
           0,
           0,
           0,
           0,
           0,
           0,
           0,
           0,
           0,
           0,
           0,
           0,
           0,
           0,
           0,
           0,
           0,
           0,
           0,
           0,
           0,
           0,
           0,
           0,
           0,
           0,
           0,
           0,
           0,
           1,
           0,
           0,
           0,
           0,
           0,
           0,
           0,
           0,
           0,
           0,
           0,
           0,
           0,
           0,
           0,
           0,
           0,
           0,
           0,
           1,
           1,
           0,
           1,
           0,
           0,
           0,
           1,
           1,
           0,
           1,
           0,
           0,
           1,
           0,
           0,
           1,
           1,
           1,
           0,
           1,
           0,
           1,
           1,
           1,
           0,
           0,
           0,
           1,
           0,
           0,
           0,
           0,
           0,
           0,
           0,
           0,
           0,
           0,
           0,
           0,
           0,
           0,
           0,
           0,
           0,
           0,
           0,
           0,
           0,
           0,
           0,
           0,
           0,
           0,
           0,
           0,
           0,
           0,
           0,
           0,
           0,
           0,
           0,
           0,
           0,
           0,
           0,
           0,
           0,
           0,
           0,
           0,
           0,
           0,
           0,
           0,
           0,
           0,
           0,
           0,
           0,
           0,
           0,
           0,
           0,
           0,
           0,
           0,
           0,
           0,
           0,
           0,
           0,
           0,
           0,
           0,
           0,
           0,
           0,
           0,
           0,
           0,
           0,
           0,
           0,
           0,
           0,
           0,
           0,
           0,
           0,
           0,
           0,
           0,
           0,
           0,
           0,
           0,
           0,
           0,
           0,
           0,
           0,
           0,
           0,
           0,
           0,
           0,
           0,
           0,
           0,
           0,
           0,
           0,
           0,
           0,
           0,
           0,
           0,
           0,
           0,
           0,
           0,
           0,
           0,
           0,
           0,
           0,
           0,
           0,
           0,
           0,
           0,
           0,
           0,
           0,
           0,
           0,
           0,
           0,
           0,
           0,
           1,
           0,
           0,
           0,
           0,
           0,
           0,
           0,
           0,
           0,
           0,
           0,
           0,
           0,
           0,
           0,
           0,
           0,
           0,
           0,
           0,
           0,
           0,
           0,
           0,
           0,
           0,
           0,
           0,
           0,
           0,
           0,
           0,
           0,
           0,
           0,
           0,
           0,
           0,
           0,
           0,
           0,
           0,
           0,
           0,
           0,
           0,
           0,
           0,
           0,
           0,
           0,
           0,
           0,
           0,
           0,
           0,
           0,
           1,
           0,
           0,
           0,
           0,
           0,
           0,
           0,
           0,
           0,
           0,
           0,
           0,
           0,
           0,
           0,
           0,
           0,
           0,
           0,
           0,
           0,
           0,
           0,
           0,
           0,
           0,
           0,
           0,
           0,
           0,
           0,
           0,
           0,
           0,
           0,
           0,
           0,
           0,
           0,
           0,
           0,
           0,
           0,
           0,
           0,
           0,
           0,
           0,
           0,
           0,
           0,
           0,
           0,
           0,
           0,
           0,
           0,
           0,
           0,
           0,
           0,
           0,
           0,
           0,
           0,
           0,
           0,
           0,
           0,
           0,
           0,
           0,
           0,
           0,
           0,
           0,
           0,
           0
          ],
          "coloraxis": "coloraxis",
          "opacity": 0.7,
          "symbol": "circle"
         },
         "mode": "markers",
         "name": "",
         "orientation": "v",
         "showlegend": false,
         "type": "scatter",
         "x": [
          1.452867031097412,
          0.9519529342651367,
          9.673412322998047,
          8.248821258544922,
          10.784242630004883,
          7.368865489959717,
          -0.037234120070934296,
          8.837321281433105,
          0.7897238731384277,
          -1.103832721710205,
          8.18415641784668,
          10.605918884277344,
          8.056984901428223,
          0.183378666639328,
          9.605241775512695,
          9.807075500488281,
          8.024709701538086,
          -0.43784770369529724,
          9.188762664794922,
          8.756715774536133,
          7.151986598968506,
          0.7700194120407104,
          10.035337448120117,
          0.8177260160446167,
          8.014039039611816,
          0.7139694094657898,
          10.451701164245605,
          0.09711746126413345,
          10.133009910583496,
          9.550867080688477,
          0.675727367401123,
          1.185238003730774,
          0.1630030870437622,
          9.381718635559082,
          0.13147899508476257,
          0.6457352042198181,
          -1.1141694784164429,
          0.09200076758861542,
          0.999334454536438,
          7.455906391143799,
          -1.8289732933044434,
          9.289931297302246,
          -1.2968727350234985,
          7.784479141235352,
          9.23587417602539,
          9.706024169921875,
          9.206489562988281,
          0.898302435874939,
          10.624659538269043,
          -1.387569785118103,
          8.549795150756836,
          8.854368209838867,
          -0.37868425250053406,
          9.700654029846191,
          7.573915004730225,
          1.1572750806808472,
          6.9516496658325195,
          1.6970576047897339,
          9.297149658203125,
          9.673935890197754,
          0.19968678057193756,
          -0.16253899037837982,
          10.229695320129395,
          9.100476264953613,
          -1.5409362316131592,
          9.139334678649902,
          -0.6794509887695312,
          -0.4966251254081726,
          10.72999382019043,
          7.837492942810059,
          9.899173736572266,
          8.864150047302246,
          1.075719952583313,
          8.064896583557129,
          -0.9115703105926514,
          0.3099762797355652,
          10.69593334197998,
          9.773306846618652,
          -1.7546929121017456,
          -1.7967760562896729,
          -1.5417275428771973,
          -0.05567127466201782,
          10.343208312988281,
          0.14581015706062317,
          0.3566850423812866,
          1.3214911222457886,
          -0.9477164149284363,
          -0.8604592084884644,
          1.5687294006347656,
          0.3701285123825073,
          0.08427415788173676,
          8.082923889160156,
          -1.0489202737808228,
          -0.3136395215988159,
          0.9323063492774963,
          10.166767120361328,
          -0.670748770236969,
          1.533902883529663,
          0.057665079832077026,
          10.495284080505371,
          1.2533222436904907,
          -1.4066250324249268,
          1.439824104309082,
          -0.7585936784744263,
          9.90336799621582,
          -1.1728951930999756,
          -0.25454872846603394,
          1.7880576848983765,
          -0.8336912989616394,
          9.634088516235352,
          -0.034828804433345795,
          1.1722384691238403,
          7.967970371246338,
          0.06451348960399628,
          10.516845703125,
          -0.45928141474723816,
          -0.25377362966537476,
          -0.3823193609714508,
          7.925779342651367,
          -0.236873060464859,
          -0.707072913646698,
          1.23148775100708,
          1.795878291130066,
          -1.6074260473251343,
          0.6614677906036377,
          1.099139928817749,
          1.3247344493865967,
          8.360420227050781,
          0.6407551169395447,
          1.216518759727478,
          1.0110796689987183,
          -0.5217832326889038,
          8.63383674621582,
          0.525607705116272,
          -1.4287546873092651,
          0.9509806632995605,
          10.251392364501953,
          8.941025733947754,
          1.2377941608428955,
          0.9608005285263062,
          8.237106323242188,
          0.2909389138221741,
          -0.6981603503227234,
          10.605807304382324,
          -0.28118860721588135,
          -1.4850008487701416,
          8.133007049560547,
          -1.3285877704620361,
          1.089098572731018,
          0.20149007439613342,
          0.14685308933258057,
          -0.38786739110946655,
          1.726294755935669,
          -0.8382823467254639,
          0.7328647971153259,
          -0.7476336359977722,
          -1.6221140623092651,
          -1.8833316564559937,
          -0.9198231101036072,
          7.422129154205322,
          -0.1907510757446289,
          -0.11640947312116623,
          -1.0808855295181274,
          -1.916232943534851,
          7.774514198303223,
          -1.536220669746399,
          8.444437026977539,
          9.615009307861328,
          9.60018253326416,
          0.2784208357334137,
          -0.4569527804851532,
          1.513236165046692,
          7.898772716522217,
          9.952971458435059,
          1.3050858974456787,
          -1.2594060897827148,
          7.633575439453125,
          9.720617294311523,
          1.0786982774734497,
          8.840971946716309,
          1.6074912548065186,
          8.23690414428711,
          1.1711926460266113,
          9.541838645935059,
          9.631689071655273,
          -0.18533281981945038,
          8.888040542602539,
          0.3263967037200928,
          -1.2049458026885986,
          -0.4117938280105591,
          -1.5284504890441895,
          10.845059394836426,
          8.197250366210938,
          10.096233367919922,
          -0.8413171768188477,
          0.0004133300972171128,
          1.723675012588501,
          2.006873369216919,
          1.2414072751998901,
          0.9387816786766052,
          1.1821247339248657,
          0.5655258297920227,
          1.0139153003692627,
          10.432875633239746,
          9.747536659240723,
          1.1527613401412964,
          -1.8929452896118164,
          1.2268543243408203,
          8.111710548400879,
          1.4306937456130981,
          1.0260463953018188,
          8.838397026062012,
          9.86693000793457,
          -0.11295007914304733,
          1.3293027877807617,
          1.526563286781311,
          1.2381411790847778,
          9.681966781616211,
          10.20634651184082,
          1.0511791706085205,
          9.758176803588867,
          1.0520033836364746,
          10.490921974182129,
          -1.1699590682983398,
          -0.843098521232605,
          -1.8633365631103516,
          -1.5187208652496338,
          -1.2989200353622437,
          -1.5184725522994995,
          8.338409423828125,
          0.052931685000658035,
          -1.2794221639633179,
          8.837799072265625,
          8.846197128295898,
          -0.4652369022369385,
          1.1184437274932861,
          0.9785653352737427,
          -0.40446680784225464,
          8.475977897644043,
          9.747872352600098,
          1.3654110431671143,
          1.9239075183868408,
          9.764909744262695,
          -0.13604049384593964,
          8.752911567687988,
          -1.0636075735092163,
          -0.9069600701332092,
          -1.4457679986953735,
          -1.5639020204544067,
          10.12645149230957,
          -0.407462477684021,
          1.1243313550949097,
          8.789633750915527,
          0.053119760006666183,
          -1.2454079389572144,
          0.8219406604766846,
          1.3794872760772705,
          -0.48661908507347107,
          8.389896392822266,
          -0.15782077610492706,
          9.860560417175293,
          0.03495761379599571,
          10.596983909606934,
          1.219197392463684,
          -0.5538204908370972,
          0.22997058928012848,
          9.135470390319824,
          -0.6215440034866333,
          -0.860236406326294,
          2.1497087478637695,
          1.8155730962753296,
          0.7960463762283325,
          0.531561017036438,
          9.873494148254395,
          7.4454851150512695,
          -1.0387272834777832,
          10.22923469543457,
          10.837589263916016,
          1.6142356395721436,
          -1.2244248390197754,
          -1.6169908046722412,
          9.932914733886719,
          -1.3437145948410034,
          0.7799074649810791,
          10.454154968261719,
          1.387142300605774,
          -0.7902847528457642,
          1.0245027542114258,
          -0.7820866703987122,
          1.2930731773376465,
          0.23613393306732178,
          1.6159040927886963,
          -0.26928743720054626,
          0.8603009581565857,
          0.15696170926094055,
          7.91895055770874,
          8.034833908081055,
          -1.9604980945587158,
          0.12886527180671692,
          1.3096200227737427,
          1.1491848230361938,
          -0.43208998441696167,
          10.038330078125,
          8.831323623657227,
          8.04159927368164,
          -0.9615454077720642,
          1.8079768419265747,
          -0.8395787477493286,
          -1.6908081769943237,
          9.638082504272461,
          9.489337921142578,
          -1.512073040008545,
          8.331530570983887,
          9.8074312210083,
          1.7514793872833252,
          1.4391671419143677,
          0.2539956569671631,
          0.08370425552129745,
          -1.0564358234405518,
          1.0426106452941895,
          1.2646422386169434,
          -0.08222418278455734,
          8.811227798461914,
          1.1259846687316895,
          -1.2410069704055786,
          0.719176173210144,
          9.474201202392578,
          9.146591186523438,
          9.63147258758545,
          7.9895501136779785,
          -0.5671632885932922,
          9.79903793334961,
          -0.25479018688201904,
          -0.6943991184234619,
          -0.9119099378585815,
          10.342656135559082,
          1.147229790687561,
          0.9514300227165222,
          9.094654083251953,
          9.398653984069824,
          1.0102777481079102,
          -1.3746789693832397,
          7.718601703643799,
          -0.9181186556816101,
          9.058917999267578,
          10.034082412719727,
          0.4913164973258972,
          -1.8049815893173218,
          8.456705093383789,
          9.74624252319336,
          1.0742390155792236,
          0.6404699087142944,
          -0.1597660630941391,
          0.8317642211914062,
          -0.8158087134361267,
          -1.2608119249343872,
          0.33447974920272827,
          0.9777300953865051,
          10.06756591796875,
          0.6037544012069702,
          1.109667420387268,
          1.5189557075500488,
          0.5561383962631226,
          -1.6433368921279907,
          8.734539985656738,
          -1.2390806674957275,
          9.949933052062988,
          -0.32932907342910767,
          -0.7725108861923218,
          1.7737033367156982,
          -1.1447038650512695,
          1.3745951652526855,
          10.745662689208984,
          9.405888557434082,
          8.880510330200195,
          -1.4921637773513794,
          -0.9292745590209961,
          8.020211219787598,
          0.9145409464836121,
          0.3688763380050659,
          7.848940849304199,
          0.8266236782073975,
          -0.7185527086257935,
          -0.8191382884979248,
          1.125801920890808,
          -0.6286584138870239,
          -0.1786220669746399,
          -0.07844565808773041,
          1.1383788585662842,
          1.096583604812622,
          -1.0575753450393677,
          -0.634320080280304,
          0.23891082406044006,
          -0.500883936882019,
          -0.18024761974811554,
          0.8351723551750183,
          -1.1332759857177734,
          8.768518447875977,
          0.7933286428451538,
          -1.087106466293335,
          0.0520915761590004,
          -0.4641403555870056,
          -1.225969672203064,
          1.1214481592178345,
          9.116865158081055,
          -0.23314903676509857,
          9.796113014221191,
          0.7813009023666382,
          7.436389446258545,
          1.9367001056671143,
          0.5756508708000183,
          0.255240261554718,
          10.040955543518066,
          -1.072307825088501,
          1.5972591638565063,
          -1.3072980642318726,
          -1.1335076093673706,
          0.6246816515922546,
          9.078545570373535,
          10.06363582611084,
          1.0657432079315186,
          0.20653298497200012,
          0.9911202192306519,
          1.0469669103622437,
          9.665131568908691,
          -1.1460788249969482,
          0.023483267053961754,
          7.989528179168701,
          1.2747130393981934,
          10.64548110961914,
          -0.3908028304576874,
          -0.267672061920166,
          0.1014985591173172,
          8.150769233703613,
          9.947425842285156,
          0.5682545304298401,
          -0.4920448660850525,
          10.628031730651855,
          -0.9386392831802368,
          9.663485527038574,
          -1.227303147315979,
          -1.7780848741531372,
          10.041701316833496,
          11.036742210388184,
          1.373165249824524,
          7.714900016784668,
          10.014280319213867,
          -0.9875706434249878,
          10.024398803710938,
          8.32591724395752,
          -0.6857194900512695,
          10.315546989440918,
          -1.6145198345184326,
          -1.050244688987732,
          7.90091609954834,
          1.0972750186920166,
          1.1014530658721924,
          10.146173477172852,
          -1.579392671585083,
          -1.2405182123184204,
          1.1750469207763672,
          10.204297065734863,
          -1.1236166954040527,
          -1.1938755512237549,
          0.8623320460319519,
          0.033708665519952774,
          -0.7845669388771057,
          9.711647987365723,
          -1.503003716468811,
          9.743040084838867,
          -1.0411581993103027,
          -0.6345515847206116,
          -0.9984111785888672,
          0.38442230224609375,
          -1.2785736322402954,
          -0.8348026871681213,
          0.1418197900056839,
          7.960012435913086,
          1.1927516460418701,
          0.3894205391407013,
          -1.824264407157898,
          -0.23934970796108246,
          8.097359657287598,
          10.595945358276367,
          -0.2058425396680832,
          10.854795455932617,
          1.5755866765975952,
          1.1775621175765991,
          1.0574344396591187,
          9.729978561401367,
          -1.3604943752288818,
          7.90028190612793,
          7.936803817749023,
          10.078835487365723,
          9.859561920166016,
          8.171027183532715,
          1.9119012355804443,
          7.481116771697998,
          -0.6722060441970825,
          0.5833514332771301,
          1.175476312637329,
          0.3810390532016754,
          0.7234408259391785,
          1.5748448371887207,
          1.2507882118225098,
          9.756308555603027,
          -1.330734133720398,
          -1.7113113403320312,
          1.0160783529281616,
          8.317534446716309,
          10.885943412780762,
          -1.9076707363128662,
          1.9958858489990234,
          9.327033042907715,
          -1.877254605293274,
          -1.110002040863037,
          -0.6016743779182434,
          -1.479507565498352,
          1.143572211265564,
          1.9276821613311768,
          1.072617530822754,
          10.206645965576172,
          8.342412948608398,
          9.649693489074707,
          10.149385452270508,
          -0.29403477907180786,
          -0.5859759449958801,
          -0.5086209177970886,
          1.2438210248947144,
          1.4052008390426636,
          1.4326817989349365,
          9.879652976989746,
          7.507997989654541,
          -1.010247826576233,
          7.732050895690918,
          9.391756057739258,
          1.6563626527786255,
          10.549352645874023,
          0.7024028897285461,
          2.126464366912842,
          1.183907389640808,
          7.731236934661865,
          0.7680946588516235,
          1.0434410572052002,
          -1.6573567390441895,
          8.435916900634766,
          -1.4228745698928833,
          8.003524780273438,
          8.115528106689453,
          -1.2440931797027588,
          -0.7012878656387329,
          0.6955053806304932,
          10.5108642578125,
          -0.9790251851081848,
          -0.9561271667480469,
          0.5285441875457764,
          7.496743202209473,
          -0.9472010731697083,
          9.263642311096191,
          0.8310942649841309,
          11.023600578308105,
          10.122175216674805,
          -1.0757191181182861,
          7.797436714172363,
          -0.46819183230400085,
          -1.9990791082382202,
          -1.3621529340744019,
          0.4524065852165222,
          8.277560234069824,
          7.804305553436279,
          1.4169577360153198,
          7.8478899002075195,
          9.055355072021484,
          9.851550102233887,
          1.1544859409332275,
          9.740540504455566,
          0.3985340893268585,
          -0.7697896361351013,
          0.890931248664856,
          -0.735692024230957,
          1.1013435125350952,
          -0.9805863499641418,
          9.564884185791016,
          0.4777330756187439,
          -1.7855017185211182,
          -1.865417718887329,
          1.3677207231521606,
          -0.9706205129623413,
          -0.7261857390403748,
          9.919986724853516,
          -0.15196430683135986,
          -1.6737534999847412,
          0.7744130492210388,
          9.138997077941895,
          0.8470557928085327,
          -0.6989425420761108,
          8.850496292114258,
          9.920947074890137,
          7.985744476318359,
          11.045331954956055,
          8.463272094726562,
          0.9369465708732605,
          8.384821891784668,
          -0.18047748506069183,
          7.724892616271973,
          1.1631826162338257,
          9.178661346435547,
          10.082447052001953,
          -0.16378767788410187,
          1.1867756843566895,
          8.269309043884277,
          0.22386200726032257,
          1.0367836952209473,
          1.0377459526062012,
          -1.076305866241455,
          -1.1849836111068726,
          1.6909699440002441,
          1.6268787384033203,
          0.3572830557823181,
          1.3799954652786255,
          0.5880314707756042,
          -0.43875589966773987,
          -0.5664135813713074,
          0.9118847846984863,
          9.593658447265625,
          9.333675384521484,
          -0.18661175668239594,
          10.667648315429688,
          0.711706817150116,
          -1.2449185848236084,
          0.11003774404525757,
          1.9598934650421143,
          -1.18927001953125,
          10.303608894348145,
          0.5691435933113098,
          0.585292637348175,
          0.18171018362045288,
          0.5306788682937622,
          7.82867956161499,
          0.4457406997680664,
          9.72209644317627,
          1.3601335287094116,
          -0.006542653311043978,
          0.3411690294742584,
          9.798786163330078,
          -1.2094082832336426,
          9.731854438781738,
          0.49784496426582336,
          8.519017219543457,
          0.4540126919746399,
          -1.5686516761779785,
          -1.2705212831497192,
          1.0109436511993408,
          8.533390045166016,
          -1.2597784996032715,
          1.1951240301132202,
          10.507173538208008,
          0.7702627182006836,
          0.15398243069648743,
          9.660490036010742,
          9.87955093383789,
          -0.3902752995491028,
          0.8893356919288635,
          1.4258804321289062,
          7.860082626342773,
          0.9226398468017578,
          8.805355072021484,
          0.5287370681762695,
          1.963146448135376,
          -1.3563964366912842,
          1.0075440406799316,
          -1.3162089586257935,
          -0.5969102382659912,
          0.42138001322746277,
          7.4706854820251465,
          -0.9758335947990417,
          1.2272772789001465,
          7.879393577575684,
          8.073091506958008,
          0.36260151863098145,
          9.609597206115723,
          -1.3202663660049438,
          0.8275589942932129,
          7.824827194213867,
          -1.2005447149276733,
          -1.33413565158844,
          -1.6548444032669067,
          -1.8574349880218506,
          8.07884407043457,
          9.698259353637695,
          7.807651519775391,
          8.802848815917969,
          10.118572235107422,
          1.3540054559707642,
          8.157550811767578,
          7.508057117462158,
          0.636233389377594,
          -1.793000340461731,
          -1.1766366958618164,
          8.84704875946045,
          1.6544649600982666,
          -1.9107334613800049,
          0.04945675656199455,
          10.116275787353516,
          -1.0012842416763306,
          0.9161210060119629,
          8.465591430664062,
          9.267831802368164,
          0.6464404463768005,
          7.993234634399414,
          9.238248825073242,
          -1.8398258686065674,
          0.08041255921125412,
          2.009489059448242,
          -0.11803299188613892,
          7.228172302246094,
          7.348056316375732,
          9.674110412597656,
          0.03047097474336624,
          -0.61186283826828,
          9.408127784729004,
          -0.3976132571697235,
          1.7010884284973145,
          8.733211517333984,
          1.1025336980819702,
          -0.04480715095996857,
          8.257963180541992,
          7.59777307510376,
          8.873379707336426,
          7.489795684814453,
          1.0782454013824463,
          10.812504768371582,
          0.4783109426498413,
          0.29751959443092346,
          1.0556087493896484,
          7.920142650604248,
          -0.2781468331813812,
          -1.7313214540481567,
          -1.8286734819412231,
          8.373127937316895,
          0.2894671559333801,
          0.7777606844902039,
          0.7986547946929932,
          8.176836013793945,
          0.7428865432739258,
          -1.8803730010986328,
          -1.0492091178894043,
          7.978790283203125,
          10.085932731628418,
          10.021432876586914,
          1.0092097520828247,
          10.744446754455566,
          0.5883165001869202,
          -0.7473689913749695,
          -1.66885244846344,
          9.819963455200195,
          -1.7009176015853882,
          0.0804636999964714,
          9.440858840942383,
          -1.8353677988052368,
          9.652310371398926,
          -0.6050869226455688,
          -1.1231491565704346,
          -1.0933243036270142,
          1.3727792501449585,
          -0.32727140188217163,
          -0.34799546003341675,
          10.87368106842041,
          0.22356568276882172,
          10.8370361328125,
          -1.5816274881362915,
          1.0370347499847412,
          0.7232330441474915,
          0.06829909235239029,
          0.7457775473594666,
          -1.6163890361785889,
          0.7612866759300232,
          1.552263855934143,
          -1.2085070610046387,
          0.6735938191413879,
          -0.509967029094696,
          -0.14412923157215118,
          1.5188733339309692,
          0.09510832279920578,
          -1.5898712873458862,
          9.819753646850586,
          -0.13653770089149475,
          7.47182035446167,
          -1.9640991687774658,
          -1.8231725692749023,
          9.160365104675293,
          -0.7718218564987183,
          8.31128215789795,
          -1.0192698240280151,
          -0.6933370232582092,
          1.1394253969192505,
          -1.4189221858978271,
          9.990460395812988,
          -0.7375717163085938,
          -1.303106665611267,
          1.0712668895721436,
          0.5356201529502869,
          1.1996794939041138,
          0.9620164036750793,
          9.747102737426758,
          -1.380216121673584,
          -1.0859029293060303,
          0.7703538537025452,
          8.317885398864746,
          -1.0460830926895142,
          10.563004493713379,
          7.924217700958252,
          -1.0757007598876953,
          1.010422706604004,
          1.533445119857788,
          9.86986255645752,
          1.3463325500488281,
          9.264263153076172,
          7.6810302734375,
          8.354156494140625,
          7.834909915924072,
          9.80984878540039,
          -1.898158073425293,
          1.2944012880325317,
          1.808311104774475,
          -0.5367215871810913,
          8.225167274475098,
          -1.7671006917953491,
          0.0839146301150322,
          9.969911575317383,
          0.7923198938369751,
          0.5445345640182495,
          10.18421745300293,
          8.023322105407715,
          10.213788032531738,
          7.764383792877197,
          10.945611000061035,
          10.765172004699707,
          7.728498935699463,
          -0.9625399708747864,
          -0.6582819223403931,
          -0.6604422330856323,
          8.419636726379395,
          1.5911616086959839,
          -0.18248341977596283,
          7.399875640869141,
          1.8502001762390137,
          -0.7857304215431213,
          -0.005242893006652594,
          0.574190080165863,
          7.449530601501465,
          1.099502444267273,
          -0.8865222334861755,
          -0.6660079956054688,
          1.1840811967849731,
          2.087491512298584,
          1.3649678230285645,
          8.177925109863281,
          -1.8887029886245728,
          8.331499099731445,
          0.9808855056762695,
          -1.6275871992111206,
          0.8125163912773132,
          -0.9717254042625427,
          1.9079599380493164,
          8.908302307128906,
          -0.2721077501773834,
          -1.798092007637024,
          7.747878551483154,
          0.30651792883872986,
          8.037636756896973,
          -0.6877664923667908,
          -0.8685320019721985,
          -0.0880235806107521,
          0.4324292838573456,
          -0.9273643493652344,
          -0.2947348356246948,
          1.6926896572113037,
          0.9641616344451904,
          9.652877807617188,
          0.13156326115131378,
          -0.9198775291442871,
          -1.2647761106491089,
          9.048376083374023,
          8.844696998596191,
          7.999733924865723,
          0.5752821564674377,
          -0.17801891267299652,
          1.3940560817718506,
          8.038629531860352,
          10.523737907409668,
          9.568530082702637,
          9.61832046508789,
          -1.261190414428711,
          9.548957824707031,
          0.003593731438741088,
          0.7046176195144653,
          -1.2111518383026123,
          1.2109676599502563,
          0.6865703463554382,
          1.0673141479492188,
          -0.05979357659816742,
          -1.55537748336792,
          9.333121299743652,
          -1.1704343557357788,
          10.32811164855957,
          8.089802742004395,
          1.1245795488357544,
          9.580424308776855,
          -1.0910789966583252,
          0.32333123683929443,
          -0.7353686094284058,
          -1.0862224102020264,
          -0.9408549070358276,
          8.264623641967773,
          10.760586738586426,
          1.0087416172027588,
          1.4682806730270386,
          8.066165924072266,
          7.969651699066162,
          1.1021569967269897,
          8.614397048950195,
          0.04861057177186012,
          -1.0681653022766113,
          2.1285510063171387,
          0.059956058859825134,
          0.7557990550994873,
          1.1181180477142334,
          0.2940859794616699,
          2.1103196144104004,
          10.902802467346191,
          -0.3453402519226074,
          -0.8890184760093689,
          9.844945907592773,
          8.814659118652344,
          10.395674705505371,
          -0.6911215782165527,
          9.598899841308594,
          1.032092571258545,
          7.915939807891846,
          9.700621604919434,
          0.9810117483139038,
          -1.828396201133728,
          7.490725994110107,
          -1.1225109100341797,
          8.585881233215332,
          -1.4255608320236206,
          -0.3467513918876648,
          1.53769052028656,
          0.6595187187194824,
          1.194929599761963,
          0.8492082357406616,
          9.22303581237793,
          8.900214195251465,
          0.11110857129096985,
          -1.1094316244125366,
          8.058242797851562,
          9.108266830444336,
          8.013619422912598,
          1.6148221492767334,
          -0.6709914207458496,
          -0.1722213476896286,
          9.700160026550293,
          -1.4117140769958496,
          0.9251581430435181,
          -1.85190749168396,
          0.8189647197723389,
          -0.8829681873321533,
          8.400260925292969,
          -0.3005238473415375,
          10.135478973388672,
          -0.8462024331092834,
          0.9761962294578552,
          10.78905963897705,
          -1.3408470153808594,
          -0.18991677463054657,
          0.19462236762046814,
          9.982354164123535,
          0.5337138175964355,
          7.473907947540283,
          8.418712615966797,
          1.1393488645553589,
          -1.8362103700637817,
          -0.30911245942115784,
          9.91713809967041,
          -0.5145747065544128,
          1.6522480249404907,
          8.005499839782715,
          7.7907538414001465,
          11.008214950561523,
          7.458678722381592,
          -1.018432378768921,
          -1.1938799619674683,
          9.687021255493164,
          8.723325729370117,
          1.0886377096176147,
          -0.3726602792739868,
          -1.9727612733840942,
          8.070253372192383,
          10.918180465698242
         ],
         "xaxis": "x",
         "y": [
          2.7135584354400635,
          8.992855072021484,
          6.611424446105957,
          10.679664611816406,
          7.148334980010986,
          10.023682594299316,
          9.32997989654541,
          10.790003776550293,
          6.650303840637207,
          3.677473783493042,
          11.971623420715332,
          7.8233418464660645,
          11.074317932128906,
          6.500051975250244,
          7.800166130065918,
          10.117513656616211,
          11.271082878112793,
          7.924993991851807,
          6.998240947723389,
          10.194012641906738,
          9.934694290161133,
          3.1164536476135254,
          7.390275478363037,
          6.604173183441162,
          9.392341613769531,
          3.4460415840148926,
          7.955794811248779,
          6.847227573394775,
          9.196642875671387,
          9.297062873840332,
          6.829570770263672,
          9.544105529785156,
          5.171518802642822,
          8.783076286315918,
          5.92806339263916,
          3.1604537963867188,
          7.553693771362305,
          6.828794479370117,
          3.312288522720337,
          10.161760330200195,
          8.16469955444336,
          9.27640438079834,
          7.234678268432617,
          9.165793418884277,
          8.595691680908203,
          10.336917877197266,
          8.635605812072754,
          6.700844764709473,
          7.92327880859375,
          8.454665184020996,
          11.58414363861084,
          7.383316993713379,
          6.1627678871154785,
          10.223898887634277,
          9.96585464477539,
          10.110953330993652,
          10.276556968688965,
          9.186531066894531,
          8.866517066955566,
          7.355308532714844,
          6.033732891082764,
          7.613739967346191,
          10.276461601257324,
          9.405397415161133,
          7.275317192077637,
          8.415513038635254,
          7.416599750518799,
          7.7411956787109375,
          7.751025676727295,
          10.17146110534668,
          9.282327651977539,
          10.680895805358887,
          3.4108855724334717,
          11.416116714477539,
          1.4656187295913696,
          2.3113436698913574,
          7.658629417419434,
          9.795088768005371,
          2.085347890853882,
          2.9075441360473633,
          2.943598747253418,
          2.630295753479004,
          7.578111171722412,
          7.6396613121032715,
          9.155695915222168,
          8.573895454406738,
          8.168647766113281,
          8.835311889648438,
          6.297114372253418,
          3.158013343811035,
          2.4796411991119385,
          11.805026054382324,
          7.091389179229736,
          9.082685470581055,
          9.924747467041016,
          10.179558753967285,
          6.7903733253479,
          8.155922889709473,
          7.813979148864746,
          7.710229396820068,
          3.3217127323150635,
          8.486736297607422,
          8.09128189086914,
          6.151796340942383,
          10.580062866210938,
          3.9379358291625977,
          7.276469707489014,
          8.808850288391113,
          1.504647135734558,
          9.542664527893066,
          2.7124040126800537,
          3.345830202102661,
          12.063432693481445,
          2.248108148574829,
          6.862801551818848,
          2.6468703746795654,
          9.891538619995117,
          9.044781684875488,
          11.066933631896973,
          8.21845817565918,
          2.65073823928833,
          6.251008987426758,
          8.610401153564453,
          7.600032806396484,
          7.551980495452881,
          8.801982879638672,
          9.710419654846191,
          10.68526554107666,
          8.93656063079834,
          8.585250854492188,
          6.056453227996826,
          6.606680393218994,
          11.453914642333984,
          9.572122573852539,
          8.728532791137695,
          2.124058246612549,
          7.2105631828308105,
          11.307991981506348,
          9.006256103515625,
          7.357179164886475,
          11.3744478225708,
          3.1504390239715576,
          6.127776622772217,
          7.3091020584106445,
          8.277937889099121,
          3.299208402633667,
          10.977593421936035,
          8.326443672180176,
          9.099137306213379,
          6.998932838439941,
          2.994328022003174,
          2.2099437713623047,
          7.234177112579346,
          6.013952732086182,
          3.129269599914551,
          7.110456943511963,
          7.345239639282227,
          8.051886558532715,
          1.8799467086791992,
          10.735271453857422,
          9.771156311035156,
          6.025406360626221,
          2.064128875732422,
          2.2672016620635986,
          10.567619323730469,
          8.504362106323242,
          11.431631088256836,
          9.001218795776367,
          7.493505001068115,
          7.469616889953613,
          7.208945274353027,
          8.131304740905762,
          9.75390338897705,
          6.806609630584717,
          7.199051856994629,
          8.719027519226074,
          9.877447128295898,
          6.516378402709961,
          9.15366268157959,
          11.029790878295898,
          7.0776567459106445,
          9.737231254577637,
          9.664057731628418,
          9.310327529907227,
          9.093204498291016,
          9.806137084960938,
          9.259133338928223,
          5.991916656494141,
          3.2984628677368164,
          2.259131669998169,
          8.362838745117188,
          7.191445827484131,
          11.847368240356445,
          6.721831798553467,
          9.595704078674316,
          9.592276573181152,
          7.126795291900635,
          8.719728469848633,
          3.246194362640381,
          7.502388954162598,
          6.250227451324463,
          7.132726192474365,
          9.906227111816406,
          7.650058269500732,
          6.678310871124268,
          9.611628532409668,
          2.8716180324554443,
          6.179685115814209,
          9.946576118469238,
          9.297306060791016,
          7.276662826538086,
          9.403362274169922,
          9.596283912658691,
          2.8740344047546387,
          6.249833583831787,
          6.701450824737549,
          9.107373237609863,
          10.056387901306152,
          10.158330917358398,
          6.829834461212158,
          6.699897766113281,
          8.383167266845703,
          7.717214584350586,
          1.5230950117111206,
          9.479254722595215,
          2.9792628288269043,
          7.224121570587158,
          3.314488410949707,
          8.747701644897461,
          9.125518798828125,
          9.455527305603027,
          7.159186363220215,
          11.111714363098145,
          11.231085777282715,
          8.476046562194824,
          8.28372859954834,
          8.392306327819824,
          2.3398959636688232,
          10.67731761932373,
          6.344572067260742,
          6.270212650299072,
          7.999427318572998,
          6.640187740325928,
          8.926728248596191,
          10.470317840576172,
          9.026299476623535,
          3.1942310333251953,
          2.0692954063415527,
          7.280646324157715,
          7.30429220199585,
          5.7744364738464355,
          7.376489162445068,
          10.753281593322754,
          5.972978591918945,
          3.873711347579956,
          6.83962869644165,
          2.5257434844970703,
          8.919270515441895,
          9.135574340820312,
          8.411274909973145,
          6.557643413543701,
          5.827840805053711,
          7.030858039855957,
          7.300348281860352,
          5.892108917236328,
          8.780489921569824,
          11.297750473022461,
          9.671069145202637,
          1.5511976480484009,
          8.3235502243042,
          8.519761085510254,
          9.869355201721191,
          2.2233855724334717,
          6.4422383308410645,
          10.55922794342041,
          6.3846259117126465,
          10.02353572845459,
          7.172194004058838,
          8.643752098083496,
          3.3149378299713135,
          7.391828536987305,
          6.545632362365723,
          3.541550874710083,
          2.4728715419769287,
          6.935351848602295,
          8.472740173339844,
          7.940939426422119,
          8.377357482910156,
          9.077825546264648,
          3.0020241737365723,
          3.1128361225128174,
          8.941123962402344,
          7.286931991577148,
          8.457157135009766,
          7.682525634765625,
          11.650596618652344,
          10.617311477661133,
          2.445037364959717,
          7.218587875366211,
          2.602025032043457,
          8.850753784179688,
          8.930954933166504,
          9.402076721191406,
          10.421085357666016,
          10.075576782226562,
          1.783239722251892,
          8.11314868927002,
          1.9932804107666016,
          8.145684242248535,
          9.146404266357422,
          9.097938537597656,
          8.203496932983398,
          9.581607818603516,
          6.394087791442871,
          7.099502086639404,
          2.6755387783050537,
          7.423039436340332,
          9.134275436401367,
          1.7106016874313354,
          9.844115257263184,
          8.649237632751465,
          2.281536340713501,
          10.829787254333496,
          8.284490585327148,
          2.6117279529571533,
          2.7225303649902344,
          10.955453872680664,
          11.241616249084473,
          7.864649772644043,
          10.309317588806152,
          9.762681007385254,
          9.973299026489258,
          6.02550745010376,
          6.761723041534424,
          8.815312385559082,
          7.680074214935303,
          8.732118606567383,
          2.130859136581421,
          9.470239639282227,
          9.860211372375488,
          2.090916156768799,
          3.4313008785247803,
          11.003300666809082,
          5.976338863372803,
          10.680510520935059,
          7.783687591552734,
          9.534710884094238,
          8.488736152648926,
          10.676665306091309,
          10.07993221282959,
          7.344794273376465,
          2.129457473754883,
          8.386521339416504,
          9.84428882598877,
          7.947512149810791,
          3.3553764820098877,
          5.990120887756348,
          8.095377922058105,
          10.075469017028809,
          3.3752329349517822,
          8.818402290344238,
          8.222970008850098,
          6.124607086181641,
          7.958998203277588,
          10.941567420959473,
          2.148329496383667,
          9.63075065612793,
          9.345697402954102,
          8.986241340637207,
          8.912714004516602,
          7.462491035461426,
          6.215535640716553,
          7.553112030029297,
          7.862276077270508,
          10.88687515258789,
          7.2820820808410645,
          1.7208361625671387,
          10.3324556350708,
          9.92686939239502,
          3.045318603515625,
          10.829544067382812,
          6.262764930725098,
          1.7520252466201782,
          3.1793835163116455,
          8.682663917541504,
          6.785285472869873,
          7.136223793029785,
          7.094855785369873,
          7.414729595184326,
          3.4206395149230957,
          7.883008003234863,
          6.772480010986328,
          2.3631513118743896,
          2.299821615219116,
          8.455080032348633,
          9.833768844604492,
          3.894958972930908,
          10.500229835510254,
          2.825671911239624,
          3.2388715744018555,
          7.993811130523682,
          7.59128999710083,
          8.391088485717773,
          9.67368221282959,
          10.605888366699219,
          9.800742149353027,
          7.130063056945801,
          6.147584915161133,
          10.88718032836914,
          8.82665729522705,
          8.604665756225586,
          2.8867928981781006,
          10.324307441711426,
          1.9142459630966187,
          8.924450874328613,
          7.183054447174072,
          8.709696769714355,
          9.026590347290039,
          11.294727325439453,
          7.923438549041748,
          3.428647518157959,
          7.517585754394531,
          8.250863075256348,
          8.808701515197754,
          7.537917613983154,
          8.936506271362305,
          9.369099617004395,
          10.268129348754883,
          3.208911180496216,
          7.629326820373535,
          2.645376443862915,
          9.749954223632812,
          7.705341815948486,
          10.408933639526367,
          9.244884490966797,
          7.3535919189453125,
          8.508134841918945,
          7.651975154876709,
          1.516318917274475,
          6.753093719482422,
          3.799896240234375,
          2.1486899852752686,
          6.691359043121338,
          7.751789093017578,
          6.398174285888672,
          9.806367874145508,
          9.374271392822266,
          6.403979778289795,
          7.236347198486328,
          10.125154495239258,
          7.647152900695801,
          7.221126556396484,
          7.471994876861572,
          1.8098558187484741,
          12.132612228393555,
          9.864224433898926,
          6.916515827178955,
          7.054265975952148,
          1.8926169872283936,
          2.5091512203216553,
          8.659111976623535,
          6.988841533660889,
          7.564610958099365,
          2.908820629119873,
          6.968928813934326,
          2.496694326400757,
          1.6044014692306519,
          9.894916534423828,
          8.589516639709473,
          7.286098003387451,
          2.699075222015381,
          7.843615531921387,
          8.149867057800293,
          2.191467046737671,
          7.333845138549805,
          9.540871620178223,
          9.539393424987793,
          9.932693481445312,
          2.5178749561309814,
          8.752700805664062,
          7.997804641723633,
          7.6595377922058105,
          10.118814468383789,
          7.7688493728637695,
          9.873222351074219,
          7.707937240600586,
          7.716095447540283,
          3.2362802028656006,
          2.1631102561950684,
          6.368721008300781,
          2.142683506011963,
          11.837080001831055,
          9.422234535217285,
          9.369447708129883,
          6.903017044067383,
          10.739892959594727,
          8.788827896118164,
          10.997000694274902,
          6.153855323791504,
          3.2738382816314697,
          9.008498191833496,
          6.8103508949279785,
          2.850107192993164,
          6.3314056396484375,
          3.137997627258301,
          6.3119120597839355,
          1.6260664463043213,
          8.466582298278809,
          3.4764065742492676,
          9.580331802368164,
          7.1891303062438965,
          8.184611320495605,
          8.068086624145508,
          9.789898872375488,
          2.3064980506896973,
          6.56302547454834,
          5.8668012619018555,
          1.765027642250061,
          7.191498279571533,
          8.202052116394043,
          3.4575510025024414,
          8.223613739013672,
          9.179441452026367,
          7.892520904541016,
          10.233360290527344,
          9.908852577209473,
          3.275930643081665,
          9.087037086486816,
          7.25054407119751,
          2.783202648162842,
          8.15700912475586,
          9.702047348022461,
          11.021739959716797,
          7.413879871368408,
          11.751180648803711,
          9.208234786987305,
          9.366617202758789,
          7.58011531829834,
          5.059760093688965,
          8.459216117858887,
          7.776490688323975,
          10.385041236877441,
          8.53623104095459,
          9.09847640991211,
          8.68016242980957,
          11.517701148986816,
          3.614009380340576,
          10.633899688720703,
          10.588082313537598,
          3.5673084259033203,
          6.197320461273193,
          2.2457220554351807,
          7.364108562469482,
          1.7985749244689941,
          6.3627519607543945,
          8.343599319458008,
          11.017786026000977,
          1.635560154914856,
          11.164700508117676,
          6.955573081970215,
          7.740273475646973,
          10.204392433166504,
          6.376487731933594,
          11.570479393005371,
          8.083620071411133,
          2.6998276710510254,
          8.212058067321777,
          6.766443252563477,
          10.945141792297363,
          11.77824878692627,
          2.8571226596832275,
          11.937664031982422,
          10.539092063903809,
          9.972465515136719,
          9.148725509643555,
          9.145729064941406,
          8.96689510345459,
          8.986881256103516,
          2.411740303039551,
          2.632099151611328,
          3.3636741638183594,
          2.329664707183838,
          7.628357410430908,
          9.10469913482666,
          8.101110458374023,
          2.88413405418396,
          2.6410770416259766,
          7.271784782409668,
          9.635756492614746,
          9.761564254760742,
          7.753026008605957,
          7.504720687866211,
          6.631836891174316,
          10.585370063781738,
          6.607405185699463,
          6.112858295440674,
          10.646745681762695,
          9.580394744873047,
          9.996994018554688,
          7.788354396820068,
          11.242259979248047,
          6.276122570037842,
          9.517205238342285,
          9.52074146270752,
          10.360407829284668,
          9.047246932983398,
          11.16622543334961,
          10.03046703338623,
          8.238515853881836,
          8.6550874710083,
          9.151321411132812,
          3.1588709354400635,
          3.5040152072906494,
          2.1892130374908447,
          3.3586647510528564,
          6.569159030914307,
          6.836967945098877,
          6.289318084716797,
          7.523771286010742,
          2.6733977794647217,
          6.102566242218018,
          6.184257507324219,
          5.846076011657715,
          7.0281877517700195,
          7.818930625915527,
          10.836627960205078,
          9.851378440856934,
          6.983212947845459,
          6.164361476898193,
          2.9129679203033447,
          5.332643985748291,
          8.650391578674316,
          1.6089011430740356,
          7.857757568359375,
          3.215425729751587,
          4.910604476928711,
          3.3397252559661865,
          6.185235977172852,
          12.060905456542969,
          6.2850236892700195,
          6.649965763092041,
          9.392380714416504,
          9.587526321411133,
          3.0535621643066406,
          9.896899223327637,
          2.0580732822418213,
          7.014192581176758,
          2.0943379402160645,
          9.287810325622559,
          2.260552167892456,
          7.224465370178223,
          8.123952865600586,
          6.344253063201904,
          11.391210556030273,
          8.722904205322266,
          9.225828170776367,
          7.6752848625183105,
          2.2898099422454834,
          6.675581932067871,
          9.589140892028809,
          9.286742210388184,
          6.27386474609375,
          6.737255096435547,
          2.6259424686431885,
          10.47891616821289,
          8.737458229064941,
          11.18372917175293,
          9.566093444824219,
          8.762978553771973,
          8.454349517822266,
          7.275015354156494,
          3.4989101886749268,
          5.868237495422363,
          6.400678634643555,
          10.525936126708984,
          6.593356609344482,
          9.373805046081543,
          11.920958518981934,
          10.598230361938477,
          9.452018737792969,
          7.52919340133667,
          7.368113994598389,
          2.0813190937042236,
          9.79173755645752,
          6.330951690673828,
          8.643742561340332,
          3.3228235244750977,
          8.30740737915039,
          11.920470237731934,
          9.08052921295166,
          9.74271011352539,
          9.341058731079102,
          10.223873138427734,
          7.410025596618652,
          11.904706954956055,
          10.982955932617188,
          3.018906593322754,
          2.9605965614318848,
          1.8985998630523682,
          9.018455505371094,
          6.369906425476074,
          2.9944169521331787,
          6.492941856384277,
          9.229593276977539,
          3.3587701320648193,
          10.059977531433105,
          11.674773216247559,
          9.802506446838379,
          5.770441055297852,
          9.115017890930176,
          8.648022651672363,
          7.912408828735352,
          7.575933933258057,
          7.6209516525268555,
          7.133586883544922,
          10.573501586914062,
          10.015701293945312,
          10.236335754394531,
          7.290998458862305,
          7.233563423156738,
          6.889638423919678,
          9.875531196594238,
          7.61996603012085,
          7.659715175628662,
          7.381507396697998,
          5.170966625213623,
          9.862957954406738,
          11.067841529846191,
          10.884659767150879,
          10.006806373596191,
          7.379695415496826,
          7.626102447509766,
          6.254439353942871,
          6.871495246887207,
          6.782732963562012,
          11.948119163513184,
          2.754150629043579,
          2.403101682662964,
          2.3643953800201416,
          9.1394624710083,
          7.127831935882568,
          2.389936685562134,
          2.361447811126709,
          9.19765853881836,
          2.9692318439483643,
          2.4087107181549072,
          2.649418354034424,
          12.030714988708496,
          6.862973213195801,
          9.404337882995605,
          8.97934341430664,
          7.446565628051758,
          9.978652954101562,
          9.62517261505127,
          7.476051330566406,
          6.645574569702148,
          3.0163700580596924,
          5.871785640716553,
          9.833637237548828,
          8.563009262084961,
          9.251452445983887,
          5.817088603973389,
          7.2180986404418945,
          8.756256103515625,
          2.7365355491638184,
          9.47100830078125,
          9.82169246673584,
          7.306219100952148,
          9.258718490600586,
          7.190398216247559,
          3.0635650157928467,
          2.5127615928649902,
          6.678033351898193,
          9.477049827575684,
          2.584796905517578,
          7.881972312927246,
          6.188037872314453,
          6.459928035736084,
          1.5980461835861206,
          2.4132208824157715,
          2.40619158744812,
          9.795869827270508,
          8.1179780960083,
          3.042588949203491,
          2.122643232345581,
          9.286913871765137,
          5.9873151779174805,
          10.569713592529297,
          2.639465093612671,
          3.0859241485595703,
          10.74785327911377,
          2.848565101623535,
          9.143128395080566,
          1.7129565477371216,
          9.674629211425781,
          9.600852966308594,
          7.428683757781982,
          7.215310573577881,
          2.352642774581909,
          8.156386375427246,
          6.31624698638916,
          6.308323383331299,
          7.198614597320557,
          9.11773681640625,
          6.371985912322998,
          8.630433082580566,
          6.474409103393555,
          8.30809497833252,
          11.58408260345459,
          7.424022674560547,
          7.611422061920166,
          9.443451881408691,
          1.6258467435836792,
          3.3513035774230957,
          8.076887130737305,
          7.512521743774414,
          8.1552734375,
          10.624168395996094,
          9.75213623046875,
          10.86233901977539,
          11.627673149108887,
          6.466385364532471,
          2.310887575149536,
          8.40904426574707,
          7.688759803771973,
          8.588658332824707,
          11.597376823425293,
          2.833188772201538,
          2.2942023277282715,
          9.73444652557373,
          8.24785327911377,
          3.0218327045440674,
          10.090213775634766,
          9.303385734558105,
          7.031643867492676,
          10.255973815917969,
          7.624868392944336,
          7.159170627593994,
          11.614872932434082,
          6.333006381988525,
          2.442711591720581,
          6.1491193771362305,
          10.899240493774414,
          8.64599895477295,
          9.209880828857422,
          11.121593475341797,
          8.236098289489746,
          2.4548087120056152,
          3.004244565963745,
          7.55226469039917,
          10.949593544006348,
          3.516258955001831,
          6.1277852058410645,
          2.478285789489746,
          7.328874111175537,
          8.344293594360352,
          6.964445114135742,
          11.64116382598877,
          2.887277841567993,
          9.113236427307129,
          3.359854221343994,
          3.0897278785705566,
          6.923182010650635,
          2.696568727493286,
          8.077282905578613,
          11.3007173538208,
          9.226186752319336,
          3.05659556388855,
          10.4014310836792,
          3.1626579761505127,
          11.20267105102539,
          6.285851955413818,
          8.266444206237793,
          2.997504711151123,
          9.91745662689209,
          7.231898784637451,
          6.444893836975098,
          6.661749839782715,
          2.5045056343078613,
          6.68222713470459,
          3.070435047149658,
          2.199122667312622,
          3.479595899581909,
          10.7388334274292,
          10.500301361083984,
          12.082356452941895,
          2.468398332595825,
          7.316343307495117,
          2.526139497756958,
          9.195164680480957,
          7.537474632263184,
          9.212800979614258,
          7.676942348480225,
          3.5012168884277344,
          9.293350219726562,
          2.494147777557373,
          2.1378371715545654,
          8.833093643188477,
          7.236012935638428,
          8.023663520812988,
          8.297351837158203,
          5.937429428100586,
          7.349606037139893,
          10.71787166595459,
          2.4969229698181152,
          7.559881210327148,
          10.626935958862305,
          9.561561584472656,
          7.724524974822998,
          1.4755157232284546,
          8.244772911071777,
          7.329375743865967,
          6.978000640869141,
          1.48383629322052,
          9.21711254119873,
          7.040159225463867,
          2.9298300743103027,
          8.520041465759277,
          11.596267700195312,
          12.044795989990234,
          3.453730583190918,
          11.178730964660645,
          8.071667671203613,
          3.1653451919555664,
          8.384839057922363,
          3.0003175735473633,
          9.806314468383789,
          2.626967430114746,
          7.377197265625,
          8.462590217590332,
          7.198730945587158,
          6.407333850860596,
          8.087451934814453,
          9.37452220916748,
          10.513306617736816,
          7.7132248878479,
          6.904571533203125,
          6.772199630737305,
          9.093344688415527,
          11.704986572265625,
          7.322977542877197,
          6.034151077270508,
          2.182203769683838,
          11.094588279724121,
          1.9033195972442627,
          9.201781272888184,
          2.2462339401245117,
          2.3141672611236572,
          8.495305061340332,
          9.822598457336426,
          2.5172884464263916,
          6.115798473358154,
          10.621501922607422,
          11.054285049438477,
          6.916889190673828,
          8.737496376037598,
          12.006040573120117,
          9.62519359588623,
          9.29192066192627,
          6.347824573516846,
          9.493247985839844,
          7.360950469970703,
          6.5625128746032715,
          1.856632113456726,
          2.3818790912628174,
          8.326857566833496,
          8.433157920837402,
          1.8336914777755737,
          9.210027694702148,
          6.068610191345215,
          10.01082706451416,
          2.5612196922302246,
          2.1305012702941895,
          7.035396099090576,
          3.217860698699951,
          8.983600616455078,
          8.728838920593262,
          10.007631301879883,
          6.1725664138793945,
          10.525543212890625,
          9.11957836151123,
          3.3949925899505615,
          2.5325589179992676,
          9.554570198059082,
          9.990551948547363,
          7.444915294647217,
          6.4275946617126465,
          10.540491104125977,
          11.745841979980469,
          7.642643451690674,
          10.654952049255371,
          1.667557716369629,
          2.1257503032684326,
          6.72077751159668,
          9.553305625915527,
          2.4566965103149414,
          8.29554271697998,
          2.7016611099243164,
          10.409440994262695,
          7.650452136993408
         ],
         "yaxis": "y"
        }
       ],
       "layout": {
        "coloraxis": {
         "colorbar": {
          "title": {
           "text": "Anomaly"
          }
         },
         "colorscale": [
          [
           0,
           "#0d0887"
          ],
          [
           0.1111111111111111,
           "#46039f"
          ],
          [
           0.2222222222222222,
           "#7201a8"
          ],
          [
           0.3333333333333333,
           "#9c179e"
          ],
          [
           0.4444444444444444,
           "#bd3786"
          ],
          [
           0.5555555555555556,
           "#d8576b"
          ],
          [
           0.6666666666666666,
           "#ed7953"
          ],
          [
           0.7777777777777778,
           "#fb9f3a"
          ],
          [
           0.8888888888888888,
           "#fdca26"
          ],
          [
           1,
           "#f0f921"
          ]
         ]
        },
        "height": 800,
        "legend": {
         "tracegroupgap": 0
        },
        "template": {
         "data": {
          "bar": [
           {
            "error_x": {
             "color": "#2a3f5f"
            },
            "error_y": {
             "color": "#2a3f5f"
            },
            "marker": {
             "line": {
              "color": "#E5ECF6",
              "width": 0.5
             }
            },
            "type": "bar"
           }
          ],
          "barpolar": [
           {
            "marker": {
             "line": {
              "color": "#E5ECF6",
              "width": 0.5
             }
            },
            "type": "barpolar"
           }
          ],
          "carpet": [
           {
            "aaxis": {
             "endlinecolor": "#2a3f5f",
             "gridcolor": "white",
             "linecolor": "white",
             "minorgridcolor": "white",
             "startlinecolor": "#2a3f5f"
            },
            "baxis": {
             "endlinecolor": "#2a3f5f",
             "gridcolor": "white",
             "linecolor": "white",
             "minorgridcolor": "white",
             "startlinecolor": "#2a3f5f"
            },
            "type": "carpet"
           }
          ],
          "choropleth": [
           {
            "colorbar": {
             "outlinewidth": 0,
             "ticks": ""
            },
            "type": "choropleth"
           }
          ],
          "contour": [
           {
            "colorbar": {
             "outlinewidth": 0,
             "ticks": ""
            },
            "colorscale": [
             [
              0,
              "#0d0887"
             ],
             [
              0.1111111111111111,
              "#46039f"
             ],
             [
              0.2222222222222222,
              "#7201a8"
             ],
             [
              0.3333333333333333,
              "#9c179e"
             ],
             [
              0.4444444444444444,
              "#bd3786"
             ],
             [
              0.5555555555555556,
              "#d8576b"
             ],
             [
              0.6666666666666666,
              "#ed7953"
             ],
             [
              0.7777777777777778,
              "#fb9f3a"
             ],
             [
              0.8888888888888888,
              "#fdca26"
             ],
             [
              1,
              "#f0f921"
             ]
            ],
            "type": "contour"
           }
          ],
          "contourcarpet": [
           {
            "colorbar": {
             "outlinewidth": 0,
             "ticks": ""
            },
            "type": "contourcarpet"
           }
          ],
          "heatmap": [
           {
            "colorbar": {
             "outlinewidth": 0,
             "ticks": ""
            },
            "colorscale": [
             [
              0,
              "#0d0887"
             ],
             [
              0.1111111111111111,
              "#46039f"
             ],
             [
              0.2222222222222222,
              "#7201a8"
             ],
             [
              0.3333333333333333,
              "#9c179e"
             ],
             [
              0.4444444444444444,
              "#bd3786"
             ],
             [
              0.5555555555555556,
              "#d8576b"
             ],
             [
              0.6666666666666666,
              "#ed7953"
             ],
             [
              0.7777777777777778,
              "#fb9f3a"
             ],
             [
              0.8888888888888888,
              "#fdca26"
             ],
             [
              1,
              "#f0f921"
             ]
            ],
            "type": "heatmap"
           }
          ],
          "heatmapgl": [
           {
            "colorbar": {
             "outlinewidth": 0,
             "ticks": ""
            },
            "colorscale": [
             [
              0,
              "#0d0887"
             ],
             [
              0.1111111111111111,
              "#46039f"
             ],
             [
              0.2222222222222222,
              "#7201a8"
             ],
             [
              0.3333333333333333,
              "#9c179e"
             ],
             [
              0.4444444444444444,
              "#bd3786"
             ],
             [
              0.5555555555555556,
              "#d8576b"
             ],
             [
              0.6666666666666666,
              "#ed7953"
             ],
             [
              0.7777777777777778,
              "#fb9f3a"
             ],
             [
              0.8888888888888888,
              "#fdca26"
             ],
             [
              1,
              "#f0f921"
             ]
            ],
            "type": "heatmapgl"
           }
          ],
          "histogram": [
           {
            "marker": {
             "colorbar": {
              "outlinewidth": 0,
              "ticks": ""
             }
            },
            "type": "histogram"
           }
          ],
          "histogram2d": [
           {
            "colorbar": {
             "outlinewidth": 0,
             "ticks": ""
            },
            "colorscale": [
             [
              0,
              "#0d0887"
             ],
             [
              0.1111111111111111,
              "#46039f"
             ],
             [
              0.2222222222222222,
              "#7201a8"
             ],
             [
              0.3333333333333333,
              "#9c179e"
             ],
             [
              0.4444444444444444,
              "#bd3786"
             ],
             [
              0.5555555555555556,
              "#d8576b"
             ],
             [
              0.6666666666666666,
              "#ed7953"
             ],
             [
              0.7777777777777778,
              "#fb9f3a"
             ],
             [
              0.8888888888888888,
              "#fdca26"
             ],
             [
              1,
              "#f0f921"
             ]
            ],
            "type": "histogram2d"
           }
          ],
          "histogram2dcontour": [
           {
            "colorbar": {
             "outlinewidth": 0,
             "ticks": ""
            },
            "colorscale": [
             [
              0,
              "#0d0887"
             ],
             [
              0.1111111111111111,
              "#46039f"
             ],
             [
              0.2222222222222222,
              "#7201a8"
             ],
             [
              0.3333333333333333,
              "#9c179e"
             ],
             [
              0.4444444444444444,
              "#bd3786"
             ],
             [
              0.5555555555555556,
              "#d8576b"
             ],
             [
              0.6666666666666666,
              "#ed7953"
             ],
             [
              0.7777777777777778,
              "#fb9f3a"
             ],
             [
              0.8888888888888888,
              "#fdca26"
             ],
             [
              1,
              "#f0f921"
             ]
            ],
            "type": "histogram2dcontour"
           }
          ],
          "mesh3d": [
           {
            "colorbar": {
             "outlinewidth": 0,
             "ticks": ""
            },
            "type": "mesh3d"
           }
          ],
          "parcoords": [
           {
            "line": {
             "colorbar": {
              "outlinewidth": 0,
              "ticks": ""
             }
            },
            "type": "parcoords"
           }
          ],
          "pie": [
           {
            "automargin": true,
            "type": "pie"
           }
          ],
          "scatter": [
           {
            "marker": {
             "colorbar": {
              "outlinewidth": 0,
              "ticks": ""
             }
            },
            "type": "scatter"
           }
          ],
          "scatter3d": [
           {
            "line": {
             "colorbar": {
              "outlinewidth": 0,
              "ticks": ""
             }
            },
            "marker": {
             "colorbar": {
              "outlinewidth": 0,
              "ticks": ""
             }
            },
            "type": "scatter3d"
           }
          ],
          "scattercarpet": [
           {
            "marker": {
             "colorbar": {
              "outlinewidth": 0,
              "ticks": ""
             }
            },
            "type": "scattercarpet"
           }
          ],
          "scattergeo": [
           {
            "marker": {
             "colorbar": {
              "outlinewidth": 0,
              "ticks": ""
             }
            },
            "type": "scattergeo"
           }
          ],
          "scattergl": [
           {
            "marker": {
             "colorbar": {
              "outlinewidth": 0,
              "ticks": ""
             }
            },
            "type": "scattergl"
           }
          ],
          "scattermapbox": [
           {
            "marker": {
             "colorbar": {
              "outlinewidth": 0,
              "ticks": ""
             }
            },
            "type": "scattermapbox"
           }
          ],
          "scatterpolar": [
           {
            "marker": {
             "colorbar": {
              "outlinewidth": 0,
              "ticks": ""
             }
            },
            "type": "scatterpolar"
           }
          ],
          "scatterpolargl": [
           {
            "marker": {
             "colorbar": {
              "outlinewidth": 0,
              "ticks": ""
             }
            },
            "type": "scatterpolargl"
           }
          ],
          "scatterternary": [
           {
            "marker": {
             "colorbar": {
              "outlinewidth": 0,
              "ticks": ""
             }
            },
            "type": "scatterternary"
           }
          ],
          "surface": [
           {
            "colorbar": {
             "outlinewidth": 0,
             "ticks": ""
            },
            "colorscale": [
             [
              0,
              "#0d0887"
             ],
             [
              0.1111111111111111,
              "#46039f"
             ],
             [
              0.2222222222222222,
              "#7201a8"
             ],
             [
              0.3333333333333333,
              "#9c179e"
             ],
             [
              0.4444444444444444,
              "#bd3786"
             ],
             [
              0.5555555555555556,
              "#d8576b"
             ],
             [
              0.6666666666666666,
              "#ed7953"
             ],
             [
              0.7777777777777778,
              "#fb9f3a"
             ],
             [
              0.8888888888888888,
              "#fdca26"
             ],
             [
              1,
              "#f0f921"
             ]
            ],
            "type": "surface"
           }
          ],
          "table": [
           {
            "cells": {
             "fill": {
              "color": "#EBF0F8"
             },
             "line": {
              "color": "white"
             }
            },
            "header": {
             "fill": {
              "color": "#C8D4E3"
             },
             "line": {
              "color": "white"
             }
            },
            "type": "table"
           }
          ]
         },
         "layout": {
          "annotationdefaults": {
           "arrowcolor": "#2a3f5f",
           "arrowhead": 0,
           "arrowwidth": 1
          },
          "autotypenumbers": "strict",
          "coloraxis": {
           "colorbar": {
            "outlinewidth": 0,
            "ticks": ""
           }
          },
          "colorscale": {
           "diverging": [
            [
             0,
             "#8e0152"
            ],
            [
             0.1,
             "#c51b7d"
            ],
            [
             0.2,
             "#de77ae"
            ],
            [
             0.3,
             "#f1b6da"
            ],
            [
             0.4,
             "#fde0ef"
            ],
            [
             0.5,
             "#f7f7f7"
            ],
            [
             0.6,
             "#e6f5d0"
            ],
            [
             0.7,
             "#b8e186"
            ],
            [
             0.8,
             "#7fbc41"
            ],
            [
             0.9,
             "#4d9221"
            ],
            [
             1,
             "#276419"
            ]
           ],
           "sequential": [
            [
             0,
             "#0d0887"
            ],
            [
             0.1111111111111111,
             "#46039f"
            ],
            [
             0.2222222222222222,
             "#7201a8"
            ],
            [
             0.3333333333333333,
             "#9c179e"
            ],
            [
             0.4444444444444444,
             "#bd3786"
            ],
            [
             0.5555555555555556,
             "#d8576b"
            ],
            [
             0.6666666666666666,
             "#ed7953"
            ],
            [
             0.7777777777777778,
             "#fb9f3a"
            ],
            [
             0.8888888888888888,
             "#fdca26"
            ],
            [
             1,
             "#f0f921"
            ]
           ],
           "sequentialminus": [
            [
             0,
             "#0d0887"
            ],
            [
             0.1111111111111111,
             "#46039f"
            ],
            [
             0.2222222222222222,
             "#7201a8"
            ],
            [
             0.3333333333333333,
             "#9c179e"
            ],
            [
             0.4444444444444444,
             "#bd3786"
            ],
            [
             0.5555555555555556,
             "#d8576b"
            ],
            [
             0.6666666666666666,
             "#ed7953"
            ],
            [
             0.7777777777777778,
             "#fb9f3a"
            ],
            [
             0.8888888888888888,
             "#fdca26"
            ],
            [
             1,
             "#f0f921"
            ]
           ]
          },
          "colorway": [
           "#636efa",
           "#EF553B",
           "#00cc96",
           "#ab63fa",
           "#FFA15A",
           "#19d3f3",
           "#FF6692",
           "#B6E880",
           "#FF97FF",
           "#FECB52"
          ],
          "font": {
           "color": "#2a3f5f"
          },
          "geo": {
           "bgcolor": "white",
           "lakecolor": "white",
           "landcolor": "#E5ECF6",
           "showlakes": true,
           "showland": true,
           "subunitcolor": "white"
          },
          "hoverlabel": {
           "align": "left"
          },
          "hovermode": "closest",
          "mapbox": {
           "style": "light"
          },
          "paper_bgcolor": "white",
          "plot_bgcolor": "#E5ECF6",
          "polar": {
           "angularaxis": {
            "gridcolor": "white",
            "linecolor": "white",
            "ticks": ""
           },
           "bgcolor": "#E5ECF6",
           "radialaxis": {
            "gridcolor": "white",
            "linecolor": "white",
            "ticks": ""
           }
          },
          "scene": {
           "xaxis": {
            "backgroundcolor": "#E5ECF6",
            "gridcolor": "white",
            "gridwidth": 2,
            "linecolor": "white",
            "showbackground": true,
            "ticks": "",
            "zerolinecolor": "white"
           },
           "yaxis": {
            "backgroundcolor": "#E5ECF6",
            "gridcolor": "white",
            "gridwidth": 2,
            "linecolor": "white",
            "showbackground": true,
            "ticks": "",
            "zerolinecolor": "white"
           },
           "zaxis": {
            "backgroundcolor": "#E5ECF6",
            "gridcolor": "white",
            "gridwidth": 2,
            "linecolor": "white",
            "showbackground": true,
            "ticks": "",
            "zerolinecolor": "white"
           }
          },
          "shapedefaults": {
           "line": {
            "color": "#2a3f5f"
           }
          },
          "ternary": {
           "aaxis": {
            "gridcolor": "white",
            "linecolor": "white",
            "ticks": ""
           },
           "baxis": {
            "gridcolor": "white",
            "linecolor": "white",
            "ticks": ""
           },
           "bgcolor": "#E5ECF6",
           "caxis": {
            "gridcolor": "white",
            "linecolor": "white",
            "ticks": ""
           }
          },
          "title": {
           "x": 0.05
          },
          "xaxis": {
           "automargin": true,
           "gridcolor": "white",
           "linecolor": "white",
           "ticks": "",
           "title": {
            "standoff": 15
           },
           "zerolinecolor": "white",
           "zerolinewidth": 2
          },
          "yaxis": {
           "automargin": true,
           "gridcolor": "white",
           "linecolor": "white",
           "ticks": "",
           "title": {
            "standoff": 15
           },
           "zerolinecolor": "white",
           "zerolinewidth": 2
          }
         }
        },
        "title": {
         "text": "uMAP Plot for Outliers"
        },
        "width": 900,
        "xaxis": {
         "anchor": "y",
         "domain": [
          0,
          1
         ],
         "title": {
          "text": "0"
         }
        },
        "yaxis": {
         "anchor": "x",
         "domain": [
          0,
          1
         ],
         "title": {
          "text": "1"
         }
        }
       }
      },
      "text/html": [
       "<div>                            <div id=\"f7925bdc-b9d3-4fb5-97c8-f4fc276170a9\" class=\"plotly-graph-div\" style=\"height:800px; width:900px;\"></div>            <script type=\"text/javascript\">                require([\"plotly\"], function(Plotly) {                    window.PLOTLYENV=window.PLOTLYENV || {};                                    if (document.getElementById(\"f7925bdc-b9d3-4fb5-97c8-f4fc276170a9\")) {                    Plotly.newPlot(                        \"f7925bdc-b9d3-4fb5-97c8-f4fc276170a9\",                        [{\"customdata\": [[0.263995357], [0.546092303], [0.336714104], [0.092107835], [0.325261175], [0.212464853], [0.258565714], [0.869236755], [0.197077957], [0.292984504], [0.82178316], [0.796622959], [0.045577011], [0.613660351], [0.950744566], [0.336346337], [0.034440667], [0.741544275], [0.18443265], [0.664514943], [0.162824858], [0.729838445], [0.62837389], [0.057883661], [0.445534827], [0.80183695], [0.27709612], [0.228634015], [0.834860657], [0.669766511], [0.532527349], [0.170459071], [0.510288468], [0.977561989], [0.249775993], [0.975500682], [0.613701727], [0.167420363], [0.537472516], [0.379899131], [0.633897303], [0.633960424], [0.549974653], [0.178172988], [0.85563814], [0.321796672], [0.817490537], [0.254879417], [0.344140513], [0.806145726], [0.277081671], [0.544328519], [0.07708393], [0.273081458], [0.390877336], [0.349621385], [0.214549744], [0.206075222], [0.86461997], [0.981708854], [0.334829646], [0.648387061], [0.093643561], [0.837802698], [0.760343967], [0.291404174], [0.3413454], [0.761112484], [0.541899775], [0.684176639], [0.983535597], [0.52081245], [0.328227724], [0.097157938], [0.876088593], [0.870214512], [0.656086992], [0.306791514], [0.48126734], [0.259559174], [0.326123655], [0.930568042], [0.6583894], [0.689992335], [0.315781109], [0.566905093], [0.637526619], [0.687540723], [0.324300602], [0.592704906], [0.740253126], [0.594032877], [0.596452977], [0.277680817], [0.258329663], [0.142460864], [0.435533461], [0.702499044], [0.58897535], [0.653304374], [0.336968524], [0.631244736], [0.73530076], [0.050390366], [0.064264924], [0.665359476], [0.917835245], [0.44651012], [0.661938199], [0.439359853], [0.687572404], [0.363462248], [0.654262182], [0.578553536], [0.065927945], [0.550148559], [0.139182814], [0.080004635], [0.278228358], [0.560124266], [0.53639864], [0.426531904], [0.789109796], [0.742900474], [0.901692589], [0.650337401], [0.114057311], [0.260812592], [0.43991232], [0.964409284], [0.184401415], [0.345145446], [0.175894581], [0.312514453], [0.674131879], [0.32825045], [0.598231057], [0.092598817], [0.497916521], [0.419776521], [0.3121767], [0.937857107], [0.049030963], [0.476104526], [0.447397526], [0.295806058], [0.737363977], [0.625896253], [0.408813429], [0.437511156], [0.691351375], [0.935555275], [0.437846654], [0.072217715], [0.67636067], [0.468883999], [0.543820644], [0.655522647], [0.693528924], [0.108878312], [0.285463743], [0.0], [0.706495497], [0.273530633], [0.292320271], [0.673984307], [0.126121828], [0.946707459], [0.936338898], [0.853755364], [0.706071361], [0.693682186], [0.508527882], [0.347170389], [0.704154263], [0.658730088], [0.155841557], [0.311085435], [0.281135347], [0.094587802], [0.683260954], [0.907729251], [0.291512674], [0.752734459], [0.93482964], [0.071413953], [0.594896327], [0.404672015], [0.13837621], [0.747338468], [0.530882486], [0.282649594], [0.699335734], [0.056111251], [0.855234998], [0.077895127], [0.891649583], [0.386742279], [0.27113158], [0.958888961], [0.085120869], [0.526902249], [0.066577785], [0.841506738], [0.255342095], [0.060545771], [0.073385869], [0.187493723], [0.858365688], [0.090640352], [0.709725227], [0.631300647], [0.247504474], [0.822843584], [0.373476759], [0.625538582], [0.292951715], [0.299730324], [0.25121407], [0.344480551], [0.293064767], [0.762803224], [0.738470804], [0.674883265], [0.719151612], [0.130980216], [0.511328036], [0.04492903], [0.560914449], [0.744040641], [0.266961634], [0.644231853], [0.038113352], [0.057155299], [0.341392461], [0.720463632], [0.402878236], [0.635148967], [0.320729467], [0.091209694], [0.23414609], [0.890221131], [0.602170884], [0.633652055], [0.806240837], [0.739731184], [0.465231269], [0.7321109], [0.373874305], [0.501587947], [0.115383158], [0.731946604], [0.418298728], [0.062259591], [0.391496379], [0.35984929], [0.245235627], [0.610028339], [0.435403602], [0.434309675], [0.523763344], [0.171187866], [0.187734303], [0.945014638], [0.027851097], [0.68445706], [0.178014532], [0.643427879], [0.59588355], [0.372361682], [0.586103584], [0.271658852], [0.59951107], [0.468363088], [0.314515565], [0.21893726], [0.254716562], [0.25612815], [0.602259755], [0.134381075], [0.513887424], [0.624241636], [0.160251854], [0.580708108], [0.270540486], [0.832919932], [0.93032134], [0.719157884], [0.886720033], [0.098792281], [0.787174286], [0.365592376], [0.719576193], [0.8058956], [0.755578334], [0.526005909], [0.68880424], [0.221115312], [0.739369477], [0.408440236], [0.348926542], [0.433713763], [0.596496607], [0.6942953], [0.709030966], [0.867652984], [0.89332545], [0.746020922], [0.538284443], [0.892219314], [0.935175765], [0.260527707], [0.956780449], [0.204932484], [0.687733351], [0.329063619], [0.632149831], [0.463744506], [0.698859621], [0.385446564], [0.479975377], [0.732279108], [0.3813543], [0.459326013], [0.257401434], [0.665014804], [0.103399542], [0.425284413], [0.943529051], [0.594750236], [0.543776817], [0.18203988], [0.235842084], [0.585984497], [0.762013168], [0.684982907], [0.676936933], [0.290184964], [0.481068222], [0.492766033], [0.221856234], [0.053875998], [0.082751144], [0.385366225], [0.702513961], [0.91553156], [0.082087436], [0.251280378], [0.416721817], [0.277032672], [0.579539754], [0.569363476], [0.133399703], [0.265045463], [0.936571901], [0.252618554], [0.054033081], [0.802481439], [0.528197693], [0.9515026], [0.572121173], [0.752938227], [0.143857535], [0.513484576], [0.313322389], [0.687797396], [0.37705984], [0.348226142], [0.67763282], [0.241387521], [0.850650179], [0.220348103], [0.476445464], [0.690324025], [0.364695946], [0.649249197], [0.943701921], [0.529645971], [0.299097002], [0.96696247], [0.272005242], [0.314161447], [0.752020991], [0.221882453], [0.720332673], [0.379204782], [0.60168653], [0.582932673], [0.950809853], [0.58830141], [0.880887227], [0.467857701], [0.879902171], [0.619844009], [0.359002573], [0.291511278], [0.694157143], [0.727960353], [0.617703921], [0.39581257], [0.58317282], [0.710332374], [0.253753693], [0.049412228], [0.728378695], [0.432432881], [0.58612345], [0.052342373], [0.053483902], [0.518729378], [0.933040208], [0.703554284], [0.268989899], [0.733006927], [0.444352467], [0.583394621], [0.871172692], [0.428767078], [0.300460841], [0.953329459], [0.606443965], [0.90986815], [0.714896449], [0.497349509], [0.853097486], [0.721804145], [0.303467328], [0.664485096], [0.27978062], [0.569481665], [0.628628926], [0.088368123], [0.733567326], [0.537436778], [0.638593691], [0.954726948], [0.632202332], [0.642134651], [0.744653087], [0.115714007], [0.486250073], [0.440356144], [0.08272289], [0.511591027], [0.394627555], [0.224394], [0.626927584], [0.290254057], [0.779008053], [0.86610579], [0.873326081], [0.49548916], [0.594297695], [0.918201584], [0.577042754], [0.019467671], [0.670298282], [0.546595316], [0.591665146], [0.42155819], [0.685608559], [0.340303024], [0.675626741], [0.319067345], [0.388499664], [0.706949589], [0.559409515], [0.687663508], [0.708804554], [0.681888094], [0.422535109], [0.320004605], [0.658281368], [0.634154867], [0.777332009], [0.812677205], [0.074280797], [0.39600217], [0.054933913], [0.825058925], [0.382642009], [0.868729818], [0.588043346], [0.891551577], [0.10920046], [0.647682781], [0.724342512], [0.070163044], [0.280882054], [0.039113261], [0.579641592], [0.639000922], [0.281745925], [0.647857744], [0.647905797], [0.875226264], [0.567603305], [0.262940591], [0.268026042], [0.40519133], [0.479965451], [0.33552403], [0.777165379], [0.425487963], [0.237986115], [0.142522971], [0.724176488], [0.234698933], [0.078182281], [0.855990155], [0.270251765], [0.435517841], [0.762697513], [0.464487258], [0.396112685], [0.376380921], [0.294594677], [0.694492121], [0.622767949], [0.847559722], [0.301463054], [0.912937812], [0.500017182], [0.902587935], [0.304517943], [0.299165673], [0.092014087], [0.488548917], [0.664664437], [0.265349549], [0.723657021], [0.149262385], [0.04577339], [0.69661064], [0.42181486], [0.733845785], [0.418795386], [0.677443529], [0.261283603], [0.268527767], [0.544322236], [0.431632036], [0.981018141], [0.214980724], [0.394729993], [0.122224944], [0.297496875], [0.374904431], [0.68698771], [0.388549207], [0.039296071], [0.73553424], [0.379294893], [0.732123386], [0.339221439], [0.659450594], [0.054838642], [0.640112102], [0.307141704], [0.396611907], [0.420439161], [0.241714974], [0.065893153], [0.910521937], [0.697163103], [0.072559853], [0.81825094], [0.311888815], [0.961644609], [0.816325524], [0.14647302], [0.548753945], [0.946158087], [0.293992717], [0.331479643], [0.906220031], [0.525540416], [0.83301411], [0.514849806], [0.574609024], [0.468711853], [0.71002775], [0.645973276], [0.229794416], [0.551783393], [0.055822991], [0.331750941], [0.715520198], [0.583924357], [0.306957691], [0.791478237], [0.164236639], [0.065711219], [0.948993132], [0.080423835], [0.052495426], [0.566346135], [0.3630266], [0.605442195], [0.630850584], [0.065791238], [0.286817071], [0.685462839], [0.260853706], [0.659122429], [0.443173922], [0.602063986], [0.060366911], [0.781903153], [0.514579807], [0.483886213], [0.600213807], [0.497364052], [0.411145245], [0.116999171], [0.341890141], [0.746950848], [0.396292746], [0.622143843], [0.335271141], [0.140257137], [0.081620681], [0.069837569], [0.468940008], [0.990857417], [0.896616832], [0.255310561], [0.224645267], [0.01991825], [0.296480415], [0.155458996], [0.577916714], [0.956303031], [0.813464394], [0.529675785], [0.287671353], [0.48039136], [0.281044822], [0.633196521], [0.093325377], [0.284473981], [0.052223775], [0.051129385], [0.967405608], [0.040045728], [0.908582921], [0.662117416], [0.424703209], [0.72207806], [0.666193327], [0.509681253], [0.751353621], [0.279073124], [0.074927], [0.916359535], [0.31040327], [0.716604052], [0.485587085], [0.306075181], [0.477558204], [0.711923941], [0.066348638], [0.274539351], [0.31082252], [0.476073127], [0.186795565], [0.26654207], [0.070231142], [0.26951927], [0.800004713], [0.273633667], [0.146479192], [0.378318951], [0.373849065], [0.242170835], [0.249796488], [0.066591188], [0.372956798], [0.501812291], [0.313097752], [0.880202196], [0.51981893], [0.364138746], [0.492682896], [0.285732652], [0.890114985], [0.316419561], [0.26866354], [0.771975959], [0.968888992], [0.080334377], [0.736828221], [0.300558071], [0.917950393], [0.465815039], [0.054036682], [0.963150123], [0.089653503], [0.707693234], [0.636416037], [0.539521117], [0.114757161], [0.357312419], [0.67639834], [0.43482839], [0.032326387], [0.711365605], [0.187486519], [0.052789653], [0.505863613], [0.927431873], [0.680984256], [0.882822186], [0.495705441], [0.596240398], [0.320610701], [0.3413685], [0.159681797], [0.318133669], [0.839301048], [0.064359251], [0.470216633], [0.776252291], [0.635843383], [0.62510543], [0.52959065], [0.986900166], [0.078585688], [0.233284267], [0.363330957], [0.716716981], [0.375889792], [0.223316889], [0.299343986], [0.538595767], [0.730297124], [0.66033077], [0.435296009], [0.326494313], [0.854402708], [0.573493847], [0.757786135], [0.704743233], [0.281575597], [0.671968208], [0.313726015], [0.364338275], [0.368216396], [0.386295207], [0.655971865], [0.566025273], [0.424999093], [0.090110371], [0.772350538], [0.331047258], [0.273716188], [0.23877568], [0.373079772], [0.331185868], [0.256134531], [0.678373225], [0.434638338], [0.654668307], [0.986681065], [0.371520495], [0.408359618], [0.40932365], [0.283412082], [0.395246531], [0.010984428], [0.306013869], [0.266194806], [0.299318521], [0.318293946], [0.74282591], [0.097664329], [0.079666942], [0.613258767], [0.99443072], [0.568835082], [0.708034516], [0.370592719], [0.669867361], [0.651295625], [0.462531569], [0.719625619], [0.45377248], [0.394863946], [0.323974831], [0.146454724], [0.779067041], [0.401828915], [0.601479585], [0.856423023], [0.565242962], [0.301225108], [0.282108144], [0.594378011], [0.705312368], [0.540869628], [0.319249574], [0.361766138], [0.625000704], [0.316287401], [0.047239021], [0.801182233], [0.508474436], [0.817893411], [0.399235601], [0.974051999], [0.72241535], [0.039564764], [0.908684108], [0.473010134], [0.718049628], [0.763479069], [0.647596537], [0.894997386], [0.222825901], [0.359012234], [0.944910252], [0.297877816], [0.172517997], [0.556586265], [0.876481735], [0.486677843], [0.459496733], [0.474126377], [0.70101144], [0.337597387], [0.537578886], [0.966992448], [0.056849545], [0.233249065], [0.380054711], [0.602929443], [0.303847999], [0.170194553], [0.972168554], [0.332168927], [0.688728689], [0.110773401], [0.273352065], [0.572939678], [0.491457065], [0.281389999], [0.821697261], [0.674977683], [0.585134549], [0.710596116], [0.040488789], [0.568054311], [0.321752928], [0.611850232], [0.926096887], [0.618347428], [0.667629785], [0.397733466], [0.290875487], [0.594375103], [0.508255233], [0.338571357], [0.432302347], [0.302221978], [0.87619819], [0.080204492], [0.092333532], [0.093656447], [0.608452351], [0.732654598], [0.944158855], [0.26742308], [0.731124201], [0.661308553], [0.387766262], [0.962585273], [0.322067067], [0.634081093], [0.475345002], [0.353558973], [0.885936316], [0.876798106], [0.221581064], [0.394362449], [0.805035676], [0.452898486], [0.592520516], [0.761026394], [0.245049023], [0.372139363], [0.681054822], [0.747143148], [0.920739529], [0.097207945], [0.699302998], [0.721647006], [0.535356114], [0.738293805], [0.706467551], [0.67395061], [0.711212291], [0.302558708], [0.080097855], [0.707010837], [0.512248622], [0.659627472], [0.657559694], [0.100645606], [0.92665363], [0.892879338], [0.839157508], [0.890959718], [0.556754471], [0.960361937], [0.631037864], [0.029838065], [0.278843351], [0.926157705], [0.551504258], [0.485942349], [0.437234696], [0.252318018], [0.515466972], [0.437252296], [0.493724207], [0.83324725], [0.317521477], [0.286234562], [0.726833965], [0.495667033], [0.028645255], [0.319671917], [0.674344598], [0.766037189], [0.65456992], [0.756514381], [0.528253719], [0.389719491], [0.355087459], [0.87015202], [0.739083306], [0.305761846], [0.411587673], [0.063633094], [0.735409395], [0.605916669], [0.539395562], [0.566183532], [0.674795186], [0.070993366], [0.1252641], [0.279601492], [0.952174402], [0.233806762], [0.437247429], [0.925423095], [0.433498634], [0.52517902], [0.088435529], [0.447677638], [0.647000631], [0.903603337], [0.265790738], [0.66419695], [0.498120658], [0.490188944], [0.747084187], [0.906783648], [0.678770917], [0.348599859], [0.294839683], [0.705691827], [0.211917931], [0.063201124], [0.276699543], [0.672459395], [0.808205949], [0.296538373], [0.160126862], [0.439385032], [0.555951416], [0.386240112], [0.158689619], [0.214499855], [0.299579429], [0.569161656], [0.488614799], [0.878295021], [0.649380949], [0.465713341], [0.16813774], [0.87529545], [0.841132341], [0.33292081], [0.513047859], [0.305055078], [0.812626991], [0.25096706], [0.502435578], [0.457990741]], \"hovertemplate\": \"0=%{x}<br>1=%{y}<br>Feature=%{customdata[0]}<br>Anomaly=%{marker.color}<extra></extra>\", \"legendgroup\": \"\", \"marker\": {\"color\": [0, 0, 1, 1, 0, 0, 0, 1, 1, 0, 0, 1, 0, 0, 1, 0, 0, 1, 1, 0, 1, 0, 0, 1, 1, 1, 0, 0, 1, 1, 0, 0, 0, 1, 1, 1, 0, 0, 0, 0, 0, 0, 0, 1, 0, 1, 0, 0, 0, 0, 0, 1, 0, 1, 0, 1, 0, 0, 0, 1, 0, 0, 1, 1, 0, 0, 1, 0, 0, 1, 0, 0, 0, 0, 0, 0, 0, 0, 0, 0, 0, 0, 0, 0, 0, 0, 0, 0, 0, 0, 0, 0, 0, 0, 0, 0, 0, 0, 0, 0, 0, 0, 0, 0, 0, 0, 0, 0, 0, 0, 0, 0, 0, 0, 0, 0, 0, 0, 0, 0, 0, 0, 0, 0, 0, 0, 0, 0, 0, 0, 1, 0, 0, 0, 0, 0, 0, 0, 0, 0, 0, 0, 0, 0, 0, 0, 0, 0, 0, 0, 0, 0, 0, 0, 0, 0, 0, 0, 0, 0, 0, 0, 0, 0, 0, 0, 0, 0, 0, 0, 0, 0, 0, 0, 0, 0, 0, 0, 0, 0, 0, 0, 0, 0, 0, 0, 0, 0, 0, 0, 0, 0, 0, 0, 0, 0, 0, 0, 1, 0, 0, 0, 0, 0, 0, 0, 0, 0, 0, 0, 0, 0, 0, 0, 0, 0, 0, 0, 0, 0, 0, 0, 0, 0, 0, 0, 0, 0, 0, 0, 0, 0, 0, 0, 0, 0, 0, 0, 0, 0, 0, 0, 0, 0, 0, 0, 0, 0, 0, 0, 0, 0, 0, 0, 0, 0, 0, 0, 0, 0, 0, 0, 0, 0, 0, 0, 0, 0, 0, 0, 0, 0, 0, 0, 0, 0, 0, 0, 0, 0, 0, 0, 0, 0, 0, 0, 0, 0, 0, 0, 0, 0, 0, 0, 0, 0, 0, 0, 0, 0, 0, 0, 0, 0, 0, 0, 0, 0, 0, 0, 0, 0, 0, 0, 0, 0, 0, 0, 0, 0, 0, 0, 0, 0, 0, 0, 0, 0, 0, 0, 0, 0, 0, 0, 0, 0, 0, 0, 0, 0, 0, 0, 0, 0, 0, 0, 0, 0, 0, 0, 0, 0, 0, 0, 0, 0, 0, 0, 0, 0, 0, 0, 0, 0, 0, 0, 0, 0, 0, 0, 0, 0, 0, 0, 0, 0, 0, 0, 0, 0, 0, 0, 0, 0, 0, 0, 0, 0, 0, 0, 0, 0, 0, 0, 0, 0, 0, 0, 0, 0, 0, 0, 0, 0, 0, 0, 0, 0, 0, 0, 0, 0, 0, 0, 0, 0, 0, 0, 0, 0, 0, 0, 0, 0, 0, 0, 0, 0, 0, 0, 0, 0, 0, 0, 0, 0, 0, 0, 0, 0, 0, 0, 0, 0, 0, 0, 0, 0, 0, 0, 0, 0, 0, 0, 0, 0, 0, 0, 0, 0, 0, 0, 0, 0, 0, 0, 0, 0, 0, 0, 0, 0, 0, 0, 0, 0, 0, 0, 0, 0, 0, 0, 0, 0, 0, 0, 0, 0, 0, 0, 0, 0, 0, 0, 0, 0, 0, 0, 0, 0, 0, 0, 0, 0, 0, 0, 0, 0, 0, 0, 0, 0, 0, 0, 0, 0, 0, 0, 0, 0, 0, 0, 0, 1, 0, 0, 0, 0, 0, 0, 0, 0, 0, 0, 0, 0, 0, 0, 0, 0, 0, 0, 0, 0, 0, 1, 0, 0, 0, 0, 0, 0, 0, 0, 0, 0, 0, 0, 0, 0, 0, 0, 0, 0, 0, 0, 0, 0, 0, 0, 0, 0, 0, 0, 0, 0, 0, 0, 0, 0, 0, 0, 0, 0, 0, 0, 0, 0, 0, 0, 0, 0, 0, 0, 0, 0, 0, 0, 0, 0, 0, 0, 1, 0, 0, 0, 0, 0, 0, 0, 0, 0, 0, 0, 0, 0, 0, 0, 0, 0, 0, 0, 0, 0, 0, 0, 0, 0, 0, 0, 0, 0, 0, 0, 0, 0, 0, 0, 0, 0, 0, 0, 0, 0, 0, 0, 0, 0, 0, 0, 0, 0, 0, 0, 0, 0, 0, 0, 0, 0, 0, 0, 0, 0, 0, 0, 0, 0, 0, 0, 0, 0, 0, 0, 0, 0, 0, 0, 0, 0, 1, 0, 0, 0, 0, 0, 0, 0, 0, 0, 0, 0, 0, 0, 0, 0, 0, 0, 0, 0, 1, 1, 0, 1, 0, 0, 0, 1, 1, 0, 1, 0, 0, 1, 0, 0, 1, 1, 1, 0, 1, 0, 1, 1, 1, 0, 0, 0, 1, 0, 0, 0, 0, 0, 0, 0, 0, 0, 0, 0, 0, 0, 0, 0, 0, 0, 0, 0, 0, 0, 0, 0, 0, 0, 0, 0, 0, 0, 0, 0, 0, 0, 0, 0, 0, 0, 0, 0, 0, 0, 0, 0, 0, 0, 0, 0, 0, 0, 0, 0, 0, 0, 0, 0, 0, 0, 0, 0, 0, 0, 0, 0, 0, 0, 0, 0, 0, 0, 0, 0, 0, 0, 0, 0, 0, 0, 0, 0, 0, 0, 0, 0, 0, 0, 0, 0, 0, 0, 0, 0, 0, 0, 0, 0, 0, 0, 0, 0, 0, 0, 0, 0, 0, 0, 0, 0, 0, 0, 0, 0, 0, 0, 0, 0, 0, 0, 0, 0, 0, 0, 0, 0, 0, 0, 0, 0, 0, 0, 0, 0, 0, 0, 0, 1, 0, 0, 0, 0, 0, 0, 0, 0, 0, 0, 0, 0, 0, 0, 0, 0, 0, 0, 0, 0, 0, 0, 0, 0, 0, 0, 0, 0, 0, 0, 0, 0, 0, 0, 0, 0, 0, 0, 0, 0, 0, 0, 0, 0, 0, 0, 0, 0, 0, 0, 0, 0, 0, 0, 0, 0, 0, 1, 0, 0, 0, 0, 0, 0, 0, 0, 0, 0, 0, 0, 0, 0, 0, 0, 0, 0, 0, 0, 0, 0, 0, 0, 0, 0, 0, 0, 0, 0, 0, 0, 0, 0, 0, 0, 0, 0, 0, 0, 0, 0, 0, 0, 0, 0, 0, 0, 0, 0, 0, 0, 0, 0, 0, 0, 0, 0, 0, 0, 0, 0, 0, 0, 0, 0, 0, 0, 0, 0, 0, 0, 0, 0, 0, 0, 0, 0], \"coloraxis\": \"coloraxis\", \"opacity\": 0.7, \"symbol\": \"circle\"}, \"mode\": \"markers\", \"name\": \"\", \"orientation\": \"v\", \"showlegend\": false, \"type\": \"scatter\", \"x\": [1.452867031097412, 0.9519529342651367, 9.673412322998047, 8.248821258544922, 10.784242630004883, 7.368865489959717, -0.037234120070934296, 8.837321281433105, 0.7897238731384277, -1.103832721710205, 8.18415641784668, 10.605918884277344, 8.056984901428223, 0.183378666639328, 9.605241775512695, 9.807075500488281, 8.024709701538086, -0.43784770369529724, 9.188762664794922, 8.756715774536133, 7.151986598968506, 0.7700194120407104, 10.035337448120117, 0.8177260160446167, 8.014039039611816, 0.7139694094657898, 10.451701164245605, 0.09711746126413345, 10.133009910583496, 9.550867080688477, 0.675727367401123, 1.185238003730774, 0.1630030870437622, 9.381718635559082, 0.13147899508476257, 0.6457352042198181, -1.1141694784164429, 0.09200076758861542, 0.999334454536438, 7.455906391143799, -1.8289732933044434, 9.289931297302246, -1.2968727350234985, 7.784479141235352, 9.23587417602539, 9.706024169921875, 9.206489562988281, 0.898302435874939, 10.624659538269043, -1.387569785118103, 8.549795150756836, 8.854368209838867, -0.37868425250053406, 9.700654029846191, 7.573915004730225, 1.1572750806808472, 6.9516496658325195, 1.6970576047897339, 9.297149658203125, 9.673935890197754, 0.19968678057193756, -0.16253899037837982, 10.229695320129395, 9.100476264953613, -1.5409362316131592, 9.139334678649902, -0.6794509887695312, -0.4966251254081726, 10.72999382019043, 7.837492942810059, 9.899173736572266, 8.864150047302246, 1.075719952583313, 8.064896583557129, -0.9115703105926514, 0.3099762797355652, 10.69593334197998, 9.773306846618652, -1.7546929121017456, -1.7967760562896729, -1.5417275428771973, -0.05567127466201782, 10.343208312988281, 0.14581015706062317, 0.3566850423812866, 1.3214911222457886, -0.9477164149284363, -0.8604592084884644, 1.5687294006347656, 0.3701285123825073, 0.08427415788173676, 8.082923889160156, -1.0489202737808228, -0.3136395215988159, 0.9323063492774963, 10.166767120361328, -0.670748770236969, 1.533902883529663, 0.057665079832077026, 10.495284080505371, 1.2533222436904907, -1.4066250324249268, 1.439824104309082, -0.7585936784744263, 9.90336799621582, -1.1728951930999756, -0.25454872846603394, 1.7880576848983765, -0.8336912989616394, 9.634088516235352, -0.034828804433345795, 1.1722384691238403, 7.967970371246338, 0.06451348960399628, 10.516845703125, -0.45928141474723816, -0.25377362966537476, -0.3823193609714508, 7.925779342651367, -0.236873060464859, -0.707072913646698, 1.23148775100708, 1.795878291130066, -1.6074260473251343, 0.6614677906036377, 1.099139928817749, 1.3247344493865967, 8.360420227050781, 0.6407551169395447, 1.216518759727478, 1.0110796689987183, -0.5217832326889038, 8.63383674621582, 0.525607705116272, -1.4287546873092651, 0.9509806632995605, 10.251392364501953, 8.941025733947754, 1.2377941608428955, 0.9608005285263062, 8.237106323242188, 0.2909389138221741, -0.6981603503227234, 10.605807304382324, -0.28118860721588135, -1.4850008487701416, 8.133007049560547, -1.3285877704620361, 1.089098572731018, 0.20149007439613342, 0.14685308933258057, -0.38786739110946655, 1.726294755935669, -0.8382823467254639, 0.7328647971153259, -0.7476336359977722, -1.6221140623092651, -1.8833316564559937, -0.9198231101036072, 7.422129154205322, -0.1907510757446289, -0.11640947312116623, -1.0808855295181274, -1.916232943534851, 7.774514198303223, -1.536220669746399, 8.444437026977539, 9.615009307861328, 9.60018253326416, 0.2784208357334137, -0.4569527804851532, 1.513236165046692, 7.898772716522217, 9.952971458435059, 1.3050858974456787, -1.2594060897827148, 7.633575439453125, 9.720617294311523, 1.0786982774734497, 8.840971946716309, 1.6074912548065186, 8.23690414428711, 1.1711926460266113, 9.541838645935059, 9.631689071655273, -0.18533281981945038, 8.888040542602539, 0.3263967037200928, -1.2049458026885986, -0.4117938280105591, -1.5284504890441895, 10.845059394836426, 8.197250366210938, 10.096233367919922, -0.8413171768188477, 0.0004133300972171128, 1.723675012588501, 2.006873369216919, 1.2414072751998901, 0.9387816786766052, 1.1821247339248657, 0.5655258297920227, 1.0139153003692627, 10.432875633239746, 9.747536659240723, 1.1527613401412964, -1.8929452896118164, 1.2268543243408203, 8.111710548400879, 1.4306937456130981, 1.0260463953018188, 8.838397026062012, 9.86693000793457, -0.11295007914304733, 1.3293027877807617, 1.526563286781311, 1.2381411790847778, 9.681966781616211, 10.20634651184082, 1.0511791706085205, 9.758176803588867, 1.0520033836364746, 10.490921974182129, -1.1699590682983398, -0.843098521232605, -1.8633365631103516, -1.5187208652496338, -1.2989200353622437, -1.5184725522994995, 8.338409423828125, 0.052931685000658035, -1.2794221639633179, 8.837799072265625, 8.846197128295898, -0.4652369022369385, 1.1184437274932861, 0.9785653352737427, -0.40446680784225464, 8.475977897644043, 9.747872352600098, 1.3654110431671143, 1.9239075183868408, 9.764909744262695, -0.13604049384593964, 8.752911567687988, -1.0636075735092163, -0.9069600701332092, -1.4457679986953735, -1.5639020204544067, 10.12645149230957, -0.407462477684021, 1.1243313550949097, 8.789633750915527, 0.053119760006666183, -1.2454079389572144, 0.8219406604766846, 1.3794872760772705, -0.48661908507347107, 8.389896392822266, -0.15782077610492706, 9.860560417175293, 0.03495761379599571, 10.596983909606934, 1.219197392463684, -0.5538204908370972, 0.22997058928012848, 9.135470390319824, -0.6215440034866333, -0.860236406326294, 2.1497087478637695, 1.8155730962753296, 0.7960463762283325, 0.531561017036438, 9.873494148254395, 7.4454851150512695, -1.0387272834777832, 10.22923469543457, 10.837589263916016, 1.6142356395721436, -1.2244248390197754, -1.6169908046722412, 9.932914733886719, -1.3437145948410034, 0.7799074649810791, 10.454154968261719, 1.387142300605774, -0.7902847528457642, 1.0245027542114258, -0.7820866703987122, 1.2930731773376465, 0.23613393306732178, 1.6159040927886963, -0.26928743720054626, 0.8603009581565857, 0.15696170926094055, 7.91895055770874, 8.034833908081055, -1.9604980945587158, 0.12886527180671692, 1.3096200227737427, 1.1491848230361938, -0.43208998441696167, 10.038330078125, 8.831323623657227, 8.04159927368164, -0.9615454077720642, 1.8079768419265747, -0.8395787477493286, -1.6908081769943237, 9.638082504272461, 9.489337921142578, -1.512073040008545, 8.331530570983887, 9.8074312210083, 1.7514793872833252, 1.4391671419143677, 0.2539956569671631, 0.08370425552129745, -1.0564358234405518, 1.0426106452941895, 1.2646422386169434, -0.08222418278455734, 8.811227798461914, 1.1259846687316895, -1.2410069704055786, 0.719176173210144, 9.474201202392578, 9.146591186523438, 9.63147258758545, 7.9895501136779785, -0.5671632885932922, 9.79903793334961, -0.25479018688201904, -0.6943991184234619, -0.9119099378585815, 10.342656135559082, 1.147229790687561, 0.9514300227165222, 9.094654083251953, 9.398653984069824, 1.0102777481079102, -1.3746789693832397, 7.718601703643799, -0.9181186556816101, 9.058917999267578, 10.034082412719727, 0.4913164973258972, -1.8049815893173218, 8.456705093383789, 9.74624252319336, 1.0742390155792236, 0.6404699087142944, -0.1597660630941391, 0.8317642211914062, -0.8158087134361267, -1.2608119249343872, 0.33447974920272827, 0.9777300953865051, 10.06756591796875, 0.6037544012069702, 1.109667420387268, 1.5189557075500488, 0.5561383962631226, -1.6433368921279907, 8.734539985656738, -1.2390806674957275, 9.949933052062988, -0.32932907342910767, -0.7725108861923218, 1.7737033367156982, -1.1447038650512695, 1.3745951652526855, 10.745662689208984, 9.405888557434082, 8.880510330200195, -1.4921637773513794, -0.9292745590209961, 8.020211219787598, 0.9145409464836121, 0.3688763380050659, 7.848940849304199, 0.8266236782073975, -0.7185527086257935, -0.8191382884979248, 1.125801920890808, -0.6286584138870239, -0.1786220669746399, -0.07844565808773041, 1.1383788585662842, 1.096583604812622, -1.0575753450393677, -0.634320080280304, 0.23891082406044006, -0.500883936882019, -0.18024761974811554, 0.8351723551750183, -1.1332759857177734, 8.768518447875977, 0.7933286428451538, -1.087106466293335, 0.0520915761590004, -0.4641403555870056, -1.225969672203064, 1.1214481592178345, 9.116865158081055, -0.23314903676509857, 9.796113014221191, 0.7813009023666382, 7.436389446258545, 1.9367001056671143, 0.5756508708000183, 0.255240261554718, 10.040955543518066, -1.072307825088501, 1.5972591638565063, -1.3072980642318726, -1.1335076093673706, 0.6246816515922546, 9.078545570373535, 10.06363582611084, 1.0657432079315186, 0.20653298497200012, 0.9911202192306519, 1.0469669103622437, 9.665131568908691, -1.1460788249969482, 0.023483267053961754, 7.989528179168701, 1.2747130393981934, 10.64548110961914, -0.3908028304576874, -0.267672061920166, 0.1014985591173172, 8.150769233703613, 9.947425842285156, 0.5682545304298401, -0.4920448660850525, 10.628031730651855, -0.9386392831802368, 9.663485527038574, -1.227303147315979, -1.7780848741531372, 10.041701316833496, 11.036742210388184, 1.373165249824524, 7.714900016784668, 10.014280319213867, -0.9875706434249878, 10.024398803710938, 8.32591724395752, -0.6857194900512695, 10.315546989440918, -1.6145198345184326, -1.050244688987732, 7.90091609954834, 1.0972750186920166, 1.1014530658721924, 10.146173477172852, -1.579392671585083, -1.2405182123184204, 1.1750469207763672, 10.204297065734863, -1.1236166954040527, -1.1938755512237549, 0.8623320460319519, 0.033708665519952774, -0.7845669388771057, 9.711647987365723, -1.503003716468811, 9.743040084838867, -1.0411581993103027, -0.6345515847206116, -0.9984111785888672, 0.38442230224609375, -1.2785736322402954, -0.8348026871681213, 0.1418197900056839, 7.960012435913086, 1.1927516460418701, 0.3894205391407013, -1.824264407157898, -0.23934970796108246, 8.097359657287598, 10.595945358276367, -0.2058425396680832, 10.854795455932617, 1.5755866765975952, 1.1775621175765991, 1.0574344396591187, 9.729978561401367, -1.3604943752288818, 7.90028190612793, 7.936803817749023, 10.078835487365723, 9.859561920166016, 8.171027183532715, 1.9119012355804443, 7.481116771697998, -0.6722060441970825, 0.5833514332771301, 1.175476312637329, 0.3810390532016754, 0.7234408259391785, 1.5748448371887207, 1.2507882118225098, 9.756308555603027, -1.330734133720398, -1.7113113403320312, 1.0160783529281616, 8.317534446716309, 10.885943412780762, -1.9076707363128662, 1.9958858489990234, 9.327033042907715, -1.877254605293274, -1.110002040863037, -0.6016743779182434, -1.479507565498352, 1.143572211265564, 1.9276821613311768, 1.072617530822754, 10.206645965576172, 8.342412948608398, 9.649693489074707, 10.149385452270508, -0.29403477907180786, -0.5859759449958801, -0.5086209177970886, 1.2438210248947144, 1.4052008390426636, 1.4326817989349365, 9.879652976989746, 7.507997989654541, -1.010247826576233, 7.732050895690918, 9.391756057739258, 1.6563626527786255, 10.549352645874023, 0.7024028897285461, 2.126464366912842, 1.183907389640808, 7.731236934661865, 0.7680946588516235, 1.0434410572052002, -1.6573567390441895, 8.435916900634766, -1.4228745698928833, 8.003524780273438, 8.115528106689453, -1.2440931797027588, -0.7012878656387329, 0.6955053806304932, 10.5108642578125, -0.9790251851081848, -0.9561271667480469, 0.5285441875457764, 7.496743202209473, -0.9472010731697083, 9.263642311096191, 0.8310942649841309, 11.023600578308105, 10.122175216674805, -1.0757191181182861, 7.797436714172363, -0.46819183230400085, -1.9990791082382202, -1.3621529340744019, 0.4524065852165222, 8.277560234069824, 7.804305553436279, 1.4169577360153198, 7.8478899002075195, 9.055355072021484, 9.851550102233887, 1.1544859409332275, 9.740540504455566, 0.3985340893268585, -0.7697896361351013, 0.890931248664856, -0.735692024230957, 1.1013435125350952, -0.9805863499641418, 9.564884185791016, 0.4777330756187439, -1.7855017185211182, -1.865417718887329, 1.3677207231521606, -0.9706205129623413, -0.7261857390403748, 9.919986724853516, -0.15196430683135986, -1.6737534999847412, 0.7744130492210388, 9.138997077941895, 0.8470557928085327, -0.6989425420761108, 8.850496292114258, 9.920947074890137, 7.985744476318359, 11.045331954956055, 8.463272094726562, 0.9369465708732605, 8.384821891784668, -0.18047748506069183, 7.724892616271973, 1.1631826162338257, 9.178661346435547, 10.082447052001953, -0.16378767788410187, 1.1867756843566895, 8.269309043884277, 0.22386200726032257, 1.0367836952209473, 1.0377459526062012, -1.076305866241455, -1.1849836111068726, 1.6909699440002441, 1.6268787384033203, 0.3572830557823181, 1.3799954652786255, 0.5880314707756042, -0.43875589966773987, -0.5664135813713074, 0.9118847846984863, 9.593658447265625, 9.333675384521484, -0.18661175668239594, 10.667648315429688, 0.711706817150116, -1.2449185848236084, 0.11003774404525757, 1.9598934650421143, -1.18927001953125, 10.303608894348145, 0.5691435933113098, 0.585292637348175, 0.18171018362045288, 0.5306788682937622, 7.82867956161499, 0.4457406997680664, 9.72209644317627, 1.3601335287094116, -0.006542653311043978, 0.3411690294742584, 9.798786163330078, -1.2094082832336426, 9.731854438781738, 0.49784496426582336, 8.519017219543457, 0.4540126919746399, -1.5686516761779785, -1.2705212831497192, 1.0109436511993408, 8.533390045166016, -1.2597784996032715, 1.1951240301132202, 10.507173538208008, 0.7702627182006836, 0.15398243069648743, 9.660490036010742, 9.87955093383789, -0.3902752995491028, 0.8893356919288635, 1.4258804321289062, 7.860082626342773, 0.9226398468017578, 8.805355072021484, 0.5287370681762695, 1.963146448135376, -1.3563964366912842, 1.0075440406799316, -1.3162089586257935, -0.5969102382659912, 0.42138001322746277, 7.4706854820251465, -0.9758335947990417, 1.2272772789001465, 7.879393577575684, 8.073091506958008, 0.36260151863098145, 9.609597206115723, -1.3202663660049438, 0.8275589942932129, 7.824827194213867, -1.2005447149276733, -1.33413565158844, -1.6548444032669067, -1.8574349880218506, 8.07884407043457, 9.698259353637695, 7.807651519775391, 8.802848815917969, 10.118572235107422, 1.3540054559707642, 8.157550811767578, 7.508057117462158, 0.636233389377594, -1.793000340461731, -1.1766366958618164, 8.84704875946045, 1.6544649600982666, -1.9107334613800049, 0.04945675656199455, 10.116275787353516, -1.0012842416763306, 0.9161210060119629, 8.465591430664062, 9.267831802368164, 0.6464404463768005, 7.993234634399414, 9.238248825073242, -1.8398258686065674, 0.08041255921125412, 2.009489059448242, -0.11803299188613892, 7.228172302246094, 7.348056316375732, 9.674110412597656, 0.03047097474336624, -0.61186283826828, 9.408127784729004, -0.3976132571697235, 1.7010884284973145, 8.733211517333984, 1.1025336980819702, -0.04480715095996857, 8.257963180541992, 7.59777307510376, 8.873379707336426, 7.489795684814453, 1.0782454013824463, 10.812504768371582, 0.4783109426498413, 0.29751959443092346, 1.0556087493896484, 7.920142650604248, -0.2781468331813812, -1.7313214540481567, -1.8286734819412231, 8.373127937316895, 0.2894671559333801, 0.7777606844902039, 0.7986547946929932, 8.176836013793945, 0.7428865432739258, -1.8803730010986328, -1.0492091178894043, 7.978790283203125, 10.085932731628418, 10.021432876586914, 1.0092097520828247, 10.744446754455566, 0.5883165001869202, -0.7473689913749695, -1.66885244846344, 9.819963455200195, -1.7009176015853882, 0.0804636999964714, 9.440858840942383, -1.8353677988052368, 9.652310371398926, -0.6050869226455688, -1.1231491565704346, -1.0933243036270142, 1.3727792501449585, -0.32727140188217163, -0.34799546003341675, 10.87368106842041, 0.22356568276882172, 10.8370361328125, -1.5816274881362915, 1.0370347499847412, 0.7232330441474915, 0.06829909235239029, 0.7457775473594666, -1.6163890361785889, 0.7612866759300232, 1.552263855934143, -1.2085070610046387, 0.6735938191413879, -0.509967029094696, -0.14412923157215118, 1.5188733339309692, 0.09510832279920578, -1.5898712873458862, 9.819753646850586, -0.13653770089149475, 7.47182035446167, -1.9640991687774658, -1.8231725692749023, 9.160365104675293, -0.7718218564987183, 8.31128215789795, -1.0192698240280151, -0.6933370232582092, 1.1394253969192505, -1.4189221858978271, 9.990460395812988, -0.7375717163085938, -1.303106665611267, 1.0712668895721436, 0.5356201529502869, 1.1996794939041138, 0.9620164036750793, 9.747102737426758, -1.380216121673584, -1.0859029293060303, 0.7703538537025452, 8.317885398864746, -1.0460830926895142, 10.563004493713379, 7.924217700958252, -1.0757007598876953, 1.010422706604004, 1.533445119857788, 9.86986255645752, 1.3463325500488281, 9.264263153076172, 7.6810302734375, 8.354156494140625, 7.834909915924072, 9.80984878540039, -1.898158073425293, 1.2944012880325317, 1.808311104774475, -0.5367215871810913, 8.225167274475098, -1.7671006917953491, 0.0839146301150322, 9.969911575317383, 0.7923198938369751, 0.5445345640182495, 10.18421745300293, 8.023322105407715, 10.213788032531738, 7.764383792877197, 10.945611000061035, 10.765172004699707, 7.728498935699463, -0.9625399708747864, -0.6582819223403931, -0.6604422330856323, 8.419636726379395, 1.5911616086959839, -0.18248341977596283, 7.399875640869141, 1.8502001762390137, -0.7857304215431213, -0.005242893006652594, 0.574190080165863, 7.449530601501465, 1.099502444267273, -0.8865222334861755, -0.6660079956054688, 1.1840811967849731, 2.087491512298584, 1.3649678230285645, 8.177925109863281, -1.8887029886245728, 8.331499099731445, 0.9808855056762695, -1.6275871992111206, 0.8125163912773132, -0.9717254042625427, 1.9079599380493164, 8.908302307128906, -0.2721077501773834, -1.798092007637024, 7.747878551483154, 0.30651792883872986, 8.037636756896973, -0.6877664923667908, -0.8685320019721985, -0.0880235806107521, 0.4324292838573456, -0.9273643493652344, -0.2947348356246948, 1.6926896572113037, 0.9641616344451904, 9.652877807617188, 0.13156326115131378, -0.9198775291442871, -1.2647761106491089, 9.048376083374023, 8.844696998596191, 7.999733924865723, 0.5752821564674377, -0.17801891267299652, 1.3940560817718506, 8.038629531860352, 10.523737907409668, 9.568530082702637, 9.61832046508789, -1.261190414428711, 9.548957824707031, 0.003593731438741088, 0.7046176195144653, -1.2111518383026123, 1.2109676599502563, 0.6865703463554382, 1.0673141479492188, -0.05979357659816742, -1.55537748336792, 9.333121299743652, -1.1704343557357788, 10.32811164855957, 8.089802742004395, 1.1245795488357544, 9.580424308776855, -1.0910789966583252, 0.32333123683929443, -0.7353686094284058, -1.0862224102020264, -0.9408549070358276, 8.264623641967773, 10.760586738586426, 1.0087416172027588, 1.4682806730270386, 8.066165924072266, 7.969651699066162, 1.1021569967269897, 8.614397048950195, 0.04861057177186012, -1.0681653022766113, 2.1285510063171387, 0.059956058859825134, 0.7557990550994873, 1.1181180477142334, 0.2940859794616699, 2.1103196144104004, 10.902802467346191, -0.3453402519226074, -0.8890184760093689, 9.844945907592773, 8.814659118652344, 10.395674705505371, -0.6911215782165527, 9.598899841308594, 1.032092571258545, 7.915939807891846, 9.700621604919434, 0.9810117483139038, -1.828396201133728, 7.490725994110107, -1.1225109100341797, 8.585881233215332, -1.4255608320236206, -0.3467513918876648, 1.53769052028656, 0.6595187187194824, 1.194929599761963, 0.8492082357406616, 9.22303581237793, 8.900214195251465, 0.11110857129096985, -1.1094316244125366, 8.058242797851562, 9.108266830444336, 8.013619422912598, 1.6148221492767334, -0.6709914207458496, -0.1722213476896286, 9.700160026550293, -1.4117140769958496, 0.9251581430435181, -1.85190749168396, 0.8189647197723389, -0.8829681873321533, 8.400260925292969, -0.3005238473415375, 10.135478973388672, -0.8462024331092834, 0.9761962294578552, 10.78905963897705, -1.3408470153808594, -0.18991677463054657, 0.19462236762046814, 9.982354164123535, 0.5337138175964355, 7.473907947540283, 8.418712615966797, 1.1393488645553589, -1.8362103700637817, -0.30911245942115784, 9.91713809967041, -0.5145747065544128, 1.6522480249404907, 8.005499839782715, 7.7907538414001465, 11.008214950561523, 7.458678722381592, -1.018432378768921, -1.1938799619674683, 9.687021255493164, 8.723325729370117, 1.0886377096176147, -0.3726602792739868, -1.9727612733840942, 8.070253372192383, 10.918180465698242], \"xaxis\": \"x\", \"y\": [2.7135584354400635, 8.992855072021484, 6.611424446105957, 10.679664611816406, 7.148334980010986, 10.023682594299316, 9.32997989654541, 10.790003776550293, 6.650303840637207, 3.677473783493042, 11.971623420715332, 7.8233418464660645, 11.074317932128906, 6.500051975250244, 7.800166130065918, 10.117513656616211, 11.271082878112793, 7.924993991851807, 6.998240947723389, 10.194012641906738, 9.934694290161133, 3.1164536476135254, 7.390275478363037, 6.604173183441162, 9.392341613769531, 3.4460415840148926, 7.955794811248779, 6.847227573394775, 9.196642875671387, 9.297062873840332, 6.829570770263672, 9.544105529785156, 5.171518802642822, 8.783076286315918, 5.92806339263916, 3.1604537963867188, 7.553693771362305, 6.828794479370117, 3.312288522720337, 10.161760330200195, 8.16469955444336, 9.27640438079834, 7.234678268432617, 9.165793418884277, 8.595691680908203, 10.336917877197266, 8.635605812072754, 6.700844764709473, 7.92327880859375, 8.454665184020996, 11.58414363861084, 7.383316993713379, 6.1627678871154785, 10.223898887634277, 9.96585464477539, 10.110953330993652, 10.276556968688965, 9.186531066894531, 8.866517066955566, 7.355308532714844, 6.033732891082764, 7.613739967346191, 10.276461601257324, 9.405397415161133, 7.275317192077637, 8.415513038635254, 7.416599750518799, 7.7411956787109375, 7.751025676727295, 10.17146110534668, 9.282327651977539, 10.680895805358887, 3.4108855724334717, 11.416116714477539, 1.4656187295913696, 2.3113436698913574, 7.658629417419434, 9.795088768005371, 2.085347890853882, 2.9075441360473633, 2.943598747253418, 2.630295753479004, 7.578111171722412, 7.6396613121032715, 9.155695915222168, 8.573895454406738, 8.168647766113281, 8.835311889648438, 6.297114372253418, 3.158013343811035, 2.4796411991119385, 11.805026054382324, 7.091389179229736, 9.082685470581055, 9.924747467041016, 10.179558753967285, 6.7903733253479, 8.155922889709473, 7.813979148864746, 7.710229396820068, 3.3217127323150635, 8.486736297607422, 8.09128189086914, 6.151796340942383, 10.580062866210938, 3.9379358291625977, 7.276469707489014, 8.808850288391113, 1.504647135734558, 9.542664527893066, 2.7124040126800537, 3.345830202102661, 12.063432693481445, 2.248108148574829, 6.862801551818848, 2.6468703746795654, 9.891538619995117, 9.044781684875488, 11.066933631896973, 8.21845817565918, 2.65073823928833, 6.251008987426758, 8.610401153564453, 7.600032806396484, 7.551980495452881, 8.801982879638672, 9.710419654846191, 10.68526554107666, 8.93656063079834, 8.585250854492188, 6.056453227996826, 6.606680393218994, 11.453914642333984, 9.572122573852539, 8.728532791137695, 2.124058246612549, 7.2105631828308105, 11.307991981506348, 9.006256103515625, 7.357179164886475, 11.3744478225708, 3.1504390239715576, 6.127776622772217, 7.3091020584106445, 8.277937889099121, 3.299208402633667, 10.977593421936035, 8.326443672180176, 9.099137306213379, 6.998932838439941, 2.994328022003174, 2.2099437713623047, 7.234177112579346, 6.013952732086182, 3.129269599914551, 7.110456943511963, 7.345239639282227, 8.051886558532715, 1.8799467086791992, 10.735271453857422, 9.771156311035156, 6.025406360626221, 2.064128875732422, 2.2672016620635986, 10.567619323730469, 8.504362106323242, 11.431631088256836, 9.001218795776367, 7.493505001068115, 7.469616889953613, 7.208945274353027, 8.131304740905762, 9.75390338897705, 6.806609630584717, 7.199051856994629, 8.719027519226074, 9.877447128295898, 6.516378402709961, 9.15366268157959, 11.029790878295898, 7.0776567459106445, 9.737231254577637, 9.664057731628418, 9.310327529907227, 9.093204498291016, 9.806137084960938, 9.259133338928223, 5.991916656494141, 3.2984628677368164, 2.259131669998169, 8.362838745117188, 7.191445827484131, 11.847368240356445, 6.721831798553467, 9.595704078674316, 9.592276573181152, 7.126795291900635, 8.719728469848633, 3.246194362640381, 7.502388954162598, 6.250227451324463, 7.132726192474365, 9.906227111816406, 7.650058269500732, 6.678310871124268, 9.611628532409668, 2.8716180324554443, 6.179685115814209, 9.946576118469238, 9.297306060791016, 7.276662826538086, 9.403362274169922, 9.596283912658691, 2.8740344047546387, 6.249833583831787, 6.701450824737549, 9.107373237609863, 10.056387901306152, 10.158330917358398, 6.829834461212158, 6.699897766113281, 8.383167266845703, 7.717214584350586, 1.5230950117111206, 9.479254722595215, 2.9792628288269043, 7.224121570587158, 3.314488410949707, 8.747701644897461, 9.125518798828125, 9.455527305603027, 7.159186363220215, 11.111714363098145, 11.231085777282715, 8.476046562194824, 8.28372859954834, 8.392306327819824, 2.3398959636688232, 10.67731761932373, 6.344572067260742, 6.270212650299072, 7.999427318572998, 6.640187740325928, 8.926728248596191, 10.470317840576172, 9.026299476623535, 3.1942310333251953, 2.0692954063415527, 7.280646324157715, 7.30429220199585, 5.7744364738464355, 7.376489162445068, 10.753281593322754, 5.972978591918945, 3.873711347579956, 6.83962869644165, 2.5257434844970703, 8.919270515441895, 9.135574340820312, 8.411274909973145, 6.557643413543701, 5.827840805053711, 7.030858039855957, 7.300348281860352, 5.892108917236328, 8.780489921569824, 11.297750473022461, 9.671069145202637, 1.5511976480484009, 8.3235502243042, 8.519761085510254, 9.869355201721191, 2.2233855724334717, 6.4422383308410645, 10.55922794342041, 6.3846259117126465, 10.02353572845459, 7.172194004058838, 8.643752098083496, 3.3149378299713135, 7.391828536987305, 6.545632362365723, 3.541550874710083, 2.4728715419769287, 6.935351848602295, 8.472740173339844, 7.940939426422119, 8.377357482910156, 9.077825546264648, 3.0020241737365723, 3.1128361225128174, 8.941123962402344, 7.286931991577148, 8.457157135009766, 7.682525634765625, 11.650596618652344, 10.617311477661133, 2.445037364959717, 7.218587875366211, 2.602025032043457, 8.850753784179688, 8.930954933166504, 9.402076721191406, 10.421085357666016, 10.075576782226562, 1.783239722251892, 8.11314868927002, 1.9932804107666016, 8.145684242248535, 9.146404266357422, 9.097938537597656, 8.203496932983398, 9.581607818603516, 6.394087791442871, 7.099502086639404, 2.6755387783050537, 7.423039436340332, 9.134275436401367, 1.7106016874313354, 9.844115257263184, 8.649237632751465, 2.281536340713501, 10.829787254333496, 8.284490585327148, 2.6117279529571533, 2.7225303649902344, 10.955453872680664, 11.241616249084473, 7.864649772644043, 10.309317588806152, 9.762681007385254, 9.973299026489258, 6.02550745010376, 6.761723041534424, 8.815312385559082, 7.680074214935303, 8.732118606567383, 2.130859136581421, 9.470239639282227, 9.860211372375488, 2.090916156768799, 3.4313008785247803, 11.003300666809082, 5.976338863372803, 10.680510520935059, 7.783687591552734, 9.534710884094238, 8.488736152648926, 10.676665306091309, 10.07993221282959, 7.344794273376465, 2.129457473754883, 8.386521339416504, 9.84428882598877, 7.947512149810791, 3.3553764820098877, 5.990120887756348, 8.095377922058105, 10.075469017028809, 3.3752329349517822, 8.818402290344238, 8.222970008850098, 6.124607086181641, 7.958998203277588, 10.941567420959473, 2.148329496383667, 9.63075065612793, 9.345697402954102, 8.986241340637207, 8.912714004516602, 7.462491035461426, 6.215535640716553, 7.553112030029297, 7.862276077270508, 10.88687515258789, 7.2820820808410645, 1.7208361625671387, 10.3324556350708, 9.92686939239502, 3.045318603515625, 10.829544067382812, 6.262764930725098, 1.7520252466201782, 3.1793835163116455, 8.682663917541504, 6.785285472869873, 7.136223793029785, 7.094855785369873, 7.414729595184326, 3.4206395149230957, 7.883008003234863, 6.772480010986328, 2.3631513118743896, 2.299821615219116, 8.455080032348633, 9.833768844604492, 3.894958972930908, 10.500229835510254, 2.825671911239624, 3.2388715744018555, 7.993811130523682, 7.59128999710083, 8.391088485717773, 9.67368221282959, 10.605888366699219, 9.800742149353027, 7.130063056945801, 6.147584915161133, 10.88718032836914, 8.82665729522705, 8.604665756225586, 2.8867928981781006, 10.324307441711426, 1.9142459630966187, 8.924450874328613, 7.183054447174072, 8.709696769714355, 9.026590347290039, 11.294727325439453, 7.923438549041748, 3.428647518157959, 7.517585754394531, 8.250863075256348, 8.808701515197754, 7.537917613983154, 8.936506271362305, 9.369099617004395, 10.268129348754883, 3.208911180496216, 7.629326820373535, 2.645376443862915, 9.749954223632812, 7.705341815948486, 10.408933639526367, 9.244884490966797, 7.3535919189453125, 8.508134841918945, 7.651975154876709, 1.516318917274475, 6.753093719482422, 3.799896240234375, 2.1486899852752686, 6.691359043121338, 7.751789093017578, 6.398174285888672, 9.806367874145508, 9.374271392822266, 6.403979778289795, 7.236347198486328, 10.125154495239258, 7.647152900695801, 7.221126556396484, 7.471994876861572, 1.8098558187484741, 12.132612228393555, 9.864224433898926, 6.916515827178955, 7.054265975952148, 1.8926169872283936, 2.5091512203216553, 8.659111976623535, 6.988841533660889, 7.564610958099365, 2.908820629119873, 6.968928813934326, 2.496694326400757, 1.6044014692306519, 9.894916534423828, 8.589516639709473, 7.286098003387451, 2.699075222015381, 7.843615531921387, 8.149867057800293, 2.191467046737671, 7.333845138549805, 9.540871620178223, 9.539393424987793, 9.932693481445312, 2.5178749561309814, 8.752700805664062, 7.997804641723633, 7.6595377922058105, 10.118814468383789, 7.7688493728637695, 9.873222351074219, 7.707937240600586, 7.716095447540283, 3.2362802028656006, 2.1631102561950684, 6.368721008300781, 2.142683506011963, 11.837080001831055, 9.422234535217285, 9.369447708129883, 6.903017044067383, 10.739892959594727, 8.788827896118164, 10.997000694274902, 6.153855323791504, 3.2738382816314697, 9.008498191833496, 6.8103508949279785, 2.850107192993164, 6.3314056396484375, 3.137997627258301, 6.3119120597839355, 1.6260664463043213, 8.466582298278809, 3.4764065742492676, 9.580331802368164, 7.1891303062438965, 8.184611320495605, 8.068086624145508, 9.789898872375488, 2.3064980506896973, 6.56302547454834, 5.8668012619018555, 1.765027642250061, 7.191498279571533, 8.202052116394043, 3.4575510025024414, 8.223613739013672, 9.179441452026367, 7.892520904541016, 10.233360290527344, 9.908852577209473, 3.275930643081665, 9.087037086486816, 7.25054407119751, 2.783202648162842, 8.15700912475586, 9.702047348022461, 11.021739959716797, 7.413879871368408, 11.751180648803711, 9.208234786987305, 9.366617202758789, 7.58011531829834, 5.059760093688965, 8.459216117858887, 7.776490688323975, 10.385041236877441, 8.53623104095459, 9.09847640991211, 8.68016242980957, 11.517701148986816, 3.614009380340576, 10.633899688720703, 10.588082313537598, 3.5673084259033203, 6.197320461273193, 2.2457220554351807, 7.364108562469482, 1.7985749244689941, 6.3627519607543945, 8.343599319458008, 11.017786026000977, 1.635560154914856, 11.164700508117676, 6.955573081970215, 7.740273475646973, 10.204392433166504, 6.376487731933594, 11.570479393005371, 8.083620071411133, 2.6998276710510254, 8.212058067321777, 6.766443252563477, 10.945141792297363, 11.77824878692627, 2.8571226596832275, 11.937664031982422, 10.539092063903809, 9.972465515136719, 9.148725509643555, 9.145729064941406, 8.96689510345459, 8.986881256103516, 2.411740303039551, 2.632099151611328, 3.3636741638183594, 2.329664707183838, 7.628357410430908, 9.10469913482666, 8.101110458374023, 2.88413405418396, 2.6410770416259766, 7.271784782409668, 9.635756492614746, 9.761564254760742, 7.753026008605957, 7.504720687866211, 6.631836891174316, 10.585370063781738, 6.607405185699463, 6.112858295440674, 10.646745681762695, 9.580394744873047, 9.996994018554688, 7.788354396820068, 11.242259979248047, 6.276122570037842, 9.517205238342285, 9.52074146270752, 10.360407829284668, 9.047246932983398, 11.16622543334961, 10.03046703338623, 8.238515853881836, 8.6550874710083, 9.151321411132812, 3.1588709354400635, 3.5040152072906494, 2.1892130374908447, 3.3586647510528564, 6.569159030914307, 6.836967945098877, 6.289318084716797, 7.523771286010742, 2.6733977794647217, 6.102566242218018, 6.184257507324219, 5.846076011657715, 7.0281877517700195, 7.818930625915527, 10.836627960205078, 9.851378440856934, 6.983212947845459, 6.164361476898193, 2.9129679203033447, 5.332643985748291, 8.650391578674316, 1.6089011430740356, 7.857757568359375, 3.215425729751587, 4.910604476928711, 3.3397252559661865, 6.185235977172852, 12.060905456542969, 6.2850236892700195, 6.649965763092041, 9.392380714416504, 9.587526321411133, 3.0535621643066406, 9.896899223327637, 2.0580732822418213, 7.014192581176758, 2.0943379402160645, 9.287810325622559, 2.260552167892456, 7.224465370178223, 8.123952865600586, 6.344253063201904, 11.391210556030273, 8.722904205322266, 9.225828170776367, 7.6752848625183105, 2.2898099422454834, 6.675581932067871, 9.589140892028809, 9.286742210388184, 6.27386474609375, 6.737255096435547, 2.6259424686431885, 10.47891616821289, 8.737458229064941, 11.18372917175293, 9.566093444824219, 8.762978553771973, 8.454349517822266, 7.275015354156494, 3.4989101886749268, 5.868237495422363, 6.400678634643555, 10.525936126708984, 6.593356609344482, 9.373805046081543, 11.920958518981934, 10.598230361938477, 9.452018737792969, 7.52919340133667, 7.368113994598389, 2.0813190937042236, 9.79173755645752, 6.330951690673828, 8.643742561340332, 3.3228235244750977, 8.30740737915039, 11.920470237731934, 9.08052921295166, 9.74271011352539, 9.341058731079102, 10.223873138427734, 7.410025596618652, 11.904706954956055, 10.982955932617188, 3.018906593322754, 2.9605965614318848, 1.8985998630523682, 9.018455505371094, 6.369906425476074, 2.9944169521331787, 6.492941856384277, 9.229593276977539, 3.3587701320648193, 10.059977531433105, 11.674773216247559, 9.802506446838379, 5.770441055297852, 9.115017890930176, 8.648022651672363, 7.912408828735352, 7.575933933258057, 7.6209516525268555, 7.133586883544922, 10.573501586914062, 10.015701293945312, 10.236335754394531, 7.290998458862305, 7.233563423156738, 6.889638423919678, 9.875531196594238, 7.61996603012085, 7.659715175628662, 7.381507396697998, 5.170966625213623, 9.862957954406738, 11.067841529846191, 10.884659767150879, 10.006806373596191, 7.379695415496826, 7.626102447509766, 6.254439353942871, 6.871495246887207, 6.782732963562012, 11.948119163513184, 2.754150629043579, 2.403101682662964, 2.3643953800201416, 9.1394624710083, 7.127831935882568, 2.389936685562134, 2.361447811126709, 9.19765853881836, 2.9692318439483643, 2.4087107181549072, 2.649418354034424, 12.030714988708496, 6.862973213195801, 9.404337882995605, 8.97934341430664, 7.446565628051758, 9.978652954101562, 9.62517261505127, 7.476051330566406, 6.645574569702148, 3.0163700580596924, 5.871785640716553, 9.833637237548828, 8.563009262084961, 9.251452445983887, 5.817088603973389, 7.2180986404418945, 8.756256103515625, 2.7365355491638184, 9.47100830078125, 9.82169246673584, 7.306219100952148, 9.258718490600586, 7.190398216247559, 3.0635650157928467, 2.5127615928649902, 6.678033351898193, 9.477049827575684, 2.584796905517578, 7.881972312927246, 6.188037872314453, 6.459928035736084, 1.5980461835861206, 2.4132208824157715, 2.40619158744812, 9.795869827270508, 8.1179780960083, 3.042588949203491, 2.122643232345581, 9.286913871765137, 5.9873151779174805, 10.569713592529297, 2.639465093612671, 3.0859241485595703, 10.74785327911377, 2.848565101623535, 9.143128395080566, 1.7129565477371216, 9.674629211425781, 9.600852966308594, 7.428683757781982, 7.215310573577881, 2.352642774581909, 8.156386375427246, 6.31624698638916, 6.308323383331299, 7.198614597320557, 9.11773681640625, 6.371985912322998, 8.630433082580566, 6.474409103393555, 8.30809497833252, 11.58408260345459, 7.424022674560547, 7.611422061920166, 9.443451881408691, 1.6258467435836792, 3.3513035774230957, 8.076887130737305, 7.512521743774414, 8.1552734375, 10.624168395996094, 9.75213623046875, 10.86233901977539, 11.627673149108887, 6.466385364532471, 2.310887575149536, 8.40904426574707, 7.688759803771973, 8.588658332824707, 11.597376823425293, 2.833188772201538, 2.2942023277282715, 9.73444652557373, 8.24785327911377, 3.0218327045440674, 10.090213775634766, 9.303385734558105, 7.031643867492676, 10.255973815917969, 7.624868392944336, 7.159170627593994, 11.614872932434082, 6.333006381988525, 2.442711591720581, 6.1491193771362305, 10.899240493774414, 8.64599895477295, 9.209880828857422, 11.121593475341797, 8.236098289489746, 2.4548087120056152, 3.004244565963745, 7.55226469039917, 10.949593544006348, 3.516258955001831, 6.1277852058410645, 2.478285789489746, 7.328874111175537, 8.344293594360352, 6.964445114135742, 11.64116382598877, 2.887277841567993, 9.113236427307129, 3.359854221343994, 3.0897278785705566, 6.923182010650635, 2.696568727493286, 8.077282905578613, 11.3007173538208, 9.226186752319336, 3.05659556388855, 10.4014310836792, 3.1626579761505127, 11.20267105102539, 6.285851955413818, 8.266444206237793, 2.997504711151123, 9.91745662689209, 7.231898784637451, 6.444893836975098, 6.661749839782715, 2.5045056343078613, 6.68222713470459, 3.070435047149658, 2.199122667312622, 3.479595899581909, 10.7388334274292, 10.500301361083984, 12.082356452941895, 2.468398332595825, 7.316343307495117, 2.526139497756958, 9.195164680480957, 7.537474632263184, 9.212800979614258, 7.676942348480225, 3.5012168884277344, 9.293350219726562, 2.494147777557373, 2.1378371715545654, 8.833093643188477, 7.236012935638428, 8.023663520812988, 8.297351837158203, 5.937429428100586, 7.349606037139893, 10.71787166595459, 2.4969229698181152, 7.559881210327148, 10.626935958862305, 9.561561584472656, 7.724524974822998, 1.4755157232284546, 8.244772911071777, 7.329375743865967, 6.978000640869141, 1.48383629322052, 9.21711254119873, 7.040159225463867, 2.9298300743103027, 8.520041465759277, 11.596267700195312, 12.044795989990234, 3.453730583190918, 11.178730964660645, 8.071667671203613, 3.1653451919555664, 8.384839057922363, 3.0003175735473633, 9.806314468383789, 2.626967430114746, 7.377197265625, 8.462590217590332, 7.198730945587158, 6.407333850860596, 8.087451934814453, 9.37452220916748, 10.513306617736816, 7.7132248878479, 6.904571533203125, 6.772199630737305, 9.093344688415527, 11.704986572265625, 7.322977542877197, 6.034151077270508, 2.182203769683838, 11.094588279724121, 1.9033195972442627, 9.201781272888184, 2.2462339401245117, 2.3141672611236572, 8.495305061340332, 9.822598457336426, 2.5172884464263916, 6.115798473358154, 10.621501922607422, 11.054285049438477, 6.916889190673828, 8.737496376037598, 12.006040573120117, 9.62519359588623, 9.29192066192627, 6.347824573516846, 9.493247985839844, 7.360950469970703, 6.5625128746032715, 1.856632113456726, 2.3818790912628174, 8.326857566833496, 8.433157920837402, 1.8336914777755737, 9.210027694702148, 6.068610191345215, 10.01082706451416, 2.5612196922302246, 2.1305012702941895, 7.035396099090576, 3.217860698699951, 8.983600616455078, 8.728838920593262, 10.007631301879883, 6.1725664138793945, 10.525543212890625, 9.11957836151123, 3.3949925899505615, 2.5325589179992676, 9.554570198059082, 9.990551948547363, 7.444915294647217, 6.4275946617126465, 10.540491104125977, 11.745841979980469, 7.642643451690674, 10.654952049255371, 1.667557716369629, 2.1257503032684326, 6.72077751159668, 9.553305625915527, 2.4566965103149414, 8.29554271697998, 2.7016611099243164, 10.409440994262695, 7.650452136993408], \"yaxis\": \"y\"}],                        {\"coloraxis\": {\"colorbar\": {\"title\": {\"text\": \"Anomaly\"}}, \"colorscale\": [[0.0, \"#0d0887\"], [0.1111111111111111, \"#46039f\"], [0.2222222222222222, \"#7201a8\"], [0.3333333333333333, \"#9c179e\"], [0.4444444444444444, \"#bd3786\"], [0.5555555555555556, \"#d8576b\"], [0.6666666666666666, \"#ed7953\"], [0.7777777777777778, \"#fb9f3a\"], [0.8888888888888888, \"#fdca26\"], [1.0, \"#f0f921\"]]}, \"height\": 800, \"legend\": {\"tracegroupgap\": 0}, \"template\": {\"data\": {\"bar\": [{\"error_x\": {\"color\": \"#2a3f5f\"}, \"error_y\": {\"color\": \"#2a3f5f\"}, \"marker\": {\"line\": {\"color\": \"#E5ECF6\", \"width\": 0.5}}, \"type\": \"bar\"}], \"barpolar\": [{\"marker\": {\"line\": {\"color\": \"#E5ECF6\", \"width\": 0.5}}, \"type\": \"barpolar\"}], \"carpet\": [{\"aaxis\": {\"endlinecolor\": \"#2a3f5f\", \"gridcolor\": \"white\", \"linecolor\": \"white\", \"minorgridcolor\": \"white\", \"startlinecolor\": \"#2a3f5f\"}, \"baxis\": {\"endlinecolor\": \"#2a3f5f\", \"gridcolor\": \"white\", \"linecolor\": \"white\", \"minorgridcolor\": \"white\", \"startlinecolor\": \"#2a3f5f\"}, \"type\": \"carpet\"}], \"choropleth\": [{\"colorbar\": {\"outlinewidth\": 0, \"ticks\": \"\"}, \"type\": \"choropleth\"}], \"contour\": [{\"colorbar\": {\"outlinewidth\": 0, \"ticks\": \"\"}, \"colorscale\": [[0.0, \"#0d0887\"], [0.1111111111111111, \"#46039f\"], [0.2222222222222222, \"#7201a8\"], [0.3333333333333333, \"#9c179e\"], [0.4444444444444444, \"#bd3786\"], [0.5555555555555556, \"#d8576b\"], [0.6666666666666666, \"#ed7953\"], [0.7777777777777778, \"#fb9f3a\"], [0.8888888888888888, \"#fdca26\"], [1.0, \"#f0f921\"]], \"type\": \"contour\"}], \"contourcarpet\": [{\"colorbar\": {\"outlinewidth\": 0, \"ticks\": \"\"}, \"type\": \"contourcarpet\"}], \"heatmap\": [{\"colorbar\": {\"outlinewidth\": 0, \"ticks\": \"\"}, \"colorscale\": [[0.0, \"#0d0887\"], [0.1111111111111111, \"#46039f\"], [0.2222222222222222, \"#7201a8\"], [0.3333333333333333, \"#9c179e\"], [0.4444444444444444, \"#bd3786\"], [0.5555555555555556, \"#d8576b\"], [0.6666666666666666, \"#ed7953\"], [0.7777777777777778, \"#fb9f3a\"], [0.8888888888888888, \"#fdca26\"], [1.0, \"#f0f921\"]], \"type\": \"heatmap\"}], \"heatmapgl\": [{\"colorbar\": {\"outlinewidth\": 0, \"ticks\": \"\"}, \"colorscale\": [[0.0, \"#0d0887\"], [0.1111111111111111, \"#46039f\"], [0.2222222222222222, \"#7201a8\"], [0.3333333333333333, \"#9c179e\"], [0.4444444444444444, \"#bd3786\"], [0.5555555555555556, \"#d8576b\"], [0.6666666666666666, \"#ed7953\"], [0.7777777777777778, \"#fb9f3a\"], [0.8888888888888888, \"#fdca26\"], [1.0, \"#f0f921\"]], \"type\": \"heatmapgl\"}], \"histogram\": [{\"marker\": {\"colorbar\": {\"outlinewidth\": 0, \"ticks\": \"\"}}, \"type\": \"histogram\"}], \"histogram2d\": [{\"colorbar\": {\"outlinewidth\": 0, \"ticks\": \"\"}, \"colorscale\": [[0.0, \"#0d0887\"], [0.1111111111111111, \"#46039f\"], [0.2222222222222222, \"#7201a8\"], [0.3333333333333333, \"#9c179e\"], [0.4444444444444444, \"#bd3786\"], [0.5555555555555556, \"#d8576b\"], [0.6666666666666666, \"#ed7953\"], [0.7777777777777778, \"#fb9f3a\"], [0.8888888888888888, \"#fdca26\"], [1.0, \"#f0f921\"]], \"type\": \"histogram2d\"}], \"histogram2dcontour\": [{\"colorbar\": {\"outlinewidth\": 0, \"ticks\": \"\"}, \"colorscale\": [[0.0, \"#0d0887\"], [0.1111111111111111, \"#46039f\"], [0.2222222222222222, \"#7201a8\"], [0.3333333333333333, \"#9c179e\"], [0.4444444444444444, \"#bd3786\"], [0.5555555555555556, \"#d8576b\"], [0.6666666666666666, \"#ed7953\"], [0.7777777777777778, \"#fb9f3a\"], [0.8888888888888888, \"#fdca26\"], [1.0, \"#f0f921\"]], \"type\": \"histogram2dcontour\"}], \"mesh3d\": [{\"colorbar\": {\"outlinewidth\": 0, \"ticks\": \"\"}, \"type\": \"mesh3d\"}], \"parcoords\": [{\"line\": {\"colorbar\": {\"outlinewidth\": 0, \"ticks\": \"\"}}, \"type\": \"parcoords\"}], \"pie\": [{\"automargin\": true, \"type\": \"pie\"}], \"scatter\": [{\"marker\": {\"colorbar\": {\"outlinewidth\": 0, \"ticks\": \"\"}}, \"type\": \"scatter\"}], \"scatter3d\": [{\"line\": {\"colorbar\": {\"outlinewidth\": 0, \"ticks\": \"\"}}, \"marker\": {\"colorbar\": {\"outlinewidth\": 0, \"ticks\": \"\"}}, \"type\": \"scatter3d\"}], \"scattercarpet\": [{\"marker\": {\"colorbar\": {\"outlinewidth\": 0, \"ticks\": \"\"}}, \"type\": \"scattercarpet\"}], \"scattergeo\": [{\"marker\": {\"colorbar\": {\"outlinewidth\": 0, \"ticks\": \"\"}}, \"type\": \"scattergeo\"}], \"scattergl\": [{\"marker\": {\"colorbar\": {\"outlinewidth\": 0, \"ticks\": \"\"}}, \"type\": \"scattergl\"}], \"scattermapbox\": [{\"marker\": {\"colorbar\": {\"outlinewidth\": 0, \"ticks\": \"\"}}, \"type\": \"scattermapbox\"}], \"scatterpolar\": [{\"marker\": {\"colorbar\": {\"outlinewidth\": 0, \"ticks\": \"\"}}, \"type\": \"scatterpolar\"}], \"scatterpolargl\": [{\"marker\": {\"colorbar\": {\"outlinewidth\": 0, \"ticks\": \"\"}}, \"type\": \"scatterpolargl\"}], \"scatterternary\": [{\"marker\": {\"colorbar\": {\"outlinewidth\": 0, \"ticks\": \"\"}}, \"type\": \"scatterternary\"}], \"surface\": [{\"colorbar\": {\"outlinewidth\": 0, \"ticks\": \"\"}, \"colorscale\": [[0.0, \"#0d0887\"], [0.1111111111111111, \"#46039f\"], [0.2222222222222222, \"#7201a8\"], [0.3333333333333333, \"#9c179e\"], [0.4444444444444444, \"#bd3786\"], [0.5555555555555556, \"#d8576b\"], [0.6666666666666666, \"#ed7953\"], [0.7777777777777778, \"#fb9f3a\"], [0.8888888888888888, \"#fdca26\"], [1.0, \"#f0f921\"]], \"type\": \"surface\"}], \"table\": [{\"cells\": {\"fill\": {\"color\": \"#EBF0F8\"}, \"line\": {\"color\": \"white\"}}, \"header\": {\"fill\": {\"color\": \"#C8D4E3\"}, \"line\": {\"color\": \"white\"}}, \"type\": \"table\"}]}, \"layout\": {\"annotationdefaults\": {\"arrowcolor\": \"#2a3f5f\", \"arrowhead\": 0, \"arrowwidth\": 1}, \"autotypenumbers\": \"strict\", \"coloraxis\": {\"colorbar\": {\"outlinewidth\": 0, \"ticks\": \"\"}}, \"colorscale\": {\"diverging\": [[0, \"#8e0152\"], [0.1, \"#c51b7d\"], [0.2, \"#de77ae\"], [0.3, \"#f1b6da\"], [0.4, \"#fde0ef\"], [0.5, \"#f7f7f7\"], [0.6, \"#e6f5d0\"], [0.7, \"#b8e186\"], [0.8, \"#7fbc41\"], [0.9, \"#4d9221\"], [1, \"#276419\"]], \"sequential\": [[0.0, \"#0d0887\"], [0.1111111111111111, \"#46039f\"], [0.2222222222222222, \"#7201a8\"], [0.3333333333333333, \"#9c179e\"], [0.4444444444444444, \"#bd3786\"], [0.5555555555555556, \"#d8576b\"], [0.6666666666666666, \"#ed7953\"], [0.7777777777777778, \"#fb9f3a\"], [0.8888888888888888, \"#fdca26\"], [1.0, \"#f0f921\"]], \"sequentialminus\": [[0.0, \"#0d0887\"], [0.1111111111111111, \"#46039f\"], [0.2222222222222222, \"#7201a8\"], [0.3333333333333333, \"#9c179e\"], [0.4444444444444444, \"#bd3786\"], [0.5555555555555556, \"#d8576b\"], [0.6666666666666666, \"#ed7953\"], [0.7777777777777778, \"#fb9f3a\"], [0.8888888888888888, \"#fdca26\"], [1.0, \"#f0f921\"]]}, \"colorway\": [\"#636efa\", \"#EF553B\", \"#00cc96\", \"#ab63fa\", \"#FFA15A\", \"#19d3f3\", \"#FF6692\", \"#B6E880\", \"#FF97FF\", \"#FECB52\"], \"font\": {\"color\": \"#2a3f5f\"}, \"geo\": {\"bgcolor\": \"white\", \"lakecolor\": \"white\", \"landcolor\": \"#E5ECF6\", \"showlakes\": true, \"showland\": true, \"subunitcolor\": \"white\"}, \"hoverlabel\": {\"align\": \"left\"}, \"hovermode\": \"closest\", \"mapbox\": {\"style\": \"light\"}, \"paper_bgcolor\": \"white\", \"plot_bgcolor\": \"#E5ECF6\", \"polar\": {\"angularaxis\": {\"gridcolor\": \"white\", \"linecolor\": \"white\", \"ticks\": \"\"}, \"bgcolor\": \"#E5ECF6\", \"radialaxis\": {\"gridcolor\": \"white\", \"linecolor\": \"white\", \"ticks\": \"\"}}, \"scene\": {\"xaxis\": {\"backgroundcolor\": \"#E5ECF6\", \"gridcolor\": \"white\", \"gridwidth\": 2, \"linecolor\": \"white\", \"showbackground\": true, \"ticks\": \"\", \"zerolinecolor\": \"white\"}, \"yaxis\": {\"backgroundcolor\": \"#E5ECF6\", \"gridcolor\": \"white\", \"gridwidth\": 2, \"linecolor\": \"white\", \"showbackground\": true, \"ticks\": \"\", \"zerolinecolor\": \"white\"}, \"zaxis\": {\"backgroundcolor\": \"#E5ECF6\", \"gridcolor\": \"white\", \"gridwidth\": 2, \"linecolor\": \"white\", \"showbackground\": true, \"ticks\": \"\", \"zerolinecolor\": \"white\"}}, \"shapedefaults\": {\"line\": {\"color\": \"#2a3f5f\"}}, \"ternary\": {\"aaxis\": {\"gridcolor\": \"white\", \"linecolor\": \"white\", \"ticks\": \"\"}, \"baxis\": {\"gridcolor\": \"white\", \"linecolor\": \"white\", \"ticks\": \"\"}, \"bgcolor\": \"#E5ECF6\", \"caxis\": {\"gridcolor\": \"white\", \"linecolor\": \"white\", \"ticks\": \"\"}}, \"title\": {\"x\": 0.05}, \"xaxis\": {\"automargin\": true, \"gridcolor\": \"white\", \"linecolor\": \"white\", \"ticks\": \"\", \"title\": {\"standoff\": 15}, \"zerolinecolor\": \"white\", \"zerolinewidth\": 2}, \"yaxis\": {\"automargin\": true, \"gridcolor\": \"white\", \"linecolor\": \"white\", \"ticks\": \"\", \"title\": {\"standoff\": 15}, \"zerolinecolor\": \"white\", \"zerolinewidth\": 2}}}, \"title\": {\"text\": \"uMAP Plot for Outliers\"}, \"width\": 900, \"xaxis\": {\"anchor\": \"y\", \"domain\": [0.0, 1.0], \"title\": {\"text\": \"0\"}}, \"yaxis\": {\"anchor\": \"x\", \"domain\": [0.0, 1.0], \"title\": {\"text\": \"1\"}}},                        {\"responsive\": true}                    ).then(function(){\n",
       "                            \n",
       "var gd = document.getElementById('f7925bdc-b9d3-4fb5-97c8-f4fc276170a9');\n",
       "var x = new MutationObserver(function (mutations, observer) {{\n",
       "        var display = window.getComputedStyle(gd).display;\n",
       "        if (!display || display === 'none') {{\n",
       "            console.log([gd, 'removed!']);\n",
       "            Plotly.purge(gd);\n",
       "            observer.disconnect();\n",
       "        }}\n",
       "}});\n",
       "\n",
       "// Listen for the removal of the full notebook cells\n",
       "var notebookContainer = gd.closest('#notebook-container');\n",
       "if (notebookContainer) {{\n",
       "    x.observe(notebookContainer, {childList: true});\n",
       "}}\n",
       "\n",
       "// Listen for the clearing of the current output cell\n",
       "var outputEl = gd.closest('.output');\n",
       "if (outputEl) {{\n",
       "    x.observe(outputEl, {childList: true});\n",
       "}}\n",
       "\n",
       "                        })                };                });            </script>        </div>"
      ]
     },
     "metadata": {},
     "output_type": "display_data"
    }
   ],
   "source": [
    "plot_model(iforest, plot='umap')"
   ]
  },
  {
   "cell_type": "code",
   "execution_count": 38,
   "metadata": {},
   "outputs": [
    {
     "data": {
      "application/vnd.plotly.v1+json": {
       "config": {
        "plotlyServerURL": "https://plot.ly"
       },
       "data": [
        {
         "customdata": [
          [
           0.263995357
          ],
          [
           0.546092303
          ],
          [
           0.336714104
          ],
          [
           0.092107835
          ],
          [
           0.325261175
          ],
          [
           0.212464853
          ],
          [
           0.258565714
          ],
          [
           0.869236755
          ],
          [
           0.197077957
          ],
          [
           0.292984504
          ],
          [
           0.82178316
          ],
          [
           0.796622959
          ],
          [
           0.045577011
          ],
          [
           0.613660351
          ],
          [
           0.950744566
          ],
          [
           0.336346337
          ],
          [
           0.034440667
          ],
          [
           0.741544275
          ],
          [
           0.18443265
          ],
          [
           0.664514943
          ],
          [
           0.162824858
          ],
          [
           0.729838445
          ],
          [
           0.62837389
          ],
          [
           0.057883661
          ],
          [
           0.445534827
          ],
          [
           0.80183695
          ],
          [
           0.27709612
          ],
          [
           0.228634015
          ],
          [
           0.834860657
          ],
          [
           0.669766511
          ],
          [
           0.532527349
          ],
          [
           0.170459071
          ],
          [
           0.510288468
          ],
          [
           0.977561989
          ],
          [
           0.249775993
          ],
          [
           0.975500682
          ],
          [
           0.613701727
          ],
          [
           0.167420363
          ],
          [
           0.537472516
          ],
          [
           0.379899131
          ],
          [
           0.633897303
          ],
          [
           0.633960424
          ],
          [
           0.549974653
          ],
          [
           0.178172988
          ],
          [
           0.85563814
          ],
          [
           0.321796672
          ],
          [
           0.817490537
          ],
          [
           0.254879417
          ],
          [
           0.344140513
          ],
          [
           0.806145726
          ],
          [
           0.277081671
          ],
          [
           0.544328519
          ],
          [
           0.07708393
          ],
          [
           0.273081458
          ],
          [
           0.390877336
          ],
          [
           0.349621385
          ],
          [
           0.214549744
          ],
          [
           0.206075222
          ],
          [
           0.86461997
          ],
          [
           0.981708854
          ],
          [
           0.334829646
          ],
          [
           0.648387061
          ],
          [
           0.093643561
          ],
          [
           0.837802698
          ],
          [
           0.760343967
          ],
          [
           0.291404174
          ],
          [
           0.3413454
          ],
          [
           0.761112484
          ],
          [
           0.541899775
          ],
          [
           0.684176639
          ],
          [
           0.983535597
          ],
          [
           0.52081245
          ],
          [
           0.328227724
          ],
          [
           0.097157938
          ],
          [
           0.876088593
          ],
          [
           0.870214512
          ],
          [
           0.656086992
          ],
          [
           0.306791514
          ],
          [
           0.48126734
          ],
          [
           0.259559174
          ],
          [
           0.326123655
          ],
          [
           0.930568042
          ],
          [
           0.6583894
          ],
          [
           0.689992335
          ],
          [
           0.315781109
          ],
          [
           0.566905093
          ],
          [
           0.637526619
          ],
          [
           0.687540723
          ],
          [
           0.324300602
          ],
          [
           0.592704906
          ],
          [
           0.740253126
          ],
          [
           0.594032877
          ],
          [
           0.596452977
          ],
          [
           0.277680817
          ],
          [
           0.258329663
          ],
          [
           0.142460864
          ],
          [
           0.435533461
          ],
          [
           0.702499044
          ],
          [
           0.58897535
          ],
          [
           0.653304374
          ],
          [
           0.336968524
          ],
          [
           0.631244736
          ],
          [
           0.73530076
          ],
          [
           0.050390366
          ],
          [
           0.064264924
          ],
          [
           0.665359476
          ],
          [
           0.917835245
          ],
          [
           0.44651012
          ],
          [
           0.661938199
          ],
          [
           0.439359853
          ],
          [
           0.687572404
          ],
          [
           0.363462248
          ],
          [
           0.654262182
          ],
          [
           0.578553536
          ],
          [
           0.065927945
          ],
          [
           0.550148559
          ],
          [
           0.139182814
          ],
          [
           0.080004635
          ],
          [
           0.278228358
          ],
          [
           0.560124266
          ],
          [
           0.53639864
          ],
          [
           0.426531904
          ],
          [
           0.789109796
          ],
          [
           0.742900474
          ],
          [
           0.901692589
          ],
          [
           0.650337401
          ],
          [
           0.114057311
          ],
          [
           0.260812592
          ],
          [
           0.43991232
          ],
          [
           0.964409284
          ],
          [
           0.184401415
          ],
          [
           0.345145446
          ],
          [
           0.175894581
          ],
          [
           0.312514453
          ],
          [
           0.674131879
          ],
          [
           0.32825045
          ],
          [
           0.598231057
          ],
          [
           0.092598817
          ],
          [
           0.497916521
          ],
          [
           0.419776521
          ],
          [
           0.3121767
          ],
          [
           0.937857107
          ],
          [
           0.049030963
          ],
          [
           0.476104526
          ],
          [
           0.447397526
          ],
          [
           0.295806058
          ],
          [
           0.737363977
          ],
          [
           0.625896253
          ],
          [
           0.408813429
          ],
          [
           0.437511156
          ],
          [
           0.691351375
          ],
          [
           0.935555275
          ],
          [
           0.437846654
          ],
          [
           0.072217715
          ],
          [
           0.67636067
          ],
          [
           0.468883999
          ],
          [
           0.543820644
          ],
          [
           0.655522647
          ],
          [
           0.693528924
          ],
          [
           0.108878312
          ],
          [
           0.285463743
          ],
          [
           0
          ],
          [
           0.706495497
          ],
          [
           0.273530633
          ],
          [
           0.292320271
          ],
          [
           0.673984307
          ],
          [
           0.126121828
          ],
          [
           0.946707459
          ],
          [
           0.936338898
          ],
          [
           0.853755364
          ],
          [
           0.706071361
          ],
          [
           0.693682186
          ],
          [
           0.508527882
          ],
          [
           0.347170389
          ],
          [
           0.704154263
          ],
          [
           0.658730088
          ],
          [
           0.155841557
          ],
          [
           0.311085435
          ],
          [
           0.281135347
          ],
          [
           0.094587802
          ],
          [
           0.683260954
          ],
          [
           0.907729251
          ],
          [
           0.291512674
          ],
          [
           0.752734459
          ],
          [
           0.93482964
          ],
          [
           0.071413953
          ],
          [
           0.594896327
          ],
          [
           0.404672015
          ],
          [
           0.13837621
          ],
          [
           0.747338468
          ],
          [
           0.530882486
          ],
          [
           0.282649594
          ],
          [
           0.699335734
          ],
          [
           0.056111251
          ],
          [
           0.855234998
          ],
          [
           0.077895127
          ],
          [
           0.891649583
          ],
          [
           0.386742279
          ],
          [
           0.27113158
          ],
          [
           0.958888961
          ],
          [
           0.085120869
          ],
          [
           0.526902249
          ],
          [
           0.066577785
          ],
          [
           0.841506738
          ],
          [
           0.255342095
          ],
          [
           0.060545771
          ],
          [
           0.073385869
          ],
          [
           0.187493723
          ],
          [
           0.858365688
          ],
          [
           0.090640352
          ],
          [
           0.709725227
          ],
          [
           0.631300647
          ],
          [
           0.247504474
          ],
          [
           0.822843584
          ],
          [
           0.373476759
          ],
          [
           0.625538582
          ],
          [
           0.292951715
          ],
          [
           0.299730324
          ],
          [
           0.25121407
          ],
          [
           0.344480551
          ],
          [
           0.293064767
          ],
          [
           0.762803224
          ],
          [
           0.738470804
          ],
          [
           0.674883265
          ],
          [
           0.719151612
          ],
          [
           0.130980216
          ],
          [
           0.511328036
          ],
          [
           0.04492903
          ],
          [
           0.560914449
          ],
          [
           0.744040641
          ],
          [
           0.266961634
          ],
          [
           0.644231853
          ],
          [
           0.038113352
          ],
          [
           0.057155299
          ],
          [
           0.341392461
          ],
          [
           0.720463632
          ],
          [
           0.402878236
          ],
          [
           0.635148967
          ],
          [
           0.320729467
          ],
          [
           0.091209694
          ],
          [
           0.23414609
          ],
          [
           0.890221131
          ],
          [
           0.602170884
          ],
          [
           0.633652055
          ],
          [
           0.806240837
          ],
          [
           0.739731184
          ],
          [
           0.465231269
          ],
          [
           0.7321109
          ],
          [
           0.373874305
          ],
          [
           0.501587947
          ],
          [
           0.115383158
          ],
          [
           0.731946604
          ],
          [
           0.418298728
          ],
          [
           0.062259591
          ],
          [
           0.391496379
          ],
          [
           0.35984929
          ],
          [
           0.245235627
          ],
          [
           0.610028339
          ],
          [
           0.435403602
          ],
          [
           0.434309675
          ],
          [
           0.523763344
          ],
          [
           0.171187866
          ],
          [
           0.187734303
          ],
          [
           0.945014638
          ],
          [
           0.027851097
          ],
          [
           0.68445706
          ],
          [
           0.178014532
          ],
          [
           0.643427879
          ],
          [
           0.59588355
          ],
          [
           0.372361682
          ],
          [
           0.586103584
          ],
          [
           0.271658852
          ],
          [
           0.59951107
          ],
          [
           0.468363088
          ],
          [
           0.314515565
          ],
          [
           0.21893726
          ],
          [
           0.254716562
          ],
          [
           0.25612815
          ],
          [
           0.602259755
          ],
          [
           0.134381075
          ],
          [
           0.513887424
          ],
          [
           0.624241636
          ],
          [
           0.160251854
          ],
          [
           0.580708108
          ],
          [
           0.270540486
          ],
          [
           0.832919932
          ],
          [
           0.93032134
          ],
          [
           0.719157884
          ],
          [
           0.886720033
          ],
          [
           0.098792281
          ],
          [
           0.787174286
          ],
          [
           0.365592376
          ],
          [
           0.719576193
          ],
          [
           0.8058956
          ],
          [
           0.755578334
          ],
          [
           0.526005909
          ],
          [
           0.68880424
          ],
          [
           0.221115312
          ],
          [
           0.739369477
          ],
          [
           0.408440236
          ],
          [
           0.348926542
          ],
          [
           0.433713763
          ],
          [
           0.596496607
          ],
          [
           0.6942953
          ],
          [
           0.709030966
          ],
          [
           0.867652984
          ],
          [
           0.89332545
          ],
          [
           0.746020922
          ],
          [
           0.538284443
          ],
          [
           0.892219314
          ],
          [
           0.935175765
          ],
          [
           0.260527707
          ],
          [
           0.956780449
          ],
          [
           0.204932484
          ],
          [
           0.687733351
          ],
          [
           0.329063619
          ],
          [
           0.632149831
          ],
          [
           0.463744506
          ],
          [
           0.698859621
          ],
          [
           0.385446564
          ],
          [
           0.479975377
          ],
          [
           0.732279108
          ],
          [
           0.3813543
          ],
          [
           0.459326013
          ],
          [
           0.257401434
          ],
          [
           0.665014804
          ],
          [
           0.103399542
          ],
          [
           0.425284413
          ],
          [
           0.943529051
          ],
          [
           0.594750236
          ],
          [
           0.543776817
          ],
          [
           0.18203988
          ],
          [
           0.235842084
          ],
          [
           0.585984497
          ],
          [
           0.762013168
          ],
          [
           0.684982907
          ],
          [
           0.676936933
          ],
          [
           0.290184964
          ],
          [
           0.481068222
          ],
          [
           0.492766033
          ],
          [
           0.221856234
          ],
          [
           0.053875998
          ],
          [
           0.082751144
          ],
          [
           0.385366225
          ],
          [
           0.702513961
          ],
          [
           0.91553156
          ],
          [
           0.082087436
          ],
          [
           0.251280378
          ],
          [
           0.416721817
          ],
          [
           0.277032672
          ],
          [
           0.579539754
          ],
          [
           0.569363476
          ],
          [
           0.133399703
          ],
          [
           0.265045463
          ],
          [
           0.936571901
          ],
          [
           0.252618554
          ],
          [
           0.054033081
          ],
          [
           0.802481439
          ],
          [
           0.528197693
          ],
          [
           0.9515026
          ],
          [
           0.572121173
          ],
          [
           0.752938227
          ],
          [
           0.143857535
          ],
          [
           0.513484576
          ],
          [
           0.313322389
          ],
          [
           0.687797396
          ],
          [
           0.37705984
          ],
          [
           0.348226142
          ],
          [
           0.67763282
          ],
          [
           0.241387521
          ],
          [
           0.850650179
          ],
          [
           0.220348103
          ],
          [
           0.476445464
          ],
          [
           0.690324025
          ],
          [
           0.364695946
          ],
          [
           0.649249197
          ],
          [
           0.943701921
          ],
          [
           0.529645971
          ],
          [
           0.299097002
          ],
          [
           0.96696247
          ],
          [
           0.272005242
          ],
          [
           0.314161447
          ],
          [
           0.752020991
          ],
          [
           0.221882453
          ],
          [
           0.720332673
          ],
          [
           0.379204782
          ],
          [
           0.60168653
          ],
          [
           0.582932673
          ],
          [
           0.950809853
          ],
          [
           0.58830141
          ],
          [
           0.880887227
          ],
          [
           0.467857701
          ],
          [
           0.879902171
          ],
          [
           0.619844009
          ],
          [
           0.359002573
          ],
          [
           0.291511278
          ],
          [
           0.694157143
          ],
          [
           0.727960353
          ],
          [
           0.617703921
          ],
          [
           0.39581257
          ],
          [
           0.58317282
          ],
          [
           0.710332374
          ],
          [
           0.253753693
          ],
          [
           0.049412228
          ],
          [
           0.728378695
          ],
          [
           0.432432881
          ],
          [
           0.58612345
          ],
          [
           0.052342373
          ],
          [
           0.053483902
          ],
          [
           0.518729378
          ],
          [
           0.933040208
          ],
          [
           0.703554284
          ],
          [
           0.268989899
          ],
          [
           0.733006927
          ],
          [
           0.444352467
          ],
          [
           0.583394621
          ],
          [
           0.871172692
          ],
          [
           0.428767078
          ],
          [
           0.300460841
          ],
          [
           0.953329459
          ],
          [
           0.606443965
          ],
          [
           0.90986815
          ],
          [
           0.714896449
          ],
          [
           0.497349509
          ],
          [
           0.853097486
          ],
          [
           0.721804145
          ],
          [
           0.303467328
          ],
          [
           0.664485096
          ],
          [
           0.27978062
          ],
          [
           0.569481665
          ],
          [
           0.628628926
          ],
          [
           0.088368123
          ],
          [
           0.733567326
          ],
          [
           0.537436778
          ],
          [
           0.638593691
          ],
          [
           0.954726948
          ],
          [
           0.632202332
          ],
          [
           0.642134651
          ],
          [
           0.744653087
          ],
          [
           0.115714007
          ],
          [
           0.486250073
          ],
          [
           0.440356144
          ],
          [
           0.08272289
          ],
          [
           0.511591027
          ],
          [
           0.394627555
          ],
          [
           0.224394
          ],
          [
           0.626927584
          ],
          [
           0.290254057
          ],
          [
           0.779008053
          ],
          [
           0.86610579
          ],
          [
           0.873326081
          ],
          [
           0.49548916
          ],
          [
           0.594297695
          ],
          [
           0.918201584
          ],
          [
           0.577042754
          ],
          [
           0.019467671
          ],
          [
           0.670298282
          ],
          [
           0.546595316
          ],
          [
           0.591665146
          ],
          [
           0.42155819
          ],
          [
           0.685608559
          ],
          [
           0.340303024
          ],
          [
           0.675626741
          ],
          [
           0.319067345
          ],
          [
           0.388499664
          ],
          [
           0.706949589
          ],
          [
           0.559409515
          ],
          [
           0.687663508
          ],
          [
           0.708804554
          ],
          [
           0.681888094
          ],
          [
           0.422535109
          ],
          [
           0.320004605
          ],
          [
           0.658281368
          ],
          [
           0.634154867
          ],
          [
           0.777332009
          ],
          [
           0.812677205
          ],
          [
           0.074280797
          ],
          [
           0.39600217
          ],
          [
           0.054933913
          ],
          [
           0.825058925
          ],
          [
           0.382642009
          ],
          [
           0.868729818
          ],
          [
           0.588043346
          ],
          [
           0.891551577
          ],
          [
           0.10920046
          ],
          [
           0.647682781
          ],
          [
           0.724342512
          ],
          [
           0.070163044
          ],
          [
           0.280882054
          ],
          [
           0.039113261
          ],
          [
           0.579641592
          ],
          [
           0.639000922
          ],
          [
           0.281745925
          ],
          [
           0.647857744
          ],
          [
           0.647905797
          ],
          [
           0.875226264
          ],
          [
           0.567603305
          ],
          [
           0.262940591
          ],
          [
           0.268026042
          ],
          [
           0.40519133
          ],
          [
           0.479965451
          ],
          [
           0.33552403
          ],
          [
           0.777165379
          ],
          [
           0.425487963
          ],
          [
           0.237986115
          ],
          [
           0.142522971
          ],
          [
           0.724176488
          ],
          [
           0.234698933
          ],
          [
           0.078182281
          ],
          [
           0.855990155
          ],
          [
           0.270251765
          ],
          [
           0.435517841
          ],
          [
           0.762697513
          ],
          [
           0.464487258
          ],
          [
           0.396112685
          ],
          [
           0.376380921
          ],
          [
           0.294594677
          ],
          [
           0.694492121
          ],
          [
           0.622767949
          ],
          [
           0.847559722
          ],
          [
           0.301463054
          ],
          [
           0.912937812
          ],
          [
           0.500017182
          ],
          [
           0.902587935
          ],
          [
           0.304517943
          ],
          [
           0.299165673
          ],
          [
           0.092014087
          ],
          [
           0.488548917
          ],
          [
           0.664664437
          ],
          [
           0.265349549
          ],
          [
           0.723657021
          ],
          [
           0.149262385
          ],
          [
           0.04577339
          ],
          [
           0.69661064
          ],
          [
           0.42181486
          ],
          [
           0.733845785
          ],
          [
           0.418795386
          ],
          [
           0.677443529
          ],
          [
           0.261283603
          ],
          [
           0.268527767
          ],
          [
           0.544322236
          ],
          [
           0.431632036
          ],
          [
           0.981018141
          ],
          [
           0.214980724
          ],
          [
           0.394729993
          ],
          [
           0.122224944
          ],
          [
           0.297496875
          ],
          [
           0.374904431
          ],
          [
           0.68698771
          ],
          [
           0.388549207
          ],
          [
           0.039296071
          ],
          [
           0.73553424
          ],
          [
           0.379294893
          ],
          [
           0.732123386
          ],
          [
           0.339221439
          ],
          [
           0.659450594
          ],
          [
           0.054838642
          ],
          [
           0.640112102
          ],
          [
           0.307141704
          ],
          [
           0.396611907
          ],
          [
           0.420439161
          ],
          [
           0.241714974
          ],
          [
           0.065893153
          ],
          [
           0.910521937
          ],
          [
           0.697163103
          ],
          [
           0.072559853
          ],
          [
           0.81825094
          ],
          [
           0.311888815
          ],
          [
           0.961644609
          ],
          [
           0.816325524
          ],
          [
           0.14647302
          ],
          [
           0.548753945
          ],
          [
           0.946158087
          ],
          [
           0.293992717
          ],
          [
           0.331479643
          ],
          [
           0.906220031
          ],
          [
           0.525540416
          ],
          [
           0.83301411
          ],
          [
           0.514849806
          ],
          [
           0.574609024
          ],
          [
           0.468711853
          ],
          [
           0.71002775
          ],
          [
           0.645973276
          ],
          [
           0.229794416
          ],
          [
           0.551783393
          ],
          [
           0.055822991
          ],
          [
           0.331750941
          ],
          [
           0.715520198
          ],
          [
           0.583924357
          ],
          [
           0.306957691
          ],
          [
           0.791478237
          ],
          [
           0.164236639
          ],
          [
           0.065711219
          ],
          [
           0.948993132
          ],
          [
           0.080423835
          ],
          [
           0.052495426
          ],
          [
           0.566346135
          ],
          [
           0.3630266
          ],
          [
           0.605442195
          ],
          [
           0.630850584
          ],
          [
           0.065791238
          ],
          [
           0.286817071
          ],
          [
           0.685462839
          ],
          [
           0.260853706
          ],
          [
           0.659122429
          ],
          [
           0.443173922
          ],
          [
           0.602063986
          ],
          [
           0.060366911
          ],
          [
           0.781903153
          ],
          [
           0.514579807
          ],
          [
           0.483886213
          ],
          [
           0.600213807
          ],
          [
           0.497364052
          ],
          [
           0.411145245
          ],
          [
           0.116999171
          ],
          [
           0.341890141
          ],
          [
           0.746950848
          ],
          [
           0.396292746
          ],
          [
           0.622143843
          ],
          [
           0.335271141
          ],
          [
           0.140257137
          ],
          [
           0.081620681
          ],
          [
           0.069837569
          ],
          [
           0.468940008
          ],
          [
           0.990857417
          ],
          [
           0.896616832
          ],
          [
           0.255310561
          ],
          [
           0.224645267
          ],
          [
           0.01991825
          ],
          [
           0.296480415
          ],
          [
           0.155458996
          ],
          [
           0.577916714
          ],
          [
           0.956303031
          ],
          [
           0.813464394
          ],
          [
           0.529675785
          ],
          [
           0.287671353
          ],
          [
           0.48039136
          ],
          [
           0.281044822
          ],
          [
           0.633196521
          ],
          [
           0.093325377
          ],
          [
           0.284473981
          ],
          [
           0.052223775
          ],
          [
           0.051129385
          ],
          [
           0.967405608
          ],
          [
           0.040045728
          ],
          [
           0.908582921
          ],
          [
           0.662117416
          ],
          [
           0.424703209
          ],
          [
           0.72207806
          ],
          [
           0.666193327
          ],
          [
           0.509681253
          ],
          [
           0.751353621
          ],
          [
           0.279073124
          ],
          [
           0.074927
          ],
          [
           0.916359535
          ],
          [
           0.31040327
          ],
          [
           0.716604052
          ],
          [
           0.485587085
          ],
          [
           0.306075181
          ],
          [
           0.477558204
          ],
          [
           0.711923941
          ],
          [
           0.066348638
          ],
          [
           0.274539351
          ],
          [
           0.31082252
          ],
          [
           0.476073127
          ],
          [
           0.186795565
          ],
          [
           0.26654207
          ],
          [
           0.070231142
          ],
          [
           0.26951927
          ],
          [
           0.800004713
          ],
          [
           0.273633667
          ],
          [
           0.146479192
          ],
          [
           0.378318951
          ],
          [
           0.373849065
          ],
          [
           0.242170835
          ],
          [
           0.249796488
          ],
          [
           0.066591188
          ],
          [
           0.372956798
          ],
          [
           0.501812291
          ],
          [
           0.313097752
          ],
          [
           0.880202196
          ],
          [
           0.51981893
          ],
          [
           0.364138746
          ],
          [
           0.492682896
          ],
          [
           0.285732652
          ],
          [
           0.890114985
          ],
          [
           0.316419561
          ],
          [
           0.26866354
          ],
          [
           0.771975959
          ],
          [
           0.968888992
          ],
          [
           0.080334377
          ],
          [
           0.736828221
          ],
          [
           0.300558071
          ],
          [
           0.917950393
          ],
          [
           0.465815039
          ],
          [
           0.054036682
          ],
          [
           0.963150123
          ],
          [
           0.089653503
          ],
          [
           0.707693234
          ],
          [
           0.636416037
          ],
          [
           0.539521117
          ],
          [
           0.114757161
          ],
          [
           0.357312419
          ],
          [
           0.67639834
          ],
          [
           0.43482839
          ],
          [
           0.032326387
          ],
          [
           0.711365605
          ],
          [
           0.187486519
          ],
          [
           0.052789653
          ],
          [
           0.505863613
          ],
          [
           0.927431873
          ],
          [
           0.680984256
          ],
          [
           0.882822186
          ],
          [
           0.495705441
          ],
          [
           0.596240398
          ],
          [
           0.320610701
          ],
          [
           0.3413685
          ],
          [
           0.159681797
          ],
          [
           0.318133669
          ],
          [
           0.839301048
          ],
          [
           0.064359251
          ],
          [
           0.470216633
          ],
          [
           0.776252291
          ],
          [
           0.635843383
          ],
          [
           0.62510543
          ],
          [
           0.52959065
          ],
          [
           0.986900166
          ],
          [
           0.078585688
          ],
          [
           0.233284267
          ],
          [
           0.363330957
          ],
          [
           0.716716981
          ],
          [
           0.375889792
          ],
          [
           0.223316889
          ],
          [
           0.299343986
          ],
          [
           0.538595767
          ],
          [
           0.730297124
          ],
          [
           0.66033077
          ],
          [
           0.435296009
          ],
          [
           0.326494313
          ],
          [
           0.854402708
          ],
          [
           0.573493847
          ],
          [
           0.757786135
          ],
          [
           0.704743233
          ],
          [
           0.281575597
          ],
          [
           0.671968208
          ],
          [
           0.313726015
          ],
          [
           0.364338275
          ],
          [
           0.368216396
          ],
          [
           0.386295207
          ],
          [
           0.655971865
          ],
          [
           0.566025273
          ],
          [
           0.424999093
          ],
          [
           0.090110371
          ],
          [
           0.772350538
          ],
          [
           0.331047258
          ],
          [
           0.273716188
          ],
          [
           0.23877568
          ],
          [
           0.373079772
          ],
          [
           0.331185868
          ],
          [
           0.256134531
          ],
          [
           0.678373225
          ],
          [
           0.434638338
          ],
          [
           0.654668307
          ],
          [
           0.986681065
          ],
          [
           0.371520495
          ],
          [
           0.408359618
          ],
          [
           0.40932365
          ],
          [
           0.283412082
          ],
          [
           0.395246531
          ],
          [
           0.010984428
          ],
          [
           0.306013869
          ],
          [
           0.266194806
          ],
          [
           0.299318521
          ],
          [
           0.318293946
          ],
          [
           0.74282591
          ],
          [
           0.097664329
          ],
          [
           0.079666942
          ],
          [
           0.613258767
          ],
          [
           0.99443072
          ],
          [
           0.568835082
          ],
          [
           0.708034516
          ],
          [
           0.370592719
          ],
          [
           0.669867361
          ],
          [
           0.651295625
          ],
          [
           0.462531569
          ],
          [
           0.719625619
          ],
          [
           0.45377248
          ],
          [
           0.394863946
          ],
          [
           0.323974831
          ],
          [
           0.146454724
          ],
          [
           0.779067041
          ],
          [
           0.401828915
          ],
          [
           0.601479585
          ],
          [
           0.856423023
          ],
          [
           0.565242962
          ],
          [
           0.301225108
          ],
          [
           0.282108144
          ],
          [
           0.594378011
          ],
          [
           0.705312368
          ],
          [
           0.540869628
          ],
          [
           0.319249574
          ],
          [
           0.361766138
          ],
          [
           0.625000704
          ],
          [
           0.316287401
          ],
          [
           0.047239021
          ],
          [
           0.801182233
          ],
          [
           0.508474436
          ],
          [
           0.817893411
          ],
          [
           0.399235601
          ],
          [
           0.974051999
          ],
          [
           0.72241535
          ],
          [
           0.039564764
          ],
          [
           0.908684108
          ],
          [
           0.473010134
          ],
          [
           0.718049628
          ],
          [
           0.763479069
          ],
          [
           0.647596537
          ],
          [
           0.894997386
          ],
          [
           0.222825901
          ],
          [
           0.359012234
          ],
          [
           0.944910252
          ],
          [
           0.297877816
          ],
          [
           0.172517997
          ],
          [
           0.556586265
          ],
          [
           0.876481735
          ],
          [
           0.486677843
          ],
          [
           0.459496733
          ],
          [
           0.474126377
          ],
          [
           0.70101144
          ],
          [
           0.337597387
          ],
          [
           0.537578886
          ],
          [
           0.966992448
          ],
          [
           0.056849545
          ],
          [
           0.233249065
          ],
          [
           0.380054711
          ],
          [
           0.602929443
          ],
          [
           0.303847999
          ],
          [
           0.170194553
          ],
          [
           0.972168554
          ],
          [
           0.332168927
          ],
          [
           0.688728689
          ],
          [
           0.110773401
          ],
          [
           0.273352065
          ],
          [
           0.572939678
          ],
          [
           0.491457065
          ],
          [
           0.281389999
          ],
          [
           0.821697261
          ],
          [
           0.674977683
          ],
          [
           0.585134549
          ],
          [
           0.710596116
          ],
          [
           0.040488789
          ],
          [
           0.568054311
          ],
          [
           0.321752928
          ],
          [
           0.611850232
          ],
          [
           0.926096887
          ],
          [
           0.618347428
          ],
          [
           0.667629785
          ],
          [
           0.397733466
          ],
          [
           0.290875487
          ],
          [
           0.594375103
          ],
          [
           0.508255233
          ],
          [
           0.338571357
          ],
          [
           0.432302347
          ],
          [
           0.302221978
          ],
          [
           0.87619819
          ],
          [
           0.080204492
          ],
          [
           0.092333532
          ],
          [
           0.093656447
          ],
          [
           0.608452351
          ],
          [
           0.732654598
          ],
          [
           0.944158855
          ],
          [
           0.26742308
          ],
          [
           0.731124201
          ],
          [
           0.661308553
          ],
          [
           0.387766262
          ],
          [
           0.962585273
          ],
          [
           0.322067067
          ],
          [
           0.634081093
          ],
          [
           0.475345002
          ],
          [
           0.353558973
          ],
          [
           0.885936316
          ],
          [
           0.876798106
          ],
          [
           0.221581064
          ],
          [
           0.394362449
          ],
          [
           0.805035676
          ],
          [
           0.452898486
          ],
          [
           0.592520516
          ],
          [
           0.761026394
          ],
          [
           0.245049023
          ],
          [
           0.372139363
          ],
          [
           0.681054822
          ],
          [
           0.747143148
          ],
          [
           0.920739529
          ],
          [
           0.097207945
          ],
          [
           0.699302998
          ],
          [
           0.721647006
          ],
          [
           0.535356114
          ],
          [
           0.738293805
          ],
          [
           0.706467551
          ],
          [
           0.67395061
          ],
          [
           0.711212291
          ],
          [
           0.302558708
          ],
          [
           0.080097855
          ],
          [
           0.707010837
          ],
          [
           0.512248622
          ],
          [
           0.659627472
          ],
          [
           0.657559694
          ],
          [
           0.100645606
          ],
          [
           0.92665363
          ],
          [
           0.892879338
          ],
          [
           0.839157508
          ],
          [
           0.890959718
          ],
          [
           0.556754471
          ],
          [
           0.960361937
          ],
          [
           0.631037864
          ],
          [
           0.029838065
          ],
          [
           0.278843351
          ],
          [
           0.926157705
          ],
          [
           0.551504258
          ],
          [
           0.485942349
          ],
          [
           0.437234696
          ],
          [
           0.252318018
          ],
          [
           0.515466972
          ],
          [
           0.437252296
          ],
          [
           0.493724207
          ],
          [
           0.83324725
          ],
          [
           0.317521477
          ],
          [
           0.286234562
          ],
          [
           0.726833965
          ],
          [
           0.495667033
          ],
          [
           0.028645255
          ],
          [
           0.319671917
          ],
          [
           0.674344598
          ],
          [
           0.766037189
          ],
          [
           0.65456992
          ],
          [
           0.756514381
          ],
          [
           0.528253719
          ],
          [
           0.389719491
          ],
          [
           0.355087459
          ],
          [
           0.87015202
          ],
          [
           0.739083306
          ],
          [
           0.305761846
          ],
          [
           0.411587673
          ],
          [
           0.063633094
          ],
          [
           0.735409395
          ],
          [
           0.605916669
          ],
          [
           0.539395562
          ],
          [
           0.566183532
          ],
          [
           0.674795186
          ],
          [
           0.070993366
          ],
          [
           0.1252641
          ],
          [
           0.279601492
          ],
          [
           0.952174402
          ],
          [
           0.233806762
          ],
          [
           0.437247429
          ],
          [
           0.925423095
          ],
          [
           0.433498634
          ],
          [
           0.52517902
          ],
          [
           0.088435529
          ],
          [
           0.447677638
          ],
          [
           0.647000631
          ],
          [
           0.903603337
          ],
          [
           0.265790738
          ],
          [
           0.66419695
          ],
          [
           0.498120658
          ],
          [
           0.490188944
          ],
          [
           0.747084187
          ],
          [
           0.906783648
          ],
          [
           0.678770917
          ],
          [
           0.348599859
          ],
          [
           0.294839683
          ],
          [
           0.705691827
          ],
          [
           0.211917931
          ],
          [
           0.063201124
          ],
          [
           0.276699543
          ],
          [
           0.672459395
          ],
          [
           0.808205949
          ],
          [
           0.296538373
          ],
          [
           0.160126862
          ],
          [
           0.439385032
          ],
          [
           0.555951416
          ],
          [
           0.386240112
          ],
          [
           0.158689619
          ],
          [
           0.214499855
          ],
          [
           0.299579429
          ],
          [
           0.569161656
          ],
          [
           0.488614799
          ],
          [
           0.878295021
          ],
          [
           0.649380949
          ],
          [
           0.465713341
          ],
          [
           0.16813774
          ],
          [
           0.87529545
          ],
          [
           0.841132341
          ],
          [
           0.33292081
          ],
          [
           0.513047859
          ],
          [
           0.305055078
          ],
          [
           0.812626991
          ],
          [
           0.25096706
          ],
          [
           0.502435578
          ],
          [
           0.457990741
          ]
         ],
         "hovertemplate": "0=%{x}<br>1=%{y}<br>2=%{z}<br>Feature=%{customdata[0]}<br>Anomaly=%{marker.color}<extra></extra>",
         "legendgroup": "",
         "marker": {
          "color": [
           0,
           0,
           1,
           1,
           0,
           0,
           0,
           1,
           1,
           0,
           0,
           1,
           0,
           0,
           1,
           0,
           0,
           1,
           1,
           0,
           1,
           0,
           0,
           1,
           1,
           1,
           0,
           0,
           1,
           1,
           0,
           0,
           0,
           1,
           1,
           1,
           0,
           0,
           0,
           0,
           0,
           0,
           0,
           1,
           0,
           1,
           0,
           0,
           0,
           0,
           0,
           1,
           0,
           1,
           0,
           1,
           0,
           0,
           0,
           1,
           0,
           0,
           1,
           1,
           0,
           0,
           1,
           0,
           0,
           1,
           0,
           0,
           0,
           0,
           0,
           0,
           0,
           0,
           0,
           0,
           0,
           0,
           0,
           0,
           0,
           0,
           0,
           0,
           0,
           0,
           0,
           0,
           0,
           0,
           0,
           0,
           0,
           0,
           0,
           0,
           0,
           0,
           0,
           0,
           0,
           0,
           0,
           0,
           0,
           0,
           0,
           0,
           0,
           0,
           0,
           0,
           0,
           0,
           0,
           0,
           0,
           0,
           0,
           0,
           0,
           0,
           0,
           0,
           0,
           0,
           1,
           0,
           0,
           0,
           0,
           0,
           0,
           0,
           0,
           0,
           0,
           0,
           0,
           0,
           0,
           0,
           0,
           0,
           0,
           0,
           0,
           0,
           0,
           0,
           0,
           0,
           0,
           0,
           0,
           0,
           0,
           0,
           0,
           0,
           0,
           0,
           0,
           0,
           0,
           0,
           0,
           0,
           0,
           0,
           0,
           0,
           0,
           0,
           0,
           0,
           0,
           0,
           0,
           0,
           0,
           0,
           0,
           0,
           0,
           0,
           0,
           0,
           0,
           0,
           0,
           0,
           0,
           0,
           1,
           0,
           0,
           0,
           0,
           0,
           0,
           0,
           0,
           0,
           0,
           0,
           0,
           0,
           0,
           0,
           0,
           0,
           0,
           0,
           0,
           0,
           0,
           0,
           0,
           0,
           0,
           0,
           0,
           0,
           0,
           0,
           0,
           0,
           0,
           0,
           0,
           0,
           0,
           0,
           0,
           0,
           0,
           0,
           0,
           0,
           0,
           0,
           0,
           0,
           0,
           0,
           0,
           0,
           0,
           0,
           0,
           0,
           0,
           0,
           0,
           0,
           0,
           0,
           0,
           0,
           0,
           0,
           0,
           0,
           0,
           0,
           0,
           0,
           0,
           0,
           0,
           0,
           0,
           0,
           0,
           0,
           0,
           0,
           0,
           0,
           0,
           0,
           0,
           0,
           0,
           0,
           0,
           0,
           0,
           0,
           0,
           0,
           0,
           0,
           0,
           0,
           0,
           0,
           0,
           0,
           0,
           0,
           0,
           0,
           0,
           0,
           0,
           0,
           0,
           0,
           0,
           0,
           0,
           0,
           0,
           0,
           0,
           0,
           0,
           0,
           0,
           0,
           0,
           0,
           0,
           0,
           0,
           0,
           0,
           0,
           0,
           0,
           0,
           0,
           0,
           0,
           0,
           0,
           0,
           0,
           0,
           0,
           0,
           0,
           0,
           0,
           0,
           0,
           0,
           0,
           0,
           0,
           0,
           0,
           0,
           0,
           0,
           0,
           0,
           0,
           0,
           0,
           0,
           0,
           0,
           0,
           0,
           0,
           0,
           0,
           0,
           0,
           0,
           0,
           0,
           0,
           0,
           0,
           0,
           0,
           0,
           0,
           0,
           0,
           0,
           0,
           0,
           0,
           0,
           0,
           0,
           0,
           0,
           0,
           0,
           0,
           0,
           0,
           0,
           0,
           0,
           0,
           0,
           0,
           0,
           0,
           0,
           0,
           0,
           0,
           0,
           0,
           0,
           0,
           0,
           0,
           0,
           0,
           0,
           0,
           0,
           0,
           0,
           0,
           0,
           0,
           0,
           0,
           0,
           0,
           0,
           0,
           0,
           0,
           0,
           0,
           0,
           0,
           0,
           0,
           0,
           0,
           0,
           0,
           0,
           0,
           0,
           0,
           0,
           0,
           0,
           0,
           0,
           0,
           0,
           0,
           0,
           0,
           0,
           0,
           0,
           0,
           0,
           0,
           0,
           0,
           0,
           0,
           0,
           0,
           0,
           0,
           0,
           0,
           0,
           0,
           0,
           0,
           0,
           0,
           0,
           0,
           0,
           0,
           0,
           0,
           0,
           0,
           0,
           0,
           0,
           0,
           0,
           0,
           0,
           0,
           0,
           0,
           0,
           0,
           0,
           0,
           0,
           0,
           0,
           0,
           0,
           0,
           0,
           0,
           0,
           0,
           0,
           0,
           0,
           0,
           0,
           0,
           0,
           1,
           0,
           0,
           0,
           0,
           0,
           0,
           0,
           0,
           0,
           0,
           0,
           0,
           0,
           0,
           0,
           0,
           0,
           0,
           0,
           0,
           0,
           1,
           0,
           0,
           0,
           0,
           0,
           0,
           0,
           0,
           0,
           0,
           0,
           0,
           0,
           0,
           0,
           0,
           0,
           0,
           0,
           0,
           0,
           0,
           0,
           0,
           0,
           0,
           0,
           0,
           0,
           0,
           0,
           0,
           0,
           0,
           0,
           0,
           0,
           0,
           0,
           0,
           0,
           0,
           0,
           0,
           0,
           0,
           0,
           0,
           0,
           0,
           0,
           0,
           0,
           0,
           0,
           0,
           1,
           0,
           0,
           0,
           0,
           0,
           0,
           0,
           0,
           0,
           0,
           0,
           0,
           0,
           0,
           0,
           0,
           0,
           0,
           0,
           0,
           0,
           0,
           0,
           0,
           0,
           0,
           0,
           0,
           0,
           0,
           0,
           0,
           0,
           0,
           0,
           0,
           0,
           0,
           0,
           0,
           0,
           0,
           0,
           0,
           0,
           0,
           0,
           0,
           0,
           0,
           0,
           0,
           0,
           0,
           0,
           0,
           0,
           0,
           0,
           0,
           0,
           0,
           0,
           0,
           0,
           0,
           0,
           0,
           0,
           0,
           0,
           0,
           0,
           0,
           0,
           0,
           0,
           1,
           0,
           0,
           0,
           0,
           0,
           0,
           0,
           0,
           0,
           0,
           0,
           0,
           0,
           0,
           0,
           0,
           0,
           0,
           0,
           1,
           1,
           0,
           1,
           0,
           0,
           0,
           1,
           1,
           0,
           1,
           0,
           0,
           1,
           0,
           0,
           1,
           1,
           1,
           0,
           1,
           0,
           1,
           1,
           1,
           0,
           0,
           0,
           1,
           0,
           0,
           0,
           0,
           0,
           0,
           0,
           0,
           0,
           0,
           0,
           0,
           0,
           0,
           0,
           0,
           0,
           0,
           0,
           0,
           0,
           0,
           0,
           0,
           0,
           0,
           0,
           0,
           0,
           0,
           0,
           0,
           0,
           0,
           0,
           0,
           0,
           0,
           0,
           0,
           0,
           0,
           0,
           0,
           0,
           0,
           0,
           0,
           0,
           0,
           0,
           0,
           0,
           0,
           0,
           0,
           0,
           0,
           0,
           0,
           0,
           0,
           0,
           0,
           0,
           0,
           0,
           0,
           0,
           0,
           0,
           0,
           0,
           0,
           0,
           0,
           0,
           0,
           0,
           0,
           0,
           0,
           0,
           0,
           0,
           0,
           0,
           0,
           0,
           0,
           0,
           0,
           0,
           0,
           0,
           0,
           0,
           0,
           0,
           0,
           0,
           0,
           0,
           0,
           0,
           0,
           0,
           0,
           0,
           0,
           0,
           0,
           0,
           0,
           0,
           0,
           0,
           0,
           0,
           0,
           0,
           0,
           0,
           0,
           0,
           0,
           0,
           0,
           0,
           0,
           0,
           0,
           0,
           0,
           1,
           0,
           0,
           0,
           0,
           0,
           0,
           0,
           0,
           0,
           0,
           0,
           0,
           0,
           0,
           0,
           0,
           0,
           0,
           0,
           0,
           0,
           0,
           0,
           0,
           0,
           0,
           0,
           0,
           0,
           0,
           0,
           0,
           0,
           0,
           0,
           0,
           0,
           0,
           0,
           0,
           0,
           0,
           0,
           0,
           0,
           0,
           0,
           0,
           0,
           0,
           0,
           0,
           0,
           0,
           0,
           0,
           0,
           1,
           0,
           0,
           0,
           0,
           0,
           0,
           0,
           0,
           0,
           0,
           0,
           0,
           0,
           0,
           0,
           0,
           0,
           0,
           0,
           0,
           0,
           0,
           0,
           0,
           0,
           0,
           0,
           0,
           0,
           0,
           0,
           0,
           0,
           0,
           0,
           0,
           0,
           0,
           0,
           0,
           0,
           0,
           0,
           0,
           0,
           0,
           0,
           0,
           0,
           0,
           0,
           0,
           0,
           0,
           0,
           0,
           0,
           0,
           0,
           0,
           0,
           0,
           0,
           0,
           0,
           0,
           0,
           0,
           0,
           0,
           0,
           0,
           0,
           0,
           0,
           0,
           0,
           0
          ],
          "coloraxis": "coloraxis",
          "opacity": 0.7,
          "symbol": "circle"
         },
         "mode": "markers",
         "name": "",
         "scene": "scene",
         "showlegend": false,
         "type": "scatter3d",
         "x": [
          -3.385125160217285,
          -1.9658315181732178,
          2.5082597732543945,
          -2.712719202041626,
          3.6606945991516113,
          -2.098020553588867,
          -7.588666915893555,
          2.3077118396759033,
          -6.344486713409424,
          -2.7102556228637695,
          3.4598705768585205,
          -3.013155937194824,
          3.996901273727417,
          1.2966197729110718,
          -1.4384876489639282,
          5.963580131530762,
          3.980665922164917,
          -2.6270806789398193,
          3.1055045127868652,
          -3.6442697048187256,
          -2.5939977169036865,
          0.37996649742126465,
          1.471158504486084,
          -6.025867462158203,
          1.9996259212493896,
          6.055372714996338,
          -2.6366257667541504,
          -5.391287326812744,
          5.767176628112793,
          3.4675540924072266,
          -4.831692695617676,
          -0.6958984136581421,
          0.058007337152957916,
          -2.1626710891723633,
          4.984677314758301,
          -0.22594814002513885,
          -4.725795269012451,
          -5.596773147583008,
          0.38976171612739563,
          -0.815536618232727,
          -1.8683528900146484,
          -0.1533382385969162,
          -0.5565986633300781,
          1.7260202169418335,
          0.12642508745193481,
          6.4038496017456055,
          -0.8917710185050964,
          -5.935298919677734,
          -2.9268271923065186,
          -1.4721229076385498,
          -0.44227534532546997,
          3.8665928840637207,
          2.874629497528076,
          6.41901969909668,
          -1.5179662704467773,
          -2.8175199031829834,
          -0.6269423961639404,
          -5.124283790588379,
          -1.8414570093154907,
          2.7487733364105225,
          -6.143802642822266,
          0.3616565763950348,
          2.014861822128296,
          -0.07628382742404938,
          -3.7811691761016846,
          -1.4502222537994385,
          2.380920648574829,
          -3.2626266479492188,
          -1.8398034572601318,
          3.3339931964874268,
          3.7462236881256104,
          0.29169803857803345,
          0.06490146368741989,
          -1.7637674808502197,
          -2.1351068019866943,
          -1.3020908832550049,
          -0.44640636444091797,
          2.1635141372680664,
          1.2105779647827148,
          0.1274590641260147,
          -0.6938364505767822,
          0.6356509923934937,
          3.199603796005249,
          0.14474904537200928,
          -4.760560989379883,
          1.0349146127700806,
          -0.8036476373672485,
          -2.253255605697632,
          4.783846855163574,
          2.325951099395752,
          -0.15037597715854645,
          1.9898346662521362,
          0.3226494789123535,
          -7.224499702453613,
          -2.7356293201446533,
          2.8267030715942383,
          -0.3696117699146271,
          1.1337345838546753,
          -5.2202534675598145,
          0.7130336761474609,
          0.5166579484939575,
          -1.790016531944275,
          0.6803776025772095,
          2.5661604404449463,
          1.466898798942566,
          -1.3906131982803345,
          -2.2161192893981934,
          2.71610426902771,
          -1.993883490562439,
          1.316235065460205,
          2.931891918182373,
          2.4492435455322266,
          1.926864743232727,
          -2.2557485103607178,
          2.797534942626953,
          2.331110954284668,
          -8.442911148071289,
          -7.4642720222473145,
          -2.3341593742370605,
          -5.821506977081299,
          2.3386526107788086,
          4.598631858825684,
          3.5776829719543457,
          -2.347355365753174,
          0.30171331763267517,
          -0.9033929109573364,
          -3.5738284587860107,
          -1.2355633974075317,
          -3.843677520751953,
          0.12745216488838196,
          6.8643341064453125,
          0.5037292242050171,
          -0.792840301990509,
          -6.048008441925049,
          -3.040559768676758,
          -4.521380424499512,
          1.991368293762207,
          -2.4559476375579834,
          -1.8255066871643066,
          -1.847548007965088,
          -1.0799953937530518,
          1.889960527420044,
          3.3526206016540527,
          2.209155797958374,
          -6.570405006408691,
          -0.8375486135482788,
          2.981361150741577,
          0.03907423093914986,
          -2.0529613494873047,
          -2.797924280166626,
          3.462315082550049,
          -0.46510934829711914,
          4.189530372619629,
          3.4940972328186035,
          0.3272738754749298,
          -0.8060111403465271,
          -3.463350772857666,
          -2.9528348445892334,
          -0.5733537673950195,
          -0.9275888204574585,
          -7.365134239196777,
          -5.7943572998046875,
          1.593307614326477,
          1.8007248640060425,
          -0.651779294013977,
          -3.0177605152130127,
          -1.816482663154602,
          5.014604091644287,
          0.663634717464447,
          -1.0530309677124023,
          -2.4242794513702393,
          1.761601209640503,
          2.2470710277557373,
          1.4922266006469727,
          2.127448320388794,
          -1.6035839319229126,
          -0.18597140908241272,
          1.3302502632141113,
          -2.0148167610168457,
          -2.0976171493530273,
          2.7038450241088867,
          4.928531169891357,
          0.6332470178604126,
          5.832329273223877,
          5.3160929679870605,
          -8.447925567626953,
          2.183061361312866,
          6.121241569519043,
          -1.5224002599716187,
          -0.06754026561975479,
          -0.7002514004707336,
          1.6828317642211914,
          2.0402140617370605,
          2.1150825023651123,
          -6.221667289733887,
          -6.518093585968018,
          2.8515803813934326,
          4.123258590698242,
          0.8414257764816284,
          1.07262122631073,
          6.08274507522583,
          -1.9101060628890991,
          -2.9836912155151367,
          2.986922264099121,
          2.283313274383545,
          -0.7365478873252869,
          1.7389158010482788,
          6.264456748962402,
          4.432833194732666,
          -3.894725799560547,
          1.9276748895645142,
          4.172435283660889,
          0.723650336265564,
          2.8554635047912598,
          4.801462650299072,
          3.0462796688079834,
          -3.270594358444214,
          3.5503878593444824,
          1.8631489276885986,
          -1.9974172115325928,
          2.435466766357422,
          0.4451836943626404,
          1.8505675792694092,
          -1.0777430534362793,
          -4.778222560882568,
          2.240446090698242,
          -1.666837215423584,
          -0.8960772752761841,
          -3.3838601112365723,
          6.21093225479126,
          -6.144710063934326,
          0.00034525428782217205,
          -1.5935941934585571,
          -2.364020824432373,
          -6.385676860809326,
          0.8076354265213013,
          -4.088883876800537,
          -0.42720767855644226,
          -0.9801186919212341,
          0.27054861187934875,
          6.048984527587891,
          3.844672918319702,
          0.08082889765501022,
          -3.0960161685943604,
          2.5732223987579346,
          -4.0418195724487305,
          -2.783583641052246,
          2.3374710083007812,
          -1.3888062238693237,
          3.892688512802124,
          5.981235504150391,
          0.17293059825897217,
          0.20094497501850128,
          -6.0857367515563965,
          -0.9747171998023987,
          -4.089230060577393,
          -4.205713272094727,
          -4.472949504852295,
          6.192228317260742,
          -6.716984272003174,
          0.35674577951431274,
          5.234872341156006,
          1.54218590259552,
          1.4858084917068481,
          5.052092552185059,
          -2.794644832611084,
          -1.5847373008728027,
          -5.927938938140869,
          -1.988815188407898,
          4.864950656890869,
          2.4716897010803223,
          -0.47095030546188354,
          -3.9545392990112305,
          -0.4820820093154907,
          -0.9557807445526123,
          3.38285493850708,
          2.469576358795166,
          1.6818227767944336,
          1.8752421140670776,
          -1.7316389083862305,
          -1.4146368503570557,
          -0.4170806407928467,
          -2.126485586166382,
          -2.9612770080566406,
          2.8721933364868164,
          2.252690076828003,
          -4.873938083648682,
          0.11233274638652802,
          -3.7874319553375244,
          0.13189874589443207,
          3.4806034564971924,
          2.0315771102905273,
          -2.5337705612182617,
          1.481160283088684,
          -0.10338672995567322,
          -0.13149884343147278,
          2.506939172744751,
          2.76041841506958,
          -0.9131296873092651,
          -2.7411301136016846,
          0.4680956304073334,
          -6.054138660430908,
          2.829632520675659,
          1.885562777519226,
          2.691606044769287,
          -0.3510754704475403,
          2.1839871406555176,
          0.3486258387565613,
          -1.4007306098937988,
          5.4276556968688965,
          5.178168296813965,
          0.42952612042427063,
          5.060436248779297,
          -0.010292070917785168,
          3.637619733810425,
          -3.210853099822998,
          -0.9196642637252808,
          -4.902192115783691,
          -0.1492435485124588,
          -2.129906415939331,
          0.9018658399581909,
          -2.2047314643859863,
          -0.6561416387557983,
          -1.3549225330352783,
          3.929661512374878,
          -0.9745272994041443,
          -1.6669235229492188,
          -0.39377152919769287,
          1.5865726470947266,
          1.9215948581695557,
          -6.3677825927734375,
          4.05778694152832,
          4.358291149139404,
          -1.075756549835205,
          -1.732134222984314,
          0.23260419070720673,
          -0.6718829870223999,
          -5.1136393547058105,
          1.9561728239059448,
          4.636727333068848,
          -5.097171306610107,
          -2.896373987197876,
          -2.505450487136841,
          3.651003837585449,
          1.6676236391067505,
          2.2722623348236084,
          -5.998976707458496,
          -2.79671573638916,
          -1.2550957202911377,
          4.426383018493652,
          0.11589836329221725,
          -4.327102184295654,
          -7.240132808685303,
          -0.836767315864563,
          -4.824061870574951,
          -2.9720184803009033,
          3.5101332664489746,
          -0.8888460397720337,
          3.148839235305786,
          0.5615856051445007,
          -0.9642030596733093,
          1.1448172330856323,
          -5.597767353057861,
          -1.0263566970825195,
          -0.8366382718086243,
          1.8471440076828003,
          0.48419666290283203,
          -7.55846643447876,
          -4.546175479888916,
          2.780811071395874,
          -2.38287353515625,
          5.843950271606445,
          -0.007629679050296545,
          1.3494805097579956,
          -0.7236259579658508,
          -2.9119980335235596,
          -0.5237356424331665,
          1.7539658546447754,
          -1.9504340887069702,
          0.7864006161689758,
          -0.20662444829940796,
          -2.5448429584503174,
          -1.9686248302459717,
          -0.5107089281082153,
          -0.44029924273490906,
          -0.3654788136482239,
          -2.8465757369995117,
          -2.5770819187164307,
          1.715556025505066,
          2.4987239837646484,
          0.3905281126499176,
          -0.5766358971595764,
          -2.437711477279663,
          -0.5855180025100708,
          -6.178340911865234,
          -0.7052975296974182,
          -1.7444058656692505,
          2.2430319786071777,
          -0.6772238612174988,
          -2.9612560272216797,
          -5.699824810028076,
          2.594374418258667,
          0.6644933819770813,
          -0.07797803729772568,
          3.485346555709839,
          -6.377884387969971,
          2.483832597732544,
          -2.865262508392334,
          -1.0199886560440063,
          5.555506706237793,
          -0.6970505118370056,
          0.9555888772010803,
          0.9292129278182983,
          0.7853663563728333,
          2.1014106273651123,
          -0.3504018485546112,
          -0.5772182941436768,
          -3.4137465953826904,
          -0.6819539070129395,
          2.0234973430633545,
          2.7112958431243896,
          0.3594732880592346,
          0.723228394985199,
          -2.4560158252716064,
          0.26187461614608765,
          -3.432666063308716,
          -6.310701370239258,
          2.3428757190704346,
          -0.8840341567993164,
          -0.24573390185832977,
          2.018721342086792,
          -8.109278678894043,
          0.4399068057537079,
          1.0780950784683228,
          3.197547197341919,
          1.2278242111206055,
          -5.47310209274292,
          0.6205325722694397,
          -1.3867624998092651,
          3.025451898574829,
          -1.5589146614074707,
          1.907839059829712,
          2.7076239585876465,
          0.7320523858070374,
          3.4292514324188232,
          0.5549296736717224,
          3.1711747646331787,
          2.672974109649658,
          3.341216802597046,
          5.232747554779053,
          1.7667274475097656,
          1.294020652770996,
          -2.2862744331359863,
          0.07189679145812988,
          2.0785939693450928,
          -3.365874767303467,
          3.5612523555755615,
          2.0259506702423096,
          0.8252758383750916,
          0.5681409239768982,
          -0.12050141394138336,
          3.446758270263672,
          -0.7922763228416443,
          -2.4111475944519043,
          -3.144768476486206,
          -0.1276380866765976,
          -2.175436496734619,
          3.1741180419921875,
          -2.9136292934417725,
          0.8226338624954224,
          2.2019824981689453,
          -7.351741790771484,
          -0.82940673828125,
          -2.98298716545105,
          -3.197899103164673,
          -5.952381610870361,
          -6.038541316986084,
          2.0006375312805176,
          -4.906426429748535,
          -2.172821044921875,
          -1.784744143486023,
          0.8238411545753479,
          3.049853563308716,
          1.3579680919647217,
          -8.321667671203613,
          1.1098123788833618,
          2.748818874359131,
          -0.8807836771011353,
          -4.605369567871094,
          0.01579981856048107,
          2.241769552230835,
          0.7059497833251953,
          3.77602481842041,
          2.366377830505371,
          0.6403108835220337,
          3.2709858417510986,
          5.139529705047607,
          -0.2267899364233017,
          3.298391819000244,
          2.39562726020813,
          -1.8375669717788696,
          -4.7831645011901855,
          -0.06778614968061447,
          4.625343322753906,
          -1.3386634588241577,
          0.03624436631798744,
          -0.3551250696182251,
          -3.8651628494262695,
          -0.08880329132080078,
          5.381734848022461,
          2.7312445640563965,
          -3.0412943363189697,
          3.0719501972198486,
          4.090550899505615,
          1.5987093448638916,
          1.2828096151351929,
          5.397397518157959,
          0.2233896702528,
          0.2860826849937439,
          3.106628656387329,
          1.6831868886947632,
          3.412846803665161,
          4.606882572174072,
          1.4465291500091553,
          2.2906899452209473,
          -8.275505065917969,
          -1.4316272735595703,
          -5.960484981536865,
          2.0034360885620117,
          -3.9074697494506836,
          0.8264655470848083,
          1.194878339767456,
          -1.7085765600204468,
          -2.292724370956421,
          0.8949952125549316,
          5.016381740570068,
          1.2418643236160278,
          2.449503183364868,
          -3.9587247371673584,
          4.67119026184082,
          -1.1094393730163574,
          1.4628379344940186,
          -0.4401417374610901,
          -2.8587050437927246,
          -2.777630090713501,
          -2.18022084236145,
          -0.6748955845832825,
          0.5368334650993347,
          3.1843979358673096,
          -1.6784043312072754,
          1.1828458309173584,
          -2.7817702293395996,
          -0.5108067393302917,
          -0.6513863801956177,
          3.34356427192688,
          -1.2815719842910767,
          -1.37776517868042,
          -2.5679404735565186,
          -1.301741361618042,
          -4.076653480529785,
          0.8026711940765381,
          1.58182692527771,
          3.067882776260376,
          3.6976866722106934,
          -5.092557907104492,
          0.7354446053504944,
          -1.6658456325531006,
          -4.413077354431152,
          4.819251537322998,
          3.0526351928710938,
          -2.308103084564209,
          1.8149399757385254,
          2.180302858352661,
          4.35830545425415,
          -0.2694244980812073,
          4.369312286376953,
          -3.4440150260925293,
          -3.1097421646118164,
          -3.101358413696289,
          3.1048972606658936,
          1.8791515827178955,
          1.9648712873458862,
          1.161265254020691,
          -4.272686958312988,
          -1.5996991395950317,
          1.666650652885437,
          -3.6082468032836914,
          -2.1330418586730957,
          -5.977881908416748,
          0.7306711077690125,
          2.3936572074890137,
          0.08800530433654785,
          -4.129352569580078,
          2.9293313026428223,
          -4.244682312011719,
          3.7581288814544678,
          0.8111504316329956,
          1.0523096323013306,
          2.6311779022216797,
          0.6276711225509644,
          -2.2780768871307373,
          4.953425884246826,
          5.84192419052124,
          -7.4339752197265625,
          2.781132221221924,
          -2.0368576049804688,
          0.4290287494659424,
          2.784856081008911,
          -5.419512748718262,
          -0.3038356602191925,
          4.610635280609131,
          2.46012806892395,
          1.796312689781189,
          -4.363641262054443,
          -2.3169901371002197,
          2.010486602783203,
          3.965000629425049,
          5.44990348815918,
          -0.5899192094802856,
          -3.943885564804077,
          -5.576974391937256,
          2.8817594051361084,
          5.536492347717285,
          -0.1775330901145935,
          1.0988773107528687,
          2.3208305835723877,
          -7.608309268951416,
          3.4347329139709473,
          -3.0548083782196045,
          -2.2808315753936768,
          5.955080032348633,
          3.917412519454956,
          -0.9540678858757019,
          3.288266181945801,
          2.271462917327881,
          -3.9485316276550293,
          3.3943374156951904,
          -5.352766990661621,
          2.3794384002685547,
          -4.840322017669678,
          2.132642984390259,
          -3.8361599445343018,
          -6.467198371887207,
          1.3225325345993042,
          3.064267158508301,
          2.107268810272217,
          1.441430926322937,
          -3.9263267517089844,
          2.890784978866577,
          -3.2679924964904785,
          -1.6623684167861938,
          -0.8298428058624268,
          -2.441819190979004,
          -1.7448047399520874,
          -1.5644090175628662,
          -1.4830267429351807,
          1.5683385133743286,
          -3.2157084941864014,
          -3.0075416564941406,
          1.8459722995758057,
          3.6691508293151855,
          3.1459460258483887,
          -3.509967565536499,
          -3.0526554584503174,
          1.2331403493881226,
          -4.134373664855957,
          -2.9881036281585693,
          -5.915347099304199,
          4.051523685455322,
          -0.9750848412513733,
          -1.8478144407272339,
          -2.912980556488037,
          5.393007278442383,
          -5.121840000152588,
          -0.07697217911481857,
          0.5166794657707214,
          -3.360229015350342,
          0.8118083477020264,
          1.232485055923462,
          -6.086081027984619,
          0.5359252095222473,
          -1.1211718320846558,
          -5.024527549743652,
          2.070307493209839,
          3.330991506576538,
          -1.5522758960723877,
          0.08641406893730164,
          -2.2008519172668457,
          2.5507283210754395,
          5.284267902374268,
          -0.18442393839359283,
          5.008428573608398,
          1.3913646936416626,
          2.871830940246582,
          1.3931134939193726,
          -2.0760538578033447,
          0.09347004443407059,
          2.146657705307007,
          0.3165989816188812,
          2.2500720024108887,
          5.704349040985107,
          3.936986207962036,
          1.2827110290527344,
          5.791651248931885,
          -3.227630138397217,
          -2.7022736072540283,
          1.8761570453643799,
          5.9203009605407715,
          -6.2761101722717285,
          2.2070775032043457,
          -1.8797788619995117,
          -2.816117525100708,
          -1.6683506965637207,
          5.85636043548584,
          -4.586561679840088,
          0.1980396807193756,
          -2.1512749195098877,
          7.086354732513428,
          -4.708597183227539,
          -0.6163840889930725,
          3.061708688735962,
          -8.121307373046875,
          3.40907883644104,
          3.913008689880371,
          2.356414556503296,
          0.0703377053141594,
          5.20535945892334,
          -2.615452766418457,
          -1.763477087020874,
          -0.7787247896194458,
          1.6823498010635376,
          -0.662750780582428,
          -5.253201961517334,
          -6.620991230010986,
          4.035407066345215,
          2.803699254989624,
          2.3866958618164062,
          2.5491979122161865,
          2.070033073425293,
          4.456151962280273,
          -1.7200826406478882,
          -1.674076795578003,
          -2.427924633026123,
          5.2804765701293945,
          -0.4584376811981201,
          2.6075901985168457,
          3.236868143081665,
          1.0698908567428589,
          1.7636247873306274,
          3.447622537612915,
          -1.682904839515686,
          -0.1660487949848175,
          -2.7925446033477783,
          -6.281605243682861,
          -1.2519351243972778,
          1.6233546733856201,
          0.1827356368303299,
          4.988194465637207,
          3.7699801921844482,
          -3.743788719177246,
          5.246095180511475,
          5.578845024108887,
          -2.177266836166382,
          -2.120847225189209,
          -2.9551279544830322,
          -7.370519638061523,
          -6.470839500427246,
          0.7600683569908142,
          -5.190023422241211,
          0.9633931517601013,
          -0.15243437886238098,
          -4.462935447692871,
          -5.005774974822998,
          -5.90334939956665,
          -1.550933837890625,
          0.10535922646522522,
          -3.0462377071380615,
          4.481255054473877,
          -1.043923020362854,
          -1.8459464311599731,
          0.7990291118621826,
          -7.046787738800049,
          1.606587290763855,
          3.308995008468628,
          2.7633213996887207,
          4.35340690612793,
          4.000400543212891,
          0.07172996550798416,
          1.490497350692749,
          2.469707489013672,
          3.7228527069091797,
          -1.118673324584961,
          5.6738128662109375,
          -0.994124710559845,
          -6.8990397453308105,
          0.6345033645629883,
          -0.26776060461997986,
          2.903327465057373,
          0.9242619872093201,
          0.6522429585456848,
          3.33555006980896,
          -2.624772787094116,
          1.0713636875152588,
          -2.2106621265411377,
          0.6900700926780701,
          -2.4816479682922363,
          1.7048763036727905,
          -0.41935834288597107,
          -0.6892914772033691,
          -2.9583933353424072,
          0.8497710824012756,
          4.617327690124512,
          -0.9601404666900635,
          2.4875435829162598,
          1.7063539028167725,
          3.366459846496582,
          0.2988261878490448,
          2.9079105854034424,
          0.025661271065473557,
          -0.048484887927770615,
          3.73594331741333,
          -0.3319074809551239,
          2.7896060943603516,
          -0.5075041651725769,
          2.5787041187286377,
          -6.801675796508789,
          -0.47839584946632385,
          0.889923095703125,
          -1.0710396766662598,
          2.0838208198547363,
          -1.5615509748458862,
          0.1305992305278778,
          2.559755802154541,
          3.912313461303711,
          1.9618910551071167,
          2.277921438217163,
          -0.08174890279769897,
          1.0984504222869873,
          4.036548614501953,
          2.6063461303710938,
          1.3111129999160767,
          2.7156877517700195,
          -0.566217839717865,
          1.7302292585372925,
          -4.935275077819824,
          -0.07862871885299683,
          4.91877555847168,
          1.3642812967300415,
          3.3480112552642822,
          0.018459521234035492,
          -1.3817273378372192,
          1.9949188232421875,
          3.2323737144470215,
          1.7161222696304321,
          1.7114965915679932,
          3.8665711879730225,
          2.498509168624878,
          -1.4298429489135742,
          1.9330246448516846,
          5.795185089111328,
          0.6085032820701599,
          1.091619849205017,
          -3.5614383220672607,
          3.4859187602996826,
          2.7861573696136475,
          -2.1768851280212402,
          -7.776595115661621,
          2.2514662742614746,
          2.3286736011505127,
          2.1483664512634277,
          5.281110763549805,
          0.9536197781562805,
          -0.9512524604797363,
          3.7337076663970947,
          -2.0752804279327393,
          -2.86922287940979,
          -6.0960373878479,
          3.828691005706787,
          -3.203437328338623,
          1.903596043586731,
          3.4233686923980713,
          2.768109083175659,
          -2.876009702682495,
          -0.10766240954399109,
          2.4448540210723877,
          1.6141151189804077,
          -1.5247039794921875,
          -1.7831127643585205,
          -3.2937166690826416,
          2.796823263168335,
          1.610254168510437,
          4.819186687469482,
          0.6067806482315063,
          -1.9735537767410278,
          5.7697649002075195,
          0.50575852394104,
          -3.7453811168670654,
          -2.554558753967285,
          2.4096579551696777,
          0.5022638440132141,
          0.07440640777349472,
          4.751243591308594,
          0.07930576056241989,
          2.562333106994629,
          3.997176170349121,
          3.3794496059417725,
          2.4043309688568115,
          -1.3501789569854736,
          0.8689401745796204,
          -1.0526070594787598,
          1.5288820266723633,
          -2.3073654174804688,
          0.2945244312286377,
          -2.05269718170166,
          4.6546244621276855,
          3.002403974533081,
          -4.01173734664917,
          3.3082363605499268,
          -0.71922767162323,
          2.391993761062622,
          1.6305468082427979,
          -0.7738884091377258,
          -5.537334442138672,
          -1.8159949779510498,
          4.375319004058838,
          3.9882121086120605,
          -0.40331077575683594,
          -3.968660354614258,
          -0.5638737082481384,
          3.9692928791046143,
          2.222153663635254,
          1.931153655052185,
          -0.264192670583725,
          3.399655818939209,
          1.8137978315353394,
          -0.28502532839775085,
          -0.7507579326629639,
          2.8061411380767822,
          -2.0238258838653564,
          3.5597383975982666,
          2.5003139972686768,
          6.391687870025635,
          1.642102837562561,
          -0.9150850176811218,
          0.7840458154678345,
          4.3593430519104,
          2.3415417671203613,
          -1.3604687452316284,
          1.4312708377838135,
          -0.8010078072547913,
          -5.283626556396484,
          -2.70764422416687,
          2.977942705154419,
          -1.2509313821792603,
          -2.8469247817993164,
          -0.5349738001823425,
          1.529662847518921,
          1.6830921173095703,
          3.9855759143829346,
          4.869441986083984,
          -6.125391483306885,
          0.15832284092903137,
          0.9812439680099487,
          0.7234007120132446,
          -3.248481273651123,
          -3.287712335586548,
          1.0008996725082397,
          -0.9978886842727661,
          3.485903024673462,
          4.017162799835205,
          2.2273032665252686,
          2.988426923751831,
          -5.450705051422119,
          2.915555477142334,
          -0.9875628352165222,
          -3.7632880210876465,
          -2.3899271488189697,
          3.050727128982544,
          -5.125185966491699,
          0.43400412797927856,
          4.2643914222717285,
          0.7974533438682556,
          3.126391887664795,
          -8.094290733337402,
          3.3141212463378906,
          2.736084461212158,
          4.1504926681518555,
          3.011678457260132,
          2.2692861557006836,
          0.9736925959587097,
          -0.7825557589530945,
          -1.1990174055099487,
          2.5261542797088623,
          2.8139913082122803,
          3.943931818008423,
          -4.161236763000488,
          -5.395143032073975,
          1.3321455717086792,
          1.287410020828247,
          -0.3551759421825409
         ],
         "y": [
          -0.850792646408081,
          4.285506248474121,
          -8.940244674682617,
          -11.856993675231934,
          -16.131498336791992,
          -6.715226173400879,
          5.603984832763672,
          -15.268586158752441,
          -1.1479756832122803,
          13.04039192199707,
          -13.239697456359863,
          -16.491273880004883,
          -6.326481342315674,
          -4.470618724822998,
          -12.032744407653809,
          -17.651954650878906,
          -6.238029956817627,
          7.906015396118164,
          -7.3931779861450195,
          -14.619502067565918,
          -6.004365921020508,
          0.6926020383834839,
          -5.501840591430664,
          -1.9034501314163208,
          -10.003690719604492,
          2.8428564071655273,
          -15.079614639282227,
          4.488466262817383,
          -20.920583724975586,
          -14.77696704864502,
          0.3857221305370331,
          1.2882773876190186,
          -2.4095356464385986,
          -11.704524993896484,
          10.408140182495117,
          1.2366092205047607,
          -14.0204439163208,
          4.710533618927002,
          0.8569183945655823,
          -6.5191121101379395,
          16.335176467895508,
          -13.637344360351562,
          11.224586486816406,
          -8.556495666503906,
          -12.984413146972656,
          -18.26883888244629,
          -13.213645935058594,
          -1.4504220485687256,
          -16.10810089111328,
          13.182089805603027,
          -13.745129585266113,
          -5.7521209716796875,
          10.856704711914062,
          -18.11029624938965,
          -9.086504936218262,
          -3.669358491897583,
          -5.302342414855957,
          0.8468250036239624,
          -11.866401672363281,
          -9.689602851867676,
          1.6890082359313965,
          7.735920429229736,
          -19.50133514404297,
          -13.490153312683105,
          12.895303726196289,
          -13.824295997619629,
          14.064616203308105,
          8.102823257446289,
          -15.762259483337402,
          -9.123686790466309,
          -19.222700119018555,
          -14.708460807800293,
          -0.26005762815475464,
          -11.44597053527832,
          7.585268497467041,
          4.734973907470703,
          -16.075761795043945,
          -15.978255271911621,
          9.412856101989746,
          10.308674812316895,
          9.942819595336914,
          5.188392162322998,
          -15.200827598571777,
          6.403226852416992,
          5.512251377105713,
          1.6715245246887207,
          9.131927490234375,
          9.83327579498291,
          7.889124393463135,
          2.6685140132904053,
          3.2534468173980713,
          -12.239959716796875,
          9.884598731994629,
          6.497964859008789,
          -0.9939141273498535,
          -19.40060043334961,
          11.08871078491211,
          3.7914557456970215,
          4.890365123748779,
          -15.880337715148926,
          -1.061073899269104,
          12.686870574951172,
          3.86155366897583,
          12.791458129882812,
          -20.244356155395508,
          10.741047859191895,
          8.02698802947998,
          4.90354061126709,
          8.479647636413574,
          -15.476072311401367,
          3.744297742843628,
          -0.8645466566085815,
          -10.297863960266113,
          6.098897457122803,
          -13.779364585876465,
          6.368017196655273,
          9.131098747253418,
          6.523865222930908,
          -11.26933479309082,
          6.820843696594238,
          7.20623779296875,
          6.735093116760254,
          6.664044380187988,
          12.620372772216797,
          3.8310906887054443,
          4.6172776222229,
          -0.05941342934966087,
          -12.540660858154297,
          5.252276420593262,
          4.416073799133301,
          9.185111999511719,
          11.242975234985352,
          -14.564804077148438,
          3.9889259338378906,
          12.372122764587402,
          3.7083752155303955,
          -13.94398021697998,
          -14.559326171875,
          3.554616928100586,
          2.8323683738708496,
          -12.086810111999512,
          3.3367724418640137,
          12.582324981689453,
          -15.767834663391113,
          7.59066915512085,
          11.020729064941406,
          -12.289946556091309,
          13.620782852172852,
          3.4863269329071045,
          5.166352272033691,
          2.9630160331726074,
          6.1638712882995605,
          3.6815099716186523,
          13.518837928771973,
          0.9237715601921082,
          11.719256401062012,
          14.311177253723145,
          13.81452465057373,
          3.7081968784332275,
          -9.457483291625977,
          8.303736686706543,
          1.0304406881332397,
          5.199285984039307,
          10.792106628417969,
          -10.85668659210205,
          12.65809154510498,
          -12.536941528320312,
          -16.067705154418945,
          -11.901089668273926,
          5.162074089050293,
          8.615654945373535,
          2.9453840255737305,
          -9.348578453063965,
          -12.403769493103027,
          3.703547239303589,
          11.103227615356445,
          -9.069615364074707,
          -11.482499122619629,
          2.79766583442688,
          -14.513402938842773,
          5.02396297454834,
          -10.679121971130371,
          0.42658501863479614,
          -17.07175636291504,
          -16.071332931518555,
          8.485684394836426,
          -12.988094329833984,
          9.763349533081055,
          9.453539848327637,
          5.824911594390869,
          13.432558059692383,
          -15.947866439819336,
          -12.931394577026367,
          -12.35953426361084,
          12.027192115783691,
          6.672577857971191,
          5.869471073150635,
          4.816567420959473,
          -2.281705141067505,
          3.3371691703796387,
          7.592373371124268,
          3.9871928691864014,
          -0.727049708366394,
          -15.939478874206543,
          -10.798964500427246,
          0.8813965320587158,
          11.838606834411621,
          7.764360427856445,
          -10.249421119689941,
          1.878844141960144,
          4.643562316894531,
          -13.867854118347168,
          -17.02766990661621,
          5.247875213623047,
          6.584286212921143,
          6.640586853027344,
          2.687699317932129,
          -16.41688346862793,
          -18.785133361816406,
          1.209936261177063,
          -10.489213943481445,
          6.4754767417907715,
          -15.741671562194824,
          9.027186393737793,
          11.246744155883789,
          10.882391929626465,
          12.67630386352539,
          12.029200553894043,
          13.116851806640625,
          -10.906231880187988,
          6.549856662750244,
          10.06604290008545,
          -13.787849426269531,
          -14.50985336303711,
          6.661748886108398,
          6.556283950805664,
          3.0281641483306885,
          6.289372444152832,
          -12.757895469665527,
          -10.680922508239746,
          7.6750168800354,
          6.940423011779785,
          -11.096353530883789,
          8.101578712463379,
          -14.357033729553223,
          11.588703155517578,
          7.407723903656006,
          7.285303592681885,
          13.022045135498047,
          -13.92017650604248,
          13.55331039428711,
          2.751281976699829,
          -14.371476173400879,
          1.1110289096832275,
          10.956396102905273,
          -0.8515769839286804,
          1.2131963968276978,
          9.156698226928711,
          -11.429421424865723,
          7.058424472808838,
          -11.846177101135254,
          10.82288646697998,
          -14.559569358825684,
          4.275934219360352,
          12.586374282836914,
          7.85856819152832,
          -15.693921089172363,
          10.423492431640625,
          8.416203498840332,
          3.8064582347869873,
          4.8954081535339355,
          -1.2708956003189087,
          3.5419111251831055,
          -11.295616149902344,
          -9.892840385437012,
          13.631266593933105,
          -17.845773696899414,
          -16.04249382019043,
          5.546721935272217,
          9.378863334655762,
          12.60855484008789,
          -11.39840030670166,
          10.800080299377441,
          3.224088191986084,
          -13.349143981933594,
          7.5865254402160645,
          9.538553237915039,
          6.076303958892822,
          9.944618225097656,
          -2.583498001098633,
          2.662147045135498,
          5.503721237182617,
          7.768187046051025,
          8.361536026000977,
          6.461102485656738,
          -10.77110767364502,
          -11.773266792297363,
          10.137472152709961,
          5.97882080078125,
          1.0771894454956055,
          0.8481021523475647,
          8.392070770263672,
          -16.931468963623047,
          -14.638988494873047,
          -11.401934623718262,
          5.400217533111572,
          5.6861419677734375,
          5.482668399810791,
          15.442973136901855,
          -16.011011123657227,
          -15.251578330993652,
          14.933685302734375,
          -10.97774887084961,
          -10.952287673950195,
          7.703220844268799,
          0.28220367431640625,
          5.024304389953613,
          6.436087608337402,
          6.01623010635376,
          -0.8743478059768677,
          1.5294314622879028,
          5.117880821228027,
          -14.693846702575684,
          2.8637967109680176,
          8.760305404663086,
          1.8610131740570068,
          -16.09625816345215,
          -15.87214183807373,
          -12.891864776611328,
          -11.178240776062012,
          10.566368103027344,
          -16.80338478088379,
          12.418936729431152,
          10.965920448303223,
          10.036957740783691,
          -15.0662202835083,
          4.768868923187256,
          3.690869092941284,
          -13.176791191101074,
          -15.178998947143555,
          3.057753801345825,
          10.945659637451172,
          -11.183328628540039,
          13.611015319824219,
          -15.27553939819336,
          -13.985831260681152,
          3.2434606552124023,
          15.332133293151855,
          -12.087862968444824,
          -17.113449096679688,
          1.9832059144973755,
          4.10426139831543,
          6.369423866271973,
          -0.8458287119865417,
          9.55838394165039,
          11.374094009399414,
          10.212820053100586,
          5.6962761878967285,
          -19.698902130126953,
          2.0946009159088135,
          4.5312066078186035,
          5.0886030197143555,
          2.476353883743286,
          14.087998390197754,
          -13.559563636779785,
          5.563510417938232,
          -16.874069213867188,
          9.085923194885254,
          9.718791961669922,
          4.724546909332275,
          10.591142654418945,
          7.6409783363342285,
          -16.463613510131836,
          -11.511722564697266,
          -14.653310775756836,
          11.881210327148438,
          7.026586532592773,
          -11.858957290649414,
          -1.1804033517837524,
          2.9254589080810547,
          -11.056259155273438,
          2.869569778442383,
          7.006962776184082,
          -0.16148003935813904,
          4.91231107711792,
          10.417706489562988,
          7.542623996734619,
          6.443972587585449,
          3.0860705375671387,
          -0.10313984006643295,
          11.648380279541016,
          11.274580001831055,
          3.522902011871338,
          6.666722297668457,
          5.959007263183594,
          -1.0222909450531006,
          10.525443077087402,
          -14.60888385772705,
          1.4983022212982178,
          8.349054336547852,
          6.45307731628418,
          10.436979293823242,
          14.839554786682129,
          0.8608459234237671,
          -16.173763275146484,
          9.594259262084961,
          -10.842406272888184,
          2.2565252780914307,
          -8.463900566101074,
          6.243529796600342,
          7.831274509429932,
          4.109652519226074,
          -19.871822357177734,
          5.944572448730469,
          5.985641002655029,
          10.572688102722168,
          10.628530502319336,
          5.264694690704346,
          -15.56955623626709,
          -14.24708366394043,
          -0.2061329334974289,
          7.055146217346191,
          6.6937408447265625,
          4.740931987762451,
          -12.660679817199707,
          11.51455307006836,
          6.370565414428711,
          -11.406883239746094,
          -0.549929678440094,
          -15.994609832763672,
          5.846907615661621,
          7.413613319396973,
          6.680281162261963,
          -12.875454902648926,
          -19.29250717163086,
          4.871939659118652,
          8.66394329071045,
          -15.81416130065918,
          8.5072021484375,
          -10.977788925170898,
          10.615372657775879,
          9.080812454223633,
          -11.983394622802734,
          -18.367568969726562,
          8.239049911499023,
          -9.031415939331055,
          -17.37266731262207,
          12.897098541259766,
          -12.820710182189941,
          -11.234248161315918,
          10.950626373291016,
          -14.306246757507324,
          12.44433307647705,
          5.711269855499268,
          -10.914847373962402,
          -0.31653597950935364,
          2.5772953033447266,
          -13.260297775268555,
          8.772967338562012,
          0.6001154780387878,
          5.126015663146973,
          -12.852080345153809,
          10.185813903808594,
          11.371358871459961,
          -0.13465064764022827,
          3.2699060440063477,
          8.786725044250488,
          -18.027080535888672,
          12.674468040466309,
          -12.283795356750488,
          8.212878227233887,
          9.123212814331055,
          9.756559371948242,
          5.720322608947754,
          11.325299263000488,
          11.537365913391113,
          6.11978816986084,
          -10.70754337310791,
          1.6916224956512451,
          6.971894264221191,
          14.452932357788086,
          7.225320816040039,
          -12.274433135986328,
          -16.81436538696289,
          8.628992080688477,
          -17.34092903137207,
          3.1877405643463135,
          -0.9505179524421692,
          2.723358631134033,
          -11.494767189025879,
          6.842884063720703,
          -10.740226745605469,
          -9.294761657714844,
          -17.258028030395508,
          -11.444510459899902,
          -12.481732368469238,
          6.100589752197266,
          -9.519814491271973,
          12.326881408691406,
          1.9402979612350464,
          3.831801652908325,
          4.123359680175781,
          1.7189929485321045,
          7.442939281463623,
          -0.6224997639656067,
          -11.604930877685547,
          7.749671936035156,
          15.332080841064453,
          -1.0088964700698853,
          -10.66866683959961,
          -15.879697799682617,
          14.185863494873047,
          5.716883182525635,
          -14.851134300231934,
          10.05029010772705,
          12.497980117797852,
          12.996540069580078,
          8.356851577758789,
          2.1028623580932617,
          5.529752254486084,
          -0.7511302828788757,
          -15.5223388671875,
          -11.001206398010254,
          -13.116083145141602,
          -19.297138214111328,
          10.240266799926758,
          -0.5059272646903992,
          8.59280776977539,
          3.0531115531921387,
          0.6184592247009277,
          3.9086127281188965,
          -16.3431339263916,
          -10.155152320861816,
          10.024892807006836,
          -9.70545768737793,
          -14.46878433227539,
          0.35093745589256287,
          -16.710948944091797,
          1.577423334121704,
          3.971829414367676,
          1.6629507541656494,
          -10.200016021728516,
          7.904569625854492,
          3.3435213565826416,
          14.938238143920898,
          -12.27248477935791,
          10.959236145019531,
          -11.932720184326172,
          -12.547040939331055,
          10.953895568847656,
          12.802270889282227,
          4.463034629821777,
          -15.220654487609863,
          3.710951566696167,
          13.059469223022461,
          4.5379719734191895,
          -9.174456596374512,
          6.245035171508789,
          -16.161727905273438,
          -0.848136305809021,
          -18.484130859375,
          -19.109294891357422,
          13.928844451904297,
          -11.497724533081055,
          8.708187103271484,
          11.768842697143555,
          12.015677452087402,
          3.9260354042053223,
          -12.789950370788574,
          -10.270179748535156,
          -0.4091450273990631,
          -10.239184379577637,
          -15.510812759399414,
          -17.498632431030273,
          2.692368745803833,
          -16.299301147460938,
          5.9613752365112305,
          9.659899711608887,
          2.745521306991577,
          6.856839656829834,
          -0.4814198911190033,
          6.9520263671875,
          -11.46060848236084,
          5.305914402008057,
          15.403352737426758,
          12.167251586914062,
          0.5131522417068481,
          10.378334045410156,
          10.841416358947754,
          -16.74846076965332,
          9.954948425292969,
          14.529546737670898,
          -1.2351566553115845,
          -15.907464981079102,
          1.1537939310073853,
          12.267313003540039,
          -14.723814010620117,
          -17.181432723999023,
          -10.620302200317383,
          -17.65110969543457,
          -12.487186431884766,
          7.7610883712768555,
          -10.410975456237793,
          6.827101230621338,
          -9.923995971679688,
          3.511152744293213,
          -16.03134536743164,
          -18.20844268798828,
          7.414539813995361,
          1.8562828302383423,
          -10.738402366638184,
          3.669736385345459,
          0.31964603066444397,
          2.4412567615509033,
          12.134332656860352,
          14.135212898254395,
          5.424485683441162,
          7.3250651359558105,
          4.555199146270752,
          0.9454507231712341,
          1.3993757963180542,
          11.690951347351074,
          13.18706226348877,
          1.7366549968719482,
          -12.678689956665039,
          -17.828245162963867,
          8.361153602600098,
          -14.557516098022461,
          2.0423786640167236,
          11.23676586151123,
          11.565074920654297,
          5.6553521156311035,
          7.159123420715332,
          -15.332683563232422,
          2.2757527828216553,
          1.575971007347107,
          4.656871795654297,
          1.5683283805847168,
          -10.719060897827148,
          2.0792396068573,
          -10.54557991027832,
          1.5800520181655884,
          6.642908573150635,
          3.5536251068115234,
          -16.601118087768555,
          5.4185590744018555,
          -11.071410179138184,
          5.535234451293945,
          -11.530045509338379,
          3.9800326824188232,
          12.607514381408691,
          12.03740406036377,
          2.416679620742798,
          -13.357450485229492,
          11.631933212280273,
          2.004040002822876,
          -15.678350448608398,
          3.3568761348724365,
          5.4196977615356445,
          -15.621804237365723,
          -17.416791915893555,
          10.864571571350098,
          -0.11042127013206482,
          0.37972912192344666,
          -11.094544410705566,
          2.9321329593658447,
          -13.590819358825684,
          3.5580873489379883,
          4.53618049621582,
          12.14840316772461,
          2.184586763381958,
          11.062554359436035,
          12.980871200561523,
          3.2945075035095215,
          -9.120532035827637,
          12.93351936340332,
          2.068119525909424,
          -9.574737548828125,
          -12.516225814819336,
          4.170264720916748,
          -11.608628273010254,
          11.650029182434082,
          3.85970401763916,
          -9.173267364501953,
          15.274846076965332,
          12.002029418945312,
          10.991632461547852,
          15.747618675231934,
          -12.389400482177734,
          -16.694522857666016,
          -9.107251167297363,
          -14.146446228027344,
          -19.460159301757812,
          3.134402275085449,
          -12.061062812805176,
          -9.279634475708008,
          1.8956221342086792,
          10.695581436157227,
          3.3221487998962402,
          -12.360201835632324,
          5.929925918579102,
          11.91427993774414,
          -4.493449687957764,
          -20.949199676513672,
          8.543472290039062,
          -2.7231972217559814,
          -13.73850154876709,
          -14.133689880371094,
          1.3911163806915283,
          -9.127385139465332,
          -12.207501411437988,
          13.360398292541504,
          5.981819152832031,
          2.9657578468322754,
          7.297977447509766,
          -7.1818461418151855,
          -6.438604831695557,
          -18.462657928466797,
          7.279499530792236,
          7.997555255889893,
          -7.500601291656494,
          11.0825777053833,
          2.3871405124664307,
          -5.669429779052734,
          -0.3692416250705719,
          -2.459073066711426,
          -10.804518699645996,
          -8.768807411193848,
          -14.613519668579102,
          -6.721109390258789,
          4.883999824523926,
          -16.999774932861328,
          2.6669185161590576,
          4.14189338684082,
          2.7236196994781494,
          -11.29287052154541,
          5.489619731903076,
          8.415868759155273,
          9.633410453796387,
          -11.715468406677246,
          4.560400009155273,
          4.044787883758545,
          3.896695375442505,
          -9.588268280029297,
          1.5377309322357178,
          9.89316463470459,
          8.457292556762695,
          -10.23438549041748,
          -12.815218925476074,
          -18.01786994934082,
          4.203415870666504,
          -15.708072662353516,
          -1.3843244314193726,
          11.896510124206543,
          13.664155006408691,
          -11.593367576599121,
          10.277968406677246,
          10.74374008178711,
          -15.249410629272461,
          15.158842086791992,
          -17.153467178344727,
          13.048617362976074,
          11.344550132751465,
          11.549015998840332,
          0.058108698576688766,
          8.985980033874512,
          9.622303009033203,
          -16.345203399658203,
          6.136555194854736,
          -16.202661514282227,
          9.997894287109375,
          2.273777723312378,
          0.3002428710460663,
          6.539070129394531,
          2.34114408493042,
          15.058416366577148,
          2.22188138961792,
          5.546571731567383,
          7.02133846282959,
          2.361112117767334,
          6.662277698516846,
          9.042375564575195,
          2.676086902618408,
          3.416304588317871,
          7.894014358520508,
          -17.640153884887695,
          10.779786109924316,
          -9.368370056152344,
          11.333577156066895,
          11.08624267578125,
          -16.332111358642578,
          7.228158473968506,
          -11.293551445007324,
          5.4431304931640625,
          11.082054138183594,
          1.1048293113708496,
          13.433034896850586,
          -12.657522201538086,
          6.984813690185547,
          14.02461051940918,
          8.419464111328125,
          3.360985517501831,
          2.6295230388641357,
          3.4343714714050293,
          -11.171226501464844,
          12.356436729431152,
          12.305037498474121,
          4.178349494934082,
          -12.306746482849121,
          9.8283109664917,
          -15.25153923034668,
          -8.63874340057373,
          6.186318397521973,
          -0.6230235695838928,
          2.1352741718292236,
          -12.716812133789062,
          4.246786117553711,
          -17.070302963256836,
          -8.689200401306152,
          -12.66560173034668,
          -11.533522605895996,
          -10.845671653747559,
          10.429251670837402,
          2.3014581203460693,
          5.993630886077881,
          9.06013298034668,
          -12.225449562072754,
          9.988978385925293,
          3.6897735595703125,
          -16.93352508544922,
          4.485058784484863,
          1.8508999347686768,
          -18.702695846557617,
          -9.305484771728516,
          -13.353785514831543,
          -9.490559577941895,
          -17.855905532836914,
          -15.456178665161133,
          -10.489096641540527,
          12.523468971252441,
          6.6972737312316895,
          12.544018745422363,
          -12.937952995300293,
          5.741467475891113,
          7.723849773406982,
          -9.27289867401123,
          6.680024147033691,
          7.177556991577148,
          4.013684272766113,
          3.937472105026245,
          -9.324251174926758,
          0.542848527431488,
          13.245393753051758,
          6.826417922973633,
          3.4694664478302,
          4.9100422859191895,
          5.642344951629639,
          -11.42706298828125,
          10.546854972839355,
          -10.977556228637695,
          0.3141855299472809,
          9.943623542785645,
          -1.6374911069869995,
          8.547430992126465,
          5.892611026763916,
          -14.450132369995117,
          7.013286113739014,
          10.941266059875488,
          -10.009690284729004,
          3.205071210861206,
          -11.959517478942871,
          12.59848403930664,
          9.0712890625,
          4.688526153564453,
          -2.086423635482788,
          10.284194946289062,
          5.75173282623291,
          7.718631267547607,
          2.3408262729644775,
          -10.494154930114746,
          3.102998733520508,
          4.631104946136475,
          11.155701637268066,
          -15.562989234924316,
          -14.751965522766113,
          -10.695289611816406,
          2.544257640838623,
          7.0590033531188965,
          1.0662269592285156,
          -9.518827438354492,
          -15.575288772583008,
          -15.390290260314941,
          -12.355690002441406,
          11.760519027709961,
          -16.27785873413086,
          5.134122848510742,
          4.534079551696777,
          11.344978332519531,
          2.9583544731140137,
          0.689766526222229,
          6.0459184646606445,
          10.957653045654297,
          14.379904747009277,
          -17.63230323791504,
          8.491374015808105,
          -15.772089004516602,
          -12.351247787475586,
          1.3148138523101807,
          -12.209627151489258,
          8.689519882202148,
          9.446601867675781,
          9.931081771850586,
          9.844903945922852,
          7.548353672027588,
          -11.403818130493164,
          -15.130928039550781,
          1.5214523077011108,
          7.2271246910095215,
          -11.124427795410156,
          -11.514344215393066,
          0.013726470991969109,
          -14.821980476379395,
          5.696077823638916,
          8.196662902832031,
          4.083181381225586,
          2.7607200145721436,
          -0.42608463764190674,
          1.6901386976242065,
          5.908420085906982,
          4.723403453826904,
          -16.130720138549805,
          11.339042663574219,
          8.883760452270508,
          -17.33356475830078,
          -14.512412071228027,
          -15.198295593261719,
          11.132027626037598,
          -10.450267791748047,
          3.3803958892822266,
          -11.616710662841797,
          -10.400296211242676,
          9.481280326843262,
          9.56285285949707,
          -9.436765670776367,
          6.149601459503174,
          -12.531733512878418,
          7.123921871185303,
          4.947206497192383,
          5.871582508087158,
          -0.5090883374214172,
          1.8060238361358643,
          2.867083787918091,
          -16.837799072265625,
          -14.49950122833252,
          5.776318073272705,
          10.580018043518066,
          -11.80526351928711,
          -13.544365882873535,
          -9.041322708129883,
          7.299898624420166,
          10.646992683410645,
          7.206820487976074,
          -10.966570854187012,
          8.12459659576416,
          2.9607527256011963,
          14.175008773803711,
          8.120692253112793,
          3.331386089324951,
          -11.513421058654785,
          12.20208740234375,
          -17.91794204711914,
          6.750095844268799,
          3.439669132232666,
          -15.046144485473633,
          9.348342895507812,
          8.699241638183594,
          7.469971656799316,
          -17.279451370239258,
          2.4824891090393066,
          -8.99489688873291,
          -11.071830749511719,
          -1.1295019388198853,
          10.528425216674805,
          7.755826473236084,
          -17.067893981933594,
          10.718951225280762,
          7.856682777404785,
          -11.115218162536621,
          -10.313027381896973,
          -17.6611270904541,
          -10.281373977661133,
          5.663643836975098,
          5.278030872344971,
          -10.53065013885498,
          -13.44562816619873,
          2.3801488876342773,
          7.951006889343262,
          11.082782745361328,
          -12.008320808410645,
          -17.4760684967041
         ],
         "z": [
          -7.79705286026001,
          10.243593215942383,
          -8.610040664672852,
          5.405470371246338,
          -7.248541355133057,
          4.467050552368164,
          8.12693977355957,
          10.111991882324219,
          1.078062653541565,
          -8.509456634521484,
          12.07653522491455,
          -6.3076863288879395,
          4.198965072631836,
          -2.7339160442352295,
          -2.0014705657958984,
          0.4524661898612976,
          4.272186279296875,
          4.048342227935791,
          -8.427355766296387,
          -5.20932149887085,
          4.207884788513184,
          -6.701871871948242,
          -3.0373222827911377,
          1.1743429899215698,
          3.0091278553009033,
          3.3443431854248047,
          -5.767336845397949,
          -0.5205792784690857,
          5.8506879806518555,
          3.898775577545166,
          -0.9473508596420288,
          7.79742431640625,
          -3.5278704166412354,
          -0.2920688986778259,
          -1.678231954574585,
          -4.912654876708984,
          -4.8450517654418945,
          -0.7953904271125793,
          -9.423824310302734,
          5.350279331207275,
          2.9791319370269775,
          1.9131999015808105,
          1.0184869766235352,
          0.7031602263450623,
          0.03131835535168648,
          0.28447380661964417,
          0.23646153509616852,
          1.1993951797485352,
          -6.142731666564941,
          5.973757743835449,
          12.247611999511719,
          -7.870394229888916,
          -3.4721410274505615,
          0.2856650650501251,
          4.461323261260986,
          7.979870796203613,
          6.310060977935791,
          6.538900852203369,
          0.32897111773490906,
          -4.198704242706299,
          4.221901893615723,
          -2.332244873046875,
          0.26780176162719727,
          2.4491045475006104,
          -0.4031221270561218,
          0.1426292359828949,
          3.5621962547302246,
          3.5044326782226562,
          -5.694520950317383,
          6.31851863861084,
          5.181057453155518,
          6.398703098297119,
          -10.322044372558594,
          9.39481258392334,
          -13.507120132446289,
          -8.001633644104004,
          -4.204764366149902,
          2.6240758895874023,
          -15.259008407592773,
          -11.623726844787598,
          -11.632597923278809,
          -8.063752174377441,
          -4.700436592102051,
          -1.5146973133087158,
          6.316802501678467,
          5.3599629402160645,
          3.5887651443481445,
          6.690345764160156,
          1.3021644353866577,
          -7.573336601257324,
          -10.441054344177246,
          10.779417037963867,
          0.5207566618919373,
          6.602478981018066,
          7.386389255523682,
          1.5226516723632812,
          -3.3535358905792236,
          4.748541355133057,
          2.313742160797119,
          -3.8824269771575928,
          -8.836767196655273,
          4.549712657928467,
          4.308828830718994,
          -3.158008098602295,
          1.8159947395324707,
          -5.967134475708008,
          -0.9440526366233826,
          7.888947486877441,
          -13.022953987121582,
          3.424393892288208,
          -9.143343925476074,
          -8.068346977233887,
          12.873412132263184,
          -8.262324333190918,
          -8.730154037475586,
          -9.383437156677246,
          8.988973617553711,
          6.402425289154053,
          7.144105911254883,
          2.0375094413757324,
          -9.811038970947266,
          -0.38889211416244507,
          7.20863676071167,
          1.5973892211914062,
          -3.278432846069336,
          7.876328945159912,
          7.062094211578369,
          6.064707279205322,
          6.276838779449463,
          7.385246276855469,
          0.21576976776123047,
          -3.3465893268585205,
          11.281877517700195,
          8.183530807495117,
          5.431437015533447,
          -8.24476146697998,
          -6.046423435211182,
          8.928876876831055,
          6.839482307434082,
          2.1927428245544434,
          9.986039161682129,
          -5.866743087768555,
          -2.80023193359375,
          -6.2054057121276855,
          3.003579616546631,
          -8.739592552185059,
          8.807343482971191,
          4.346409320831299,
          8.121938705444336,
          -0.054248709231615067,
          -8.6828031539917,
          -10.310534477233887,
          3.4082491397857666,
          -2.1744635105133057,
          -8.238633155822754,
          -2.754977226257324,
          -0.04838191717863083,
          2.489144802093506,
          -13.351245880126953,
          7.439676761627197,
          9.816422462463379,
          6.233730316162109,
          -12.742339134216309,
          -14.473794937133789,
          5.92885684967041,
          4.028622627258301,
          9.742950439453125,
          5.588655471801758,
          -4.016989707946777,
          -3.34743070602417,
          -1.1196945905685425,
          4.108371734619141,
          4.395180702209473,
          -7.999805927276611,
          -0.7357162237167358,
          6.115955829620361,
          4.166960716247559,
          -7.657451152801514,
          8.514334678649902,
          7.319258689880371,
          1.3267992734909058,
          5.998165130615234,
          7.500955581665039,
          3.41788387298584,
          4.7105712890625,
          7.941229343414307,
          1.7019248008728027,
          0.33232563734054565,
          -9.627176284790039,
          -9.859729766845703,
          4.161688804626465,
          -7.214513301849365,
          11.458280563354492,
          -9.058046340942383,
          7.720358371734619,
          10.03757095336914,
          2.3073954582214355,
          7.761205196380615,
          -8.956035614013672,
          -3.0040953159332275,
          -1.0210219621658325,
          1.0906370878219604,
          5.798981189727783,
          -4.785841464996338,
          -8.481880187988281,
          7.722869396209717,
          -11.43556022644043,
          -0.4627475440502167,
          6.880748271942139,
          6.617673397064209,
          -1.3684979677200317,
          1.27023184299469,
          3.626710891723633,
          -8.879780769348145,
          -0.2972182035446167,
          0.5980057716369629,
          6.580036640167236,
          2.254059314727783,
          2.5626702308654785,
          2.2873384952545166,
          -9.122854232788086,
          6.151629447937012,
          -4.817230224609375,
          -14.001233100891113,
          7.724332332611084,
          -10.78490924835205,
          -0.08765729516744614,
          -10.09976863861084,
          5.4117584228515625,
          2.1154353618621826,
          8.827674865722656,
          0.5942128896713257,
          8.064756393432617,
          8.411876678466797,
          4.9207234382629395,
          5.98547887802124,
          4.570784568786621,
          -9.19680404663086,
          5.958043575286865,
          -8.399813652038574,
          -0.01925310678780079,
          4.723146438598633,
          -5.841874122619629,
          6.772304058074951,
          7.219905853271484,
          7.022841930389404,
          -9.462220191955566,
          -14.785493850708008,
          -0.415304571390152,
          -5.956478595733643,
          -3.0676114559173584,
          1.5422054529190063,
          5.956071376800537,
          6.079375743865967,
          -6.8390212059021,
          2.091813325881958,
          -8.858262062072754,
          5.842967987060547,
          1.6351149082183838,
          3.0690500736236572,
          -6.742864608764648,
          0.5766326785087585,
          -8.041441917419434,
          1.122829556465149,
          -3.6836113929748535,
          6.803230285644531,
          9.3795166015625,
          8.679168701171875,
          -12.78950023651123,
          6.092926025390625,
          6.347433090209961,
          6.777238845825195,
          -10.150054931640625,
          -6.740528106689453,
          6.0344462394714355,
          0.9673171639442444,
          0.7437859177589417,
          -7.290428638458252,
          7.084539890289307,
          -9.423032760620117,
          0.5954819321632385,
          -6.422458648681641,
          -8.782357215881348,
          -6.82037353515625,
          -8.346232414245605,
          7.043280124664307,
          1.3071777820587158,
          6.395008087158203,
          7.253617286682129,
          -8.91176986694336,
          -7.499614238739014,
          8.508575439453125,
          -0.9507507085800171,
          6.778655529022217,
          -1.3994770050048828,
          11.330876350402832,
          7.768649578094482,
          -13.579086303710938,
          0.17453911900520325,
          -8.13545036315918,
          5.565173149108887,
          5.79279899597168,
          3.9436354637145996,
          7.541747093200684,
          5.514520645141602,
          -13.241870880126953,
          4.803396224975586,
          -12.263648986816406,
          2.9714276790618896,
          4.253763198852539,
          4.75174617767334,
          3.6505606174468994,
          5.0108323097229,
          -7.808199405670166,
          3.1496529579162598,
          -9.429346084594727,
          -3.1080737113952637,
          7.458556652069092,
          -14.097920417785645,
          5.976308822631836,
          5.555455684661865,
          -10.657752990722656,
          7.029242515563965,
          5.059638977050781,
          -10.805330276489258,
          -7.330482006072998,
          7.871591567993164,
          9.5977201461792,
          -2.238459348678589,
          6.4513726234436035,
          8.576391220092773,
          0.9235231876373291,
          1.4000097513198853,
          -4.547698020935059,
          6.674289226531982,
          -3.90474534034729,
          7.052024841308594,
          -8.268646240234375,
          2.0651721954345703,
          0.525626003742218,
          -9.16832160949707,
          -10.485261917114258,
          7.363663196563721,
          -1.3863087892532349,
          9.471055030822754,
          -3.373077392578125,
          7.68975830078125,
          4.83989953994751,
          6.629082202911377,
          1.3070974349975586,
          0.9671239852905273,
          -10.01069164276123,
          3.039597749710083,
          6.950984001159668,
          1.3275060653686523,
          -10.589844703674316,
          -2.040996789932251,
          5.642452239990234,
          2.945582866668701,
          -4.608490943908691,
          8.962159156799316,
          5.125171661376953,
          1.152446985244751,
          2.5328052043914795,
          7.341262340545654,
          -12.8665132522583,
          2.1385395526885986,
          6.338908672332764,
          5.719752311706543,
          8.53451156616211,
          1.5909026861190796,
          0.09334802627563477,
          -5.486363887786865,
          -1.8267056941986084,
          6.940762519836426,
          0.4170336425304413,
          -12.784555435180664,
          6.0047736167907715,
          6.458686351776123,
          -6.2919416427612305,
          8.149523735046387,
          0.5886020660400391,
          -11.858491897583008,
          -11.2022123336792,
          8.292170524597168,
          -3.1657044887542725,
          -1.2115561962127686,
          -0.37841135263442993,
          -2.053581714630127,
          -8.809000015258789,
          3.7501959800720215,
          -3.97151255607605,
          -11.146641731262207,
          -9.873808860778809,
          4.0696516036987305,
          6.845717430114746,
          -5.971510887145996,
          6.894415378570557,
          -8.399006843566895,
          -9.55587100982666,
          1.8027639389038086,
          3.163766622543335,
          3.8078665733337402,
          8.150444030761719,
          8.421899795532227,
          8.606280326843262,
          -5.161072731018066,
          -0.8785454034805298,
          8.515385627746582,
          6.82798957824707,
          7.820367813110352,
          -7.097797393798828,
          3.2166762351989746,
          -13.23812484741211,
          9.055554389953613,
          0.8352031707763672,
          6.606706619262695,
          7.642144203186035,
          9.815735816955566,
          -3.1225342750549316,
          -8.78205394744873,
          1.9811233282089233,
          6.222270488739014,
          8.510788917541504,
          -3.6883504390716553,
          6.11225700378418,
          8.199511528015137,
          6.084116458892822,
          -9.376242637634277,
          -3.761510133743286,
          -9.20152759552002,
          8.796871185302734,
          -1.846408486366272,
          5.798754692077637,
          4.652526378631592,
          1.1856908798217773,
          4.175001621246338,
          -4.929713726043701,
          -13.546186447143555,
          -8.255389213562012,
          -6.770719528198242,
          -14.854829788208008,
          -8.814499855041504,
          -3.453792095184326,
          0.14763173460960388,
          5.099471092224121,
          4.8477582931518555,
          0.09385333955287933,
          -4.882979393005371,
          7.606371879577637,
          3.2861311435699463,
          -6.202094078063965,
          1.180535912513733,
          -13.349536895751953,
          11.84821891784668,
          7.003845691680908,
          -0.3867141604423523,
          -6.155368804931641,
          -15.04884147644043,
          -11.588571548461914,
          8.82741641998291,
          -7.803256511688232,
          1.868270993232727,
          -12.233402252197266,
          1.166640281677246,
          -10.744521141052246,
          -12.721023559570312,
          6.249669075012207,
          4.478172302246094,
          -4.65346622467041,
          -10.13383674621582,
          3.708754062652588,
          3.001866340637207,
          -9.523356437683105,
          0.3698122203350067,
          7.241139888763428,
          9.817705154418945,
          4.628772258758545,
          -6.853762626647949,
          7.376328468322754,
          2.380524158477783,
          -1.4290964603424072,
          5.283966064453125,
          -2.6618006229400635,
          8.8212251663208,
          -3.8940069675445557,
          3.1996893882751465,
          -10.133914947509766,
          -8.348796844482422,
          -9.196645736694336,
          -13.385534286499023,
          11.371746063232422,
          2.476318359375,
          4.257582664489746,
          -5.493338108062744,
          8.131683349609375,
          7.432328701019287,
          9.111867904663086,
          -1.0647481679916382,
          -8.243172645568848,
          6.950500011444092,
          -0.3010091185569763,
          -6.779752731323242,
          1.0402674674987793,
          -9.34897518157959,
          -8.538155555725098,
          -15.253944396972656,
          4.436060905456543,
          -10.642775535583496,
          5.0713791847229,
          -7.767332077026367,
          2.950774669647217,
          4.098306655883789,
          0.891503632068634,
          -14.26766586303711,
          0.444654643535614,
          -2.0562195777893066,
          -15.447097778320312,
          0.6523978114128113,
          5.078494548797607,
          -10.472811698913574,
          -3.187669515609741,
          0.8464316129684448,
          -1.7706903219223022,
          1.9925498962402344,
          9.087530136108398,
          -11.102750778198242,
          5.829293251037598,
          -0.6797544956207275,
          -10.518036842346191,
          4.313896656036377,
          2.78727126121521,
          9.055606842041016,
          1.6077197790145874,
          10.407271385192871,
          4.595517635345459,
          7.447007656097412,
          -4.8300395011901855,
          -4.0770721435546875,
          6.447103500366211,
          2.9948408603668213,
          7.581234455108643,
          7.837432384490967,
          8.330806732177734,
          5.269563674926758,
          11.210814476013184,
          -7.676699161529541,
          7.560791492462158,
          7.352002143859863,
          -8.352124214172363,
          -2.1087963581085205,
          -7.59828519821167,
          -5.9434919357299805,
          -13.292128562927246,
          0.7860024571418762,
          3.52695894241333,
          8.63637924194336,
          -13.322395324707031,
          9.073497772216797,
          2.399174213409424,
          -4.077829837799072,
          2.854214906692505,
          0.9958518743515015,
          9.68198013305664,
          1.8032177686691284,
          -12.556074142456055,
          3.6106138229370117,
          -0.11276695877313614,
          8.585708618164062,
          10.505043983459473,
          -8.80168342590332,
          10.719361305236816,
          8.53720474243164,
          1.2788753509521484,
          9.054322242736816,
          4.969001770019531,
          7.695362091064453,
          6.848856449127197,
          -7.308695316314697,
          -10.35266399383545,
          -8.65095043182373,
          -12.004706382751465,
          -2.4328176975250244,
          7.720491886138916,
          2.8635218143463135,
          -11.39585018157959,
          -10.116992950439453,
          -1.5577563047409058,
          6.883907318115234,
          2.224813938140869,
          3.898719310760498,
          0.6768743991851807,
          0.9903490543365479,
          8.18154239654541,
          2.951472520828247,
          -3.065441131591797,
          7.8410420417785645,
          3.7082409858703613,
          5.223626613616943,
          -3.6458091735839844,
          8.555693626403809,
          -1.2404437065124512,
          4.578733444213867,
          8.351244926452637,
          7.344513893127441,
          7.02551794052124,
          9.515426635742188,
          0.40224888920783997,
          2.2194955348968506,
          4.781193733215332,
          1.5359455347061157,
          -7.52524471282959,
          -10.479227066040039,
          -9.71975040435791,
          -10.927974700927734,
          1.3730316162109375,
          1.5526782274246216,
          1.8741772174835205,
          -3.226518154144287,
          -10.361994743347168,
          1.0991579294204712,
          -2.6041860580444336,
          -3.160661220550537,
          0.4673524796962738,
          -2.1474931240081787,
          7.9923319816589355,
          9.124771118164062,
          -8.477988243103027,
          0.2992790937423706,
          -12.379148483276367,
          1.1220120191574097,
          7.395559787750244,
          -15.272799491882324,
          -3.9234657287597656,
          -7.510388374328613,
          -4.343452453613281,
          -7.006338596343994,
          1.5693612098693848,
          11.576550483703613,
          3.442472457885742,
          -8.462936401367188,
          6.770803928375244,
          9.756478309631348,
          -6.190136909484863,
          0.1535889059305191,
          -13.69994831085205,
          -5.086826324462891,
          -8.128158569335938,
          3.8487436771392822,
          -10.734538078308105,
          -0.11849619448184967,
          3.9565165042877197,
          1.2275620698928833,
          9.94827938079834,
          6.225100994110107,
          5.871298313140869,
          -4.4194769859313965,
          -7.613919734954834,
          -0.5514640212059021,
          3.253603935241699,
          5.048040390014648,
          -2.3614001274108887,
          1.2163023948669434,
          -8.19288158416748,
          7.562333583831787,
          4.968015193939209,
          8.570779800415039,
          7.979710102081299,
          7.915273666381836,
          5.334976673126221,
          2.55371356010437,
          -9.850893020629883,
          -1.7890437841415405,
          2.446413993835449,
          6.3944854736328125,
          -1.4549342393875122,
          7.8480753898620605,
          12.083073616027832,
          7.064293384552002,
          8.312971115112305,
          -3.7210447788238525,
          1.2137490510940552,
          -9.760802268981934,
          4.4985575675964355,
          -0.4858193099498749,
          5.401917457580566,
          -8.133968353271484,
          4.029598236083984,
          11.272043228149414,
          5.348710060119629,
          3.273052215576172,
          4.644938945770264,
          3.182849168777466,
          1.8957035541534424,
          12.743691444396973,
          8.482580184936523,
          -6.219219207763672,
          -10.508376121520996,
          -11.734692573547363,
          1.086584210395813,
          1.2711702585220337,
          -11.25145435333252,
          -2.761531114578247,
          5.865205764770508,
          -8.634486198425293,
          7.744116306304932,
          10.465929985046387,
          -0.8303989171981812,
          -0.044166430830955505,
          0.9847597479820251,
          -0.14391230046749115,
          1.9646070003509521,
          -3.3705592155456543,
          3.4533045291900635,
          -2.9840080738067627,
          7.386689186096191,
          4.439319610595703,
          0.055390238761901855,
          -3.044102907180786,
          0.9125152230262756,
          -8.453837394714355,
          9.306979179382324,
          3.204714298248291,
          -7.834660530090332,
          0.3017662763595581,
          -3.5049326419830322,
          6.686652660369873,
          8.436857223510742,
          6.19378137588501,
          4.89325475692749,
          -1.2708609104156494,
          -4.697692394256592,
          2.3332901000976562,
          3.210433006286621,
          0.37573638558387756,
          11.414048194885254,
          -9.11375904083252,
          -13.275479316711426,
          -14.102361679077148,
          1.7098796367645264,
          -0.014396028593182564,
          -6.477671146392822,
          -7.319382190704346,
          2.205061674118042,
          -8.393446922302246,
          -13.610261917114258,
          -10.040078163146973,
          12.054645538330078,
          -6.647180080413818,
          5.00060510635376,
          9.3840913772583,
          -5.765144348144531,
          7.775066375732422,
          7.6803483963012695,
          0.8622148633003235,
          -8.128968238830566,
          -11.356048583984375,
          0.35542064905166626,
          0.7817109227180481,
          4.392232894897461,
          3.863140106201172,
          -1.8190242052078247,
          -0.7439888119697571,
          7.561919212341309,
          -9.007441520690918,
          6.966598033905029,
          8.615665435791016,
          -6.804824352264404,
          7.540591716766357,
          -7.903193950653076,
          -11.26282787322998,
          -6.232363224029541,
          0.897561252117157,
          8.709900856018066,
          -7.6422810554504395,
          1.31353759765625,
          0.3501521050930023,
          1.28558349609375,
          -15.200057983398438,
          -9.264869689941406,
          -9.369742393493652,
          7.881410598754883,
          4.4454803466796875,
          -8.472381591796875,
          -14.720952033996582,
          4.798638343811035,
          1.9838069677352905,
          6.995400428771973,
          -13.394312858581543,
          -9.747364044189453,
          9.036194801330566,
          -9.321366310119629,
          2.279141426086426,
          -13.630335807800293,
          7.707447052001953,
          8.427504539489746,
          -0.7105560302734375,
          -5.423515319824219,
          -11.026581764221191,
          4.272389888763428,
          0.015176533721387386,
          -0.38858991861343384,
          -0.2126731276512146,
          9.691627502441406,
          -8.699623107910156,
          4.764190196990967,
          0.778891384601593,
          3.6934902667999268,
          10.595353126525879,
          1.2816383838653564,
          -4.930706977844238,
          2.600034475326538,
          -13.937137603759766,
          -8.08370304107666,
          4.745244026184082,
          -4.786022186279297,
          4.846277236938477,
          7.646108150482178,
          3.7615020275115967,
          7.79047966003418,
          9.850730895996094,
          -7.427610397338867,
          -14.310175895690918,
          4.64659309387207,
          3.3882195949554443,
          4.5812087059021,
          10.586104393005371,
          -12.293314933776855,
          -10.903369903564453,
          2.7663609981536865,
          3.4854445457458496,
          -6.263991832733154,
          0.6212771534919739,
          2.2894465923309326,
          -6.597116947174072,
          6.600854396820068,
          -4.818145275115967,
          -7.6382927894592285,
          9.299139022827148,
          -0.09429684281349182,
          -10.312887191772461,
          -3.206897020339966,
          7.621532440185547,
          7.6203293800354,
          7.77328634262085,
          9.321374893188477,
          5.544317245483398,
          -10.869437217712402,
          -8.763256072998047,
          -3.3636209964752197,
          8.530872344970703,
          -10.550822257995605,
          -1.1505646705627441,
          -10.002826690673828,
          -1.4729562997817993,
          5.414643287658691,
          0.040114253759384155,
          11.68069076538086,
          -11.940335273742676,
          2.0891683101654053,
          -8.637385368347168,
          -10.84045124053955,
          2.7578108310699463,
          -9.547588348388672,
          4.751979827880859,
          8.891307830810547,
          6.34677267074585,
          -10.149198532104492,
          7.503131866455078,
          -6.488574028015137,
          8.398643493652344,
          -1.7916549444198608,
          3.6174886226654053,
          -8.970466613769531,
          6.339242935180664,
          -0.976219892501831,
          4.356406211853027,
          2.1679790019989014,
          -5.918813228607178,
          -7.029533386230469,
          -6.876920700073242,
          -13.158639907836914,
          -9.790253639221191,
          5.798885822296143,
          7.234712600708008,
          12.584218978881836,
          -9.257341384887695,
          -0.19712111353874207,
          -8.344708442687988,
          1.2926416397094727,
          -5.174039840698242,
          4.229944705963135,
          -3.0869178771972656,
          -9.556260108947754,
          3.225348472595215,
          -8.197715759277344,
          -8.362541198730469,
          6.0788373947143555,
          -0.7658118009567261,
          1.4820038080215454,
          5.95785665512085,
          0.10498633235692978,
          0.26071697473526,
          7.533056259155273,
          -10.925882339477539,
          -5.145937442779541,
          7.908801555633545,
          7.109379291534424,
          -2.7247166633605957,
          -14.323173522949219,
          5.203908443450928,
          -1.1633657217025757,
          0.3241305649280548,
          -14.013677597045898,
          2.535362482070923,
          -8.697871208190918,
          -5.558185577392578,
          6.9172210693359375,
          11.580001831054688,
          12.186220169067383,
          -9.806049346923828,
          11.172233581542969,
          2.4103078842163086,
          -9.539776802062988,
          5.579622268676758,
          -8.094858169555664,
          7.239575386047363,
          -6.320733070373535,
          0.3431055247783661,
          5.819643020629883,
          -8.704448699951172,
          -0.8462456464767456,
          3.2834632396698,
          5.903029918670654,
          7.4466729164123535,
          -3.765101671218872,
          -3.0697264671325684,
          -7.163292407989502,
          8.687294960021973,
          10.35647964477539,
          -4.593244552612305,
          0.29701805114746094,
          -14.502751350402832,
          9.693601608276367,
          -13.80789852142334,
          0.809445321559906,
          -13.451595306396484,
          -11.048940658569336,
          6.5093536376953125,
          8.329614639282227,
          -6.5050764083862305,
          -0.4763336479663849,
          7.769162654876709,
          7.657033443450928,
          -0.3767527937889099,
          6.592850685119629,
          12.577438354492188,
          2.9408774375915527,
          2.1048271656036377,
          1.2661231756210327,
          6.483788013458252,
          1.6886080503463745,
          -7.618739604949951,
          -14.785626411437988,
          -7.472072124481201,
          3.2656466960906982,
          6.380367755889893,
          -12.809915542602539,
          1.3669192790985107,
          0.8765325546264648,
          2.110182523727417,
          -11.385235786437988,
          -9.325255393981934,
          -8.72019100189209,
          -9.847654342651367,
          7.960519313812256,
          6.709659576416016,
          1.1676123142242432,
          2.2921597957611084,
          7.074396133422852,
          1.3173713684082031,
          -8.812973976135254,
          -12.996994018554688,
          7.783990383148193,
          1.763676643371582,
          3.1039845943450928,
          1.7149651050567627,
          7.778622150421143,
          10.46505355834961,
          -4.435426712036133,
          6.815669536590576,
          -13.844427108764648,
          -13.630773544311523,
          -7.033273220062256,
          1.5982651710510254,
          -7.119388580322266,
          2.473483085632324,
          -12.825759887695312,
          6.114979267120361,
          -4.693362712860107
         ]
        }
       ],
       "layout": {
        "coloraxis": {
         "colorbar": {
          "title": {
           "text": "Anomaly"
          }
         },
         "colorscale": [
          [
           0,
           "#0d0887"
          ],
          [
           0.1111111111111111,
           "#46039f"
          ],
          [
           0.2222222222222222,
           "#7201a8"
          ],
          [
           0.3333333333333333,
           "#9c179e"
          ],
          [
           0.4444444444444444,
           "#bd3786"
          ],
          [
           0.5555555555555556,
           "#d8576b"
          ],
          [
           0.6666666666666666,
           "#ed7953"
          ],
          [
           0.7777777777777778,
           "#fb9f3a"
          ],
          [
           0.8888888888888888,
           "#fdca26"
          ],
          [
           1,
           "#f0f921"
          ]
         ]
        },
        "height": 800,
        "legend": {
         "tracegroupgap": 0
        },
        "scene": {
         "domain": {
          "x": [
           0,
           1
          ],
          "y": [
           0,
           1
          ]
         },
         "xaxis": {
          "title": {
           "text": "0"
          }
         },
         "yaxis": {
          "title": {
           "text": "1"
          }
         },
         "zaxis": {
          "title": {
           "text": "2"
          }
         }
        },
        "template": {
         "data": {
          "bar": [
           {
            "error_x": {
             "color": "#2a3f5f"
            },
            "error_y": {
             "color": "#2a3f5f"
            },
            "marker": {
             "line": {
              "color": "#E5ECF6",
              "width": 0.5
             }
            },
            "type": "bar"
           }
          ],
          "barpolar": [
           {
            "marker": {
             "line": {
              "color": "#E5ECF6",
              "width": 0.5
             }
            },
            "type": "barpolar"
           }
          ],
          "carpet": [
           {
            "aaxis": {
             "endlinecolor": "#2a3f5f",
             "gridcolor": "white",
             "linecolor": "white",
             "minorgridcolor": "white",
             "startlinecolor": "#2a3f5f"
            },
            "baxis": {
             "endlinecolor": "#2a3f5f",
             "gridcolor": "white",
             "linecolor": "white",
             "minorgridcolor": "white",
             "startlinecolor": "#2a3f5f"
            },
            "type": "carpet"
           }
          ],
          "choropleth": [
           {
            "colorbar": {
             "outlinewidth": 0,
             "ticks": ""
            },
            "type": "choropleth"
           }
          ],
          "contour": [
           {
            "colorbar": {
             "outlinewidth": 0,
             "ticks": ""
            },
            "colorscale": [
             [
              0,
              "#0d0887"
             ],
             [
              0.1111111111111111,
              "#46039f"
             ],
             [
              0.2222222222222222,
              "#7201a8"
             ],
             [
              0.3333333333333333,
              "#9c179e"
             ],
             [
              0.4444444444444444,
              "#bd3786"
             ],
             [
              0.5555555555555556,
              "#d8576b"
             ],
             [
              0.6666666666666666,
              "#ed7953"
             ],
             [
              0.7777777777777778,
              "#fb9f3a"
             ],
             [
              0.8888888888888888,
              "#fdca26"
             ],
             [
              1,
              "#f0f921"
             ]
            ],
            "type": "contour"
           }
          ],
          "contourcarpet": [
           {
            "colorbar": {
             "outlinewidth": 0,
             "ticks": ""
            },
            "type": "contourcarpet"
           }
          ],
          "heatmap": [
           {
            "colorbar": {
             "outlinewidth": 0,
             "ticks": ""
            },
            "colorscale": [
             [
              0,
              "#0d0887"
             ],
             [
              0.1111111111111111,
              "#46039f"
             ],
             [
              0.2222222222222222,
              "#7201a8"
             ],
             [
              0.3333333333333333,
              "#9c179e"
             ],
             [
              0.4444444444444444,
              "#bd3786"
             ],
             [
              0.5555555555555556,
              "#d8576b"
             ],
             [
              0.6666666666666666,
              "#ed7953"
             ],
             [
              0.7777777777777778,
              "#fb9f3a"
             ],
             [
              0.8888888888888888,
              "#fdca26"
             ],
             [
              1,
              "#f0f921"
             ]
            ],
            "type": "heatmap"
           }
          ],
          "heatmapgl": [
           {
            "colorbar": {
             "outlinewidth": 0,
             "ticks": ""
            },
            "colorscale": [
             [
              0,
              "#0d0887"
             ],
             [
              0.1111111111111111,
              "#46039f"
             ],
             [
              0.2222222222222222,
              "#7201a8"
             ],
             [
              0.3333333333333333,
              "#9c179e"
             ],
             [
              0.4444444444444444,
              "#bd3786"
             ],
             [
              0.5555555555555556,
              "#d8576b"
             ],
             [
              0.6666666666666666,
              "#ed7953"
             ],
             [
              0.7777777777777778,
              "#fb9f3a"
             ],
             [
              0.8888888888888888,
              "#fdca26"
             ],
             [
              1,
              "#f0f921"
             ]
            ],
            "type": "heatmapgl"
           }
          ],
          "histogram": [
           {
            "marker": {
             "colorbar": {
              "outlinewidth": 0,
              "ticks": ""
             }
            },
            "type": "histogram"
           }
          ],
          "histogram2d": [
           {
            "colorbar": {
             "outlinewidth": 0,
             "ticks": ""
            },
            "colorscale": [
             [
              0,
              "#0d0887"
             ],
             [
              0.1111111111111111,
              "#46039f"
             ],
             [
              0.2222222222222222,
              "#7201a8"
             ],
             [
              0.3333333333333333,
              "#9c179e"
             ],
             [
              0.4444444444444444,
              "#bd3786"
             ],
             [
              0.5555555555555556,
              "#d8576b"
             ],
             [
              0.6666666666666666,
              "#ed7953"
             ],
             [
              0.7777777777777778,
              "#fb9f3a"
             ],
             [
              0.8888888888888888,
              "#fdca26"
             ],
             [
              1,
              "#f0f921"
             ]
            ],
            "type": "histogram2d"
           }
          ],
          "histogram2dcontour": [
           {
            "colorbar": {
             "outlinewidth": 0,
             "ticks": ""
            },
            "colorscale": [
             [
              0,
              "#0d0887"
             ],
             [
              0.1111111111111111,
              "#46039f"
             ],
             [
              0.2222222222222222,
              "#7201a8"
             ],
             [
              0.3333333333333333,
              "#9c179e"
             ],
             [
              0.4444444444444444,
              "#bd3786"
             ],
             [
              0.5555555555555556,
              "#d8576b"
             ],
             [
              0.6666666666666666,
              "#ed7953"
             ],
             [
              0.7777777777777778,
              "#fb9f3a"
             ],
             [
              0.8888888888888888,
              "#fdca26"
             ],
             [
              1,
              "#f0f921"
             ]
            ],
            "type": "histogram2dcontour"
           }
          ],
          "mesh3d": [
           {
            "colorbar": {
             "outlinewidth": 0,
             "ticks": ""
            },
            "type": "mesh3d"
           }
          ],
          "parcoords": [
           {
            "line": {
             "colorbar": {
              "outlinewidth": 0,
              "ticks": ""
             }
            },
            "type": "parcoords"
           }
          ],
          "pie": [
           {
            "automargin": true,
            "type": "pie"
           }
          ],
          "scatter": [
           {
            "marker": {
             "colorbar": {
              "outlinewidth": 0,
              "ticks": ""
             }
            },
            "type": "scatter"
           }
          ],
          "scatter3d": [
           {
            "line": {
             "colorbar": {
              "outlinewidth": 0,
              "ticks": ""
             }
            },
            "marker": {
             "colorbar": {
              "outlinewidth": 0,
              "ticks": ""
             }
            },
            "type": "scatter3d"
           }
          ],
          "scattercarpet": [
           {
            "marker": {
             "colorbar": {
              "outlinewidth": 0,
              "ticks": ""
             }
            },
            "type": "scattercarpet"
           }
          ],
          "scattergeo": [
           {
            "marker": {
             "colorbar": {
              "outlinewidth": 0,
              "ticks": ""
             }
            },
            "type": "scattergeo"
           }
          ],
          "scattergl": [
           {
            "marker": {
             "colorbar": {
              "outlinewidth": 0,
              "ticks": ""
             }
            },
            "type": "scattergl"
           }
          ],
          "scattermapbox": [
           {
            "marker": {
             "colorbar": {
              "outlinewidth": 0,
              "ticks": ""
             }
            },
            "type": "scattermapbox"
           }
          ],
          "scatterpolar": [
           {
            "marker": {
             "colorbar": {
              "outlinewidth": 0,
              "ticks": ""
             }
            },
            "type": "scatterpolar"
           }
          ],
          "scatterpolargl": [
           {
            "marker": {
             "colorbar": {
              "outlinewidth": 0,
              "ticks": ""
             }
            },
            "type": "scatterpolargl"
           }
          ],
          "scatterternary": [
           {
            "marker": {
             "colorbar": {
              "outlinewidth": 0,
              "ticks": ""
             }
            },
            "type": "scatterternary"
           }
          ],
          "surface": [
           {
            "colorbar": {
             "outlinewidth": 0,
             "ticks": ""
            },
            "colorscale": [
             [
              0,
              "#0d0887"
             ],
             [
              0.1111111111111111,
              "#46039f"
             ],
             [
              0.2222222222222222,
              "#7201a8"
             ],
             [
              0.3333333333333333,
              "#9c179e"
             ],
             [
              0.4444444444444444,
              "#bd3786"
             ],
             [
              0.5555555555555556,
              "#d8576b"
             ],
             [
              0.6666666666666666,
              "#ed7953"
             ],
             [
              0.7777777777777778,
              "#fb9f3a"
             ],
             [
              0.8888888888888888,
              "#fdca26"
             ],
             [
              1,
              "#f0f921"
             ]
            ],
            "type": "surface"
           }
          ],
          "table": [
           {
            "cells": {
             "fill": {
              "color": "#EBF0F8"
             },
             "line": {
              "color": "white"
             }
            },
            "header": {
             "fill": {
              "color": "#C8D4E3"
             },
             "line": {
              "color": "white"
             }
            },
            "type": "table"
           }
          ]
         },
         "layout": {
          "annotationdefaults": {
           "arrowcolor": "#2a3f5f",
           "arrowhead": 0,
           "arrowwidth": 1
          },
          "autotypenumbers": "strict",
          "coloraxis": {
           "colorbar": {
            "outlinewidth": 0,
            "ticks": ""
           }
          },
          "colorscale": {
           "diverging": [
            [
             0,
             "#8e0152"
            ],
            [
             0.1,
             "#c51b7d"
            ],
            [
             0.2,
             "#de77ae"
            ],
            [
             0.3,
             "#f1b6da"
            ],
            [
             0.4,
             "#fde0ef"
            ],
            [
             0.5,
             "#f7f7f7"
            ],
            [
             0.6,
             "#e6f5d0"
            ],
            [
             0.7,
             "#b8e186"
            ],
            [
             0.8,
             "#7fbc41"
            ],
            [
             0.9,
             "#4d9221"
            ],
            [
             1,
             "#276419"
            ]
           ],
           "sequential": [
            [
             0,
             "#0d0887"
            ],
            [
             0.1111111111111111,
             "#46039f"
            ],
            [
             0.2222222222222222,
             "#7201a8"
            ],
            [
             0.3333333333333333,
             "#9c179e"
            ],
            [
             0.4444444444444444,
             "#bd3786"
            ],
            [
             0.5555555555555556,
             "#d8576b"
            ],
            [
             0.6666666666666666,
             "#ed7953"
            ],
            [
             0.7777777777777778,
             "#fb9f3a"
            ],
            [
             0.8888888888888888,
             "#fdca26"
            ],
            [
             1,
             "#f0f921"
            ]
           ],
           "sequentialminus": [
            [
             0,
             "#0d0887"
            ],
            [
             0.1111111111111111,
             "#46039f"
            ],
            [
             0.2222222222222222,
             "#7201a8"
            ],
            [
             0.3333333333333333,
             "#9c179e"
            ],
            [
             0.4444444444444444,
             "#bd3786"
            ],
            [
             0.5555555555555556,
             "#d8576b"
            ],
            [
             0.6666666666666666,
             "#ed7953"
            ],
            [
             0.7777777777777778,
             "#fb9f3a"
            ],
            [
             0.8888888888888888,
             "#fdca26"
            ],
            [
             1,
             "#f0f921"
            ]
           ]
          },
          "colorway": [
           "#636efa",
           "#EF553B",
           "#00cc96",
           "#ab63fa",
           "#FFA15A",
           "#19d3f3",
           "#FF6692",
           "#B6E880",
           "#FF97FF",
           "#FECB52"
          ],
          "font": {
           "color": "#2a3f5f"
          },
          "geo": {
           "bgcolor": "white",
           "lakecolor": "white",
           "landcolor": "#E5ECF6",
           "showlakes": true,
           "showland": true,
           "subunitcolor": "white"
          },
          "hoverlabel": {
           "align": "left"
          },
          "hovermode": "closest",
          "mapbox": {
           "style": "light"
          },
          "paper_bgcolor": "white",
          "plot_bgcolor": "#E5ECF6",
          "polar": {
           "angularaxis": {
            "gridcolor": "white",
            "linecolor": "white",
            "ticks": ""
           },
           "bgcolor": "#E5ECF6",
           "radialaxis": {
            "gridcolor": "white",
            "linecolor": "white",
            "ticks": ""
           }
          },
          "scene": {
           "xaxis": {
            "backgroundcolor": "#E5ECF6",
            "gridcolor": "white",
            "gridwidth": 2,
            "linecolor": "white",
            "showbackground": true,
            "ticks": "",
            "zerolinecolor": "white"
           },
           "yaxis": {
            "backgroundcolor": "#E5ECF6",
            "gridcolor": "white",
            "gridwidth": 2,
            "linecolor": "white",
            "showbackground": true,
            "ticks": "",
            "zerolinecolor": "white"
           },
           "zaxis": {
            "backgroundcolor": "#E5ECF6",
            "gridcolor": "white",
            "gridwidth": 2,
            "linecolor": "white",
            "showbackground": true,
            "ticks": "",
            "zerolinecolor": "white"
           }
          },
          "shapedefaults": {
           "line": {
            "color": "#2a3f5f"
           }
          },
          "ternary": {
           "aaxis": {
            "gridcolor": "white",
            "linecolor": "white",
            "ticks": ""
           },
           "baxis": {
            "gridcolor": "white",
            "linecolor": "white",
            "ticks": ""
           },
           "bgcolor": "#E5ECF6",
           "caxis": {
            "gridcolor": "white",
            "linecolor": "white",
            "ticks": ""
           }
          },
          "title": {
           "x": 0.05
          },
          "xaxis": {
           "automargin": true,
           "gridcolor": "white",
           "linecolor": "white",
           "ticks": "",
           "title": {
            "standoff": 15
           },
           "zerolinecolor": "white",
           "zerolinewidth": 2
          },
          "yaxis": {
           "automargin": true,
           "gridcolor": "white",
           "linecolor": "white",
           "ticks": "",
           "title": {
            "standoff": 15
           },
           "zerolinecolor": "white",
           "zerolinewidth": 2
          }
         }
        },
        "title": {
         "text": "3d TSNE Plot for Outliers"
        },
        "width": 900
       }
      },
      "text/html": [
       "<div>                            <div id=\"c6cbb1f7-f9ae-47b8-8fa1-888dd9a826da\" class=\"plotly-graph-div\" style=\"height:800px; width:900px;\"></div>            <script type=\"text/javascript\">                require([\"plotly\"], function(Plotly) {                    window.PLOTLYENV=window.PLOTLYENV || {};                                    if (document.getElementById(\"c6cbb1f7-f9ae-47b8-8fa1-888dd9a826da\")) {                    Plotly.newPlot(                        \"c6cbb1f7-f9ae-47b8-8fa1-888dd9a826da\",                        [{\"customdata\": [[0.263995357], [0.546092303], [0.336714104], [0.092107835], [0.325261175], [0.212464853], [0.258565714], [0.869236755], [0.197077957], [0.292984504], [0.82178316], [0.796622959], [0.045577011], [0.613660351], [0.950744566], [0.336346337], [0.034440667], [0.741544275], [0.18443265], [0.664514943], [0.162824858], [0.729838445], [0.62837389], [0.057883661], [0.445534827], [0.80183695], [0.27709612], [0.228634015], [0.834860657], [0.669766511], [0.532527349], [0.170459071], [0.510288468], [0.977561989], [0.249775993], [0.975500682], [0.613701727], [0.167420363], [0.537472516], [0.379899131], [0.633897303], [0.633960424], [0.549974653], [0.178172988], [0.85563814], [0.321796672], [0.817490537], [0.254879417], [0.344140513], [0.806145726], [0.277081671], [0.544328519], [0.07708393], [0.273081458], [0.390877336], [0.349621385], [0.214549744], [0.206075222], [0.86461997], [0.981708854], [0.334829646], [0.648387061], [0.093643561], [0.837802698], [0.760343967], [0.291404174], [0.3413454], [0.761112484], [0.541899775], [0.684176639], [0.983535597], [0.52081245], [0.328227724], [0.097157938], [0.876088593], [0.870214512], [0.656086992], [0.306791514], [0.48126734], [0.259559174], [0.326123655], [0.930568042], [0.6583894], [0.689992335], [0.315781109], [0.566905093], [0.637526619], [0.687540723], [0.324300602], [0.592704906], [0.740253126], [0.594032877], [0.596452977], [0.277680817], [0.258329663], [0.142460864], [0.435533461], [0.702499044], [0.58897535], [0.653304374], [0.336968524], [0.631244736], [0.73530076], [0.050390366], [0.064264924], [0.665359476], [0.917835245], [0.44651012], [0.661938199], [0.439359853], [0.687572404], [0.363462248], [0.654262182], [0.578553536], [0.065927945], [0.550148559], [0.139182814], [0.080004635], [0.278228358], [0.560124266], [0.53639864], [0.426531904], [0.789109796], [0.742900474], [0.901692589], [0.650337401], [0.114057311], [0.260812592], [0.43991232], [0.964409284], [0.184401415], [0.345145446], [0.175894581], [0.312514453], [0.674131879], [0.32825045], [0.598231057], [0.092598817], [0.497916521], [0.419776521], [0.3121767], [0.937857107], [0.049030963], [0.476104526], [0.447397526], [0.295806058], [0.737363977], [0.625896253], [0.408813429], [0.437511156], [0.691351375], [0.935555275], [0.437846654], [0.072217715], [0.67636067], [0.468883999], [0.543820644], [0.655522647], [0.693528924], [0.108878312], [0.285463743], [0.0], [0.706495497], [0.273530633], [0.292320271], [0.673984307], [0.126121828], [0.946707459], [0.936338898], [0.853755364], [0.706071361], [0.693682186], [0.508527882], [0.347170389], [0.704154263], [0.658730088], [0.155841557], [0.311085435], [0.281135347], [0.094587802], [0.683260954], [0.907729251], [0.291512674], [0.752734459], [0.93482964], [0.071413953], [0.594896327], [0.404672015], [0.13837621], [0.747338468], [0.530882486], [0.282649594], [0.699335734], [0.056111251], [0.855234998], [0.077895127], [0.891649583], [0.386742279], [0.27113158], [0.958888961], [0.085120869], [0.526902249], [0.066577785], [0.841506738], [0.255342095], [0.060545771], [0.073385869], [0.187493723], [0.858365688], [0.090640352], [0.709725227], [0.631300647], [0.247504474], [0.822843584], [0.373476759], [0.625538582], [0.292951715], [0.299730324], [0.25121407], [0.344480551], [0.293064767], [0.762803224], [0.738470804], [0.674883265], [0.719151612], [0.130980216], [0.511328036], [0.04492903], [0.560914449], [0.744040641], [0.266961634], [0.644231853], [0.038113352], [0.057155299], [0.341392461], [0.720463632], [0.402878236], [0.635148967], [0.320729467], [0.091209694], [0.23414609], [0.890221131], [0.602170884], [0.633652055], [0.806240837], [0.739731184], [0.465231269], [0.7321109], [0.373874305], [0.501587947], [0.115383158], [0.731946604], [0.418298728], [0.062259591], [0.391496379], [0.35984929], [0.245235627], [0.610028339], [0.435403602], [0.434309675], [0.523763344], [0.171187866], [0.187734303], [0.945014638], [0.027851097], [0.68445706], [0.178014532], [0.643427879], [0.59588355], [0.372361682], [0.586103584], [0.271658852], [0.59951107], [0.468363088], [0.314515565], [0.21893726], [0.254716562], [0.25612815], [0.602259755], [0.134381075], [0.513887424], [0.624241636], [0.160251854], [0.580708108], [0.270540486], [0.832919932], [0.93032134], [0.719157884], [0.886720033], [0.098792281], [0.787174286], [0.365592376], [0.719576193], [0.8058956], [0.755578334], [0.526005909], [0.68880424], [0.221115312], [0.739369477], [0.408440236], [0.348926542], [0.433713763], [0.596496607], [0.6942953], [0.709030966], [0.867652984], [0.89332545], [0.746020922], [0.538284443], [0.892219314], [0.935175765], [0.260527707], [0.956780449], [0.204932484], [0.687733351], [0.329063619], [0.632149831], [0.463744506], [0.698859621], [0.385446564], [0.479975377], [0.732279108], [0.3813543], [0.459326013], [0.257401434], [0.665014804], [0.103399542], [0.425284413], [0.943529051], [0.594750236], [0.543776817], [0.18203988], [0.235842084], [0.585984497], [0.762013168], [0.684982907], [0.676936933], [0.290184964], [0.481068222], [0.492766033], [0.221856234], [0.053875998], [0.082751144], [0.385366225], [0.702513961], [0.91553156], [0.082087436], [0.251280378], [0.416721817], [0.277032672], [0.579539754], [0.569363476], [0.133399703], [0.265045463], [0.936571901], [0.252618554], [0.054033081], [0.802481439], [0.528197693], [0.9515026], [0.572121173], [0.752938227], [0.143857535], [0.513484576], [0.313322389], [0.687797396], [0.37705984], [0.348226142], [0.67763282], [0.241387521], [0.850650179], [0.220348103], [0.476445464], [0.690324025], [0.364695946], [0.649249197], [0.943701921], [0.529645971], [0.299097002], [0.96696247], [0.272005242], [0.314161447], [0.752020991], [0.221882453], [0.720332673], [0.379204782], [0.60168653], [0.582932673], [0.950809853], [0.58830141], [0.880887227], [0.467857701], [0.879902171], [0.619844009], [0.359002573], [0.291511278], [0.694157143], [0.727960353], [0.617703921], [0.39581257], [0.58317282], [0.710332374], [0.253753693], [0.049412228], [0.728378695], [0.432432881], [0.58612345], [0.052342373], [0.053483902], [0.518729378], [0.933040208], [0.703554284], [0.268989899], [0.733006927], [0.444352467], [0.583394621], [0.871172692], [0.428767078], [0.300460841], [0.953329459], [0.606443965], [0.90986815], [0.714896449], [0.497349509], [0.853097486], [0.721804145], [0.303467328], [0.664485096], [0.27978062], [0.569481665], [0.628628926], [0.088368123], [0.733567326], [0.537436778], [0.638593691], [0.954726948], [0.632202332], [0.642134651], [0.744653087], [0.115714007], [0.486250073], [0.440356144], [0.08272289], [0.511591027], [0.394627555], [0.224394], [0.626927584], [0.290254057], [0.779008053], [0.86610579], [0.873326081], [0.49548916], [0.594297695], [0.918201584], [0.577042754], [0.019467671], [0.670298282], [0.546595316], [0.591665146], [0.42155819], [0.685608559], [0.340303024], [0.675626741], [0.319067345], [0.388499664], [0.706949589], [0.559409515], [0.687663508], [0.708804554], [0.681888094], [0.422535109], [0.320004605], [0.658281368], [0.634154867], [0.777332009], [0.812677205], [0.074280797], [0.39600217], [0.054933913], [0.825058925], [0.382642009], [0.868729818], [0.588043346], [0.891551577], [0.10920046], [0.647682781], [0.724342512], [0.070163044], [0.280882054], [0.039113261], [0.579641592], [0.639000922], [0.281745925], [0.647857744], [0.647905797], [0.875226264], [0.567603305], [0.262940591], [0.268026042], [0.40519133], [0.479965451], [0.33552403], [0.777165379], [0.425487963], [0.237986115], [0.142522971], [0.724176488], [0.234698933], [0.078182281], [0.855990155], [0.270251765], [0.435517841], [0.762697513], [0.464487258], [0.396112685], [0.376380921], [0.294594677], [0.694492121], [0.622767949], [0.847559722], [0.301463054], [0.912937812], [0.500017182], [0.902587935], [0.304517943], [0.299165673], [0.092014087], [0.488548917], [0.664664437], [0.265349549], [0.723657021], [0.149262385], [0.04577339], [0.69661064], [0.42181486], [0.733845785], [0.418795386], [0.677443529], [0.261283603], [0.268527767], [0.544322236], [0.431632036], [0.981018141], [0.214980724], [0.394729993], [0.122224944], [0.297496875], [0.374904431], [0.68698771], [0.388549207], [0.039296071], [0.73553424], [0.379294893], [0.732123386], [0.339221439], [0.659450594], [0.054838642], [0.640112102], [0.307141704], [0.396611907], [0.420439161], [0.241714974], [0.065893153], [0.910521937], [0.697163103], [0.072559853], [0.81825094], [0.311888815], [0.961644609], [0.816325524], [0.14647302], [0.548753945], [0.946158087], [0.293992717], [0.331479643], [0.906220031], [0.525540416], [0.83301411], [0.514849806], [0.574609024], [0.468711853], [0.71002775], [0.645973276], [0.229794416], [0.551783393], [0.055822991], [0.331750941], [0.715520198], [0.583924357], [0.306957691], [0.791478237], [0.164236639], [0.065711219], [0.948993132], [0.080423835], [0.052495426], [0.566346135], [0.3630266], [0.605442195], [0.630850584], [0.065791238], [0.286817071], [0.685462839], [0.260853706], [0.659122429], [0.443173922], [0.602063986], [0.060366911], [0.781903153], [0.514579807], [0.483886213], [0.600213807], [0.497364052], [0.411145245], [0.116999171], [0.341890141], [0.746950848], [0.396292746], [0.622143843], [0.335271141], [0.140257137], [0.081620681], [0.069837569], [0.468940008], [0.990857417], [0.896616832], [0.255310561], [0.224645267], [0.01991825], [0.296480415], [0.155458996], [0.577916714], [0.956303031], [0.813464394], [0.529675785], [0.287671353], [0.48039136], [0.281044822], [0.633196521], [0.093325377], [0.284473981], [0.052223775], [0.051129385], [0.967405608], [0.040045728], [0.908582921], [0.662117416], [0.424703209], [0.72207806], [0.666193327], [0.509681253], [0.751353621], [0.279073124], [0.074927], [0.916359535], [0.31040327], [0.716604052], [0.485587085], [0.306075181], [0.477558204], [0.711923941], [0.066348638], [0.274539351], [0.31082252], [0.476073127], [0.186795565], [0.26654207], [0.070231142], [0.26951927], [0.800004713], [0.273633667], [0.146479192], [0.378318951], [0.373849065], [0.242170835], [0.249796488], [0.066591188], [0.372956798], [0.501812291], [0.313097752], [0.880202196], [0.51981893], [0.364138746], [0.492682896], [0.285732652], [0.890114985], [0.316419561], [0.26866354], [0.771975959], [0.968888992], [0.080334377], [0.736828221], [0.300558071], [0.917950393], [0.465815039], [0.054036682], [0.963150123], [0.089653503], [0.707693234], [0.636416037], [0.539521117], [0.114757161], [0.357312419], [0.67639834], [0.43482839], [0.032326387], [0.711365605], [0.187486519], [0.052789653], [0.505863613], [0.927431873], [0.680984256], [0.882822186], [0.495705441], [0.596240398], [0.320610701], [0.3413685], [0.159681797], [0.318133669], [0.839301048], [0.064359251], [0.470216633], [0.776252291], [0.635843383], [0.62510543], [0.52959065], [0.986900166], [0.078585688], [0.233284267], [0.363330957], [0.716716981], [0.375889792], [0.223316889], [0.299343986], [0.538595767], [0.730297124], [0.66033077], [0.435296009], [0.326494313], [0.854402708], [0.573493847], [0.757786135], [0.704743233], [0.281575597], [0.671968208], [0.313726015], [0.364338275], [0.368216396], [0.386295207], [0.655971865], [0.566025273], [0.424999093], [0.090110371], [0.772350538], [0.331047258], [0.273716188], [0.23877568], [0.373079772], [0.331185868], [0.256134531], [0.678373225], [0.434638338], [0.654668307], [0.986681065], [0.371520495], [0.408359618], [0.40932365], [0.283412082], [0.395246531], [0.010984428], [0.306013869], [0.266194806], [0.299318521], [0.318293946], [0.74282591], [0.097664329], [0.079666942], [0.613258767], [0.99443072], [0.568835082], [0.708034516], [0.370592719], [0.669867361], [0.651295625], [0.462531569], [0.719625619], [0.45377248], [0.394863946], [0.323974831], [0.146454724], [0.779067041], [0.401828915], [0.601479585], [0.856423023], [0.565242962], [0.301225108], [0.282108144], [0.594378011], [0.705312368], [0.540869628], [0.319249574], [0.361766138], [0.625000704], [0.316287401], [0.047239021], [0.801182233], [0.508474436], [0.817893411], [0.399235601], [0.974051999], [0.72241535], [0.039564764], [0.908684108], [0.473010134], [0.718049628], [0.763479069], [0.647596537], [0.894997386], [0.222825901], [0.359012234], [0.944910252], [0.297877816], [0.172517997], [0.556586265], [0.876481735], [0.486677843], [0.459496733], [0.474126377], [0.70101144], [0.337597387], [0.537578886], [0.966992448], [0.056849545], [0.233249065], [0.380054711], [0.602929443], [0.303847999], [0.170194553], [0.972168554], [0.332168927], [0.688728689], [0.110773401], [0.273352065], [0.572939678], [0.491457065], [0.281389999], [0.821697261], [0.674977683], [0.585134549], [0.710596116], [0.040488789], [0.568054311], [0.321752928], [0.611850232], [0.926096887], [0.618347428], [0.667629785], [0.397733466], [0.290875487], [0.594375103], [0.508255233], [0.338571357], [0.432302347], [0.302221978], [0.87619819], [0.080204492], [0.092333532], [0.093656447], [0.608452351], [0.732654598], [0.944158855], [0.26742308], [0.731124201], [0.661308553], [0.387766262], [0.962585273], [0.322067067], [0.634081093], [0.475345002], [0.353558973], [0.885936316], [0.876798106], [0.221581064], [0.394362449], [0.805035676], [0.452898486], [0.592520516], [0.761026394], [0.245049023], [0.372139363], [0.681054822], [0.747143148], [0.920739529], [0.097207945], [0.699302998], [0.721647006], [0.535356114], [0.738293805], [0.706467551], [0.67395061], [0.711212291], [0.302558708], [0.080097855], [0.707010837], [0.512248622], [0.659627472], [0.657559694], [0.100645606], [0.92665363], [0.892879338], [0.839157508], [0.890959718], [0.556754471], [0.960361937], [0.631037864], [0.029838065], [0.278843351], [0.926157705], [0.551504258], [0.485942349], [0.437234696], [0.252318018], [0.515466972], [0.437252296], [0.493724207], [0.83324725], [0.317521477], [0.286234562], [0.726833965], [0.495667033], [0.028645255], [0.319671917], [0.674344598], [0.766037189], [0.65456992], [0.756514381], [0.528253719], [0.389719491], [0.355087459], [0.87015202], [0.739083306], [0.305761846], [0.411587673], [0.063633094], [0.735409395], [0.605916669], [0.539395562], [0.566183532], [0.674795186], [0.070993366], [0.1252641], [0.279601492], [0.952174402], [0.233806762], [0.437247429], [0.925423095], [0.433498634], [0.52517902], [0.088435529], [0.447677638], [0.647000631], [0.903603337], [0.265790738], [0.66419695], [0.498120658], [0.490188944], [0.747084187], [0.906783648], [0.678770917], [0.348599859], [0.294839683], [0.705691827], [0.211917931], [0.063201124], [0.276699543], [0.672459395], [0.808205949], [0.296538373], [0.160126862], [0.439385032], [0.555951416], [0.386240112], [0.158689619], [0.214499855], [0.299579429], [0.569161656], [0.488614799], [0.878295021], [0.649380949], [0.465713341], [0.16813774], [0.87529545], [0.841132341], [0.33292081], [0.513047859], [0.305055078], [0.812626991], [0.25096706], [0.502435578], [0.457990741]], \"hovertemplate\": \"0=%{x}<br>1=%{y}<br>2=%{z}<br>Feature=%{customdata[0]}<br>Anomaly=%{marker.color}<extra></extra>\", \"legendgroup\": \"\", \"marker\": {\"color\": [0, 0, 1, 1, 0, 0, 0, 1, 1, 0, 0, 1, 0, 0, 1, 0, 0, 1, 1, 0, 1, 0, 0, 1, 1, 1, 0, 0, 1, 1, 0, 0, 0, 1, 1, 1, 0, 0, 0, 0, 0, 0, 0, 1, 0, 1, 0, 0, 0, 0, 0, 1, 0, 1, 0, 1, 0, 0, 0, 1, 0, 0, 1, 1, 0, 0, 1, 0, 0, 1, 0, 0, 0, 0, 0, 0, 0, 0, 0, 0, 0, 0, 0, 0, 0, 0, 0, 0, 0, 0, 0, 0, 0, 0, 0, 0, 0, 0, 0, 0, 0, 0, 0, 0, 0, 0, 0, 0, 0, 0, 0, 0, 0, 0, 0, 0, 0, 0, 0, 0, 0, 0, 0, 0, 0, 0, 0, 0, 0, 0, 1, 0, 0, 0, 0, 0, 0, 0, 0, 0, 0, 0, 0, 0, 0, 0, 0, 0, 0, 0, 0, 0, 0, 0, 0, 0, 0, 0, 0, 0, 0, 0, 0, 0, 0, 0, 0, 0, 0, 0, 0, 0, 0, 0, 0, 0, 0, 0, 0, 0, 0, 0, 0, 0, 0, 0, 0, 0, 0, 0, 0, 0, 0, 0, 0, 0, 0, 0, 1, 0, 0, 0, 0, 0, 0, 0, 0, 0, 0, 0, 0, 0, 0, 0, 0, 0, 0, 0, 0, 0, 0, 0, 0, 0, 0, 0, 0, 0, 0, 0, 0, 0, 0, 0, 0, 0, 0, 0, 0, 0, 0, 0, 0, 0, 0, 0, 0, 0, 0, 0, 0, 0, 0, 0, 0, 0, 0, 0, 0, 0, 0, 0, 0, 0, 0, 0, 0, 0, 0, 0, 0, 0, 0, 0, 0, 0, 0, 0, 0, 0, 0, 0, 0, 0, 0, 0, 0, 0, 0, 0, 0, 0, 0, 0, 0, 0, 0, 0, 0, 0, 0, 0, 0, 0, 0, 0, 0, 0, 0, 0, 0, 0, 0, 0, 0, 0, 0, 0, 0, 0, 0, 0, 0, 0, 0, 0, 0, 0, 0, 0, 0, 0, 0, 0, 0, 0, 0, 0, 0, 0, 0, 0, 0, 0, 0, 0, 0, 0, 0, 0, 0, 0, 0, 0, 0, 0, 0, 0, 0, 0, 0, 0, 0, 0, 0, 0, 0, 0, 0, 0, 0, 0, 0, 0, 0, 0, 0, 0, 0, 0, 0, 0, 0, 0, 0, 0, 0, 0, 0, 0, 0, 0, 0, 0, 0, 0, 0, 0, 0, 0, 0, 0, 0, 0, 0, 0, 0, 0, 0, 0, 0, 0, 0, 0, 0, 0, 0, 0, 0, 0, 0, 0, 0, 0, 0, 0, 0, 0, 0, 0, 0, 0, 0, 0, 0, 0, 0, 0, 0, 0, 0, 0, 0, 0, 0, 0, 0, 0, 0, 0, 0, 0, 0, 0, 0, 0, 0, 0, 0, 0, 0, 0, 0, 0, 0, 0, 0, 0, 0, 0, 0, 0, 0, 0, 0, 0, 0, 0, 0, 0, 0, 0, 0, 0, 0, 0, 0, 0, 0, 0, 0, 0, 0, 0, 0, 0, 0, 0, 0, 0, 0, 0, 0, 0, 0, 0, 0, 0, 0, 0, 0, 0, 0, 0, 0, 0, 0, 0, 0, 0, 0, 0, 0, 1, 0, 0, 0, 0, 0, 0, 0, 0, 0, 0, 0, 0, 0, 0, 0, 0, 0, 0, 0, 0, 0, 1, 0, 0, 0, 0, 0, 0, 0, 0, 0, 0, 0, 0, 0, 0, 0, 0, 0, 0, 0, 0, 0, 0, 0, 0, 0, 0, 0, 0, 0, 0, 0, 0, 0, 0, 0, 0, 0, 0, 0, 0, 0, 0, 0, 0, 0, 0, 0, 0, 0, 0, 0, 0, 0, 0, 0, 0, 1, 0, 0, 0, 0, 0, 0, 0, 0, 0, 0, 0, 0, 0, 0, 0, 0, 0, 0, 0, 0, 0, 0, 0, 0, 0, 0, 0, 0, 0, 0, 0, 0, 0, 0, 0, 0, 0, 0, 0, 0, 0, 0, 0, 0, 0, 0, 0, 0, 0, 0, 0, 0, 0, 0, 0, 0, 0, 0, 0, 0, 0, 0, 0, 0, 0, 0, 0, 0, 0, 0, 0, 0, 0, 0, 0, 0, 0, 1, 0, 0, 0, 0, 0, 0, 0, 0, 0, 0, 0, 0, 0, 0, 0, 0, 0, 0, 0, 1, 1, 0, 1, 0, 0, 0, 1, 1, 0, 1, 0, 0, 1, 0, 0, 1, 1, 1, 0, 1, 0, 1, 1, 1, 0, 0, 0, 1, 0, 0, 0, 0, 0, 0, 0, 0, 0, 0, 0, 0, 0, 0, 0, 0, 0, 0, 0, 0, 0, 0, 0, 0, 0, 0, 0, 0, 0, 0, 0, 0, 0, 0, 0, 0, 0, 0, 0, 0, 0, 0, 0, 0, 0, 0, 0, 0, 0, 0, 0, 0, 0, 0, 0, 0, 0, 0, 0, 0, 0, 0, 0, 0, 0, 0, 0, 0, 0, 0, 0, 0, 0, 0, 0, 0, 0, 0, 0, 0, 0, 0, 0, 0, 0, 0, 0, 0, 0, 0, 0, 0, 0, 0, 0, 0, 0, 0, 0, 0, 0, 0, 0, 0, 0, 0, 0, 0, 0, 0, 0, 0, 0, 0, 0, 0, 0, 0, 0, 0, 0, 0, 0, 0, 0, 0, 0, 0, 0, 0, 0, 0, 0, 0, 1, 0, 0, 0, 0, 0, 0, 0, 0, 0, 0, 0, 0, 0, 0, 0, 0, 0, 0, 0, 0, 0, 0, 0, 0, 0, 0, 0, 0, 0, 0, 0, 0, 0, 0, 0, 0, 0, 0, 0, 0, 0, 0, 0, 0, 0, 0, 0, 0, 0, 0, 0, 0, 0, 0, 0, 0, 0, 1, 0, 0, 0, 0, 0, 0, 0, 0, 0, 0, 0, 0, 0, 0, 0, 0, 0, 0, 0, 0, 0, 0, 0, 0, 0, 0, 0, 0, 0, 0, 0, 0, 0, 0, 0, 0, 0, 0, 0, 0, 0, 0, 0, 0, 0, 0, 0, 0, 0, 0, 0, 0, 0, 0, 0, 0, 0, 0, 0, 0, 0, 0, 0, 0, 0, 0, 0, 0, 0, 0, 0, 0, 0, 0, 0, 0, 0, 0], \"coloraxis\": \"coloraxis\", \"opacity\": 0.7, \"symbol\": \"circle\"}, \"mode\": \"markers\", \"name\": \"\", \"scene\": \"scene\", \"showlegend\": false, \"type\": \"scatter3d\", \"x\": [-3.385125160217285, -1.9658315181732178, 2.5082597732543945, -2.712719202041626, 3.6606945991516113, -2.098020553588867, -7.588666915893555, 2.3077118396759033, -6.344486713409424, -2.7102556228637695, 3.4598705768585205, -3.013155937194824, 3.996901273727417, 1.2966197729110718, -1.4384876489639282, 5.963580131530762, 3.980665922164917, -2.6270806789398193, 3.1055045127868652, -3.6442697048187256, -2.5939977169036865, 0.37996649742126465, 1.471158504486084, -6.025867462158203, 1.9996259212493896, 6.055372714996338, -2.6366257667541504, -5.391287326812744, 5.767176628112793, 3.4675540924072266, -4.831692695617676, -0.6958984136581421, 0.058007337152957916, -2.1626710891723633, 4.984677314758301, -0.22594814002513885, -4.725795269012451, -5.596773147583008, 0.38976171612739563, -0.815536618232727, -1.8683528900146484, -0.1533382385969162, -0.5565986633300781, 1.7260202169418335, 0.12642508745193481, 6.4038496017456055, -0.8917710185050964, -5.935298919677734, -2.9268271923065186, -1.4721229076385498, -0.44227534532546997, 3.8665928840637207, 2.874629497528076, 6.41901969909668, -1.5179662704467773, -2.8175199031829834, -0.6269423961639404, -5.124283790588379, -1.8414570093154907, 2.7487733364105225, -6.143802642822266, 0.3616565763950348, 2.014861822128296, -0.07628382742404938, -3.7811691761016846, -1.4502222537994385, 2.380920648574829, -3.2626266479492188, -1.8398034572601318, 3.3339931964874268, 3.7462236881256104, 0.29169803857803345, 0.06490146368741989, -1.7637674808502197, -2.1351068019866943, -1.3020908832550049, -0.44640636444091797, 2.1635141372680664, 1.2105779647827148, 0.1274590641260147, -0.6938364505767822, 0.6356509923934937, 3.199603796005249, 0.14474904537200928, -4.760560989379883, 1.0349146127700806, -0.8036476373672485, -2.253255605697632, 4.783846855163574, 2.325951099395752, -0.15037597715854645, 1.9898346662521362, 0.3226494789123535, -7.224499702453613, -2.7356293201446533, 2.8267030715942383, -0.3696117699146271, 1.1337345838546753, -5.2202534675598145, 0.7130336761474609, 0.5166579484939575, -1.790016531944275, 0.6803776025772095, 2.5661604404449463, 1.466898798942566, -1.3906131982803345, -2.2161192893981934, 2.71610426902771, -1.993883490562439, 1.316235065460205, 2.931891918182373, 2.4492435455322266, 1.926864743232727, -2.2557485103607178, 2.797534942626953, 2.331110954284668, -8.442911148071289, -7.4642720222473145, -2.3341593742370605, -5.821506977081299, 2.3386526107788086, 4.598631858825684, 3.5776829719543457, -2.347355365753174, 0.30171331763267517, -0.9033929109573364, -3.5738284587860107, -1.2355633974075317, -3.843677520751953, 0.12745216488838196, 6.8643341064453125, 0.5037292242050171, -0.792840301990509, -6.048008441925049, -3.040559768676758, -4.521380424499512, 1.991368293762207, -2.4559476375579834, -1.8255066871643066, -1.847548007965088, -1.0799953937530518, 1.889960527420044, 3.3526206016540527, 2.209155797958374, -6.570405006408691, -0.8375486135482788, 2.981361150741577, 0.03907423093914986, -2.0529613494873047, -2.797924280166626, 3.462315082550049, -0.46510934829711914, 4.189530372619629, 3.4940972328186035, 0.3272738754749298, -0.8060111403465271, -3.463350772857666, -2.9528348445892334, -0.5733537673950195, -0.9275888204574585, -7.365134239196777, -5.7943572998046875, 1.593307614326477, 1.8007248640060425, -0.651779294013977, -3.0177605152130127, -1.816482663154602, 5.014604091644287, 0.663634717464447, -1.0530309677124023, -2.4242794513702393, 1.761601209640503, 2.2470710277557373, 1.4922266006469727, 2.127448320388794, -1.6035839319229126, -0.18597140908241272, 1.3302502632141113, -2.0148167610168457, -2.0976171493530273, 2.7038450241088867, 4.928531169891357, 0.6332470178604126, 5.832329273223877, 5.3160929679870605, -8.447925567626953, 2.183061361312866, 6.121241569519043, -1.5224002599716187, -0.06754026561975479, -0.7002514004707336, 1.6828317642211914, 2.0402140617370605, 2.1150825023651123, -6.221667289733887, -6.518093585968018, 2.8515803813934326, 4.123258590698242, 0.8414257764816284, 1.07262122631073, 6.08274507522583, -1.9101060628890991, -2.9836912155151367, 2.986922264099121, 2.283313274383545, -0.7365478873252869, 1.7389158010482788, 6.264456748962402, 4.432833194732666, -3.894725799560547, 1.9276748895645142, 4.172435283660889, 0.723650336265564, 2.8554635047912598, 4.801462650299072, 3.0462796688079834, -3.270594358444214, 3.5503878593444824, 1.8631489276885986, -1.9974172115325928, 2.435466766357422, 0.4451836943626404, 1.8505675792694092, -1.0777430534362793, -4.778222560882568, 2.240446090698242, -1.666837215423584, -0.8960772752761841, -3.3838601112365723, 6.21093225479126, -6.144710063934326, 0.00034525428782217205, -1.5935941934585571, -2.364020824432373, -6.385676860809326, 0.8076354265213013, -4.088883876800537, -0.42720767855644226, -0.9801186919212341, 0.27054861187934875, 6.048984527587891, 3.844672918319702, 0.08082889765501022, -3.0960161685943604, 2.5732223987579346, -4.0418195724487305, -2.783583641052246, 2.3374710083007812, -1.3888062238693237, 3.892688512802124, 5.981235504150391, 0.17293059825897217, 0.20094497501850128, -6.0857367515563965, -0.9747171998023987, -4.089230060577393, -4.205713272094727, -4.472949504852295, 6.192228317260742, -6.716984272003174, 0.35674577951431274, 5.234872341156006, 1.54218590259552, 1.4858084917068481, 5.052092552185059, -2.794644832611084, -1.5847373008728027, -5.927938938140869, -1.988815188407898, 4.864950656890869, 2.4716897010803223, -0.47095030546188354, -3.9545392990112305, -0.4820820093154907, -0.9557807445526123, 3.38285493850708, 2.469576358795166, 1.6818227767944336, 1.8752421140670776, -1.7316389083862305, -1.4146368503570557, -0.4170806407928467, -2.126485586166382, -2.9612770080566406, 2.8721933364868164, 2.252690076828003, -4.873938083648682, 0.11233274638652802, -3.7874319553375244, 0.13189874589443207, 3.4806034564971924, 2.0315771102905273, -2.5337705612182617, 1.481160283088684, -0.10338672995567322, -0.13149884343147278, 2.506939172744751, 2.76041841506958, -0.9131296873092651, -2.7411301136016846, 0.4680956304073334, -6.054138660430908, 2.829632520675659, 1.885562777519226, 2.691606044769287, -0.3510754704475403, 2.1839871406555176, 0.3486258387565613, -1.4007306098937988, 5.4276556968688965, 5.178168296813965, 0.42952612042427063, 5.060436248779297, -0.010292070917785168, 3.637619733810425, -3.210853099822998, -0.9196642637252808, -4.902192115783691, -0.1492435485124588, -2.129906415939331, 0.9018658399581909, -2.2047314643859863, -0.6561416387557983, -1.3549225330352783, 3.929661512374878, -0.9745272994041443, -1.6669235229492188, -0.39377152919769287, 1.5865726470947266, 1.9215948581695557, -6.3677825927734375, 4.05778694152832, 4.358291149139404, -1.075756549835205, -1.732134222984314, 0.23260419070720673, -0.6718829870223999, -5.1136393547058105, 1.9561728239059448, 4.636727333068848, -5.097171306610107, -2.896373987197876, -2.505450487136841, 3.651003837585449, 1.6676236391067505, 2.2722623348236084, -5.998976707458496, -2.79671573638916, -1.2550957202911377, 4.426383018493652, 0.11589836329221725, -4.327102184295654, -7.240132808685303, -0.836767315864563, -4.824061870574951, -2.9720184803009033, 3.5101332664489746, -0.8888460397720337, 3.148839235305786, 0.5615856051445007, -0.9642030596733093, 1.1448172330856323, -5.597767353057861, -1.0263566970825195, -0.8366382718086243, 1.8471440076828003, 0.48419666290283203, -7.55846643447876, -4.546175479888916, 2.780811071395874, -2.38287353515625, 5.843950271606445, -0.007629679050296545, 1.3494805097579956, -0.7236259579658508, -2.9119980335235596, -0.5237356424331665, 1.7539658546447754, -1.9504340887069702, 0.7864006161689758, -0.20662444829940796, -2.5448429584503174, -1.9686248302459717, -0.5107089281082153, -0.44029924273490906, -0.3654788136482239, -2.8465757369995117, -2.5770819187164307, 1.715556025505066, 2.4987239837646484, 0.3905281126499176, -0.5766358971595764, -2.437711477279663, -0.5855180025100708, -6.178340911865234, -0.7052975296974182, -1.7444058656692505, 2.2430319786071777, -0.6772238612174988, -2.9612560272216797, -5.699824810028076, 2.594374418258667, 0.6644933819770813, -0.07797803729772568, 3.485346555709839, -6.377884387969971, 2.483832597732544, -2.865262508392334, -1.0199886560440063, 5.555506706237793, -0.6970505118370056, 0.9555888772010803, 0.9292129278182983, 0.7853663563728333, 2.1014106273651123, -0.3504018485546112, -0.5772182941436768, -3.4137465953826904, -0.6819539070129395, 2.0234973430633545, 2.7112958431243896, 0.3594732880592346, 0.723228394985199, -2.4560158252716064, 0.26187461614608765, -3.432666063308716, -6.310701370239258, 2.3428757190704346, -0.8840341567993164, -0.24573390185832977, 2.018721342086792, -8.109278678894043, 0.4399068057537079, 1.0780950784683228, 3.197547197341919, 1.2278242111206055, -5.47310209274292, 0.6205325722694397, -1.3867624998092651, 3.025451898574829, -1.5589146614074707, 1.907839059829712, 2.7076239585876465, 0.7320523858070374, 3.4292514324188232, 0.5549296736717224, 3.1711747646331787, 2.672974109649658, 3.341216802597046, 5.232747554779053, 1.7667274475097656, 1.294020652770996, -2.2862744331359863, 0.07189679145812988, 2.0785939693450928, -3.365874767303467, 3.5612523555755615, 2.0259506702423096, 0.8252758383750916, 0.5681409239768982, -0.12050141394138336, 3.446758270263672, -0.7922763228416443, -2.4111475944519043, -3.144768476486206, -0.1276380866765976, -2.175436496734619, 3.1741180419921875, -2.9136292934417725, 0.8226338624954224, 2.2019824981689453, -7.351741790771484, -0.82940673828125, -2.98298716545105, -3.197899103164673, -5.952381610870361, -6.038541316986084, 2.0006375312805176, -4.906426429748535, -2.172821044921875, -1.784744143486023, 0.8238411545753479, 3.049853563308716, 1.3579680919647217, -8.321667671203613, 1.1098123788833618, 2.748818874359131, -0.8807836771011353, -4.605369567871094, 0.01579981856048107, 2.241769552230835, 0.7059497833251953, 3.77602481842041, 2.366377830505371, 0.6403108835220337, 3.2709858417510986, 5.139529705047607, -0.2267899364233017, 3.298391819000244, 2.39562726020813, -1.8375669717788696, -4.7831645011901855, -0.06778614968061447, 4.625343322753906, -1.3386634588241577, 0.03624436631798744, -0.3551250696182251, -3.8651628494262695, -0.08880329132080078, 5.381734848022461, 2.7312445640563965, -3.0412943363189697, 3.0719501972198486, 4.090550899505615, 1.5987093448638916, 1.2828096151351929, 5.397397518157959, 0.2233896702528, 0.2860826849937439, 3.106628656387329, 1.6831868886947632, 3.412846803665161, 4.606882572174072, 1.4465291500091553, 2.2906899452209473, -8.275505065917969, -1.4316272735595703, -5.960484981536865, 2.0034360885620117, -3.9074697494506836, 0.8264655470848083, 1.194878339767456, -1.7085765600204468, -2.292724370956421, 0.8949952125549316, 5.016381740570068, 1.2418643236160278, 2.449503183364868, -3.9587247371673584, 4.67119026184082, -1.1094393730163574, 1.4628379344940186, -0.4401417374610901, -2.8587050437927246, -2.777630090713501, -2.18022084236145, -0.6748955845832825, 0.5368334650993347, 3.1843979358673096, -1.6784043312072754, 1.1828458309173584, -2.7817702293395996, -0.5108067393302917, -0.6513863801956177, 3.34356427192688, -1.2815719842910767, -1.37776517868042, -2.5679404735565186, -1.301741361618042, -4.076653480529785, 0.8026711940765381, 1.58182692527771, 3.067882776260376, 3.6976866722106934, -5.092557907104492, 0.7354446053504944, -1.6658456325531006, -4.413077354431152, 4.819251537322998, 3.0526351928710938, -2.308103084564209, 1.8149399757385254, 2.180302858352661, 4.35830545425415, -0.2694244980812073, 4.369312286376953, -3.4440150260925293, -3.1097421646118164, -3.101358413696289, 3.1048972606658936, 1.8791515827178955, 1.9648712873458862, 1.161265254020691, -4.272686958312988, -1.5996991395950317, 1.666650652885437, -3.6082468032836914, -2.1330418586730957, -5.977881908416748, 0.7306711077690125, 2.3936572074890137, 0.08800530433654785, -4.129352569580078, 2.9293313026428223, -4.244682312011719, 3.7581288814544678, 0.8111504316329956, 1.0523096323013306, 2.6311779022216797, 0.6276711225509644, -2.2780768871307373, 4.953425884246826, 5.84192419052124, -7.4339752197265625, 2.781132221221924, -2.0368576049804688, 0.4290287494659424, 2.784856081008911, -5.419512748718262, -0.3038356602191925, 4.610635280609131, 2.46012806892395, 1.796312689781189, -4.363641262054443, -2.3169901371002197, 2.010486602783203, 3.965000629425049, 5.44990348815918, -0.5899192094802856, -3.943885564804077, -5.576974391937256, 2.8817594051361084, 5.536492347717285, -0.1775330901145935, 1.0988773107528687, 2.3208305835723877, -7.608309268951416, 3.4347329139709473, -3.0548083782196045, -2.2808315753936768, 5.955080032348633, 3.917412519454956, -0.9540678858757019, 3.288266181945801, 2.271462917327881, -3.9485316276550293, 3.3943374156951904, -5.352766990661621, 2.3794384002685547, -4.840322017669678, 2.132642984390259, -3.8361599445343018, -6.467198371887207, 1.3225325345993042, 3.064267158508301, 2.107268810272217, 1.441430926322937, -3.9263267517089844, 2.890784978866577, -3.2679924964904785, -1.6623684167861938, -0.8298428058624268, -2.441819190979004, -1.7448047399520874, -1.5644090175628662, -1.4830267429351807, 1.5683385133743286, -3.2157084941864014, -3.0075416564941406, 1.8459722995758057, 3.6691508293151855, 3.1459460258483887, -3.509967565536499, -3.0526554584503174, 1.2331403493881226, -4.134373664855957, -2.9881036281585693, -5.915347099304199, 4.051523685455322, -0.9750848412513733, -1.8478144407272339, -2.912980556488037, 5.393007278442383, -5.121840000152588, -0.07697217911481857, 0.5166794657707214, -3.360229015350342, 0.8118083477020264, 1.232485055923462, -6.086081027984619, 0.5359252095222473, -1.1211718320846558, -5.024527549743652, 2.070307493209839, 3.330991506576538, -1.5522758960723877, 0.08641406893730164, -2.2008519172668457, 2.5507283210754395, 5.284267902374268, -0.18442393839359283, 5.008428573608398, 1.3913646936416626, 2.871830940246582, 1.3931134939193726, -2.0760538578033447, 0.09347004443407059, 2.146657705307007, 0.3165989816188812, 2.2500720024108887, 5.704349040985107, 3.936986207962036, 1.2827110290527344, 5.791651248931885, -3.227630138397217, -2.7022736072540283, 1.8761570453643799, 5.9203009605407715, -6.2761101722717285, 2.2070775032043457, -1.8797788619995117, -2.816117525100708, -1.6683506965637207, 5.85636043548584, -4.586561679840088, 0.1980396807193756, -2.1512749195098877, 7.086354732513428, -4.708597183227539, -0.6163840889930725, 3.061708688735962, -8.121307373046875, 3.40907883644104, 3.913008689880371, 2.356414556503296, 0.0703377053141594, 5.20535945892334, -2.615452766418457, -1.763477087020874, -0.7787247896194458, 1.6823498010635376, -0.662750780582428, -5.253201961517334, -6.620991230010986, 4.035407066345215, 2.803699254989624, 2.3866958618164062, 2.5491979122161865, 2.070033073425293, 4.456151962280273, -1.7200826406478882, -1.674076795578003, -2.427924633026123, 5.2804765701293945, -0.4584376811981201, 2.6075901985168457, 3.236868143081665, 1.0698908567428589, 1.7636247873306274, 3.447622537612915, -1.682904839515686, -0.1660487949848175, -2.7925446033477783, -6.281605243682861, -1.2519351243972778, 1.6233546733856201, 0.1827356368303299, 4.988194465637207, 3.7699801921844482, -3.743788719177246, 5.246095180511475, 5.578845024108887, -2.177266836166382, -2.120847225189209, -2.9551279544830322, -7.370519638061523, -6.470839500427246, 0.7600683569908142, -5.190023422241211, 0.9633931517601013, -0.15243437886238098, -4.462935447692871, -5.005774974822998, -5.90334939956665, -1.550933837890625, 0.10535922646522522, -3.0462377071380615, 4.481255054473877, -1.043923020362854, -1.8459464311599731, 0.7990291118621826, -7.046787738800049, 1.606587290763855, 3.308995008468628, 2.7633213996887207, 4.35340690612793, 4.000400543212891, 0.07172996550798416, 1.490497350692749, 2.469707489013672, 3.7228527069091797, -1.118673324584961, 5.6738128662109375, -0.994124710559845, -6.8990397453308105, 0.6345033645629883, -0.26776060461997986, 2.903327465057373, 0.9242619872093201, 0.6522429585456848, 3.33555006980896, -2.624772787094116, 1.0713636875152588, -2.2106621265411377, 0.6900700926780701, -2.4816479682922363, 1.7048763036727905, -0.41935834288597107, -0.6892914772033691, -2.9583933353424072, 0.8497710824012756, 4.617327690124512, -0.9601404666900635, 2.4875435829162598, 1.7063539028167725, 3.366459846496582, 0.2988261878490448, 2.9079105854034424, 0.025661271065473557, -0.048484887927770615, 3.73594331741333, -0.3319074809551239, 2.7896060943603516, -0.5075041651725769, 2.5787041187286377, -6.801675796508789, -0.47839584946632385, 0.889923095703125, -1.0710396766662598, 2.0838208198547363, -1.5615509748458862, 0.1305992305278778, 2.559755802154541, 3.912313461303711, 1.9618910551071167, 2.277921438217163, -0.08174890279769897, 1.0984504222869873, 4.036548614501953, 2.6063461303710938, 1.3111129999160767, 2.7156877517700195, -0.566217839717865, 1.7302292585372925, -4.935275077819824, -0.07862871885299683, 4.91877555847168, 1.3642812967300415, 3.3480112552642822, 0.018459521234035492, -1.3817273378372192, 1.9949188232421875, 3.2323737144470215, 1.7161222696304321, 1.7114965915679932, 3.8665711879730225, 2.498509168624878, -1.4298429489135742, 1.9330246448516846, 5.795185089111328, 0.6085032820701599, 1.091619849205017, -3.5614383220672607, 3.4859187602996826, 2.7861573696136475, -2.1768851280212402, -7.776595115661621, 2.2514662742614746, 2.3286736011505127, 2.1483664512634277, 5.281110763549805, 0.9536197781562805, -0.9512524604797363, 3.7337076663970947, -2.0752804279327393, -2.86922287940979, -6.0960373878479, 3.828691005706787, -3.203437328338623, 1.903596043586731, 3.4233686923980713, 2.768109083175659, -2.876009702682495, -0.10766240954399109, 2.4448540210723877, 1.6141151189804077, -1.5247039794921875, -1.7831127643585205, -3.2937166690826416, 2.796823263168335, 1.610254168510437, 4.819186687469482, 0.6067806482315063, -1.9735537767410278, 5.7697649002075195, 0.50575852394104, -3.7453811168670654, -2.554558753967285, 2.4096579551696777, 0.5022638440132141, 0.07440640777349472, 4.751243591308594, 0.07930576056241989, 2.562333106994629, 3.997176170349121, 3.3794496059417725, 2.4043309688568115, -1.3501789569854736, 0.8689401745796204, -1.0526070594787598, 1.5288820266723633, -2.3073654174804688, 0.2945244312286377, -2.05269718170166, 4.6546244621276855, 3.002403974533081, -4.01173734664917, 3.3082363605499268, -0.71922767162323, 2.391993761062622, 1.6305468082427979, -0.7738884091377258, -5.537334442138672, -1.8159949779510498, 4.375319004058838, 3.9882121086120605, -0.40331077575683594, -3.968660354614258, -0.5638737082481384, 3.9692928791046143, 2.222153663635254, 1.931153655052185, -0.264192670583725, 3.399655818939209, 1.8137978315353394, -0.28502532839775085, -0.7507579326629639, 2.8061411380767822, -2.0238258838653564, 3.5597383975982666, 2.5003139972686768, 6.391687870025635, 1.642102837562561, -0.9150850176811218, 0.7840458154678345, 4.3593430519104, 2.3415417671203613, -1.3604687452316284, 1.4312708377838135, -0.8010078072547913, -5.283626556396484, -2.70764422416687, 2.977942705154419, -1.2509313821792603, -2.8469247817993164, -0.5349738001823425, 1.529662847518921, 1.6830921173095703, 3.9855759143829346, 4.869441986083984, -6.125391483306885, 0.15832284092903137, 0.9812439680099487, 0.7234007120132446, -3.248481273651123, -3.287712335586548, 1.0008996725082397, -0.9978886842727661, 3.485903024673462, 4.017162799835205, 2.2273032665252686, 2.988426923751831, -5.450705051422119, 2.915555477142334, -0.9875628352165222, -3.7632880210876465, -2.3899271488189697, 3.050727128982544, -5.125185966491699, 0.43400412797927856, 4.2643914222717285, 0.7974533438682556, 3.126391887664795, -8.094290733337402, 3.3141212463378906, 2.736084461212158, 4.1504926681518555, 3.011678457260132, 2.2692861557006836, 0.9736925959587097, -0.7825557589530945, -1.1990174055099487, 2.5261542797088623, 2.8139913082122803, 3.943931818008423, -4.161236763000488, -5.395143032073975, 1.3321455717086792, 1.287410020828247, -0.3551759421825409], \"y\": [-0.850792646408081, 4.285506248474121, -8.940244674682617, -11.856993675231934, -16.131498336791992, -6.715226173400879, 5.603984832763672, -15.268586158752441, -1.1479756832122803, 13.04039192199707, -13.239697456359863, -16.491273880004883, -6.326481342315674, -4.470618724822998, -12.032744407653809, -17.651954650878906, -6.238029956817627, 7.906015396118164, -7.3931779861450195, -14.619502067565918, -6.004365921020508, 0.6926020383834839, -5.501840591430664, -1.9034501314163208, -10.003690719604492, 2.8428564071655273, -15.079614639282227, 4.488466262817383, -20.920583724975586, -14.77696704864502, 0.3857221305370331, 1.2882773876190186, -2.4095356464385986, -11.704524993896484, 10.408140182495117, 1.2366092205047607, -14.0204439163208, 4.710533618927002, 0.8569183945655823, -6.5191121101379395, 16.335176467895508, -13.637344360351562, 11.224586486816406, -8.556495666503906, -12.984413146972656, -18.26883888244629, -13.213645935058594, -1.4504220485687256, -16.10810089111328, 13.182089805603027, -13.745129585266113, -5.7521209716796875, 10.856704711914062, -18.11029624938965, -9.086504936218262, -3.669358491897583, -5.302342414855957, 0.8468250036239624, -11.866401672363281, -9.689602851867676, 1.6890082359313965, 7.735920429229736, -19.50133514404297, -13.490153312683105, 12.895303726196289, -13.824295997619629, 14.064616203308105, 8.102823257446289, -15.762259483337402, -9.123686790466309, -19.222700119018555, -14.708460807800293, -0.26005762815475464, -11.44597053527832, 7.585268497467041, 4.734973907470703, -16.075761795043945, -15.978255271911621, 9.412856101989746, 10.308674812316895, 9.942819595336914, 5.188392162322998, -15.200827598571777, 6.403226852416992, 5.512251377105713, 1.6715245246887207, 9.131927490234375, 9.83327579498291, 7.889124393463135, 2.6685140132904053, 3.2534468173980713, -12.239959716796875, 9.884598731994629, 6.497964859008789, -0.9939141273498535, -19.40060043334961, 11.08871078491211, 3.7914557456970215, 4.890365123748779, -15.880337715148926, -1.061073899269104, 12.686870574951172, 3.86155366897583, 12.791458129882812, -20.244356155395508, 10.741047859191895, 8.02698802947998, 4.90354061126709, 8.479647636413574, -15.476072311401367, 3.744297742843628, -0.8645466566085815, -10.297863960266113, 6.098897457122803, -13.779364585876465, 6.368017196655273, 9.131098747253418, 6.523865222930908, -11.26933479309082, 6.820843696594238, 7.20623779296875, 6.735093116760254, 6.664044380187988, 12.620372772216797, 3.8310906887054443, 4.6172776222229, -0.05941342934966087, -12.540660858154297, 5.252276420593262, 4.416073799133301, 9.185111999511719, 11.242975234985352, -14.564804077148438, 3.9889259338378906, 12.372122764587402, 3.7083752155303955, -13.94398021697998, -14.559326171875, 3.554616928100586, 2.8323683738708496, -12.086810111999512, 3.3367724418640137, 12.582324981689453, -15.767834663391113, 7.59066915512085, 11.020729064941406, -12.289946556091309, 13.620782852172852, 3.4863269329071045, 5.166352272033691, 2.9630160331726074, 6.1638712882995605, 3.6815099716186523, 13.518837928771973, 0.9237715601921082, 11.719256401062012, 14.311177253723145, 13.81452465057373, 3.7081968784332275, -9.457483291625977, 8.303736686706543, 1.0304406881332397, 5.199285984039307, 10.792106628417969, -10.85668659210205, 12.65809154510498, -12.536941528320312, -16.067705154418945, -11.901089668273926, 5.162074089050293, 8.615654945373535, 2.9453840255737305, -9.348578453063965, -12.403769493103027, 3.703547239303589, 11.103227615356445, -9.069615364074707, -11.482499122619629, 2.79766583442688, -14.513402938842773, 5.02396297454834, -10.679121971130371, 0.42658501863479614, -17.07175636291504, -16.071332931518555, 8.485684394836426, -12.988094329833984, 9.763349533081055, 9.453539848327637, 5.824911594390869, 13.432558059692383, -15.947866439819336, -12.931394577026367, -12.35953426361084, 12.027192115783691, 6.672577857971191, 5.869471073150635, 4.816567420959473, -2.281705141067505, 3.3371691703796387, 7.592373371124268, 3.9871928691864014, -0.727049708366394, -15.939478874206543, -10.798964500427246, 0.8813965320587158, 11.838606834411621, 7.764360427856445, -10.249421119689941, 1.878844141960144, 4.643562316894531, -13.867854118347168, -17.02766990661621, 5.247875213623047, 6.584286212921143, 6.640586853027344, 2.687699317932129, -16.41688346862793, -18.785133361816406, 1.209936261177063, -10.489213943481445, 6.4754767417907715, -15.741671562194824, 9.027186393737793, 11.246744155883789, 10.882391929626465, 12.67630386352539, 12.029200553894043, 13.116851806640625, -10.906231880187988, 6.549856662750244, 10.06604290008545, -13.787849426269531, -14.50985336303711, 6.661748886108398, 6.556283950805664, 3.0281641483306885, 6.289372444152832, -12.757895469665527, -10.680922508239746, 7.6750168800354, 6.940423011779785, -11.096353530883789, 8.101578712463379, -14.357033729553223, 11.588703155517578, 7.407723903656006, 7.285303592681885, 13.022045135498047, -13.92017650604248, 13.55331039428711, 2.751281976699829, -14.371476173400879, 1.1110289096832275, 10.956396102905273, -0.8515769839286804, 1.2131963968276978, 9.156698226928711, -11.429421424865723, 7.058424472808838, -11.846177101135254, 10.82288646697998, -14.559569358825684, 4.275934219360352, 12.586374282836914, 7.85856819152832, -15.693921089172363, 10.423492431640625, 8.416203498840332, 3.8064582347869873, 4.8954081535339355, -1.2708956003189087, 3.5419111251831055, -11.295616149902344, -9.892840385437012, 13.631266593933105, -17.845773696899414, -16.04249382019043, 5.546721935272217, 9.378863334655762, 12.60855484008789, -11.39840030670166, 10.800080299377441, 3.224088191986084, -13.349143981933594, 7.5865254402160645, 9.538553237915039, 6.076303958892822, 9.944618225097656, -2.583498001098633, 2.662147045135498, 5.503721237182617, 7.768187046051025, 8.361536026000977, 6.461102485656738, -10.77110767364502, -11.773266792297363, 10.137472152709961, 5.97882080078125, 1.0771894454956055, 0.8481021523475647, 8.392070770263672, -16.931468963623047, -14.638988494873047, -11.401934623718262, 5.400217533111572, 5.6861419677734375, 5.482668399810791, 15.442973136901855, -16.011011123657227, -15.251578330993652, 14.933685302734375, -10.97774887084961, -10.952287673950195, 7.703220844268799, 0.28220367431640625, 5.024304389953613, 6.436087608337402, 6.01623010635376, -0.8743478059768677, 1.5294314622879028, 5.117880821228027, -14.693846702575684, 2.8637967109680176, 8.760305404663086, 1.8610131740570068, -16.09625816345215, -15.87214183807373, -12.891864776611328, -11.178240776062012, 10.566368103027344, -16.80338478088379, 12.418936729431152, 10.965920448303223, 10.036957740783691, -15.0662202835083, 4.768868923187256, 3.690869092941284, -13.176791191101074, -15.178998947143555, 3.057753801345825, 10.945659637451172, -11.183328628540039, 13.611015319824219, -15.27553939819336, -13.985831260681152, 3.2434606552124023, 15.332133293151855, -12.087862968444824, -17.113449096679688, 1.9832059144973755, 4.10426139831543, 6.369423866271973, -0.8458287119865417, 9.55838394165039, 11.374094009399414, 10.212820053100586, 5.6962761878967285, -19.698902130126953, 2.0946009159088135, 4.5312066078186035, 5.0886030197143555, 2.476353883743286, 14.087998390197754, -13.559563636779785, 5.563510417938232, -16.874069213867188, 9.085923194885254, 9.718791961669922, 4.724546909332275, 10.591142654418945, 7.6409783363342285, -16.463613510131836, -11.511722564697266, -14.653310775756836, 11.881210327148438, 7.026586532592773, -11.858957290649414, -1.1804033517837524, 2.9254589080810547, -11.056259155273438, 2.869569778442383, 7.006962776184082, -0.16148003935813904, 4.91231107711792, 10.417706489562988, 7.542623996734619, 6.443972587585449, 3.0860705375671387, -0.10313984006643295, 11.648380279541016, 11.274580001831055, 3.522902011871338, 6.666722297668457, 5.959007263183594, -1.0222909450531006, 10.525443077087402, -14.60888385772705, 1.4983022212982178, 8.349054336547852, 6.45307731628418, 10.436979293823242, 14.839554786682129, 0.8608459234237671, -16.173763275146484, 9.594259262084961, -10.842406272888184, 2.2565252780914307, -8.463900566101074, 6.243529796600342, 7.831274509429932, 4.109652519226074, -19.871822357177734, 5.944572448730469, 5.985641002655029, 10.572688102722168, 10.628530502319336, 5.264694690704346, -15.56955623626709, -14.24708366394043, -0.2061329334974289, 7.055146217346191, 6.6937408447265625, 4.740931987762451, -12.660679817199707, 11.51455307006836, 6.370565414428711, -11.406883239746094, -0.549929678440094, -15.994609832763672, 5.846907615661621, 7.413613319396973, 6.680281162261963, -12.875454902648926, -19.29250717163086, 4.871939659118652, 8.66394329071045, -15.81416130065918, 8.5072021484375, -10.977788925170898, 10.615372657775879, 9.080812454223633, -11.983394622802734, -18.367568969726562, 8.239049911499023, -9.031415939331055, -17.37266731262207, 12.897098541259766, -12.820710182189941, -11.234248161315918, 10.950626373291016, -14.306246757507324, 12.44433307647705, 5.711269855499268, -10.914847373962402, -0.31653597950935364, 2.5772953033447266, -13.260297775268555, 8.772967338562012, 0.6001154780387878, 5.126015663146973, -12.852080345153809, 10.185813903808594, 11.371358871459961, -0.13465064764022827, 3.2699060440063477, 8.786725044250488, -18.027080535888672, 12.674468040466309, -12.283795356750488, 8.212878227233887, 9.123212814331055, 9.756559371948242, 5.720322608947754, 11.325299263000488, 11.537365913391113, 6.11978816986084, -10.70754337310791, 1.6916224956512451, 6.971894264221191, 14.452932357788086, 7.225320816040039, -12.274433135986328, -16.81436538696289, 8.628992080688477, -17.34092903137207, 3.1877405643463135, -0.9505179524421692, 2.723358631134033, -11.494767189025879, 6.842884063720703, -10.740226745605469, -9.294761657714844, -17.258028030395508, -11.444510459899902, -12.481732368469238, 6.100589752197266, -9.519814491271973, 12.326881408691406, 1.9402979612350464, 3.831801652908325, 4.123359680175781, 1.7189929485321045, 7.442939281463623, -0.6224997639656067, -11.604930877685547, 7.749671936035156, 15.332080841064453, -1.0088964700698853, -10.66866683959961, -15.879697799682617, 14.185863494873047, 5.716883182525635, -14.851134300231934, 10.05029010772705, 12.497980117797852, 12.996540069580078, 8.356851577758789, 2.1028623580932617, 5.529752254486084, -0.7511302828788757, -15.5223388671875, -11.001206398010254, -13.116083145141602, -19.297138214111328, 10.240266799926758, -0.5059272646903992, 8.59280776977539, 3.0531115531921387, 0.6184592247009277, 3.9086127281188965, -16.3431339263916, -10.155152320861816, 10.024892807006836, -9.70545768737793, -14.46878433227539, 0.35093745589256287, -16.710948944091797, 1.577423334121704, 3.971829414367676, 1.6629507541656494, -10.200016021728516, 7.904569625854492, 3.3435213565826416, 14.938238143920898, -12.27248477935791, 10.959236145019531, -11.932720184326172, -12.547040939331055, 10.953895568847656, 12.802270889282227, 4.463034629821777, -15.220654487609863, 3.710951566696167, 13.059469223022461, 4.5379719734191895, -9.174456596374512, 6.245035171508789, -16.161727905273438, -0.848136305809021, -18.484130859375, -19.109294891357422, 13.928844451904297, -11.497724533081055, 8.708187103271484, 11.768842697143555, 12.015677452087402, 3.9260354042053223, -12.789950370788574, -10.270179748535156, -0.4091450273990631, -10.239184379577637, -15.510812759399414, -17.498632431030273, 2.692368745803833, -16.299301147460938, 5.9613752365112305, 9.659899711608887, 2.745521306991577, 6.856839656829834, -0.4814198911190033, 6.9520263671875, -11.46060848236084, 5.305914402008057, 15.403352737426758, 12.167251586914062, 0.5131522417068481, 10.378334045410156, 10.841416358947754, -16.74846076965332, 9.954948425292969, 14.529546737670898, -1.2351566553115845, -15.907464981079102, 1.1537939310073853, 12.267313003540039, -14.723814010620117, -17.181432723999023, -10.620302200317383, -17.65110969543457, -12.487186431884766, 7.7610883712768555, -10.410975456237793, 6.827101230621338, -9.923995971679688, 3.511152744293213, -16.03134536743164, -18.20844268798828, 7.414539813995361, 1.8562828302383423, -10.738402366638184, 3.669736385345459, 0.31964603066444397, 2.4412567615509033, 12.134332656860352, 14.135212898254395, 5.424485683441162, 7.3250651359558105, 4.555199146270752, 0.9454507231712341, 1.3993757963180542, 11.690951347351074, 13.18706226348877, 1.7366549968719482, -12.678689956665039, -17.828245162963867, 8.361153602600098, -14.557516098022461, 2.0423786640167236, 11.23676586151123, 11.565074920654297, 5.6553521156311035, 7.159123420715332, -15.332683563232422, 2.2757527828216553, 1.575971007347107, 4.656871795654297, 1.5683283805847168, -10.719060897827148, 2.0792396068573, -10.54557991027832, 1.5800520181655884, 6.642908573150635, 3.5536251068115234, -16.601118087768555, 5.4185590744018555, -11.071410179138184, 5.535234451293945, -11.530045509338379, 3.9800326824188232, 12.607514381408691, 12.03740406036377, 2.416679620742798, -13.357450485229492, 11.631933212280273, 2.004040002822876, -15.678350448608398, 3.3568761348724365, 5.4196977615356445, -15.621804237365723, -17.416791915893555, 10.864571571350098, -0.11042127013206482, 0.37972912192344666, -11.094544410705566, 2.9321329593658447, -13.590819358825684, 3.5580873489379883, 4.53618049621582, 12.14840316772461, 2.184586763381958, 11.062554359436035, 12.980871200561523, 3.2945075035095215, -9.120532035827637, 12.93351936340332, 2.068119525909424, -9.574737548828125, -12.516225814819336, 4.170264720916748, -11.608628273010254, 11.650029182434082, 3.85970401763916, -9.173267364501953, 15.274846076965332, 12.002029418945312, 10.991632461547852, 15.747618675231934, -12.389400482177734, -16.694522857666016, -9.107251167297363, -14.146446228027344, -19.460159301757812, 3.134402275085449, -12.061062812805176, -9.279634475708008, 1.8956221342086792, 10.695581436157227, 3.3221487998962402, -12.360201835632324, 5.929925918579102, 11.91427993774414, -4.493449687957764, -20.949199676513672, 8.543472290039062, -2.7231972217559814, -13.73850154876709, -14.133689880371094, 1.3911163806915283, -9.127385139465332, -12.207501411437988, 13.360398292541504, 5.981819152832031, 2.9657578468322754, 7.297977447509766, -7.1818461418151855, -6.438604831695557, -18.462657928466797, 7.279499530792236, 7.997555255889893, -7.500601291656494, 11.0825777053833, 2.3871405124664307, -5.669429779052734, -0.3692416250705719, -2.459073066711426, -10.804518699645996, -8.768807411193848, -14.613519668579102, -6.721109390258789, 4.883999824523926, -16.999774932861328, 2.6669185161590576, 4.14189338684082, 2.7236196994781494, -11.29287052154541, 5.489619731903076, 8.415868759155273, 9.633410453796387, -11.715468406677246, 4.560400009155273, 4.044787883758545, 3.896695375442505, -9.588268280029297, 1.5377309322357178, 9.89316463470459, 8.457292556762695, -10.23438549041748, -12.815218925476074, -18.01786994934082, 4.203415870666504, -15.708072662353516, -1.3843244314193726, 11.896510124206543, 13.664155006408691, -11.593367576599121, 10.277968406677246, 10.74374008178711, -15.249410629272461, 15.158842086791992, -17.153467178344727, 13.048617362976074, 11.344550132751465, 11.549015998840332, 0.058108698576688766, 8.985980033874512, 9.622303009033203, -16.345203399658203, 6.136555194854736, -16.202661514282227, 9.997894287109375, 2.273777723312378, 0.3002428710460663, 6.539070129394531, 2.34114408493042, 15.058416366577148, 2.22188138961792, 5.546571731567383, 7.02133846282959, 2.361112117767334, 6.662277698516846, 9.042375564575195, 2.676086902618408, 3.416304588317871, 7.894014358520508, -17.640153884887695, 10.779786109924316, -9.368370056152344, 11.333577156066895, 11.08624267578125, -16.332111358642578, 7.228158473968506, -11.293551445007324, 5.4431304931640625, 11.082054138183594, 1.1048293113708496, 13.433034896850586, -12.657522201538086, 6.984813690185547, 14.02461051940918, 8.419464111328125, 3.360985517501831, 2.6295230388641357, 3.4343714714050293, -11.171226501464844, 12.356436729431152, 12.305037498474121, 4.178349494934082, -12.306746482849121, 9.8283109664917, -15.25153923034668, -8.63874340057373, 6.186318397521973, -0.6230235695838928, 2.1352741718292236, -12.716812133789062, 4.246786117553711, -17.070302963256836, -8.689200401306152, -12.66560173034668, -11.533522605895996, -10.845671653747559, 10.429251670837402, 2.3014581203460693, 5.993630886077881, 9.06013298034668, -12.225449562072754, 9.988978385925293, 3.6897735595703125, -16.93352508544922, 4.485058784484863, 1.8508999347686768, -18.702695846557617, -9.305484771728516, -13.353785514831543, -9.490559577941895, -17.855905532836914, -15.456178665161133, -10.489096641540527, 12.523468971252441, 6.6972737312316895, 12.544018745422363, -12.937952995300293, 5.741467475891113, 7.723849773406982, -9.27289867401123, 6.680024147033691, 7.177556991577148, 4.013684272766113, 3.937472105026245, -9.324251174926758, 0.542848527431488, 13.245393753051758, 6.826417922973633, 3.4694664478302, 4.9100422859191895, 5.642344951629639, -11.42706298828125, 10.546854972839355, -10.977556228637695, 0.3141855299472809, 9.943623542785645, -1.6374911069869995, 8.547430992126465, 5.892611026763916, -14.450132369995117, 7.013286113739014, 10.941266059875488, -10.009690284729004, 3.205071210861206, -11.959517478942871, 12.59848403930664, 9.0712890625, 4.688526153564453, -2.086423635482788, 10.284194946289062, 5.75173282623291, 7.718631267547607, 2.3408262729644775, -10.494154930114746, 3.102998733520508, 4.631104946136475, 11.155701637268066, -15.562989234924316, -14.751965522766113, -10.695289611816406, 2.544257640838623, 7.0590033531188965, 1.0662269592285156, -9.518827438354492, -15.575288772583008, -15.390290260314941, -12.355690002441406, 11.760519027709961, -16.27785873413086, 5.134122848510742, 4.534079551696777, 11.344978332519531, 2.9583544731140137, 0.689766526222229, 6.0459184646606445, 10.957653045654297, 14.379904747009277, -17.63230323791504, 8.491374015808105, -15.772089004516602, -12.351247787475586, 1.3148138523101807, -12.209627151489258, 8.689519882202148, 9.446601867675781, 9.931081771850586, 9.844903945922852, 7.548353672027588, -11.403818130493164, -15.130928039550781, 1.5214523077011108, 7.2271246910095215, -11.124427795410156, -11.514344215393066, 0.013726470991969109, -14.821980476379395, 5.696077823638916, 8.196662902832031, 4.083181381225586, 2.7607200145721436, -0.42608463764190674, 1.6901386976242065, 5.908420085906982, 4.723403453826904, -16.130720138549805, 11.339042663574219, 8.883760452270508, -17.33356475830078, -14.512412071228027, -15.198295593261719, 11.132027626037598, -10.450267791748047, 3.3803958892822266, -11.616710662841797, -10.400296211242676, 9.481280326843262, 9.56285285949707, -9.436765670776367, 6.149601459503174, -12.531733512878418, 7.123921871185303, 4.947206497192383, 5.871582508087158, -0.5090883374214172, 1.8060238361358643, 2.867083787918091, -16.837799072265625, -14.49950122833252, 5.776318073272705, 10.580018043518066, -11.80526351928711, -13.544365882873535, -9.041322708129883, 7.299898624420166, 10.646992683410645, 7.206820487976074, -10.966570854187012, 8.12459659576416, 2.9607527256011963, 14.175008773803711, 8.120692253112793, 3.331386089324951, -11.513421058654785, 12.20208740234375, -17.91794204711914, 6.750095844268799, 3.439669132232666, -15.046144485473633, 9.348342895507812, 8.699241638183594, 7.469971656799316, -17.279451370239258, 2.4824891090393066, -8.99489688873291, -11.071830749511719, -1.1295019388198853, 10.528425216674805, 7.755826473236084, -17.067893981933594, 10.718951225280762, 7.856682777404785, -11.115218162536621, -10.313027381896973, -17.6611270904541, -10.281373977661133, 5.663643836975098, 5.278030872344971, -10.53065013885498, -13.44562816619873, 2.3801488876342773, 7.951006889343262, 11.082782745361328, -12.008320808410645, -17.4760684967041], \"z\": [-7.79705286026001, 10.243593215942383, -8.610040664672852, 5.405470371246338, -7.248541355133057, 4.467050552368164, 8.12693977355957, 10.111991882324219, 1.078062653541565, -8.509456634521484, 12.07653522491455, -6.3076863288879395, 4.198965072631836, -2.7339160442352295, -2.0014705657958984, 0.4524661898612976, 4.272186279296875, 4.048342227935791, -8.427355766296387, -5.20932149887085, 4.207884788513184, -6.701871871948242, -3.0373222827911377, 1.1743429899215698, 3.0091278553009033, 3.3443431854248047, -5.767336845397949, -0.5205792784690857, 5.8506879806518555, 3.898775577545166, -0.9473508596420288, 7.79742431640625, -3.5278704166412354, -0.2920688986778259, -1.678231954574585, -4.912654876708984, -4.8450517654418945, -0.7953904271125793, -9.423824310302734, 5.350279331207275, 2.9791319370269775, 1.9131999015808105, 1.0184869766235352, 0.7031602263450623, 0.03131835535168648, 0.28447380661964417, 0.23646153509616852, 1.1993951797485352, -6.142731666564941, 5.973757743835449, 12.247611999511719, -7.870394229888916, -3.4721410274505615, 0.2856650650501251, 4.461323261260986, 7.979870796203613, 6.310060977935791, 6.538900852203369, 0.32897111773490906, -4.198704242706299, 4.221901893615723, -2.332244873046875, 0.26780176162719727, 2.4491045475006104, -0.4031221270561218, 0.1426292359828949, 3.5621962547302246, 3.5044326782226562, -5.694520950317383, 6.31851863861084, 5.181057453155518, 6.398703098297119, -10.322044372558594, 9.39481258392334, -13.507120132446289, -8.001633644104004, -4.204764366149902, 2.6240758895874023, -15.259008407592773, -11.623726844787598, -11.632597923278809, -8.063752174377441, -4.700436592102051, -1.5146973133087158, 6.316802501678467, 5.3599629402160645, 3.5887651443481445, 6.690345764160156, 1.3021644353866577, -7.573336601257324, -10.441054344177246, 10.779417037963867, 0.5207566618919373, 6.602478981018066, 7.386389255523682, 1.5226516723632812, -3.3535358905792236, 4.748541355133057, 2.313742160797119, -3.8824269771575928, -8.836767196655273, 4.549712657928467, 4.308828830718994, -3.158008098602295, 1.8159947395324707, -5.967134475708008, -0.9440526366233826, 7.888947486877441, -13.022953987121582, 3.424393892288208, -9.143343925476074, -8.068346977233887, 12.873412132263184, -8.262324333190918, -8.730154037475586, -9.383437156677246, 8.988973617553711, 6.402425289154053, 7.144105911254883, 2.0375094413757324, -9.811038970947266, -0.38889211416244507, 7.20863676071167, 1.5973892211914062, -3.278432846069336, 7.876328945159912, 7.062094211578369, 6.064707279205322, 6.276838779449463, 7.385246276855469, 0.21576976776123047, -3.3465893268585205, 11.281877517700195, 8.183530807495117, 5.431437015533447, -8.24476146697998, -6.046423435211182, 8.928876876831055, 6.839482307434082, 2.1927428245544434, 9.986039161682129, -5.866743087768555, -2.80023193359375, -6.2054057121276855, 3.003579616546631, -8.739592552185059, 8.807343482971191, 4.346409320831299, 8.121938705444336, -0.054248709231615067, -8.6828031539917, -10.310534477233887, 3.4082491397857666, -2.1744635105133057, -8.238633155822754, -2.754977226257324, -0.04838191717863083, 2.489144802093506, -13.351245880126953, 7.439676761627197, 9.816422462463379, 6.233730316162109, -12.742339134216309, -14.473794937133789, 5.92885684967041, 4.028622627258301, 9.742950439453125, 5.588655471801758, -4.016989707946777, -3.34743070602417, -1.1196945905685425, 4.108371734619141, 4.395180702209473, -7.999805927276611, -0.7357162237167358, 6.115955829620361, 4.166960716247559, -7.657451152801514, 8.514334678649902, 7.319258689880371, 1.3267992734909058, 5.998165130615234, 7.500955581665039, 3.41788387298584, 4.7105712890625, 7.941229343414307, 1.7019248008728027, 0.33232563734054565, -9.627176284790039, -9.859729766845703, 4.161688804626465, -7.214513301849365, 11.458280563354492, -9.058046340942383, 7.720358371734619, 10.03757095336914, 2.3073954582214355, 7.761205196380615, -8.956035614013672, -3.0040953159332275, -1.0210219621658325, 1.0906370878219604, 5.798981189727783, -4.785841464996338, -8.481880187988281, 7.722869396209717, -11.43556022644043, -0.4627475440502167, 6.880748271942139, 6.617673397064209, -1.3684979677200317, 1.27023184299469, 3.626710891723633, -8.879780769348145, -0.2972182035446167, 0.5980057716369629, 6.580036640167236, 2.254059314727783, 2.5626702308654785, 2.2873384952545166, -9.122854232788086, 6.151629447937012, -4.817230224609375, -14.001233100891113, 7.724332332611084, -10.78490924835205, -0.08765729516744614, -10.09976863861084, 5.4117584228515625, 2.1154353618621826, 8.827674865722656, 0.5942128896713257, 8.064756393432617, 8.411876678466797, 4.9207234382629395, 5.98547887802124, 4.570784568786621, -9.19680404663086, 5.958043575286865, -8.399813652038574, -0.01925310678780079, 4.723146438598633, -5.841874122619629, 6.772304058074951, 7.219905853271484, 7.022841930389404, -9.462220191955566, -14.785493850708008, -0.415304571390152, -5.956478595733643, -3.0676114559173584, 1.5422054529190063, 5.956071376800537, 6.079375743865967, -6.8390212059021, 2.091813325881958, -8.858262062072754, 5.842967987060547, 1.6351149082183838, 3.0690500736236572, -6.742864608764648, 0.5766326785087585, -8.041441917419434, 1.122829556465149, -3.6836113929748535, 6.803230285644531, 9.3795166015625, 8.679168701171875, -12.78950023651123, 6.092926025390625, 6.347433090209961, 6.777238845825195, -10.150054931640625, -6.740528106689453, 6.0344462394714355, 0.9673171639442444, 0.7437859177589417, -7.290428638458252, 7.084539890289307, -9.423032760620117, 0.5954819321632385, -6.422458648681641, -8.782357215881348, -6.82037353515625, -8.346232414245605, 7.043280124664307, 1.3071777820587158, 6.395008087158203, 7.253617286682129, -8.91176986694336, -7.499614238739014, 8.508575439453125, -0.9507507085800171, 6.778655529022217, -1.3994770050048828, 11.330876350402832, 7.768649578094482, -13.579086303710938, 0.17453911900520325, -8.13545036315918, 5.565173149108887, 5.79279899597168, 3.9436354637145996, 7.541747093200684, 5.514520645141602, -13.241870880126953, 4.803396224975586, -12.263648986816406, 2.9714276790618896, 4.253763198852539, 4.75174617767334, 3.6505606174468994, 5.0108323097229, -7.808199405670166, 3.1496529579162598, -9.429346084594727, -3.1080737113952637, 7.458556652069092, -14.097920417785645, 5.976308822631836, 5.555455684661865, -10.657752990722656, 7.029242515563965, 5.059638977050781, -10.805330276489258, -7.330482006072998, 7.871591567993164, 9.5977201461792, -2.238459348678589, 6.4513726234436035, 8.576391220092773, 0.9235231876373291, 1.4000097513198853, -4.547698020935059, 6.674289226531982, -3.90474534034729, 7.052024841308594, -8.268646240234375, 2.0651721954345703, 0.525626003742218, -9.16832160949707, -10.485261917114258, 7.363663196563721, -1.3863087892532349, 9.471055030822754, -3.373077392578125, 7.68975830078125, 4.83989953994751, 6.629082202911377, 1.3070974349975586, 0.9671239852905273, -10.01069164276123, 3.039597749710083, 6.950984001159668, 1.3275060653686523, -10.589844703674316, -2.040996789932251, 5.642452239990234, 2.945582866668701, -4.608490943908691, 8.962159156799316, 5.125171661376953, 1.152446985244751, 2.5328052043914795, 7.341262340545654, -12.8665132522583, 2.1385395526885986, 6.338908672332764, 5.719752311706543, 8.53451156616211, 1.5909026861190796, 0.09334802627563477, -5.486363887786865, -1.8267056941986084, 6.940762519836426, 0.4170336425304413, -12.784555435180664, 6.0047736167907715, 6.458686351776123, -6.2919416427612305, 8.149523735046387, 0.5886020660400391, -11.858491897583008, -11.2022123336792, 8.292170524597168, -3.1657044887542725, -1.2115561962127686, -0.37841135263442993, -2.053581714630127, -8.809000015258789, 3.7501959800720215, -3.97151255607605, -11.146641731262207, -9.873808860778809, 4.0696516036987305, 6.845717430114746, -5.971510887145996, 6.894415378570557, -8.399006843566895, -9.55587100982666, 1.8027639389038086, 3.163766622543335, 3.8078665733337402, 8.150444030761719, 8.421899795532227, 8.606280326843262, -5.161072731018066, -0.8785454034805298, 8.515385627746582, 6.82798957824707, 7.820367813110352, -7.097797393798828, 3.2166762351989746, -13.23812484741211, 9.055554389953613, 0.8352031707763672, 6.606706619262695, 7.642144203186035, 9.815735816955566, -3.1225342750549316, -8.78205394744873, 1.9811233282089233, 6.222270488739014, 8.510788917541504, -3.6883504390716553, 6.11225700378418, 8.199511528015137, 6.084116458892822, -9.376242637634277, -3.761510133743286, -9.20152759552002, 8.796871185302734, -1.846408486366272, 5.798754692077637, 4.652526378631592, 1.1856908798217773, 4.175001621246338, -4.929713726043701, -13.546186447143555, -8.255389213562012, -6.770719528198242, -14.854829788208008, -8.814499855041504, -3.453792095184326, 0.14763173460960388, 5.099471092224121, 4.8477582931518555, 0.09385333955287933, -4.882979393005371, 7.606371879577637, 3.2861311435699463, -6.202094078063965, 1.180535912513733, -13.349536895751953, 11.84821891784668, 7.003845691680908, -0.3867141604423523, -6.155368804931641, -15.04884147644043, -11.588571548461914, 8.82741641998291, -7.803256511688232, 1.868270993232727, -12.233402252197266, 1.166640281677246, -10.744521141052246, -12.721023559570312, 6.249669075012207, 4.478172302246094, -4.65346622467041, -10.13383674621582, 3.708754062652588, 3.001866340637207, -9.523356437683105, 0.3698122203350067, 7.241139888763428, 9.817705154418945, 4.628772258758545, -6.853762626647949, 7.376328468322754, 2.380524158477783, -1.4290964603424072, 5.283966064453125, -2.6618006229400635, 8.8212251663208, -3.8940069675445557, 3.1996893882751465, -10.133914947509766, -8.348796844482422, -9.196645736694336, -13.385534286499023, 11.371746063232422, 2.476318359375, 4.257582664489746, -5.493338108062744, 8.131683349609375, 7.432328701019287, 9.111867904663086, -1.0647481679916382, -8.243172645568848, 6.950500011444092, -0.3010091185569763, -6.779752731323242, 1.0402674674987793, -9.34897518157959, -8.538155555725098, -15.253944396972656, 4.436060905456543, -10.642775535583496, 5.0713791847229, -7.767332077026367, 2.950774669647217, 4.098306655883789, 0.891503632068634, -14.26766586303711, 0.444654643535614, -2.0562195777893066, -15.447097778320312, 0.6523978114128113, 5.078494548797607, -10.472811698913574, -3.187669515609741, 0.8464316129684448, -1.7706903219223022, 1.9925498962402344, 9.087530136108398, -11.102750778198242, 5.829293251037598, -0.6797544956207275, -10.518036842346191, 4.313896656036377, 2.78727126121521, 9.055606842041016, 1.6077197790145874, 10.407271385192871, 4.595517635345459, 7.447007656097412, -4.8300395011901855, -4.0770721435546875, 6.447103500366211, 2.9948408603668213, 7.581234455108643, 7.837432384490967, 8.330806732177734, 5.269563674926758, 11.210814476013184, -7.676699161529541, 7.560791492462158, 7.352002143859863, -8.352124214172363, -2.1087963581085205, -7.59828519821167, -5.9434919357299805, -13.292128562927246, 0.7860024571418762, 3.52695894241333, 8.63637924194336, -13.322395324707031, 9.073497772216797, 2.399174213409424, -4.077829837799072, 2.854214906692505, 0.9958518743515015, 9.68198013305664, 1.8032177686691284, -12.556074142456055, 3.6106138229370117, -0.11276695877313614, 8.585708618164062, 10.505043983459473, -8.80168342590332, 10.719361305236816, 8.53720474243164, 1.2788753509521484, 9.054322242736816, 4.969001770019531, 7.695362091064453, 6.848856449127197, -7.308695316314697, -10.35266399383545, -8.65095043182373, -12.004706382751465, -2.4328176975250244, 7.720491886138916, 2.8635218143463135, -11.39585018157959, -10.116992950439453, -1.5577563047409058, 6.883907318115234, 2.224813938140869, 3.898719310760498, 0.6768743991851807, 0.9903490543365479, 8.18154239654541, 2.951472520828247, -3.065441131591797, 7.8410420417785645, 3.7082409858703613, 5.223626613616943, -3.6458091735839844, 8.555693626403809, -1.2404437065124512, 4.578733444213867, 8.351244926452637, 7.344513893127441, 7.02551794052124, 9.515426635742188, 0.40224888920783997, 2.2194955348968506, 4.781193733215332, 1.5359455347061157, -7.52524471282959, -10.479227066040039, -9.71975040435791, -10.927974700927734, 1.3730316162109375, 1.5526782274246216, 1.8741772174835205, -3.226518154144287, -10.361994743347168, 1.0991579294204712, -2.6041860580444336, -3.160661220550537, 0.4673524796962738, -2.1474931240081787, 7.9923319816589355, 9.124771118164062, -8.477988243103027, 0.2992790937423706, -12.379148483276367, 1.1220120191574097, 7.395559787750244, -15.272799491882324, -3.9234657287597656, -7.510388374328613, -4.343452453613281, -7.006338596343994, 1.5693612098693848, 11.576550483703613, 3.442472457885742, -8.462936401367188, 6.770803928375244, 9.756478309631348, -6.190136909484863, 0.1535889059305191, -13.69994831085205, -5.086826324462891, -8.128158569335938, 3.8487436771392822, -10.734538078308105, -0.11849619448184967, 3.9565165042877197, 1.2275620698928833, 9.94827938079834, 6.225100994110107, 5.871298313140869, -4.4194769859313965, -7.613919734954834, -0.5514640212059021, 3.253603935241699, 5.048040390014648, -2.3614001274108887, 1.2163023948669434, -8.19288158416748, 7.562333583831787, 4.968015193939209, 8.570779800415039, 7.979710102081299, 7.915273666381836, 5.334976673126221, 2.55371356010437, -9.850893020629883, -1.7890437841415405, 2.446413993835449, 6.3944854736328125, -1.4549342393875122, 7.8480753898620605, 12.083073616027832, 7.064293384552002, 8.312971115112305, -3.7210447788238525, 1.2137490510940552, -9.760802268981934, 4.4985575675964355, -0.4858193099498749, 5.401917457580566, -8.133968353271484, 4.029598236083984, 11.272043228149414, 5.348710060119629, 3.273052215576172, 4.644938945770264, 3.182849168777466, 1.8957035541534424, 12.743691444396973, 8.482580184936523, -6.219219207763672, -10.508376121520996, -11.734692573547363, 1.086584210395813, 1.2711702585220337, -11.25145435333252, -2.761531114578247, 5.865205764770508, -8.634486198425293, 7.744116306304932, 10.465929985046387, -0.8303989171981812, -0.044166430830955505, 0.9847597479820251, -0.14391230046749115, 1.9646070003509521, -3.3705592155456543, 3.4533045291900635, -2.9840080738067627, 7.386689186096191, 4.439319610595703, 0.055390238761901855, -3.044102907180786, 0.9125152230262756, -8.453837394714355, 9.306979179382324, 3.204714298248291, -7.834660530090332, 0.3017662763595581, -3.5049326419830322, 6.686652660369873, 8.436857223510742, 6.19378137588501, 4.89325475692749, -1.2708609104156494, -4.697692394256592, 2.3332901000976562, 3.210433006286621, 0.37573638558387756, 11.414048194885254, -9.11375904083252, -13.275479316711426, -14.102361679077148, 1.7098796367645264, -0.014396028593182564, -6.477671146392822, -7.319382190704346, 2.205061674118042, -8.393446922302246, -13.610261917114258, -10.040078163146973, 12.054645538330078, -6.647180080413818, 5.00060510635376, 9.3840913772583, -5.765144348144531, 7.775066375732422, 7.6803483963012695, 0.8622148633003235, -8.128968238830566, -11.356048583984375, 0.35542064905166626, 0.7817109227180481, 4.392232894897461, 3.863140106201172, -1.8190242052078247, -0.7439888119697571, 7.561919212341309, -9.007441520690918, 6.966598033905029, 8.615665435791016, -6.804824352264404, 7.540591716766357, -7.903193950653076, -11.26282787322998, -6.232363224029541, 0.897561252117157, 8.709900856018066, -7.6422810554504395, 1.31353759765625, 0.3501521050930023, 1.28558349609375, -15.200057983398438, -9.264869689941406, -9.369742393493652, 7.881410598754883, 4.4454803466796875, -8.472381591796875, -14.720952033996582, 4.798638343811035, 1.9838069677352905, 6.995400428771973, -13.394312858581543, -9.747364044189453, 9.036194801330566, -9.321366310119629, 2.279141426086426, -13.630335807800293, 7.707447052001953, 8.427504539489746, -0.7105560302734375, -5.423515319824219, -11.026581764221191, 4.272389888763428, 0.015176533721387386, -0.38858991861343384, -0.2126731276512146, 9.691627502441406, -8.699623107910156, 4.764190196990967, 0.778891384601593, 3.6934902667999268, 10.595353126525879, 1.2816383838653564, -4.930706977844238, 2.600034475326538, -13.937137603759766, -8.08370304107666, 4.745244026184082, -4.786022186279297, 4.846277236938477, 7.646108150482178, 3.7615020275115967, 7.79047966003418, 9.850730895996094, -7.427610397338867, -14.310175895690918, 4.64659309387207, 3.3882195949554443, 4.5812087059021, 10.586104393005371, -12.293314933776855, -10.903369903564453, 2.7663609981536865, 3.4854445457458496, -6.263991832733154, 0.6212771534919739, 2.2894465923309326, -6.597116947174072, 6.600854396820068, -4.818145275115967, -7.6382927894592285, 9.299139022827148, -0.09429684281349182, -10.312887191772461, -3.206897020339966, 7.621532440185547, 7.6203293800354, 7.77328634262085, 9.321374893188477, 5.544317245483398, -10.869437217712402, -8.763256072998047, -3.3636209964752197, 8.530872344970703, -10.550822257995605, -1.1505646705627441, -10.002826690673828, -1.4729562997817993, 5.414643287658691, 0.040114253759384155, 11.68069076538086, -11.940335273742676, 2.0891683101654053, -8.637385368347168, -10.84045124053955, 2.7578108310699463, -9.547588348388672, 4.751979827880859, 8.891307830810547, 6.34677267074585, -10.149198532104492, 7.503131866455078, -6.488574028015137, 8.398643493652344, -1.7916549444198608, 3.6174886226654053, -8.970466613769531, 6.339242935180664, -0.976219892501831, 4.356406211853027, 2.1679790019989014, -5.918813228607178, -7.029533386230469, -6.876920700073242, -13.158639907836914, -9.790253639221191, 5.798885822296143, 7.234712600708008, 12.584218978881836, -9.257341384887695, -0.19712111353874207, -8.344708442687988, 1.2926416397094727, -5.174039840698242, 4.229944705963135, -3.0869178771972656, -9.556260108947754, 3.225348472595215, -8.197715759277344, -8.362541198730469, 6.0788373947143555, -0.7658118009567261, 1.4820038080215454, 5.95785665512085, 0.10498633235692978, 0.26071697473526, 7.533056259155273, -10.925882339477539, -5.145937442779541, 7.908801555633545, 7.109379291534424, -2.7247166633605957, -14.323173522949219, 5.203908443450928, -1.1633657217025757, 0.3241305649280548, -14.013677597045898, 2.535362482070923, -8.697871208190918, -5.558185577392578, 6.9172210693359375, 11.580001831054688, 12.186220169067383, -9.806049346923828, 11.172233581542969, 2.4103078842163086, -9.539776802062988, 5.579622268676758, -8.094858169555664, 7.239575386047363, -6.320733070373535, 0.3431055247783661, 5.819643020629883, -8.704448699951172, -0.8462456464767456, 3.2834632396698, 5.903029918670654, 7.4466729164123535, -3.765101671218872, -3.0697264671325684, -7.163292407989502, 8.687294960021973, 10.35647964477539, -4.593244552612305, 0.29701805114746094, -14.502751350402832, 9.693601608276367, -13.80789852142334, 0.809445321559906, -13.451595306396484, -11.048940658569336, 6.5093536376953125, 8.329614639282227, -6.5050764083862305, -0.4763336479663849, 7.769162654876709, 7.657033443450928, -0.3767527937889099, 6.592850685119629, 12.577438354492188, 2.9408774375915527, 2.1048271656036377, 1.2661231756210327, 6.483788013458252, 1.6886080503463745, -7.618739604949951, -14.785626411437988, -7.472072124481201, 3.2656466960906982, 6.380367755889893, -12.809915542602539, 1.3669192790985107, 0.8765325546264648, 2.110182523727417, -11.385235786437988, -9.325255393981934, -8.72019100189209, -9.847654342651367, 7.960519313812256, 6.709659576416016, 1.1676123142242432, 2.2921597957611084, 7.074396133422852, 1.3173713684082031, -8.812973976135254, -12.996994018554688, 7.783990383148193, 1.763676643371582, 3.1039845943450928, 1.7149651050567627, 7.778622150421143, 10.46505355834961, -4.435426712036133, 6.815669536590576, -13.844427108764648, -13.630773544311523, -7.033273220062256, 1.5982651710510254, -7.119388580322266, 2.473483085632324, -12.825759887695312, 6.114979267120361, -4.693362712860107]}],                        {\"coloraxis\": {\"colorbar\": {\"title\": {\"text\": \"Anomaly\"}}, \"colorscale\": [[0.0, \"#0d0887\"], [0.1111111111111111, \"#46039f\"], [0.2222222222222222, \"#7201a8\"], [0.3333333333333333, \"#9c179e\"], [0.4444444444444444, \"#bd3786\"], [0.5555555555555556, \"#d8576b\"], [0.6666666666666666, \"#ed7953\"], [0.7777777777777778, \"#fb9f3a\"], [0.8888888888888888, \"#fdca26\"], [1.0, \"#f0f921\"]]}, \"height\": 800, \"legend\": {\"tracegroupgap\": 0}, \"scene\": {\"domain\": {\"x\": [0.0, 1.0], \"y\": [0.0, 1.0]}, \"xaxis\": {\"title\": {\"text\": \"0\"}}, \"yaxis\": {\"title\": {\"text\": \"1\"}}, \"zaxis\": {\"title\": {\"text\": \"2\"}}}, \"template\": {\"data\": {\"bar\": [{\"error_x\": {\"color\": \"#2a3f5f\"}, \"error_y\": {\"color\": \"#2a3f5f\"}, \"marker\": {\"line\": {\"color\": \"#E5ECF6\", \"width\": 0.5}}, \"type\": \"bar\"}], \"barpolar\": [{\"marker\": {\"line\": {\"color\": \"#E5ECF6\", \"width\": 0.5}}, \"type\": \"barpolar\"}], \"carpet\": [{\"aaxis\": {\"endlinecolor\": \"#2a3f5f\", \"gridcolor\": \"white\", \"linecolor\": \"white\", \"minorgridcolor\": \"white\", \"startlinecolor\": \"#2a3f5f\"}, \"baxis\": {\"endlinecolor\": \"#2a3f5f\", \"gridcolor\": \"white\", \"linecolor\": \"white\", \"minorgridcolor\": \"white\", \"startlinecolor\": \"#2a3f5f\"}, \"type\": \"carpet\"}], \"choropleth\": [{\"colorbar\": {\"outlinewidth\": 0, \"ticks\": \"\"}, \"type\": \"choropleth\"}], \"contour\": [{\"colorbar\": {\"outlinewidth\": 0, \"ticks\": \"\"}, \"colorscale\": [[0.0, \"#0d0887\"], [0.1111111111111111, \"#46039f\"], [0.2222222222222222, \"#7201a8\"], [0.3333333333333333, \"#9c179e\"], [0.4444444444444444, \"#bd3786\"], [0.5555555555555556, \"#d8576b\"], [0.6666666666666666, \"#ed7953\"], [0.7777777777777778, \"#fb9f3a\"], [0.8888888888888888, \"#fdca26\"], [1.0, \"#f0f921\"]], \"type\": \"contour\"}], \"contourcarpet\": [{\"colorbar\": {\"outlinewidth\": 0, \"ticks\": \"\"}, \"type\": \"contourcarpet\"}], \"heatmap\": [{\"colorbar\": {\"outlinewidth\": 0, \"ticks\": \"\"}, \"colorscale\": [[0.0, \"#0d0887\"], [0.1111111111111111, \"#46039f\"], [0.2222222222222222, \"#7201a8\"], [0.3333333333333333, \"#9c179e\"], [0.4444444444444444, \"#bd3786\"], [0.5555555555555556, \"#d8576b\"], [0.6666666666666666, \"#ed7953\"], [0.7777777777777778, \"#fb9f3a\"], [0.8888888888888888, \"#fdca26\"], [1.0, \"#f0f921\"]], \"type\": \"heatmap\"}], \"heatmapgl\": [{\"colorbar\": {\"outlinewidth\": 0, \"ticks\": \"\"}, \"colorscale\": [[0.0, \"#0d0887\"], [0.1111111111111111, \"#46039f\"], [0.2222222222222222, \"#7201a8\"], [0.3333333333333333, \"#9c179e\"], [0.4444444444444444, \"#bd3786\"], [0.5555555555555556, \"#d8576b\"], [0.6666666666666666, \"#ed7953\"], [0.7777777777777778, \"#fb9f3a\"], [0.8888888888888888, \"#fdca26\"], [1.0, \"#f0f921\"]], \"type\": \"heatmapgl\"}], \"histogram\": [{\"marker\": {\"colorbar\": {\"outlinewidth\": 0, \"ticks\": \"\"}}, \"type\": \"histogram\"}], \"histogram2d\": [{\"colorbar\": {\"outlinewidth\": 0, \"ticks\": \"\"}, \"colorscale\": [[0.0, \"#0d0887\"], [0.1111111111111111, \"#46039f\"], [0.2222222222222222, \"#7201a8\"], [0.3333333333333333, \"#9c179e\"], [0.4444444444444444, \"#bd3786\"], [0.5555555555555556, \"#d8576b\"], [0.6666666666666666, \"#ed7953\"], [0.7777777777777778, \"#fb9f3a\"], [0.8888888888888888, \"#fdca26\"], [1.0, \"#f0f921\"]], \"type\": \"histogram2d\"}], \"histogram2dcontour\": [{\"colorbar\": {\"outlinewidth\": 0, \"ticks\": \"\"}, \"colorscale\": [[0.0, \"#0d0887\"], [0.1111111111111111, \"#46039f\"], [0.2222222222222222, \"#7201a8\"], [0.3333333333333333, \"#9c179e\"], [0.4444444444444444, \"#bd3786\"], [0.5555555555555556, \"#d8576b\"], [0.6666666666666666, \"#ed7953\"], [0.7777777777777778, \"#fb9f3a\"], [0.8888888888888888, \"#fdca26\"], [1.0, \"#f0f921\"]], \"type\": \"histogram2dcontour\"}], \"mesh3d\": [{\"colorbar\": {\"outlinewidth\": 0, \"ticks\": \"\"}, \"type\": \"mesh3d\"}], \"parcoords\": [{\"line\": {\"colorbar\": {\"outlinewidth\": 0, \"ticks\": \"\"}}, \"type\": \"parcoords\"}], \"pie\": [{\"automargin\": true, \"type\": \"pie\"}], \"scatter\": [{\"marker\": {\"colorbar\": {\"outlinewidth\": 0, \"ticks\": \"\"}}, \"type\": \"scatter\"}], \"scatter3d\": [{\"line\": {\"colorbar\": {\"outlinewidth\": 0, \"ticks\": \"\"}}, \"marker\": {\"colorbar\": {\"outlinewidth\": 0, \"ticks\": \"\"}}, \"type\": \"scatter3d\"}], \"scattercarpet\": [{\"marker\": {\"colorbar\": {\"outlinewidth\": 0, \"ticks\": \"\"}}, \"type\": \"scattercarpet\"}], \"scattergeo\": [{\"marker\": {\"colorbar\": {\"outlinewidth\": 0, \"ticks\": \"\"}}, \"type\": \"scattergeo\"}], \"scattergl\": [{\"marker\": {\"colorbar\": {\"outlinewidth\": 0, \"ticks\": \"\"}}, \"type\": \"scattergl\"}], \"scattermapbox\": [{\"marker\": {\"colorbar\": {\"outlinewidth\": 0, \"ticks\": \"\"}}, \"type\": \"scattermapbox\"}], \"scatterpolar\": [{\"marker\": {\"colorbar\": {\"outlinewidth\": 0, \"ticks\": \"\"}}, \"type\": \"scatterpolar\"}], \"scatterpolargl\": [{\"marker\": {\"colorbar\": {\"outlinewidth\": 0, \"ticks\": \"\"}}, \"type\": \"scatterpolargl\"}], \"scatterternary\": [{\"marker\": {\"colorbar\": {\"outlinewidth\": 0, \"ticks\": \"\"}}, \"type\": \"scatterternary\"}], \"surface\": [{\"colorbar\": {\"outlinewidth\": 0, \"ticks\": \"\"}, \"colorscale\": [[0.0, \"#0d0887\"], [0.1111111111111111, \"#46039f\"], [0.2222222222222222, \"#7201a8\"], [0.3333333333333333, \"#9c179e\"], [0.4444444444444444, \"#bd3786\"], [0.5555555555555556, \"#d8576b\"], [0.6666666666666666, \"#ed7953\"], [0.7777777777777778, \"#fb9f3a\"], [0.8888888888888888, \"#fdca26\"], [1.0, \"#f0f921\"]], \"type\": \"surface\"}], \"table\": [{\"cells\": {\"fill\": {\"color\": \"#EBF0F8\"}, \"line\": {\"color\": \"white\"}}, \"header\": {\"fill\": {\"color\": \"#C8D4E3\"}, \"line\": {\"color\": \"white\"}}, \"type\": \"table\"}]}, \"layout\": {\"annotationdefaults\": {\"arrowcolor\": \"#2a3f5f\", \"arrowhead\": 0, \"arrowwidth\": 1}, \"autotypenumbers\": \"strict\", \"coloraxis\": {\"colorbar\": {\"outlinewidth\": 0, \"ticks\": \"\"}}, \"colorscale\": {\"diverging\": [[0, \"#8e0152\"], [0.1, \"#c51b7d\"], [0.2, \"#de77ae\"], [0.3, \"#f1b6da\"], [0.4, \"#fde0ef\"], [0.5, \"#f7f7f7\"], [0.6, \"#e6f5d0\"], [0.7, \"#b8e186\"], [0.8, \"#7fbc41\"], [0.9, \"#4d9221\"], [1, \"#276419\"]], \"sequential\": [[0.0, \"#0d0887\"], [0.1111111111111111, \"#46039f\"], [0.2222222222222222, \"#7201a8\"], [0.3333333333333333, \"#9c179e\"], [0.4444444444444444, \"#bd3786\"], [0.5555555555555556, \"#d8576b\"], [0.6666666666666666, \"#ed7953\"], [0.7777777777777778, \"#fb9f3a\"], [0.8888888888888888, \"#fdca26\"], [1.0, \"#f0f921\"]], \"sequentialminus\": [[0.0, \"#0d0887\"], [0.1111111111111111, \"#46039f\"], [0.2222222222222222, \"#7201a8\"], [0.3333333333333333, \"#9c179e\"], [0.4444444444444444, \"#bd3786\"], [0.5555555555555556, \"#d8576b\"], [0.6666666666666666, \"#ed7953\"], [0.7777777777777778, \"#fb9f3a\"], [0.8888888888888888, \"#fdca26\"], [1.0, \"#f0f921\"]]}, \"colorway\": [\"#636efa\", \"#EF553B\", \"#00cc96\", \"#ab63fa\", \"#FFA15A\", \"#19d3f3\", \"#FF6692\", \"#B6E880\", \"#FF97FF\", \"#FECB52\"], \"font\": {\"color\": \"#2a3f5f\"}, \"geo\": {\"bgcolor\": \"white\", \"lakecolor\": \"white\", \"landcolor\": \"#E5ECF6\", \"showlakes\": true, \"showland\": true, \"subunitcolor\": \"white\"}, \"hoverlabel\": {\"align\": \"left\"}, \"hovermode\": \"closest\", \"mapbox\": {\"style\": \"light\"}, \"paper_bgcolor\": \"white\", \"plot_bgcolor\": \"#E5ECF6\", \"polar\": {\"angularaxis\": {\"gridcolor\": \"white\", \"linecolor\": \"white\", \"ticks\": \"\"}, \"bgcolor\": \"#E5ECF6\", \"radialaxis\": {\"gridcolor\": \"white\", \"linecolor\": \"white\", \"ticks\": \"\"}}, \"scene\": {\"xaxis\": {\"backgroundcolor\": \"#E5ECF6\", \"gridcolor\": \"white\", \"gridwidth\": 2, \"linecolor\": \"white\", \"showbackground\": true, \"ticks\": \"\", \"zerolinecolor\": \"white\"}, \"yaxis\": {\"backgroundcolor\": \"#E5ECF6\", \"gridcolor\": \"white\", \"gridwidth\": 2, \"linecolor\": \"white\", \"showbackground\": true, \"ticks\": \"\", \"zerolinecolor\": \"white\"}, \"zaxis\": {\"backgroundcolor\": \"#E5ECF6\", \"gridcolor\": \"white\", \"gridwidth\": 2, \"linecolor\": \"white\", \"showbackground\": true, \"ticks\": \"\", \"zerolinecolor\": \"white\"}}, \"shapedefaults\": {\"line\": {\"color\": \"#2a3f5f\"}}, \"ternary\": {\"aaxis\": {\"gridcolor\": \"white\", \"linecolor\": \"white\", \"ticks\": \"\"}, \"baxis\": {\"gridcolor\": \"white\", \"linecolor\": \"white\", \"ticks\": \"\"}, \"bgcolor\": \"#E5ECF6\", \"caxis\": {\"gridcolor\": \"white\", \"linecolor\": \"white\", \"ticks\": \"\"}}, \"title\": {\"x\": 0.05}, \"xaxis\": {\"automargin\": true, \"gridcolor\": \"white\", \"linecolor\": \"white\", \"ticks\": \"\", \"title\": {\"standoff\": 15}, \"zerolinecolor\": \"white\", \"zerolinewidth\": 2}, \"yaxis\": {\"automargin\": true, \"gridcolor\": \"white\", \"linecolor\": \"white\", \"ticks\": \"\", \"title\": {\"standoff\": 15}, \"zerolinecolor\": \"white\", \"zerolinewidth\": 2}}}, \"title\": {\"text\": \"3d TSNE Plot for Outliers\"}, \"width\": 900},                        {\"responsive\": true}                    ).then(function(){\n",
       "                            \n",
       "var gd = document.getElementById('c6cbb1f7-f9ae-47b8-8fa1-888dd9a826da');\n",
       "var x = new MutationObserver(function (mutations, observer) {{\n",
       "        var display = window.getComputedStyle(gd).display;\n",
       "        if (!display || display === 'none') {{\n",
       "            console.log([gd, 'removed!']);\n",
       "            Plotly.purge(gd);\n",
       "            observer.disconnect();\n",
       "        }}\n",
       "}});\n",
       "\n",
       "// Listen for the removal of the full notebook cells\n",
       "var notebookContainer = gd.closest('#notebook-container');\n",
       "if (notebookContainer) {{\n",
       "    x.observe(notebookContainer, {childList: true});\n",
       "}}\n",
       "\n",
       "// Listen for the clearing of the current output cell\n",
       "var outputEl = gd.closest('.output');\n",
       "if (outputEl) {{\n",
       "    x.observe(outputEl, {childList: true});\n",
       "}}\n",
       "\n",
       "                        })                };                });            </script>        </div>"
      ]
     },
     "metadata": {},
     "output_type": "display_data"
    }
   ],
   "source": [
    "plot_model(iforest)"
   ]
  },
  {
   "cell_type": "code",
   "execution_count": 39,
   "metadata": {},
   "outputs": [
    {
     "name": "stdout",
     "output_type": "stream",
     "text": [
      "Transformation Pipeline and Model Successfully Saved\n"
     ]
    },
    {
     "data": {
      "text/plain": [
       "(Pipeline(memory=None,\n",
       "          steps=[('dtypes',\n",
       "                  DataTypes_Auto_infer(categorical_features=[],\n",
       "                                       display_types=True, features_todrop=[],\n",
       "                                       id_columns=[], ml_usecase='regression',\n",
       "                                       numerical_features=[],\n",
       "                                       target='UNSUPERVISED_DUMMY_TARGET',\n",
       "                                       time_features=[])),\n",
       "                 ('imputer',\n",
       "                  Simple_Imputer(categorical_strategy='most frequent',\n",
       "                                 fill_value_categorical=None,\n",
       "                                 fill_value_numerical=None...\n",
       "                 ('fix_perfect', 'passthrough'),\n",
       "                 ('clean_names', Clean_Colum_Names()),\n",
       "                 ('feature_select', 'passthrough'), ('fix_multi', 'passthrough'),\n",
       "                 ('dfs', 'passthrough'), ('pca', 'passthrough'),\n",
       "                 ['trained_model',\n",
       "                  IForest(behaviour='new', bootstrap=False, contamination=0.05,\n",
       "     max_features=1.0, max_samples='auto', n_estimators=200, n_jobs=-1,\n",
       "     random_state=123, verbose=0)]],\n",
       "          verbose=False),\n",
       " 'abc.pkl')"
      ]
     },
     "execution_count": 39,
     "metadata": {},
     "output_type": "execute_result"
    }
   ],
   "source": [
    "save_model(iforest, model_name='abc')"
   ]
  },
  {
   "cell_type": "code",
   "execution_count": 40,
   "metadata": {},
   "outputs": [
    {
     "name": "stdout",
     "output_type": "stream",
     "text": [
      "Transformation Pipeline and Model Successfully Loaded\n"
     ]
    },
    {
     "data": {
      "text/plain": [
       "Pipeline(memory=None,\n",
       "         steps=[('dtypes',\n",
       "                 DataTypes_Auto_infer(categorical_features=[],\n",
       "                                      display_types=True, features_todrop=[],\n",
       "                                      id_columns=[], ml_usecase='regression',\n",
       "                                      numerical_features=[],\n",
       "                                      target='UNSUPERVISED_DUMMY_TARGET',\n",
       "                                      time_features=[])),\n",
       "                ('imputer',\n",
       "                 Simple_Imputer(categorical_strategy='most frequent',\n",
       "                                fill_value_categorical=None,\n",
       "                                fill_value_numerical=None...\n",
       "                ('fix_perfect', 'passthrough'),\n",
       "                ('clean_names', Clean_Colum_Names()),\n",
       "                ('feature_select', 'passthrough'), ('fix_multi', 'passthrough'),\n",
       "                ('dfs', 'passthrough'), ('pca', 'passthrough'),\n",
       "                ['trained_model',\n",
       "                 IForest(behaviour='new', bootstrap=False, contamination=0.05,\n",
       "    max_features=1.0, max_samples='auto', n_estimators=200, n_jobs=-1,\n",
       "    random_state=123, verbose=0)]],\n",
       "         verbose=False)"
      ]
     },
     "execution_count": 40,
     "metadata": {},
     "output_type": "execute_result"
    }
   ],
   "source": [
    "load_model('abc')"
   ]
  },
  {
   "cell_type": "markdown",
   "metadata": {},
   "source": [
    "# On any env just write this for prediction"
   ]
  },
  {
   "cell_type": "code",
   "execution_count": 42,
   "metadata": {},
   "outputs": [
    {
     "name": "stdout",
     "output_type": "stream",
     "text": [
      "Transformation Pipeline and Model Successfully Loaded\n"
     ]
    },
    {
     "data": {
      "text/html": [
       "<div>\n",
       "<style scoped>\n",
       "    .dataframe tbody tr th:only-of-type {\n",
       "        vertical-align: middle;\n",
       "    }\n",
       "\n",
       "    .dataframe tbody tr th {\n",
       "        vertical-align: top;\n",
       "    }\n",
       "\n",
       "    .dataframe thead th {\n",
       "        text-align: right;\n",
       "    }\n",
       "</style>\n",
       "<table border=\"1\" class=\"dataframe\">\n",
       "  <thead>\n",
       "    <tr style=\"text-align: right;\">\n",
       "      <th></th>\n",
       "      <th>Col1</th>\n",
       "      <th>Col2</th>\n",
       "      <th>Col3</th>\n",
       "      <th>Col4</th>\n",
       "      <th>Col5</th>\n",
       "      <th>Col6</th>\n",
       "      <th>Col7</th>\n",
       "      <th>Col8</th>\n",
       "      <th>Col9</th>\n",
       "      <th>Col10</th>\n",
       "      <th>Anomaly</th>\n",
       "      <th>Anomaly_Score</th>\n",
       "    </tr>\n",
       "  </thead>\n",
       "  <tbody>\n",
       "    <tr>\n",
       "      <th>0</th>\n",
       "      <td>0.263995</td>\n",
       "      <td>0.764929</td>\n",
       "      <td>0.138424</td>\n",
       "      <td>0.935242</td>\n",
       "      <td>0.605867</td>\n",
       "      <td>0.518790</td>\n",
       "      <td>0.912225</td>\n",
       "      <td>0.608234</td>\n",
       "      <td>0.723782</td>\n",
       "      <td>0.733591</td>\n",
       "      <td>0</td>\n",
       "      <td>-0.030361</td>\n",
       "    </tr>\n",
       "    <tr>\n",
       "      <th>1</th>\n",
       "      <td>0.546092</td>\n",
       "      <td>0.653975</td>\n",
       "      <td>0.065575</td>\n",
       "      <td>0.227772</td>\n",
       "      <td>0.845269</td>\n",
       "      <td>0.837066</td>\n",
       "      <td>0.272379</td>\n",
       "      <td>0.331679</td>\n",
       "      <td>0.429297</td>\n",
       "      <td>0.367422</td>\n",
       "      <td>0</td>\n",
       "      <td>-0.078290</td>\n",
       "    </tr>\n",
       "    <tr>\n",
       "      <th>2</th>\n",
       "      <td>0.336714</td>\n",
       "      <td>0.538842</td>\n",
       "      <td>0.192801</td>\n",
       "      <td>0.553563</td>\n",
       "      <td>0.074515</td>\n",
       "      <td>0.332993</td>\n",
       "      <td>0.365792</td>\n",
       "      <td>0.861309</td>\n",
       "      <td>0.899017</td>\n",
       "      <td>0.088600</td>\n",
       "      <td>1</td>\n",
       "      <td>0.026938</td>\n",
       "    </tr>\n",
       "    <tr>\n",
       "      <th>3</th>\n",
       "      <td>0.092108</td>\n",
       "      <td>0.995017</td>\n",
       "      <td>0.014465</td>\n",
       "      <td>0.176371</td>\n",
       "      <td>0.241530</td>\n",
       "      <td>0.514724</td>\n",
       "      <td>0.562208</td>\n",
       "      <td>0.158963</td>\n",
       "      <td>0.073715</td>\n",
       "      <td>0.208463</td>\n",
       "      <td>1</td>\n",
       "      <td>0.053551</td>\n",
       "    </tr>\n",
       "    <tr>\n",
       "      <th>4</th>\n",
       "      <td>0.325261</td>\n",
       "      <td>0.805968</td>\n",
       "      <td>0.957033</td>\n",
       "      <td>0.331665</td>\n",
       "      <td>0.307923</td>\n",
       "      <td>0.355315</td>\n",
       "      <td>0.501899</td>\n",
       "      <td>0.558449</td>\n",
       "      <td>0.885169</td>\n",
       "      <td>0.182754</td>\n",
       "      <td>0</td>\n",
       "      <td>-0.015639</td>\n",
       "    </tr>\n",
       "  </tbody>\n",
       "</table>\n",
       "</div>"
      ],
      "text/plain": [
       "       Col1      Col2      Col3      Col4      Col5  ...      Col8      Col9     Col10  Anomaly  Anomaly_Score\n",
       "0  0.263995  0.764929  0.138424  0.935242  0.605867  ...  0.608234  0.723782  0.733591        0      -0.030361\n",
       "1  0.546092  0.653975  0.065575  0.227772  0.845269  ...  0.331679  0.429297  0.367422        0      -0.078290\n",
       "2  0.336714  0.538842  0.192801  0.553563  0.074515  ...  0.861309  0.899017  0.088600        1       0.026938\n",
       "3  0.092108  0.995017  0.014465  0.176371  0.241530  ...  0.158963  0.073715  0.208463        1       0.053551\n",
       "4  0.325261  0.805968  0.957033  0.331665  0.307923  ...  0.558449  0.885169  0.182754        0      -0.015639\n",
       "\n",
       "[5 rows x 12 columns]"
      ]
     },
     "execution_count": 42,
     "metadata": {},
     "output_type": "execute_result"
    }
   ],
   "source": [
    "from pycaret.anomaly import load_model, predict_model\n",
    "l = load_model('abc')\n",
    "p = predict_model(l, data=data)\n",
    "p.head()"
   ]
  },
  {
   "cell_type": "markdown",
   "metadata": {},
   "source": [
    "# Visualize the pipeline"
   ]
  },
  {
   "cell_type": "code",
   "execution_count": 43,
   "metadata": {},
   "outputs": [],
   "source": [
    "from sklearn import set_config\n",
    "set_config(display='diagram')"
   ]
  },
  {
   "cell_type": "code",
   "execution_count": 44,
   "metadata": {},
   "outputs": [
    {
     "data": {
      "text/html": [
       "<style>div.sk-top-container {color: black;background-color: white;}div.sk-toggleable {background-color: white;}label.sk-toggleable__label {cursor: pointer;display: block;width: 100%;margin-bottom: 0;padding: 0.2em 0.3em;box-sizing: border-box;text-align: center;}div.sk-toggleable__content {max-height: 0;max-width: 0;overflow: hidden;text-align: left;background-color: #f0f8ff;}div.sk-toggleable__content pre {margin: 0.2em;color: black;border-radius: 0.25em;background-color: #f0f8ff;}input.sk-toggleable__control:checked~div.sk-toggleable__content {max-height: 200px;max-width: 100%;overflow: auto;}div.sk-estimator input.sk-toggleable__control:checked~label.sk-toggleable__label {background-color: #d4ebff;}div.sk-label input.sk-toggleable__control:checked~label.sk-toggleable__label {background-color: #d4ebff;}input.sk-hidden--visually {border: 0;clip: rect(1px 1px 1px 1px);clip: rect(1px, 1px, 1px, 1px);height: 1px;margin: -1px;overflow: hidden;padding: 0;position: absolute;width: 1px;}div.sk-estimator {font-family: monospace;background-color: #f0f8ff;margin: 0.25em 0.25em;border: 1px dotted black;border-radius: 0.25em;box-sizing: border-box;}div.sk-estimator:hover {background-color: #d4ebff;}div.sk-parallel-item::after {content: \"\";width: 100%;border-bottom: 1px solid gray;flex-grow: 1;}div.sk-label:hover label.sk-toggleable__label {background-color: #d4ebff;}div.sk-serial::before {content: \"\";position: absolute;border-left: 1px solid gray;box-sizing: border-box;top: 2em;bottom: 0;left: 50%;}div.sk-serial {display: flex;flex-direction: column;align-items: center;background-color: white;}div.sk-item {z-index: 1;}div.sk-parallel {display: flex;align-items: stretch;justify-content: center;background-color: white;}div.sk-parallel-item {display: flex;flex-direction: column;position: relative;background-color: white;}div.sk-parallel-item:first-child::after {align-self: flex-end;width: 50%;}div.sk-parallel-item:last-child::after {align-self: flex-start;width: 50%;}div.sk-parallel-item:only-child::after {width: 0;}div.sk-dashed-wrapped {border: 1px dashed gray;margin: 0.2em;box-sizing: border-box;padding-bottom: 0.1em;background-color: white;position: relative;}div.sk-label label {font-family: monospace;font-weight: bold;background-color: white;display: inline-block;line-height: 1.2em;}div.sk-label-container {position: relative;z-index: 2;text-align: center;}div.sk-container {display: inline-block;position: relative;}</style><div class=\"sk-top-container\"><div class=\"sk-container\"><div class=\"sk-item sk-dashed-wrapped\"><div class=\"sk-label-container\"><div class=\"sk-label sk-toggleable\"><input class=\"sk-toggleable__control sk-hidden--visually\" id=\"2c85e9c9-cb95-489c-8d4f-b6611d0695e3\" type=\"checkbox\" ><label class=\"sk-toggleable__label\" for=\"2c85e9c9-cb95-489c-8d4f-b6611d0695e3\">Pipeline</label><div class=\"sk-toggleable__content\"><pre>Pipeline(memory=None,\n",
       "         steps=[('dtypes',\n",
       "                 DataTypes_Auto_infer(categorical_features=[],\n",
       "                                      display_types=True, features_todrop=[],\n",
       "                                      id_columns=[], ml_usecase='regression',\n",
       "                                      numerical_features=[],\n",
       "                                      target='UNSUPERVISED_DUMMY_TARGET',\n",
       "                                      time_features=[])),\n",
       "                ('imputer',\n",
       "                 Simple_Imputer(categorical_strategy='most frequent',\n",
       "                                fill_value_categorical=None,\n",
       "                                fill_value_numerical=None...\n",
       "                ('fix_perfect', 'passthrough'),\n",
       "                ('clean_names', Clean_Colum_Names()),\n",
       "                ('feature_select', 'passthrough'), ('fix_multi', 'passthrough'),\n",
       "                ('dfs', 'passthrough'), ('pca', 'passthrough'),\n",
       "                ['trained_model',\n",
       "                 IForest(behaviour='new', bootstrap=False, contamination=0.05,\n",
       "    max_features=1.0, max_samples='auto', n_estimators=200, n_jobs=-1,\n",
       "    random_state=123, verbose=0)]],\n",
       "         verbose=False)</pre></div></div></div><div class=\"sk-serial\"><div class=\"sk-item\"><div class=\"sk-estimator sk-toggleable\"><input class=\"sk-toggleable__control sk-hidden--visually\" id=\"2a1fd364-fe1c-47df-8ab9-98b374509b69\" type=\"checkbox\" ><label class=\"sk-toggleable__label\" for=\"2a1fd364-fe1c-47df-8ab9-98b374509b69\">DataTypes_Auto_infer</label><div class=\"sk-toggleable__content\"><pre>DataTypes_Auto_infer(ml_usecase='regression',\n",
       "                     target='UNSUPERVISED_DUMMY_TARGET')</pre></div></div></div><div class=\"sk-item\"><div class=\"sk-estimator sk-toggleable\"><input class=\"sk-toggleable__control sk-hidden--visually\" id=\"d4585ce1-322b-4e2c-ae2f-2c0cc4ee927e\" type=\"checkbox\" ><label class=\"sk-toggleable__label\" for=\"d4585ce1-322b-4e2c-ae2f-2c0cc4ee927e\">Simple_Imputer</label><div class=\"sk-toggleable__content\"><pre>Simple_Imputer(categorical_strategy='most frequent',\n",
       "               fill_value_categorical=None, fill_value_numerical=None,\n",
       "               numeric_strategy='mean', target_variable=None)</pre></div></div></div><div class=\"sk-item\"><div class=\"sk-estimator sk-toggleable\"><input class=\"sk-toggleable__control sk-hidden--visually\" id=\"fd49a1b3-4319-453d-8b69-fb445b6b970a\" type=\"checkbox\" ><label class=\"sk-toggleable__label\" for=\"fd49a1b3-4319-453d-8b69-fb445b6b970a\">New_Catagorical_Levels_in_TestData</label><div class=\"sk-toggleable__content\"><pre>New_Catagorical_Levels_in_TestData(replacement_strategy='least frequent',\n",
       "                                   target='UNSUPERVISED_DUMMY_TARGET')</pre></div></div></div><div class=\"sk-item\"><div class=\"sk-estimator sk-toggleable\"><input class=\"sk-toggleable__control sk-hidden--visually\" id=\"ae7af9f7-8a66-4a65-beac-b75f114d5df8\" type=\"checkbox\" ><label class=\"sk-toggleable__label\" for=\"ae7af9f7-8a66-4a65-beac-b75f114d5df8\">passthrough</label><div class=\"sk-toggleable__content\"><pre>passthrough</pre></div></div></div><div class=\"sk-item\"><div class=\"sk-estimator sk-toggleable\"><input class=\"sk-toggleable__control sk-hidden--visually\" id=\"b72ccf17-8bf9-4358-8286-a3dad755856e\" type=\"checkbox\" ><label class=\"sk-toggleable__label\" for=\"b72ccf17-8bf9-4358-8286-a3dad755856e\">passthrough</label><div class=\"sk-toggleable__content\"><pre>passthrough</pre></div></div></div><div class=\"sk-item\"><div class=\"sk-estimator sk-toggleable\"><input class=\"sk-toggleable__control sk-hidden--visually\" id=\"a3aeccd5-c989-4413-a309-6c015f7a3ba2\" type=\"checkbox\" ><label class=\"sk-toggleable__label\" for=\"a3aeccd5-c989-4413-a309-6c015f7a3ba2\">passthrough</label><div class=\"sk-toggleable__content\"><pre>passthrough</pre></div></div></div><div class=\"sk-item\"><div class=\"sk-estimator sk-toggleable\"><input class=\"sk-toggleable__control sk-hidden--visually\" id=\"14166502-bdcb-4033-b9c5-9ed6026cc931\" type=\"checkbox\" ><label class=\"sk-toggleable__label\" for=\"14166502-bdcb-4033-b9c5-9ed6026cc931\">passthrough</label><div class=\"sk-toggleable__content\"><pre>passthrough</pre></div></div></div><div class=\"sk-item\"><div class=\"sk-estimator sk-toggleable\"><input class=\"sk-toggleable__control sk-hidden--visually\" id=\"0995532b-1ea7-4735-a259-cc9816c2f4f6\" type=\"checkbox\" ><label class=\"sk-toggleable__label\" for=\"0995532b-1ea7-4735-a259-cc9816c2f4f6\">New_Catagorical_Levels_in_TestData</label><div class=\"sk-toggleable__content\"><pre>New_Catagorical_Levels_in_TestData(replacement_strategy='least frequent',\n",
       "                                   target='UNSUPERVISED_DUMMY_TARGET')</pre></div></div></div><div class=\"sk-item\"><div class=\"sk-estimator sk-toggleable\"><input class=\"sk-toggleable__control sk-hidden--visually\" id=\"1c967eb9-dafa-46f4-bff2-adbc5bd88822\" type=\"checkbox\" ><label class=\"sk-toggleable__label\" for=\"1c967eb9-dafa-46f4-bff2-adbc5bd88822\">Make_Time_Features</label><div class=\"sk-toggleable__content\"><pre>Make_Time_Features(list_of_features=None,\n",
       "                   time_feature=Index([], dtype='object'))</pre></div></div></div><div class=\"sk-item\"><div class=\"sk-estimator sk-toggleable\"><input class=\"sk-toggleable__control sk-hidden--visually\" id=\"e0400cca-317a-4490-9e18-c64ef48330c7\" type=\"checkbox\" ><label class=\"sk-toggleable__label\" for=\"e0400cca-317a-4490-9e18-c64ef48330c7\">passthrough</label><div class=\"sk-toggleable__content\"><pre>passthrough</pre></div></div></div><div class=\"sk-item\"><div class=\"sk-estimator sk-toggleable\"><input class=\"sk-toggleable__control sk-hidden--visually\" id=\"bda16033-2fc5-4377-8729-7bea70765bd4\" type=\"checkbox\" ><label class=\"sk-toggleable__label\" for=\"bda16033-2fc5-4377-8729-7bea70765bd4\">passthrough</label><div class=\"sk-toggleable__content\"><pre>passthrough</pre></div></div></div><div class=\"sk-item\"><div class=\"sk-estimator sk-toggleable\"><input class=\"sk-toggleable__control sk-hidden--visually\" id=\"107ecd16-a9ed-440c-94c4-41c547689a63\" type=\"checkbox\" ><label class=\"sk-toggleable__label\" for=\"107ecd16-a9ed-440c-94c4-41c547689a63\">passthrough</label><div class=\"sk-toggleable__content\"><pre>passthrough</pre></div></div></div><div class=\"sk-item\"><div class=\"sk-estimator sk-toggleable\"><input class=\"sk-toggleable__control sk-hidden--visually\" id=\"e34b74eb-dbf5-4927-b797-5bccea7aa4c9\" type=\"checkbox\" ><label class=\"sk-toggleable__label\" for=\"e34b74eb-dbf5-4927-b797-5bccea7aa4c9\">passthrough</label><div class=\"sk-toggleable__content\"><pre>passthrough</pre></div></div></div><div class=\"sk-item\"><div class=\"sk-estimator sk-toggleable\"><input class=\"sk-toggleable__control sk-hidden--visually\" id=\"9a914c53-e848-4401-87af-ef8930e08e7c\" type=\"checkbox\" ><label class=\"sk-toggleable__label\" for=\"9a914c53-e848-4401-87af-ef8930e08e7c\">passthrough</label><div class=\"sk-toggleable__content\"><pre>passthrough</pre></div></div></div><div class=\"sk-item\"><div class=\"sk-estimator sk-toggleable\"><input class=\"sk-toggleable__control sk-hidden--visually\" id=\"19649b69-a021-44d8-99d9-289ef0068a6e\" type=\"checkbox\" ><label class=\"sk-toggleable__label\" for=\"19649b69-a021-44d8-99d9-289ef0068a6e\">passthrough</label><div class=\"sk-toggleable__content\"><pre>passthrough</pre></div></div></div><div class=\"sk-item\"><div class=\"sk-estimator sk-toggleable\"><input class=\"sk-toggleable__control sk-hidden--visually\" id=\"8564e486-c9fa-4eba-807a-87c7a55e8b1b\" type=\"checkbox\" ><label class=\"sk-toggleable__label\" for=\"8564e486-c9fa-4eba-807a-87c7a55e8b1b\">passthrough</label><div class=\"sk-toggleable__content\"><pre>passthrough</pre></div></div></div><div class=\"sk-item\"><div class=\"sk-estimator sk-toggleable\"><input class=\"sk-toggleable__control sk-hidden--visually\" id=\"c9330c99-a685-4b48-89d0-eb93e81ef65d\" type=\"checkbox\" ><label class=\"sk-toggleable__label\" for=\"c9330c99-a685-4b48-89d0-eb93e81ef65d\">Dummify</label><div class=\"sk-toggleable__content\"><pre>Dummify(target='UNSUPERVISED_DUMMY_TARGET')</pre></div></div></div><div class=\"sk-item\"><div class=\"sk-estimator sk-toggleable\"><input class=\"sk-toggleable__control sk-hidden--visually\" id=\"d60bd393-fbf4-430d-8a05-f7e8460b12f0\" type=\"checkbox\" ><label class=\"sk-toggleable__label\" for=\"d60bd393-fbf4-430d-8a05-f7e8460b12f0\">passthrough</label><div class=\"sk-toggleable__content\"><pre>passthrough</pre></div></div></div><div class=\"sk-item\"><div class=\"sk-estimator sk-toggleable\"><input class=\"sk-toggleable__control sk-hidden--visually\" id=\"bc35c569-ae87-4b1c-b970-4181190796d4\" type=\"checkbox\" ><label class=\"sk-toggleable__label\" for=\"bc35c569-ae87-4b1c-b970-4181190796d4\">Clean_Colum_Names</label><div class=\"sk-toggleable__content\"><pre>Clean_Colum_Names()</pre></div></div></div><div class=\"sk-item\"><div class=\"sk-estimator sk-toggleable\"><input class=\"sk-toggleable__control sk-hidden--visually\" id=\"7d6af99c-2232-45a4-8665-89cff6b70d58\" type=\"checkbox\" ><label class=\"sk-toggleable__label\" for=\"7d6af99c-2232-45a4-8665-89cff6b70d58\">passthrough</label><div class=\"sk-toggleable__content\"><pre>passthrough</pre></div></div></div><div class=\"sk-item\"><div class=\"sk-estimator sk-toggleable\"><input class=\"sk-toggleable__control sk-hidden--visually\" id=\"096674cd-58cb-4c2f-9c90-83fb2b18d1ea\" type=\"checkbox\" ><label class=\"sk-toggleable__label\" for=\"096674cd-58cb-4c2f-9c90-83fb2b18d1ea\">passthrough</label><div class=\"sk-toggleable__content\"><pre>passthrough</pre></div></div></div><div class=\"sk-item\"><div class=\"sk-estimator sk-toggleable\"><input class=\"sk-toggleable__control sk-hidden--visually\" id=\"e42e4a63-d1e3-4f3a-99f3-2e2a89a0d231\" type=\"checkbox\" ><label class=\"sk-toggleable__label\" for=\"e42e4a63-d1e3-4f3a-99f3-2e2a89a0d231\">passthrough</label><div class=\"sk-toggleable__content\"><pre>passthrough</pre></div></div></div><div class=\"sk-item\"><div class=\"sk-estimator sk-toggleable\"><input class=\"sk-toggleable__control sk-hidden--visually\" id=\"e4b378a6-6e64-4acc-8b58-581e144f325a\" type=\"checkbox\" ><label class=\"sk-toggleable__label\" for=\"e4b378a6-6e64-4acc-8b58-581e144f325a\">passthrough</label><div class=\"sk-toggleable__content\"><pre>passthrough</pre></div></div></div><div class=\"sk-item\"><div class=\"sk-estimator sk-toggleable\"><input class=\"sk-toggleable__control sk-hidden--visually\" id=\"ab49981e-7600-408c-9f56-3a8ddc7d40fc\" type=\"checkbox\" ><label class=\"sk-toggleable__label\" for=\"ab49981e-7600-408c-9f56-3a8ddc7d40fc\">IForest</label><div class=\"sk-toggleable__content\"><pre>IForest(behaviour='new', bootstrap=False, contamination=0.05,\n",
       "    max_features=1.0, max_samples='auto', n_estimators=200, n_jobs=-1,\n",
       "    random_state=123, verbose=0)</pre></div></div></div></div></div></div></div>"
      ],
      "text/plain": [
       "Pipeline(memory=None,\n",
       "         steps=[('dtypes',\n",
       "                 DataTypes_Auto_infer(categorical_features=[],\n",
       "                                      display_types=True, features_todrop=[],\n",
       "                                      id_columns=[], ml_usecase='regression',\n",
       "                                      numerical_features=[],\n",
       "                                      target='UNSUPERVISED_DUMMY_TARGET',\n",
       "                                      time_features=[])),\n",
       "                ('imputer',\n",
       "                 Simple_Imputer(categorical_strategy='most frequent',\n",
       "                                fill_value_categorical=None,\n",
       "                                fill_value_numerical=None...\n",
       "                ('fix_perfect', 'passthrough'),\n",
       "                ('clean_names', Clean_Colum_Names()),\n",
       "                ('feature_select', 'passthrough'), ('fix_multi', 'passthrough'),\n",
       "                ('dfs', 'passthrough'), ('pca', 'passthrough'),\n",
       "                ['trained_model',\n",
       "                 IForest(behaviour='new', bootstrap=False, contamination=0.05,\n",
       "    max_features=1.0, max_samples='auto', n_estimators=200, n_jobs=-1,\n",
       "    random_state=123, verbose=0)]],\n",
       "         verbose=False)"
      ]
     },
     "execution_count": 44,
     "metadata": {},
     "output_type": "execute_result"
    }
   ],
   "source": [
    "l"
   ]
  },
  {
   "cell_type": "code",
   "execution_count": 45,
   "metadata": {
    "collapsed": true
   },
   "outputs": [
    {
     "ename": "ImportError",
     "evalue": "boto3 library not found. pip install boto3 to use deploy_model function.",
     "output_type": "error",
     "traceback": [
      "\u001b[1;31m---------------------------------------------------------------------------\u001b[0m",
      "\u001b[1;31mModuleNotFoundError\u001b[0m                       Traceback (most recent call last)",
      "\u001b[1;32md:\\anacondafiles\\envs\\deeplearning\\lib\\site-packages\\pycaret\\internal\\persistence.py\u001b[0m in \u001b[0;36mdeploy_model\u001b[1;34m(model, model_name, authentication, platform, prep_pipe_)\u001b[0m\n\u001b[0;32m    141\u001b[0m         \u001b[1;32mtry\u001b[0m\u001b[1;33m:\u001b[0m\u001b[1;33m\u001b[0m\u001b[1;33m\u001b[0m\u001b[0m\n\u001b[1;32m--> 142\u001b[1;33m             \u001b[1;32mimport\u001b[0m \u001b[0mboto3\u001b[0m\u001b[1;33m\u001b[0m\u001b[1;33m\u001b[0m\u001b[0m\n\u001b[0m\u001b[0;32m    143\u001b[0m         \u001b[1;32mexcept\u001b[0m \u001b[0mModuleNotFoundError\u001b[0m\u001b[1;33m:\u001b[0m\u001b[1;33m\u001b[0m\u001b[1;33m\u001b[0m\u001b[0m\n",
      "\u001b[1;31mModuleNotFoundError\u001b[0m: No module named 'boto3'",
      "\nDuring handling of the above exception, another exception occurred:\n",
      "\u001b[1;31mImportError\u001b[0m                               Traceback (most recent call last)",
      "\u001b[1;32m<ipython-input-45-3c1ab5821f29>\u001b[0m in \u001b[0;36m<module>\u001b[1;34m\u001b[0m\n\u001b[0;32m      1\u001b[0m deploy_model(iforest, 'iforest-abc', platform='aws', \n\u001b[1;32m----> 2\u001b[1;33m             authentication = {'bucket' : 'pycaret-test'})\n\u001b[0m",
      "\u001b[1;32md:\\anacondafiles\\envs\\deeplearning\\lib\\site-packages\\pycaret\\anomaly.py\u001b[0m in \u001b[0;36mdeploy_model\u001b[1;34m(model, model_name, authentication, platform)\u001b[0m\n\u001b[0;32m    959\u001b[0m         \u001b[0mmodel_name\u001b[0m\u001b[1;33m=\u001b[0m\u001b[0mmodel_name\u001b[0m\u001b[1;33m,\u001b[0m\u001b[1;33m\u001b[0m\u001b[1;33m\u001b[0m\u001b[0m\n\u001b[0;32m    960\u001b[0m         \u001b[0mauthentication\u001b[0m\u001b[1;33m=\u001b[0m\u001b[0mauthentication\u001b[0m\u001b[1;33m,\u001b[0m\u001b[1;33m\u001b[0m\u001b[1;33m\u001b[0m\u001b[0m\n\u001b[1;32m--> 961\u001b[1;33m         \u001b[0mplatform\u001b[0m\u001b[1;33m=\u001b[0m\u001b[0mplatform\u001b[0m\u001b[1;33m,\u001b[0m\u001b[1;33m\u001b[0m\u001b[1;33m\u001b[0m\u001b[0m\n\u001b[0m\u001b[0;32m    962\u001b[0m     )\n\u001b[0;32m    963\u001b[0m \u001b[1;33m\u001b[0m\u001b[0m\n",
      "\u001b[1;32md:\\anacondafiles\\envs\\deeplearning\\lib\\site-packages\\pycaret\\internal\\tabular.py\u001b[0m in \u001b[0;36mdeploy_model\u001b[1;34m(model, model_name, authentication, platform)\u001b[0m\n\u001b[0;32m   8875\u001b[0m \u001b[1;33m\u001b[0m\u001b[0m\n\u001b[0;32m   8876\u001b[0m     return pycaret.internal.persistence.deploy_model(\n\u001b[1;32m-> 8877\u001b[1;33m         \u001b[0mmodel\u001b[0m\u001b[1;33m,\u001b[0m \u001b[0mmodel_name\u001b[0m\u001b[1;33m,\u001b[0m \u001b[0mauthentication\u001b[0m\u001b[1;33m,\u001b[0m \u001b[0mplatform\u001b[0m\u001b[1;33m,\u001b[0m \u001b[0mprep_pipe\u001b[0m\u001b[1;33m\u001b[0m\u001b[1;33m\u001b[0m\u001b[0m\n\u001b[0m\u001b[0;32m   8878\u001b[0m     )\n\u001b[0;32m   8879\u001b[0m \u001b[1;33m\u001b[0m\u001b[0m\n",
      "\u001b[1;32md:\\anacondafiles\\envs\\deeplearning\\lib\\site-packages\\pycaret\\internal\\persistence.py\u001b[0m in \u001b[0;36mdeploy_model\u001b[1;34m(model, model_name, authentication, platform, prep_pipe_)\u001b[0m\n\u001b[0;32m    146\u001b[0m             )\n\u001b[0;32m    147\u001b[0m             raise ImportError(\n\u001b[1;32m--> 148\u001b[1;33m                 \u001b[1;34m\"boto3 library not found. pip install boto3 to use deploy_model function.\"\u001b[0m\u001b[1;33m\u001b[0m\u001b[1;33m\u001b[0m\u001b[0m\n\u001b[0m\u001b[0;32m    149\u001b[0m             )\n\u001b[0;32m    150\u001b[0m \u001b[1;33m\u001b[0m\u001b[0m\n",
      "\u001b[1;31mImportError\u001b[0m: boto3 library not found. pip install boto3 to use deploy_model function."
     ]
    }
   ],
   "source": [
    "deploy_model(iforest, 'iforest-abc', platform='aws', \n",
    "            authentication = {'bucket' : 'pycaret-test'})"
   ]
  },
  {
   "cell_type": "code",
   "execution_count": 46,
   "metadata": {},
   "outputs": [
    {
     "data": {
      "text/html": [
       "<div>\n",
       "<style scoped>\n",
       "    .dataframe tbody tr th:only-of-type {\n",
       "        vertical-align: middle;\n",
       "    }\n",
       "\n",
       "    .dataframe tbody tr th {\n",
       "        vertical-align: top;\n",
       "    }\n",
       "\n",
       "    .dataframe thead th {\n",
       "        text-align: right;\n",
       "    }\n",
       "</style>\n",
       "<table border=\"1\" class=\"dataframe\">\n",
       "  <thead>\n",
       "    <tr style=\"text-align: right;\">\n",
       "      <th></th>\n",
       "      <th>Col1</th>\n",
       "      <th>Col2</th>\n",
       "      <th>Col3</th>\n",
       "      <th>Col4</th>\n",
       "      <th>Col5</th>\n",
       "      <th>Col6</th>\n",
       "      <th>Col7</th>\n",
       "      <th>Col8</th>\n",
       "      <th>Col9</th>\n",
       "      <th>Col10</th>\n",
       "      <th>Anomaly</th>\n",
       "      <th>Anomaly_Score</th>\n",
       "    </tr>\n",
       "  </thead>\n",
       "  <tbody>\n",
       "    <tr>\n",
       "      <th>0</th>\n",
       "      <td>0.263995</td>\n",
       "      <td>0.764929</td>\n",
       "      <td>0.138424</td>\n",
       "      <td>0.935242</td>\n",
       "      <td>0.605867</td>\n",
       "      <td>0.518790</td>\n",
       "      <td>0.912225</td>\n",
       "      <td>0.608234</td>\n",
       "      <td>0.723782</td>\n",
       "      <td>0.733591</td>\n",
       "      <td>0</td>\n",
       "      <td>-0.035865</td>\n",
       "    </tr>\n",
       "    <tr>\n",
       "      <th>1</th>\n",
       "      <td>0.546092</td>\n",
       "      <td>0.653975</td>\n",
       "      <td>0.065575</td>\n",
       "      <td>0.227772</td>\n",
       "      <td>0.845269</td>\n",
       "      <td>0.837066</td>\n",
       "      <td>0.272379</td>\n",
       "      <td>0.331679</td>\n",
       "      <td>0.429297</td>\n",
       "      <td>0.367422</td>\n",
       "      <td>0</td>\n",
       "      <td>-0.084927</td>\n",
       "    </tr>\n",
       "    <tr>\n",
       "      <th>2</th>\n",
       "      <td>0.336714</td>\n",
       "      <td>0.538842</td>\n",
       "      <td>0.192801</td>\n",
       "      <td>0.553563</td>\n",
       "      <td>0.074515</td>\n",
       "      <td>0.332993</td>\n",
       "      <td>0.365792</td>\n",
       "      <td>0.861309</td>\n",
       "      <td>0.899017</td>\n",
       "      <td>0.088600</td>\n",
       "      <td>1</td>\n",
       "      <td>0.025356</td>\n",
       "    </tr>\n",
       "    <tr>\n",
       "      <th>3</th>\n",
       "      <td>0.092108</td>\n",
       "      <td>0.995017</td>\n",
       "      <td>0.014465</td>\n",
       "      <td>0.176371</td>\n",
       "      <td>0.241530</td>\n",
       "      <td>0.514724</td>\n",
       "      <td>0.562208</td>\n",
       "      <td>0.158963</td>\n",
       "      <td>0.073715</td>\n",
       "      <td>0.208463</td>\n",
       "      <td>1</td>\n",
       "      <td>0.042415</td>\n",
       "    </tr>\n",
       "    <tr>\n",
       "      <th>4</th>\n",
       "      <td>0.325261</td>\n",
       "      <td>0.805968</td>\n",
       "      <td>0.957033</td>\n",
       "      <td>0.331665</td>\n",
       "      <td>0.307923</td>\n",
       "      <td>0.355315</td>\n",
       "      <td>0.501899</td>\n",
       "      <td>0.558449</td>\n",
       "      <td>0.885169</td>\n",
       "      <td>0.182754</td>\n",
       "      <td>0</td>\n",
       "      <td>-0.023408</td>\n",
       "    </tr>\n",
       "  </tbody>\n",
       "</table>\n",
       "</div>"
      ],
      "text/plain": [
       "       Col1      Col2      Col3      Col4      Col5  ...      Col8      Col9     Col10  Anomaly  Anomaly_Score\n",
       "0  0.263995  0.764929  0.138424  0.935242  0.605867  ...  0.608234  0.723782  0.733591        0      -0.035865\n",
       "1  0.546092  0.653975  0.065575  0.227772  0.845269  ...  0.331679  0.429297  0.367422        0      -0.084927\n",
       "2  0.336714  0.538842  0.192801  0.553563  0.074515  ...  0.861309  0.899017  0.088600        1       0.025356\n",
       "3  0.092108  0.995017  0.014465  0.176371  0.241530  ...  0.158963  0.073715  0.208463        1       0.042415\n",
       "4  0.325261  0.805968  0.957033  0.331665  0.307923  ...  0.558449  0.885169  0.182754        0      -0.023408\n",
       "\n",
       "[5 rows x 12 columns]"
      ]
     },
     "execution_count": 46,
     "metadata": {},
     "output_type": "execute_result"
    }
   ],
   "source": [
    "iforest = create_model('iforest')\n",
    "results = assign_model(iforest)\n",
    "results.head()"
   ]
  },
  {
   "cell_type": "code",
   "execution_count": 47,
   "metadata": {},
   "outputs": [
    {
     "data": {
      "text/plain": [
       "0    950\n",
       "1     50\n",
       "Name: Anomaly, dtype: int64"
      ]
     },
     "execution_count": 47,
     "metadata": {},
     "output_type": "execute_result"
    }
   ],
   "source": [
    "results['Anomaly'].value_counts()"
   ]
  },
  {
   "cell_type": "markdown",
   "metadata": {},
   "source": [
    "### Changing the fraction to 0.01\n",
    "\n",
    "    This fraction decides the no. of anomalies to be detected"
   ]
  },
  {
   "cell_type": "code",
   "execution_count": 48,
   "metadata": {},
   "outputs": [
    {
     "data": {
      "text/html": [
       "<div>\n",
       "<style scoped>\n",
       "    .dataframe tbody tr th:only-of-type {\n",
       "        vertical-align: middle;\n",
       "    }\n",
       "\n",
       "    .dataframe tbody tr th {\n",
       "        vertical-align: top;\n",
       "    }\n",
       "\n",
       "    .dataframe thead th {\n",
       "        text-align: right;\n",
       "    }\n",
       "</style>\n",
       "<table border=\"1\" class=\"dataframe\">\n",
       "  <thead>\n",
       "    <tr style=\"text-align: right;\">\n",
       "      <th></th>\n",
       "      <th>Col1</th>\n",
       "      <th>Col2</th>\n",
       "      <th>Col3</th>\n",
       "      <th>Col4</th>\n",
       "      <th>Col5</th>\n",
       "      <th>Col6</th>\n",
       "      <th>Col7</th>\n",
       "      <th>Col8</th>\n",
       "      <th>Col9</th>\n",
       "      <th>Col10</th>\n",
       "      <th>Anomaly</th>\n",
       "      <th>Anomaly_Score</th>\n",
       "    </tr>\n",
       "  </thead>\n",
       "  <tbody>\n",
       "    <tr>\n",
       "      <th>0</th>\n",
       "      <td>0.263995</td>\n",
       "      <td>0.764929</td>\n",
       "      <td>0.138424</td>\n",
       "      <td>0.935242</td>\n",
       "      <td>0.605867</td>\n",
       "      <td>0.518790</td>\n",
       "      <td>0.912225</td>\n",
       "      <td>0.608234</td>\n",
       "      <td>0.723782</td>\n",
       "      <td>0.733591</td>\n",
       "      <td>0</td>\n",
       "      <td>-0.074866</td>\n",
       "    </tr>\n",
       "    <tr>\n",
       "      <th>1</th>\n",
       "      <td>0.546092</td>\n",
       "      <td>0.653975</td>\n",
       "      <td>0.065575</td>\n",
       "      <td>0.227772</td>\n",
       "      <td>0.845269</td>\n",
       "      <td>0.837066</td>\n",
       "      <td>0.272379</td>\n",
       "      <td>0.331679</td>\n",
       "      <td>0.429297</td>\n",
       "      <td>0.367422</td>\n",
       "      <td>0</td>\n",
       "      <td>-0.123928</td>\n",
       "    </tr>\n",
       "    <tr>\n",
       "      <th>2</th>\n",
       "      <td>0.336714</td>\n",
       "      <td>0.538842</td>\n",
       "      <td>0.192801</td>\n",
       "      <td>0.553563</td>\n",
       "      <td>0.074515</td>\n",
       "      <td>0.332993</td>\n",
       "      <td>0.365792</td>\n",
       "      <td>0.861309</td>\n",
       "      <td>0.899017</td>\n",
       "      <td>0.088600</td>\n",
       "      <td>0</td>\n",
       "      <td>-0.013645</td>\n",
       "    </tr>\n",
       "    <tr>\n",
       "      <th>3</th>\n",
       "      <td>0.092108</td>\n",
       "      <td>0.995017</td>\n",
       "      <td>0.014465</td>\n",
       "      <td>0.176371</td>\n",
       "      <td>0.241530</td>\n",
       "      <td>0.514724</td>\n",
       "      <td>0.562208</td>\n",
       "      <td>0.158963</td>\n",
       "      <td>0.073715</td>\n",
       "      <td>0.208463</td>\n",
       "      <td>1</td>\n",
       "      <td>0.003414</td>\n",
       "    </tr>\n",
       "    <tr>\n",
       "      <th>4</th>\n",
       "      <td>0.325261</td>\n",
       "      <td>0.805968</td>\n",
       "      <td>0.957033</td>\n",
       "      <td>0.331665</td>\n",
       "      <td>0.307923</td>\n",
       "      <td>0.355315</td>\n",
       "      <td>0.501899</td>\n",
       "      <td>0.558449</td>\n",
       "      <td>0.885169</td>\n",
       "      <td>0.182754</td>\n",
       "      <td>0</td>\n",
       "      <td>-0.062409</td>\n",
       "    </tr>\n",
       "  </tbody>\n",
       "</table>\n",
       "</div>"
      ],
      "text/plain": [
       "       Col1      Col2      Col3      Col4      Col5  ...      Col8      Col9     Col10  Anomaly  Anomaly_Score\n",
       "0  0.263995  0.764929  0.138424  0.935242  0.605867  ...  0.608234  0.723782  0.733591        0      -0.074866\n",
       "1  0.546092  0.653975  0.065575  0.227772  0.845269  ...  0.331679  0.429297  0.367422        0      -0.123928\n",
       "2  0.336714  0.538842  0.192801  0.553563  0.074515  ...  0.861309  0.899017  0.088600        0      -0.013645\n",
       "3  0.092108  0.995017  0.014465  0.176371  0.241530  ...  0.158963  0.073715  0.208463        1       0.003414\n",
       "4  0.325261  0.805968  0.957033  0.331665  0.307923  ...  0.558449  0.885169  0.182754        0      -0.062409\n",
       "\n",
       "[5 rows x 12 columns]"
      ]
     },
     "execution_count": 48,
     "metadata": {},
     "output_type": "execute_result"
    }
   ],
   "source": [
    "iforest = create_model('iforest', fraction=0.01)\n",
    "results = assign_model(iforest)\n",
    "results.head()"
   ]
  },
  {
   "cell_type": "code",
   "execution_count": 49,
   "metadata": {},
   "outputs": [
    {
     "data": {
      "text/plain": [
       "0    990\n",
       "1     10\n",
       "Name: Anomaly, dtype: int64"
      ]
     },
     "execution_count": 49,
     "metadata": {},
     "output_type": "execute_result"
    }
   ],
   "source": [
    "results['Anomaly'].value_counts()"
   ]
  },
  {
   "cell_type": "code",
   "execution_count": 50,
   "metadata": {},
   "outputs": [
    {
     "data": {
      "text/plain": [
       "<AxesSubplot:>"
      ]
     },
     "execution_count": 50,
     "metadata": {},
     "output_type": "execute_result"
    },
    {
     "data": {
      "image/png": "[encoded data removed]",
      "text/plain": [
       "<Figure size 720x576 with 1 Axes>"
      ]
     },
     "metadata": {},
     "output_type": "display_data"
    }
   ],
   "source": [
    "results['Anomaly_Score'].hist(bins=100, figsize=(10,8))"
   ]
  },
  {
   "cell_type": "markdown",
   "metadata": {},
   "source": [
    "# Dataset-2"
   ]
  },
  {
   "cell_type": "code",
   "execution_count": null,
   "metadata": {},
   "outputs": [],
   "source": []
  },
  {
   "cell_type": "code",
   "execution_count": null,
   "metadata": {},
   "outputs": [],
   "source": []
  },
  {
   "cell_type": "code",
   "execution_count": null,
   "metadata": {},
   "outputs": [],
   "source": []
  },
  {
   "cell_type": "code",
   "execution_count": null,
   "metadata": {},
   "outputs": [],
   "source": []
  },
  {
   "cell_type": "code",
   "execution_count": null,
   "metadata": {},
   "outputs": [],
   "source": []
  },
  {
   "cell_type": "code",
   "execution_count": null,
   "metadata": {},
   "outputs": [],
   "source": []
  },
  {
   "cell_type": "code",
   "execution_count": null,
   "metadata": {},
   "outputs": [],
   "source": []
  },
  {
   "cell_type": "code",
   "execution_count": null,
   "metadata": {},
   "outputs": [],
   "source": []
  },
  {
   "cell_type": "code",
   "execution_count": null,
   "metadata": {},
   "outputs": [],
   "source": []
  },
  {
   "cell_type": "code",
   "execution_count": null,
   "metadata": {},
   "outputs": [],
   "source": []
  },
  {
   "cell_type": "code",
   "execution_count": null,
   "metadata": {},
   "outputs": [],
   "source": []
  },
  {
   "cell_type": "code",
   "execution_count": null,
   "metadata": {},
   "outputs": [],
   "source": []
  }
 ],
 "metadata": {
  "kernelspec": {
   "display_name": "Python 3",
   "language": "python",
   "name": "python3"
  },
  "language_info": {
   "codemirror_mode": {
    "name": "ipython",
    "version": 3
   },
   "file_extension": ".py",
   "mimetype": "text/x-python",
   "name": "python",
   "nbconvert_exporter": "python",
   "pygments_lexer": "ipython3",
   "version": "3.7.9"
  }
 },
 "nbformat": 4,
 "nbformat_minor": 4
}
