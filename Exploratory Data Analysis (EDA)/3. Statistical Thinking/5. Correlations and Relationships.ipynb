{
 "cells": [
  {
   "cell_type": "markdown",
   "metadata": {},
   "source": [
    "# Statistics alone cannot conclude anything.  All the tests we do are based on relative likelihood!!"
   ]
  },
  {
   "cell_type": "code",
   "execution_count": 1,
   "metadata": {},
   "outputs": [],
   "source": [
    "import numpy as np\n",
    "import pandas as pd\n",
    "import seaborn as sns\n",
    "import matplotlib.pyplot as plt\n",
    "%matplotlib inline"
   ]
  },
  {
   "cell_type": "code",
   "execution_count": 2,
   "metadata": {},
   "outputs": [
    {
     "data": {
      "text/html": [
       "<div>\n",
       "<style scoped>\n",
       "    .dataframe tbody tr th:only-of-type {\n",
       "        vertical-align: middle;\n",
       "    }\n",
       "\n",
       "    .dataframe tbody tr th {\n",
       "        vertical-align: top;\n",
       "    }\n",
       "\n",
       "    .dataframe thead th {\n",
       "        text-align: right;\n",
       "    }\n",
       "</style>\n",
       "<table border=\"1\" class=\"dataframe\">\n",
       "  <thead>\n",
       "    <tr style=\"text-align: right;\">\n",
       "      <th></th>\n",
       "      <th>fico_score</th>\n",
       "      <th>loan_total</th>\n",
       "      <th>default_total</th>\n",
       "      <th>dti</th>\n",
       "      <th>avg_loan_amnt</th>\n",
       "      <th>median_annual_inc</th>\n",
       "      <th>avg_annual_inc</th>\n",
       "      <th>int_rate</th>\n",
       "      <th>default_rate</th>\n",
       "      <th>actual_default_rate</th>\n",
       "    </tr>\n",
       "  </thead>\n",
       "  <tbody>\n",
       "    <tr>\n",
       "      <th>0</th>\n",
       "      <td>500</td>\n",
       "      <td>3385</td>\n",
       "      <td>2997</td>\n",
       "      <td>19.728762</td>\n",
       "      <td>13692.311669</td>\n",
       "      <td>63511.205814</td>\n",
       "      <td>63511.205814</td>\n",
       "      <td>15.341982</td>\n",
       "      <td>2.472589</td>\n",
       "      <td>0.524415</td>\n",
       "    </tr>\n",
       "    <tr>\n",
       "      <th>1</th>\n",
       "      <td>510</td>\n",
       "      <td>7745</td>\n",
       "      <td>6767</td>\n",
       "      <td>19.749380</td>\n",
       "      <td>13861.323434</td>\n",
       "      <td>65471.300058</td>\n",
       "      <td>65471.300058</td>\n",
       "      <td>15.439957</td>\n",
       "      <td>5.582919</td>\n",
       "      <td>1.184089</td>\n",
       "    </tr>\n",
       "    <tr>\n",
       "      <th>2</th>\n",
       "      <td>520</td>\n",
       "      <td>9168</td>\n",
       "      <td>7813</td>\n",
       "      <td>20.052651</td>\n",
       "      <td>14199.157395</td>\n",
       "      <td>68391.296443</td>\n",
       "      <td>68391.296443</td>\n",
       "      <td>15.331814</td>\n",
       "      <td>6.445891</td>\n",
       "      <td>1.367118</td>\n",
       "    </tr>\n",
       "    <tr>\n",
       "      <th>3</th>\n",
       "      <td>530</td>\n",
       "      <td>10323</td>\n",
       "      <td>8672</td>\n",
       "      <td>20.223831</td>\n",
       "      <td>14501.266589</td>\n",
       "      <td>69136.251070</td>\n",
       "      <td>69136.251070</td>\n",
       "      <td>15.457357</td>\n",
       "      <td>7.154584</td>\n",
       "      <td>1.517426</td>\n",
       "    </tr>\n",
       "    <tr>\n",
       "      <th>4</th>\n",
       "      <td>540</td>\n",
       "      <td>11562</td>\n",
       "      <td>9475</td>\n",
       "      <td>20.730541</td>\n",
       "      <td>14782.768985</td>\n",
       "      <td>70258.732958</td>\n",
       "      <td>70258.732958</td>\n",
       "      <td>15.273070</td>\n",
       "      <td>7.817076</td>\n",
       "      <td>1.657935</td>\n",
       "    </tr>\n",
       "  </tbody>\n",
       "</table>\n",
       "</div>"
      ],
      "text/plain": [
       "   fico_score  loan_total  default_total        dti  avg_loan_amnt  \\\n",
       "0         500        3385           2997  19.728762   13692.311669   \n",
       "1         510        7745           6767  19.749380   13861.323434   \n",
       "2         520        9168           7813  20.052651   14199.157395   \n",
       "3         530       10323           8672  20.223831   14501.266589   \n",
       "4         540       11562           9475  20.730541   14782.768985   \n",
       "\n",
       "   median_annual_inc  avg_annual_inc   int_rate  default_rate  \\\n",
       "0       63511.205814    63511.205814  15.341982      2.472589   \n",
       "1       65471.300058    65471.300058  15.439957      5.582919   \n",
       "2       68391.296443    68391.296443  15.331814      6.445891   \n",
       "3       69136.251070    69136.251070  15.457357      7.154584   \n",
       "4       70258.732958    70258.732958  15.273070      7.817076   \n",
       "\n",
       "   actual_default_rate  \n",
       "0             0.524415  \n",
       "1             1.184089  \n",
       "2             1.367118  \n",
       "3             1.517426  \n",
       "4             1.657935  "
      ]
     },
     "execution_count": 2,
     "metadata": {},
     "output_type": "execute_result"
    }
   ],
   "source": [
    "df = pd.read_csv('loan_analysis_summary.csv')\n",
    "df.head()"
   ]
  },
  {
   "cell_type": "code",
   "execution_count": 3,
   "metadata": {},
   "outputs": [
    {
     "data": {
      "text/plain": [
       "(36, 10)"
      ]
     },
     "execution_count": 3,
     "metadata": {},
     "output_type": "execute_result"
    }
   ],
   "source": [
    "df.shape"
   ]
  },
  {
   "cell_type": "code",
   "execution_count": 4,
   "metadata": {},
   "outputs": [
    {
     "data": {
      "text/html": [
       "<div>\n",
       "<style scoped>\n",
       "    .dataframe tbody tr th:only-of-type {\n",
       "        vertical-align: middle;\n",
       "    }\n",
       "\n",
       "    .dataframe tbody tr th {\n",
       "        vertical-align: top;\n",
       "    }\n",
       "\n",
       "    .dataframe thead th {\n",
       "        text-align: right;\n",
       "    }\n",
       "</style>\n",
       "<table border=\"1\" class=\"dataframe\">\n",
       "  <thead>\n",
       "    <tr style=\"text-align: right;\">\n",
       "      <th></th>\n",
       "      <th>fico_score</th>\n",
       "      <th>loan_total</th>\n",
       "      <th>default_total</th>\n",
       "      <th>dti</th>\n",
       "      <th>avg_loan_amnt</th>\n",
       "      <th>median_annual_inc</th>\n",
       "      <th>avg_annual_inc</th>\n",
       "      <th>int_rate</th>\n",
       "      <th>default_rate</th>\n",
       "      <th>actual_default_rate</th>\n",
       "    </tr>\n",
       "  </thead>\n",
       "  <tbody>\n",
       "    <tr>\n",
       "      <th>count</th>\n",
       "      <td>36.000000</td>\n",
       "      <td>36.000000</td>\n",
       "      <td>36.000000</td>\n",
       "      <td>36.000000</td>\n",
       "      <td>36.000000</td>\n",
       "      <td>36.000000</td>\n",
       "      <td>36.000000</td>\n",
       "      <td>36.000000</td>\n",
       "      <td>36.000000</td>\n",
       "      <td>36.000000</td>\n",
       "    </tr>\n",
       "    <tr>\n",
       "      <th>mean</th>\n",
       "      <td>675.000000</td>\n",
       "      <td>15874.833333</td>\n",
       "      <td>3366.916667</td>\n",
       "      <td>18.764635</td>\n",
       "      <td>15116.516044</td>\n",
       "      <td>77470.849713</td>\n",
       "      <td>77470.849713</td>\n",
       "      <td>12.551522</td>\n",
       "      <td>2.777778</td>\n",
       "      <td>0.589143</td>\n",
       "    </tr>\n",
       "    <tr>\n",
       "      <th>std</th>\n",
       "      <td>105.356538</td>\n",
       "      <td>11133.239822</td>\n",
       "      <td>3291.696127</td>\n",
       "      <td>1.666750</td>\n",
       "      <td>1700.517919</td>\n",
       "      <td>8200.208530</td>\n",
       "      <td>8200.208530</td>\n",
       "      <td>2.534705</td>\n",
       "      <td>2.715719</td>\n",
       "      <td>0.575981</td>\n",
       "    </tr>\n",
       "    <tr>\n",
       "      <th>min</th>\n",
       "      <td>500.000000</td>\n",
       "      <td>114.000000</td>\n",
       "      <td>3.000000</td>\n",
       "      <td>14.755000</td>\n",
       "      <td>12968.018084</td>\n",
       "      <td>63511.205814</td>\n",
       "      <td>63511.205814</td>\n",
       "      <td>7.646332</td>\n",
       "      <td>0.002475</td>\n",
       "      <td>0.000525</td>\n",
       "    </tr>\n",
       "    <tr>\n",
       "      <th>25%</th>\n",
       "      <td>587.500000</td>\n",
       "      <td>9762.500000</td>\n",
       "      <td>204.500000</td>\n",
       "      <td>17.655941</td>\n",
       "      <td>14036.071838</td>\n",
       "      <td>72514.533834</td>\n",
       "      <td>72514.533834</td>\n",
       "      <td>10.490431</td>\n",
       "      <td>0.168717</td>\n",
       "      <td>0.035783</td>\n",
       "    </tr>\n",
       "    <tr>\n",
       "      <th>50%</th>\n",
       "      <td>675.000000</td>\n",
       "      <td>11754.500000</td>\n",
       "      <td>2719.500000</td>\n",
       "      <td>19.032935</td>\n",
       "      <td>14874.794250</td>\n",
       "      <td>74945.252098</td>\n",
       "      <td>74945.252098</td>\n",
       "      <td>13.585040</td>\n",
       "      <td>2.243645</td>\n",
       "      <td>0.475858</td>\n",
       "    </tr>\n",
       "    <tr>\n",
       "      <th>75%</th>\n",
       "      <td>762.500000</td>\n",
       "      <td>22135.750000</td>\n",
       "      <td>5731.750000</td>\n",
       "      <td>20.121337</td>\n",
       "      <td>15349.372890</td>\n",
       "      <td>80405.347043</td>\n",
       "      <td>80405.347043</td>\n",
       "      <td>14.751690</td>\n",
       "      <td>4.728816</td>\n",
       "      <td>1.002941</td>\n",
       "    </tr>\n",
       "    <tr>\n",
       "      <th>max</th>\n",
       "      <td>850.000000</td>\n",
       "      <td>37823.000000</td>\n",
       "      <td>9507.000000</td>\n",
       "      <td>20.913384</td>\n",
       "      <td>20587.500000</td>\n",
       "      <td>99795.977096</td>\n",
       "      <td>99795.977096</td>\n",
       "      <td>15.457357</td>\n",
       "      <td>7.843477</td>\n",
       "      <td>1.663535</td>\n",
       "    </tr>\n",
       "  </tbody>\n",
       "</table>\n",
       "</div>"
      ],
      "text/plain": [
       "       fico_score    loan_total  default_total        dti  avg_loan_amnt  \\\n",
       "count   36.000000     36.000000      36.000000  36.000000      36.000000   \n",
       "mean   675.000000  15874.833333    3366.916667  18.764635   15116.516044   \n",
       "std    105.356538  11133.239822    3291.696127   1.666750    1700.517919   \n",
       "min    500.000000    114.000000       3.000000  14.755000   12968.018084   \n",
       "25%    587.500000   9762.500000     204.500000  17.655941   14036.071838   \n",
       "50%    675.000000  11754.500000    2719.500000  19.032935   14874.794250   \n",
       "75%    762.500000  22135.750000    5731.750000  20.121337   15349.372890   \n",
       "max    850.000000  37823.000000    9507.000000  20.913384   20587.500000   \n",
       "\n",
       "       median_annual_inc  avg_annual_inc   int_rate  default_rate  \\\n",
       "count          36.000000       36.000000  36.000000     36.000000   \n",
       "mean        77470.849713    77470.849713  12.551522      2.777778   \n",
       "std          8200.208530     8200.208530   2.534705      2.715719   \n",
       "min         63511.205814    63511.205814   7.646332      0.002475   \n",
       "25%         72514.533834    72514.533834  10.490431      0.168717   \n",
       "50%         74945.252098    74945.252098  13.585040      2.243645   \n",
       "75%         80405.347043    80405.347043  14.751690      4.728816   \n",
       "max         99795.977096    99795.977096  15.457357      7.843477   \n",
       "\n",
       "       actual_default_rate  \n",
       "count            36.000000  \n",
       "mean              0.589143  \n",
       "std               0.575981  \n",
       "min               0.000525  \n",
       "25%               0.035783  \n",
       "50%               0.475858  \n",
       "75%               1.002941  \n",
       "max               1.663535  "
      ]
     },
     "execution_count": 4,
     "metadata": {},
     "output_type": "execute_result"
    }
   ],
   "source": [
    "df.describe()"
   ]
  },
  {
   "cell_type": "code",
   "execution_count": 7,
   "metadata": {},
   "outputs": [
    {
     "data": {
      "text/html": [
       "<div>\n",
       "<style scoped>\n",
       "    .dataframe tbody tr th:only-of-type {\n",
       "        vertical-align: middle;\n",
       "    }\n",
       "\n",
       "    .dataframe tbody tr th {\n",
       "        vertical-align: top;\n",
       "    }\n",
       "\n",
       "    .dataframe thead th {\n",
       "        text-align: right;\n",
       "    }\n",
       "</style>\n",
       "<table border=\"1\" class=\"dataframe\">\n",
       "  <thead>\n",
       "    <tr style=\"text-align: right;\">\n",
       "      <th></th>\n",
       "      <th>fico_score</th>\n",
       "      <th>loan_total</th>\n",
       "      <th>default_total</th>\n",
       "      <th>dti</th>\n",
       "      <th>avg_loan_amnt</th>\n",
       "      <th>median_annual_inc</th>\n",
       "      <th>avg_annual_inc</th>\n",
       "      <th>int_rate</th>\n",
       "      <th>default_rate</th>\n",
       "      <th>actual_default_rate</th>\n",
       "    </tr>\n",
       "  </thead>\n",
       "  <tbody>\n",
       "    <tr>\n",
       "      <th>fico_score</th>\n",
       "      <td>11100.000000</td>\n",
       "      <td>7.386914e+04</td>\n",
       "      <td>-3.076673e+05</td>\n",
       "      <td>-162.621074</td>\n",
       "      <td>1.218654e+05</td>\n",
       "      <td>7.940631e+05</td>\n",
       "      <td>7.940631e+05</td>\n",
       "      <td>-258.698310</td>\n",
       "      <td>-253.832047</td>\n",
       "      <td>-53.835611</td>\n",
       "    </tr>\n",
       "    <tr>\n",
       "      <th>loan_total</th>\n",
       "      <td>73869.142857</td>\n",
       "      <td>1.239490e+08</td>\n",
       "      <td>-5.191345e+06</td>\n",
       "      <td>2552.569450</td>\n",
       "      <td>-9.092859e+06</td>\n",
       "      <td>-1.017609e+07</td>\n",
       "      <td>-1.017609e+07</td>\n",
       "      <td>3366.091425</td>\n",
       "      <td>-4282.970112</td>\n",
       "      <td>-908.381408</td>\n",
       "    </tr>\n",
       "    <tr>\n",
       "      <th>default_total</th>\n",
       "      <td>-307667.285714</td>\n",
       "      <td>-5.191345e+06</td>\n",
       "      <td>1.083526e+07</td>\n",
       "      <td>4649.950508</td>\n",
       "      <td>-2.466313e+06</td>\n",
       "      <td>-1.977161e+07</td>\n",
       "      <td>-1.977161e+07</td>\n",
       "      <td>7095.033644</td>\n",
       "      <td>8939.322487</td>\n",
       "      <td>1895.954007</td>\n",
       "    </tr>\n",
       "    <tr>\n",
       "      <th>dti</th>\n",
       "      <td>-162.621074</td>\n",
       "      <td>2.552569e+03</td>\n",
       "      <td>4.649951e+03</td>\n",
       "      <td>2.778056</td>\n",
       "      <td>-2.216968e+03</td>\n",
       "      <td>-1.227986e+04</td>\n",
       "      <td>-1.227986e+04</td>\n",
       "      <td>4.068348</td>\n",
       "      <td>3.836308</td>\n",
       "      <td>0.813648</td>\n",
       "    </tr>\n",
       "    <tr>\n",
       "      <th>avg_loan_amnt</th>\n",
       "      <td>121865.404055</td>\n",
       "      <td>-9.092859e+06</td>\n",
       "      <td>-2.466313e+06</td>\n",
       "      <td>-2216.968374</td>\n",
       "      <td>2.891761e+06</td>\n",
       "      <td>1.157449e+07</td>\n",
       "      <td>1.157449e+07</td>\n",
       "      <td>-3436.005638</td>\n",
       "      <td>-2034.760458</td>\n",
       "      <td>-431.555327</td>\n",
       "    </tr>\n",
       "    <tr>\n",
       "      <th>median_annual_inc</th>\n",
       "      <td>794063.082077</td>\n",
       "      <td>-1.017609e+07</td>\n",
       "      <td>-1.977161e+07</td>\n",
       "      <td>-12279.864581</td>\n",
       "      <td>1.157449e+07</td>\n",
       "      <td>6.724342e+07</td>\n",
       "      <td>6.724342e+07</td>\n",
       "      <td>-19568.973266</td>\n",
       "      <td>-16311.998379</td>\n",
       "      <td>-3459.635642</td>\n",
       "    </tr>\n",
       "    <tr>\n",
       "      <th>avg_annual_inc</th>\n",
       "      <td>794063.082077</td>\n",
       "      <td>-1.017609e+07</td>\n",
       "      <td>-1.977161e+07</td>\n",
       "      <td>-12279.864581</td>\n",
       "      <td>1.157449e+07</td>\n",
       "      <td>6.724342e+07</td>\n",
       "      <td>6.724342e+07</td>\n",
       "      <td>-19568.973266</td>\n",
       "      <td>-16311.998379</td>\n",
       "      <td>-3459.635642</td>\n",
       "    </tr>\n",
       "    <tr>\n",
       "      <th>int_rate</th>\n",
       "      <td>-258.698310</td>\n",
       "      <td>3.366091e+03</td>\n",
       "      <td>7.095034e+03</td>\n",
       "      <td>4.068348</td>\n",
       "      <td>-3.436006e+03</td>\n",
       "      <td>-1.956897e+04</td>\n",
       "      <td>-1.956897e+04</td>\n",
       "      <td>6.424729</td>\n",
       "      <td>5.853553</td>\n",
       "      <td>1.241489</td>\n",
       "    </tr>\n",
       "    <tr>\n",
       "      <th>default_rate</th>\n",
       "      <td>-253.832047</td>\n",
       "      <td>-4.282970e+03</td>\n",
       "      <td>8.939322e+03</td>\n",
       "      <td>3.836308</td>\n",
       "      <td>-2.034760e+03</td>\n",
       "      <td>-1.631200e+04</td>\n",
       "      <td>-1.631200e+04</td>\n",
       "      <td>5.853553</td>\n",
       "      <td>7.375131</td>\n",
       "      <td>1.564202</td>\n",
       "    </tr>\n",
       "    <tr>\n",
       "      <th>actual_default_rate</th>\n",
       "      <td>-53.835611</td>\n",
       "      <td>-9.083814e+02</td>\n",
       "      <td>1.895954e+03</td>\n",
       "      <td>0.813648</td>\n",
       "      <td>-4.315553e+02</td>\n",
       "      <td>-3.459636e+03</td>\n",
       "      <td>-3.459636e+03</td>\n",
       "      <td>1.241489</td>\n",
       "      <td>1.564202</td>\n",
       "      <td>0.331754</td>\n",
       "    </tr>\n",
       "  </tbody>\n",
       "</table>\n",
       "</div>"
      ],
      "text/plain": [
       "                        fico_score    loan_total  default_total           dti  \\\n",
       "fico_score            11100.000000  7.386914e+04  -3.076673e+05   -162.621074   \n",
       "loan_total            73869.142857  1.239490e+08  -5.191345e+06   2552.569450   \n",
       "default_total       -307667.285714 -5.191345e+06   1.083526e+07   4649.950508   \n",
       "dti                    -162.621074  2.552569e+03   4.649951e+03      2.778056   \n",
       "avg_loan_amnt        121865.404055 -9.092859e+06  -2.466313e+06  -2216.968374   \n",
       "median_annual_inc    794063.082077 -1.017609e+07  -1.977161e+07 -12279.864581   \n",
       "avg_annual_inc       794063.082077 -1.017609e+07  -1.977161e+07 -12279.864581   \n",
       "int_rate               -258.698310  3.366091e+03   7.095034e+03      4.068348   \n",
       "default_rate           -253.832047 -4.282970e+03   8.939322e+03      3.836308   \n",
       "actual_default_rate     -53.835611 -9.083814e+02   1.895954e+03      0.813648   \n",
       "\n",
       "                     avg_loan_amnt  median_annual_inc  avg_annual_inc  \\\n",
       "fico_score            1.218654e+05       7.940631e+05    7.940631e+05   \n",
       "loan_total           -9.092859e+06      -1.017609e+07   -1.017609e+07   \n",
       "default_total        -2.466313e+06      -1.977161e+07   -1.977161e+07   \n",
       "dti                  -2.216968e+03      -1.227986e+04   -1.227986e+04   \n",
       "avg_loan_amnt         2.891761e+06       1.157449e+07    1.157449e+07   \n",
       "median_annual_inc     1.157449e+07       6.724342e+07    6.724342e+07   \n",
       "avg_annual_inc        1.157449e+07       6.724342e+07    6.724342e+07   \n",
       "int_rate             -3.436006e+03      -1.956897e+04   -1.956897e+04   \n",
       "default_rate         -2.034760e+03      -1.631200e+04   -1.631200e+04   \n",
       "actual_default_rate  -4.315553e+02      -3.459636e+03   -3.459636e+03   \n",
       "\n",
       "                         int_rate  default_rate  actual_default_rate  \n",
       "fico_score            -258.698310   -253.832047           -53.835611  \n",
       "loan_total            3366.091425  -4282.970112          -908.381408  \n",
       "default_total         7095.033644   8939.322487          1895.954007  \n",
       "dti                      4.068348      3.836308             0.813648  \n",
       "avg_loan_amnt        -3436.005638  -2034.760458          -431.555327  \n",
       "median_annual_inc   -19568.973266 -16311.998379         -3459.635642  \n",
       "avg_annual_inc      -19568.973266 -16311.998379         -3459.635642  \n",
       "int_rate                 6.424729      5.853553             1.241489  \n",
       "default_rate             5.853553      7.375131             1.564202  \n",
       "actual_default_rate      1.241489      1.564202             0.331754  "
      ]
     },
     "execution_count": 7,
     "metadata": {},
     "output_type": "execute_result"
    }
   ],
   "source": [
    "df.cov() # THESE ARE NOT STANDARDIZE VALUES AND RANGES BETWEEN +- INFINITY"
   ]
  },
  {
   "cell_type": "code",
   "execution_count": 5,
   "metadata": {},
   "outputs": [
    {
     "data": {
      "text/html": [
       "<div>\n",
       "<style scoped>\n",
       "    .dataframe tbody tr th:only-of-type {\n",
       "        vertical-align: middle;\n",
       "    }\n",
       "\n",
       "    .dataframe tbody tr th {\n",
       "        vertical-align: top;\n",
       "    }\n",
       "\n",
       "    .dataframe thead th {\n",
       "        text-align: right;\n",
       "    }\n",
       "</style>\n",
       "<table border=\"1\" class=\"dataframe\">\n",
       "  <thead>\n",
       "    <tr style=\"text-align: right;\">\n",
       "      <th></th>\n",
       "      <th>fico_score</th>\n",
       "      <th>loan_total</th>\n",
       "      <th>default_total</th>\n",
       "      <th>dti</th>\n",
       "      <th>avg_loan_amnt</th>\n",
       "      <th>median_annual_inc</th>\n",
       "      <th>avg_annual_inc</th>\n",
       "      <th>int_rate</th>\n",
       "      <th>default_rate</th>\n",
       "      <th>actual_default_rate</th>\n",
       "    </tr>\n",
       "  </thead>\n",
       "  <tbody>\n",
       "    <tr>\n",
       "      <th>fico_score</th>\n",
       "      <td>1.000000</td>\n",
       "      <td>0.062977</td>\n",
       "      <td>-0.887156</td>\n",
       "      <td>-0.926072</td>\n",
       "      <td>0.680202</td>\n",
       "      <td>0.919112</td>\n",
       "      <td>0.919112</td>\n",
       "      <td>-0.968734</td>\n",
       "      <td>-0.887156</td>\n",
       "      <td>-0.887156</td>\n",
       "    </tr>\n",
       "    <tr>\n",
       "      <th>loan_total</th>\n",
       "      <td>0.062977</td>\n",
       "      <td>1.000000</td>\n",
       "      <td>-0.141657</td>\n",
       "      <td>0.137558</td>\n",
       "      <td>-0.480284</td>\n",
       "      <td>-0.111464</td>\n",
       "      <td>-0.111464</td>\n",
       "      <td>0.119283</td>\n",
       "      <td>-0.141657</td>\n",
       "      <td>-0.141657</td>\n",
       "    </tr>\n",
       "    <tr>\n",
       "      <th>default_total</th>\n",
       "      <td>-0.887156</td>\n",
       "      <td>-0.141657</td>\n",
       "      <td>1.000000</td>\n",
       "      <td>0.847536</td>\n",
       "      <td>-0.440603</td>\n",
       "      <td>-0.732483</td>\n",
       "      <td>-0.732483</td>\n",
       "      <td>0.850369</td>\n",
       "      <td>1.000000</td>\n",
       "      <td>1.000000</td>\n",
       "    </tr>\n",
       "    <tr>\n",
       "      <th>dti</th>\n",
       "      <td>-0.926072</td>\n",
       "      <td>0.137558</td>\n",
       "      <td>0.847536</td>\n",
       "      <td>1.000000</td>\n",
       "      <td>-0.782182</td>\n",
       "      <td>-0.898459</td>\n",
       "      <td>-0.898459</td>\n",
       "      <td>0.962986</td>\n",
       "      <td>0.847536</td>\n",
       "      <td>0.847536</td>\n",
       "    </tr>\n",
       "    <tr>\n",
       "      <th>avg_loan_amnt</th>\n",
       "      <td>0.680202</td>\n",
       "      <td>-0.480284</td>\n",
       "      <td>-0.440603</td>\n",
       "      <td>-0.782182</td>\n",
       "      <td>1.000000</td>\n",
       "      <td>0.830034</td>\n",
       "      <td>0.830034</td>\n",
       "      <td>-0.797160</td>\n",
       "      <td>-0.440603</td>\n",
       "      <td>-0.440603</td>\n",
       "    </tr>\n",
       "    <tr>\n",
       "      <th>median_annual_inc</th>\n",
       "      <td>0.919112</td>\n",
       "      <td>-0.111464</td>\n",
       "      <td>-0.732483</td>\n",
       "      <td>-0.898459</td>\n",
       "      <td>0.830034</td>\n",
       "      <td>1.000000</td>\n",
       "      <td>1.000000</td>\n",
       "      <td>-0.941490</td>\n",
       "      <td>-0.732483</td>\n",
       "      <td>-0.732483</td>\n",
       "    </tr>\n",
       "    <tr>\n",
       "      <th>avg_annual_inc</th>\n",
       "      <td>0.919112</td>\n",
       "      <td>-0.111464</td>\n",
       "      <td>-0.732483</td>\n",
       "      <td>-0.898459</td>\n",
       "      <td>0.830034</td>\n",
       "      <td>1.000000</td>\n",
       "      <td>1.000000</td>\n",
       "      <td>-0.941490</td>\n",
       "      <td>-0.732483</td>\n",
       "      <td>-0.732483</td>\n",
       "    </tr>\n",
       "    <tr>\n",
       "      <th>int_rate</th>\n",
       "      <td>-0.968734</td>\n",
       "      <td>0.119283</td>\n",
       "      <td>0.850369</td>\n",
       "      <td>0.962986</td>\n",
       "      <td>-0.797160</td>\n",
       "      <td>-0.941490</td>\n",
       "      <td>-0.941490</td>\n",
       "      <td>1.000000</td>\n",
       "      <td>0.850369</td>\n",
       "      <td>0.850369</td>\n",
       "    </tr>\n",
       "    <tr>\n",
       "      <th>default_rate</th>\n",
       "      <td>-0.887156</td>\n",
       "      <td>-0.141657</td>\n",
       "      <td>1.000000</td>\n",
       "      <td>0.847536</td>\n",
       "      <td>-0.440603</td>\n",
       "      <td>-0.732483</td>\n",
       "      <td>-0.732483</td>\n",
       "      <td>0.850369</td>\n",
       "      <td>1.000000</td>\n",
       "      <td>1.000000</td>\n",
       "    </tr>\n",
       "    <tr>\n",
       "      <th>actual_default_rate</th>\n",
       "      <td>-0.887156</td>\n",
       "      <td>-0.141657</td>\n",
       "      <td>1.000000</td>\n",
       "      <td>0.847536</td>\n",
       "      <td>-0.440603</td>\n",
       "      <td>-0.732483</td>\n",
       "      <td>-0.732483</td>\n",
       "      <td>0.850369</td>\n",
       "      <td>1.000000</td>\n",
       "      <td>1.000000</td>\n",
       "    </tr>\n",
       "  </tbody>\n",
       "</table>\n",
       "</div>"
      ],
      "text/plain": [
       "                     fico_score  loan_total  default_total       dti  \\\n",
       "fico_score             1.000000    0.062977      -0.887156 -0.926072   \n",
       "loan_total             0.062977    1.000000      -0.141657  0.137558   \n",
       "default_total         -0.887156   -0.141657       1.000000  0.847536   \n",
       "dti                   -0.926072    0.137558       0.847536  1.000000   \n",
       "avg_loan_amnt          0.680202   -0.480284      -0.440603 -0.782182   \n",
       "median_annual_inc      0.919112   -0.111464      -0.732483 -0.898459   \n",
       "avg_annual_inc         0.919112   -0.111464      -0.732483 -0.898459   \n",
       "int_rate              -0.968734    0.119283       0.850369  0.962986   \n",
       "default_rate          -0.887156   -0.141657       1.000000  0.847536   \n",
       "actual_default_rate   -0.887156   -0.141657       1.000000  0.847536   \n",
       "\n",
       "                     avg_loan_amnt  median_annual_inc  avg_annual_inc  \\\n",
       "fico_score                0.680202           0.919112        0.919112   \n",
       "loan_total               -0.480284          -0.111464       -0.111464   \n",
       "default_total            -0.440603          -0.732483       -0.732483   \n",
       "dti                      -0.782182          -0.898459       -0.898459   \n",
       "avg_loan_amnt             1.000000           0.830034        0.830034   \n",
       "median_annual_inc         0.830034           1.000000        1.000000   \n",
       "avg_annual_inc            0.830034           1.000000        1.000000   \n",
       "int_rate                 -0.797160          -0.941490       -0.941490   \n",
       "default_rate             -0.440603          -0.732483       -0.732483   \n",
       "actual_default_rate      -0.440603          -0.732483       -0.732483   \n",
       "\n",
       "                     int_rate  default_rate  actual_default_rate  \n",
       "fico_score          -0.968734     -0.887156            -0.887156  \n",
       "loan_total           0.119283     -0.141657            -0.141657  \n",
       "default_total        0.850369      1.000000             1.000000  \n",
       "dti                  0.962986      0.847536             0.847536  \n",
       "avg_loan_amnt       -0.797160     -0.440603            -0.440603  \n",
       "median_annual_inc   -0.941490     -0.732483            -0.732483  \n",
       "avg_annual_inc      -0.941490     -0.732483            -0.732483  \n",
       "int_rate             1.000000      0.850369             0.850369  \n",
       "default_rate         0.850369      1.000000             1.000000  \n",
       "actual_default_rate  0.850369      1.000000             1.000000  "
      ]
     },
     "execution_count": 5,
     "metadata": {},
     "output_type": "execute_result"
    }
   ],
   "source": [
    "df.corr() # GIVES STRENGTH OF THE RELATIONSHIP RANGES BETWEEN +- 1"
   ]
  },
  {
   "cell_type": "markdown",
   "metadata": {},
   "source": [
    "    Pearson correlation assumes that the variables are normally distributed\n",
    "    \n",
    "    Spearman rank correlation is a non-parametric test that is used to measure the degree of assosiation between 2 variables.\n",
    "    it evaluates the monatonic relationship between a continous and ordinal variables. Spearman correlation doesnot have any\n",
    "    assumption between the data"
   ]
  },
  {
   "cell_type": "code",
   "execution_count": 8,
   "metadata": {},
   "outputs": [
    {
     "data": {
      "text/html": [
       "<div>\n",
       "<style scoped>\n",
       "    .dataframe tbody tr th:only-of-type {\n",
       "        vertical-align: middle;\n",
       "    }\n",
       "\n",
       "    .dataframe tbody tr th {\n",
       "        vertical-align: top;\n",
       "    }\n",
       "\n",
       "    .dataframe thead th {\n",
       "        text-align: right;\n",
       "    }\n",
       "</style>\n",
       "<table border=\"1\" class=\"dataframe\">\n",
       "  <thead>\n",
       "    <tr style=\"text-align: right;\">\n",
       "      <th></th>\n",
       "      <th>fico_score</th>\n",
       "      <th>loan_total</th>\n",
       "      <th>default_total</th>\n",
       "      <th>dti</th>\n",
       "      <th>avg_loan_amnt</th>\n",
       "      <th>median_annual_inc</th>\n",
       "      <th>avg_annual_inc</th>\n",
       "      <th>int_rate</th>\n",
       "      <th>default_rate</th>\n",
       "      <th>actual_default_rate</th>\n",
       "    </tr>\n",
       "  </thead>\n",
       "  <tbody>\n",
       "    <tr>\n",
       "      <th>fico_score</th>\n",
       "      <td>1.000000</td>\n",
       "      <td>0.035779</td>\n",
       "      <td>-0.939511</td>\n",
       "      <td>-0.936937</td>\n",
       "      <td>0.661004</td>\n",
       "      <td>0.964479</td>\n",
       "      <td>0.964479</td>\n",
       "      <td>-0.997169</td>\n",
       "      <td>-0.939511</td>\n",
       "      <td>-0.939511</td>\n",
       "    </tr>\n",
       "    <tr>\n",
       "      <th>loan_total</th>\n",
       "      <td>0.035779</td>\n",
       "      <td>1.000000</td>\n",
       "      <td>0.088288</td>\n",
       "      <td>0.038095</td>\n",
       "      <td>-0.354440</td>\n",
       "      <td>0.039382</td>\n",
       "      <td>0.039382</td>\n",
       "      <td>-0.027284</td>\n",
       "      <td>0.088288</td>\n",
       "      <td>0.088288</td>\n",
       "    </tr>\n",
       "    <tr>\n",
       "      <th>default_total</th>\n",
       "      <td>-0.939511</td>\n",
       "      <td>0.088288</td>\n",
       "      <td>1.000000</td>\n",
       "      <td>0.968082</td>\n",
       "      <td>-0.600515</td>\n",
       "      <td>-0.898842</td>\n",
       "      <td>-0.898842</td>\n",
       "      <td>0.950322</td>\n",
       "      <td>1.000000</td>\n",
       "      <td>1.000000</td>\n",
       "    </tr>\n",
       "    <tr>\n",
       "      <th>dti</th>\n",
       "      <td>-0.936937</td>\n",
       "      <td>0.038095</td>\n",
       "      <td>0.968082</td>\n",
       "      <td>1.000000</td>\n",
       "      <td>-0.572458</td>\n",
       "      <td>-0.893179</td>\n",
       "      <td>-0.893179</td>\n",
       "      <td>0.938481</td>\n",
       "      <td>0.968082</td>\n",
       "      <td>0.968082</td>\n",
       "    </tr>\n",
       "    <tr>\n",
       "      <th>avg_loan_amnt</th>\n",
       "      <td>0.661004</td>\n",
       "      <td>-0.354440</td>\n",
       "      <td>-0.600515</td>\n",
       "      <td>-0.572458</td>\n",
       "      <td>1.000000</td>\n",
       "      <td>0.704247</td>\n",
       "      <td>0.704247</td>\n",
       "      <td>-0.656113</td>\n",
       "      <td>-0.600515</td>\n",
       "      <td>-0.600515</td>\n",
       "    </tr>\n",
       "    <tr>\n",
       "      <th>median_annual_inc</th>\n",
       "      <td>0.964479</td>\n",
       "      <td>0.039382</td>\n",
       "      <td>-0.898842</td>\n",
       "      <td>-0.893179</td>\n",
       "      <td>0.704247</td>\n",
       "      <td>1.000000</td>\n",
       "      <td>1.000000</td>\n",
       "      <td>-0.964736</td>\n",
       "      <td>-0.898842</td>\n",
       "      <td>-0.898842</td>\n",
       "    </tr>\n",
       "    <tr>\n",
       "      <th>avg_annual_inc</th>\n",
       "      <td>0.964479</td>\n",
       "      <td>0.039382</td>\n",
       "      <td>-0.898842</td>\n",
       "      <td>-0.893179</td>\n",
       "      <td>0.704247</td>\n",
       "      <td>1.000000</td>\n",
       "      <td>1.000000</td>\n",
       "      <td>-0.964736</td>\n",
       "      <td>-0.898842</td>\n",
       "      <td>-0.898842</td>\n",
       "    </tr>\n",
       "    <tr>\n",
       "      <th>int_rate</th>\n",
       "      <td>-0.997169</td>\n",
       "      <td>-0.027284</td>\n",
       "      <td>0.950322</td>\n",
       "      <td>0.938481</td>\n",
       "      <td>-0.656113</td>\n",
       "      <td>-0.964736</td>\n",
       "      <td>-0.964736</td>\n",
       "      <td>1.000000</td>\n",
       "      <td>0.950322</td>\n",
       "      <td>0.950322</td>\n",
       "    </tr>\n",
       "    <tr>\n",
       "      <th>default_rate</th>\n",
       "      <td>-0.939511</td>\n",
       "      <td>0.088288</td>\n",
       "      <td>1.000000</td>\n",
       "      <td>0.968082</td>\n",
       "      <td>-0.600515</td>\n",
       "      <td>-0.898842</td>\n",
       "      <td>-0.898842</td>\n",
       "      <td>0.950322</td>\n",
       "      <td>1.000000</td>\n",
       "      <td>1.000000</td>\n",
       "    </tr>\n",
       "    <tr>\n",
       "      <th>actual_default_rate</th>\n",
       "      <td>-0.939511</td>\n",
       "      <td>0.088288</td>\n",
       "      <td>1.000000</td>\n",
       "      <td>0.968082</td>\n",
       "      <td>-0.600515</td>\n",
       "      <td>-0.898842</td>\n",
       "      <td>-0.898842</td>\n",
       "      <td>0.950322</td>\n",
       "      <td>1.000000</td>\n",
       "      <td>1.000000</td>\n",
       "    </tr>\n",
       "  </tbody>\n",
       "</table>\n",
       "</div>"
      ],
      "text/plain": [
       "                     fico_score  loan_total  default_total       dti  \\\n",
       "fico_score             1.000000    0.035779      -0.939511 -0.936937   \n",
       "loan_total             0.035779    1.000000       0.088288  0.038095   \n",
       "default_total         -0.939511    0.088288       1.000000  0.968082   \n",
       "dti                   -0.936937    0.038095       0.968082  1.000000   \n",
       "avg_loan_amnt          0.661004   -0.354440      -0.600515 -0.572458   \n",
       "median_annual_inc      0.964479    0.039382      -0.898842 -0.893179   \n",
       "avg_annual_inc         0.964479    0.039382      -0.898842 -0.893179   \n",
       "int_rate              -0.997169   -0.027284       0.950322  0.938481   \n",
       "default_rate          -0.939511    0.088288       1.000000  0.968082   \n",
       "actual_default_rate   -0.939511    0.088288       1.000000  0.968082   \n",
       "\n",
       "                     avg_loan_amnt  median_annual_inc  avg_annual_inc  \\\n",
       "fico_score                0.661004           0.964479        0.964479   \n",
       "loan_total               -0.354440           0.039382        0.039382   \n",
       "default_total            -0.600515          -0.898842       -0.898842   \n",
       "dti                      -0.572458          -0.893179       -0.893179   \n",
       "avg_loan_amnt             1.000000           0.704247        0.704247   \n",
       "median_annual_inc         0.704247           1.000000        1.000000   \n",
       "avg_annual_inc            0.704247           1.000000        1.000000   \n",
       "int_rate                 -0.656113          -0.964736       -0.964736   \n",
       "default_rate             -0.600515          -0.898842       -0.898842   \n",
       "actual_default_rate      -0.600515          -0.898842       -0.898842   \n",
       "\n",
       "                     int_rate  default_rate  actual_default_rate  \n",
       "fico_score          -0.997169     -0.939511            -0.939511  \n",
       "loan_total          -0.027284      0.088288             0.088288  \n",
       "default_total        0.950322      1.000000             1.000000  \n",
       "dti                  0.938481      0.968082             0.968082  \n",
       "avg_loan_amnt       -0.656113     -0.600515            -0.600515  \n",
       "median_annual_inc   -0.964736     -0.898842            -0.898842  \n",
       "avg_annual_inc      -0.964736     -0.898842            -0.898842  \n",
       "int_rate             1.000000      0.950322             0.950322  \n",
       "default_rate         0.950322      1.000000             1.000000  \n",
       "actual_default_rate  0.950322      1.000000             1.000000  "
      ]
     },
     "execution_count": 8,
     "metadata": {},
     "output_type": "execute_result"
    }
   ],
   "source": [
    "df.corr(method='spearman')"
   ]
  },
  {
   "cell_type": "code",
   "execution_count": 9,
   "metadata": {},
   "outputs": [
    {
     "name": "stderr",
     "output_type": "stream",
     "text": [
      "d:\\anacondafiles\\envs\\deeplearning\\lib\\site-packages\\seaborn\\distributions.py:2551: FutureWarning: `distplot` is a deprecated function and will be removed in a future version. Please adapt your code to use either `displot` (a figure-level function with similar flexibility) or `histplot` (an axes-level function for histograms).\n",
      "  warnings.warn(msg, FutureWarning)\n"
     ]
    },
    {
     "data": {
      "text/plain": [
       "<AxesSubplot:xlabel='median_annual_inc', ylabel='Density'>"
      ]
     },
     "execution_count": 9,
     "metadata": {},
     "output_type": "execute_result"
    },
    {
     "data": {
      "image/png": "[encoded data removed]",
      "text/plain": [
       "<Figure size 432x288 with 1 Axes>"
      ]
     },
     "metadata": {
      "needs_background": "light"
     },
     "output_type": "display_data"
    }
   ],
   "source": [
    "sns.distplot(df['median_annual_inc'], hist=True)"
   ]
  },
  {
   "cell_type": "code",
   "execution_count": 10,
   "metadata": {},
   "outputs": [
    {
     "data": {
      "text/html": [
       "<div>\n",
       "<style scoped>\n",
       "    .dataframe tbody tr th:only-of-type {\n",
       "        vertical-align: middle;\n",
       "    }\n",
       "\n",
       "    .dataframe tbody tr th {\n",
       "        vertical-align: top;\n",
       "    }\n",
       "\n",
       "    .dataframe thead th {\n",
       "        text-align: right;\n",
       "    }\n",
       "</style>\n",
       "<table border=\"1\" class=\"dataframe\">\n",
       "  <thead>\n",
       "    <tr style=\"text-align: right;\">\n",
       "      <th></th>\n",
       "      <th>fico_score</th>\n",
       "      <th>median_annual_inc</th>\n",
       "    </tr>\n",
       "  </thead>\n",
       "  <tbody>\n",
       "    <tr>\n",
       "      <th>fico_score</th>\n",
       "      <td>1.000000</td>\n",
       "      <td>0.964479</td>\n",
       "    </tr>\n",
       "    <tr>\n",
       "      <th>median_annual_inc</th>\n",
       "      <td>0.964479</td>\n",
       "      <td>1.000000</td>\n",
       "    </tr>\n",
       "  </tbody>\n",
       "</table>\n",
       "</div>"
      ],
      "text/plain": [
       "                   fico_score  median_annual_inc\n",
       "fico_score           1.000000           0.964479\n",
       "median_annual_inc    0.964479           1.000000"
      ]
     },
     "execution_count": 10,
     "metadata": {},
     "output_type": "execute_result"
    }
   ],
   "source": [
    "df[['fico_score', 'median_annual_inc']].corr(method='spearman')"
   ]
  },
  {
   "cell_type": "code",
   "execution_count": 11,
   "metadata": {},
   "outputs": [
    {
     "data": {
      "text/plain": [
       "<AxesSubplot:xlabel='fico_score', ylabel='median_annual_inc'>"
      ]
     },
     "execution_count": 11,
     "metadata": {},
     "output_type": "execute_result"
    },
    {
     "data": {
      "image/png": "[encoded data removed]",
      "text/plain": [
       "<Figure size 432x288 with 1 Axes>"
      ]
     },
     "metadata": {
      "needs_background": "light"
     },
     "output_type": "display_data"
    }
   ],
   "source": [
    "sns.regplot(x='fico_score', y=\"median_annual_inc\", data=df)"
   ]
  },
  {
   "cell_type": "code",
   "execution_count": 12,
   "metadata": {},
   "outputs": [
    {
     "data": {
      "text/plain": [
       "<AxesSubplot:xlabel='fico_score', ylabel='avg_annual_inc'>"
      ]
     },
     "execution_count": 12,
     "metadata": {},
     "output_type": "execute_result"
    },
    {
     "data": {
      "image/png": "[encoded data removed]",
      "text/plain": [
       "<Figure size 432x288 with 1 Axes>"
      ]
     },
     "metadata": {
      "needs_background": "light"
     },
     "output_type": "display_data"
    }
   ],
   "source": [
    "sns.regplot(x='fico_score', y=\"avg_annual_inc\", data=df)"
   ]
  },
  {
   "cell_type": "code",
   "execution_count": 14,
   "metadata": {},
   "outputs": [
    {
     "data": {
      "text/html": [
       "<div>\n",
       "<style scoped>\n",
       "    .dataframe tbody tr th:only-of-type {\n",
       "        vertical-align: middle;\n",
       "    }\n",
       "\n",
       "    .dataframe tbody tr th {\n",
       "        vertical-align: top;\n",
       "    }\n",
       "\n",
       "    .dataframe thead th {\n",
       "        text-align: right;\n",
       "    }\n",
       "</style>\n",
       "<table border=\"1\" class=\"dataframe\">\n",
       "  <thead>\n",
       "    <tr style=\"text-align: right;\">\n",
       "      <th></th>\n",
       "      <th>fico_score</th>\n",
       "      <th>dti</th>\n",
       "    </tr>\n",
       "  </thead>\n",
       "  <tbody>\n",
       "    <tr>\n",
       "      <th>fico_score</th>\n",
       "      <td>1.000000</td>\n",
       "      <td>-0.936937</td>\n",
       "    </tr>\n",
       "    <tr>\n",
       "      <th>dti</th>\n",
       "      <td>-0.936937</td>\n",
       "      <td>1.000000</td>\n",
       "    </tr>\n",
       "  </tbody>\n",
       "</table>\n",
       "</div>"
      ],
      "text/plain": [
       "            fico_score       dti\n",
       "fico_score    1.000000 -0.936937\n",
       "dti          -0.936937  1.000000"
      ]
     },
     "execution_count": 14,
     "metadata": {},
     "output_type": "execute_result"
    }
   ],
   "source": [
    "df[['fico_score', 'dti']].corr(method='spearman')"
   ]
  },
  {
   "cell_type": "code",
   "execution_count": 15,
   "metadata": {},
   "outputs": [
    {
     "data": {
      "text/plain": [
       "<AxesSubplot:xlabel='fico_score', ylabel='dti'>"
      ]
     },
     "execution_count": 15,
     "metadata": {},
     "output_type": "execute_result"
    },
    {
     "data": {
      "image/png": "[encoded data removed]",
      "text/plain": [
       "<Figure size 432x288 with 1 Axes>"
      ]
     },
     "metadata": {
      "needs_background": "light"
     },
     "output_type": "display_data"
    }
   ],
   "source": [
    "sns.regplot(x='fico_score', y='dti', data=df)"
   ]
  },
  {
   "cell_type": "code",
   "execution_count": 16,
   "metadata": {},
   "outputs": [
    {
     "data": {
      "text/html": [
       "<div>\n",
       "<style scoped>\n",
       "    .dataframe tbody tr th:only-of-type {\n",
       "        vertical-align: middle;\n",
       "    }\n",
       "\n",
       "    .dataframe tbody tr th {\n",
       "        vertical-align: top;\n",
       "    }\n",
       "\n",
       "    .dataframe thead th {\n",
       "        text-align: right;\n",
       "    }\n",
       "</style>\n",
       "<table border=\"1\" class=\"dataframe\">\n",
       "  <thead>\n",
       "    <tr style=\"text-align: right;\">\n",
       "      <th></th>\n",
       "      <th>fico_score</th>\n",
       "      <th>int_rate</th>\n",
       "    </tr>\n",
       "  </thead>\n",
       "  <tbody>\n",
       "    <tr>\n",
       "      <th>fico_score</th>\n",
       "      <td>1.000000</td>\n",
       "      <td>-0.997169</td>\n",
       "    </tr>\n",
       "    <tr>\n",
       "      <th>int_rate</th>\n",
       "      <td>-0.997169</td>\n",
       "      <td>1.000000</td>\n",
       "    </tr>\n",
       "  </tbody>\n",
       "</table>\n",
       "</div>"
      ],
      "text/plain": [
       "            fico_score  int_rate\n",
       "fico_score    1.000000 -0.997169\n",
       "int_rate     -0.997169  1.000000"
      ]
     },
     "execution_count": 16,
     "metadata": {},
     "output_type": "execute_result"
    }
   ],
   "source": [
    "df[['fico_score', 'int_rate']].corr(method='spearman')"
   ]
  },
  {
   "cell_type": "code",
   "execution_count": 17,
   "metadata": {},
   "outputs": [
    {
     "data": {
      "text/plain": [
       "<AxesSubplot:xlabel='fico_score', ylabel='int_rate'>"
      ]
     },
     "execution_count": 17,
     "metadata": {},
     "output_type": "execute_result"
    },
    {
     "data": {
      "image/png": "[encoded data removed]",
      "text/plain": [
       "<Figure size 432x288 with 1 Axes>"
      ]
     },
     "metadata": {
      "needs_background": "light"
     },
     "output_type": "display_data"
    }
   ],
   "source": [
    "sns.regplot(x='fico_score', y='int_rate', data=df)"
   ]
  },
  {
   "cell_type": "code",
   "execution_count": 18,
   "metadata": {},
   "outputs": [
    {
     "name": "stderr",
     "output_type": "stream",
     "text": [
      "d:\\anacondafiles\\envs\\deeplearning\\lib\\site-packages\\seaborn\\distributions.py:2551: FutureWarning: `distplot` is a deprecated function and will be removed in a future version. Please adapt your code to use either `displot` (a figure-level function with similar flexibility) or `histplot` (an axes-level function for histograms).\n",
      "  warnings.warn(msg, FutureWarning)\n"
     ]
    },
    {
     "data": {
      "text/plain": [
       "<AxesSubplot:xlabel='int_rate', ylabel='Density'>"
      ]
     },
     "execution_count": 18,
     "metadata": {},
     "output_type": "execute_result"
    },
    {
     "data": {
      "image/png": "[encoded data removed]",
      "text/plain": [
       "<Figure size 432x288 with 1 Axes>"
      ]
     },
     "metadata": {
      "needs_background": "light"
     },
     "output_type": "display_data"
    }
   ],
   "source": [
    "sns.distplot(df['int_rate'], hist=True)"
   ]
  },
  {
   "cell_type": "markdown",
   "metadata": {},
   "source": [
    "### Q-Q plot : to check whether the distribution is normal or not"
   ]
  },
  {
   "cell_type": "code",
   "execution_count": 19,
   "metadata": {},
   "outputs": [
    {
     "data": {
      "text/plain": [
       "((array([-2.07334886, -1.68217954, -1.44830429, -1.27437681, -1.13225357,\n",
       "         -1.00993636, -0.90112151, -0.80205412, -0.71029762, -0.62416759,\n",
       "         -0.54243995, -0.46418751, -0.38868208, -0.31533241, -0.24364313,\n",
       "         -0.17318609, -0.10357945, -0.03447167,  0.03447167,  0.10357945,\n",
       "          0.17318609,  0.24364313,  0.31533241,  0.38868208,  0.46418751,\n",
       "          0.54243995,  0.62416759,  0.71029762,  0.80205412,  0.90112151,\n",
       "          1.00993636,  1.13225357,  1.27437681,  1.44830429,  1.68217954,\n",
       "          2.07334886]),\n",
       "  array([ 7.64633174,  8.04394737,  8.09677509,  8.46841888,  8.882666  ,\n",
       "          9.24081061,  9.60746387, 10.0013729 , 10.22428243, 10.57914655,\n",
       "         10.89033102, 11.10971416, 11.45943006, 11.89085872, 12.25122137,\n",
       "         12.68009174, 13.02844068, 13.3977015 , 13.77237873, 13.8606845 ,\n",
       "         13.96221332, 14.01722976, 14.14633569, 14.41435039, 14.43957023,\n",
       "         14.55312665, 14.74022261, 14.78609246, 14.84825342, 14.9220375 ,\n",
       "         15.04910439, 15.27306954, 15.33181392, 15.34198227, 15.43995739,\n",
       "         15.45735736])),\n",
       " (2.494513703830665, 12.551521800950505, 0.9516362646545228))"
      ]
     },
     "execution_count": 19,
     "metadata": {},
     "output_type": "execute_result"
    },
    {
     "data": {
      "image/png": "[encoded data removed]",
      "text/plain": [
       "<Figure size 432x288 with 1 Axes>"
      ]
     },
     "metadata": {
      "needs_background": "light"
     },
     "output_type": "display_data"
    }
   ],
   "source": [
    "import scipy.stats as stats\n",
    "stats.probplot(df['int_rate'], dist='norm', plot=plt)"
   ]
  },
  {
   "cell_type": "code",
   "execution_count": 20,
   "metadata": {},
   "outputs": [
    {
     "data": {
      "text/html": [
       "<div>\n",
       "<style scoped>\n",
       "    .dataframe tbody tr th:only-of-type {\n",
       "        vertical-align: middle;\n",
       "    }\n",
       "\n",
       "    .dataframe tbody tr th {\n",
       "        vertical-align: top;\n",
       "    }\n",
       "\n",
       "    .dataframe thead th {\n",
       "        text-align: right;\n",
       "    }\n",
       "</style>\n",
       "<table border=\"1\" class=\"dataframe\">\n",
       "  <thead>\n",
       "    <tr style=\"text-align: right;\">\n",
       "      <th></th>\n",
       "      <th>fico_score</th>\n",
       "      <th>loan_total</th>\n",
       "    </tr>\n",
       "  </thead>\n",
       "  <tbody>\n",
       "    <tr>\n",
       "      <th>fico_score</th>\n",
       "      <td>1.000000</td>\n",
       "      <td>0.035779</td>\n",
       "    </tr>\n",
       "    <tr>\n",
       "      <th>loan_total</th>\n",
       "      <td>0.035779</td>\n",
       "      <td>1.000000</td>\n",
       "    </tr>\n",
       "  </tbody>\n",
       "</table>\n",
       "</div>"
      ],
      "text/plain": [
       "            fico_score  loan_total\n",
       "fico_score    1.000000    0.035779\n",
       "loan_total    0.035779    1.000000"
      ]
     },
     "execution_count": 20,
     "metadata": {},
     "output_type": "execute_result"
    }
   ],
   "source": [
    "df[['fico_score', 'loan_total']].corr(method='spearman')"
   ]
  },
  {
   "cell_type": "code",
   "execution_count": 21,
   "metadata": {},
   "outputs": [
    {
     "data": {
      "text/plain": [
       "<AxesSubplot:xlabel='fico_score', ylabel='loan_total'>"
      ]
     },
     "execution_count": 21,
     "metadata": {},
     "output_type": "execute_result"
    },
    {
     "data": {
      "image/png": "[encoded data removed]",
      "text/plain": [
       "<Figure size 432x288 with 1 Axes>"
      ]
     },
     "metadata": {
      "needs_background": "light"
     },
     "output_type": "display_data"
    }
   ],
   "source": [
    "sns.regplot(x='fico_score', y='loan_total', data=df)"
   ]
  },
  {
   "cell_type": "code",
   "execution_count": 22,
   "metadata": {},
   "outputs": [
    {
     "data": {
      "text/html": [
       "<div>\n",
       "<style scoped>\n",
       "    .dataframe tbody tr th:only-of-type {\n",
       "        vertical-align: middle;\n",
       "    }\n",
       "\n",
       "    .dataframe tbody tr th {\n",
       "        vertical-align: top;\n",
       "    }\n",
       "\n",
       "    .dataframe thead th {\n",
       "        text-align: right;\n",
       "    }\n",
       "</style>\n",
       "<table border=\"1\" class=\"dataframe\">\n",
       "  <thead>\n",
       "    <tr style=\"text-align: right;\">\n",
       "      <th></th>\n",
       "      <th>fico_score</th>\n",
       "      <th>default_rate</th>\n",
       "    </tr>\n",
       "  </thead>\n",
       "  <tbody>\n",
       "    <tr>\n",
       "      <th>fico_score</th>\n",
       "      <td>1.000000</td>\n",
       "      <td>-0.939511</td>\n",
       "    </tr>\n",
       "    <tr>\n",
       "      <th>default_rate</th>\n",
       "      <td>-0.939511</td>\n",
       "      <td>1.000000</td>\n",
       "    </tr>\n",
       "  </tbody>\n",
       "</table>\n",
       "</div>"
      ],
      "text/plain": [
       "              fico_score  default_rate\n",
       "fico_score      1.000000     -0.939511\n",
       "default_rate   -0.939511      1.000000"
      ]
     },
     "execution_count": 22,
     "metadata": {},
     "output_type": "execute_result"
    }
   ],
   "source": [
    "df[['fico_score', 'default_rate']].corr(method='spearman')"
   ]
  },
  {
   "cell_type": "code",
   "execution_count": 23,
   "metadata": {},
   "outputs": [
    {
     "data": {
      "text/plain": [
       "<AxesSubplot:xlabel='fico_score', ylabel='default_rate'>"
      ]
     },
     "execution_count": 23,
     "metadata": {},
     "output_type": "execute_result"
    },
    {
     "data": {
      "image/png": "[encoded data removed]",
      "text/plain": [
       "<Figure size 432x288 with 1 Axes>"
      ]
     },
     "metadata": {
      "needs_background": "light"
     },
     "output_type": "display_data"
    }
   ],
   "source": [
    "sns.regplot(x='fico_score', y='default_rate', data=df)"
   ]
  },
  {
   "cell_type": "code",
   "execution_count": 24,
   "metadata": {},
   "outputs": [
    {
     "data": {
      "text/html": [
       "<div>\n",
       "<style scoped>\n",
       "    .dataframe tbody tr th:only-of-type {\n",
       "        vertical-align: middle;\n",
       "    }\n",
       "\n",
       "    .dataframe tbody tr th {\n",
       "        vertical-align: top;\n",
       "    }\n",
       "\n",
       "    .dataframe thead th {\n",
       "        text-align: right;\n",
       "    }\n",
       "</style>\n",
       "<table border=\"1\" class=\"dataframe\">\n",
       "  <thead>\n",
       "    <tr style=\"text-align: right;\">\n",
       "      <th></th>\n",
       "      <th>median_annual_inc</th>\n",
       "      <th>loan_total</th>\n",
       "    </tr>\n",
       "  </thead>\n",
       "  <tbody>\n",
       "    <tr>\n",
       "      <th>median_annual_inc</th>\n",
       "      <td>1.000000</td>\n",
       "      <td>0.039382</td>\n",
       "    </tr>\n",
       "    <tr>\n",
       "      <th>loan_total</th>\n",
       "      <td>0.039382</td>\n",
       "      <td>1.000000</td>\n",
       "    </tr>\n",
       "  </tbody>\n",
       "</table>\n",
       "</div>"
      ],
      "text/plain": [
       "                   median_annual_inc  loan_total\n",
       "median_annual_inc           1.000000    0.039382\n",
       "loan_total                  0.039382    1.000000"
      ]
     },
     "execution_count": 24,
     "metadata": {},
     "output_type": "execute_result"
    }
   ],
   "source": [
    "df[['median_annual_inc', 'loan_total']].corr(method='spearman')"
   ]
  },
  {
   "cell_type": "code",
   "execution_count": 25,
   "metadata": {},
   "outputs": [
    {
     "data": {
      "text/plain": [
       "<AxesSubplot:xlabel='median_annual_inc', ylabel='loan_total'>"
      ]
     },
     "execution_count": 25,
     "metadata": {},
     "output_type": "execute_result"
    },
    {
     "data": {
      "image/png": "[encoded data removed]",
      "text/plain": [
       "<Figure size 432x288 with 1 Axes>"
      ]
     },
     "metadata": {
      "needs_background": "light"
     },
     "output_type": "display_data"
    }
   ],
   "source": [
    "sns.regplot(x='median_annual_inc', y='loan_total', data=df)"
   ]
  },
  {
   "cell_type": "code",
   "execution_count": 26,
   "metadata": {},
   "outputs": [
    {
     "data": {
      "text/html": [
       "<div>\n",
       "<style scoped>\n",
       "    .dataframe tbody tr th:only-of-type {\n",
       "        vertical-align: middle;\n",
       "    }\n",
       "\n",
       "    .dataframe tbody tr th {\n",
       "        vertical-align: top;\n",
       "    }\n",
       "\n",
       "    .dataframe thead th {\n",
       "        text-align: right;\n",
       "    }\n",
       "</style>\n",
       "<table border=\"1\" class=\"dataframe\">\n",
       "  <thead>\n",
       "    <tr style=\"text-align: right;\">\n",
       "      <th></th>\n",
       "      <th>dti</th>\n",
       "      <th>loan_total</th>\n",
       "    </tr>\n",
       "  </thead>\n",
       "  <tbody>\n",
       "    <tr>\n",
       "      <th>dti</th>\n",
       "      <td>1.000000</td>\n",
       "      <td>0.038095</td>\n",
       "    </tr>\n",
       "    <tr>\n",
       "      <th>loan_total</th>\n",
       "      <td>0.038095</td>\n",
       "      <td>1.000000</td>\n",
       "    </tr>\n",
       "  </tbody>\n",
       "</table>\n",
       "</div>"
      ],
      "text/plain": [
       "                 dti  loan_total\n",
       "dti         1.000000    0.038095\n",
       "loan_total  0.038095    1.000000"
      ]
     },
     "execution_count": 26,
     "metadata": {},
     "output_type": "execute_result"
    }
   ],
   "source": [
    "df[['dti', 'loan_total']].corr(method='spearman')"
   ]
  },
  {
   "cell_type": "code",
   "execution_count": 27,
   "metadata": {},
   "outputs": [
    {
     "data": {
      "text/plain": [
       "<AxesSubplot:xlabel='dti', ylabel='loan_total'>"
      ]
     },
     "execution_count": 27,
     "metadata": {},
     "output_type": "execute_result"
    },
    {
     "data": {
      "image/png": "[encoded data removed]",
      "text/plain": [
       "<Figure size 432x288 with 1 Axes>"
      ]
     },
     "metadata": {
      "needs_background": "light"
     },
     "output_type": "display_data"
    }
   ],
   "source": [
    "sns.regplot(x='dti', y='loan_total', data=df)"
   ]
  },
  {
   "cell_type": "code",
   "execution_count": null,
   "metadata": {},
   "outputs": [],
   "source": []
  }
 ],
 "metadata": {
  "kernelspec": {
   "display_name": "Python 3",
   "language": "python",
   "name": "python3"
  },
  "language_info": {
   "codemirror_mode": {
    "name": "ipython",
    "version": 3
   },
   "file_extension": ".py",
   "mimetype": "text/x-python",
   "name": "python",
   "nbconvert_exporter": "python",
   "pygments_lexer": "ipython3",
   "version": "3.7.9"
  }
 },
 "nbformat": 4,
 "nbformat_minor": 4
}
