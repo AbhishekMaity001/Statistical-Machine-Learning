{
 "cells": [
  {
   "cell_type": "markdown",
   "metadata": {},
   "source": [
    "# Non Linear Data.. Polynomial Regression"
   ]
  },
  {
   "cell_type": "code",
   "execution_count": 1,
   "metadata": {},
   "outputs": [],
   "source": [
    "import numpy as np\n",
    "import pandas as pd\n",
    "import seaborn as sns\n",
    "import matplotlib.pyplot as plt\n",
    "%matplotlib inline"
   ]
  },
  {
   "cell_type": "code",
   "execution_count": 2,
   "metadata": {},
   "outputs": [
    {
     "data": {
      "text/html": [
       "<div>\n",
       "<style scoped>\n",
       "    .dataframe tbody tr th:only-of-type {\n",
       "        vertical-align: middle;\n",
       "    }\n",
       "\n",
       "    .dataframe tbody tr th {\n",
       "        vertical-align: top;\n",
       "    }\n",
       "\n",
       "    .dataframe thead th {\n",
       "        text-align: right;\n",
       "    }\n",
       "</style>\n",
       "<table border=\"1\" class=\"dataframe\">\n",
       "  <thead>\n",
       "    <tr style=\"text-align: right;\">\n",
       "      <th></th>\n",
       "      <th>fico_score</th>\n",
       "      <th>loan_total</th>\n",
       "      <th>default_total</th>\n",
       "      <th>dti</th>\n",
       "      <th>avg_loan_amnt</th>\n",
       "      <th>median_annual_inc</th>\n",
       "      <th>avg_annual_inc</th>\n",
       "      <th>int_rate</th>\n",
       "      <th>default_rate</th>\n",
       "      <th>actual_default_rate</th>\n",
       "    </tr>\n",
       "  </thead>\n",
       "  <tbody>\n",
       "    <tr>\n",
       "      <th>0</th>\n",
       "      <td>500</td>\n",
       "      <td>3385</td>\n",
       "      <td>2997</td>\n",
       "      <td>19.728762</td>\n",
       "      <td>13692.311669</td>\n",
       "      <td>63511.205814</td>\n",
       "      <td>63511.205814</td>\n",
       "      <td>15.341982</td>\n",
       "      <td>2.472589</td>\n",
       "      <td>0.524415</td>\n",
       "    </tr>\n",
       "    <tr>\n",
       "      <th>1</th>\n",
       "      <td>510</td>\n",
       "      <td>7745</td>\n",
       "      <td>6767</td>\n",
       "      <td>19.749380</td>\n",
       "      <td>13861.323434</td>\n",
       "      <td>65471.300058</td>\n",
       "      <td>65471.300058</td>\n",
       "      <td>15.439957</td>\n",
       "      <td>5.582919</td>\n",
       "      <td>1.184089</td>\n",
       "    </tr>\n",
       "    <tr>\n",
       "      <th>2</th>\n",
       "      <td>520</td>\n",
       "      <td>9168</td>\n",
       "      <td>7813</td>\n",
       "      <td>20.052651</td>\n",
       "      <td>14199.157395</td>\n",
       "      <td>68391.296443</td>\n",
       "      <td>68391.296443</td>\n",
       "      <td>15.331814</td>\n",
       "      <td>6.445891</td>\n",
       "      <td>1.367118</td>\n",
       "    </tr>\n",
       "    <tr>\n",
       "      <th>3</th>\n",
       "      <td>530</td>\n",
       "      <td>10323</td>\n",
       "      <td>8672</td>\n",
       "      <td>20.223831</td>\n",
       "      <td>14501.266589</td>\n",
       "      <td>69136.251070</td>\n",
       "      <td>69136.251070</td>\n",
       "      <td>15.457357</td>\n",
       "      <td>7.154584</td>\n",
       "      <td>1.517426</td>\n",
       "    </tr>\n",
       "    <tr>\n",
       "      <th>4</th>\n",
       "      <td>540</td>\n",
       "      <td>11562</td>\n",
       "      <td>9475</td>\n",
       "      <td>20.730541</td>\n",
       "      <td>14782.768985</td>\n",
       "      <td>70258.732958</td>\n",
       "      <td>70258.732958</td>\n",
       "      <td>15.273070</td>\n",
       "      <td>7.817076</td>\n",
       "      <td>1.657935</td>\n",
       "    </tr>\n",
       "  </tbody>\n",
       "</table>\n",
       "</div>"
      ],
      "text/plain": [
       "   fico_score  loan_total  default_total        dti  avg_loan_amnt  \\\n",
       "0         500        3385           2997  19.728762   13692.311669   \n",
       "1         510        7745           6767  19.749380   13861.323434   \n",
       "2         520        9168           7813  20.052651   14199.157395   \n",
       "3         530       10323           8672  20.223831   14501.266589   \n",
       "4         540       11562           9475  20.730541   14782.768985   \n",
       "\n",
       "   median_annual_inc  avg_annual_inc   int_rate  default_rate  \\\n",
       "0       63511.205814    63511.205814  15.341982      2.472589   \n",
       "1       65471.300058    65471.300058  15.439957      5.582919   \n",
       "2       68391.296443    68391.296443  15.331814      6.445891   \n",
       "3       69136.251070    69136.251070  15.457357      7.154584   \n",
       "4       70258.732958    70258.732958  15.273070      7.817076   \n",
       "\n",
       "   actual_default_rate  \n",
       "0             0.524415  \n",
       "1             1.184089  \n",
       "2             1.367118  \n",
       "3             1.517426  \n",
       "4             1.657935  "
      ]
     },
     "execution_count": 2,
     "metadata": {},
     "output_type": "execute_result"
    }
   ],
   "source": [
    "df = pd.read_csv('loan_analysis_summary.csv')\n",
    "df.head()"
   ]
  },
  {
   "cell_type": "code",
   "execution_count": 7,
   "metadata": {},
   "outputs": [
    {
     "data": {
      "text/html": [
       "<div>\n",
       "<style scoped>\n",
       "    .dataframe tbody tr th:only-of-type {\n",
       "        vertical-align: middle;\n",
       "    }\n",
       "\n",
       "    .dataframe tbody tr th {\n",
       "        vertical-align: top;\n",
       "    }\n",
       "\n",
       "    .dataframe thead th {\n",
       "        text-align: right;\n",
       "    }\n",
       "</style>\n",
       "<table border=\"1\" class=\"dataframe\">\n",
       "  <thead>\n",
       "    <tr style=\"text-align: right;\">\n",
       "      <th></th>\n",
       "      <th>fico_score</th>\n",
       "      <th>loan_total</th>\n",
       "    </tr>\n",
       "  </thead>\n",
       "  <tbody>\n",
       "    <tr>\n",
       "      <th>fico_score</th>\n",
       "      <td>1.000000</td>\n",
       "      <td>0.035779</td>\n",
       "    </tr>\n",
       "    <tr>\n",
       "      <th>loan_total</th>\n",
       "      <td>0.035779</td>\n",
       "      <td>1.000000</td>\n",
       "    </tr>\n",
       "  </tbody>\n",
       "</table>\n",
       "</div>"
      ],
      "text/plain": [
       "            fico_score  loan_total\n",
       "fico_score    1.000000    0.035779\n",
       "loan_total    0.035779    1.000000"
      ]
     },
     "execution_count": 7,
     "metadata": {},
     "output_type": "execute_result"
    }
   ],
   "source": [
    "df[['fico_score', 'loan_total']].corr('spearman')\n",
    "\n",
    "# SPEARMAN CORR IS BETTER TO USE IF THERE IS A MONOTONIC RELATIONSHIP OR A ORDINAL ...\n",
    "# HERE THERE IS NO RELATIONSHIP BECAUSE IT IS NEARER TO 0"
   ]
  },
  {
   "cell_type": "code",
   "execution_count": 8,
   "metadata": {},
   "outputs": [
    {
     "data": {
      "text/plain": [
       "<AxesSubplot:xlabel='fico_score', ylabel='loan_total'>"
      ]
     },
     "execution_count": 8,
     "metadata": {},
     "output_type": "execute_result"
    },
    {
     "data": {
      "image/png": "[encoded data removed]",
      "text/plain": [
       "<Figure size 432x288 with 1 Axes>"
      ]
     },
     "metadata": {
      "needs_background": "light"
     },
     "output_type": "display_data"
    }
   ],
   "source": [
    "sns.regplot(x='fico_score', y='loan_total', data=df)"
   ]
  },
  {
   "cell_type": "markdown",
   "metadata": {},
   "source": [
    "<img src=\"PolynomialFunctionsGraph.png\">"
   ]
  },
  {
   "cell_type": "markdown",
   "metadata": {},
   "source": [
    "## Just calculate the number of bends in the graph then just add +1 to it... to obtain the degree of polynomial"
   ]
  },
  {
   "cell_type": "code",
   "execution_count": 29,
   "metadata": {},
   "outputs": [
    {
     "data": {
      "image/png": "[encoded data removed]",
      "text/plain": [
       "<Figure size 432x288 with 1 Axes>"
      ]
     },
     "metadata": {
      "needs_background": "light"
     },
     "output_type": "display_data"
    }
   ],
   "source": [
    "coeff = np.poly1d(np.polyfit(df['fico_score'], df['loan_total'], 5))\n",
    "t = df['fico_score']\n",
    "plt.plot(df['fico_score'], df['loan_total'], 'o', t, coeff(t), '-')\n",
    "plt.show()"
   ]
  },
  {
   "cell_type": "code",
   "execution_count": 27,
   "metadata": {},
   "outputs": [
    {
     "data": {
      "text/plain": [
       "poly1d([ 5.61143271e-07, -1.86329755e-03,  2.44936735e+00, -1.59365961e+03,\n",
       "        5.13453697e+05, -6.55586516e+07])"
      ]
     },
     "execution_count": 27,
     "metadata": {},
     "output_type": "execute_result"
    }
   ],
   "source": [
    "coeff"
   ]
  },
  {
   "cell_type": "markdown",
   "metadata": {},
   "source": [
    "## Now visualizing \"dti\" vs \"loan_total\""
   ]
  },
  {
   "cell_type": "code",
   "execution_count": 30,
   "metadata": {},
   "outputs": [
    {
     "data": {
      "text/html": [
       "<div>\n",
       "<style scoped>\n",
       "    .dataframe tbody tr th:only-of-type {\n",
       "        vertical-align: middle;\n",
       "    }\n",
       "\n",
       "    .dataframe tbody tr th {\n",
       "        vertical-align: top;\n",
       "    }\n",
       "\n",
       "    .dataframe thead th {\n",
       "        text-align: right;\n",
       "    }\n",
       "</style>\n",
       "<table border=\"1\" class=\"dataframe\">\n",
       "  <thead>\n",
       "    <tr style=\"text-align: right;\">\n",
       "      <th></th>\n",
       "      <th>dti</th>\n",
       "      <th>loan_total</th>\n",
       "    </tr>\n",
       "  </thead>\n",
       "  <tbody>\n",
       "    <tr>\n",
       "      <th>dti</th>\n",
       "      <td>1.000000</td>\n",
       "      <td>0.038095</td>\n",
       "    </tr>\n",
       "    <tr>\n",
       "      <th>loan_total</th>\n",
       "      <td>0.038095</td>\n",
       "      <td>1.000000</td>\n",
       "    </tr>\n",
       "  </tbody>\n",
       "</table>\n",
       "</div>"
      ],
      "text/plain": [
       "                 dti  loan_total\n",
       "dti         1.000000    0.038095\n",
       "loan_total  0.038095    1.000000"
      ]
     },
     "execution_count": 30,
     "metadata": {},
     "output_type": "execute_result"
    }
   ],
   "source": [
    "df[['dti', 'loan_total']].corr('spearman')"
   ]
  },
  {
   "cell_type": "code",
   "execution_count": 31,
   "metadata": {},
   "outputs": [
    {
     "data": {
      "text/plain": [
       "<AxesSubplot:xlabel='dti', ylabel='loan_total'>"
      ]
     },
     "execution_count": 31,
     "metadata": {},
     "output_type": "execute_result"
    },
    {
     "data": {
      "image/png": "[encoded data removed]",
      "text/plain": [
       "<Figure size 432x288 with 1 Axes>"
      ]
     },
     "metadata": {
      "needs_background": "light"
     },
     "output_type": "display_data"
    }
   ],
   "source": [
    "sns.regplot(x='dti', y='loan_total', data=df)"
   ]
  },
  {
   "cell_type": "code",
   "execution_count": 40,
   "metadata": {},
   "outputs": [
    {
     "data": {
      "image/png": "[encoded data removed]",
      "text/plain": [
       "<Figure size 432x288 with 1 Axes>"
      ]
     },
     "metadata": {
      "needs_background": "light"
     },
     "output_type": "display_data"
    }
   ],
   "source": [
    "coeff = np.poly1d(np.polyfit(df['dti'], df['loan_total'], 4))\n",
    "t = df['dti']\n",
    "plt.plot(df['dti'], df['loan_total'], 'o', t, coeff(t), '-')\n",
    "plt.show()"
   ]
  },
  {
   "cell_type": "code",
   "execution_count": 39,
   "metadata": {},
   "outputs": [],
   "source": [
    "from sklearn.preprocessing import PolynomialFeatures\n",
    "from sklearn.linear_model import LinearRegression"
   ]
  },
  {
   "cell_type": "code",
   "execution_count": 46,
   "metadata": {},
   "outputs": [],
   "source": [
    "polynomial_features = PolynomialFeatures(degree=4)\n",
    "x_poly = polynomial_features.fit_transform(df[['dti']])"
   ]
  },
  {
   "cell_type": "code",
   "execution_count": 48,
   "metadata": {},
   "outputs": [
    {
     "data": {
      "text/plain": [
       "LinearRegression()"
      ]
     },
     "execution_count": 48,
     "metadata": {},
     "output_type": "execute_result"
    }
   ],
   "source": [
    "model = LinearRegression()\n",
    "model.fit(x_poly, df['loan_total'])"
   ]
  },
  {
   "cell_type": "code",
   "execution_count": 49,
   "metadata": {},
   "outputs": [],
   "source": [
    "y_pred=model.predict(x_poly)"
   ]
  },
  {
   "cell_type": "code",
   "execution_count": 50,
   "metadata": {},
   "outputs": [
    {
     "data": {
      "text/plain": [
       "(array([ 0.00000000e+00, -1.40452079e+07,  1.17638860e+06, -4.34877861e+04,\n",
       "         5.98888215e+02]),\n",
       " 62442082.11878889)"
      ]
     },
     "execution_count": 50,
     "metadata": {},
     "output_type": "execute_result"
    }
   ],
   "source": [
    "model.coef_, model.intercept_"
   ]
  },
  {
   "cell_type": "code",
   "execution_count": 51,
   "metadata": {},
   "outputs": [
    {
     "data": {
      "text/plain": [
       "[<matplotlib.lines.Line2D at 0x196320744c8>]"
      ]
     },
     "execution_count": 51,
     "metadata": {},
     "output_type": "execute_result"
    },
    {
     "data": {
      "image/png": "[encoded data removed]",
      "text/plain": [
       "<Figure size 432x288 with 1 Axes>"
      ]
     },
     "metadata": {
      "needs_background": "light"
     },
     "output_type": "display_data"
    }
   ],
   "source": [
    "plt.scatter(df['dti'], df['loan_total'], color='black')\n",
    "plt.plot(df['dti'], y_pred, color='blue', linewidth=3)"
   ]
  },
  {
   "cell_type": "code",
   "execution_count": 52,
   "metadata": {},
   "outputs": [],
   "source": [
    "from sklearn.linear_model import Ridge\n",
    "from sklearn.pipeline import make_pipeline"
   ]
  },
  {
   "cell_type": "code",
   "execution_count": 56,
   "metadata": {},
   "outputs": [
    {
     "data": {
      "image/png": "[encoded data removed]",
      "text/plain": [
       "<Figure size 432x288 with 1 Axes>"
      ]
     },
     "metadata": {
      "needs_background": "light"
     },
     "output_type": "display_data"
    }
   ],
   "source": [
    "plt.scatter(df['dti'], df['loan_total'], color='navy', s=30, marker='o', label='training points')\n",
    "\n",
    "colors = ['teal', 'yellowgreen', 'gold']\n",
    "lw=2\n",
    "\n",
    "for count, degree in enumerate([2,3,4]):\n",
    "    model = make_pipeline(PolynomialFeatures(degree), Ridge())\n",
    "    model.fit(df[['dti']], df['loan_total'])\n",
    "    y_plot = model.predict(df[['dti']])\n",
    "    plt.plot(df['dti'], y_plot, color=colors[count], linewidth=lw, label=\"degree %d\"%degree)\n",
    "    "
   ]
  },
  {
   "cell_type": "code",
   "execution_count": null,
   "metadata": {},
   "outputs": [],
   "source": []
  }
 ],
 "metadata": {
  "kernelspec": {
   "display_name": "Python 3",
   "language": "python",
   "name": "python3"
  },
  "language_info": {
   "codemirror_mode": {
    "name": "ipython",
    "version": 3
   },
   "file_extension": ".py",
   "mimetype": "text/x-python",
   "name": "python",
   "nbconvert_exporter": "python",
   "pygments_lexer": "ipython3",
   "version": "3.7.9"
  }
 },
 "nbformat": 4,
 "nbformat_minor": 4
}
