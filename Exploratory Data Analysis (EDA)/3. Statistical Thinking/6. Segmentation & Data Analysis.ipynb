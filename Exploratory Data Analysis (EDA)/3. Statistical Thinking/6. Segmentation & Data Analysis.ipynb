{
 "cells": [
  {
   "cell_type": "markdown",
   "metadata": {},
   "source": [
    "# Data Segmentation and Analysis"
   ]
  },
  {
   "cell_type": "code",
   "execution_count": 1,
   "metadata": {},
   "outputs": [],
   "source": [
    "import numpy as np\n",
    "import pandas as pd\n",
    "import seaborn as sns\n",
    "import matplotlib.pyplot as plt\n",
    "%matplotlib inline"
   ]
  },
  {
   "cell_type": "code",
   "execution_count": 4,
   "metadata": {},
   "outputs": [],
   "source": [
    "pd.set_option('display.max_columns', None)"
   ]
  },
  {
   "cell_type": "code",
   "execution_count": 5,
   "metadata": {},
   "outputs": [
    {
     "name": "stderr",
     "output_type": "stream",
     "text": [
      "d:\\anacondafiles\\envs\\deeplearning\\lib\\site-packages\\IPython\\core\\interactiveshell.py:3147: DtypeWarning: Columns (0) have mixed types.Specify dtype option on import or set low_memory=False.\n",
      "  interactivity=interactivity, compiler=compiler, result=result)\n"
     ]
    },
    {
     "data": {
      "text/html": [
       "<div>\n",
       "<style scoped>\n",
       "    .dataframe tbody tr th:only-of-type {\n",
       "        vertical-align: middle;\n",
       "    }\n",
       "\n",
       "    .dataframe tbody tr th {\n",
       "        vertical-align: top;\n",
       "    }\n",
       "\n",
       "    .dataframe thead th {\n",
       "        text-align: right;\n",
       "    }\n",
       "</style>\n",
       "<table border=\"1\" class=\"dataframe\">\n",
       "  <thead>\n",
       "    <tr style=\"text-align: right;\">\n",
       "      <th></th>\n",
       "      <th>id</th>\n",
       "      <th>loan_amnt</th>\n",
       "      <th>int_rate</th>\n",
       "      <th>installment</th>\n",
       "      <th>grade</th>\n",
       "      <th>emp_title</th>\n",
       "      <th>home_ownership</th>\n",
       "      <th>annual_inc</th>\n",
       "      <th>loan_status</th>\n",
       "      <th>purpose</th>\n",
       "      <th>title</th>\n",
       "      <th>dti</th>\n",
       "      <th>delinq_2yrs</th>\n",
       "      <th>fico_range_low</th>\n",
       "      <th>fico_range_high</th>\n",
       "      <th>inq_last_6mths</th>\n",
       "      <th>mths_since_last_delinq</th>\n",
       "      <th>revol_bal</th>\n",
       "      <th>initial_list_status</th>\n",
       "      <th>out_prncp</th>\n",
       "      <th>last_fico_range_high</th>\n",
       "      <th>last_fico_range_low</th>\n",
       "      <th>application_type</th>\n",
       "      <th>annual_inc_joint</th>\n",
       "      <th>dti_joint</th>\n",
       "    </tr>\n",
       "  </thead>\n",
       "  <tbody>\n",
       "    <tr>\n",
       "      <th>0</th>\n",
       "      <td>68407277</td>\n",
       "      <td>3600.0</td>\n",
       "      <td>13.99</td>\n",
       "      <td>123.03</td>\n",
       "      <td>C</td>\n",
       "      <td>leadman</td>\n",
       "      <td>MORTGAGE</td>\n",
       "      <td>55000.0</td>\n",
       "      <td>Fully Paid</td>\n",
       "      <td>debt_consolidation</td>\n",
       "      <td>Debt consolidation</td>\n",
       "      <td>5.91</td>\n",
       "      <td>0.0</td>\n",
       "      <td>675.0</td>\n",
       "      <td>679.0</td>\n",
       "      <td>1.0</td>\n",
       "      <td>30.0</td>\n",
       "      <td>2765.0</td>\n",
       "      <td>w</td>\n",
       "      <td>0.00</td>\n",
       "      <td>564.0</td>\n",
       "      <td>560.0</td>\n",
       "      <td>Individual</td>\n",
       "      <td>NaN</td>\n",
       "      <td>NaN</td>\n",
       "    </tr>\n",
       "    <tr>\n",
       "      <th>1</th>\n",
       "      <td>68355089</td>\n",
       "      <td>24700.0</td>\n",
       "      <td>11.99</td>\n",
       "      <td>820.28</td>\n",
       "      <td>C</td>\n",
       "      <td>Engineer</td>\n",
       "      <td>MORTGAGE</td>\n",
       "      <td>65000.0</td>\n",
       "      <td>Fully Paid</td>\n",
       "      <td>small_business</td>\n",
       "      <td>Business</td>\n",
       "      <td>16.06</td>\n",
       "      <td>1.0</td>\n",
       "      <td>715.0</td>\n",
       "      <td>719.0</td>\n",
       "      <td>4.0</td>\n",
       "      <td>6.0</td>\n",
       "      <td>21470.0</td>\n",
       "      <td>w</td>\n",
       "      <td>0.00</td>\n",
       "      <td>699.0</td>\n",
       "      <td>695.0</td>\n",
       "      <td>Individual</td>\n",
       "      <td>NaN</td>\n",
       "      <td>NaN</td>\n",
       "    </tr>\n",
       "    <tr>\n",
       "      <th>2</th>\n",
       "      <td>68341763</td>\n",
       "      <td>20000.0</td>\n",
       "      <td>10.78</td>\n",
       "      <td>432.66</td>\n",
       "      <td>B</td>\n",
       "      <td>truck driver</td>\n",
       "      <td>MORTGAGE</td>\n",
       "      <td>63000.0</td>\n",
       "      <td>Fully Paid</td>\n",
       "      <td>home_improvement</td>\n",
       "      <td>NaN</td>\n",
       "      <td>10.78</td>\n",
       "      <td>0.0</td>\n",
       "      <td>695.0</td>\n",
       "      <td>699.0</td>\n",
       "      <td>0.0</td>\n",
       "      <td>NaN</td>\n",
       "      <td>7869.0</td>\n",
       "      <td>w</td>\n",
       "      <td>0.00</td>\n",
       "      <td>704.0</td>\n",
       "      <td>700.0</td>\n",
       "      <td>Joint App</td>\n",
       "      <td>71000.0</td>\n",
       "      <td>13.85</td>\n",
       "    </tr>\n",
       "    <tr>\n",
       "      <th>3</th>\n",
       "      <td>66310712</td>\n",
       "      <td>35000.0</td>\n",
       "      <td>14.85</td>\n",
       "      <td>829.90</td>\n",
       "      <td>C</td>\n",
       "      <td>Information Systems Officer</td>\n",
       "      <td>MORTGAGE</td>\n",
       "      <td>110000.0</td>\n",
       "      <td>Current</td>\n",
       "      <td>debt_consolidation</td>\n",
       "      <td>Debt consolidation</td>\n",
       "      <td>17.06</td>\n",
       "      <td>0.0</td>\n",
       "      <td>785.0</td>\n",
       "      <td>789.0</td>\n",
       "      <td>0.0</td>\n",
       "      <td>NaN</td>\n",
       "      <td>7802.0</td>\n",
       "      <td>w</td>\n",
       "      <td>15897.65</td>\n",
       "      <td>679.0</td>\n",
       "      <td>675.0</td>\n",
       "      <td>Individual</td>\n",
       "      <td>NaN</td>\n",
       "      <td>NaN</td>\n",
       "    </tr>\n",
       "    <tr>\n",
       "      <th>4</th>\n",
       "      <td>68476807</td>\n",
       "      <td>10400.0</td>\n",
       "      <td>22.45</td>\n",
       "      <td>289.91</td>\n",
       "      <td>F</td>\n",
       "      <td>Contract Specialist</td>\n",
       "      <td>MORTGAGE</td>\n",
       "      <td>104433.0</td>\n",
       "      <td>Fully Paid</td>\n",
       "      <td>major_purchase</td>\n",
       "      <td>Major purchase</td>\n",
       "      <td>25.37</td>\n",
       "      <td>1.0</td>\n",
       "      <td>695.0</td>\n",
       "      <td>699.0</td>\n",
       "      <td>3.0</td>\n",
       "      <td>12.0</td>\n",
       "      <td>21929.0</td>\n",
       "      <td>w</td>\n",
       "      <td>0.00</td>\n",
       "      <td>704.0</td>\n",
       "      <td>700.0</td>\n",
       "      <td>Individual</td>\n",
       "      <td>NaN</td>\n",
       "      <td>NaN</td>\n",
       "    </tr>\n",
       "  </tbody>\n",
       "</table>\n",
       "</div>"
      ],
      "text/plain": [
       "         id  loan_amnt  int_rate  installment grade  \\\n",
       "0  68407277     3600.0     13.99       123.03     C   \n",
       "1  68355089    24700.0     11.99       820.28     C   \n",
       "2  68341763    20000.0     10.78       432.66     B   \n",
       "3  66310712    35000.0     14.85       829.90     C   \n",
       "4  68476807    10400.0     22.45       289.91     F   \n",
       "\n",
       "                     emp_title home_ownership  annual_inc loan_status  \\\n",
       "0                      leadman       MORTGAGE     55000.0  Fully Paid   \n",
       "1                     Engineer       MORTGAGE     65000.0  Fully Paid   \n",
       "2                 truck driver       MORTGAGE     63000.0  Fully Paid   \n",
       "3  Information Systems Officer       MORTGAGE    110000.0     Current   \n",
       "4          Contract Specialist       MORTGAGE    104433.0  Fully Paid   \n",
       "\n",
       "              purpose               title    dti  delinq_2yrs  fico_range_low  \\\n",
       "0  debt_consolidation  Debt consolidation   5.91          0.0           675.0   \n",
       "1      small_business            Business  16.06          1.0           715.0   \n",
       "2    home_improvement                 NaN  10.78          0.0           695.0   \n",
       "3  debt_consolidation  Debt consolidation  17.06          0.0           785.0   \n",
       "4      major_purchase      Major purchase  25.37          1.0           695.0   \n",
       "\n",
       "   fico_range_high  inq_last_6mths  mths_since_last_delinq  revol_bal  \\\n",
       "0            679.0             1.0                    30.0     2765.0   \n",
       "1            719.0             4.0                     6.0    21470.0   \n",
       "2            699.0             0.0                     NaN     7869.0   \n",
       "3            789.0             0.0                     NaN     7802.0   \n",
       "4            699.0             3.0                    12.0    21929.0   \n",
       "\n",
       "  initial_list_status  out_prncp  last_fico_range_high  last_fico_range_low  \\\n",
       "0                   w       0.00                 564.0                560.0   \n",
       "1                   w       0.00                 699.0                695.0   \n",
       "2                   w       0.00                 704.0                700.0   \n",
       "3                   w   15897.65                 679.0                675.0   \n",
       "4                   w       0.00                 704.0                700.0   \n",
       "\n",
       "  application_type  annual_inc_joint  dti_joint  \n",
       "0       Individual               NaN        NaN  \n",
       "1       Individual               NaN        NaN  \n",
       "2        Joint App           71000.0      13.85  \n",
       "3       Individual               NaN        NaN  \n",
       "4       Individual               NaN        NaN  "
      ]
     },
     "execution_count": 5,
     "metadata": {},
     "output_type": "execute_result"
    }
   ],
   "source": [
    "df = pd.read_csv('loan_analysis.csv')\n",
    "df.head()"
   ]
  },
  {
   "cell_type": "code",
   "execution_count": 6,
   "metadata": {},
   "outputs": [
    {
     "data": {
      "text/plain": [
       "(2260701, 25)"
      ]
     },
     "execution_count": 6,
     "metadata": {},
     "output_type": "execute_result"
    }
   ],
   "source": [
    "df.shape"
   ]
  },
  {
   "cell_type": "code",
   "execution_count": 7,
   "metadata": {},
   "outputs": [
    {
     "data": {
      "text/plain": [
       "Fully Paid                                             1076751\n",
       "Current                                                 878317\n",
       "Charged Off                                             268559\n",
       "Late (31-120 days)                                       21467\n",
       "In Grace Period                                           8436\n",
       "Late (16-30 days)                                         4349\n",
       "Does not meet the credit policy. Status:Fully Paid        1988\n",
       "Does not meet the credit policy. Status:Charged Off        761\n",
       "Default                                                     40\n",
       "Name: loan_status, dtype: int64"
      ]
     },
     "execution_count": 7,
     "metadata": {},
     "output_type": "execute_result"
    }
   ],
   "source": [
    "df['loan_status'].value_counts()"
   ]
  },
  {
   "cell_type": "code",
   "execution_count": 10,
   "metadata": {},
   "outputs": [
    {
     "name": "stderr",
     "output_type": "stream",
     "text": [
      "d:\\anacondafiles\\envs\\deeplearning\\lib\\site-packages\\ipykernel_launcher.py:3: SettingWithCopyWarning: \n",
      "A value is trying to be set on a copy of a slice from a DataFrame.\n",
      "Try using .loc[row_indexer,col_indexer] = value instead\n",
      "\n",
      "See the caveats in the documentation: https://pandas.pydata.org/pandas-docs/stable/user_guide/indexing.html#returning-a-view-versus-a-copy\n",
      "  This is separate from the ipykernel package so we can avoid doing imports until\n",
      "d:\\anacondafiles\\envs\\deeplearning\\lib\\site-packages\\ipykernel_launcher.py:4: SettingWithCopyWarning: \n",
      "A value is trying to be set on a copy of a slice from a DataFrame.\n",
      "Try using .loc[row_indexer,col_indexer] = value instead\n",
      "\n",
      "See the caveats in the documentation: https://pandas.pydata.org/pandas-docs/stable/user_guide/indexing.html#returning-a-view-versus-a-copy\n",
      "  after removing the cwd from sys.path.\n"
     ]
    }
   ],
   "source": [
    "loan_int_df = df[df['loan_status'].isin(['Charged Off', 'Default', 'Fully Paid'])]\n",
    "\n",
    "loan_int_df['loan_status']=loan_int_df['loan_status'].replace('Charged Off', 'Default')\n",
    "loan_int_df['loan_status']=loan_int_df['loan_status'].replace('Fully Paid', 'Good')"
   ]
  },
  {
   "cell_type": "code",
   "execution_count": 11,
   "metadata": {},
   "outputs": [
    {
     "data": {
      "text/plain": [
       "Good       1076751\n",
       "Default     268599\n",
       "Name: loan_status, dtype: int64"
      ]
     },
     "execution_count": 11,
     "metadata": {},
     "output_type": "execute_result"
    }
   ],
   "source": [
    "loan_int_df['loan_status'].value_counts()"
   ]
  },
  {
   "cell_type": "code",
   "execution_count": 12,
   "metadata": {},
   "outputs": [
    {
     "name": "stderr",
     "output_type": "stream",
     "text": [
      "d:\\anacondafiles\\envs\\deeplearning\\lib\\site-packages\\ipykernel_launcher.py:1: SettingWithCopyWarning: \n",
      "A value is trying to be set on a copy of a slice from a DataFrame.\n",
      "Try using .loc[row_indexer,col_indexer] = value instead\n",
      "\n",
      "See the caveats in the documentation: https://pandas.pydata.org/pandas-docs/stable/user_guide/indexing.html#returning-a-view-versus-a-copy\n",
      "  \"\"\"Entry point for launching an IPython kernel.\n"
     ]
    }
   ],
   "source": [
    "loan_int_df['last_fico_range_low'] = loan_int_df.apply(lambda x:x['fico_range_low'] if x['last_fico_range_low']==0.0 else x['last_fico_range_low'], axis=1)"
   ]
  },
  {
   "cell_type": "code",
   "execution_count": 13,
   "metadata": {},
   "outputs": [
    {
     "data": {
      "text/plain": [
       "500.0     7639\n",
       "505.0     8248\n",
       "510.0     9370\n",
       "515.0     9454\n",
       "520.0    10837\n",
       "         ...  \n",
       "825.0     3536\n",
       "830.0     2123\n",
       "835.0     1046\n",
       "840.0      570\n",
       "845.0      255\n",
       "Name: last_fico_range_low, Length: 70, dtype: int64"
      ]
     },
     "execution_count": 13,
     "metadata": {},
     "output_type": "execute_result"
    }
   ],
   "source": [
    "loan_int_df['last_fico_range_low'].value_counts().sort_index()"
   ]
  },
  {
   "cell_type": "code",
   "execution_count": 17,
   "metadata": {},
   "outputs": [
    {
     "data": {
      "text/plain": [
       "0          (499.655, 569.0]\n",
       "1            (638.0, 707.0]\n",
       "2            (638.0, 707.0]\n",
       "4            (638.0, 707.0]\n",
       "5            (707.0, 776.0]\n",
       "                 ...       \n",
       "2260688      (638.0, 707.0]\n",
       "2260690      (707.0, 776.0]\n",
       "2260691      (707.0, 776.0]\n",
       "2260692      (638.0, 707.0]\n",
       "2260697      (569.0, 638.0]\n",
       "Name: last_fico_range_low, Length: 1345350, dtype: category\n",
       "Categories (5, interval[float64]): [(499.655, 569.0] < (569.0, 638.0] < (638.0, 707.0] < (707.0, 776.0] < (776.0, 845.0]]"
      ]
     },
     "execution_count": 17,
     "metadata": {},
     "output_type": "execute_result"
    }
   ],
   "source": [
    "# IT WILL JUST DIVIDE THE \"last_fico_range_low\" INTO 5 BUCKETS \n",
    "\n",
    "pd.cut(loan_int_df['last_fico_range_low'], 5)"
   ]
  },
  {
   "cell_type": "code",
   "execution_count": 18,
   "metadata": {},
   "outputs": [
    {
     "name": "stderr",
     "output_type": "stream",
     "text": [
      "d:\\anacondafiles\\envs\\deeplearning\\lib\\site-packages\\ipykernel_launcher.py:1: SettingWithCopyWarning: \n",
      "A value is trying to be set on a copy of a slice from a DataFrame.\n",
      "Try using .loc[row_indexer,col_indexer] = value instead\n",
      "\n",
      "See the caveats in the documentation: https://pandas.pydata.org/pandas-docs/stable/user_guide/indexing.html#returning-a-view-versus-a-copy\n",
      "  \"\"\"Entry point for launching an IPython kernel.\n"
     ]
    },
    {
     "data": {
      "text/plain": [
       "Low Risk      486877\n",
       "Good          410367\n",
       "Risky         181890\n",
       "High Risky    159545\n",
       "Excellent     106671\n",
       "Name: fico_buckets, dtype: int64"
      ]
     },
     "execution_count": 18,
     "metadata": {},
     "output_type": "execute_result"
    }
   ],
   "source": [
    "loan_int_df['fico_buckets'] = pd.cut(loan_int_df['last_fico_range_low'], 5, labels=['High Risky', 'Risky', 'Low Risk', 'Good', 'Excellent'])\n",
    "loan_int_df['fico_buckets'].value_counts()"
   ]
  },
  {
   "cell_type": "code",
   "execution_count": 23,
   "metadata": {},
   "outputs": [
    {
     "data": {
      "text/html": [
       "<div>\n",
       "<style scoped>\n",
       "    .dataframe tbody tr th:only-of-type {\n",
       "        vertical-align: middle;\n",
       "    }\n",
       "\n",
       "    .dataframe tbody tr th {\n",
       "        vertical-align: top;\n",
       "    }\n",
       "\n",
       "    .dataframe thead th {\n",
       "        text-align: right;\n",
       "    }\n",
       "</style>\n",
       "<table border=\"1\" class=\"dataframe\">\n",
       "  <thead>\n",
       "    <tr style=\"text-align: right;\">\n",
       "      <th></th>\n",
       "      <th></th>\n",
       "      <th>fico_buckets</th>\n",
       "    </tr>\n",
       "    <tr>\n",
       "      <th>loan_status</th>\n",
       "      <th>fico_buckets</th>\n",
       "      <th></th>\n",
       "    </tr>\n",
       "  </thead>\n",
       "  <tbody>\n",
       "    <tr>\n",
       "      <th rowspan=\"5\" valign=\"top\">Default</th>\n",
       "      <th>High Risky</th>\n",
       "      <td>122531</td>\n",
       "    </tr>\n",
       "    <tr>\n",
       "      <th>Risky</th>\n",
       "      <td>87593</td>\n",
       "    </tr>\n",
       "    <tr>\n",
       "      <th>Low Risk</th>\n",
       "      <td>50275</td>\n",
       "    </tr>\n",
       "    <tr>\n",
       "      <th>Good</th>\n",
       "      <td>7447</td>\n",
       "    </tr>\n",
       "    <tr>\n",
       "      <th>Excellent</th>\n",
       "      <td>753</td>\n",
       "    </tr>\n",
       "    <tr>\n",
       "      <th rowspan=\"5\" valign=\"top\">Good</th>\n",
       "      <th>High Risky</th>\n",
       "      <td>37014</td>\n",
       "    </tr>\n",
       "    <tr>\n",
       "      <th>Risky</th>\n",
       "      <td>94297</td>\n",
       "    </tr>\n",
       "    <tr>\n",
       "      <th>Low Risk</th>\n",
       "      <td>436602</td>\n",
       "    </tr>\n",
       "    <tr>\n",
       "      <th>Good</th>\n",
       "      <td>402920</td>\n",
       "    </tr>\n",
       "    <tr>\n",
       "      <th>Excellent</th>\n",
       "      <td>105918</td>\n",
       "    </tr>\n",
       "  </tbody>\n",
       "</table>\n",
       "</div>"
      ],
      "text/plain": [
       "                          fico_buckets\n",
       "loan_status fico_buckets              \n",
       "Default     High Risky          122531\n",
       "            Risky                87593\n",
       "            Low Risk             50275\n",
       "            Good                  7447\n",
       "            Excellent              753\n",
       "Good        High Risky           37014\n",
       "            Risky                94297\n",
       "            Low Risk            436602\n",
       "            Good                402920\n",
       "            Excellent           105918"
      ]
     },
     "execution_count": 23,
     "metadata": {},
     "output_type": "execute_result"
    }
   ],
   "source": [
    "loan_status_df = loan_int_df[['loan_status', 'fico_buckets']].groupby(['loan_status', 'fico_buckets']).agg({'fico_buckets':'count'})\n",
    "loan_status_df"
   ]
  },
  {
   "cell_type": "code",
   "execution_count": 24,
   "metadata": {},
   "outputs": [
    {
     "data": {
      "text/html": [
       "<div>\n",
       "<style scoped>\n",
       "    .dataframe tbody tr th:only-of-type {\n",
       "        vertical-align: middle;\n",
       "    }\n",
       "\n",
       "    .dataframe tbody tr th {\n",
       "        vertical-align: top;\n",
       "    }\n",
       "\n",
       "    .dataframe thead th {\n",
       "        text-align: right;\n",
       "    }\n",
       "</style>\n",
       "<table border=\"1\" class=\"dataframe\">\n",
       "  <thead>\n",
       "    <tr style=\"text-align: right;\">\n",
       "      <th></th>\n",
       "      <th>loan_status</th>\n",
       "      <th>fico_buckets</th>\n",
       "      <th>count</th>\n",
       "    </tr>\n",
       "  </thead>\n",
       "  <tbody>\n",
       "    <tr>\n",
       "      <th>0</th>\n",
       "      <td>Default</td>\n",
       "      <td>High Risky</td>\n",
       "      <td>122531</td>\n",
       "    </tr>\n",
       "    <tr>\n",
       "      <th>1</th>\n",
       "      <td>Default</td>\n",
       "      <td>Risky</td>\n",
       "      <td>87593</td>\n",
       "    </tr>\n",
       "    <tr>\n",
       "      <th>2</th>\n",
       "      <td>Default</td>\n",
       "      <td>Low Risk</td>\n",
       "      <td>50275</td>\n",
       "    </tr>\n",
       "    <tr>\n",
       "      <th>3</th>\n",
       "      <td>Default</td>\n",
       "      <td>Good</td>\n",
       "      <td>7447</td>\n",
       "    </tr>\n",
       "    <tr>\n",
       "      <th>4</th>\n",
       "      <td>Default</td>\n",
       "      <td>Excellent</td>\n",
       "      <td>753</td>\n",
       "    </tr>\n",
       "    <tr>\n",
       "      <th>5</th>\n",
       "      <td>Good</td>\n",
       "      <td>High Risky</td>\n",
       "      <td>37014</td>\n",
       "    </tr>\n",
       "    <tr>\n",
       "      <th>6</th>\n",
       "      <td>Good</td>\n",
       "      <td>Risky</td>\n",
       "      <td>94297</td>\n",
       "    </tr>\n",
       "    <tr>\n",
       "      <th>7</th>\n",
       "      <td>Good</td>\n",
       "      <td>Low Risk</td>\n",
       "      <td>436602</td>\n",
       "    </tr>\n",
       "    <tr>\n",
       "      <th>8</th>\n",
       "      <td>Good</td>\n",
       "      <td>Good</td>\n",
       "      <td>402920</td>\n",
       "    </tr>\n",
       "    <tr>\n",
       "      <th>9</th>\n",
       "      <td>Good</td>\n",
       "      <td>Excellent</td>\n",
       "      <td>105918</td>\n",
       "    </tr>\n",
       "  </tbody>\n",
       "</table>\n",
       "</div>"
      ],
      "text/plain": [
       "  loan_status fico_buckets   count\n",
       "0     Default   High Risky  122531\n",
       "1     Default        Risky   87593\n",
       "2     Default     Low Risk   50275\n",
       "3     Default         Good    7447\n",
       "4     Default    Excellent     753\n",
       "5        Good   High Risky   37014\n",
       "6        Good        Risky   94297\n",
       "7        Good     Low Risk  436602\n",
       "8        Good         Good  402920\n",
       "9        Good    Excellent  105918"
      ]
     },
     "execution_count": 24,
     "metadata": {},
     "output_type": "execute_result"
    }
   ],
   "source": [
    "loan_status_df.rename({'fico_buckets':'count'}, axis='columns').reset_index()"
   ]
  },
  {
   "cell_type": "code",
   "execution_count": 27,
   "metadata": {},
   "outputs": [
    {
     "data": {
      "text/plain": [
       "<AxesSubplot:xlabel='fico_buckets', ylabel='count'>"
      ]
     },
     "execution_count": 27,
     "metadata": {},
     "output_type": "execute_result"
    },
    {
     "data": {
      "image/png": "[encoded data removed]",
      "text/plain": [
       "<Figure size 720x432 with 1 Axes>"
      ]
     },
     "metadata": {
      "needs_background": "light"
     },
     "output_type": "display_data"
    }
   ],
   "source": [
    "plt.figure(figsize=(10,6))\n",
    "sns.barplot(x='fico_buckets', y=\"count\", hue=\"loan_status\", data=loan_status_df.rename({'fico_buckets':'count'}, axis='columns').reset_index())"
   ]
  },
  {
   "cell_type": "code",
   "execution_count": 29,
   "metadata": {},
   "outputs": [
    {
     "data": {
      "text/plain": [
       "0          (13.98, 16.99]\n",
       "1          (11.53, 13.98]\n",
       "2            (8.9, 11.53]\n",
       "4          (16.99, 30.99]\n",
       "5          (11.53, 13.98]\n",
       "                ...      \n",
       "2260688      (8.9, 11.53]\n",
       "2260690    (13.98, 16.99]\n",
       "2260691    (13.98, 16.99]\n",
       "2260692    (11.53, 13.98]\n",
       "2260697    (13.98, 16.99]\n",
       "Name: int_rate, Length: 1345350, dtype: category\n",
       "Categories (5, interval[float64]): [(5.308999999999999, 8.9] < (8.9, 11.53] < (11.53, 13.98] < (13.98, 16.99] < (16.99, 30.99]]"
      ]
     },
     "execution_count": 29,
     "metadata": {},
     "output_type": "execute_result"
    }
   ],
   "source": [
    "pd.qcut(loan_int_df['int_rate'], 5) # Quantile Cut ...basically it takes the data distribution into account then divides "
   ]
  },
  {
   "cell_type": "code",
   "execution_count": 30,
   "metadata": {},
   "outputs": [
    {
     "name": "stderr",
     "output_type": "stream",
     "text": [
      "d:\\anacondafiles\\envs\\deeplearning\\lib\\site-packages\\ipykernel_launcher.py:1: SettingWithCopyWarning: \n",
      "A value is trying to be set on a copy of a slice from a DataFrame.\n",
      "Try using .loc[row_indexer,col_indexer] = value instead\n",
      "\n",
      "See the caveats in the documentation: https://pandas.pydata.org/pandas-docs/stable/user_guide/indexing.html#returning-a-view-versus-a-copy\n",
      "  \"\"\"Entry point for launching an IPython kernel.\n"
     ]
    }
   ],
   "source": [
    "loan_int_df['rate_buckets'] = pd.qcut(loan_int_df['int_rate'], 5, labels=['Low', 'Medium', 'High', 'Very High', 'Forget It'])"
   ]
  },
  {
   "cell_type": "code",
   "execution_count": 32,
   "metadata": {},
   "outputs": [
    {
     "data": {
      "text/plain": [
       "Very High    273139\n",
       "Medium       272760\n",
       "Low          271425\n",
       "Forget It    264015\n",
       "High         264011\n",
       "Name: rate_buckets, dtype: int64"
      ]
     },
     "execution_count": 32,
     "metadata": {},
     "output_type": "execute_result"
    }
   ],
   "source": [
    "loan_int_df['rate_buckets'].value_counts() # here the distribution is almost equal in all buckets bcoz of this quantile cut"
   ]
  },
  {
   "cell_type": "code",
   "execution_count": 35,
   "metadata": {},
   "outputs": [
    {
     "data": {
      "text/html": [
       "<div>\n",
       "<style scoped>\n",
       "    .dataframe tbody tr th:only-of-type {\n",
       "        vertical-align: middle;\n",
       "    }\n",
       "\n",
       "    .dataframe tbody tr th {\n",
       "        vertical-align: top;\n",
       "    }\n",
       "\n",
       "    .dataframe thead th {\n",
       "        text-align: right;\n",
       "    }\n",
       "</style>\n",
       "<table border=\"1\" class=\"dataframe\">\n",
       "  <thead>\n",
       "    <tr style=\"text-align: right;\">\n",
       "      <th></th>\n",
       "      <th></th>\n",
       "      <th>rate_buckets</th>\n",
       "    </tr>\n",
       "    <tr>\n",
       "      <th>loan_status</th>\n",
       "      <th>rate_buckets</th>\n",
       "      <th></th>\n",
       "    </tr>\n",
       "  </thead>\n",
       "  <tbody>\n",
       "    <tr>\n",
       "      <th rowspan=\"5\" valign=\"top\">Default</th>\n",
       "      <th>Low</th>\n",
       "      <td>18211</td>\n",
       "    </tr>\n",
       "    <tr>\n",
       "      <th>Medium</th>\n",
       "      <td>37629</td>\n",
       "    </tr>\n",
       "    <tr>\n",
       "      <th>High</th>\n",
       "      <td>49383</td>\n",
       "    </tr>\n",
       "    <tr>\n",
       "      <th>Very High</th>\n",
       "      <td>68582</td>\n",
       "    </tr>\n",
       "    <tr>\n",
       "      <th>Forget It</th>\n",
       "      <td>94794</td>\n",
       "    </tr>\n",
       "    <tr>\n",
       "      <th rowspan=\"5\" valign=\"top\">Good</th>\n",
       "      <th>Low</th>\n",
       "      <td>253214</td>\n",
       "    </tr>\n",
       "    <tr>\n",
       "      <th>Medium</th>\n",
       "      <td>235131</td>\n",
       "    </tr>\n",
       "    <tr>\n",
       "      <th>High</th>\n",
       "      <td>214628</td>\n",
       "    </tr>\n",
       "    <tr>\n",
       "      <th>Very High</th>\n",
       "      <td>204557</td>\n",
       "    </tr>\n",
       "    <tr>\n",
       "      <th>Forget It</th>\n",
       "      <td>169221</td>\n",
       "    </tr>\n",
       "  </tbody>\n",
       "</table>\n",
       "</div>"
      ],
      "text/plain": [
       "                          rate_buckets\n",
       "loan_status rate_buckets              \n",
       "Default     Low                  18211\n",
       "            Medium               37629\n",
       "            High                 49383\n",
       "            Very High            68582\n",
       "            Forget It            94794\n",
       "Good        Low                 253214\n",
       "            Medium              235131\n",
       "            High                214628\n",
       "            Very High           204557\n",
       "            Forget It           169221"
      ]
     },
     "execution_count": 35,
     "metadata": {},
     "output_type": "execute_result"
    }
   ],
   "source": [
    "loan_rate_df = loan_int_df[['loan_status', 'rate_buckets']].groupby(['loan_status', 'rate_buckets']).agg({'rate_buckets':'count'})\n",
    "loan_rate_df"
   ]
  },
  {
   "cell_type": "code",
   "execution_count": 39,
   "metadata": {},
   "outputs": [
    {
     "data": {
      "text/html": [
       "<div>\n",
       "<style scoped>\n",
       "    .dataframe tbody tr th:only-of-type {\n",
       "        vertical-align: middle;\n",
       "    }\n",
       "\n",
       "    .dataframe tbody tr th {\n",
       "        vertical-align: top;\n",
       "    }\n",
       "\n",
       "    .dataframe thead th {\n",
       "        text-align: right;\n",
       "    }\n",
       "</style>\n",
       "<table border=\"1\" class=\"dataframe\">\n",
       "  <thead>\n",
       "    <tr style=\"text-align: right;\">\n",
       "      <th></th>\n",
       "      <th>loan_status</th>\n",
       "      <th>rate_buckets</th>\n",
       "      <th>count</th>\n",
       "    </tr>\n",
       "  </thead>\n",
       "  <tbody>\n",
       "    <tr>\n",
       "      <th>0</th>\n",
       "      <td>Default</td>\n",
       "      <td>Low</td>\n",
       "      <td>18211</td>\n",
       "    </tr>\n",
       "    <tr>\n",
       "      <th>1</th>\n",
       "      <td>Default</td>\n",
       "      <td>Medium</td>\n",
       "      <td>37629</td>\n",
       "    </tr>\n",
       "    <tr>\n",
       "      <th>2</th>\n",
       "      <td>Default</td>\n",
       "      <td>High</td>\n",
       "      <td>49383</td>\n",
       "    </tr>\n",
       "    <tr>\n",
       "      <th>3</th>\n",
       "      <td>Default</td>\n",
       "      <td>Very High</td>\n",
       "      <td>68582</td>\n",
       "    </tr>\n",
       "    <tr>\n",
       "      <th>4</th>\n",
       "      <td>Default</td>\n",
       "      <td>Forget It</td>\n",
       "      <td>94794</td>\n",
       "    </tr>\n",
       "    <tr>\n",
       "      <th>5</th>\n",
       "      <td>Good</td>\n",
       "      <td>Low</td>\n",
       "      <td>253214</td>\n",
       "    </tr>\n",
       "    <tr>\n",
       "      <th>6</th>\n",
       "      <td>Good</td>\n",
       "      <td>Medium</td>\n",
       "      <td>235131</td>\n",
       "    </tr>\n",
       "    <tr>\n",
       "      <th>7</th>\n",
       "      <td>Good</td>\n",
       "      <td>High</td>\n",
       "      <td>214628</td>\n",
       "    </tr>\n",
       "    <tr>\n",
       "      <th>8</th>\n",
       "      <td>Good</td>\n",
       "      <td>Very High</td>\n",
       "      <td>204557</td>\n",
       "    </tr>\n",
       "    <tr>\n",
       "      <th>9</th>\n",
       "      <td>Good</td>\n",
       "      <td>Forget It</td>\n",
       "      <td>169221</td>\n",
       "    </tr>\n",
       "  </tbody>\n",
       "</table>\n",
       "</div>"
      ],
      "text/plain": [
       "  loan_status rate_buckets   count\n",
       "0     Default          Low   18211\n",
       "1     Default       Medium   37629\n",
       "2     Default         High   49383\n",
       "3     Default    Very High   68582\n",
       "4     Default    Forget It   94794\n",
       "5        Good          Low  253214\n",
       "6        Good       Medium  235131\n",
       "7        Good         High  214628\n",
       "8        Good    Very High  204557\n",
       "9        Good    Forget It  169221"
      ]
     },
     "execution_count": 39,
     "metadata": {},
     "output_type": "execute_result"
    }
   ],
   "source": [
    "loan_rate_df.rename({'rate_buckets' : 'count'}, axis=1).reset_index()"
   ]
  },
  {
   "cell_type": "code",
   "execution_count": 41,
   "metadata": {},
   "outputs": [
    {
     "data": {
      "text/plain": [
       "<AxesSubplot:xlabel='rate_buckets', ylabel='count'>"
      ]
     },
     "execution_count": 41,
     "metadata": {},
     "output_type": "execute_result"
    },
    {
     "data": {
      "image/png": "[encoded data removed]",
      "text/plain": [
       "<Figure size 720x432 with 1 Axes>"
      ]
     },
     "metadata": {
      "needs_background": "light"
     },
     "output_type": "display_data"
    }
   ],
   "source": [
    "plt.figure(figsize=(10,6))\n",
    "sns.barplot(x='rate_buckets', y='count', hue='loan_status', data=loan_rate_df.rename({'rate_buckets' : 'count'}, axis=1).reset_index())"
   ]
  },
  {
   "cell_type": "code",
   "execution_count": 42,
   "metadata": {},
   "outputs": [
    {
     "data": {
      "text/html": [
       "<div>\n",
       "<style scoped>\n",
       "    .dataframe tbody tr th:only-of-type {\n",
       "        vertical-align: middle;\n",
       "    }\n",
       "\n",
       "    .dataframe tbody tr th {\n",
       "        vertical-align: top;\n",
       "    }\n",
       "\n",
       "    .dataframe thead th {\n",
       "        text-align: right;\n",
       "    }\n",
       "</style>\n",
       "<table border=\"1\" class=\"dataframe\">\n",
       "  <thead>\n",
       "    <tr style=\"text-align: right;\">\n",
       "      <th></th>\n",
       "      <th></th>\n",
       "      <th>loan_status</th>\n",
       "    </tr>\n",
       "    <tr>\n",
       "      <th>fico_buckets</th>\n",
       "      <th>rate_buckets</th>\n",
       "      <th></th>\n",
       "    </tr>\n",
       "  </thead>\n",
       "  <tbody>\n",
       "    <tr>\n",
       "      <th rowspan=\"5\" valign=\"top\">High Risky</th>\n",
       "      <th>Low</th>\n",
       "      <td>10416</td>\n",
       "    </tr>\n",
       "    <tr>\n",
       "      <th>Medium</th>\n",
       "      <td>23026</td>\n",
       "    </tr>\n",
       "    <tr>\n",
       "      <th>High</th>\n",
       "      <td>31397</td>\n",
       "    </tr>\n",
       "    <tr>\n",
       "      <th>Very High</th>\n",
       "      <td>41805</td>\n",
       "    </tr>\n",
       "    <tr>\n",
       "      <th>Forget It</th>\n",
       "      <td>52901</td>\n",
       "    </tr>\n",
       "    <tr>\n",
       "      <th rowspan=\"5\" valign=\"top\">Risky</th>\n",
       "      <th>Low</th>\n",
       "      <td>15862</td>\n",
       "    </tr>\n",
       "    <tr>\n",
       "      <th>Medium</th>\n",
       "      <td>28950</td>\n",
       "    </tr>\n",
       "    <tr>\n",
       "      <th>High</th>\n",
       "      <td>37684</td>\n",
       "    </tr>\n",
       "    <tr>\n",
       "      <th>Very High</th>\n",
       "      <td>45843</td>\n",
       "    </tr>\n",
       "    <tr>\n",
       "      <th>Forget It</th>\n",
       "      <td>53551</td>\n",
       "    </tr>\n",
       "    <tr>\n",
       "      <th rowspan=\"5\" valign=\"top\">Low Risk</th>\n",
       "      <th>Low</th>\n",
       "      <td>68116</td>\n",
       "    </tr>\n",
       "    <tr>\n",
       "      <th>Medium</th>\n",
       "      <td>101195</td>\n",
       "    </tr>\n",
       "    <tr>\n",
       "      <th>High</th>\n",
       "      <td>103708</td>\n",
       "    </tr>\n",
       "    <tr>\n",
       "      <th>Very High</th>\n",
       "      <td>109326</td>\n",
       "    </tr>\n",
       "    <tr>\n",
       "      <th>Forget It</th>\n",
       "      <td>104532</td>\n",
       "    </tr>\n",
       "    <tr>\n",
       "      <th rowspan=\"5\" valign=\"top\">Good</th>\n",
       "      <th>Low</th>\n",
       "      <td>122429</td>\n",
       "    </tr>\n",
       "    <tr>\n",
       "      <th>Medium</th>\n",
       "      <td>98046</td>\n",
       "    </tr>\n",
       "    <tr>\n",
       "      <th>High</th>\n",
       "      <td>76888</td>\n",
       "    </tr>\n",
       "    <tr>\n",
       "      <th>Very High</th>\n",
       "      <td>65969</td>\n",
       "    </tr>\n",
       "    <tr>\n",
       "      <th>Forget It</th>\n",
       "      <td>47035</td>\n",
       "    </tr>\n",
       "    <tr>\n",
       "      <th rowspan=\"5\" valign=\"top\">Excellent</th>\n",
       "      <th>Low</th>\n",
       "      <td>54602</td>\n",
       "    </tr>\n",
       "    <tr>\n",
       "      <th>Medium</th>\n",
       "      <td>21543</td>\n",
       "    </tr>\n",
       "    <tr>\n",
       "      <th>High</th>\n",
       "      <td>14334</td>\n",
       "    </tr>\n",
       "    <tr>\n",
       "      <th>Very High</th>\n",
       "      <td>10196</td>\n",
       "    </tr>\n",
       "    <tr>\n",
       "      <th>Forget It</th>\n",
       "      <td>5996</td>\n",
       "    </tr>\n",
       "  </tbody>\n",
       "</table>\n",
       "</div>"
      ],
      "text/plain": [
       "                           loan_status\n",
       "fico_buckets rate_buckets             \n",
       "High Risky   Low                 10416\n",
       "             Medium              23026\n",
       "             High                31397\n",
       "             Very High           41805\n",
       "             Forget It           52901\n",
       "Risky        Low                 15862\n",
       "             Medium              28950\n",
       "             High                37684\n",
       "             Very High           45843\n",
       "             Forget It           53551\n",
       "Low Risk     Low                 68116\n",
       "             Medium             101195\n",
       "             High               103708\n",
       "             Very High          109326\n",
       "             Forget It          104532\n",
       "Good         Low                122429\n",
       "             Medium              98046\n",
       "             High                76888\n",
       "             Very High           65969\n",
       "             Forget It           47035\n",
       "Excellent    Low                 54602\n",
       "             Medium              21543\n",
       "             High                14334\n",
       "             Very High           10196\n",
       "             Forget It            5996"
      ]
     },
     "execution_count": 42,
     "metadata": {},
     "output_type": "execute_result"
    }
   ],
   "source": [
    "loan_int_df[['loan_status', 'rate_buckets', 'fico_buckets']].groupby(['fico_buckets','rate_buckets']).agg({'loan_status':'count'})"
   ]
  },
  {
   "cell_type": "code",
   "execution_count": 43,
   "metadata": {
    "scrolled": true
   },
   "outputs": [
    {
     "data": {
      "text/html": [
       "<div>\n",
       "<style scoped>\n",
       "    .dataframe tbody tr th:only-of-type {\n",
       "        vertical-align: middle;\n",
       "    }\n",
       "\n",
       "    .dataframe tbody tr th {\n",
       "        vertical-align: top;\n",
       "    }\n",
       "\n",
       "    .dataframe thead th {\n",
       "        text-align: right;\n",
       "    }\n",
       "</style>\n",
       "<table border=\"1\" class=\"dataframe\">\n",
       "  <thead>\n",
       "    <tr style=\"text-align: right;\">\n",
       "      <th>rate_buckets</th>\n",
       "      <th>Low</th>\n",
       "      <th>Medium</th>\n",
       "      <th>High</th>\n",
       "      <th>Very High</th>\n",
       "      <th>Forget It</th>\n",
       "      <th>All</th>\n",
       "    </tr>\n",
       "    <tr>\n",
       "      <th>fico_buckets</th>\n",
       "      <th></th>\n",
       "      <th></th>\n",
       "      <th></th>\n",
       "      <th></th>\n",
       "      <th></th>\n",
       "      <th></th>\n",
       "    </tr>\n",
       "  </thead>\n",
       "  <tbody>\n",
       "    <tr>\n",
       "      <th>High Risky</th>\n",
       "      <td>10416</td>\n",
       "      <td>23026</td>\n",
       "      <td>31397</td>\n",
       "      <td>41805</td>\n",
       "      <td>52901</td>\n",
       "      <td>159545</td>\n",
       "    </tr>\n",
       "    <tr>\n",
       "      <th>Risky</th>\n",
       "      <td>15862</td>\n",
       "      <td>28950</td>\n",
       "      <td>37684</td>\n",
       "      <td>45843</td>\n",
       "      <td>53551</td>\n",
       "      <td>181890</td>\n",
       "    </tr>\n",
       "    <tr>\n",
       "      <th>Low Risk</th>\n",
       "      <td>68116</td>\n",
       "      <td>101195</td>\n",
       "      <td>103708</td>\n",
       "      <td>109326</td>\n",
       "      <td>104532</td>\n",
       "      <td>486877</td>\n",
       "    </tr>\n",
       "    <tr>\n",
       "      <th>Good</th>\n",
       "      <td>122429</td>\n",
       "      <td>98046</td>\n",
       "      <td>76888</td>\n",
       "      <td>65969</td>\n",
       "      <td>47035</td>\n",
       "      <td>410367</td>\n",
       "    </tr>\n",
       "    <tr>\n",
       "      <th>Excellent</th>\n",
       "      <td>54602</td>\n",
       "      <td>21543</td>\n",
       "      <td>14334</td>\n",
       "      <td>10196</td>\n",
       "      <td>5996</td>\n",
       "      <td>106671</td>\n",
       "    </tr>\n",
       "    <tr>\n",
       "      <th>All</th>\n",
       "      <td>271425</td>\n",
       "      <td>272760</td>\n",
       "      <td>264011</td>\n",
       "      <td>273139</td>\n",
       "      <td>264015</td>\n",
       "      <td>1345350</td>\n",
       "    </tr>\n",
       "  </tbody>\n",
       "</table>\n",
       "</div>"
      ],
      "text/plain": [
       "rate_buckets     Low  Medium    High  Very High  Forget It      All\n",
       "fico_buckets                                                       \n",
       "High Risky     10416   23026   31397      41805      52901   159545\n",
       "Risky          15862   28950   37684      45843      53551   181890\n",
       "Low Risk       68116  101195  103708     109326     104532   486877\n",
       "Good          122429   98046   76888      65969      47035   410367\n",
       "Excellent      54602   21543   14334      10196       5996   106671\n",
       "All           271425  272760  264011     273139     264015  1345350"
      ]
     },
     "execution_count": 43,
     "metadata": {},
     "output_type": "execute_result"
    }
   ],
   "source": [
    "pd.crosstab(index=loan_int_df['fico_buckets'], columns=loan_int_df['rate_buckets'], margins=True)"
   ]
  },
  {
   "cell_type": "code",
   "execution_count": 45,
   "metadata": {},
   "outputs": [
    {
     "data": {
      "text/html": [
       "<div>\n",
       "<style scoped>\n",
       "    .dataframe tbody tr th:only-of-type {\n",
       "        vertical-align: middle;\n",
       "    }\n",
       "\n",
       "    .dataframe tbody tr th {\n",
       "        vertical-align: top;\n",
       "    }\n",
       "\n",
       "    .dataframe thead th {\n",
       "        text-align: right;\n",
       "    }\n",
       "</style>\n",
       "<table border=\"1\" class=\"dataframe\">\n",
       "  <thead>\n",
       "    <tr style=\"text-align: right;\">\n",
       "      <th>rate_buckets</th>\n",
       "      <th>Low</th>\n",
       "      <th>Medium</th>\n",
       "      <th>High</th>\n",
       "      <th>Very High</th>\n",
       "      <th>Forget It</th>\n",
       "    </tr>\n",
       "    <tr>\n",
       "      <th>fico_buckets</th>\n",
       "      <th></th>\n",
       "      <th></th>\n",
       "      <th></th>\n",
       "      <th></th>\n",
       "      <th></th>\n",
       "    </tr>\n",
       "  </thead>\n",
       "  <tbody>\n",
       "    <tr>\n",
       "      <th>High Risky</th>\n",
       "      <td>0.065286</td>\n",
       "      <td>0.144323</td>\n",
       "      <td>0.196791</td>\n",
       "      <td>0.262026</td>\n",
       "      <td>0.331574</td>\n",
       "    </tr>\n",
       "    <tr>\n",
       "      <th>Risky</th>\n",
       "      <td>0.087207</td>\n",
       "      <td>0.159162</td>\n",
       "      <td>0.207180</td>\n",
       "      <td>0.252037</td>\n",
       "      <td>0.294414</td>\n",
       "    </tr>\n",
       "    <tr>\n",
       "      <th>Low Risk</th>\n",
       "      <td>0.139904</td>\n",
       "      <td>0.207845</td>\n",
       "      <td>0.213007</td>\n",
       "      <td>0.224545</td>\n",
       "      <td>0.214699</td>\n",
       "    </tr>\n",
       "    <tr>\n",
       "      <th>Good</th>\n",
       "      <td>0.298340</td>\n",
       "      <td>0.238923</td>\n",
       "      <td>0.187364</td>\n",
       "      <td>0.160756</td>\n",
       "      <td>0.114617</td>\n",
       "    </tr>\n",
       "    <tr>\n",
       "      <th>Excellent</th>\n",
       "      <td>0.511873</td>\n",
       "      <td>0.201957</td>\n",
       "      <td>0.134376</td>\n",
       "      <td>0.095584</td>\n",
       "      <td>0.056210</td>\n",
       "    </tr>\n",
       "  </tbody>\n",
       "</table>\n",
       "</div>"
      ],
      "text/plain": [
       "rate_buckets       Low    Medium      High  Very High  Forget It\n",
       "fico_buckets                                                    \n",
       "High Risky    0.065286  0.144323  0.196791   0.262026   0.331574\n",
       "Risky         0.087207  0.159162  0.207180   0.252037   0.294414\n",
       "Low Risk      0.139904  0.207845  0.213007   0.224545   0.214699\n",
       "Good          0.298340  0.238923  0.187364   0.160756   0.114617\n",
       "Excellent     0.511873  0.201957  0.134376   0.095584   0.056210"
      ]
     },
     "execution_count": 45,
     "metadata": {},
     "output_type": "execute_result"
    }
   ],
   "source": [
    "# NOW DOING THE SAME CROSS TAB AND GENERATING THE PERCENTAGES FOR EACH COLUMN\n",
    "pd.crosstab(index=loan_int_df['fico_buckets'], columns=loan_int_df['rate_buckets']).apply(lambda x:x/x.sum(), axis=1)"
   ]
  },
  {
   "cell_type": "code",
   "execution_count": 49,
   "metadata": {},
   "outputs": [
    {
     "data": {
      "text/plain": [
       "<Figure size 1440x432 with 0 Axes>"
      ]
     },
     "metadata": {},
     "output_type": "display_data"
    },
    {
     "data": {
      "image/png": "[encoded data removed]",
      "text/plain": [
       "<Figure size 432x288 with 1 Axes>"
      ]
     },
     "metadata": {
      "needs_background": "light"
     },
     "output_type": "display_data"
    }
   ],
   "source": [
    "co_rate_ct = pd.crosstab(index=loan_int_df['fico_buckets'], columns=loan_int_df['rate_buckets'])\n",
    "fico_rate_ct.plot.bar()\n"
   ]
  },
  {
   "cell_type": "code",
   "execution_count": 50,
   "metadata": {},
   "outputs": [
    {
     "name": "stdout",
     "output_type": "stream",
     "text": [
      "chi2 :  180703.58413092492\n",
      "p-value :  0.0\n",
      "Degree for Freedom :  16\n"
     ]
    }
   ],
   "source": [
    "from scipy import stats\n",
    "(chi2, p, dof, _) = stats.chi2_contingency([fico_rate_ct.iloc[0].values, fico_rate_ct.iloc[1].values, fico_rate_ct.iloc[2].values, fico_rate_ct.iloc[3].values, fico_rate_ct.iloc[4].values])\n",
    "print('chi2 : ', chi2)\n",
    "print('p-value : ',p)\n",
    "print('Degree for Freedom : ', dof)"
   ]
  },
  {
   "cell_type": "code",
   "execution_count": 51,
   "metadata": {},
   "outputs": [
    {
     "name": "stderr",
     "output_type": "stream",
     "text": [
      "d:\\anacondafiles\\envs\\deeplearning\\lib\\site-packages\\ipykernel_launcher.py:2: SettingWithCopyWarning: \n",
      "A value is trying to be set on a copy of a slice from a DataFrame.\n",
      "Try using .loc[row_indexer,col_indexer] = value instead\n",
      "\n",
      "See the caveats in the documentation: https://pandas.pydata.org/pandas-docs/stable/user_guide/indexing.html#returning-a-view-versus-a-copy\n",
      "  \n"
     ]
    }
   ],
   "source": [
    "import math\n",
    "loan_int_df['fico_score'] = loan_int_df['last_fico_range_low'].apply(lambda x:int(math.ceil(x/10)*10))"
   ]
  },
  {
   "cell_type": "code",
   "execution_count": 52,
   "metadata": {},
   "outputs": [
    {
     "data": {
      "text/html": [
       "<div>\n",
       "<style scoped>\n",
       "    .dataframe tbody tr th:only-of-type {\n",
       "        vertical-align: middle;\n",
       "    }\n",
       "\n",
       "    .dataframe tbody tr th {\n",
       "        vertical-align: top;\n",
       "    }\n",
       "\n",
       "    .dataframe thead th {\n",
       "        text-align: right;\n",
       "    }\n",
       "</style>\n",
       "<table border=\"1\" class=\"dataframe\">\n",
       "  <thead>\n",
       "    <tr style=\"text-align: right;\">\n",
       "      <th></th>\n",
       "      <th>id</th>\n",
       "      <th>loan_amnt</th>\n",
       "      <th>int_rate</th>\n",
       "      <th>installment</th>\n",
       "      <th>grade</th>\n",
       "      <th>emp_title</th>\n",
       "      <th>home_ownership</th>\n",
       "      <th>annual_inc</th>\n",
       "      <th>loan_status</th>\n",
       "      <th>purpose</th>\n",
       "      <th>title</th>\n",
       "      <th>dti</th>\n",
       "      <th>delinq_2yrs</th>\n",
       "      <th>fico_range_low</th>\n",
       "      <th>fico_range_high</th>\n",
       "      <th>inq_last_6mths</th>\n",
       "      <th>mths_since_last_delinq</th>\n",
       "      <th>revol_bal</th>\n",
       "      <th>initial_list_status</th>\n",
       "      <th>out_prncp</th>\n",
       "      <th>last_fico_range_high</th>\n",
       "      <th>last_fico_range_low</th>\n",
       "      <th>application_type</th>\n",
       "      <th>annual_inc_joint</th>\n",
       "      <th>dti_joint</th>\n",
       "      <th>fico_buckets</th>\n",
       "      <th>rate_buckets</th>\n",
       "      <th>fico_score</th>\n",
       "    </tr>\n",
       "  </thead>\n",
       "  <tbody>\n",
       "    <tr>\n",
       "      <th>0</th>\n",
       "      <td>68407277</td>\n",
       "      <td>3600.0</td>\n",
       "      <td>13.99</td>\n",
       "      <td>123.03</td>\n",
       "      <td>C</td>\n",
       "      <td>leadman</td>\n",
       "      <td>MORTGAGE</td>\n",
       "      <td>55000.0</td>\n",
       "      <td>Good</td>\n",
       "      <td>debt_consolidation</td>\n",
       "      <td>Debt consolidation</td>\n",
       "      <td>5.91</td>\n",
       "      <td>0.0</td>\n",
       "      <td>675.0</td>\n",
       "      <td>679.0</td>\n",
       "      <td>1.0</td>\n",
       "      <td>30.0</td>\n",
       "      <td>2765.0</td>\n",
       "      <td>w</td>\n",
       "      <td>0.0</td>\n",
       "      <td>564.0</td>\n",
       "      <td>560.0</td>\n",
       "      <td>Individual</td>\n",
       "      <td>NaN</td>\n",
       "      <td>NaN</td>\n",
       "      <td>High Risky</td>\n",
       "      <td>Very High</td>\n",
       "      <td>560</td>\n",
       "    </tr>\n",
       "    <tr>\n",
       "      <th>1</th>\n",
       "      <td>68355089</td>\n",
       "      <td>24700.0</td>\n",
       "      <td>11.99</td>\n",
       "      <td>820.28</td>\n",
       "      <td>C</td>\n",
       "      <td>Engineer</td>\n",
       "      <td>MORTGAGE</td>\n",
       "      <td>65000.0</td>\n",
       "      <td>Good</td>\n",
       "      <td>small_business</td>\n",
       "      <td>Business</td>\n",
       "      <td>16.06</td>\n",
       "      <td>1.0</td>\n",
       "      <td>715.0</td>\n",
       "      <td>719.0</td>\n",
       "      <td>4.0</td>\n",
       "      <td>6.0</td>\n",
       "      <td>21470.0</td>\n",
       "      <td>w</td>\n",
       "      <td>0.0</td>\n",
       "      <td>699.0</td>\n",
       "      <td>695.0</td>\n",
       "      <td>Individual</td>\n",
       "      <td>NaN</td>\n",
       "      <td>NaN</td>\n",
       "      <td>Low Risk</td>\n",
       "      <td>High</td>\n",
       "      <td>700</td>\n",
       "    </tr>\n",
       "    <tr>\n",
       "      <th>2</th>\n",
       "      <td>68341763</td>\n",
       "      <td>20000.0</td>\n",
       "      <td>10.78</td>\n",
       "      <td>432.66</td>\n",
       "      <td>B</td>\n",
       "      <td>truck driver</td>\n",
       "      <td>MORTGAGE</td>\n",
       "      <td>63000.0</td>\n",
       "      <td>Good</td>\n",
       "      <td>home_improvement</td>\n",
       "      <td>NaN</td>\n",
       "      <td>10.78</td>\n",
       "      <td>0.0</td>\n",
       "      <td>695.0</td>\n",
       "      <td>699.0</td>\n",
       "      <td>0.0</td>\n",
       "      <td>NaN</td>\n",
       "      <td>7869.0</td>\n",
       "      <td>w</td>\n",
       "      <td>0.0</td>\n",
       "      <td>704.0</td>\n",
       "      <td>700.0</td>\n",
       "      <td>Joint App</td>\n",
       "      <td>71000.0</td>\n",
       "      <td>13.85</td>\n",
       "      <td>Low Risk</td>\n",
       "      <td>Medium</td>\n",
       "      <td>700</td>\n",
       "    </tr>\n",
       "    <tr>\n",
       "      <th>4</th>\n",
       "      <td>68476807</td>\n",
       "      <td>10400.0</td>\n",
       "      <td>22.45</td>\n",
       "      <td>289.91</td>\n",
       "      <td>F</td>\n",
       "      <td>Contract Specialist</td>\n",
       "      <td>MORTGAGE</td>\n",
       "      <td>104433.0</td>\n",
       "      <td>Good</td>\n",
       "      <td>major_purchase</td>\n",
       "      <td>Major purchase</td>\n",
       "      <td>25.37</td>\n",
       "      <td>1.0</td>\n",
       "      <td>695.0</td>\n",
       "      <td>699.0</td>\n",
       "      <td>3.0</td>\n",
       "      <td>12.0</td>\n",
       "      <td>21929.0</td>\n",
       "      <td>w</td>\n",
       "      <td>0.0</td>\n",
       "      <td>704.0</td>\n",
       "      <td>700.0</td>\n",
       "      <td>Individual</td>\n",
       "      <td>NaN</td>\n",
       "      <td>NaN</td>\n",
       "      <td>Low Risk</td>\n",
       "      <td>Forget It</td>\n",
       "      <td>700</td>\n",
       "    </tr>\n",
       "    <tr>\n",
       "      <th>5</th>\n",
       "      <td>68426831</td>\n",
       "      <td>11950.0</td>\n",
       "      <td>13.44</td>\n",
       "      <td>405.18</td>\n",
       "      <td>C</td>\n",
       "      <td>Veterinary Tecnician</td>\n",
       "      <td>RENT</td>\n",
       "      <td>34000.0</td>\n",
       "      <td>Good</td>\n",
       "      <td>debt_consolidation</td>\n",
       "      <td>Debt consolidation</td>\n",
       "      <td>10.20</td>\n",
       "      <td>0.0</td>\n",
       "      <td>690.0</td>\n",
       "      <td>694.0</td>\n",
       "      <td>0.0</td>\n",
       "      <td>NaN</td>\n",
       "      <td>8822.0</td>\n",
       "      <td>w</td>\n",
       "      <td>0.0</td>\n",
       "      <td>759.0</td>\n",
       "      <td>755.0</td>\n",
       "      <td>Individual</td>\n",
       "      <td>NaN</td>\n",
       "      <td>NaN</td>\n",
       "      <td>Good</td>\n",
       "      <td>High</td>\n",
       "      <td>760</td>\n",
       "    </tr>\n",
       "  </tbody>\n",
       "</table>\n",
       "</div>"
      ],
      "text/plain": [
       "         id  loan_amnt  int_rate  installment grade             emp_title  \\\n",
       "0  68407277     3600.0     13.99       123.03     C               leadman   \n",
       "1  68355089    24700.0     11.99       820.28     C              Engineer   \n",
       "2  68341763    20000.0     10.78       432.66     B          truck driver   \n",
       "4  68476807    10400.0     22.45       289.91     F   Contract Specialist   \n",
       "5  68426831    11950.0     13.44       405.18     C  Veterinary Tecnician   \n",
       "\n",
       "  home_ownership  annual_inc loan_status             purpose  \\\n",
       "0       MORTGAGE     55000.0        Good  debt_consolidation   \n",
       "1       MORTGAGE     65000.0        Good      small_business   \n",
       "2       MORTGAGE     63000.0        Good    home_improvement   \n",
       "4       MORTGAGE    104433.0        Good      major_purchase   \n",
       "5           RENT     34000.0        Good  debt_consolidation   \n",
       "\n",
       "                title    dti  delinq_2yrs  fico_range_low  fico_range_high  \\\n",
       "0  Debt consolidation   5.91          0.0           675.0            679.0   \n",
       "1            Business  16.06          1.0           715.0            719.0   \n",
       "2                 NaN  10.78          0.0           695.0            699.0   \n",
       "4      Major purchase  25.37          1.0           695.0            699.0   \n",
       "5  Debt consolidation  10.20          0.0           690.0            694.0   \n",
       "\n",
       "   inq_last_6mths  mths_since_last_delinq  revol_bal initial_list_status  \\\n",
       "0             1.0                    30.0     2765.0                   w   \n",
       "1             4.0                     6.0    21470.0                   w   \n",
       "2             0.0                     NaN     7869.0                   w   \n",
       "4             3.0                    12.0    21929.0                   w   \n",
       "5             0.0                     NaN     8822.0                   w   \n",
       "\n",
       "   out_prncp  last_fico_range_high  last_fico_range_low application_type  \\\n",
       "0        0.0                 564.0                560.0       Individual   \n",
       "1        0.0                 699.0                695.0       Individual   \n",
       "2        0.0                 704.0                700.0        Joint App   \n",
       "4        0.0                 704.0                700.0       Individual   \n",
       "5        0.0                 759.0                755.0       Individual   \n",
       "\n",
       "   annual_inc_joint  dti_joint fico_buckets rate_buckets  fico_score  \n",
       "0               NaN        NaN   High Risky    Very High         560  \n",
       "1               NaN        NaN     Low Risk         High         700  \n",
       "2           71000.0      13.85     Low Risk       Medium         700  \n",
       "4               NaN        NaN     Low Risk    Forget It         700  \n",
       "5               NaN        NaN         Good         High         760  "
      ]
     },
     "execution_count": 52,
     "metadata": {},
     "output_type": "execute_result"
    }
   ],
   "source": [
    "loan_int_df.head()"
   ]
  },
  {
   "cell_type": "code",
   "execution_count": 57,
   "metadata": {},
   "outputs": [
    {
     "data": {
      "text/plain": [
       "500     6473\n",
       "510    14603\n",
       "520    16468\n",
       "530    17827\n",
       "540    19576\n",
       "550    19682\n",
       "560    18985\n",
       "570    17915\n",
       "580    16402\n",
       "590    14626\n",
       "600    12907\n",
       "610    11642\n",
       "620    10272\n",
       "630     8894\n",
       "640     7549\n",
       "650     6067\n",
       "660     9070\n",
       "670    10998\n",
       "680     8336\n",
       "690     6111\n",
       "700     4274\n",
       "710     3111\n",
       "720     2160\n",
       "730     1363\n",
       "740      904\n",
       "750      651\n",
       "760      507\n",
       "770      329\n",
       "780      293\n",
       "790      207\n",
       "800      157\n",
       "810      108\n",
       "820       62\n",
       "830       42\n",
       "840       20\n",
       "850        8\n",
       "Name: fico_score, dtype: int64"
      ]
     },
     "execution_count": 57,
     "metadata": {},
     "output_type": "execute_result"
    }
   ],
   "source": [
    "loan_int_df[loan_int_df['loan_status']=='Default']['fico_score'].value_counts().sort_index()"
   ]
  },
  {
   "cell_type": "code",
   "execution_count": 58,
   "metadata": {},
   "outputs": [],
   "source": [
    "default_df = pd.DataFrame(loan_int_df[loan_int_df['loan_status']=='Default']['fico_score'].value_counts())"
   ]
  },
  {
   "cell_type": "code",
   "execution_count": 59,
   "metadata": {},
   "outputs": [],
   "source": [
    "default_df = default_df.reset_index()"
   ]
  },
  {
   "cell_type": "code",
   "execution_count": 60,
   "metadata": {},
   "outputs": [
    {
     "data": {
      "text/html": [
       "<div>\n",
       "<style scoped>\n",
       "    .dataframe tbody tr th:only-of-type {\n",
       "        vertical-align: middle;\n",
       "    }\n",
       "\n",
       "    .dataframe tbody tr th {\n",
       "        vertical-align: top;\n",
       "    }\n",
       "\n",
       "    .dataframe thead th {\n",
       "        text-align: right;\n",
       "    }\n",
       "</style>\n",
       "<table border=\"1\" class=\"dataframe\">\n",
       "  <thead>\n",
       "    <tr style=\"text-align: right;\">\n",
       "      <th></th>\n",
       "      <th>fico_score</th>\n",
       "      <th>default_total</th>\n",
       "    </tr>\n",
       "  </thead>\n",
       "  <tbody>\n",
       "    <tr>\n",
       "      <th>0</th>\n",
       "      <td>550</td>\n",
       "      <td>19682</td>\n",
       "    </tr>\n",
       "    <tr>\n",
       "      <th>1</th>\n",
       "      <td>540</td>\n",
       "      <td>19576</td>\n",
       "    </tr>\n",
       "    <tr>\n",
       "      <th>2</th>\n",
       "      <td>560</td>\n",
       "      <td>18985</td>\n",
       "    </tr>\n",
       "    <tr>\n",
       "      <th>3</th>\n",
       "      <td>570</td>\n",
       "      <td>17915</td>\n",
       "    </tr>\n",
       "    <tr>\n",
       "      <th>4</th>\n",
       "      <td>530</td>\n",
       "      <td>17827</td>\n",
       "    </tr>\n",
       "    <tr>\n",
       "      <th>5</th>\n",
       "      <td>520</td>\n",
       "      <td>16468</td>\n",
       "    </tr>\n",
       "    <tr>\n",
       "      <th>6</th>\n",
       "      <td>580</td>\n",
       "      <td>16402</td>\n",
       "    </tr>\n",
       "    <tr>\n",
       "      <th>7</th>\n",
       "      <td>590</td>\n",
       "      <td>14626</td>\n",
       "    </tr>\n",
       "    <tr>\n",
       "      <th>8</th>\n",
       "      <td>510</td>\n",
       "      <td>14603</td>\n",
       "    </tr>\n",
       "    <tr>\n",
       "      <th>9</th>\n",
       "      <td>600</td>\n",
       "      <td>12907</td>\n",
       "    </tr>\n",
       "    <tr>\n",
       "      <th>10</th>\n",
       "      <td>610</td>\n",
       "      <td>11642</td>\n",
       "    </tr>\n",
       "    <tr>\n",
       "      <th>11</th>\n",
       "      <td>670</td>\n",
       "      <td>10998</td>\n",
       "    </tr>\n",
       "    <tr>\n",
       "      <th>12</th>\n",
       "      <td>620</td>\n",
       "      <td>10272</td>\n",
       "    </tr>\n",
       "    <tr>\n",
       "      <th>13</th>\n",
       "      <td>660</td>\n",
       "      <td>9070</td>\n",
       "    </tr>\n",
       "    <tr>\n",
       "      <th>14</th>\n",
       "      <td>630</td>\n",
       "      <td>8894</td>\n",
       "    </tr>\n",
       "    <tr>\n",
       "      <th>15</th>\n",
       "      <td>680</td>\n",
       "      <td>8336</td>\n",
       "    </tr>\n",
       "    <tr>\n",
       "      <th>16</th>\n",
       "      <td>640</td>\n",
       "      <td>7549</td>\n",
       "    </tr>\n",
       "    <tr>\n",
       "      <th>17</th>\n",
       "      <td>500</td>\n",
       "      <td>6473</td>\n",
       "    </tr>\n",
       "    <tr>\n",
       "      <th>18</th>\n",
       "      <td>690</td>\n",
       "      <td>6111</td>\n",
       "    </tr>\n",
       "    <tr>\n",
       "      <th>19</th>\n",
       "      <td>650</td>\n",
       "      <td>6067</td>\n",
       "    </tr>\n",
       "    <tr>\n",
       "      <th>20</th>\n",
       "      <td>700</td>\n",
       "      <td>4274</td>\n",
       "    </tr>\n",
       "    <tr>\n",
       "      <th>21</th>\n",
       "      <td>710</td>\n",
       "      <td>3111</td>\n",
       "    </tr>\n",
       "    <tr>\n",
       "      <th>22</th>\n",
       "      <td>720</td>\n",
       "      <td>2160</td>\n",
       "    </tr>\n",
       "    <tr>\n",
       "      <th>23</th>\n",
       "      <td>730</td>\n",
       "      <td>1363</td>\n",
       "    </tr>\n",
       "    <tr>\n",
       "      <th>24</th>\n",
       "      <td>740</td>\n",
       "      <td>904</td>\n",
       "    </tr>\n",
       "    <tr>\n",
       "      <th>25</th>\n",
       "      <td>750</td>\n",
       "      <td>651</td>\n",
       "    </tr>\n",
       "    <tr>\n",
       "      <th>26</th>\n",
       "      <td>760</td>\n",
       "      <td>507</td>\n",
       "    </tr>\n",
       "    <tr>\n",
       "      <th>27</th>\n",
       "      <td>770</td>\n",
       "      <td>329</td>\n",
       "    </tr>\n",
       "    <tr>\n",
       "      <th>28</th>\n",
       "      <td>780</td>\n",
       "      <td>293</td>\n",
       "    </tr>\n",
       "    <tr>\n",
       "      <th>29</th>\n",
       "      <td>790</td>\n",
       "      <td>207</td>\n",
       "    </tr>\n",
       "    <tr>\n",
       "      <th>30</th>\n",
       "      <td>800</td>\n",
       "      <td>157</td>\n",
       "    </tr>\n",
       "    <tr>\n",
       "      <th>31</th>\n",
       "      <td>810</td>\n",
       "      <td>108</td>\n",
       "    </tr>\n",
       "    <tr>\n",
       "      <th>32</th>\n",
       "      <td>820</td>\n",
       "      <td>62</td>\n",
       "    </tr>\n",
       "    <tr>\n",
       "      <th>33</th>\n",
       "      <td>830</td>\n",
       "      <td>42</td>\n",
       "    </tr>\n",
       "    <tr>\n",
       "      <th>34</th>\n",
       "      <td>840</td>\n",
       "      <td>20</td>\n",
       "    </tr>\n",
       "    <tr>\n",
       "      <th>35</th>\n",
       "      <td>850</td>\n",
       "      <td>8</td>\n",
       "    </tr>\n",
       "  </tbody>\n",
       "</table>\n",
       "</div>"
      ],
      "text/plain": [
       "    fico_score  default_total\n",
       "0          550          19682\n",
       "1          540          19576\n",
       "2          560          18985\n",
       "3          570          17915\n",
       "4          530          17827\n",
       "5          520          16468\n",
       "6          580          16402\n",
       "7          590          14626\n",
       "8          510          14603\n",
       "9          600          12907\n",
       "10         610          11642\n",
       "11         670          10998\n",
       "12         620          10272\n",
       "13         660           9070\n",
       "14         630           8894\n",
       "15         680           8336\n",
       "16         640           7549\n",
       "17         500           6473\n",
       "18         690           6111\n",
       "19         650           6067\n",
       "20         700           4274\n",
       "21         710           3111\n",
       "22         720           2160\n",
       "23         730           1363\n",
       "24         740            904\n",
       "25         750            651\n",
       "26         760            507\n",
       "27         770            329\n",
       "28         780            293\n",
       "29         790            207\n",
       "30         800            157\n",
       "31         810            108\n",
       "32         820             62\n",
       "33         830             42\n",
       "34         840             20\n",
       "35         850              8"
      ]
     },
     "execution_count": 60,
     "metadata": {},
     "output_type": "execute_result"
    }
   ],
   "source": [
    "default_df.columns = ['fico_score', 'default_total']\n",
    "default_df"
   ]
  },
  {
   "cell_type": "code",
   "execution_count": 62,
   "metadata": {},
   "outputs": [
    {
     "data": {
      "text/html": [
       "<div>\n",
       "<style scoped>\n",
       "    .dataframe tbody tr th:only-of-type {\n",
       "        vertical-align: middle;\n",
       "    }\n",
       "\n",
       "    .dataframe tbody tr th {\n",
       "        vertical-align: top;\n",
       "    }\n",
       "\n",
       "    .dataframe thead th {\n",
       "        text-align: right;\n",
       "    }\n",
       "</style>\n",
       "<table border=\"1\" class=\"dataframe\">\n",
       "  <thead>\n",
       "    <tr style=\"text-align: right;\">\n",
       "      <th></th>\n",
       "      <th>fico_score</th>\n",
       "      <th>default_total</th>\n",
       "    </tr>\n",
       "  </thead>\n",
       "  <tbody>\n",
       "    <tr>\n",
       "      <th>fico_score</th>\n",
       "      <td>1.000000</td>\n",
       "      <td>-0.899658</td>\n",
       "    </tr>\n",
       "    <tr>\n",
       "      <th>default_total</th>\n",
       "      <td>-0.899658</td>\n",
       "      <td>1.000000</td>\n",
       "    </tr>\n",
       "  </tbody>\n",
       "</table>\n",
       "</div>"
      ],
      "text/plain": [
       "               fico_score  default_total\n",
       "fico_score       1.000000      -0.899658\n",
       "default_total   -0.899658       1.000000"
      ]
     },
     "execution_count": 62,
     "metadata": {},
     "output_type": "execute_result"
    }
   ],
   "source": [
    "# FINDING RELATION BETWEEN THESE 2 NOW\n",
    "\n",
    "default_df[['fico_score', 'default_total']].corr()"
   ]
  },
  {
   "cell_type": "code",
   "execution_count": 63,
   "metadata": {},
   "outputs": [
    {
     "data": {
      "text/plain": [
       "<AxesSubplot:xlabel='fico_score', ylabel='default_total'>"
      ]
     },
     "execution_count": 63,
     "metadata": {},
     "output_type": "execute_result"
    },
    {
     "data": {
      "image/png": "[encoded data removed]",
      "text/plain": [
       "<Figure size 432x288 with 1 Axes>"
      ]
     },
     "metadata": {
      "needs_background": "light"
     },
     "output_type": "display_data"
    }
   ],
   "source": [
    "sns.regplot(x='fico_score', y='default_total', data=default_df)"
   ]
  },
  {
   "cell_type": "code",
   "execution_count": 66,
   "metadata": {},
   "outputs": [
    {
     "data": {
      "text/html": [
       "<div>\n",
       "<style scoped>\n",
       "    .dataframe tbody tr th:only-of-type {\n",
       "        vertical-align: middle;\n",
       "    }\n",
       "\n",
       "    .dataframe tbody tr th {\n",
       "        vertical-align: top;\n",
       "    }\n",
       "\n",
       "    .dataframe thead th {\n",
       "        text-align: right;\n",
       "    }\n",
       "</style>\n",
       "<table border=\"1\" class=\"dataframe\">\n",
       "  <thead>\n",
       "    <tr style=\"text-align: right;\">\n",
       "      <th></th>\n",
       "      <th>fico_score</th>\n",
       "      <th>default_total</th>\n",
       "    </tr>\n",
       "  </thead>\n",
       "  <tbody>\n",
       "    <tr>\n",
       "      <th>fico_score</th>\n",
       "      <td>1.00000</td>\n",
       "      <td>-0.93565</td>\n",
       "    </tr>\n",
       "    <tr>\n",
       "      <th>default_total</th>\n",
       "      <td>-0.93565</td>\n",
       "      <td>1.00000</td>\n",
       "    </tr>\n",
       "  </tbody>\n",
       "</table>\n",
       "</div>"
      ],
      "text/plain": [
       "               fico_score  default_total\n",
       "fico_score        1.00000       -0.93565\n",
       "default_total    -0.93565        1.00000"
      ]
     },
     "execution_count": 66,
     "metadata": {},
     "output_type": "execute_result"
    }
   ],
   "source": [
    "default_df[['fico_score', 'default_total']].corr('spearman')"
   ]
  },
  {
   "cell_type": "markdown",
   "metadata": {},
   "source": [
    "# Pwlf : Piece wise linear regression function\n",
    "\n",
    "**Piecewise is mostly not used by itself. Most of the regression techniques assumes independent variables to have a linear boundary. Piecewise can be used to break up non-linear pattern of data into breakpoints to create a linear interpretation or to be used to segment the key features that can be further used to fit individual models**"
   ]
  },
  {
   "cell_type": "code",
   "execution_count": 67,
   "metadata": {},
   "outputs": [
    {
     "name": "stdout",
     "output_type": "stream",
     "text": [
      "Collecting pwlf\n",
      "  Downloading pwlf-2.0.4.tar.gz (15 kB)\n",
      "Requirement already satisfied: numpy>=1.14.0 in d:\\anacondafiles\\envs\\deeplearning\\lib\\site-packages (from pwlf) (1.19.2)\n",
      "Requirement already satisfied: scipy>=1.2.0 in d:\\anacondafiles\\envs\\deeplearning\\lib\\site-packages (from pwlf) (1.5.2)\n",
      "Collecting pyDOE>=0.3.8\n",
      "  Downloading pyDOE-0.3.8.zip (22 kB)\n",
      "Building wheels for collected packages: pwlf, pyDOE\n",
      "  Building wheel for pwlf (setup.py): started\n",
      "  Building wheel for pwlf (setup.py): finished with status 'done'\n",
      "  Created wheel for pwlf: filename=pwlf-2.0.4-py3-none-any.whl size=16147 sha256=9fb32c93ed06e6ef9e29b3d094f309136090f569fbd5b58ce36f4902d2cefe70\n",
      "  Stored in directory: c:\\users\\abhishek maity\\appdata\\local\\pip\\cache\\wheels\\94\\c2\\70\\5608feb79056cccbe70cbc3a6d48345479bdea4adf303dff12\n",
      "  Building wheel for pyDOE (setup.py): started\n",
      "  Building wheel for pyDOE (setup.py): finished with status 'done'\n",
      "  Created wheel for pyDOE: filename=pyDOE-0.3.8-py3-none-any.whl size=18182 sha256=c89b5896bce5bff504de5b2d1571222dfad72d2b5dceade31cc85fef7be2d67d\n",
      "  Stored in directory: c:\\users\\abhishek maity\\appdata\\local\\pip\\cache\\wheels\\83\\ce\\8a\\87b25c685bfeca1872d13b8dc101e087a9c6e3fb5ebb47022a\n",
      "Successfully built pwlf pyDOE\n",
      "Installing collected packages: pyDOE, pwlf\n",
      "Successfully installed pwlf-2.0.4 pyDOE-0.3.8\n"
     ]
    }
   ],
   "source": [
    "!pip install pwlf"
   ]
  },
  {
   "cell_type": "code",
   "execution_count": 68,
   "metadata": {},
   "outputs": [],
   "source": [
    "import pwlf"
   ]
  },
  {
   "cell_type": "code",
   "execution_count": 69,
   "metadata": {},
   "outputs": [],
   "source": [
    "pwlf = pwlf.PiecewiseLinFit(default_df['fico_score'], default_df['default_total'])"
   ]
  },
  {
   "cell_type": "code",
   "execution_count": 72,
   "metadata": {},
   "outputs": [
    {
     "name": "stderr",
     "output_type": "stream",
     "text": [
      "d:\\anacondafiles\\envs\\deeplearning\\lib\\site-packages\\pwlf\\pwlf.py:1109: RuntimeWarning: invalid value encountered in double_scalars\n",
      "  (self.fit_breaks[i+1]-self.fit_breaks[i])\n"
     ]
    }
   ],
   "source": [
    "pwise_model = pwlf.fit(4) # 4 is the no of segments"
   ]
  },
  {
   "cell_type": "code",
   "execution_count": 75,
   "metadata": {},
   "outputs": [
    {
     "data": {
      "text/plain": [
       "array([500.        , 510.37401063, 540.19945928, 737.78362307,\n",
       "       850.        ])"
      ]
     },
     "execution_count": 75,
     "metadata": {},
     "output_type": "execute_result"
    }
   ],
   "source": [
    "pwlf.fit_breaks"
   ]
  },
  {
   "cell_type": "code",
   "execution_count": 76,
   "metadata": {},
   "outputs": [
    {
     "data": {
      "text/plain": [
       "array([813.00082606, 155.40266152, -95.41910914,  -7.24837259])"
      ]
     },
     "execution_count": 76,
     "metadata": {},
     "output_type": "execute_result"
    }
   ],
   "source": [
    "pwlf.slopes"
   ]
  },
  {
   "cell_type": "code",
   "execution_count": 77,
   "metadata": {},
   "outputs": [
    {
     "data": {
      "text/plain": [
       "array([-400027.41331506,  -64406.40070025,   71087.38418328,\n",
       "          6036.4587281 ])"
      ]
     },
     "execution_count": 77,
     "metadata": {},
     "output_type": "execute_result"
    }
   ],
   "source": [
    "pwlf.intercepts"
   ]
  },
  {
   "cell_type": "code",
   "execution_count": 78,
   "metadata": {},
   "outputs": [],
   "source": [
    "y_hat_piecewise = pwlf.predict(default_df['fico_score'])"
   ]
  },
  {
   "cell_type": "code",
   "execution_count": 79,
   "metadata": {},
   "outputs": [
    {
     "data": {
      "text/plain": [
       "[<matplotlib.lines.Line2D at 0x1f5ba9689c8>]"
      ]
     },
     "execution_count": 79,
     "metadata": {},
     "output_type": "execute_result"
    },
    {
     "data": {
      "image/png": "[encoded data removed]",
      "text/plain": [
       "<Figure size 432x288 with 1 Axes>"
      ]
     },
     "metadata": {
      "needs_background": "light"
     },
     "output_type": "display_data"
    }
   ],
   "source": [
    "plt.figure()\n",
    "plt.plot(default_df['fico_score'], default_df['default_total'], 'o')\n",
    "plt.plot(default_df['fico_score'], y_hat_piecewise, '-')"
   ]
  },
  {
   "cell_type": "code",
   "execution_count": null,
   "metadata": {},
   "outputs": [],
   "source": []
  }
 ],
 "metadata": {
  "kernelspec": {
   "display_name": "Python 3",
   "language": "python",
   "name": "python3"
  },
  "language_info": {
   "codemirror_mode": {
    "name": "ipython",
    "version": 3
   },
   "file_extension": ".py",
   "mimetype": "text/x-python",
   "name": "python",
   "nbconvert_exporter": "python",
   "pygments_lexer": "ipython3",
   "version": "3.7.9"
  }
 },
 "nbformat": 4,
 "nbformat_minor": 4
}
