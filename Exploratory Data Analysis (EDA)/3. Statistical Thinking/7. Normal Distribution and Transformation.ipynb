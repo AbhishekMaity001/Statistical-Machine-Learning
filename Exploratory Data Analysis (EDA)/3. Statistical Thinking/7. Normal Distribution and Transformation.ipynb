{
 "cells": [
  {
   "cell_type": "markdown",
   "metadata": {},
   "source": [
    "# Normal Distribution and Transformation"
   ]
  },
  {
   "cell_type": "code",
   "execution_count": 14,
   "metadata": {},
   "outputs": [],
   "source": [
    "import numpy as np\n",
    "import pandas as pd\n",
    "import seaborn as sns\n",
    "import matplotlib.pyplot as plt\n",
    "%matplotlib inline\n",
    "\n",
    "from scipy import stats\n",
    "import statsmodels.api as sm"
   ]
  },
  {
   "cell_type": "code",
   "execution_count": 2,
   "metadata": {},
   "outputs": [
    {
     "data": {
      "text/html": [
       "<div>\n",
       "<style scoped>\n",
       "    .dataframe tbody tr th:only-of-type {\n",
       "        vertical-align: middle;\n",
       "    }\n",
       "\n",
       "    .dataframe tbody tr th {\n",
       "        vertical-align: top;\n",
       "    }\n",
       "\n",
       "    .dataframe thead th {\n",
       "        text-align: right;\n",
       "    }\n",
       "</style>\n",
       "<table border=\"1\" class=\"dataframe\">\n",
       "  <thead>\n",
       "    <tr style=\"text-align: right;\">\n",
       "      <th></th>\n",
       "      <th>Customer</th>\n",
       "      <th>State</th>\n",
       "      <th>CLV</th>\n",
       "      <th>Coverage</th>\n",
       "      <th>Income</th>\n",
       "      <th>loc_type</th>\n",
       "      <th>monthly_premium</th>\n",
       "      <th>months_last_claim</th>\n",
       "      <th>Months_Since_Policy_Inception</th>\n",
       "      <th>Total_Claim_Amount</th>\n",
       "      <th>Vehicle_Class</th>\n",
       "      <th>avg_vehicle_age</th>\n",
       "    </tr>\n",
       "  </thead>\n",
       "  <tbody>\n",
       "    <tr>\n",
       "      <th>0</th>\n",
       "      <td>BU79786</td>\n",
       "      <td>Washington</td>\n",
       "      <td>2763.519279</td>\n",
       "      <td>Basic</td>\n",
       "      <td>56274</td>\n",
       "      <td>Suburban</td>\n",
       "      <td>69</td>\n",
       "      <td>32</td>\n",
       "      <td>5</td>\n",
       "      <td>384.811147</td>\n",
       "      <td>Two-Door Car</td>\n",
       "      <td>40.696695</td>\n",
       "    </tr>\n",
       "    <tr>\n",
       "      <th>1</th>\n",
       "      <td>AI49188</td>\n",
       "      <td>Nevada</td>\n",
       "      <td>12887.431650</td>\n",
       "      <td>Premium</td>\n",
       "      <td>48767</td>\n",
       "      <td>Suburban</td>\n",
       "      <td>108</td>\n",
       "      <td>18</td>\n",
       "      <td>38</td>\n",
       "      <td>566.472247</td>\n",
       "      <td>Two-Door Car</td>\n",
       "      <td>48.755298</td>\n",
       "    </tr>\n",
       "    <tr>\n",
       "      <th>2</th>\n",
       "      <td>HB64268</td>\n",
       "      <td>Washington</td>\n",
       "      <td>2813.692575</td>\n",
       "      <td>Basic</td>\n",
       "      <td>43836</td>\n",
       "      <td>Rural</td>\n",
       "      <td>73</td>\n",
       "      <td>12</td>\n",
       "      <td>44</td>\n",
       "      <td>138.130879</td>\n",
       "      <td>Four-Door Car</td>\n",
       "      <td>70.394474</td>\n",
       "    </tr>\n",
       "    <tr>\n",
       "      <th>3</th>\n",
       "      <td>OC83172</td>\n",
       "      <td>Oregon</td>\n",
       "      <td>8256.297800</td>\n",
       "      <td>Basic</td>\n",
       "      <td>62902</td>\n",
       "      <td>Rural</td>\n",
       "      <td>69</td>\n",
       "      <td>14</td>\n",
       "      <td>94</td>\n",
       "      <td>159.383042</td>\n",
       "      <td>Two-Door Car</td>\n",
       "      <td>53.460212</td>\n",
       "    </tr>\n",
       "    <tr>\n",
       "      <th>4</th>\n",
       "      <td>XZ87318</td>\n",
       "      <td>Oregon</td>\n",
       "      <td>5380.898636</td>\n",
       "      <td>Basic</td>\n",
       "      <td>55350</td>\n",
       "      <td>Suburban</td>\n",
       "      <td>67</td>\n",
       "      <td>0</td>\n",
       "      <td>13</td>\n",
       "      <td>321.600000</td>\n",
       "      <td>Four-Door Car</td>\n",
       "      <td>32.811507</td>\n",
       "    </tr>\n",
       "  </tbody>\n",
       "</table>\n",
       "</div>"
      ],
      "text/plain": [
       "  Customer       State           CLV Coverage  Income  loc_type  \\\n",
       "0  BU79786  Washington   2763.519279    Basic   56274  Suburban   \n",
       "1  AI49188      Nevada  12887.431650  Premium   48767  Suburban   \n",
       "2  HB64268  Washington   2813.692575    Basic   43836     Rural   \n",
       "3  OC83172      Oregon   8256.297800    Basic   62902     Rural   \n",
       "4  XZ87318      Oregon   5380.898636    Basic   55350  Suburban   \n",
       "\n",
       "   monthly_premium  months_last_claim  Months_Since_Policy_Inception  \\\n",
       "0               69                 32                              5   \n",
       "1              108                 18                             38   \n",
       "2               73                 12                             44   \n",
       "3               69                 14                             94   \n",
       "4               67                  0                             13   \n",
       "\n",
       "   Total_Claim_Amount  Vehicle_Class  avg_vehicle_age  \n",
       "0          384.811147   Two-Door Car        40.696695  \n",
       "1          566.472247   Two-Door Car        48.755298  \n",
       "2          138.130879  Four-Door Car        70.394474  \n",
       "3          159.383042   Two-Door Car        53.460212  \n",
       "4          321.600000  Four-Door Car        32.811507  "
      ]
     },
     "execution_count": 2,
     "metadata": {},
     "output_type": "execute_result"
    }
   ],
   "source": [
    "df = pd.read_csv('marketing_cva_f.csv')\n",
    "df.head()"
   ]
  },
  {
   "cell_type": "code",
   "execution_count": 3,
   "metadata": {},
   "outputs": [
    {
     "data": {
      "text/plain": [
       "(6817, 12)"
      ]
     },
     "execution_count": 3,
     "metadata": {},
     "output_type": "execute_result"
    }
   ],
   "source": [
    "df.shape"
   ]
  },
  {
   "cell_type": "code",
   "execution_count": 4,
   "metadata": {},
   "outputs": [
    {
     "name": "stdout",
     "output_type": "stream",
     "text": [
      "<class 'pandas.core.frame.DataFrame'>\n",
      "RangeIndex: 6817 entries, 0 to 6816\n",
      "Data columns (total 12 columns):\n",
      " #   Column                         Non-Null Count  Dtype  \n",
      "---  ------                         --------------  -----  \n",
      " 0   Customer                       6817 non-null   object \n",
      " 1   State                          6817 non-null   object \n",
      " 2   CLV                            6817 non-null   float64\n",
      " 3   Coverage                       6817 non-null   object \n",
      " 4   Income                         6817 non-null   int64  \n",
      " 5   loc_type                       6817 non-null   object \n",
      " 6   monthly_premium                6817 non-null   int64  \n",
      " 7   months_last_claim              6817 non-null   int64  \n",
      " 8   Months_Since_Policy_Inception  6817 non-null   int64  \n",
      " 9   Total_Claim_Amount             6817 non-null   float64\n",
      " 10  Vehicle_Class                  6817 non-null   object \n",
      " 11  avg_vehicle_age                6817 non-null   float64\n",
      "dtypes: float64(3), int64(4), object(5)\n",
      "memory usage: 639.2+ KB\n"
     ]
    }
   ],
   "source": [
    "df.info()"
   ]
  },
  {
   "cell_type": "code",
   "execution_count": 5,
   "metadata": {},
   "outputs": [
    {
     "data": {
      "text/plain": [
       "Customer                         0\n",
       "State                            0\n",
       "CLV                              0\n",
       "Coverage                         0\n",
       "Income                           0\n",
       "loc_type                         0\n",
       "monthly_premium                  0\n",
       "months_last_claim                0\n",
       "Months_Since_Policy_Inception    0\n",
       "Total_Claim_Amount               0\n",
       "Vehicle_Class                    0\n",
       "avg_vehicle_age                  0\n",
       "dtype: int64"
      ]
     },
     "execution_count": 5,
     "metadata": {},
     "output_type": "execute_result"
    }
   ],
   "source": [
    "df.isnull().sum()"
   ]
  },
  {
   "cell_type": "code",
   "execution_count": 6,
   "metadata": {},
   "outputs": [
    {
     "data": {
      "text/html": [
       "<div>\n",
       "<style scoped>\n",
       "    .dataframe tbody tr th:only-of-type {\n",
       "        vertical-align: middle;\n",
       "    }\n",
       "\n",
       "    .dataframe tbody tr th {\n",
       "        vertical-align: top;\n",
       "    }\n",
       "\n",
       "    .dataframe thead th {\n",
       "        text-align: right;\n",
       "    }\n",
       "</style>\n",
       "<table border=\"1\" class=\"dataframe\">\n",
       "  <thead>\n",
       "    <tr style=\"text-align: right;\">\n",
       "      <th></th>\n",
       "      <th>CLV</th>\n",
       "      <th>Income</th>\n",
       "      <th>monthly_premium</th>\n",
       "      <th>months_last_claim</th>\n",
       "      <th>Months_Since_Policy_Inception</th>\n",
       "      <th>Total_Claim_Amount</th>\n",
       "      <th>avg_vehicle_age</th>\n",
       "    </tr>\n",
       "  </thead>\n",
       "  <tbody>\n",
       "    <tr>\n",
       "      <th>count</th>\n",
       "      <td>6817.000000</td>\n",
       "      <td>6817.000000</td>\n",
       "      <td>6817.000000</td>\n",
       "      <td>6817.000000</td>\n",
       "      <td>6817.000000</td>\n",
       "      <td>6817.000000</td>\n",
       "      <td>6817.000000</td>\n",
       "    </tr>\n",
       "    <tr>\n",
       "      <th>mean</th>\n",
       "      <td>8130.229340</td>\n",
       "      <td>50456.580461</td>\n",
       "      <td>92.963034</td>\n",
       "      <td>15.046941</td>\n",
       "      <td>47.832624</td>\n",
       "      <td>377.840789</td>\n",
       "      <td>50.126257</td>\n",
       "    </tr>\n",
       "    <tr>\n",
       "      <th>std</th>\n",
       "      <td>6949.067972</td>\n",
       "      <td>24305.956566</td>\n",
       "      <td>34.615160</td>\n",
       "      <td>10.064762</td>\n",
       "      <td>27.895350</td>\n",
       "      <td>252.648952</td>\n",
       "      <td>9.919767</td>\n",
       "    </tr>\n",
       "    <tr>\n",
       "      <th>min</th>\n",
       "      <td>2119.894333</td>\n",
       "      <td>10037.000000</td>\n",
       "      <td>61.000000</td>\n",
       "      <td>0.000000</td>\n",
       "      <td>0.000000</td>\n",
       "      <td>0.099007</td>\n",
       "      <td>11.875974</td>\n",
       "    </tr>\n",
       "    <tr>\n",
       "      <th>25%</th>\n",
       "      <td>4090.750678</td>\n",
       "      <td>28432.000000</td>\n",
       "      <td>68.000000</td>\n",
       "      <td>6.000000</td>\n",
       "      <td>24.000000</td>\n",
       "      <td>210.100003</td>\n",
       "      <td>43.449925</td>\n",
       "    </tr>\n",
       "    <tr>\n",
       "      <th>50%</th>\n",
       "      <td>5810.630529</td>\n",
       "      <td>48081.000000</td>\n",
       "      <td>83.000000</td>\n",
       "      <td>14.000000</td>\n",
       "      <td>48.000000</td>\n",
       "      <td>340.800000</td>\n",
       "      <td>50.100924</td>\n",
       "    </tr>\n",
       "    <tr>\n",
       "      <th>75%</th>\n",
       "      <td>9075.768214</td>\n",
       "      <td>70187.000000</td>\n",
       "      <td>109.000000</td>\n",
       "      <td>23.000000</td>\n",
       "      <td>71.000000</td>\n",
       "      <td>498.612632</td>\n",
       "      <td>56.877234</td>\n",
       "    </tr>\n",
       "    <tr>\n",
       "      <th>max</th>\n",
       "      <td>83325.381190</td>\n",
       "      <td>99981.000000</td>\n",
       "      <td>297.000000</td>\n",
       "      <td>35.000000</td>\n",
       "      <td>99.000000</td>\n",
       "      <td>2893.239678</td>\n",
       "      <td>83.387485</td>\n",
       "    </tr>\n",
       "  </tbody>\n",
       "</table>\n",
       "</div>"
      ],
      "text/plain": [
       "                CLV        Income  monthly_premium  months_last_claim  \\\n",
       "count   6817.000000   6817.000000      6817.000000        6817.000000   \n",
       "mean    8130.229340  50456.580461        92.963034          15.046941   \n",
       "std     6949.067972  24305.956566        34.615160          10.064762   \n",
       "min     2119.894333  10037.000000        61.000000           0.000000   \n",
       "25%     4090.750678  28432.000000        68.000000           6.000000   \n",
       "50%     5810.630529  48081.000000        83.000000          14.000000   \n",
       "75%     9075.768214  70187.000000       109.000000          23.000000   \n",
       "max    83325.381190  99981.000000       297.000000          35.000000   \n",
       "\n",
       "       Months_Since_Policy_Inception  Total_Claim_Amount  avg_vehicle_age  \n",
       "count                    6817.000000         6817.000000      6817.000000  \n",
       "mean                       47.832624          377.840789        50.126257  \n",
       "std                        27.895350          252.648952         9.919767  \n",
       "min                         0.000000            0.099007        11.875974  \n",
       "25%                        24.000000          210.100003        43.449925  \n",
       "50%                        48.000000          340.800000        50.100924  \n",
       "75%                        71.000000          498.612632        56.877234  \n",
       "max                        99.000000         2893.239678        83.387485  "
      ]
     },
     "execution_count": 6,
     "metadata": {},
     "output_type": "execute_result"
    }
   ],
   "source": [
    "df.describe()"
   ]
  },
  {
   "cell_type": "code",
   "execution_count": 12,
   "metadata": {},
   "outputs": [
    {
     "data": {
      "text/plain": [
       "<AxesSubplot:xlabel='avg_vehicle_age', ylabel='Density'>"
      ]
     },
     "execution_count": 12,
     "metadata": {},
     "output_type": "execute_result"
    },
    {
     "data": {
      "image/png": "[encoded data removed]",
      "text/plain": [
       "<Figure size 432x288 with 1 Axes>"
      ]
     },
     "metadata": {
      "needs_background": "light"
     },
     "output_type": "display_data"
    }
   ],
   "source": [
    "sns.distplot(df['avg_vehicle_age'], hist=True, hist_kws=dict(ec='k'))"
   ]
  },
  {
   "cell_type": "code",
   "execution_count": 22,
   "metadata": {},
   "outputs": [
    {
     "data": {
      "image/png": "[encoded data removed]",
      "text/plain": [
       "<Figure size 432x288 with 1 Axes>"
      ]
     },
     "metadata": {
      "needs_background": "light"
     },
     "output_type": "display_data"
    }
   ],
   "source": [
    "plot = sm.qqplot(df['avg_vehicle_age'], fit=True, line='45')"
   ]
  },
  {
   "cell_type": "code",
   "execution_count": 23,
   "metadata": {
    "scrolled": true
   },
   "outputs": [
    {
     "data": {
      "text/plain": [
       "<AxesSubplot:xlabel='avg_vehicle_age'>"
      ]
     },
     "execution_count": 23,
     "metadata": {},
     "output_type": "execute_result"
    },
    {
     "data": {
      "image/png": "[encoded data removed]",
      "text/plain": [
       "<Figure size 1080x360 with 1 Axes>"
      ]
     },
     "metadata": {
      "needs_background": "light"
     },
     "output_type": "display_data"
    }
   ],
   "source": [
    "plt.figure(figsize=(15, 5))\n",
    "sns.boxplot(x=\"avg_vehicle_age\", data=df)"
   ]
  },
  {
   "cell_type": "markdown",
   "metadata": {},
   "source": [
    "**Declaring the Hypothesis**\n",
    "    \n",
    "    NULL HYPOTHESIS : Data come from a normal distribution\n",
    "    \n",
    "    ALTERNATE HYPOTHESIS : Data dosen't come from a normal distribution"
   ]
  },
  {
   "cell_type": "code",
   "execution_count": 24,
   "metadata": {},
   "outputs": [
    {
     "name": "stdout",
     "output_type": "stream",
     "text": [
      "Chi2 = 1.04, p-value = 0.593\n"
     ]
    }
   ],
   "source": [
    "chi2, p = stats.normaltest(df['avg_vehicle_age'])\n",
    "print('Chi2 = %.2f, p-value = %.3f'%(chi2, p))"
   ]
  },
  {
   "cell_type": "markdown",
   "metadata": {},
   "source": [
    "     So in this case the p-value is > 0.5 .... so the null Hypothesis is true"
   ]
  },
  {
   "cell_type": "markdown",
   "metadata": {},
   "source": [
    "## Boxcox Transformation"
   ]
  },
  {
   "cell_type": "code",
   "execution_count": 25,
   "metadata": {},
   "outputs": [],
   "source": [
    "from scipy import stats\n",
    "_, l = stats.boxcox(df['avg_vehicle_age'])"
   ]
  },
  {
   "cell_type": "code",
   "execution_count": 27,
   "metadata": {},
   "outputs": [
    {
     "name": "stdout",
     "output_type": "stream",
     "text": [
      "lambda  :  1.0401663194162196\n"
     ]
    }
   ],
   "source": [
    "print('lambda  : ',l) # IF YOUR LAMBDA VALUE IS 1 THEN THE DATA IS NORMALLY DISTRIBUTED"
   ]
  },
  {
   "cell_type": "markdown",
   "metadata": {},
   "source": [
    "# Important table for transformation\n",
    "\n",
    "    Lambda          Transformation\n",
    "    \n",
    "    -2              1/square(input)\n",
    "    -1              1/input\n",
    "    -0.5            1/sqrt(input)\n",
    "    0               log(input)\n",
    "    0.5             sqrt(input)\n",
    "    1               As it is\n",
    "    2               Square(input)\n",
    "    "
   ]
  },
  {
   "cell_type": "markdown",
   "metadata": {},
   "source": [
    "# Income feature"
   ]
  },
  {
   "cell_type": "code",
   "execution_count": 28,
   "metadata": {},
   "outputs": [
    {
     "data": {
      "image/png": "[encoded data removed]",
      "text/plain": [
       "<Figure size 432x288 with 1 Axes>"
      ]
     },
     "metadata": {
      "needs_background": "light"
     },
     "output_type": "display_data"
    }
   ],
   "source": [
    "plot = sm.qqplot(df['Income'], line='45', fit=True)"
   ]
  },
  {
   "cell_type": "code",
   "execution_count": 29,
   "metadata": {},
   "outputs": [
    {
     "data": {
      "text/plain": [
       "<AxesSubplot:xlabel='Income'>"
      ]
     },
     "execution_count": 29,
     "metadata": {},
     "output_type": "execute_result"
    },
    {
     "data": {
      "image/png": "[encoded data removed]",
      "text/plain": [
       "<Figure size 1080x360 with 1 Axes>"
      ]
     },
     "metadata": {
      "needs_background": "light"
     },
     "output_type": "display_data"
    }
   ],
   "source": [
    "plt.figure(figsize=(15,5))\n",
    "sns.boxplot(x=\"Income\", data=df)"
   ]
  },
  {
   "cell_type": "code",
   "execution_count": 34,
   "metadata": {},
   "outputs": [
    {
     "name": "stderr",
     "output_type": "stream",
     "text": [
      "d:\\anacondafiles\\envs\\deeplearning\\lib\\site-packages\\seaborn\\distributions.py:2551: FutureWarning: `distplot` is a deprecated function and will be removed in a future version. Please adapt your code to use either `displot` (a figure-level function with similar flexibility) or `histplot` (an axes-level function for histograms).\n",
      "  warnings.warn(msg, FutureWarning)\n"
     ]
    },
    {
     "data": {
      "text/plain": [
       "<AxesSubplot:xlabel='Income', ylabel='Density'>"
      ]
     },
     "execution_count": 34,
     "metadata": {},
     "output_type": "execute_result"
    },
    {
     "data": {
      "image/png": "[encoded data removed]",
      "text/plain": [
       "<Figure size 432x288 with 1 Axes>"
      ]
     },
     "metadata": {
      "needs_background": "light"
     },
     "output_type": "display_data"
    }
   ],
   "source": [
    "sns.distplot(df['Income'], hist=True)"
   ]
  },
  {
   "cell_type": "code",
   "execution_count": 35,
   "metadata": {
    "scrolled": true
   },
   "outputs": [
    {
     "data": {
      "text/plain": [
       "AndersonResult(statistic=94.67577589421035, critical_values=array([0.576, 0.656, 0.787, 0.917, 1.091]), significance_level=array([15. , 10. ,  5. ,  2.5,  1. ]))"
      ]
     },
     "execution_count": 35,
     "metadata": {},
     "output_type": "execute_result"
    }
   ],
   "source": [
    "stats.anderson(df['Income'], dist='norm')"
   ]
  },
  {
   "cell_type": "markdown",
   "metadata": {},
   "source": [
    "**Anderson test shows that the critical value of 5 which is 0.787 is smaller than the statistic value which is 94.67 so we will reject the null hypothesis**"
   ]
  },
  {
   "cell_type": "markdown",
   "metadata": {},
   "source": [
    "## Boxcox transformation"
   ]
  },
  {
   "cell_type": "code",
   "execution_count": 36,
   "metadata": {},
   "outputs": [
    {
     "name": "stdout",
     "output_type": "stream",
     "text": [
      " l  0.44437538279540056\n"
     ]
    }
   ],
   "source": [
    "_, l = stats.boxcox(df['Income'])\n",
    "print(' l ', l)"
   ]
  },
  {
   "cell_type": "code",
   "execution_count": 42,
   "metadata": {},
   "outputs": [
    {
     "name": "stderr",
     "output_type": "stream",
     "text": [
      "d:\\anacondafiles\\envs\\deeplearning\\lib\\site-packages\\seaborn\\distributions.py:2551: FutureWarning: `distplot` is a deprecated function and will be removed in a future version. Please adapt your code to use either `displot` (a figure-level function with similar flexibility) or `histplot` (an axes-level function for histograms).\n",
      "  warnings.warn(msg, FutureWarning)\n"
     ]
    },
    {
     "data": {
      "text/plain": [
       "<AxesSubplot:xlabel='Income', ylabel='Density'>"
      ]
     },
     "execution_count": 42,
     "metadata": {},
     "output_type": "execute_result"
    },
    {
     "data": {
      "image/png": "[encoded data removed]",
      "text/plain": [
       "<Figure size 432x288 with 1 Axes>"
      ]
     },
     "metadata": {
      "needs_background": "light"
     },
     "output_type": "display_data"
    }
   ],
   "source": [
    "sns.distplot(np.sqrt(df['Income']), hist=True)"
   ]
  },
  {
   "cell_type": "code",
   "execution_count": 43,
   "metadata": {},
   "outputs": [
    {
     "name": "stderr",
     "output_type": "stream",
     "text": [
      "d:\\anacondafiles\\envs\\deeplearning\\lib\\site-packages\\seaborn\\distributions.py:2551: FutureWarning: `distplot` is a deprecated function and will be removed in a future version. Please adapt your code to use either `displot` (a figure-level function with similar flexibility) or `histplot` (an axes-level function for histograms).\n",
      "  warnings.warn(msg, FutureWarning)\n"
     ]
    },
    {
     "data": {
      "text/plain": [
       "<AxesSubplot:xlabel='Income', ylabel='Density'>"
      ]
     },
     "execution_count": 43,
     "metadata": {},
     "output_type": "execute_result"
    },
    {
     "data": {
      "image/png": "[encoded data removed]",
      "text/plain": [
       "<Figure size 432x288 with 1 Axes>"
      ]
     },
     "metadata": {
      "needs_background": "light"
     },
     "output_type": "display_data"
    }
   ],
   "source": [
    "sns.distplot(df['Income'].apply(lambda x : np.power(x, l)), hist=True)"
   ]
  },
  {
   "cell_type": "code",
   "execution_count": 44,
   "metadata": {},
   "outputs": [
    {
     "data": {
      "text/plain": [
       "(array([128.09819109, 120.14015208, 114.53556654, ..., 142.98627724,\n",
       "         83.36466029,  83.94694497]),\n",
       " 1.0000001881629772)"
      ]
     },
     "execution_count": 44,
     "metadata": {},
     "output_type": "execute_result"
    }
   ],
   "source": [
    "stats.boxcox(df['Income'].apply(lambda x : np.power(x, l)))"
   ]
  },
  {
   "cell_type": "markdown",
   "metadata": {},
   "source": [
    "**Now the boxcox lambda value is giving 1 ...so it is now normally distributed**"
   ]
  },
  {
   "cell_type": "markdown",
   "metadata": {},
   "source": [
    "# CLV column"
   ]
  },
  {
   "cell_type": "code",
   "execution_count": 51,
   "metadata": {},
   "outputs": [
    {
     "data": {
      "text/plain": [
       "<AxesSubplot:xlabel='CLV'>"
      ]
     },
     "execution_count": 51,
     "metadata": {},
     "output_type": "execute_result"
    },
    {
     "data": {
      "image/png": "[encoded data removed]",
      "text/plain": [
       "<Figure size 1080x288 with 1 Axes>"
      ]
     },
     "metadata": {
      "needs_background": "light"
     },
     "output_type": "display_data"
    }
   ],
   "source": [
    "plt.figure(figsize=(15,4))\n",
    "sns.boxplot(x='CLV', data=df)"
   ]
  },
  {
   "cell_type": "code",
   "execution_count": 50,
   "metadata": {},
   "outputs": [
    {
     "name": "stderr",
     "output_type": "stream",
     "text": [
      "d:\\anacondafiles\\envs\\deeplearning\\lib\\site-packages\\seaborn\\distributions.py:2551: FutureWarning: `distplot` is a deprecated function and will be removed in a future version. Please adapt your code to use either `displot` (a figure-level function with similar flexibility) or `histplot` (an axes-level function for histograms).\n",
      "  warnings.warn(msg, FutureWarning)\n"
     ]
    },
    {
     "data": {
      "text/plain": [
       "<AxesSubplot:xlabel='CLV', ylabel='Density'>"
      ]
     },
     "execution_count": 50,
     "metadata": {},
     "output_type": "execute_result"
    },
    {
     "data": {
      "image/png": "[encoded data removed]",
      "text/plain": [
       "<Figure size 432x288 with 1 Axes>"
      ]
     },
     "metadata": {
      "needs_background": "light"
     },
     "output_type": "display_data"
    }
   ],
   "source": [
    "sns.distplot(df['CLV'], bins=50)"
   ]
  },
  {
   "cell_type": "code",
   "execution_count": 52,
   "metadata": {},
   "outputs": [
    {
     "name": "stdout",
     "output_type": "stream",
     "text": [
      "-0.3628046005612987\n"
     ]
    }
   ],
   "source": [
    "_, l = stats.boxcox(df['CLV'])\n",
    "print(l)"
   ]
  },
  {
   "cell_type": "code",
   "execution_count": 53,
   "metadata": {},
   "outputs": [
    {
     "name": "stderr",
     "output_type": "stream",
     "text": [
      "d:\\anacondafiles\\envs\\deeplearning\\lib\\site-packages\\seaborn\\distributions.py:2551: FutureWarning: `distplot` is a deprecated function and will be removed in a future version. Please adapt your code to use either `displot` (a figure-level function with similar flexibility) or `histplot` (an axes-level function for histograms).\n",
      "  warnings.warn(msg, FutureWarning)\n"
     ]
    },
    {
     "data": {
      "text/plain": [
       "<AxesSubplot:xlabel='CLV', ylabel='Density'>"
      ]
     },
     "execution_count": 53,
     "metadata": {},
     "output_type": "execute_result"
    },
    {
     "data": {
      "image/png": "[encoded data removed]",
      "text/plain": [
       "<Figure size 432x288 with 1 Axes>"
      ]
     },
     "metadata": {
      "needs_background": "light"
     },
     "output_type": "display_data"
    }
   ],
   "source": [
    "sns.distplot(df['CLV'].apply(lambda x:1/np.power(x, np.abs(l))), bins=50)"
   ]
  },
  {
   "cell_type": "code",
   "execution_count": 54,
   "metadata": {},
   "outputs": [
    {
     "name": "stdout",
     "output_type": "stream",
     "text": [
      "0.9999998972585702\n"
     ]
    }
   ],
   "source": [
    "_, l = stats.boxcox(df['CLV'].apply(lambda x : 1/np.power(x, np.abs(l))))\n",
    "print(l)"
   ]
  },
  {
   "cell_type": "code",
   "execution_count": null,
   "metadata": {},
   "outputs": [],
   "source": []
  }
 ],
 "metadata": {
  "kernelspec": {
   "display_name": "Python 3",
   "language": "python",
   "name": "python3"
  },
  "language_info": {
   "codemirror_mode": {
    "name": "ipython",
    "version": 3
   },
   "file_extension": ".py",
   "mimetype": "text/x-python",
   "name": "python",
   "nbconvert_exporter": "python",
   "pygments_lexer": "ipython3",
   "version": "3.7.9"
  }
 },
 "nbformat": 4,
 "nbformat_minor": 4
}
